{
  "nbformat": 4,
  "nbformat_minor": 0,
  "metadata": {
    "colab": {
      "name": "Sq2Sq.ipynb",
      "provenance": [],
      "collapsed_sections": []
    },
    "kernelspec": {
      "name": "python3",
      "display_name": "Python 3"
    },
    "language_info": {
      "name": "python"
    },
    "accelerator": "GPU"
  },
  "cells": [
    {
      "cell_type": "code",
      "execution_count": null,
      "metadata": {
        "colab": {
          "base_uri": "https://localhost:8080/"
        },
        "id": "OqDb0c5bnGFY",
        "outputId": "b6880d0b-1590-4090-8db8-6c2f133f6a29"
      },
      "outputs": [
        {
          "output_type": "stream",
          "name": "stdout",
          "text": [
            "Collecting wandb\n",
            "  Downloading wandb-0.12.16-py2.py3-none-any.whl (1.8 MB)\n",
            "\u001b[?25l\r\u001b[K     |▏                               | 10 kB 34.6 MB/s eta 0:00:01\r\u001b[K     |▍                               | 20 kB 40.7 MB/s eta 0:00:01\r\u001b[K     |▌                               | 30 kB 33.5 MB/s eta 0:00:01\r\u001b[K     |▊                               | 40 kB 25.0 MB/s eta 0:00:01\r\u001b[K     |█                               | 51 kB 27.5 MB/s eta 0:00:01\r\u001b[K     |█                               | 61 kB 31.0 MB/s eta 0:00:01\r\u001b[K     |█▎                              | 71 kB 22.7 MB/s eta 0:00:01\r\u001b[K     |█▌                              | 81 kB 24.5 MB/s eta 0:00:01\r\u001b[K     |█▋                              | 92 kB 26.4 MB/s eta 0:00:01\r\u001b[K     |█▉                              | 102 kB 27.3 MB/s eta 0:00:01\r\u001b[K     |██                              | 112 kB 27.3 MB/s eta 0:00:01\r\u001b[K     |██▏                             | 122 kB 27.3 MB/s eta 0:00:01\r\u001b[K     |██▍                             | 133 kB 27.3 MB/s eta 0:00:01\r\u001b[K     |██▋                             | 143 kB 27.3 MB/s eta 0:00:01\r\u001b[K     |██▊                             | 153 kB 27.3 MB/s eta 0:00:01\r\u001b[K     |███                             | 163 kB 27.3 MB/s eta 0:00:01\r\u001b[K     |███▏                            | 174 kB 27.3 MB/s eta 0:00:01\r\u001b[K     |███▎                            | 184 kB 27.3 MB/s eta 0:00:01\r\u001b[K     |███▌                            | 194 kB 27.3 MB/s eta 0:00:01\r\u001b[K     |███▋                            | 204 kB 27.3 MB/s eta 0:00:01\r\u001b[K     |███▉                            | 215 kB 27.3 MB/s eta 0:00:01\r\u001b[K     |████                            | 225 kB 27.3 MB/s eta 0:00:01\r\u001b[K     |████▏                           | 235 kB 27.3 MB/s eta 0:00:01\r\u001b[K     |████▍                           | 245 kB 27.3 MB/s eta 0:00:01\r\u001b[K     |████▋                           | 256 kB 27.3 MB/s eta 0:00:01\r\u001b[K     |████▊                           | 266 kB 27.3 MB/s eta 0:00:01\r\u001b[K     |█████                           | 276 kB 27.3 MB/s eta 0:00:01\r\u001b[K     |█████▏                          | 286 kB 27.3 MB/s eta 0:00:01\r\u001b[K     |█████▎                          | 296 kB 27.3 MB/s eta 0:00:01\r\u001b[K     |█████▌                          | 307 kB 27.3 MB/s eta 0:00:01\r\u001b[K     |█████▊                          | 317 kB 27.3 MB/s eta 0:00:01\r\u001b[K     |█████▉                          | 327 kB 27.3 MB/s eta 0:00:01\r\u001b[K     |██████                          | 337 kB 27.3 MB/s eta 0:00:01\r\u001b[K     |██████▎                         | 348 kB 27.3 MB/s eta 0:00:01\r\u001b[K     |██████▍                         | 358 kB 27.3 MB/s eta 0:00:01\r\u001b[K     |██████▋                         | 368 kB 27.3 MB/s eta 0:00:01\r\u001b[K     |██████▉                         | 378 kB 27.3 MB/s eta 0:00:01\r\u001b[K     |███████                         | 389 kB 27.3 MB/s eta 0:00:01\r\u001b[K     |███████▏                        | 399 kB 27.3 MB/s eta 0:00:01\r\u001b[K     |███████▎                        | 409 kB 27.3 MB/s eta 0:00:01\r\u001b[K     |███████▌                        | 419 kB 27.3 MB/s eta 0:00:01\r\u001b[K     |███████▊                        | 430 kB 27.3 MB/s eta 0:00:01\r\u001b[K     |███████▉                        | 440 kB 27.3 MB/s eta 0:00:01\r\u001b[K     |████████                        | 450 kB 27.3 MB/s eta 0:00:01\r\u001b[K     |████████▎                       | 460 kB 27.3 MB/s eta 0:00:01\r\u001b[K     |████████▍                       | 471 kB 27.3 MB/s eta 0:00:01\r\u001b[K     |████████▋                       | 481 kB 27.3 MB/s eta 0:00:01\r\u001b[K     |████████▉                       | 491 kB 27.3 MB/s eta 0:00:01\r\u001b[K     |█████████                       | 501 kB 27.3 MB/s eta 0:00:01\r\u001b[K     |█████████▏                      | 512 kB 27.3 MB/s eta 0:00:01\r\u001b[K     |█████████▍                      | 522 kB 27.3 MB/s eta 0:00:01\r\u001b[K     |█████████▌                      | 532 kB 27.3 MB/s eta 0:00:01\r\u001b[K     |█████████▊                      | 542 kB 27.3 MB/s eta 0:00:01\r\u001b[K     |██████████                      | 552 kB 27.3 MB/s eta 0:00:01\r\u001b[K     |██████████                      | 563 kB 27.3 MB/s eta 0:00:01\r\u001b[K     |██████████▎                     | 573 kB 27.3 MB/s eta 0:00:01\r\u001b[K     |██████████▌                     | 583 kB 27.3 MB/s eta 0:00:01\r\u001b[K     |██████████▋                     | 593 kB 27.3 MB/s eta 0:00:01\r\u001b[K     |██████████▉                     | 604 kB 27.3 MB/s eta 0:00:01\r\u001b[K     |███████████                     | 614 kB 27.3 MB/s eta 0:00:01\r\u001b[K     |███████████▏                    | 624 kB 27.3 MB/s eta 0:00:01\r\u001b[K     |███████████▍                    | 634 kB 27.3 MB/s eta 0:00:01\r\u001b[K     |███████████▌                    | 645 kB 27.3 MB/s eta 0:00:01\r\u001b[K     |███████████▊                    | 655 kB 27.3 MB/s eta 0:00:01\r\u001b[K     |████████████                    | 665 kB 27.3 MB/s eta 0:00:01\r\u001b[K     |████████████                    | 675 kB 27.3 MB/s eta 0:00:01\r\u001b[K     |████████████▎                   | 686 kB 27.3 MB/s eta 0:00:01\r\u001b[K     |████████████▌                   | 696 kB 27.3 MB/s eta 0:00:01\r\u001b[K     |████████████▋                   | 706 kB 27.3 MB/s eta 0:00:01\r\u001b[K     |████████████▉                   | 716 kB 27.3 MB/s eta 0:00:01\r\u001b[K     |█████████████                   | 727 kB 27.3 MB/s eta 0:00:01\r\u001b[K     |█████████████▏                  | 737 kB 27.3 MB/s eta 0:00:01\r\u001b[K     |█████████████▍                  | 747 kB 27.3 MB/s eta 0:00:01\r\u001b[K     |█████████████▋                  | 757 kB 27.3 MB/s eta 0:00:01\r\u001b[K     |█████████████▊                  | 768 kB 27.3 MB/s eta 0:00:01\r\u001b[K     |██████████████                  | 778 kB 27.3 MB/s eta 0:00:01\r\u001b[K     |██████████████▏                 | 788 kB 27.3 MB/s eta 0:00:01\r\u001b[K     |██████████████▎                 | 798 kB 27.3 MB/s eta 0:00:01\r\u001b[K     |██████████████▌                 | 808 kB 27.3 MB/s eta 0:00:01\r\u001b[K     |██████████████▋                 | 819 kB 27.3 MB/s eta 0:00:01\r\u001b[K     |██████████████▉                 | 829 kB 27.3 MB/s eta 0:00:01\r\u001b[K     |███████████████                 | 839 kB 27.3 MB/s eta 0:00:01\r\u001b[K     |███████████████▏                | 849 kB 27.3 MB/s eta 0:00:01\r\u001b[K     |███████████████▍                | 860 kB 27.3 MB/s eta 0:00:01\r\u001b[K     |███████████████▋                | 870 kB 27.3 MB/s eta 0:00:01\r\u001b[K     |███████████████▊                | 880 kB 27.3 MB/s eta 0:00:01\r\u001b[K     |████████████████                | 890 kB 27.3 MB/s eta 0:00:01\r\u001b[K     |████████████████▏               | 901 kB 27.3 MB/s eta 0:00:01\r\u001b[K     |████████████████▎               | 911 kB 27.3 MB/s eta 0:00:01\r\u001b[K     |████████████████▌               | 921 kB 27.3 MB/s eta 0:00:01\r\u001b[K     |████████████████▊               | 931 kB 27.3 MB/s eta 0:00:01\r\u001b[K     |████████████████▉               | 942 kB 27.3 MB/s eta 0:00:01\r\u001b[K     |█████████████████               | 952 kB 27.3 MB/s eta 0:00:01\r\u001b[K     |█████████████████▎              | 962 kB 27.3 MB/s eta 0:00:01\r\u001b[K     |█████████████████▍              | 972 kB 27.3 MB/s eta 0:00:01\r\u001b[K     |█████████████████▋              | 983 kB 27.3 MB/s eta 0:00:01\r\u001b[K     |█████████████████▉              | 993 kB 27.3 MB/s eta 0:00:01\r\u001b[K     |██████████████████              | 1.0 MB 27.3 MB/s eta 0:00:01\r\u001b[K     |██████████████████▏             | 1.0 MB 27.3 MB/s eta 0:00:01\r\u001b[K     |██████████████████▎             | 1.0 MB 27.3 MB/s eta 0:00:01\r\u001b[K     |██████████████████▌             | 1.0 MB 27.3 MB/s eta 0:00:01\r\u001b[K     |██████████████████▊             | 1.0 MB 27.3 MB/s eta 0:00:01\r\u001b[K     |██████████████████▉             | 1.1 MB 27.3 MB/s eta 0:00:01\r\u001b[K     |███████████████████             | 1.1 MB 27.3 MB/s eta 0:00:01\r\u001b[K     |███████████████████▎            | 1.1 MB 27.3 MB/s eta 0:00:01\r\u001b[K     |███████████████████▍            | 1.1 MB 27.3 MB/s eta 0:00:01\r\u001b[K     |███████████████████▋            | 1.1 MB 27.3 MB/s eta 0:00:01\r\u001b[K     |███████████████████▉            | 1.1 MB 27.3 MB/s eta 0:00:01\r\u001b[K     |████████████████████            | 1.1 MB 27.3 MB/s eta 0:00:01\r\u001b[K     |████████████████████▏           | 1.1 MB 27.3 MB/s eta 0:00:01\r\u001b[K     |████████████████████▍           | 1.1 MB 27.3 MB/s eta 0:00:01\r\u001b[K     |████████████████████▌           | 1.1 MB 27.3 MB/s eta 0:00:01\r\u001b[K     |████████████████████▊           | 1.2 MB 27.3 MB/s eta 0:00:01\r\u001b[K     |█████████████████████           | 1.2 MB 27.3 MB/s eta 0:00:01\r\u001b[K     |█████████████████████           | 1.2 MB 27.3 MB/s eta 0:00:01\r\u001b[K     |█████████████████████▎          | 1.2 MB 27.3 MB/s eta 0:00:01\r\u001b[K     |█████████████████████▌          | 1.2 MB 27.3 MB/s eta 0:00:01\r\u001b[K     |█████████████████████▋          | 1.2 MB 27.3 MB/s eta 0:00:01\r\u001b[K     |█████████████████████▉          | 1.2 MB 27.3 MB/s eta 0:00:01\r\u001b[K     |██████████████████████          | 1.2 MB 27.3 MB/s eta 0:00:01\r\u001b[K     |██████████████████████▏         | 1.2 MB 27.3 MB/s eta 0:00:01\r\u001b[K     |██████████████████████▍         | 1.2 MB 27.3 MB/s eta 0:00:01\r\u001b[K     |██████████████████████▌         | 1.3 MB 27.3 MB/s eta 0:00:01\r\u001b[K     |██████████████████████▊         | 1.3 MB 27.3 MB/s eta 0:00:01\r\u001b[K     |███████████████████████         | 1.3 MB 27.3 MB/s eta 0:00:01\r\u001b[K     |███████████████████████         | 1.3 MB 27.3 MB/s eta 0:00:01\r\u001b[K     |███████████████████████▎        | 1.3 MB 27.3 MB/s eta 0:00:01\r\u001b[K     |███████████████████████▌        | 1.3 MB 27.3 MB/s eta 0:00:01\r\u001b[K     |███████████████████████▋        | 1.3 MB 27.3 MB/s eta 0:00:01\r\u001b[K     |███████████████████████▉        | 1.3 MB 27.3 MB/s eta 0:00:01\r\u001b[K     |████████████████████████        | 1.3 MB 27.3 MB/s eta 0:00:01\r\u001b[K     |████████████████████████▏       | 1.4 MB 27.3 MB/s eta 0:00:01\r\u001b[K     |████████████████████████▍       | 1.4 MB 27.3 MB/s eta 0:00:01\r\u001b[K     |████████████████████████▋       | 1.4 MB 27.3 MB/s eta 0:00:01\r\u001b[K     |████████████████████████▊       | 1.4 MB 27.3 MB/s eta 0:00:01\r\u001b[K     |█████████████████████████       | 1.4 MB 27.3 MB/s eta 0:00:01\r\u001b[K     |█████████████████████████▏      | 1.4 MB 27.3 MB/s eta 0:00:01\r\u001b[K     |█████████████████████████▎      | 1.4 MB 27.3 MB/s eta 0:00:01\r\u001b[K     |█████████████████████████▌      | 1.4 MB 27.3 MB/s eta 0:00:01\r\u001b[K     |█████████████████████████▋      | 1.4 MB 27.3 MB/s eta 0:00:01\r\u001b[K     |█████████████████████████▉      | 1.4 MB 27.3 MB/s eta 0:00:01\r\u001b[K     |██████████████████████████      | 1.5 MB 27.3 MB/s eta 0:00:01\r\u001b[K     |██████████████████████████▏     | 1.5 MB 27.3 MB/s eta 0:00:01\r\u001b[K     |██████████████████████████▍     | 1.5 MB 27.3 MB/s eta 0:00:01\r\u001b[K     |██████████████████████████▋     | 1.5 MB 27.3 MB/s eta 0:00:01\r\u001b[K     |██████████████████████████▊     | 1.5 MB 27.3 MB/s eta 0:00:01\r\u001b[K     |███████████████████████████     | 1.5 MB 27.3 MB/s eta 0:00:01\r\u001b[K     |███████████████████████████▏    | 1.5 MB 27.3 MB/s eta 0:00:01\r\u001b[K     |███████████████████████████▎    | 1.5 MB 27.3 MB/s eta 0:00:01\r\u001b[K     |███████████████████████████▌    | 1.5 MB 27.3 MB/s eta 0:00:01\r\u001b[K     |███████████████████████████▊    | 1.5 MB 27.3 MB/s eta 0:00:01\r\u001b[K     |███████████████████████████▉    | 1.6 MB 27.3 MB/s eta 0:00:01\r\u001b[K     |████████████████████████████    | 1.6 MB 27.3 MB/s eta 0:00:01\r\u001b[K     |████████████████████████████▎   | 1.6 MB 27.3 MB/s eta 0:00:01\r\u001b[K     |████████████████████████████▍   | 1.6 MB 27.3 MB/s eta 0:00:01\r\u001b[K     |████████████████████████████▋   | 1.6 MB 27.3 MB/s eta 0:00:01\r\u001b[K     |████████████████████████████▉   | 1.6 MB 27.3 MB/s eta 0:00:01\r\u001b[K     |█████████████████████████████   | 1.6 MB 27.3 MB/s eta 0:00:01\r\u001b[K     |█████████████████████████████▏  | 1.6 MB 27.3 MB/s eta 0:00:01\r\u001b[K     |█████████████████████████████▎  | 1.6 MB 27.3 MB/s eta 0:00:01\r\u001b[K     |█████████████████████████████▌  | 1.6 MB 27.3 MB/s eta 0:00:01\r\u001b[K     |█████████████████████████████▊  | 1.7 MB 27.3 MB/s eta 0:00:01\r\u001b[K     |█████████████████████████████▉  | 1.7 MB 27.3 MB/s eta 0:00:01\r\u001b[K     |██████████████████████████████  | 1.7 MB 27.3 MB/s eta 0:00:01\r\u001b[K     |██████████████████████████████▎ | 1.7 MB 27.3 MB/s eta 0:00:01\r\u001b[K     |██████████████████████████████▍ | 1.7 MB 27.3 MB/s eta 0:00:01\r\u001b[K     |██████████████████████████████▋ | 1.7 MB 27.3 MB/s eta 0:00:01\r\u001b[K     |██████████████████████████████▉ | 1.7 MB 27.3 MB/s eta 0:00:01\r\u001b[K     |███████████████████████████████ | 1.7 MB 27.3 MB/s eta 0:00:01\r\u001b[K     |███████████████████████████████▏| 1.7 MB 27.3 MB/s eta 0:00:01\r\u001b[K     |███████████████████████████████▍| 1.8 MB 27.3 MB/s eta 0:00:01\r\u001b[K     |███████████████████████████████▌| 1.8 MB 27.3 MB/s eta 0:00:01\r\u001b[K     |███████████████████████████████▊| 1.8 MB 27.3 MB/s eta 0:00:01\r\u001b[K     |████████████████████████████████| 1.8 MB 27.3 MB/s eta 0:00:01\r\u001b[K     |████████████████████████████████| 1.8 MB 27.3 MB/s \n",
            "\u001b[?25hRequirement already satisfied: protobuf>=3.12.0 in /usr/local/lib/python3.7/dist-packages (from wandb) (3.17.3)\n",
            "Requirement already satisfied: setuptools in /usr/local/lib/python3.7/dist-packages (from wandb) (57.4.0)\n",
            "Collecting GitPython>=1.0.0\n",
            "  Downloading GitPython-3.1.27-py3-none-any.whl (181 kB)\n",
            "\u001b[K     |████████████████████████████████| 181 kB 67.6 MB/s \n",
            "\u001b[?25hRequirement already satisfied: promise<3,>=2.0 in /usr/local/lib/python3.7/dist-packages (from wandb) (2.3)\n",
            "Requirement already satisfied: Click!=8.0.0,>=7.0 in /usr/local/lib/python3.7/dist-packages (from wandb) (7.1.2)\n",
            "Collecting shortuuid>=0.5.0\n",
            "  Downloading shortuuid-1.0.9-py3-none-any.whl (9.4 kB)\n",
            "Collecting pathtools\n",
            "  Downloading pathtools-0.1.2.tar.gz (11 kB)\n",
            "Requirement already satisfied: PyYAML in /usr/local/lib/python3.7/dist-packages (from wandb) (3.13)\n",
            "Collecting setproctitle\n",
            "  Downloading setproctitle-1.2.3-cp37-cp37m-manylinux_2_5_x86_64.manylinux1_x86_64.manylinux_2_17_x86_64.manylinux2014_x86_64.whl (29 kB)\n",
            "Requirement already satisfied: six>=1.13.0 in /usr/local/lib/python3.7/dist-packages (from wandb) (1.15.0)\n",
            "Collecting docker-pycreds>=0.4.0\n",
            "  Downloading docker_pycreds-0.4.0-py2.py3-none-any.whl (9.0 kB)\n",
            "Requirement already satisfied: psutil>=5.0.0 in /usr/local/lib/python3.7/dist-packages (from wandb) (5.4.8)\n",
            "Collecting sentry-sdk>=1.0.0\n",
            "  Downloading sentry_sdk-1.5.12-py2.py3-none-any.whl (145 kB)\n",
            "\u001b[K     |████████████████████████████████| 145 kB 66.3 MB/s \n",
            "\u001b[?25hRequirement already satisfied: python-dateutil>=2.6.1 in /usr/local/lib/python3.7/dist-packages (from wandb) (2.8.2)\n",
            "Requirement already satisfied: requests<3,>=2.0.0 in /usr/local/lib/python3.7/dist-packages (from wandb) (2.23.0)\n",
            "Requirement already satisfied: typing-extensions>=3.7.4.3 in /usr/local/lib/python3.7/dist-packages (from GitPython>=1.0.0->wandb) (4.2.0)\n",
            "Collecting gitdb<5,>=4.0.1\n",
            "  Downloading gitdb-4.0.9-py3-none-any.whl (63 kB)\n",
            "\u001b[K     |████████████████████████████████| 63 kB 2.2 MB/s \n",
            "\u001b[?25hCollecting smmap<6,>=3.0.1\n",
            "  Downloading smmap-5.0.0-py3-none-any.whl (24 kB)\n",
            "Requirement already satisfied: idna<3,>=2.5 in /usr/local/lib/python3.7/dist-packages (from requests<3,>=2.0.0->wandb) (2.10)\n",
            "Requirement already satisfied: certifi>=2017.4.17 in /usr/local/lib/python3.7/dist-packages (from requests<3,>=2.0.0->wandb) (2021.10.8)\n",
            "Requirement already satisfied: chardet<4,>=3.0.2 in /usr/local/lib/python3.7/dist-packages (from requests<3,>=2.0.0->wandb) (3.0.4)\n",
            "Requirement already satisfied: urllib3!=1.25.0,!=1.25.1,<1.26,>=1.21.1 in /usr/local/lib/python3.7/dist-packages (from requests<3,>=2.0.0->wandb) (1.24.3)\n",
            "Building wheels for collected packages: pathtools\n",
            "  Building wheel for pathtools (setup.py) ... \u001b[?25l\u001b[?25hdone\n",
            "  Created wheel for pathtools: filename=pathtools-0.1.2-py3-none-any.whl size=8806 sha256=da0a5549ef1211e01c45bc06fdff6e50dae278a696ba3fa8757bc1f5997e34ae\n",
            "  Stored in directory: /root/.cache/pip/wheels/3e/31/09/fa59cef12cdcfecc627b3d24273699f390e71828921b2cbba2\n",
            "Successfully built pathtools\n",
            "Installing collected packages: smmap, gitdb, shortuuid, setproctitle, sentry-sdk, pathtools, GitPython, docker-pycreds, wandb\n",
            "Successfully installed GitPython-3.1.27 docker-pycreds-0.4.0 gitdb-4.0.9 pathtools-0.1.2 sentry-sdk-1.5.12 setproctitle-1.2.3 shortuuid-1.0.9 smmap-5.0.0 wandb-0.12.16\n",
            "--2022-05-12 10:03:14--  https://storage.googleapis.com/gresearch/dakshina/dakshina_dataset_v1.0.tar\n",
            "Resolving storage.googleapis.com (storage.googleapis.com)... 172.253.62.128, 172.253.115.128, 172.253.122.128, ...\n",
            "Connecting to storage.googleapis.com (storage.googleapis.com)|172.253.62.128|:443... connected.\n",
            "HTTP request sent, awaiting response... 200 OK\n",
            "Length: 2008340480 (1.9G) [application/x-tar]\n",
            "Saving to: ‘dakshina_dataset_v1.0.tar’\n",
            "\n",
            "dakshina_dataset_v1 100%[===================>]   1.87G  46.5MB/s    in 32s     \n",
            "\n",
            "2022-05-12 10:03:46 (60.0 MB/s) - ‘dakshina_dataset_v1.0.tar’ saved [2008340480/2008340480]\n",
            "\n"
          ]
        }
      ],
      "source": [
        "!pip install wandb\n",
        "\n",
        "!wget https://storage.googleapis.com/gresearch/dakshina/dakshina_dataset_v1.0.tar\n",
        "\n",
        "!tar -xf dakshina_dataset_v1.0.tar"
      ]
    },
    {
      "cell_type": "code",
      "source": [
        "import numpy as np\n",
        "import matplotlib.pyplot as plt\n",
        "import pandas as pd\n",
        "import os\n",
        "import cv2\n",
        "import pathlib\n",
        "\n",
        "DATAPATH = \"./dakshina_dataset_v1.0\"\n",
        "\n",
        "trainpath = os.path.join(DATAPATH, \"hi\", \"lexicons\", \"hi\"+\".translit.sampled.train.tsv\")\n",
        "valpath = os.path.join(DATAPATH, \"hi\", \"lexicons\", \"hi\"+\".translit.sampled.dev.tsv\")\n",
        "testpath = os.path.join(DATAPATH, \"hi\", \"lexicons\", \"hi\"+\".translit.sampled.test.tsv\")\n",
        "train = pd.read_csv(\n",
        "    trainpath,\n",
        "    sep=\"\\t\",\n",
        "    names=[\"tgt\", \"src\", \"count\"],\n",
        ")\n",
        "val = pd.read_csv(\n",
        "    valpath,\n",
        "    sep=\"\\t\",\n",
        "    names=[\"tgt\", \"src\", \"count\"],\n",
        ")\n",
        "test = pd.read_csv(\n",
        "    testpath,\n",
        "    sep=\"\\t\",\n",
        "    names=[\"tgt\", \"src\", \"count\"],\n",
        ")\n",
        "\n",
        "\n",
        "\n",
        "# create train data\n",
        "#train_data = preprocess(list(train[\"src\"]), list(train[\"tgt\"]))"
      ],
      "metadata": {
        "id": "D-pfjLd_nHAW"
      },
      "execution_count": null,
      "outputs": []
    },
    {
      "cell_type": "code",
      "source": [
        "source=list(train[\"src\"])\n",
        "target=list(train[\"tgt\"])\n",
        "\n",
        "source_chars = set()\n",
        "target_chars = set()\n",
        "\n",
        "#removing non str nan types\n",
        "source = [str(x) for x in source]\n",
        "target = [str(x) for x in target]\n",
        "\n",
        "source_words = []\n",
        "target_words = []\n",
        "\n",
        "for src, tgt in zip(source, target):\n",
        "    tgt = \"\\t\" + tgt + \"\\n\"\n",
        "    source_words.append(src)\n",
        "    target_words.append(tgt)\n",
        "    for char in src:\n",
        "        if char not in source_chars:\n",
        "            source_chars.add(char)\n",
        "    for char in tgt:\n",
        "        if char not in target_chars:\n",
        "            target_chars.add(char)\n",
        "\n",
        "source_chars = sorted(list(source_chars))\n",
        "target_chars = sorted(list(target_chars))\n",
        "\n",
        "#The space needs to be appended so that the encode function doesn't throw errors\n",
        "source_chars.append(\" \")\n",
        "target_chars.append(\" \")\n",
        "\n",
        "num_encoder_tokens = len(source_chars)\n",
        "num_decoder_tokens = len(target_chars)\n",
        "max_source_length = max([len(txt) for txt in source_words])\n",
        "max_target_length = max([len(txt) for txt in target_words])\n",
        "\n",
        "print(\"Number of samples:\", len(source))\n",
        "print(\"Source Vocab length:\", num_encoder_tokens)\n",
        "print(\"Target Vocab length:\", num_decoder_tokens)\n",
        "print(\"Max sequence length for inputs:\", max_source_length)\n",
        "print(\"Max sequence length for outputs:\", max_target_length)\n"
      ],
      "metadata": {
        "colab": {
          "base_uri": "https://localhost:8080/"
        },
        "id": "jidGuclVn-WC",
        "outputId": "915f214b-8d1e-4a78-f9df-5902874951e5"
      },
      "execution_count": null,
      "outputs": [
        {
          "output_type": "stream",
          "name": "stdout",
          "text": [
            "Number of samples: 44204\n",
            "Source Vocab length: 27\n",
            "Target Vocab length: 66\n",
            "Max sequence length for inputs: 20\n",
            "Max sequence length for outputs: 21\n"
          ]
        }
      ]
    },
    {
      "cell_type": "code",
      "source": [
        "def dictionary_lookup( vocab):\n",
        "  char2int = dict([(char, i) for i, char in enumerate(vocab)])\n",
        "  int2char = dict((i, char) for char, i in char2int.items())\n",
        "  return char2int, int2char\n"
      ],
      "metadata": {
        "id": "wmI7Csy3r-Nx"
      },
      "execution_count": null,
      "outputs": []
    },
    {
      "cell_type": "code",
      "source": [
        "def encode(source, target, source_chars, target_chars, source_char2int=None, target_char2int=None):\n",
        "        num_encoder_tokens = len(source_chars)\n",
        "        num_decoder_tokens = len(target_chars)\n",
        "        max_source_length = max([len(txt) for txt in source])\n",
        "        max_target_length = max([len(txt) for txt in target])\n",
        "\n",
        "        source_vocab, target_vocab = None, None\n",
        "        if source_char2int == None and target_char2int == None:\n",
        "            print(\"Generating the dictionary lookups for character to integer mapping and back\")\n",
        "            source_char2int, source_int2char = dictionary_lookup(source_chars)\n",
        "            target_char2int, target_int2char = dictionary_lookup(target_chars)\n",
        "\n",
        "            source_vocab = (source_char2int, source_int2char)\n",
        "            target_vocab = (target_char2int, target_int2char)\n",
        "\n",
        "        encoder_input_data = np.zeros(\n",
        "            (len(source), max_source_length, num_encoder_tokens), dtype=\"float32\"\n",
        "        )\n",
        "        decoder_input_data = np.zeros(\n",
        "            (len(source), max_target_length, num_decoder_tokens), dtype=\"float32\"\n",
        "        )\n",
        "        decoder_target_data = np.zeros(\n",
        "            (len(source), max_target_length, num_decoder_tokens), dtype=\"float32\"\n",
        "        )\n",
        "\n",
        "        for i, (input_text, target_text) in enumerate(zip(source, target)):\n",
        "            for t, char in enumerate(input_text):\n",
        "                encoder_input_data[i, t, source_char2int[char]] = 1.0\n",
        "            encoder_input_data[i, t + 1 :, source_char2int[\" \"]] = 1.0\n",
        "            for t, char in enumerate(target_text):\n",
        "                # decoder_target_data is ahead of decoder_input_data by one timestep\n",
        "                decoder_input_data[i, t, target_char2int[char]] = 1.0\n",
        "                if t > 0:\n",
        "                    # decoder_target_data will be ahead by one timestep\n",
        "                    # and will not include the start character.\n",
        "                    decoder_target_data[i, t - 1, target_char2int[char]] = 1.0\n",
        "            decoder_input_data[i, t + 1 :, target_char2int[\" \"]] = 1.0\n",
        "            decoder_target_data[i, t:, target_char2int[\" \"]] = 1.0\n",
        "        if source_vocab != None and target_vocab != None:\n",
        "            return (\n",
        "                encoder_input_data,\n",
        "                decoder_input_data,\n",
        "                decoder_target_data,\n",
        "                source_vocab,\n",
        "                target_vocab,\n",
        "            )\n",
        "        else:\n",
        "            return encoder_input_data, decoder_input_data, decoder_target_data"
      ],
      "metadata": {
        "id": "2ARqKzI4nr4b"
      },
      "execution_count": null,
      "outputs": []
    },
    {
      "cell_type": "code",
      "source": [
        "train_data=encode(source_words, target_words, source_chars, target_chars)"
      ],
      "metadata": {
        "colab": {
          "base_uri": "https://localhost:8080/"
        },
        "id": "u3udhx6qs1E9",
        "outputId": "93c390c7-0293-4e20-8c99-921533973fdf"
      },
      "execution_count": null,
      "outputs": [
        {
          "output_type": "stream",
          "name": "stdout",
          "text": [
            "Generating the dictionary lookups for character to integer mapping and back\n"
          ]
        }
      ]
    },
    {
      "cell_type": "code",
      "source": [
        " # create train data\n",
        "(train_encoder_input,\n",
        "    train_decoder_input,\n",
        "    train_decoder_target,\n",
        "    source_vocab,\n",
        "    target_vocab,\n",
        ") = train_data\n",
        "source_char2int, source_int2char = source_vocab\n",
        "target_char2int, target_int2char = target_vocab\n"
      ],
      "metadata": {
        "id": "Jzjik-8fro25"
      },
      "execution_count": null,
      "outputs": []
    },
    {
      "cell_type": "code",
      "source": [
        " # create val data (only encode function suffices as the dictionary lookup should be kep the same.\n",
        "val_data = encode(\n",
        "    val[\"src\"].to_list(),\n",
        "    val[\"tgt\"].to_list(),\n",
        "    list(source_char2int.keys()),\n",
        "    list(target_char2int.keys()),\n",
        "    source_char2int=source_char2int,\n",
        "    target_char2int=target_char2int,\n",
        ")\n",
        "val_encoder_input, val_decoder_input, val_decoder_target = val_data\n",
        "source_char2int, source_int2char = source_vocab\n",
        "target_char2int, target_int2char = target_vocab\n",
        "\n",
        "# create test data\n",
        "test_data = encode(\n",
        "    test[\"src\"].to_list(),\n",
        "    test[\"tgt\"].to_list(),\n",
        "    list(source_char2int.keys()),\n",
        "    list(target_char2int.keys()),\n",
        "    source_char2int=source_char2int,\n",
        "    target_char2int=target_char2int,\n",
        ")\n",
        "test_encoder_input, test_decoder_input, test_decoder_target = test_data\n",
        "source_char2int, source_int2char = source_vocab\n",
        "target_char2int, target_int2char = target_vocab\n"
      ],
      "metadata": {
        "id": "HKofhjMFtOyP"
      },
      "execution_count": null,
      "outputs": []
    },
    {
      "cell_type": "code",
      "source": [
        ""
      ],
      "metadata": {
        "id": "Tl6E5zfjYNxD"
      },
      "execution_count": null,
      "outputs": []
    }
  ]
}