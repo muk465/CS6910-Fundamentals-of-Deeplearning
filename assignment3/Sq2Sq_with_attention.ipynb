{
  "nbformat": 4,
  "nbformat_minor": 0,
  "metadata": {
    "colab": {
      "name": "Sq2Sq_att (1).ipynb",
      "provenance": [],
      "collapsed_sections": []
    },
    "kernelspec": {
      "name": "python3",
      "display_name": "Python 3"
    },
    "language_info": {
      "name": "python"
    },
    "accelerator": "GPU",
    "widgets": {
      "application/vnd.jupyter.widget-state+json": {
        "788c33e24fee4c9dae029c5019e63283": {
          "model_module": "@jupyter-widgets/controls",
          "model_name": "VBoxModel",
          "model_module_version": "1.5.0",
          "state": {
            "_dom_classes": [],
            "_model_module": "@jupyter-widgets/controls",
            "_model_module_version": "1.5.0",
            "_model_name": "VBoxModel",
            "_view_count": null,
            "_view_module": "@jupyter-widgets/controls",
            "_view_module_version": "1.5.0",
            "_view_name": "VBoxView",
            "box_style": "",
            "children": [
              "IPY_MODEL_88aa32df1d0047ec91d6647657df1d85",
              "IPY_MODEL_71ff32c85e094b309392d66cd81d9a6c"
            ],
            "layout": "IPY_MODEL_d18078bf2159420bae821333c71c827e"
          }
        },
        "88aa32df1d0047ec91d6647657df1d85": {
          "model_module": "@jupyter-widgets/controls",
          "model_name": "LabelModel",
          "model_module_version": "1.5.0",
          "state": {
            "_dom_classes": [],
            "_model_module": "@jupyter-widgets/controls",
            "_model_module_version": "1.5.0",
            "_model_name": "LabelModel",
            "_view_count": null,
            "_view_module": "@jupyter-widgets/controls",
            "_view_module_version": "1.5.0",
            "_view_name": "LabelView",
            "description": "",
            "description_tooltip": null,
            "layout": "IPY_MODEL_882a18a12bfe41ba810dafd3c1ba2791",
            "placeholder": "​",
            "style": "IPY_MODEL_8ddf30dbc846499087af0dfee610c104",
            "value": "3.119 MB of 3.119 MB uploaded (0.000 MB deduped)\r"
          }
        },
        "71ff32c85e094b309392d66cd81d9a6c": {
          "model_module": "@jupyter-widgets/controls",
          "model_name": "FloatProgressModel",
          "model_module_version": "1.5.0",
          "state": {
            "_dom_classes": [],
            "_model_module": "@jupyter-widgets/controls",
            "_model_module_version": "1.5.0",
            "_model_name": "FloatProgressModel",
            "_view_count": null,
            "_view_module": "@jupyter-widgets/controls",
            "_view_module_version": "1.5.0",
            "_view_name": "ProgressView",
            "bar_style": "",
            "description": "",
            "description_tooltip": null,
            "layout": "IPY_MODEL_8b3475c386ab46b8a80e27ed344d2815",
            "max": 1,
            "min": 0,
            "orientation": "horizontal",
            "style": "IPY_MODEL_1b2c8d1a5db44bb49b125431cb454896",
            "value": 1
          }
        },
        "d18078bf2159420bae821333c71c827e": {
          "model_module": "@jupyter-widgets/base",
          "model_name": "LayoutModel",
          "model_module_version": "1.2.0",
          "state": {
            "_model_module": "@jupyter-widgets/base",
            "_model_module_version": "1.2.0",
            "_model_name": "LayoutModel",
            "_view_count": null,
            "_view_module": "@jupyter-widgets/base",
            "_view_module_version": "1.2.0",
            "_view_name": "LayoutView",
            "align_content": null,
            "align_items": null,
            "align_self": null,
            "border": null,
            "bottom": null,
            "display": null,
            "flex": null,
            "flex_flow": null,
            "grid_area": null,
            "grid_auto_columns": null,
            "grid_auto_flow": null,
            "grid_auto_rows": null,
            "grid_column": null,
            "grid_gap": null,
            "grid_row": null,
            "grid_template_areas": null,
            "grid_template_columns": null,
            "grid_template_rows": null,
            "height": null,
            "justify_content": null,
            "justify_items": null,
            "left": null,
            "margin": null,
            "max_height": null,
            "max_width": null,
            "min_height": null,
            "min_width": null,
            "object_fit": null,
            "object_position": null,
            "order": null,
            "overflow": null,
            "overflow_x": null,
            "overflow_y": null,
            "padding": null,
            "right": null,
            "top": null,
            "visibility": null,
            "width": null
          }
        },
        "882a18a12bfe41ba810dafd3c1ba2791": {
          "model_module": "@jupyter-widgets/base",
          "model_name": "LayoutModel",
          "model_module_version": "1.2.0",
          "state": {
            "_model_module": "@jupyter-widgets/base",
            "_model_module_version": "1.2.0",
            "_model_name": "LayoutModel",
            "_view_count": null,
            "_view_module": "@jupyter-widgets/base",
            "_view_module_version": "1.2.0",
            "_view_name": "LayoutView",
            "align_content": null,
            "align_items": null,
            "align_self": null,
            "border": null,
            "bottom": null,
            "display": null,
            "flex": null,
            "flex_flow": null,
            "grid_area": null,
            "grid_auto_columns": null,
            "grid_auto_flow": null,
            "grid_auto_rows": null,
            "grid_column": null,
            "grid_gap": null,
            "grid_row": null,
            "grid_template_areas": null,
            "grid_template_columns": null,
            "grid_template_rows": null,
            "height": null,
            "justify_content": null,
            "justify_items": null,
            "left": null,
            "margin": null,
            "max_height": null,
            "max_width": null,
            "min_height": null,
            "min_width": null,
            "object_fit": null,
            "object_position": null,
            "order": null,
            "overflow": null,
            "overflow_x": null,
            "overflow_y": null,
            "padding": null,
            "right": null,
            "top": null,
            "visibility": null,
            "width": null
          }
        },
        "8ddf30dbc846499087af0dfee610c104": {
          "model_module": "@jupyter-widgets/controls",
          "model_name": "DescriptionStyleModel",
          "model_module_version": "1.5.0",
          "state": {
            "_model_module": "@jupyter-widgets/controls",
            "_model_module_version": "1.5.0",
            "_model_name": "DescriptionStyleModel",
            "_view_count": null,
            "_view_module": "@jupyter-widgets/base",
            "_view_module_version": "1.2.0",
            "_view_name": "StyleView",
            "description_width": ""
          }
        },
        "8b3475c386ab46b8a80e27ed344d2815": {
          "model_module": "@jupyter-widgets/base",
          "model_name": "LayoutModel",
          "model_module_version": "1.2.0",
          "state": {
            "_model_module": "@jupyter-widgets/base",
            "_model_module_version": "1.2.0",
            "_model_name": "LayoutModel",
            "_view_count": null,
            "_view_module": "@jupyter-widgets/base",
            "_view_module_version": "1.2.0",
            "_view_name": "LayoutView",
            "align_content": null,
            "align_items": null,
            "align_self": null,
            "border": null,
            "bottom": null,
            "display": null,
            "flex": null,
            "flex_flow": null,
            "grid_area": null,
            "grid_auto_columns": null,
            "grid_auto_flow": null,
            "grid_auto_rows": null,
            "grid_column": null,
            "grid_gap": null,
            "grid_row": null,
            "grid_template_areas": null,
            "grid_template_columns": null,
            "grid_template_rows": null,
            "height": null,
            "justify_content": null,
            "justify_items": null,
            "left": null,
            "margin": null,
            "max_height": null,
            "max_width": null,
            "min_height": null,
            "min_width": null,
            "object_fit": null,
            "object_position": null,
            "order": null,
            "overflow": null,
            "overflow_x": null,
            "overflow_y": null,
            "padding": null,
            "right": null,
            "top": null,
            "visibility": null,
            "width": null
          }
        },
        "1b2c8d1a5db44bb49b125431cb454896": {
          "model_module": "@jupyter-widgets/controls",
          "model_name": "ProgressStyleModel",
          "model_module_version": "1.5.0",
          "state": {
            "_model_module": "@jupyter-widgets/controls",
            "_model_module_version": "1.5.0",
            "_model_name": "ProgressStyleModel",
            "_view_count": null,
            "_view_module": "@jupyter-widgets/base",
            "_view_module_version": "1.2.0",
            "_view_name": "StyleView",
            "bar_color": null,
            "description_width": ""
          }
        },
        "462b2b0eb1434d1d9b508a4a7154c6b0": {
          "model_module": "@jupyter-widgets/controls",
          "model_name": "VBoxModel",
          "model_module_version": "1.5.0",
          "state": {
            "_dom_classes": [],
            "_model_module": "@jupyter-widgets/controls",
            "_model_module_version": "1.5.0",
            "_model_name": "VBoxModel",
            "_view_count": null,
            "_view_module": "@jupyter-widgets/controls",
            "_view_module_version": "1.5.0",
            "_view_name": "VBoxView",
            "box_style": "",
            "children": [
              "IPY_MODEL_97d5618b868e455691459c43725e6bf4",
              "IPY_MODEL_97b2466b5cb34c03a393ae0d75aa9750"
            ],
            "layout": "IPY_MODEL_b437a55546444640aad1987da9608f23"
          }
        },
        "97d5618b868e455691459c43725e6bf4": {
          "model_module": "@jupyter-widgets/controls",
          "model_name": "LabelModel",
          "model_module_version": "1.5.0",
          "state": {
            "_dom_classes": [],
            "_model_module": "@jupyter-widgets/controls",
            "_model_module_version": "1.5.0",
            "_model_name": "LabelModel",
            "_view_count": null,
            "_view_module": "@jupyter-widgets/controls",
            "_view_module_version": "1.5.0",
            "_view_name": "LabelView",
            "description": "",
            "description_tooltip": null,
            "layout": "IPY_MODEL_ae550b14a36d4173928505a3672831b5",
            "placeholder": "​",
            "style": "IPY_MODEL_0608b175ba3849d29c36d38d1f356bfe",
            "value": "6.277 MB of 6.277 MB uploaded (0.000 MB deduped)\r"
          }
        },
        "97b2466b5cb34c03a393ae0d75aa9750": {
          "model_module": "@jupyter-widgets/controls",
          "model_name": "FloatProgressModel",
          "model_module_version": "1.5.0",
          "state": {
            "_dom_classes": [],
            "_model_module": "@jupyter-widgets/controls",
            "_model_module_version": "1.5.0",
            "_model_name": "FloatProgressModel",
            "_view_count": null,
            "_view_module": "@jupyter-widgets/controls",
            "_view_module_version": "1.5.0",
            "_view_name": "ProgressView",
            "bar_style": "",
            "description": "",
            "description_tooltip": null,
            "layout": "IPY_MODEL_634074670a9041018559e5db7b0d6f29",
            "max": 1,
            "min": 0,
            "orientation": "horizontal",
            "style": "IPY_MODEL_e0f8a054e26c4692b4a512a781809fc9",
            "value": 1
          }
        },
        "b437a55546444640aad1987da9608f23": {
          "model_module": "@jupyter-widgets/base",
          "model_name": "LayoutModel",
          "model_module_version": "1.2.0",
          "state": {
            "_model_module": "@jupyter-widgets/base",
            "_model_module_version": "1.2.0",
            "_model_name": "LayoutModel",
            "_view_count": null,
            "_view_module": "@jupyter-widgets/base",
            "_view_module_version": "1.2.0",
            "_view_name": "LayoutView",
            "align_content": null,
            "align_items": null,
            "align_self": null,
            "border": null,
            "bottom": null,
            "display": null,
            "flex": null,
            "flex_flow": null,
            "grid_area": null,
            "grid_auto_columns": null,
            "grid_auto_flow": null,
            "grid_auto_rows": null,
            "grid_column": null,
            "grid_gap": null,
            "grid_row": null,
            "grid_template_areas": null,
            "grid_template_columns": null,
            "grid_template_rows": null,
            "height": null,
            "justify_content": null,
            "justify_items": null,
            "left": null,
            "margin": null,
            "max_height": null,
            "max_width": null,
            "min_height": null,
            "min_width": null,
            "object_fit": null,
            "object_position": null,
            "order": null,
            "overflow": null,
            "overflow_x": null,
            "overflow_y": null,
            "padding": null,
            "right": null,
            "top": null,
            "visibility": null,
            "width": null
          }
        },
        "ae550b14a36d4173928505a3672831b5": {
          "model_module": "@jupyter-widgets/base",
          "model_name": "LayoutModel",
          "model_module_version": "1.2.0",
          "state": {
            "_model_module": "@jupyter-widgets/base",
            "_model_module_version": "1.2.0",
            "_model_name": "LayoutModel",
            "_view_count": null,
            "_view_module": "@jupyter-widgets/base",
            "_view_module_version": "1.2.0",
            "_view_name": "LayoutView",
            "align_content": null,
            "align_items": null,
            "align_self": null,
            "border": null,
            "bottom": null,
            "display": null,
            "flex": null,
            "flex_flow": null,
            "grid_area": null,
            "grid_auto_columns": null,
            "grid_auto_flow": null,
            "grid_auto_rows": null,
            "grid_column": null,
            "grid_gap": null,
            "grid_row": null,
            "grid_template_areas": null,
            "grid_template_columns": null,
            "grid_template_rows": null,
            "height": null,
            "justify_content": null,
            "justify_items": null,
            "left": null,
            "margin": null,
            "max_height": null,
            "max_width": null,
            "min_height": null,
            "min_width": null,
            "object_fit": null,
            "object_position": null,
            "order": null,
            "overflow": null,
            "overflow_x": null,
            "overflow_y": null,
            "padding": null,
            "right": null,
            "top": null,
            "visibility": null,
            "width": null
          }
        },
        "0608b175ba3849d29c36d38d1f356bfe": {
          "model_module": "@jupyter-widgets/controls",
          "model_name": "DescriptionStyleModel",
          "model_module_version": "1.5.0",
          "state": {
            "_model_module": "@jupyter-widgets/controls",
            "_model_module_version": "1.5.0",
            "_model_name": "DescriptionStyleModel",
            "_view_count": null,
            "_view_module": "@jupyter-widgets/base",
            "_view_module_version": "1.2.0",
            "_view_name": "StyleView",
            "description_width": ""
          }
        },
        "634074670a9041018559e5db7b0d6f29": {
          "model_module": "@jupyter-widgets/base",
          "model_name": "LayoutModel",
          "model_module_version": "1.2.0",
          "state": {
            "_model_module": "@jupyter-widgets/base",
            "_model_module_version": "1.2.0",
            "_model_name": "LayoutModel",
            "_view_count": null,
            "_view_module": "@jupyter-widgets/base",
            "_view_module_version": "1.2.0",
            "_view_name": "LayoutView",
            "align_content": null,
            "align_items": null,
            "align_self": null,
            "border": null,
            "bottom": null,
            "display": null,
            "flex": null,
            "flex_flow": null,
            "grid_area": null,
            "grid_auto_columns": null,
            "grid_auto_flow": null,
            "grid_auto_rows": null,
            "grid_column": null,
            "grid_gap": null,
            "grid_row": null,
            "grid_template_areas": null,
            "grid_template_columns": null,
            "grid_template_rows": null,
            "height": null,
            "justify_content": null,
            "justify_items": null,
            "left": null,
            "margin": null,
            "max_height": null,
            "max_width": null,
            "min_height": null,
            "min_width": null,
            "object_fit": null,
            "object_position": null,
            "order": null,
            "overflow": null,
            "overflow_x": null,
            "overflow_y": null,
            "padding": null,
            "right": null,
            "top": null,
            "visibility": null,
            "width": null
          }
        },
        "e0f8a054e26c4692b4a512a781809fc9": {
          "model_module": "@jupyter-widgets/controls",
          "model_name": "ProgressStyleModel",
          "model_module_version": "1.5.0",
          "state": {
            "_model_module": "@jupyter-widgets/controls",
            "_model_module_version": "1.5.0",
            "_model_name": "ProgressStyleModel",
            "_view_count": null,
            "_view_module": "@jupyter-widgets/base",
            "_view_module_version": "1.2.0",
            "_view_name": "StyleView",
            "bar_color": null,
            "description_width": ""
          }
        },
        "876612ff93e94d6bbda50bdea48797bf": {
          "model_module": "@jupyter-widgets/controls",
          "model_name": "VBoxModel",
          "model_module_version": "1.5.0",
          "state": {
            "_dom_classes": [],
            "_model_module": "@jupyter-widgets/controls",
            "_model_module_version": "1.5.0",
            "_model_name": "VBoxModel",
            "_view_count": null,
            "_view_module": "@jupyter-widgets/controls",
            "_view_module_version": "1.5.0",
            "_view_name": "VBoxView",
            "box_style": "",
            "children": [
              "IPY_MODEL_e7269fd0514b4ad39216794ff59c25da",
              "IPY_MODEL_aefe2ec0388447e287527391105cc2b9"
            ],
            "layout": "IPY_MODEL_266a210171a24de7ba25b5149e1aa527"
          }
        },
        "e7269fd0514b4ad39216794ff59c25da": {
          "model_module": "@jupyter-widgets/controls",
          "model_name": "LabelModel",
          "model_module_version": "1.5.0",
          "state": {
            "_dom_classes": [],
            "_model_module": "@jupyter-widgets/controls",
            "_model_module_version": "1.5.0",
            "_model_name": "LabelModel",
            "_view_count": null,
            "_view_module": "@jupyter-widgets/controls",
            "_view_module_version": "1.5.0",
            "_view_name": "LabelView",
            "description": "",
            "description_tooltip": null,
            "layout": "IPY_MODEL_54f704acb1f94abfa5f199cea223e1b4",
            "placeholder": "​",
            "style": "IPY_MODEL_33c09f970a1f42b78352f68b2e8fee22",
            "value": "8.368 MB of 8.368 MB uploaded (0.000 MB deduped)\r"
          }
        },
        "aefe2ec0388447e287527391105cc2b9": {
          "model_module": "@jupyter-widgets/controls",
          "model_name": "FloatProgressModel",
          "model_module_version": "1.5.0",
          "state": {
            "_dom_classes": [],
            "_model_module": "@jupyter-widgets/controls",
            "_model_module_version": "1.5.0",
            "_model_name": "FloatProgressModel",
            "_view_count": null,
            "_view_module": "@jupyter-widgets/controls",
            "_view_module_version": "1.5.0",
            "_view_name": "ProgressView",
            "bar_style": "",
            "description": "",
            "description_tooltip": null,
            "layout": "IPY_MODEL_9e4a4710b4f1446dadfd78021b1e47d7",
            "max": 1,
            "min": 0,
            "orientation": "horizontal",
            "style": "IPY_MODEL_8af851bd6bda41298c1c4c91bac438fd",
            "value": 1
          }
        },
        "266a210171a24de7ba25b5149e1aa527": {
          "model_module": "@jupyter-widgets/base",
          "model_name": "LayoutModel",
          "model_module_version": "1.2.0",
          "state": {
            "_model_module": "@jupyter-widgets/base",
            "_model_module_version": "1.2.0",
            "_model_name": "LayoutModel",
            "_view_count": null,
            "_view_module": "@jupyter-widgets/base",
            "_view_module_version": "1.2.0",
            "_view_name": "LayoutView",
            "align_content": null,
            "align_items": null,
            "align_self": null,
            "border": null,
            "bottom": null,
            "display": null,
            "flex": null,
            "flex_flow": null,
            "grid_area": null,
            "grid_auto_columns": null,
            "grid_auto_flow": null,
            "grid_auto_rows": null,
            "grid_column": null,
            "grid_gap": null,
            "grid_row": null,
            "grid_template_areas": null,
            "grid_template_columns": null,
            "grid_template_rows": null,
            "height": null,
            "justify_content": null,
            "justify_items": null,
            "left": null,
            "margin": null,
            "max_height": null,
            "max_width": null,
            "min_height": null,
            "min_width": null,
            "object_fit": null,
            "object_position": null,
            "order": null,
            "overflow": null,
            "overflow_x": null,
            "overflow_y": null,
            "padding": null,
            "right": null,
            "top": null,
            "visibility": null,
            "width": null
          }
        },
        "54f704acb1f94abfa5f199cea223e1b4": {
          "model_module": "@jupyter-widgets/base",
          "model_name": "LayoutModel",
          "model_module_version": "1.2.0",
          "state": {
            "_model_module": "@jupyter-widgets/base",
            "_model_module_version": "1.2.0",
            "_model_name": "LayoutModel",
            "_view_count": null,
            "_view_module": "@jupyter-widgets/base",
            "_view_module_version": "1.2.0",
            "_view_name": "LayoutView",
            "align_content": null,
            "align_items": null,
            "align_self": null,
            "border": null,
            "bottom": null,
            "display": null,
            "flex": null,
            "flex_flow": null,
            "grid_area": null,
            "grid_auto_columns": null,
            "grid_auto_flow": null,
            "grid_auto_rows": null,
            "grid_column": null,
            "grid_gap": null,
            "grid_row": null,
            "grid_template_areas": null,
            "grid_template_columns": null,
            "grid_template_rows": null,
            "height": null,
            "justify_content": null,
            "justify_items": null,
            "left": null,
            "margin": null,
            "max_height": null,
            "max_width": null,
            "min_height": null,
            "min_width": null,
            "object_fit": null,
            "object_position": null,
            "order": null,
            "overflow": null,
            "overflow_x": null,
            "overflow_y": null,
            "padding": null,
            "right": null,
            "top": null,
            "visibility": null,
            "width": null
          }
        },
        "33c09f970a1f42b78352f68b2e8fee22": {
          "model_module": "@jupyter-widgets/controls",
          "model_name": "DescriptionStyleModel",
          "model_module_version": "1.5.0",
          "state": {
            "_model_module": "@jupyter-widgets/controls",
            "_model_module_version": "1.5.0",
            "_model_name": "DescriptionStyleModel",
            "_view_count": null,
            "_view_module": "@jupyter-widgets/base",
            "_view_module_version": "1.2.0",
            "_view_name": "StyleView",
            "description_width": ""
          }
        },
        "9e4a4710b4f1446dadfd78021b1e47d7": {
          "model_module": "@jupyter-widgets/base",
          "model_name": "LayoutModel",
          "model_module_version": "1.2.0",
          "state": {
            "_model_module": "@jupyter-widgets/base",
            "_model_module_version": "1.2.0",
            "_model_name": "LayoutModel",
            "_view_count": null,
            "_view_module": "@jupyter-widgets/base",
            "_view_module_version": "1.2.0",
            "_view_name": "LayoutView",
            "align_content": null,
            "align_items": null,
            "align_self": null,
            "border": null,
            "bottom": null,
            "display": null,
            "flex": null,
            "flex_flow": null,
            "grid_area": null,
            "grid_auto_columns": null,
            "grid_auto_flow": null,
            "grid_auto_rows": null,
            "grid_column": null,
            "grid_gap": null,
            "grid_row": null,
            "grid_template_areas": null,
            "grid_template_columns": null,
            "grid_template_rows": null,
            "height": null,
            "justify_content": null,
            "justify_items": null,
            "left": null,
            "margin": null,
            "max_height": null,
            "max_width": null,
            "min_height": null,
            "min_width": null,
            "object_fit": null,
            "object_position": null,
            "order": null,
            "overflow": null,
            "overflow_x": null,
            "overflow_y": null,
            "padding": null,
            "right": null,
            "top": null,
            "visibility": null,
            "width": null
          }
        },
        "8af851bd6bda41298c1c4c91bac438fd": {
          "model_module": "@jupyter-widgets/controls",
          "model_name": "ProgressStyleModel",
          "model_module_version": "1.5.0",
          "state": {
            "_model_module": "@jupyter-widgets/controls",
            "_model_module_version": "1.5.0",
            "_model_name": "ProgressStyleModel",
            "_view_count": null,
            "_view_module": "@jupyter-widgets/base",
            "_view_module_version": "1.2.0",
            "_view_name": "StyleView",
            "bar_color": null,
            "description_width": ""
          }
        },
        "7d77344dc91a428d9f6a75a5fa4715bf": {
          "model_module": "@jupyter-widgets/controls",
          "model_name": "VBoxModel",
          "model_module_version": "1.5.0",
          "state": {
            "_dom_classes": [],
            "_model_module": "@jupyter-widgets/controls",
            "_model_module_version": "1.5.0",
            "_model_name": "VBoxModel",
            "_view_count": null,
            "_view_module": "@jupyter-widgets/controls",
            "_view_module_version": "1.5.0",
            "_view_name": "VBoxView",
            "box_style": "",
            "children": [
              "IPY_MODEL_f7868bb9bb764f5abaf46d80fd6a1bb5",
              "IPY_MODEL_5c62edb127ed44fdad743497d9123099"
            ],
            "layout": "IPY_MODEL_6b22fc92fc874e4fabc54c890bc4b500"
          }
        },
        "f7868bb9bb764f5abaf46d80fd6a1bb5": {
          "model_module": "@jupyter-widgets/controls",
          "model_name": "LabelModel",
          "model_module_version": "1.5.0",
          "state": {
            "_dom_classes": [],
            "_model_module": "@jupyter-widgets/controls",
            "_model_module_version": "1.5.0",
            "_model_name": "LabelModel",
            "_view_count": null,
            "_view_module": "@jupyter-widgets/controls",
            "_view_module_version": "1.5.0",
            "_view_name": "LabelView",
            "description": "",
            "description_tooltip": null,
            "layout": "IPY_MODEL_92dadf08fb9f45d19a69a346d141df5e",
            "placeholder": "​",
            "style": "IPY_MODEL_c86480a9681e4dc5af04cea46b1fd964",
            "value": "2.702 MB of 2.702 MB uploaded (0.000 MB deduped)\r"
          }
        },
        "5c62edb127ed44fdad743497d9123099": {
          "model_module": "@jupyter-widgets/controls",
          "model_name": "FloatProgressModel",
          "model_module_version": "1.5.0",
          "state": {
            "_dom_classes": [],
            "_model_module": "@jupyter-widgets/controls",
            "_model_module_version": "1.5.0",
            "_model_name": "FloatProgressModel",
            "_view_count": null,
            "_view_module": "@jupyter-widgets/controls",
            "_view_module_version": "1.5.0",
            "_view_name": "ProgressView",
            "bar_style": "",
            "description": "",
            "description_tooltip": null,
            "layout": "IPY_MODEL_74dcbfba68db486da8793e24ec1b7b38",
            "max": 1,
            "min": 0,
            "orientation": "horizontal",
            "style": "IPY_MODEL_5a6c9e46e6534b13b10ce30708c4c701",
            "value": 1
          }
        },
        "6b22fc92fc874e4fabc54c890bc4b500": {
          "model_module": "@jupyter-widgets/base",
          "model_name": "LayoutModel",
          "model_module_version": "1.2.0",
          "state": {
            "_model_module": "@jupyter-widgets/base",
            "_model_module_version": "1.2.0",
            "_model_name": "LayoutModel",
            "_view_count": null,
            "_view_module": "@jupyter-widgets/base",
            "_view_module_version": "1.2.0",
            "_view_name": "LayoutView",
            "align_content": null,
            "align_items": null,
            "align_self": null,
            "border": null,
            "bottom": null,
            "display": null,
            "flex": null,
            "flex_flow": null,
            "grid_area": null,
            "grid_auto_columns": null,
            "grid_auto_flow": null,
            "grid_auto_rows": null,
            "grid_column": null,
            "grid_gap": null,
            "grid_row": null,
            "grid_template_areas": null,
            "grid_template_columns": null,
            "grid_template_rows": null,
            "height": null,
            "justify_content": null,
            "justify_items": null,
            "left": null,
            "margin": null,
            "max_height": null,
            "max_width": null,
            "min_height": null,
            "min_width": null,
            "object_fit": null,
            "object_position": null,
            "order": null,
            "overflow": null,
            "overflow_x": null,
            "overflow_y": null,
            "padding": null,
            "right": null,
            "top": null,
            "visibility": null,
            "width": null
          }
        },
        "92dadf08fb9f45d19a69a346d141df5e": {
          "model_module": "@jupyter-widgets/base",
          "model_name": "LayoutModel",
          "model_module_version": "1.2.0",
          "state": {
            "_model_module": "@jupyter-widgets/base",
            "_model_module_version": "1.2.0",
            "_model_name": "LayoutModel",
            "_view_count": null,
            "_view_module": "@jupyter-widgets/base",
            "_view_module_version": "1.2.0",
            "_view_name": "LayoutView",
            "align_content": null,
            "align_items": null,
            "align_self": null,
            "border": null,
            "bottom": null,
            "display": null,
            "flex": null,
            "flex_flow": null,
            "grid_area": null,
            "grid_auto_columns": null,
            "grid_auto_flow": null,
            "grid_auto_rows": null,
            "grid_column": null,
            "grid_gap": null,
            "grid_row": null,
            "grid_template_areas": null,
            "grid_template_columns": null,
            "grid_template_rows": null,
            "height": null,
            "justify_content": null,
            "justify_items": null,
            "left": null,
            "margin": null,
            "max_height": null,
            "max_width": null,
            "min_height": null,
            "min_width": null,
            "object_fit": null,
            "object_position": null,
            "order": null,
            "overflow": null,
            "overflow_x": null,
            "overflow_y": null,
            "padding": null,
            "right": null,
            "top": null,
            "visibility": null,
            "width": null
          }
        },
        "c86480a9681e4dc5af04cea46b1fd964": {
          "model_module": "@jupyter-widgets/controls",
          "model_name": "DescriptionStyleModel",
          "model_module_version": "1.5.0",
          "state": {
            "_model_module": "@jupyter-widgets/controls",
            "_model_module_version": "1.5.0",
            "_model_name": "DescriptionStyleModel",
            "_view_count": null,
            "_view_module": "@jupyter-widgets/base",
            "_view_module_version": "1.2.0",
            "_view_name": "StyleView",
            "description_width": ""
          }
        },
        "74dcbfba68db486da8793e24ec1b7b38": {
          "model_module": "@jupyter-widgets/base",
          "model_name": "LayoutModel",
          "model_module_version": "1.2.0",
          "state": {
            "_model_module": "@jupyter-widgets/base",
            "_model_module_version": "1.2.0",
            "_model_name": "LayoutModel",
            "_view_count": null,
            "_view_module": "@jupyter-widgets/base",
            "_view_module_version": "1.2.0",
            "_view_name": "LayoutView",
            "align_content": null,
            "align_items": null,
            "align_self": null,
            "border": null,
            "bottom": null,
            "display": null,
            "flex": null,
            "flex_flow": null,
            "grid_area": null,
            "grid_auto_columns": null,
            "grid_auto_flow": null,
            "grid_auto_rows": null,
            "grid_column": null,
            "grid_gap": null,
            "grid_row": null,
            "grid_template_areas": null,
            "grid_template_columns": null,
            "grid_template_rows": null,
            "height": null,
            "justify_content": null,
            "justify_items": null,
            "left": null,
            "margin": null,
            "max_height": null,
            "max_width": null,
            "min_height": null,
            "min_width": null,
            "object_fit": null,
            "object_position": null,
            "order": null,
            "overflow": null,
            "overflow_x": null,
            "overflow_y": null,
            "padding": null,
            "right": null,
            "top": null,
            "visibility": null,
            "width": null
          }
        },
        "5a6c9e46e6534b13b10ce30708c4c701": {
          "model_module": "@jupyter-widgets/controls",
          "model_name": "ProgressStyleModel",
          "model_module_version": "1.5.0",
          "state": {
            "_model_module": "@jupyter-widgets/controls",
            "_model_module_version": "1.5.0",
            "_model_name": "ProgressStyleModel",
            "_view_count": null,
            "_view_module": "@jupyter-widgets/base",
            "_view_module_version": "1.2.0",
            "_view_name": "StyleView",
            "bar_color": null,
            "description_width": ""
          }
        },
        "62d64ff5dc8e4828812f09c9d690baff": {
          "model_module": "@jupyter-widgets/controls",
          "model_name": "VBoxModel",
          "model_module_version": "1.5.0",
          "state": {
            "_dom_classes": [],
            "_model_module": "@jupyter-widgets/controls",
            "_model_module_version": "1.5.0",
            "_model_name": "VBoxModel",
            "_view_count": null,
            "_view_module": "@jupyter-widgets/controls",
            "_view_module_version": "1.5.0",
            "_view_name": "VBoxView",
            "box_style": "",
            "children": [
              "IPY_MODEL_cccb410a752f48d7a38c90c08d02c7ae",
              "IPY_MODEL_8afa5d99f04e4de1b5f28e530e738871"
            ],
            "layout": "IPY_MODEL_0a796d52146b497eb14c538767b9beba"
          }
        },
        "cccb410a752f48d7a38c90c08d02c7ae": {
          "model_module": "@jupyter-widgets/controls",
          "model_name": "LabelModel",
          "model_module_version": "1.5.0",
          "state": {
            "_dom_classes": [],
            "_model_module": "@jupyter-widgets/controls",
            "_model_module_version": "1.5.0",
            "_model_name": "LabelModel",
            "_view_count": null,
            "_view_module": "@jupyter-widgets/controls",
            "_view_module_version": "1.5.0",
            "_view_name": "LabelView",
            "description": "",
            "description_tooltip": null,
            "layout": "IPY_MODEL_082e3fdab56e4b71bab9999d514b2570",
            "placeholder": "​",
            "style": "IPY_MODEL_b8c0dca8e3274ea2bd8aa70171cc7053",
            "value": "8.037 MB of 8.037 MB uploaded (0.000 MB deduped)\r"
          }
        },
        "8afa5d99f04e4de1b5f28e530e738871": {
          "model_module": "@jupyter-widgets/controls",
          "model_name": "FloatProgressModel",
          "model_module_version": "1.5.0",
          "state": {
            "_dom_classes": [],
            "_model_module": "@jupyter-widgets/controls",
            "_model_module_version": "1.5.0",
            "_model_name": "FloatProgressModel",
            "_view_count": null,
            "_view_module": "@jupyter-widgets/controls",
            "_view_module_version": "1.5.0",
            "_view_name": "ProgressView",
            "bar_style": "",
            "description": "",
            "description_tooltip": null,
            "layout": "IPY_MODEL_6a6e4159b3ac4372ab6ca3953e0146e4",
            "max": 1,
            "min": 0,
            "orientation": "horizontal",
            "style": "IPY_MODEL_5008586caa3a4112af295ed3aaf9bcfe",
            "value": 1
          }
        },
        "0a796d52146b497eb14c538767b9beba": {
          "model_module": "@jupyter-widgets/base",
          "model_name": "LayoutModel",
          "model_module_version": "1.2.0",
          "state": {
            "_model_module": "@jupyter-widgets/base",
            "_model_module_version": "1.2.0",
            "_model_name": "LayoutModel",
            "_view_count": null,
            "_view_module": "@jupyter-widgets/base",
            "_view_module_version": "1.2.0",
            "_view_name": "LayoutView",
            "align_content": null,
            "align_items": null,
            "align_self": null,
            "border": null,
            "bottom": null,
            "display": null,
            "flex": null,
            "flex_flow": null,
            "grid_area": null,
            "grid_auto_columns": null,
            "grid_auto_flow": null,
            "grid_auto_rows": null,
            "grid_column": null,
            "grid_gap": null,
            "grid_row": null,
            "grid_template_areas": null,
            "grid_template_columns": null,
            "grid_template_rows": null,
            "height": null,
            "justify_content": null,
            "justify_items": null,
            "left": null,
            "margin": null,
            "max_height": null,
            "max_width": null,
            "min_height": null,
            "min_width": null,
            "object_fit": null,
            "object_position": null,
            "order": null,
            "overflow": null,
            "overflow_x": null,
            "overflow_y": null,
            "padding": null,
            "right": null,
            "top": null,
            "visibility": null,
            "width": null
          }
        },
        "082e3fdab56e4b71bab9999d514b2570": {
          "model_module": "@jupyter-widgets/base",
          "model_name": "LayoutModel",
          "model_module_version": "1.2.0",
          "state": {
            "_model_module": "@jupyter-widgets/base",
            "_model_module_version": "1.2.0",
            "_model_name": "LayoutModel",
            "_view_count": null,
            "_view_module": "@jupyter-widgets/base",
            "_view_module_version": "1.2.0",
            "_view_name": "LayoutView",
            "align_content": null,
            "align_items": null,
            "align_self": null,
            "border": null,
            "bottom": null,
            "display": null,
            "flex": null,
            "flex_flow": null,
            "grid_area": null,
            "grid_auto_columns": null,
            "grid_auto_flow": null,
            "grid_auto_rows": null,
            "grid_column": null,
            "grid_gap": null,
            "grid_row": null,
            "grid_template_areas": null,
            "grid_template_columns": null,
            "grid_template_rows": null,
            "height": null,
            "justify_content": null,
            "justify_items": null,
            "left": null,
            "margin": null,
            "max_height": null,
            "max_width": null,
            "min_height": null,
            "min_width": null,
            "object_fit": null,
            "object_position": null,
            "order": null,
            "overflow": null,
            "overflow_x": null,
            "overflow_y": null,
            "padding": null,
            "right": null,
            "top": null,
            "visibility": null,
            "width": null
          }
        },
        "b8c0dca8e3274ea2bd8aa70171cc7053": {
          "model_module": "@jupyter-widgets/controls",
          "model_name": "DescriptionStyleModel",
          "model_module_version": "1.5.0",
          "state": {
            "_model_module": "@jupyter-widgets/controls",
            "_model_module_version": "1.5.0",
            "_model_name": "DescriptionStyleModel",
            "_view_count": null,
            "_view_module": "@jupyter-widgets/base",
            "_view_module_version": "1.2.0",
            "_view_name": "StyleView",
            "description_width": ""
          }
        },
        "6a6e4159b3ac4372ab6ca3953e0146e4": {
          "model_module": "@jupyter-widgets/base",
          "model_name": "LayoutModel",
          "model_module_version": "1.2.0",
          "state": {
            "_model_module": "@jupyter-widgets/base",
            "_model_module_version": "1.2.0",
            "_model_name": "LayoutModel",
            "_view_count": null,
            "_view_module": "@jupyter-widgets/base",
            "_view_module_version": "1.2.0",
            "_view_name": "LayoutView",
            "align_content": null,
            "align_items": null,
            "align_self": null,
            "border": null,
            "bottom": null,
            "display": null,
            "flex": null,
            "flex_flow": null,
            "grid_area": null,
            "grid_auto_columns": null,
            "grid_auto_flow": null,
            "grid_auto_rows": null,
            "grid_column": null,
            "grid_gap": null,
            "grid_row": null,
            "grid_template_areas": null,
            "grid_template_columns": null,
            "grid_template_rows": null,
            "height": null,
            "justify_content": null,
            "justify_items": null,
            "left": null,
            "margin": null,
            "max_height": null,
            "max_width": null,
            "min_height": null,
            "min_width": null,
            "object_fit": null,
            "object_position": null,
            "order": null,
            "overflow": null,
            "overflow_x": null,
            "overflow_y": null,
            "padding": null,
            "right": null,
            "top": null,
            "visibility": null,
            "width": null
          }
        },
        "5008586caa3a4112af295ed3aaf9bcfe": {
          "model_module": "@jupyter-widgets/controls",
          "model_name": "ProgressStyleModel",
          "model_module_version": "1.5.0",
          "state": {
            "_model_module": "@jupyter-widgets/controls",
            "_model_module_version": "1.5.0",
            "_model_name": "ProgressStyleModel",
            "_view_count": null,
            "_view_module": "@jupyter-widgets/base",
            "_view_module_version": "1.2.0",
            "_view_name": "StyleView",
            "bar_color": null,
            "description_width": ""
          }
        },
        "18ce25d18a004452802d1c86befc6c5b": {
          "model_module": "@jupyter-widgets/controls",
          "model_name": "VBoxModel",
          "model_module_version": "1.5.0",
          "state": {
            "_dom_classes": [],
            "_model_module": "@jupyter-widgets/controls",
            "_model_module_version": "1.5.0",
            "_model_name": "VBoxModel",
            "_view_count": null,
            "_view_module": "@jupyter-widgets/controls",
            "_view_module_version": "1.5.0",
            "_view_name": "VBoxView",
            "box_style": "",
            "children": [
              "IPY_MODEL_37503e97398e473ab9af8a6d50afeb07",
              "IPY_MODEL_f46884c3a31547b9ab6453a925f0ee3b"
            ],
            "layout": "IPY_MODEL_0b7f369bc59843439ff53a31e383ef38"
          }
        },
        "37503e97398e473ab9af8a6d50afeb07": {
          "model_module": "@jupyter-widgets/controls",
          "model_name": "LabelModel",
          "model_module_version": "1.5.0",
          "state": {
            "_dom_classes": [],
            "_model_module": "@jupyter-widgets/controls",
            "_model_module_version": "1.5.0",
            "_model_name": "LabelModel",
            "_view_count": null,
            "_view_module": "@jupyter-widgets/controls",
            "_view_module_version": "1.5.0",
            "_view_name": "LabelView",
            "description": "",
            "description_tooltip": null,
            "layout": "IPY_MODEL_da3d9aa1422f459985daa059be47077d",
            "placeholder": "​",
            "style": "IPY_MODEL_59788f62205f4460bddab20947d02ae4",
            "value": "5.853 MB of 5.853 MB uploaded (0.000 MB deduped)\r"
          }
        },
        "f46884c3a31547b9ab6453a925f0ee3b": {
          "model_module": "@jupyter-widgets/controls",
          "model_name": "FloatProgressModel",
          "model_module_version": "1.5.0",
          "state": {
            "_dom_classes": [],
            "_model_module": "@jupyter-widgets/controls",
            "_model_module_version": "1.5.0",
            "_model_name": "FloatProgressModel",
            "_view_count": null,
            "_view_module": "@jupyter-widgets/controls",
            "_view_module_version": "1.5.0",
            "_view_name": "ProgressView",
            "bar_style": "",
            "description": "",
            "description_tooltip": null,
            "layout": "IPY_MODEL_ca7c58bbad8c498f84357c7ff3917c73",
            "max": 1,
            "min": 0,
            "orientation": "horizontal",
            "style": "IPY_MODEL_ea30b3e57e9b4f72a394fd353f32ff5b",
            "value": 1
          }
        },
        "0b7f369bc59843439ff53a31e383ef38": {
          "model_module": "@jupyter-widgets/base",
          "model_name": "LayoutModel",
          "model_module_version": "1.2.0",
          "state": {
            "_model_module": "@jupyter-widgets/base",
            "_model_module_version": "1.2.0",
            "_model_name": "LayoutModel",
            "_view_count": null,
            "_view_module": "@jupyter-widgets/base",
            "_view_module_version": "1.2.0",
            "_view_name": "LayoutView",
            "align_content": null,
            "align_items": null,
            "align_self": null,
            "border": null,
            "bottom": null,
            "display": null,
            "flex": null,
            "flex_flow": null,
            "grid_area": null,
            "grid_auto_columns": null,
            "grid_auto_flow": null,
            "grid_auto_rows": null,
            "grid_column": null,
            "grid_gap": null,
            "grid_row": null,
            "grid_template_areas": null,
            "grid_template_columns": null,
            "grid_template_rows": null,
            "height": null,
            "justify_content": null,
            "justify_items": null,
            "left": null,
            "margin": null,
            "max_height": null,
            "max_width": null,
            "min_height": null,
            "min_width": null,
            "object_fit": null,
            "object_position": null,
            "order": null,
            "overflow": null,
            "overflow_x": null,
            "overflow_y": null,
            "padding": null,
            "right": null,
            "top": null,
            "visibility": null,
            "width": null
          }
        },
        "da3d9aa1422f459985daa059be47077d": {
          "model_module": "@jupyter-widgets/base",
          "model_name": "LayoutModel",
          "model_module_version": "1.2.0",
          "state": {
            "_model_module": "@jupyter-widgets/base",
            "_model_module_version": "1.2.0",
            "_model_name": "LayoutModel",
            "_view_count": null,
            "_view_module": "@jupyter-widgets/base",
            "_view_module_version": "1.2.0",
            "_view_name": "LayoutView",
            "align_content": null,
            "align_items": null,
            "align_self": null,
            "border": null,
            "bottom": null,
            "display": null,
            "flex": null,
            "flex_flow": null,
            "grid_area": null,
            "grid_auto_columns": null,
            "grid_auto_flow": null,
            "grid_auto_rows": null,
            "grid_column": null,
            "grid_gap": null,
            "grid_row": null,
            "grid_template_areas": null,
            "grid_template_columns": null,
            "grid_template_rows": null,
            "height": null,
            "justify_content": null,
            "justify_items": null,
            "left": null,
            "margin": null,
            "max_height": null,
            "max_width": null,
            "min_height": null,
            "min_width": null,
            "object_fit": null,
            "object_position": null,
            "order": null,
            "overflow": null,
            "overflow_x": null,
            "overflow_y": null,
            "padding": null,
            "right": null,
            "top": null,
            "visibility": null,
            "width": null
          }
        },
        "59788f62205f4460bddab20947d02ae4": {
          "model_module": "@jupyter-widgets/controls",
          "model_name": "DescriptionStyleModel",
          "model_module_version": "1.5.0",
          "state": {
            "_model_module": "@jupyter-widgets/controls",
            "_model_module_version": "1.5.0",
            "_model_name": "DescriptionStyleModel",
            "_view_count": null,
            "_view_module": "@jupyter-widgets/base",
            "_view_module_version": "1.2.0",
            "_view_name": "StyleView",
            "description_width": ""
          }
        },
        "ca7c58bbad8c498f84357c7ff3917c73": {
          "model_module": "@jupyter-widgets/base",
          "model_name": "LayoutModel",
          "model_module_version": "1.2.0",
          "state": {
            "_model_module": "@jupyter-widgets/base",
            "_model_module_version": "1.2.0",
            "_model_name": "LayoutModel",
            "_view_count": null,
            "_view_module": "@jupyter-widgets/base",
            "_view_module_version": "1.2.0",
            "_view_name": "LayoutView",
            "align_content": null,
            "align_items": null,
            "align_self": null,
            "border": null,
            "bottom": null,
            "display": null,
            "flex": null,
            "flex_flow": null,
            "grid_area": null,
            "grid_auto_columns": null,
            "grid_auto_flow": null,
            "grid_auto_rows": null,
            "grid_column": null,
            "grid_gap": null,
            "grid_row": null,
            "grid_template_areas": null,
            "grid_template_columns": null,
            "grid_template_rows": null,
            "height": null,
            "justify_content": null,
            "justify_items": null,
            "left": null,
            "margin": null,
            "max_height": null,
            "max_width": null,
            "min_height": null,
            "min_width": null,
            "object_fit": null,
            "object_position": null,
            "order": null,
            "overflow": null,
            "overflow_x": null,
            "overflow_y": null,
            "padding": null,
            "right": null,
            "top": null,
            "visibility": null,
            "width": null
          }
        },
        "ea30b3e57e9b4f72a394fd353f32ff5b": {
          "model_module": "@jupyter-widgets/controls",
          "model_name": "ProgressStyleModel",
          "model_module_version": "1.5.0",
          "state": {
            "_model_module": "@jupyter-widgets/controls",
            "_model_module_version": "1.5.0",
            "_model_name": "ProgressStyleModel",
            "_view_count": null,
            "_view_module": "@jupyter-widgets/base",
            "_view_module_version": "1.2.0",
            "_view_name": "StyleView",
            "bar_color": null,
            "description_width": ""
          }
        },
        "c5de100a359a4bf884cba667322b6f9e": {
          "model_module": "@jupyter-widgets/controls",
          "model_name": "VBoxModel",
          "model_module_version": "1.5.0",
          "state": {
            "_dom_classes": [],
            "_model_module": "@jupyter-widgets/controls",
            "_model_module_version": "1.5.0",
            "_model_name": "VBoxModel",
            "_view_count": null,
            "_view_module": "@jupyter-widgets/controls",
            "_view_module_version": "1.5.0",
            "_view_name": "VBoxView",
            "box_style": "",
            "children": [
              "IPY_MODEL_70010d39426c4e93893c661f9e869845",
              "IPY_MODEL_e0860f4466c84a1caba76f9c32b39598"
            ],
            "layout": "IPY_MODEL_4a5b5ac6904442828e7ac73cc9ad61bb"
          }
        },
        "70010d39426c4e93893c661f9e869845": {
          "model_module": "@jupyter-widgets/controls",
          "model_name": "LabelModel",
          "model_module_version": "1.5.0",
          "state": {
            "_dom_classes": [],
            "_model_module": "@jupyter-widgets/controls",
            "_model_module_version": "1.5.0",
            "_model_name": "LabelModel",
            "_view_count": null,
            "_view_module": "@jupyter-widgets/controls",
            "_view_module_version": "1.5.0",
            "_view_name": "LabelView",
            "description": "",
            "description_tooltip": null,
            "layout": "IPY_MODEL_44ec09025f34464c9dc749a90a0eb53e",
            "placeholder": "​",
            "style": "IPY_MODEL_c84edbf099f24767aa945856c55df8e2",
            "value": "19.662 MB of 19.662 MB uploaded (0.000 MB deduped)\r"
          }
        },
        "e0860f4466c84a1caba76f9c32b39598": {
          "model_module": "@jupyter-widgets/controls",
          "model_name": "FloatProgressModel",
          "model_module_version": "1.5.0",
          "state": {
            "_dom_classes": [],
            "_model_module": "@jupyter-widgets/controls",
            "_model_module_version": "1.5.0",
            "_model_name": "FloatProgressModel",
            "_view_count": null,
            "_view_module": "@jupyter-widgets/controls",
            "_view_module_version": "1.5.0",
            "_view_name": "ProgressView",
            "bar_style": "",
            "description": "",
            "description_tooltip": null,
            "layout": "IPY_MODEL_5ee1aaa47c444d4cb45bd5a306cff0e0",
            "max": 1,
            "min": 0,
            "orientation": "horizontal",
            "style": "IPY_MODEL_0d85156796ad424083dca0c85759f923",
            "value": 1
          }
        },
        "4a5b5ac6904442828e7ac73cc9ad61bb": {
          "model_module": "@jupyter-widgets/base",
          "model_name": "LayoutModel",
          "model_module_version": "1.2.0",
          "state": {
            "_model_module": "@jupyter-widgets/base",
            "_model_module_version": "1.2.0",
            "_model_name": "LayoutModel",
            "_view_count": null,
            "_view_module": "@jupyter-widgets/base",
            "_view_module_version": "1.2.0",
            "_view_name": "LayoutView",
            "align_content": null,
            "align_items": null,
            "align_self": null,
            "border": null,
            "bottom": null,
            "display": null,
            "flex": null,
            "flex_flow": null,
            "grid_area": null,
            "grid_auto_columns": null,
            "grid_auto_flow": null,
            "grid_auto_rows": null,
            "grid_column": null,
            "grid_gap": null,
            "grid_row": null,
            "grid_template_areas": null,
            "grid_template_columns": null,
            "grid_template_rows": null,
            "height": null,
            "justify_content": null,
            "justify_items": null,
            "left": null,
            "margin": null,
            "max_height": null,
            "max_width": null,
            "min_height": null,
            "min_width": null,
            "object_fit": null,
            "object_position": null,
            "order": null,
            "overflow": null,
            "overflow_x": null,
            "overflow_y": null,
            "padding": null,
            "right": null,
            "top": null,
            "visibility": null,
            "width": null
          }
        },
        "44ec09025f34464c9dc749a90a0eb53e": {
          "model_module": "@jupyter-widgets/base",
          "model_name": "LayoutModel",
          "model_module_version": "1.2.0",
          "state": {
            "_model_module": "@jupyter-widgets/base",
            "_model_module_version": "1.2.0",
            "_model_name": "LayoutModel",
            "_view_count": null,
            "_view_module": "@jupyter-widgets/base",
            "_view_module_version": "1.2.0",
            "_view_name": "LayoutView",
            "align_content": null,
            "align_items": null,
            "align_self": null,
            "border": null,
            "bottom": null,
            "display": null,
            "flex": null,
            "flex_flow": null,
            "grid_area": null,
            "grid_auto_columns": null,
            "grid_auto_flow": null,
            "grid_auto_rows": null,
            "grid_column": null,
            "grid_gap": null,
            "grid_row": null,
            "grid_template_areas": null,
            "grid_template_columns": null,
            "grid_template_rows": null,
            "height": null,
            "justify_content": null,
            "justify_items": null,
            "left": null,
            "margin": null,
            "max_height": null,
            "max_width": null,
            "min_height": null,
            "min_width": null,
            "object_fit": null,
            "object_position": null,
            "order": null,
            "overflow": null,
            "overflow_x": null,
            "overflow_y": null,
            "padding": null,
            "right": null,
            "top": null,
            "visibility": null,
            "width": null
          }
        },
        "c84edbf099f24767aa945856c55df8e2": {
          "model_module": "@jupyter-widgets/controls",
          "model_name": "DescriptionStyleModel",
          "model_module_version": "1.5.0",
          "state": {
            "_model_module": "@jupyter-widgets/controls",
            "_model_module_version": "1.5.0",
            "_model_name": "DescriptionStyleModel",
            "_view_count": null,
            "_view_module": "@jupyter-widgets/base",
            "_view_module_version": "1.2.0",
            "_view_name": "StyleView",
            "description_width": ""
          }
        },
        "5ee1aaa47c444d4cb45bd5a306cff0e0": {
          "model_module": "@jupyter-widgets/base",
          "model_name": "LayoutModel",
          "model_module_version": "1.2.0",
          "state": {
            "_model_module": "@jupyter-widgets/base",
            "_model_module_version": "1.2.0",
            "_model_name": "LayoutModel",
            "_view_count": null,
            "_view_module": "@jupyter-widgets/base",
            "_view_module_version": "1.2.0",
            "_view_name": "LayoutView",
            "align_content": null,
            "align_items": null,
            "align_self": null,
            "border": null,
            "bottom": null,
            "display": null,
            "flex": null,
            "flex_flow": null,
            "grid_area": null,
            "grid_auto_columns": null,
            "grid_auto_flow": null,
            "grid_auto_rows": null,
            "grid_column": null,
            "grid_gap": null,
            "grid_row": null,
            "grid_template_areas": null,
            "grid_template_columns": null,
            "grid_template_rows": null,
            "height": null,
            "justify_content": null,
            "justify_items": null,
            "left": null,
            "margin": null,
            "max_height": null,
            "max_width": null,
            "min_height": null,
            "min_width": null,
            "object_fit": null,
            "object_position": null,
            "order": null,
            "overflow": null,
            "overflow_x": null,
            "overflow_y": null,
            "padding": null,
            "right": null,
            "top": null,
            "visibility": null,
            "width": null
          }
        },
        "0d85156796ad424083dca0c85759f923": {
          "model_module": "@jupyter-widgets/controls",
          "model_name": "ProgressStyleModel",
          "model_module_version": "1.5.0",
          "state": {
            "_model_module": "@jupyter-widgets/controls",
            "_model_module_version": "1.5.0",
            "_model_name": "ProgressStyleModel",
            "_view_count": null,
            "_view_module": "@jupyter-widgets/base",
            "_view_module_version": "1.2.0",
            "_view_name": "StyleView",
            "bar_color": null,
            "description_width": ""
          }
        },
        "a52b20da44f94bd69b2acf32e11ad073": {
          "model_module": "@jupyter-widgets/controls",
          "model_name": "VBoxModel",
          "model_module_version": "1.5.0",
          "state": {
            "_dom_classes": [],
            "_model_module": "@jupyter-widgets/controls",
            "_model_module_version": "1.5.0",
            "_model_name": "VBoxModel",
            "_view_count": null,
            "_view_module": "@jupyter-widgets/controls",
            "_view_module_version": "1.5.0",
            "_view_name": "VBoxView",
            "box_style": "",
            "children": [
              "IPY_MODEL_c3df4ff99734485db93edff293221d71",
              "IPY_MODEL_26ae93c055654eea8d2adfb7721e6cc6"
            ],
            "layout": "IPY_MODEL_d82b25dd10964fe29c50b5dcc1f23dec"
          }
        },
        "c3df4ff99734485db93edff293221d71": {
          "model_module": "@jupyter-widgets/controls",
          "model_name": "LabelModel",
          "model_module_version": "1.5.0",
          "state": {
            "_dom_classes": [],
            "_model_module": "@jupyter-widgets/controls",
            "_model_module_version": "1.5.0",
            "_model_name": "LabelModel",
            "_view_count": null,
            "_view_module": "@jupyter-widgets/controls",
            "_view_module_version": "1.5.0",
            "_view_name": "LabelView",
            "description": "",
            "description_tooltip": null,
            "layout": "IPY_MODEL_a06bce7b4c2c493fbd2c2380c8f5297b",
            "placeholder": "​",
            "style": "IPY_MODEL_99236d3883f94a89b3c0c8d8eface58c",
            "value": "19.663 MB of 19.663 MB uploaded (0.000 MB deduped)\r"
          }
        },
        "26ae93c055654eea8d2adfb7721e6cc6": {
          "model_module": "@jupyter-widgets/controls",
          "model_name": "FloatProgressModel",
          "model_module_version": "1.5.0",
          "state": {
            "_dom_classes": [],
            "_model_module": "@jupyter-widgets/controls",
            "_model_module_version": "1.5.0",
            "_model_name": "FloatProgressModel",
            "_view_count": null,
            "_view_module": "@jupyter-widgets/controls",
            "_view_module_version": "1.5.0",
            "_view_name": "ProgressView",
            "bar_style": "",
            "description": "",
            "description_tooltip": null,
            "layout": "IPY_MODEL_02b2f1e5d34f486e89b62baedf03b9df",
            "max": 1,
            "min": 0,
            "orientation": "horizontal",
            "style": "IPY_MODEL_0e7ffe8f1cb24f14823dbc2a7f9108a7",
            "value": 1
          }
        },
        "d82b25dd10964fe29c50b5dcc1f23dec": {
          "model_module": "@jupyter-widgets/base",
          "model_name": "LayoutModel",
          "model_module_version": "1.2.0",
          "state": {
            "_model_module": "@jupyter-widgets/base",
            "_model_module_version": "1.2.0",
            "_model_name": "LayoutModel",
            "_view_count": null,
            "_view_module": "@jupyter-widgets/base",
            "_view_module_version": "1.2.0",
            "_view_name": "LayoutView",
            "align_content": null,
            "align_items": null,
            "align_self": null,
            "border": null,
            "bottom": null,
            "display": null,
            "flex": null,
            "flex_flow": null,
            "grid_area": null,
            "grid_auto_columns": null,
            "grid_auto_flow": null,
            "grid_auto_rows": null,
            "grid_column": null,
            "grid_gap": null,
            "grid_row": null,
            "grid_template_areas": null,
            "grid_template_columns": null,
            "grid_template_rows": null,
            "height": null,
            "justify_content": null,
            "justify_items": null,
            "left": null,
            "margin": null,
            "max_height": null,
            "max_width": null,
            "min_height": null,
            "min_width": null,
            "object_fit": null,
            "object_position": null,
            "order": null,
            "overflow": null,
            "overflow_x": null,
            "overflow_y": null,
            "padding": null,
            "right": null,
            "top": null,
            "visibility": null,
            "width": null
          }
        },
        "a06bce7b4c2c493fbd2c2380c8f5297b": {
          "model_module": "@jupyter-widgets/base",
          "model_name": "LayoutModel",
          "model_module_version": "1.2.0",
          "state": {
            "_model_module": "@jupyter-widgets/base",
            "_model_module_version": "1.2.0",
            "_model_name": "LayoutModel",
            "_view_count": null,
            "_view_module": "@jupyter-widgets/base",
            "_view_module_version": "1.2.0",
            "_view_name": "LayoutView",
            "align_content": null,
            "align_items": null,
            "align_self": null,
            "border": null,
            "bottom": null,
            "display": null,
            "flex": null,
            "flex_flow": null,
            "grid_area": null,
            "grid_auto_columns": null,
            "grid_auto_flow": null,
            "grid_auto_rows": null,
            "grid_column": null,
            "grid_gap": null,
            "grid_row": null,
            "grid_template_areas": null,
            "grid_template_columns": null,
            "grid_template_rows": null,
            "height": null,
            "justify_content": null,
            "justify_items": null,
            "left": null,
            "margin": null,
            "max_height": null,
            "max_width": null,
            "min_height": null,
            "min_width": null,
            "object_fit": null,
            "object_position": null,
            "order": null,
            "overflow": null,
            "overflow_x": null,
            "overflow_y": null,
            "padding": null,
            "right": null,
            "top": null,
            "visibility": null,
            "width": null
          }
        },
        "99236d3883f94a89b3c0c8d8eface58c": {
          "model_module": "@jupyter-widgets/controls",
          "model_name": "DescriptionStyleModel",
          "model_module_version": "1.5.0",
          "state": {
            "_model_module": "@jupyter-widgets/controls",
            "_model_module_version": "1.5.0",
            "_model_name": "DescriptionStyleModel",
            "_view_count": null,
            "_view_module": "@jupyter-widgets/base",
            "_view_module_version": "1.2.0",
            "_view_name": "StyleView",
            "description_width": ""
          }
        },
        "02b2f1e5d34f486e89b62baedf03b9df": {
          "model_module": "@jupyter-widgets/base",
          "model_name": "LayoutModel",
          "model_module_version": "1.2.0",
          "state": {
            "_model_module": "@jupyter-widgets/base",
            "_model_module_version": "1.2.0",
            "_model_name": "LayoutModel",
            "_view_count": null,
            "_view_module": "@jupyter-widgets/base",
            "_view_module_version": "1.2.0",
            "_view_name": "LayoutView",
            "align_content": null,
            "align_items": null,
            "align_self": null,
            "border": null,
            "bottom": null,
            "display": null,
            "flex": null,
            "flex_flow": null,
            "grid_area": null,
            "grid_auto_columns": null,
            "grid_auto_flow": null,
            "grid_auto_rows": null,
            "grid_column": null,
            "grid_gap": null,
            "grid_row": null,
            "grid_template_areas": null,
            "grid_template_columns": null,
            "grid_template_rows": null,
            "height": null,
            "justify_content": null,
            "justify_items": null,
            "left": null,
            "margin": null,
            "max_height": null,
            "max_width": null,
            "min_height": null,
            "min_width": null,
            "object_fit": null,
            "object_position": null,
            "order": null,
            "overflow": null,
            "overflow_x": null,
            "overflow_y": null,
            "padding": null,
            "right": null,
            "top": null,
            "visibility": null,
            "width": null
          }
        },
        "0e7ffe8f1cb24f14823dbc2a7f9108a7": {
          "model_module": "@jupyter-widgets/controls",
          "model_name": "ProgressStyleModel",
          "model_module_version": "1.5.0",
          "state": {
            "_model_module": "@jupyter-widgets/controls",
            "_model_module_version": "1.5.0",
            "_model_name": "ProgressStyleModel",
            "_view_count": null,
            "_view_module": "@jupyter-widgets/base",
            "_view_module_version": "1.2.0",
            "_view_name": "StyleView",
            "bar_color": null,
            "description_width": ""
          }
        },
        "6a9ee95be4b74a289034e5efdbf8d4b8": {
          "model_module": "@jupyter-widgets/controls",
          "model_name": "VBoxModel",
          "model_module_version": "1.5.0",
          "state": {
            "_dom_classes": [],
            "_model_module": "@jupyter-widgets/controls",
            "_model_module_version": "1.5.0",
            "_model_name": "VBoxModel",
            "_view_count": null,
            "_view_module": "@jupyter-widgets/controls",
            "_view_module_version": "1.5.0",
            "_view_name": "VBoxView",
            "box_style": "",
            "children": [
              "IPY_MODEL_08f3f122379149649781fec27512768b",
              "IPY_MODEL_e971e22f17f147c19556193ab897bbc9"
            ],
            "layout": "IPY_MODEL_1b7ff42e019f42b09ef2fb1fc32b3c49"
          }
        },
        "08f3f122379149649781fec27512768b": {
          "model_module": "@jupyter-widgets/controls",
          "model_name": "LabelModel",
          "model_module_version": "1.5.0",
          "state": {
            "_dom_classes": [],
            "_model_module": "@jupyter-widgets/controls",
            "_model_module_version": "1.5.0",
            "_model_name": "LabelModel",
            "_view_count": null,
            "_view_module": "@jupyter-widgets/controls",
            "_view_module_version": "1.5.0",
            "_view_name": "LabelView",
            "description": "",
            "description_tooltip": null,
            "layout": "IPY_MODEL_0131466cd2714a3caf65beeba0cd7ad5",
            "placeholder": "​",
            "style": "IPY_MODEL_d73f341ba144422bada61eacf512b088",
            "value": "19.663 MB of 19.663 MB uploaded (0.000 MB deduped)\r"
          }
        },
        "e971e22f17f147c19556193ab897bbc9": {
          "model_module": "@jupyter-widgets/controls",
          "model_name": "FloatProgressModel",
          "model_module_version": "1.5.0",
          "state": {
            "_dom_classes": [],
            "_model_module": "@jupyter-widgets/controls",
            "_model_module_version": "1.5.0",
            "_model_name": "FloatProgressModel",
            "_view_count": null,
            "_view_module": "@jupyter-widgets/controls",
            "_view_module_version": "1.5.0",
            "_view_name": "ProgressView",
            "bar_style": "",
            "description": "",
            "description_tooltip": null,
            "layout": "IPY_MODEL_e81ea73fc0194a28a29baa2d647f6e6c",
            "max": 1,
            "min": 0,
            "orientation": "horizontal",
            "style": "IPY_MODEL_f53420349bd44e29a79c85275eb21545",
            "value": 1
          }
        },
        "1b7ff42e019f42b09ef2fb1fc32b3c49": {
          "model_module": "@jupyter-widgets/base",
          "model_name": "LayoutModel",
          "model_module_version": "1.2.0",
          "state": {
            "_model_module": "@jupyter-widgets/base",
            "_model_module_version": "1.2.0",
            "_model_name": "LayoutModel",
            "_view_count": null,
            "_view_module": "@jupyter-widgets/base",
            "_view_module_version": "1.2.0",
            "_view_name": "LayoutView",
            "align_content": null,
            "align_items": null,
            "align_self": null,
            "border": null,
            "bottom": null,
            "display": null,
            "flex": null,
            "flex_flow": null,
            "grid_area": null,
            "grid_auto_columns": null,
            "grid_auto_flow": null,
            "grid_auto_rows": null,
            "grid_column": null,
            "grid_gap": null,
            "grid_row": null,
            "grid_template_areas": null,
            "grid_template_columns": null,
            "grid_template_rows": null,
            "height": null,
            "justify_content": null,
            "justify_items": null,
            "left": null,
            "margin": null,
            "max_height": null,
            "max_width": null,
            "min_height": null,
            "min_width": null,
            "object_fit": null,
            "object_position": null,
            "order": null,
            "overflow": null,
            "overflow_x": null,
            "overflow_y": null,
            "padding": null,
            "right": null,
            "top": null,
            "visibility": null,
            "width": null
          }
        },
        "0131466cd2714a3caf65beeba0cd7ad5": {
          "model_module": "@jupyter-widgets/base",
          "model_name": "LayoutModel",
          "model_module_version": "1.2.0",
          "state": {
            "_model_module": "@jupyter-widgets/base",
            "_model_module_version": "1.2.0",
            "_model_name": "LayoutModel",
            "_view_count": null,
            "_view_module": "@jupyter-widgets/base",
            "_view_module_version": "1.2.0",
            "_view_name": "LayoutView",
            "align_content": null,
            "align_items": null,
            "align_self": null,
            "border": null,
            "bottom": null,
            "display": null,
            "flex": null,
            "flex_flow": null,
            "grid_area": null,
            "grid_auto_columns": null,
            "grid_auto_flow": null,
            "grid_auto_rows": null,
            "grid_column": null,
            "grid_gap": null,
            "grid_row": null,
            "grid_template_areas": null,
            "grid_template_columns": null,
            "grid_template_rows": null,
            "height": null,
            "justify_content": null,
            "justify_items": null,
            "left": null,
            "margin": null,
            "max_height": null,
            "max_width": null,
            "min_height": null,
            "min_width": null,
            "object_fit": null,
            "object_position": null,
            "order": null,
            "overflow": null,
            "overflow_x": null,
            "overflow_y": null,
            "padding": null,
            "right": null,
            "top": null,
            "visibility": null,
            "width": null
          }
        },
        "d73f341ba144422bada61eacf512b088": {
          "model_module": "@jupyter-widgets/controls",
          "model_name": "DescriptionStyleModel",
          "model_module_version": "1.5.0",
          "state": {
            "_model_module": "@jupyter-widgets/controls",
            "_model_module_version": "1.5.0",
            "_model_name": "DescriptionStyleModel",
            "_view_count": null,
            "_view_module": "@jupyter-widgets/base",
            "_view_module_version": "1.2.0",
            "_view_name": "StyleView",
            "description_width": ""
          }
        },
        "e81ea73fc0194a28a29baa2d647f6e6c": {
          "model_module": "@jupyter-widgets/base",
          "model_name": "LayoutModel",
          "model_module_version": "1.2.0",
          "state": {
            "_model_module": "@jupyter-widgets/base",
            "_model_module_version": "1.2.0",
            "_model_name": "LayoutModel",
            "_view_count": null,
            "_view_module": "@jupyter-widgets/base",
            "_view_module_version": "1.2.0",
            "_view_name": "LayoutView",
            "align_content": null,
            "align_items": null,
            "align_self": null,
            "border": null,
            "bottom": null,
            "display": null,
            "flex": null,
            "flex_flow": null,
            "grid_area": null,
            "grid_auto_columns": null,
            "grid_auto_flow": null,
            "grid_auto_rows": null,
            "grid_column": null,
            "grid_gap": null,
            "grid_row": null,
            "grid_template_areas": null,
            "grid_template_columns": null,
            "grid_template_rows": null,
            "height": null,
            "justify_content": null,
            "justify_items": null,
            "left": null,
            "margin": null,
            "max_height": null,
            "max_width": null,
            "min_height": null,
            "min_width": null,
            "object_fit": null,
            "object_position": null,
            "order": null,
            "overflow": null,
            "overflow_x": null,
            "overflow_y": null,
            "padding": null,
            "right": null,
            "top": null,
            "visibility": null,
            "width": null
          }
        },
        "f53420349bd44e29a79c85275eb21545": {
          "model_module": "@jupyter-widgets/controls",
          "model_name": "ProgressStyleModel",
          "model_module_version": "1.5.0",
          "state": {
            "_model_module": "@jupyter-widgets/controls",
            "_model_module_version": "1.5.0",
            "_model_name": "ProgressStyleModel",
            "_view_count": null,
            "_view_module": "@jupyter-widgets/base",
            "_view_module_version": "1.2.0",
            "_view_name": "StyleView",
            "bar_color": null,
            "description_width": ""
          }
        },
        "883581db572e463393af307495f9fdbc": {
          "model_module": "@jupyter-widgets/controls",
          "model_name": "VBoxModel",
          "model_module_version": "1.5.0",
          "state": {
            "_dom_classes": [],
            "_model_module": "@jupyter-widgets/controls",
            "_model_module_version": "1.5.0",
            "_model_name": "VBoxModel",
            "_view_count": null,
            "_view_module": "@jupyter-widgets/controls",
            "_view_module_version": "1.5.0",
            "_view_name": "VBoxView",
            "box_style": "",
            "children": [
              "IPY_MODEL_02291fb692e94d12a5ca4085af72655b",
              "IPY_MODEL_820cf0c69f9d4230936efe73598ca52c"
            ],
            "layout": "IPY_MODEL_500435709dd64e299a85e89fc2700237"
          }
        },
        "02291fb692e94d12a5ca4085af72655b": {
          "model_module": "@jupyter-widgets/controls",
          "model_name": "LabelModel",
          "model_module_version": "1.5.0",
          "state": {
            "_dom_classes": [],
            "_model_module": "@jupyter-widgets/controls",
            "_model_module_version": "1.5.0",
            "_model_name": "LabelModel",
            "_view_count": null,
            "_view_module": "@jupyter-widgets/controls",
            "_view_module_version": "1.5.0",
            "_view_name": "LabelView",
            "description": "",
            "description_tooltip": null,
            "layout": "IPY_MODEL_bd1c4d0c4833426683e4bd0b2bf8ce18",
            "placeholder": "​",
            "style": "IPY_MODEL_cc62e30f5b814d3a9d627129fb45c55a",
            "value": "5.854 MB of 5.854 MB uploaded (0.000 MB deduped)\r"
          }
        },
        "820cf0c69f9d4230936efe73598ca52c": {
          "model_module": "@jupyter-widgets/controls",
          "model_name": "FloatProgressModel",
          "model_module_version": "1.5.0",
          "state": {
            "_dom_classes": [],
            "_model_module": "@jupyter-widgets/controls",
            "_model_module_version": "1.5.0",
            "_model_name": "FloatProgressModel",
            "_view_count": null,
            "_view_module": "@jupyter-widgets/controls",
            "_view_module_version": "1.5.0",
            "_view_name": "ProgressView",
            "bar_style": "",
            "description": "",
            "description_tooltip": null,
            "layout": "IPY_MODEL_c2a06bbbeb004e428eb19e2badd331ad",
            "max": 1,
            "min": 0,
            "orientation": "horizontal",
            "style": "IPY_MODEL_6b9d9fdfd3ee42e0849ba23db50819c4",
            "value": 1
          }
        },
        "500435709dd64e299a85e89fc2700237": {
          "model_module": "@jupyter-widgets/base",
          "model_name": "LayoutModel",
          "model_module_version": "1.2.0",
          "state": {
            "_model_module": "@jupyter-widgets/base",
            "_model_module_version": "1.2.0",
            "_model_name": "LayoutModel",
            "_view_count": null,
            "_view_module": "@jupyter-widgets/base",
            "_view_module_version": "1.2.0",
            "_view_name": "LayoutView",
            "align_content": null,
            "align_items": null,
            "align_self": null,
            "border": null,
            "bottom": null,
            "display": null,
            "flex": null,
            "flex_flow": null,
            "grid_area": null,
            "grid_auto_columns": null,
            "grid_auto_flow": null,
            "grid_auto_rows": null,
            "grid_column": null,
            "grid_gap": null,
            "grid_row": null,
            "grid_template_areas": null,
            "grid_template_columns": null,
            "grid_template_rows": null,
            "height": null,
            "justify_content": null,
            "justify_items": null,
            "left": null,
            "margin": null,
            "max_height": null,
            "max_width": null,
            "min_height": null,
            "min_width": null,
            "object_fit": null,
            "object_position": null,
            "order": null,
            "overflow": null,
            "overflow_x": null,
            "overflow_y": null,
            "padding": null,
            "right": null,
            "top": null,
            "visibility": null,
            "width": null
          }
        },
        "bd1c4d0c4833426683e4bd0b2bf8ce18": {
          "model_module": "@jupyter-widgets/base",
          "model_name": "LayoutModel",
          "model_module_version": "1.2.0",
          "state": {
            "_model_module": "@jupyter-widgets/base",
            "_model_module_version": "1.2.0",
            "_model_name": "LayoutModel",
            "_view_count": null,
            "_view_module": "@jupyter-widgets/base",
            "_view_module_version": "1.2.0",
            "_view_name": "LayoutView",
            "align_content": null,
            "align_items": null,
            "align_self": null,
            "border": null,
            "bottom": null,
            "display": null,
            "flex": null,
            "flex_flow": null,
            "grid_area": null,
            "grid_auto_columns": null,
            "grid_auto_flow": null,
            "grid_auto_rows": null,
            "grid_column": null,
            "grid_gap": null,
            "grid_row": null,
            "grid_template_areas": null,
            "grid_template_columns": null,
            "grid_template_rows": null,
            "height": null,
            "justify_content": null,
            "justify_items": null,
            "left": null,
            "margin": null,
            "max_height": null,
            "max_width": null,
            "min_height": null,
            "min_width": null,
            "object_fit": null,
            "object_position": null,
            "order": null,
            "overflow": null,
            "overflow_x": null,
            "overflow_y": null,
            "padding": null,
            "right": null,
            "top": null,
            "visibility": null,
            "width": null
          }
        },
        "cc62e30f5b814d3a9d627129fb45c55a": {
          "model_module": "@jupyter-widgets/controls",
          "model_name": "DescriptionStyleModel",
          "model_module_version": "1.5.0",
          "state": {
            "_model_module": "@jupyter-widgets/controls",
            "_model_module_version": "1.5.0",
            "_model_name": "DescriptionStyleModel",
            "_view_count": null,
            "_view_module": "@jupyter-widgets/base",
            "_view_module_version": "1.2.0",
            "_view_name": "StyleView",
            "description_width": ""
          }
        },
        "c2a06bbbeb004e428eb19e2badd331ad": {
          "model_module": "@jupyter-widgets/base",
          "model_name": "LayoutModel",
          "model_module_version": "1.2.0",
          "state": {
            "_model_module": "@jupyter-widgets/base",
            "_model_module_version": "1.2.0",
            "_model_name": "LayoutModel",
            "_view_count": null,
            "_view_module": "@jupyter-widgets/base",
            "_view_module_version": "1.2.0",
            "_view_name": "LayoutView",
            "align_content": null,
            "align_items": null,
            "align_self": null,
            "border": null,
            "bottom": null,
            "display": null,
            "flex": null,
            "flex_flow": null,
            "grid_area": null,
            "grid_auto_columns": null,
            "grid_auto_flow": null,
            "grid_auto_rows": null,
            "grid_column": null,
            "grid_gap": null,
            "grid_row": null,
            "grid_template_areas": null,
            "grid_template_columns": null,
            "grid_template_rows": null,
            "height": null,
            "justify_content": null,
            "justify_items": null,
            "left": null,
            "margin": null,
            "max_height": null,
            "max_width": null,
            "min_height": null,
            "min_width": null,
            "object_fit": null,
            "object_position": null,
            "order": null,
            "overflow": null,
            "overflow_x": null,
            "overflow_y": null,
            "padding": null,
            "right": null,
            "top": null,
            "visibility": null,
            "width": null
          }
        },
        "6b9d9fdfd3ee42e0849ba23db50819c4": {
          "model_module": "@jupyter-widgets/controls",
          "model_name": "ProgressStyleModel",
          "model_module_version": "1.5.0",
          "state": {
            "_model_module": "@jupyter-widgets/controls",
            "_model_module_version": "1.5.0",
            "_model_name": "ProgressStyleModel",
            "_view_count": null,
            "_view_module": "@jupyter-widgets/base",
            "_view_module_version": "1.2.0",
            "_view_name": "StyleView",
            "bar_color": null,
            "description_width": ""
          }
        },
        "9b2f93c2c660417aad0ed0a06b2ad0bc": {
          "model_module": "@jupyter-widgets/controls",
          "model_name": "VBoxModel",
          "model_module_version": "1.5.0",
          "state": {
            "_dom_classes": [],
            "_model_module": "@jupyter-widgets/controls",
            "_model_module_version": "1.5.0",
            "_model_name": "VBoxModel",
            "_view_count": null,
            "_view_module": "@jupyter-widgets/controls",
            "_view_module_version": "1.5.0",
            "_view_name": "VBoxView",
            "box_style": "",
            "children": [
              "IPY_MODEL_25d95245aa374a6eb0bc40585baeca18",
              "IPY_MODEL_c8b78af7e28e41b3b88ed3a44c6f17c9"
            ],
            "layout": "IPY_MODEL_734bac74076342879bf124252e0d4c54"
          }
        },
        "25d95245aa374a6eb0bc40585baeca18": {
          "model_module": "@jupyter-widgets/controls",
          "model_name": "LabelModel",
          "model_module_version": "1.5.0",
          "state": {
            "_dom_classes": [],
            "_model_module": "@jupyter-widgets/controls",
            "_model_module_version": "1.5.0",
            "_model_name": "LabelModel",
            "_view_count": null,
            "_view_module": "@jupyter-widgets/controls",
            "_view_module_version": "1.5.0",
            "_view_name": "LabelView",
            "description": "",
            "description_tooltip": null,
            "layout": "IPY_MODEL_5184144aeac24b16ab8ab31751f704d6",
            "placeholder": "​",
            "style": "IPY_MODEL_ed665cdab04e45e3a5c34cc570c250fe",
            "value": "3.121 MB of 3.121 MB uploaded (0.000 MB deduped)\r"
          }
        },
        "c8b78af7e28e41b3b88ed3a44c6f17c9": {
          "model_module": "@jupyter-widgets/controls",
          "model_name": "FloatProgressModel",
          "model_module_version": "1.5.0",
          "state": {
            "_dom_classes": [],
            "_model_module": "@jupyter-widgets/controls",
            "_model_module_version": "1.5.0",
            "_model_name": "FloatProgressModel",
            "_view_count": null,
            "_view_module": "@jupyter-widgets/controls",
            "_view_module_version": "1.5.0",
            "_view_name": "ProgressView",
            "bar_style": "",
            "description": "",
            "description_tooltip": null,
            "layout": "IPY_MODEL_d4acb8ec793843a298fe9ce19b04261f",
            "max": 1,
            "min": 0,
            "orientation": "horizontal",
            "style": "IPY_MODEL_2bba323c61a046529c212ac02f54590b",
            "value": 1
          }
        },
        "734bac74076342879bf124252e0d4c54": {
          "model_module": "@jupyter-widgets/base",
          "model_name": "LayoutModel",
          "model_module_version": "1.2.0",
          "state": {
            "_model_module": "@jupyter-widgets/base",
            "_model_module_version": "1.2.0",
            "_model_name": "LayoutModel",
            "_view_count": null,
            "_view_module": "@jupyter-widgets/base",
            "_view_module_version": "1.2.0",
            "_view_name": "LayoutView",
            "align_content": null,
            "align_items": null,
            "align_self": null,
            "border": null,
            "bottom": null,
            "display": null,
            "flex": null,
            "flex_flow": null,
            "grid_area": null,
            "grid_auto_columns": null,
            "grid_auto_flow": null,
            "grid_auto_rows": null,
            "grid_column": null,
            "grid_gap": null,
            "grid_row": null,
            "grid_template_areas": null,
            "grid_template_columns": null,
            "grid_template_rows": null,
            "height": null,
            "justify_content": null,
            "justify_items": null,
            "left": null,
            "margin": null,
            "max_height": null,
            "max_width": null,
            "min_height": null,
            "min_width": null,
            "object_fit": null,
            "object_position": null,
            "order": null,
            "overflow": null,
            "overflow_x": null,
            "overflow_y": null,
            "padding": null,
            "right": null,
            "top": null,
            "visibility": null,
            "width": null
          }
        },
        "5184144aeac24b16ab8ab31751f704d6": {
          "model_module": "@jupyter-widgets/base",
          "model_name": "LayoutModel",
          "model_module_version": "1.2.0",
          "state": {
            "_model_module": "@jupyter-widgets/base",
            "_model_module_version": "1.2.0",
            "_model_name": "LayoutModel",
            "_view_count": null,
            "_view_module": "@jupyter-widgets/base",
            "_view_module_version": "1.2.0",
            "_view_name": "LayoutView",
            "align_content": null,
            "align_items": null,
            "align_self": null,
            "border": null,
            "bottom": null,
            "display": null,
            "flex": null,
            "flex_flow": null,
            "grid_area": null,
            "grid_auto_columns": null,
            "grid_auto_flow": null,
            "grid_auto_rows": null,
            "grid_column": null,
            "grid_gap": null,
            "grid_row": null,
            "grid_template_areas": null,
            "grid_template_columns": null,
            "grid_template_rows": null,
            "height": null,
            "justify_content": null,
            "justify_items": null,
            "left": null,
            "margin": null,
            "max_height": null,
            "max_width": null,
            "min_height": null,
            "min_width": null,
            "object_fit": null,
            "object_position": null,
            "order": null,
            "overflow": null,
            "overflow_x": null,
            "overflow_y": null,
            "padding": null,
            "right": null,
            "top": null,
            "visibility": null,
            "width": null
          }
        },
        "ed665cdab04e45e3a5c34cc570c250fe": {
          "model_module": "@jupyter-widgets/controls",
          "model_name": "DescriptionStyleModel",
          "model_module_version": "1.5.0",
          "state": {
            "_model_module": "@jupyter-widgets/controls",
            "_model_module_version": "1.5.0",
            "_model_name": "DescriptionStyleModel",
            "_view_count": null,
            "_view_module": "@jupyter-widgets/base",
            "_view_module_version": "1.2.0",
            "_view_name": "StyleView",
            "description_width": ""
          }
        },
        "d4acb8ec793843a298fe9ce19b04261f": {
          "model_module": "@jupyter-widgets/base",
          "model_name": "LayoutModel",
          "model_module_version": "1.2.0",
          "state": {
            "_model_module": "@jupyter-widgets/base",
            "_model_module_version": "1.2.0",
            "_model_name": "LayoutModel",
            "_view_count": null,
            "_view_module": "@jupyter-widgets/base",
            "_view_module_version": "1.2.0",
            "_view_name": "LayoutView",
            "align_content": null,
            "align_items": null,
            "align_self": null,
            "border": null,
            "bottom": null,
            "display": null,
            "flex": null,
            "flex_flow": null,
            "grid_area": null,
            "grid_auto_columns": null,
            "grid_auto_flow": null,
            "grid_auto_rows": null,
            "grid_column": null,
            "grid_gap": null,
            "grid_row": null,
            "grid_template_areas": null,
            "grid_template_columns": null,
            "grid_template_rows": null,
            "height": null,
            "justify_content": null,
            "justify_items": null,
            "left": null,
            "margin": null,
            "max_height": null,
            "max_width": null,
            "min_height": null,
            "min_width": null,
            "object_fit": null,
            "object_position": null,
            "order": null,
            "overflow": null,
            "overflow_x": null,
            "overflow_y": null,
            "padding": null,
            "right": null,
            "top": null,
            "visibility": null,
            "width": null
          }
        },
        "2bba323c61a046529c212ac02f54590b": {
          "model_module": "@jupyter-widgets/controls",
          "model_name": "ProgressStyleModel",
          "model_module_version": "1.5.0",
          "state": {
            "_model_module": "@jupyter-widgets/controls",
            "_model_module_version": "1.5.0",
            "_model_name": "ProgressStyleModel",
            "_view_count": null,
            "_view_module": "@jupyter-widgets/base",
            "_view_module_version": "1.2.0",
            "_view_name": "StyleView",
            "bar_color": null,
            "description_width": ""
          }
        },
        "fe06fb81f64f450b9d568cd43719d132": {
          "model_module": "@jupyter-widgets/controls",
          "model_name": "VBoxModel",
          "model_module_version": "1.5.0",
          "state": {
            "_dom_classes": [],
            "_model_module": "@jupyter-widgets/controls",
            "_model_module_version": "1.5.0",
            "_model_name": "VBoxModel",
            "_view_count": null,
            "_view_module": "@jupyter-widgets/controls",
            "_view_module_version": "1.5.0",
            "_view_name": "VBoxView",
            "box_style": "",
            "children": [
              "IPY_MODEL_295a1a7ac4ee423eb35427125d03ea00",
              "IPY_MODEL_00f42ef86ed8420090337ea8cb3ed8cb"
            ],
            "layout": "IPY_MODEL_37ddf0a412764f909a786a7d2183bd1e"
          }
        },
        "295a1a7ac4ee423eb35427125d03ea00": {
          "model_module": "@jupyter-widgets/controls",
          "model_name": "LabelModel",
          "model_module_version": "1.5.0",
          "state": {
            "_dom_classes": [],
            "_model_module": "@jupyter-widgets/controls",
            "_model_module_version": "1.5.0",
            "_model_name": "LabelModel",
            "_view_count": null,
            "_view_module": "@jupyter-widgets/controls",
            "_view_module_version": "1.5.0",
            "_view_name": "LabelView",
            "description": "",
            "description_tooltip": null,
            "layout": "IPY_MODEL_9de900a59f3a480abcd21168ac21222f",
            "placeholder": "​",
            "style": "IPY_MODEL_dd68aa2de53b412eb1367bd7713b0bd8",
            "value": "5.853 MB of 5.853 MB uploaded (0.000 MB deduped)\r"
          }
        },
        "00f42ef86ed8420090337ea8cb3ed8cb": {
          "model_module": "@jupyter-widgets/controls",
          "model_name": "FloatProgressModel",
          "model_module_version": "1.5.0",
          "state": {
            "_dom_classes": [],
            "_model_module": "@jupyter-widgets/controls",
            "_model_module_version": "1.5.0",
            "_model_name": "FloatProgressModel",
            "_view_count": null,
            "_view_module": "@jupyter-widgets/controls",
            "_view_module_version": "1.5.0",
            "_view_name": "ProgressView",
            "bar_style": "",
            "description": "",
            "description_tooltip": null,
            "layout": "IPY_MODEL_972f0811e9154165b2b097fca10abb6e",
            "max": 1,
            "min": 0,
            "orientation": "horizontal",
            "style": "IPY_MODEL_3045b966ccc4424098cb43865fb886d7",
            "value": 1
          }
        },
        "37ddf0a412764f909a786a7d2183bd1e": {
          "model_module": "@jupyter-widgets/base",
          "model_name": "LayoutModel",
          "model_module_version": "1.2.0",
          "state": {
            "_model_module": "@jupyter-widgets/base",
            "_model_module_version": "1.2.0",
            "_model_name": "LayoutModel",
            "_view_count": null,
            "_view_module": "@jupyter-widgets/base",
            "_view_module_version": "1.2.0",
            "_view_name": "LayoutView",
            "align_content": null,
            "align_items": null,
            "align_self": null,
            "border": null,
            "bottom": null,
            "display": null,
            "flex": null,
            "flex_flow": null,
            "grid_area": null,
            "grid_auto_columns": null,
            "grid_auto_flow": null,
            "grid_auto_rows": null,
            "grid_column": null,
            "grid_gap": null,
            "grid_row": null,
            "grid_template_areas": null,
            "grid_template_columns": null,
            "grid_template_rows": null,
            "height": null,
            "justify_content": null,
            "justify_items": null,
            "left": null,
            "margin": null,
            "max_height": null,
            "max_width": null,
            "min_height": null,
            "min_width": null,
            "object_fit": null,
            "object_position": null,
            "order": null,
            "overflow": null,
            "overflow_x": null,
            "overflow_y": null,
            "padding": null,
            "right": null,
            "top": null,
            "visibility": null,
            "width": null
          }
        },
        "9de900a59f3a480abcd21168ac21222f": {
          "model_module": "@jupyter-widgets/base",
          "model_name": "LayoutModel",
          "model_module_version": "1.2.0",
          "state": {
            "_model_module": "@jupyter-widgets/base",
            "_model_module_version": "1.2.0",
            "_model_name": "LayoutModel",
            "_view_count": null,
            "_view_module": "@jupyter-widgets/base",
            "_view_module_version": "1.2.0",
            "_view_name": "LayoutView",
            "align_content": null,
            "align_items": null,
            "align_self": null,
            "border": null,
            "bottom": null,
            "display": null,
            "flex": null,
            "flex_flow": null,
            "grid_area": null,
            "grid_auto_columns": null,
            "grid_auto_flow": null,
            "grid_auto_rows": null,
            "grid_column": null,
            "grid_gap": null,
            "grid_row": null,
            "grid_template_areas": null,
            "grid_template_columns": null,
            "grid_template_rows": null,
            "height": null,
            "justify_content": null,
            "justify_items": null,
            "left": null,
            "margin": null,
            "max_height": null,
            "max_width": null,
            "min_height": null,
            "min_width": null,
            "object_fit": null,
            "object_position": null,
            "order": null,
            "overflow": null,
            "overflow_x": null,
            "overflow_y": null,
            "padding": null,
            "right": null,
            "top": null,
            "visibility": null,
            "width": null
          }
        },
        "dd68aa2de53b412eb1367bd7713b0bd8": {
          "model_module": "@jupyter-widgets/controls",
          "model_name": "DescriptionStyleModel",
          "model_module_version": "1.5.0",
          "state": {
            "_model_module": "@jupyter-widgets/controls",
            "_model_module_version": "1.5.0",
            "_model_name": "DescriptionStyleModel",
            "_view_count": null,
            "_view_module": "@jupyter-widgets/base",
            "_view_module_version": "1.2.0",
            "_view_name": "StyleView",
            "description_width": ""
          }
        },
        "972f0811e9154165b2b097fca10abb6e": {
          "model_module": "@jupyter-widgets/base",
          "model_name": "LayoutModel",
          "model_module_version": "1.2.0",
          "state": {
            "_model_module": "@jupyter-widgets/base",
            "_model_module_version": "1.2.0",
            "_model_name": "LayoutModel",
            "_view_count": null,
            "_view_module": "@jupyter-widgets/base",
            "_view_module_version": "1.2.0",
            "_view_name": "LayoutView",
            "align_content": null,
            "align_items": null,
            "align_self": null,
            "border": null,
            "bottom": null,
            "display": null,
            "flex": null,
            "flex_flow": null,
            "grid_area": null,
            "grid_auto_columns": null,
            "grid_auto_flow": null,
            "grid_auto_rows": null,
            "grid_column": null,
            "grid_gap": null,
            "grid_row": null,
            "grid_template_areas": null,
            "grid_template_columns": null,
            "grid_template_rows": null,
            "height": null,
            "justify_content": null,
            "justify_items": null,
            "left": null,
            "margin": null,
            "max_height": null,
            "max_width": null,
            "min_height": null,
            "min_width": null,
            "object_fit": null,
            "object_position": null,
            "order": null,
            "overflow": null,
            "overflow_x": null,
            "overflow_y": null,
            "padding": null,
            "right": null,
            "top": null,
            "visibility": null,
            "width": null
          }
        },
        "3045b966ccc4424098cb43865fb886d7": {
          "model_module": "@jupyter-widgets/controls",
          "model_name": "ProgressStyleModel",
          "model_module_version": "1.5.0",
          "state": {
            "_model_module": "@jupyter-widgets/controls",
            "_model_module_version": "1.5.0",
            "_model_name": "ProgressStyleModel",
            "_view_count": null,
            "_view_module": "@jupyter-widgets/base",
            "_view_module_version": "1.2.0",
            "_view_name": "StyleView",
            "bar_color": null,
            "description_width": ""
          }
        },
        "8a157d84ae1549de8fa32ebdb2ddc519": {
          "model_module": "@jupyter-widgets/controls",
          "model_name": "VBoxModel",
          "model_module_version": "1.5.0",
          "state": {
            "_dom_classes": [],
            "_model_module": "@jupyter-widgets/controls",
            "_model_module_version": "1.5.0",
            "_model_name": "VBoxModel",
            "_view_count": null,
            "_view_module": "@jupyter-widgets/controls",
            "_view_module_version": "1.5.0",
            "_view_name": "VBoxView",
            "box_style": "",
            "children": [
              "IPY_MODEL_4fe79a810af54abba1c8982284399036",
              "IPY_MODEL_bbc2fada33994eb48828e233ff0ff288"
            ],
            "layout": "IPY_MODEL_d72af1839aa2471aa4d11dab3ba42376"
          }
        },
        "4fe79a810af54abba1c8982284399036": {
          "model_module": "@jupyter-widgets/controls",
          "model_name": "LabelModel",
          "model_module_version": "1.5.0",
          "state": {
            "_dom_classes": [],
            "_model_module": "@jupyter-widgets/controls",
            "_model_module_version": "1.5.0",
            "_model_name": "LabelModel",
            "_view_count": null,
            "_view_module": "@jupyter-widgets/controls",
            "_view_module_version": "1.5.0",
            "_view_name": "LabelView",
            "description": "",
            "description_tooltip": null,
            "layout": "IPY_MODEL_9958109935d34c7082683c0e97f74c3f",
            "placeholder": "​",
            "style": "IPY_MODEL_8cca23239e72476685f2172811e1949a",
            "value": "2.279 MB of 2.279 MB uploaded (0.000 MB deduped)\r"
          }
        },
        "bbc2fada33994eb48828e233ff0ff288": {
          "model_module": "@jupyter-widgets/controls",
          "model_name": "FloatProgressModel",
          "model_module_version": "1.5.0",
          "state": {
            "_dom_classes": [],
            "_model_module": "@jupyter-widgets/controls",
            "_model_module_version": "1.5.0",
            "_model_name": "FloatProgressModel",
            "_view_count": null,
            "_view_module": "@jupyter-widgets/controls",
            "_view_module_version": "1.5.0",
            "_view_name": "ProgressView",
            "bar_style": "",
            "description": "",
            "description_tooltip": null,
            "layout": "IPY_MODEL_6b127f36c9ba4491b9c6ce4628db1203",
            "max": 1,
            "min": 0,
            "orientation": "horizontal",
            "style": "IPY_MODEL_718ae5121c3145ef84dd65ef9de52f22",
            "value": 1
          }
        },
        "d72af1839aa2471aa4d11dab3ba42376": {
          "model_module": "@jupyter-widgets/base",
          "model_name": "LayoutModel",
          "model_module_version": "1.2.0",
          "state": {
            "_model_module": "@jupyter-widgets/base",
            "_model_module_version": "1.2.0",
            "_model_name": "LayoutModel",
            "_view_count": null,
            "_view_module": "@jupyter-widgets/base",
            "_view_module_version": "1.2.0",
            "_view_name": "LayoutView",
            "align_content": null,
            "align_items": null,
            "align_self": null,
            "border": null,
            "bottom": null,
            "display": null,
            "flex": null,
            "flex_flow": null,
            "grid_area": null,
            "grid_auto_columns": null,
            "grid_auto_flow": null,
            "grid_auto_rows": null,
            "grid_column": null,
            "grid_gap": null,
            "grid_row": null,
            "grid_template_areas": null,
            "grid_template_columns": null,
            "grid_template_rows": null,
            "height": null,
            "justify_content": null,
            "justify_items": null,
            "left": null,
            "margin": null,
            "max_height": null,
            "max_width": null,
            "min_height": null,
            "min_width": null,
            "object_fit": null,
            "object_position": null,
            "order": null,
            "overflow": null,
            "overflow_x": null,
            "overflow_y": null,
            "padding": null,
            "right": null,
            "top": null,
            "visibility": null,
            "width": null
          }
        },
        "9958109935d34c7082683c0e97f74c3f": {
          "model_module": "@jupyter-widgets/base",
          "model_name": "LayoutModel",
          "model_module_version": "1.2.0",
          "state": {
            "_model_module": "@jupyter-widgets/base",
            "_model_module_version": "1.2.0",
            "_model_name": "LayoutModel",
            "_view_count": null,
            "_view_module": "@jupyter-widgets/base",
            "_view_module_version": "1.2.0",
            "_view_name": "LayoutView",
            "align_content": null,
            "align_items": null,
            "align_self": null,
            "border": null,
            "bottom": null,
            "display": null,
            "flex": null,
            "flex_flow": null,
            "grid_area": null,
            "grid_auto_columns": null,
            "grid_auto_flow": null,
            "grid_auto_rows": null,
            "grid_column": null,
            "grid_gap": null,
            "grid_row": null,
            "grid_template_areas": null,
            "grid_template_columns": null,
            "grid_template_rows": null,
            "height": null,
            "justify_content": null,
            "justify_items": null,
            "left": null,
            "margin": null,
            "max_height": null,
            "max_width": null,
            "min_height": null,
            "min_width": null,
            "object_fit": null,
            "object_position": null,
            "order": null,
            "overflow": null,
            "overflow_x": null,
            "overflow_y": null,
            "padding": null,
            "right": null,
            "top": null,
            "visibility": null,
            "width": null
          }
        },
        "8cca23239e72476685f2172811e1949a": {
          "model_module": "@jupyter-widgets/controls",
          "model_name": "DescriptionStyleModel",
          "model_module_version": "1.5.0",
          "state": {
            "_model_module": "@jupyter-widgets/controls",
            "_model_module_version": "1.5.0",
            "_model_name": "DescriptionStyleModel",
            "_view_count": null,
            "_view_module": "@jupyter-widgets/base",
            "_view_module_version": "1.2.0",
            "_view_name": "StyleView",
            "description_width": ""
          }
        },
        "6b127f36c9ba4491b9c6ce4628db1203": {
          "model_module": "@jupyter-widgets/base",
          "model_name": "LayoutModel",
          "model_module_version": "1.2.0",
          "state": {
            "_model_module": "@jupyter-widgets/base",
            "_model_module_version": "1.2.0",
            "_model_name": "LayoutModel",
            "_view_count": null,
            "_view_module": "@jupyter-widgets/base",
            "_view_module_version": "1.2.0",
            "_view_name": "LayoutView",
            "align_content": null,
            "align_items": null,
            "align_self": null,
            "border": null,
            "bottom": null,
            "display": null,
            "flex": null,
            "flex_flow": null,
            "grid_area": null,
            "grid_auto_columns": null,
            "grid_auto_flow": null,
            "grid_auto_rows": null,
            "grid_column": null,
            "grid_gap": null,
            "grid_row": null,
            "grid_template_areas": null,
            "grid_template_columns": null,
            "grid_template_rows": null,
            "height": null,
            "justify_content": null,
            "justify_items": null,
            "left": null,
            "margin": null,
            "max_height": null,
            "max_width": null,
            "min_height": null,
            "min_width": null,
            "object_fit": null,
            "object_position": null,
            "order": null,
            "overflow": null,
            "overflow_x": null,
            "overflow_y": null,
            "padding": null,
            "right": null,
            "top": null,
            "visibility": null,
            "width": null
          }
        },
        "718ae5121c3145ef84dd65ef9de52f22": {
          "model_module": "@jupyter-widgets/controls",
          "model_name": "ProgressStyleModel",
          "model_module_version": "1.5.0",
          "state": {
            "_model_module": "@jupyter-widgets/controls",
            "_model_module_version": "1.5.0",
            "_model_name": "ProgressStyleModel",
            "_view_count": null,
            "_view_module": "@jupyter-widgets/base",
            "_view_module_version": "1.2.0",
            "_view_name": "StyleView",
            "bar_color": null,
            "description_width": ""
          }
        },
        "0e6433b2a6ac481e8bbe6b9991fedf66": {
          "model_module": "@jupyter-widgets/controls",
          "model_name": "VBoxModel",
          "model_module_version": "1.5.0",
          "state": {
            "_dom_classes": [],
            "_model_module": "@jupyter-widgets/controls",
            "_model_module_version": "1.5.0",
            "_model_name": "VBoxModel",
            "_view_count": null,
            "_view_module": "@jupyter-widgets/controls",
            "_view_module_version": "1.5.0",
            "_view_name": "VBoxView",
            "box_style": "",
            "children": [
              "IPY_MODEL_2bd264cc7a9b4d64bff0e64e2f30ab4c",
              "IPY_MODEL_1723fae7965a44e785b85e6acfb0c37a"
            ],
            "layout": "IPY_MODEL_dfa82112c4bc4958af6a1eef639fa601"
          }
        },
        "2bd264cc7a9b4d64bff0e64e2f30ab4c": {
          "model_module": "@jupyter-widgets/controls",
          "model_name": "LabelModel",
          "model_module_version": "1.5.0",
          "state": {
            "_dom_classes": [],
            "_model_module": "@jupyter-widgets/controls",
            "_model_module_version": "1.5.0",
            "_model_name": "LabelModel",
            "_view_count": null,
            "_view_module": "@jupyter-widgets/controls",
            "_view_module_version": "1.5.0",
            "_view_name": "LabelView",
            "description": "",
            "description_tooltip": null,
            "layout": "IPY_MODEL_925f8304ca7c4a9fba567127709092cd",
            "placeholder": "​",
            "style": "IPY_MODEL_74e3b0fef8c64a69a96a8b7867bd3517",
            "value": "5.853 MB of 5.853 MB uploaded (0.000 MB deduped)\r"
          }
        },
        "1723fae7965a44e785b85e6acfb0c37a": {
          "model_module": "@jupyter-widgets/controls",
          "model_name": "FloatProgressModel",
          "model_module_version": "1.5.0",
          "state": {
            "_dom_classes": [],
            "_model_module": "@jupyter-widgets/controls",
            "_model_module_version": "1.5.0",
            "_model_name": "FloatProgressModel",
            "_view_count": null,
            "_view_module": "@jupyter-widgets/controls",
            "_view_module_version": "1.5.0",
            "_view_name": "ProgressView",
            "bar_style": "",
            "description": "",
            "description_tooltip": null,
            "layout": "IPY_MODEL_9ad573ae5da9410889a6b508bb2c7bcb",
            "max": 1,
            "min": 0,
            "orientation": "horizontal",
            "style": "IPY_MODEL_803660780b4d4442be39c5c1a1467c4e",
            "value": 1
          }
        },
        "dfa82112c4bc4958af6a1eef639fa601": {
          "model_module": "@jupyter-widgets/base",
          "model_name": "LayoutModel",
          "model_module_version": "1.2.0",
          "state": {
            "_model_module": "@jupyter-widgets/base",
            "_model_module_version": "1.2.0",
            "_model_name": "LayoutModel",
            "_view_count": null,
            "_view_module": "@jupyter-widgets/base",
            "_view_module_version": "1.2.0",
            "_view_name": "LayoutView",
            "align_content": null,
            "align_items": null,
            "align_self": null,
            "border": null,
            "bottom": null,
            "display": null,
            "flex": null,
            "flex_flow": null,
            "grid_area": null,
            "grid_auto_columns": null,
            "grid_auto_flow": null,
            "grid_auto_rows": null,
            "grid_column": null,
            "grid_gap": null,
            "grid_row": null,
            "grid_template_areas": null,
            "grid_template_columns": null,
            "grid_template_rows": null,
            "height": null,
            "justify_content": null,
            "justify_items": null,
            "left": null,
            "margin": null,
            "max_height": null,
            "max_width": null,
            "min_height": null,
            "min_width": null,
            "object_fit": null,
            "object_position": null,
            "order": null,
            "overflow": null,
            "overflow_x": null,
            "overflow_y": null,
            "padding": null,
            "right": null,
            "top": null,
            "visibility": null,
            "width": null
          }
        },
        "925f8304ca7c4a9fba567127709092cd": {
          "model_module": "@jupyter-widgets/base",
          "model_name": "LayoutModel",
          "model_module_version": "1.2.0",
          "state": {
            "_model_module": "@jupyter-widgets/base",
            "_model_module_version": "1.2.0",
            "_model_name": "LayoutModel",
            "_view_count": null,
            "_view_module": "@jupyter-widgets/base",
            "_view_module_version": "1.2.0",
            "_view_name": "LayoutView",
            "align_content": null,
            "align_items": null,
            "align_self": null,
            "border": null,
            "bottom": null,
            "display": null,
            "flex": null,
            "flex_flow": null,
            "grid_area": null,
            "grid_auto_columns": null,
            "grid_auto_flow": null,
            "grid_auto_rows": null,
            "grid_column": null,
            "grid_gap": null,
            "grid_row": null,
            "grid_template_areas": null,
            "grid_template_columns": null,
            "grid_template_rows": null,
            "height": null,
            "justify_content": null,
            "justify_items": null,
            "left": null,
            "margin": null,
            "max_height": null,
            "max_width": null,
            "min_height": null,
            "min_width": null,
            "object_fit": null,
            "object_position": null,
            "order": null,
            "overflow": null,
            "overflow_x": null,
            "overflow_y": null,
            "padding": null,
            "right": null,
            "top": null,
            "visibility": null,
            "width": null
          }
        },
        "74e3b0fef8c64a69a96a8b7867bd3517": {
          "model_module": "@jupyter-widgets/controls",
          "model_name": "DescriptionStyleModel",
          "model_module_version": "1.5.0",
          "state": {
            "_model_module": "@jupyter-widgets/controls",
            "_model_module_version": "1.5.0",
            "_model_name": "DescriptionStyleModel",
            "_view_count": null,
            "_view_module": "@jupyter-widgets/base",
            "_view_module_version": "1.2.0",
            "_view_name": "StyleView",
            "description_width": ""
          }
        },
        "9ad573ae5da9410889a6b508bb2c7bcb": {
          "model_module": "@jupyter-widgets/base",
          "model_name": "LayoutModel",
          "model_module_version": "1.2.0",
          "state": {
            "_model_module": "@jupyter-widgets/base",
            "_model_module_version": "1.2.0",
            "_model_name": "LayoutModel",
            "_view_count": null,
            "_view_module": "@jupyter-widgets/base",
            "_view_module_version": "1.2.0",
            "_view_name": "LayoutView",
            "align_content": null,
            "align_items": null,
            "align_self": null,
            "border": null,
            "bottom": null,
            "display": null,
            "flex": null,
            "flex_flow": null,
            "grid_area": null,
            "grid_auto_columns": null,
            "grid_auto_flow": null,
            "grid_auto_rows": null,
            "grid_column": null,
            "grid_gap": null,
            "grid_row": null,
            "grid_template_areas": null,
            "grid_template_columns": null,
            "grid_template_rows": null,
            "height": null,
            "justify_content": null,
            "justify_items": null,
            "left": null,
            "margin": null,
            "max_height": null,
            "max_width": null,
            "min_height": null,
            "min_width": null,
            "object_fit": null,
            "object_position": null,
            "order": null,
            "overflow": null,
            "overflow_x": null,
            "overflow_y": null,
            "padding": null,
            "right": null,
            "top": null,
            "visibility": null,
            "width": null
          }
        },
        "803660780b4d4442be39c5c1a1467c4e": {
          "model_module": "@jupyter-widgets/controls",
          "model_name": "ProgressStyleModel",
          "model_module_version": "1.5.0",
          "state": {
            "_model_module": "@jupyter-widgets/controls",
            "_model_module_version": "1.5.0",
            "_model_name": "ProgressStyleModel",
            "_view_count": null,
            "_view_module": "@jupyter-widgets/base",
            "_view_module_version": "1.2.0",
            "_view_name": "StyleView",
            "bar_color": null,
            "description_width": ""
          }
        },
        "b5045f42568347da8abd055afa9e952b": {
          "model_module": "@jupyter-widgets/controls",
          "model_name": "VBoxModel",
          "model_module_version": "1.5.0",
          "state": {
            "_dom_classes": [],
            "_model_module": "@jupyter-widgets/controls",
            "_model_module_version": "1.5.0",
            "_model_name": "VBoxModel",
            "_view_count": null,
            "_view_module": "@jupyter-widgets/controls",
            "_view_module_version": "1.5.0",
            "_view_name": "VBoxView",
            "box_style": "",
            "children": [
              "IPY_MODEL_072006a243cd4500b08d006c2a1e0440",
              "IPY_MODEL_c6fad50ab9e84172bc25b943a5de8af5"
            ],
            "layout": "IPY_MODEL_7c38cdcd258446f8b1cb04491b0b08fb"
          }
        },
        "072006a243cd4500b08d006c2a1e0440": {
          "model_module": "@jupyter-widgets/controls",
          "model_name": "LabelModel",
          "model_module_version": "1.5.0",
          "state": {
            "_dom_classes": [],
            "_model_module": "@jupyter-widgets/controls",
            "_model_module_version": "1.5.0",
            "_model_name": "LabelModel",
            "_view_count": null,
            "_view_module": "@jupyter-widgets/controls",
            "_view_module_version": "1.5.0",
            "_view_name": "LabelView",
            "description": "",
            "description_tooltip": null,
            "layout": "IPY_MODEL_03b73371709d497a90812fbca4f45bf0",
            "placeholder": "​",
            "style": "IPY_MODEL_275dad8539a74f44a2bab8f95d4acc28",
            "value": "2.279 MB of 2.279 MB uploaded (0.000 MB deduped)\r"
          }
        },
        "c6fad50ab9e84172bc25b943a5de8af5": {
          "model_module": "@jupyter-widgets/controls",
          "model_name": "FloatProgressModel",
          "model_module_version": "1.5.0",
          "state": {
            "_dom_classes": [],
            "_model_module": "@jupyter-widgets/controls",
            "_model_module_version": "1.5.0",
            "_model_name": "FloatProgressModel",
            "_view_count": null,
            "_view_module": "@jupyter-widgets/controls",
            "_view_module_version": "1.5.0",
            "_view_name": "ProgressView",
            "bar_style": "",
            "description": "",
            "description_tooltip": null,
            "layout": "IPY_MODEL_a84a59bd92624b7487d7fef08ac68bad",
            "max": 1,
            "min": 0,
            "orientation": "horizontal",
            "style": "IPY_MODEL_2dbf34ac45f94427a1b42fe5d8d9f645",
            "value": 1
          }
        },
        "7c38cdcd258446f8b1cb04491b0b08fb": {
          "model_module": "@jupyter-widgets/base",
          "model_name": "LayoutModel",
          "model_module_version": "1.2.0",
          "state": {
            "_model_module": "@jupyter-widgets/base",
            "_model_module_version": "1.2.0",
            "_model_name": "LayoutModel",
            "_view_count": null,
            "_view_module": "@jupyter-widgets/base",
            "_view_module_version": "1.2.0",
            "_view_name": "LayoutView",
            "align_content": null,
            "align_items": null,
            "align_self": null,
            "border": null,
            "bottom": null,
            "display": null,
            "flex": null,
            "flex_flow": null,
            "grid_area": null,
            "grid_auto_columns": null,
            "grid_auto_flow": null,
            "grid_auto_rows": null,
            "grid_column": null,
            "grid_gap": null,
            "grid_row": null,
            "grid_template_areas": null,
            "grid_template_columns": null,
            "grid_template_rows": null,
            "height": null,
            "justify_content": null,
            "justify_items": null,
            "left": null,
            "margin": null,
            "max_height": null,
            "max_width": null,
            "min_height": null,
            "min_width": null,
            "object_fit": null,
            "object_position": null,
            "order": null,
            "overflow": null,
            "overflow_x": null,
            "overflow_y": null,
            "padding": null,
            "right": null,
            "top": null,
            "visibility": null,
            "width": null
          }
        },
        "03b73371709d497a90812fbca4f45bf0": {
          "model_module": "@jupyter-widgets/base",
          "model_name": "LayoutModel",
          "model_module_version": "1.2.0",
          "state": {
            "_model_module": "@jupyter-widgets/base",
            "_model_module_version": "1.2.0",
            "_model_name": "LayoutModel",
            "_view_count": null,
            "_view_module": "@jupyter-widgets/base",
            "_view_module_version": "1.2.0",
            "_view_name": "LayoutView",
            "align_content": null,
            "align_items": null,
            "align_self": null,
            "border": null,
            "bottom": null,
            "display": null,
            "flex": null,
            "flex_flow": null,
            "grid_area": null,
            "grid_auto_columns": null,
            "grid_auto_flow": null,
            "grid_auto_rows": null,
            "grid_column": null,
            "grid_gap": null,
            "grid_row": null,
            "grid_template_areas": null,
            "grid_template_columns": null,
            "grid_template_rows": null,
            "height": null,
            "justify_content": null,
            "justify_items": null,
            "left": null,
            "margin": null,
            "max_height": null,
            "max_width": null,
            "min_height": null,
            "min_width": null,
            "object_fit": null,
            "object_position": null,
            "order": null,
            "overflow": null,
            "overflow_x": null,
            "overflow_y": null,
            "padding": null,
            "right": null,
            "top": null,
            "visibility": null,
            "width": null
          }
        },
        "275dad8539a74f44a2bab8f95d4acc28": {
          "model_module": "@jupyter-widgets/controls",
          "model_name": "DescriptionStyleModel",
          "model_module_version": "1.5.0",
          "state": {
            "_model_module": "@jupyter-widgets/controls",
            "_model_module_version": "1.5.0",
            "_model_name": "DescriptionStyleModel",
            "_view_count": null,
            "_view_module": "@jupyter-widgets/base",
            "_view_module_version": "1.2.0",
            "_view_name": "StyleView",
            "description_width": ""
          }
        },
        "a84a59bd92624b7487d7fef08ac68bad": {
          "model_module": "@jupyter-widgets/base",
          "model_name": "LayoutModel",
          "model_module_version": "1.2.0",
          "state": {
            "_model_module": "@jupyter-widgets/base",
            "_model_module_version": "1.2.0",
            "_model_name": "LayoutModel",
            "_view_count": null,
            "_view_module": "@jupyter-widgets/base",
            "_view_module_version": "1.2.0",
            "_view_name": "LayoutView",
            "align_content": null,
            "align_items": null,
            "align_self": null,
            "border": null,
            "bottom": null,
            "display": null,
            "flex": null,
            "flex_flow": null,
            "grid_area": null,
            "grid_auto_columns": null,
            "grid_auto_flow": null,
            "grid_auto_rows": null,
            "grid_column": null,
            "grid_gap": null,
            "grid_row": null,
            "grid_template_areas": null,
            "grid_template_columns": null,
            "grid_template_rows": null,
            "height": null,
            "justify_content": null,
            "justify_items": null,
            "left": null,
            "margin": null,
            "max_height": null,
            "max_width": null,
            "min_height": null,
            "min_width": null,
            "object_fit": null,
            "object_position": null,
            "order": null,
            "overflow": null,
            "overflow_x": null,
            "overflow_y": null,
            "padding": null,
            "right": null,
            "top": null,
            "visibility": null,
            "width": null
          }
        },
        "2dbf34ac45f94427a1b42fe5d8d9f645": {
          "model_module": "@jupyter-widgets/controls",
          "model_name": "ProgressStyleModel",
          "model_module_version": "1.5.0",
          "state": {
            "_model_module": "@jupyter-widgets/controls",
            "_model_module_version": "1.5.0",
            "_model_name": "ProgressStyleModel",
            "_view_count": null,
            "_view_module": "@jupyter-widgets/base",
            "_view_module_version": "1.2.0",
            "_view_name": "StyleView",
            "bar_color": null,
            "description_width": ""
          }
        },
        "7725e8fa190c499f8dfc79160f2e538b": {
          "model_module": "@jupyter-widgets/controls",
          "model_name": "VBoxModel",
          "model_module_version": "1.5.0",
          "state": {
            "_dom_classes": [],
            "_model_module": "@jupyter-widgets/controls",
            "_model_module_version": "1.5.0",
            "_model_name": "VBoxModel",
            "_view_count": null,
            "_view_module": "@jupyter-widgets/controls",
            "_view_module_version": "1.5.0",
            "_view_name": "VBoxView",
            "box_style": "",
            "children": [
              "IPY_MODEL_7f85b7374688471683153d4487d347a6",
              "IPY_MODEL_2bb8ac106115426b9b665d36d19864dc"
            ],
            "layout": "IPY_MODEL_6c8dc7ec9dbb4a76b4e7e0b2f765ab7d"
          }
        },
        "7f85b7374688471683153d4487d347a6": {
          "model_module": "@jupyter-widgets/controls",
          "model_name": "LabelModel",
          "model_module_version": "1.5.0",
          "state": {
            "_dom_classes": [],
            "_model_module": "@jupyter-widgets/controls",
            "_model_module_version": "1.5.0",
            "_model_name": "LabelModel",
            "_view_count": null,
            "_view_module": "@jupyter-widgets/controls",
            "_view_module_version": "1.5.0",
            "_view_name": "LabelView",
            "description": "",
            "description_tooltip": null,
            "layout": "IPY_MODEL_a0add36745e74051aade43f135c8add3",
            "placeholder": "​",
            "style": "IPY_MODEL_87eac0d5018140a5874f9a3979ff5575",
            "value": "3.121 MB of 3.121 MB uploaded (0.000 MB deduped)\r"
          }
        },
        "2bb8ac106115426b9b665d36d19864dc": {
          "model_module": "@jupyter-widgets/controls",
          "model_name": "FloatProgressModel",
          "model_module_version": "1.5.0",
          "state": {
            "_dom_classes": [],
            "_model_module": "@jupyter-widgets/controls",
            "_model_module_version": "1.5.0",
            "_model_name": "FloatProgressModel",
            "_view_count": null,
            "_view_module": "@jupyter-widgets/controls",
            "_view_module_version": "1.5.0",
            "_view_name": "ProgressView",
            "bar_style": "",
            "description": "",
            "description_tooltip": null,
            "layout": "IPY_MODEL_56d1a9cc40b54375874fd12b8a4479ee",
            "max": 1,
            "min": 0,
            "orientation": "horizontal",
            "style": "IPY_MODEL_8dfc8ac42a8e4008803efd964d790c87",
            "value": 1
          }
        },
        "6c8dc7ec9dbb4a76b4e7e0b2f765ab7d": {
          "model_module": "@jupyter-widgets/base",
          "model_name": "LayoutModel",
          "model_module_version": "1.2.0",
          "state": {
            "_model_module": "@jupyter-widgets/base",
            "_model_module_version": "1.2.0",
            "_model_name": "LayoutModel",
            "_view_count": null,
            "_view_module": "@jupyter-widgets/base",
            "_view_module_version": "1.2.0",
            "_view_name": "LayoutView",
            "align_content": null,
            "align_items": null,
            "align_self": null,
            "border": null,
            "bottom": null,
            "display": null,
            "flex": null,
            "flex_flow": null,
            "grid_area": null,
            "grid_auto_columns": null,
            "grid_auto_flow": null,
            "grid_auto_rows": null,
            "grid_column": null,
            "grid_gap": null,
            "grid_row": null,
            "grid_template_areas": null,
            "grid_template_columns": null,
            "grid_template_rows": null,
            "height": null,
            "justify_content": null,
            "justify_items": null,
            "left": null,
            "margin": null,
            "max_height": null,
            "max_width": null,
            "min_height": null,
            "min_width": null,
            "object_fit": null,
            "object_position": null,
            "order": null,
            "overflow": null,
            "overflow_x": null,
            "overflow_y": null,
            "padding": null,
            "right": null,
            "top": null,
            "visibility": null,
            "width": null
          }
        },
        "a0add36745e74051aade43f135c8add3": {
          "model_module": "@jupyter-widgets/base",
          "model_name": "LayoutModel",
          "model_module_version": "1.2.0",
          "state": {
            "_model_module": "@jupyter-widgets/base",
            "_model_module_version": "1.2.0",
            "_model_name": "LayoutModel",
            "_view_count": null,
            "_view_module": "@jupyter-widgets/base",
            "_view_module_version": "1.2.0",
            "_view_name": "LayoutView",
            "align_content": null,
            "align_items": null,
            "align_self": null,
            "border": null,
            "bottom": null,
            "display": null,
            "flex": null,
            "flex_flow": null,
            "grid_area": null,
            "grid_auto_columns": null,
            "grid_auto_flow": null,
            "grid_auto_rows": null,
            "grid_column": null,
            "grid_gap": null,
            "grid_row": null,
            "grid_template_areas": null,
            "grid_template_columns": null,
            "grid_template_rows": null,
            "height": null,
            "justify_content": null,
            "justify_items": null,
            "left": null,
            "margin": null,
            "max_height": null,
            "max_width": null,
            "min_height": null,
            "min_width": null,
            "object_fit": null,
            "object_position": null,
            "order": null,
            "overflow": null,
            "overflow_x": null,
            "overflow_y": null,
            "padding": null,
            "right": null,
            "top": null,
            "visibility": null,
            "width": null
          }
        },
        "87eac0d5018140a5874f9a3979ff5575": {
          "model_module": "@jupyter-widgets/controls",
          "model_name": "DescriptionStyleModel",
          "model_module_version": "1.5.0",
          "state": {
            "_model_module": "@jupyter-widgets/controls",
            "_model_module_version": "1.5.0",
            "_model_name": "DescriptionStyleModel",
            "_view_count": null,
            "_view_module": "@jupyter-widgets/base",
            "_view_module_version": "1.2.0",
            "_view_name": "StyleView",
            "description_width": ""
          }
        },
        "56d1a9cc40b54375874fd12b8a4479ee": {
          "model_module": "@jupyter-widgets/base",
          "model_name": "LayoutModel",
          "model_module_version": "1.2.0",
          "state": {
            "_model_module": "@jupyter-widgets/base",
            "_model_module_version": "1.2.0",
            "_model_name": "LayoutModel",
            "_view_count": null,
            "_view_module": "@jupyter-widgets/base",
            "_view_module_version": "1.2.0",
            "_view_name": "LayoutView",
            "align_content": null,
            "align_items": null,
            "align_self": null,
            "border": null,
            "bottom": null,
            "display": null,
            "flex": null,
            "flex_flow": null,
            "grid_area": null,
            "grid_auto_columns": null,
            "grid_auto_flow": null,
            "grid_auto_rows": null,
            "grid_column": null,
            "grid_gap": null,
            "grid_row": null,
            "grid_template_areas": null,
            "grid_template_columns": null,
            "grid_template_rows": null,
            "height": null,
            "justify_content": null,
            "justify_items": null,
            "left": null,
            "margin": null,
            "max_height": null,
            "max_width": null,
            "min_height": null,
            "min_width": null,
            "object_fit": null,
            "object_position": null,
            "order": null,
            "overflow": null,
            "overflow_x": null,
            "overflow_y": null,
            "padding": null,
            "right": null,
            "top": null,
            "visibility": null,
            "width": null
          }
        },
        "8dfc8ac42a8e4008803efd964d790c87": {
          "model_module": "@jupyter-widgets/controls",
          "model_name": "ProgressStyleModel",
          "model_module_version": "1.5.0",
          "state": {
            "_model_module": "@jupyter-widgets/controls",
            "_model_module_version": "1.5.0",
            "_model_name": "ProgressStyleModel",
            "_view_count": null,
            "_view_module": "@jupyter-widgets/base",
            "_view_module_version": "1.2.0",
            "_view_name": "StyleView",
            "bar_color": null,
            "description_width": ""
          }
        },
        "b69a5d547c40498b8135c06506371f50": {
          "model_module": "@jupyter-widgets/controls",
          "model_name": "VBoxModel",
          "model_module_version": "1.5.0",
          "state": {
            "_dom_classes": [],
            "_model_module": "@jupyter-widgets/controls",
            "_model_module_version": "1.5.0",
            "_model_name": "VBoxModel",
            "_view_count": null,
            "_view_module": "@jupyter-widgets/controls",
            "_view_module_version": "1.5.0",
            "_view_name": "VBoxView",
            "box_style": "",
            "children": [
              "IPY_MODEL_fd8dda0a68314a10b7d0c378c0f85729",
              "IPY_MODEL_afe1e485316645eaade4270a82ae0652"
            ],
            "layout": "IPY_MODEL_5e3e893f43694b9b8ddc7311a10495d2"
          }
        },
        "fd8dda0a68314a10b7d0c378c0f85729": {
          "model_module": "@jupyter-widgets/controls",
          "model_name": "LabelModel",
          "model_module_version": "1.5.0",
          "state": {
            "_dom_classes": [],
            "_model_module": "@jupyter-widgets/controls",
            "_model_module_version": "1.5.0",
            "_model_name": "LabelModel",
            "_view_count": null,
            "_view_module": "@jupyter-widgets/controls",
            "_view_module_version": "1.5.0",
            "_view_name": "LabelView",
            "description": "",
            "description_tooltip": null,
            "layout": "IPY_MODEL_05032d45cfb04ac3b935c2e2f06c8635",
            "placeholder": "​",
            "style": "IPY_MODEL_d78a9544c2c04761aa9099f67127524e",
            "value": "2.279 MB of 2.279 MB uploaded (0.000 MB deduped)\r"
          }
        },
        "afe1e485316645eaade4270a82ae0652": {
          "model_module": "@jupyter-widgets/controls",
          "model_name": "FloatProgressModel",
          "model_module_version": "1.5.0",
          "state": {
            "_dom_classes": [],
            "_model_module": "@jupyter-widgets/controls",
            "_model_module_version": "1.5.0",
            "_model_name": "FloatProgressModel",
            "_view_count": null,
            "_view_module": "@jupyter-widgets/controls",
            "_view_module_version": "1.5.0",
            "_view_name": "ProgressView",
            "bar_style": "",
            "description": "",
            "description_tooltip": null,
            "layout": "IPY_MODEL_e91488db730e409a89ef24d105dc393b",
            "max": 1,
            "min": 0,
            "orientation": "horizontal",
            "style": "IPY_MODEL_f498cb89559a45cea2402519e33412bb",
            "value": 1
          }
        },
        "5e3e893f43694b9b8ddc7311a10495d2": {
          "model_module": "@jupyter-widgets/base",
          "model_name": "LayoutModel",
          "model_module_version": "1.2.0",
          "state": {
            "_model_module": "@jupyter-widgets/base",
            "_model_module_version": "1.2.0",
            "_model_name": "LayoutModel",
            "_view_count": null,
            "_view_module": "@jupyter-widgets/base",
            "_view_module_version": "1.2.0",
            "_view_name": "LayoutView",
            "align_content": null,
            "align_items": null,
            "align_self": null,
            "border": null,
            "bottom": null,
            "display": null,
            "flex": null,
            "flex_flow": null,
            "grid_area": null,
            "grid_auto_columns": null,
            "grid_auto_flow": null,
            "grid_auto_rows": null,
            "grid_column": null,
            "grid_gap": null,
            "grid_row": null,
            "grid_template_areas": null,
            "grid_template_columns": null,
            "grid_template_rows": null,
            "height": null,
            "justify_content": null,
            "justify_items": null,
            "left": null,
            "margin": null,
            "max_height": null,
            "max_width": null,
            "min_height": null,
            "min_width": null,
            "object_fit": null,
            "object_position": null,
            "order": null,
            "overflow": null,
            "overflow_x": null,
            "overflow_y": null,
            "padding": null,
            "right": null,
            "top": null,
            "visibility": null,
            "width": null
          }
        },
        "05032d45cfb04ac3b935c2e2f06c8635": {
          "model_module": "@jupyter-widgets/base",
          "model_name": "LayoutModel",
          "model_module_version": "1.2.0",
          "state": {
            "_model_module": "@jupyter-widgets/base",
            "_model_module_version": "1.2.0",
            "_model_name": "LayoutModel",
            "_view_count": null,
            "_view_module": "@jupyter-widgets/base",
            "_view_module_version": "1.2.0",
            "_view_name": "LayoutView",
            "align_content": null,
            "align_items": null,
            "align_self": null,
            "border": null,
            "bottom": null,
            "display": null,
            "flex": null,
            "flex_flow": null,
            "grid_area": null,
            "grid_auto_columns": null,
            "grid_auto_flow": null,
            "grid_auto_rows": null,
            "grid_column": null,
            "grid_gap": null,
            "grid_row": null,
            "grid_template_areas": null,
            "grid_template_columns": null,
            "grid_template_rows": null,
            "height": null,
            "justify_content": null,
            "justify_items": null,
            "left": null,
            "margin": null,
            "max_height": null,
            "max_width": null,
            "min_height": null,
            "min_width": null,
            "object_fit": null,
            "object_position": null,
            "order": null,
            "overflow": null,
            "overflow_x": null,
            "overflow_y": null,
            "padding": null,
            "right": null,
            "top": null,
            "visibility": null,
            "width": null
          }
        },
        "d78a9544c2c04761aa9099f67127524e": {
          "model_module": "@jupyter-widgets/controls",
          "model_name": "DescriptionStyleModel",
          "model_module_version": "1.5.0",
          "state": {
            "_model_module": "@jupyter-widgets/controls",
            "_model_module_version": "1.5.0",
            "_model_name": "DescriptionStyleModel",
            "_view_count": null,
            "_view_module": "@jupyter-widgets/base",
            "_view_module_version": "1.2.0",
            "_view_name": "StyleView",
            "description_width": ""
          }
        },
        "e91488db730e409a89ef24d105dc393b": {
          "model_module": "@jupyter-widgets/base",
          "model_name": "LayoutModel",
          "model_module_version": "1.2.0",
          "state": {
            "_model_module": "@jupyter-widgets/base",
            "_model_module_version": "1.2.0",
            "_model_name": "LayoutModel",
            "_view_count": null,
            "_view_module": "@jupyter-widgets/base",
            "_view_module_version": "1.2.0",
            "_view_name": "LayoutView",
            "align_content": null,
            "align_items": null,
            "align_self": null,
            "border": null,
            "bottom": null,
            "display": null,
            "flex": null,
            "flex_flow": null,
            "grid_area": null,
            "grid_auto_columns": null,
            "grid_auto_flow": null,
            "grid_auto_rows": null,
            "grid_column": null,
            "grid_gap": null,
            "grid_row": null,
            "grid_template_areas": null,
            "grid_template_columns": null,
            "grid_template_rows": null,
            "height": null,
            "justify_content": null,
            "justify_items": null,
            "left": null,
            "margin": null,
            "max_height": null,
            "max_width": null,
            "min_height": null,
            "min_width": null,
            "object_fit": null,
            "object_position": null,
            "order": null,
            "overflow": null,
            "overflow_x": null,
            "overflow_y": null,
            "padding": null,
            "right": null,
            "top": null,
            "visibility": null,
            "width": null
          }
        },
        "f498cb89559a45cea2402519e33412bb": {
          "model_module": "@jupyter-widgets/controls",
          "model_name": "ProgressStyleModel",
          "model_module_version": "1.5.0",
          "state": {
            "_model_module": "@jupyter-widgets/controls",
            "_model_module_version": "1.5.0",
            "_model_name": "ProgressStyleModel",
            "_view_count": null,
            "_view_module": "@jupyter-widgets/base",
            "_view_module_version": "1.2.0",
            "_view_name": "StyleView",
            "bar_color": null,
            "description_width": ""
          }
        },
        "17c7487259d64b909ed63de0c89cd028": {
          "model_module": "@jupyter-widgets/controls",
          "model_name": "VBoxModel",
          "model_module_version": "1.5.0",
          "state": {
            "_dom_classes": [],
            "_model_module": "@jupyter-widgets/controls",
            "_model_module_version": "1.5.0",
            "_model_name": "VBoxModel",
            "_view_count": null,
            "_view_module": "@jupyter-widgets/controls",
            "_view_module_version": "1.5.0",
            "_view_name": "VBoxView",
            "box_style": "",
            "children": [
              "IPY_MODEL_a940b3665e794c659cb27f3bb9ba6307",
              "IPY_MODEL_8675a2bdd2f54d389940423b456f7a05"
            ],
            "layout": "IPY_MODEL_1d945d74afe54bb2a8234005f986db56"
          }
        },
        "a940b3665e794c659cb27f3bb9ba6307": {
          "model_module": "@jupyter-widgets/controls",
          "model_name": "LabelModel",
          "model_module_version": "1.5.0",
          "state": {
            "_dom_classes": [],
            "_model_module": "@jupyter-widgets/controls",
            "_model_module_version": "1.5.0",
            "_model_name": "LabelModel",
            "_view_count": null,
            "_view_module": "@jupyter-widgets/controls",
            "_view_module_version": "1.5.0",
            "_view_name": "LabelView",
            "description": "",
            "description_tooltip": null,
            "layout": "IPY_MODEL_ab0bfae37a504bd19990c59265074b03",
            "placeholder": "​",
            "style": "IPY_MODEL_e0a685077ee245cd93aee19fbf532e69",
            "value": "3.544 MB of 3.544 MB uploaded (0.000 MB deduped)\r"
          }
        },
        "8675a2bdd2f54d389940423b456f7a05": {
          "model_module": "@jupyter-widgets/controls",
          "model_name": "FloatProgressModel",
          "model_module_version": "1.5.0",
          "state": {
            "_dom_classes": [],
            "_model_module": "@jupyter-widgets/controls",
            "_model_module_version": "1.5.0",
            "_model_name": "FloatProgressModel",
            "_view_count": null,
            "_view_module": "@jupyter-widgets/controls",
            "_view_module_version": "1.5.0",
            "_view_name": "ProgressView",
            "bar_style": "",
            "description": "",
            "description_tooltip": null,
            "layout": "IPY_MODEL_9e5326f8b90c44e9a0567f6c5345178c",
            "max": 1,
            "min": 0,
            "orientation": "horizontal",
            "style": "IPY_MODEL_8ee84adc218341fa9faa9d30f6ee1e8f",
            "value": 1
          }
        },
        "1d945d74afe54bb2a8234005f986db56": {
          "model_module": "@jupyter-widgets/base",
          "model_name": "LayoutModel",
          "model_module_version": "1.2.0",
          "state": {
            "_model_module": "@jupyter-widgets/base",
            "_model_module_version": "1.2.0",
            "_model_name": "LayoutModel",
            "_view_count": null,
            "_view_module": "@jupyter-widgets/base",
            "_view_module_version": "1.2.0",
            "_view_name": "LayoutView",
            "align_content": null,
            "align_items": null,
            "align_self": null,
            "border": null,
            "bottom": null,
            "display": null,
            "flex": null,
            "flex_flow": null,
            "grid_area": null,
            "grid_auto_columns": null,
            "grid_auto_flow": null,
            "grid_auto_rows": null,
            "grid_column": null,
            "grid_gap": null,
            "grid_row": null,
            "grid_template_areas": null,
            "grid_template_columns": null,
            "grid_template_rows": null,
            "height": null,
            "justify_content": null,
            "justify_items": null,
            "left": null,
            "margin": null,
            "max_height": null,
            "max_width": null,
            "min_height": null,
            "min_width": null,
            "object_fit": null,
            "object_position": null,
            "order": null,
            "overflow": null,
            "overflow_x": null,
            "overflow_y": null,
            "padding": null,
            "right": null,
            "top": null,
            "visibility": null,
            "width": null
          }
        },
        "ab0bfae37a504bd19990c59265074b03": {
          "model_module": "@jupyter-widgets/base",
          "model_name": "LayoutModel",
          "model_module_version": "1.2.0",
          "state": {
            "_model_module": "@jupyter-widgets/base",
            "_model_module_version": "1.2.0",
            "_model_name": "LayoutModel",
            "_view_count": null,
            "_view_module": "@jupyter-widgets/base",
            "_view_module_version": "1.2.0",
            "_view_name": "LayoutView",
            "align_content": null,
            "align_items": null,
            "align_self": null,
            "border": null,
            "bottom": null,
            "display": null,
            "flex": null,
            "flex_flow": null,
            "grid_area": null,
            "grid_auto_columns": null,
            "grid_auto_flow": null,
            "grid_auto_rows": null,
            "grid_column": null,
            "grid_gap": null,
            "grid_row": null,
            "grid_template_areas": null,
            "grid_template_columns": null,
            "grid_template_rows": null,
            "height": null,
            "justify_content": null,
            "justify_items": null,
            "left": null,
            "margin": null,
            "max_height": null,
            "max_width": null,
            "min_height": null,
            "min_width": null,
            "object_fit": null,
            "object_position": null,
            "order": null,
            "overflow": null,
            "overflow_x": null,
            "overflow_y": null,
            "padding": null,
            "right": null,
            "top": null,
            "visibility": null,
            "width": null
          }
        },
        "e0a685077ee245cd93aee19fbf532e69": {
          "model_module": "@jupyter-widgets/controls",
          "model_name": "DescriptionStyleModel",
          "model_module_version": "1.5.0",
          "state": {
            "_model_module": "@jupyter-widgets/controls",
            "_model_module_version": "1.5.0",
            "_model_name": "DescriptionStyleModel",
            "_view_count": null,
            "_view_module": "@jupyter-widgets/base",
            "_view_module_version": "1.2.0",
            "_view_name": "StyleView",
            "description_width": ""
          }
        },
        "9e5326f8b90c44e9a0567f6c5345178c": {
          "model_module": "@jupyter-widgets/base",
          "model_name": "LayoutModel",
          "model_module_version": "1.2.0",
          "state": {
            "_model_module": "@jupyter-widgets/base",
            "_model_module_version": "1.2.0",
            "_model_name": "LayoutModel",
            "_view_count": null,
            "_view_module": "@jupyter-widgets/base",
            "_view_module_version": "1.2.0",
            "_view_name": "LayoutView",
            "align_content": null,
            "align_items": null,
            "align_self": null,
            "border": null,
            "bottom": null,
            "display": null,
            "flex": null,
            "flex_flow": null,
            "grid_area": null,
            "grid_auto_columns": null,
            "grid_auto_flow": null,
            "grid_auto_rows": null,
            "grid_column": null,
            "grid_gap": null,
            "grid_row": null,
            "grid_template_areas": null,
            "grid_template_columns": null,
            "grid_template_rows": null,
            "height": null,
            "justify_content": null,
            "justify_items": null,
            "left": null,
            "margin": null,
            "max_height": null,
            "max_width": null,
            "min_height": null,
            "min_width": null,
            "object_fit": null,
            "object_position": null,
            "order": null,
            "overflow": null,
            "overflow_x": null,
            "overflow_y": null,
            "padding": null,
            "right": null,
            "top": null,
            "visibility": null,
            "width": null
          }
        },
        "8ee84adc218341fa9faa9d30f6ee1e8f": {
          "model_module": "@jupyter-widgets/controls",
          "model_name": "ProgressStyleModel",
          "model_module_version": "1.5.0",
          "state": {
            "_model_module": "@jupyter-widgets/controls",
            "_model_module_version": "1.5.0",
            "_model_name": "ProgressStyleModel",
            "_view_count": null,
            "_view_module": "@jupyter-widgets/base",
            "_view_module_version": "1.2.0",
            "_view_name": "StyleView",
            "bar_color": null,
            "description_width": ""
          }
        },
        "7276c1ec9b4042e8b4aacfa0740a4e55": {
          "model_module": "@jupyter-widgets/controls",
          "model_name": "VBoxModel",
          "model_module_version": "1.5.0",
          "state": {
            "_dom_classes": [],
            "_model_module": "@jupyter-widgets/controls",
            "_model_module_version": "1.5.0",
            "_model_name": "VBoxModel",
            "_view_count": null,
            "_view_module": "@jupyter-widgets/controls",
            "_view_module_version": "1.5.0",
            "_view_name": "VBoxView",
            "box_style": "",
            "children": [
              "IPY_MODEL_1fda6e1d1e2b4274a3f6ea4ac0c9adff",
              "IPY_MODEL_ea9f1039b5424a6c8f2cce083deacdb1"
            ],
            "layout": "IPY_MODEL_23c37953173b495496570bc50bcad4c1"
          }
        },
        "1fda6e1d1e2b4274a3f6ea4ac0c9adff": {
          "model_module": "@jupyter-widgets/controls",
          "model_name": "LabelModel",
          "model_module_version": "1.5.0",
          "state": {
            "_dom_classes": [],
            "_model_module": "@jupyter-widgets/controls",
            "_model_module_version": "1.5.0",
            "_model_name": "LabelModel",
            "_view_count": null,
            "_view_module": "@jupyter-widgets/controls",
            "_view_module_version": "1.5.0",
            "_view_name": "LabelView",
            "description": "",
            "description_tooltip": null,
            "layout": "IPY_MODEL_43c2c27299ea452691a489621e6364e8",
            "placeholder": "​",
            "style": "IPY_MODEL_6cfc0cd8ab6e4d78b59670ec992d91df",
            "value": "5.852 MB of 5.852 MB uploaded (0.000 MB deduped)\r"
          }
        },
        "ea9f1039b5424a6c8f2cce083deacdb1": {
          "model_module": "@jupyter-widgets/controls",
          "model_name": "FloatProgressModel",
          "model_module_version": "1.5.0",
          "state": {
            "_dom_classes": [],
            "_model_module": "@jupyter-widgets/controls",
            "_model_module_version": "1.5.0",
            "_model_name": "FloatProgressModel",
            "_view_count": null,
            "_view_module": "@jupyter-widgets/controls",
            "_view_module_version": "1.5.0",
            "_view_name": "ProgressView",
            "bar_style": "",
            "description": "",
            "description_tooltip": null,
            "layout": "IPY_MODEL_0d50534ffd4f434fab4518afa71f29ac",
            "max": 1,
            "min": 0,
            "orientation": "horizontal",
            "style": "IPY_MODEL_8bfa65d0d42c45d2a7dc7ef0d02b435b",
            "value": 1
          }
        },
        "23c37953173b495496570bc50bcad4c1": {
          "model_module": "@jupyter-widgets/base",
          "model_name": "LayoutModel",
          "model_module_version": "1.2.0",
          "state": {
            "_model_module": "@jupyter-widgets/base",
            "_model_module_version": "1.2.0",
            "_model_name": "LayoutModel",
            "_view_count": null,
            "_view_module": "@jupyter-widgets/base",
            "_view_module_version": "1.2.0",
            "_view_name": "LayoutView",
            "align_content": null,
            "align_items": null,
            "align_self": null,
            "border": null,
            "bottom": null,
            "display": null,
            "flex": null,
            "flex_flow": null,
            "grid_area": null,
            "grid_auto_columns": null,
            "grid_auto_flow": null,
            "grid_auto_rows": null,
            "grid_column": null,
            "grid_gap": null,
            "grid_row": null,
            "grid_template_areas": null,
            "grid_template_columns": null,
            "grid_template_rows": null,
            "height": null,
            "justify_content": null,
            "justify_items": null,
            "left": null,
            "margin": null,
            "max_height": null,
            "max_width": null,
            "min_height": null,
            "min_width": null,
            "object_fit": null,
            "object_position": null,
            "order": null,
            "overflow": null,
            "overflow_x": null,
            "overflow_y": null,
            "padding": null,
            "right": null,
            "top": null,
            "visibility": null,
            "width": null
          }
        },
        "43c2c27299ea452691a489621e6364e8": {
          "model_module": "@jupyter-widgets/base",
          "model_name": "LayoutModel",
          "model_module_version": "1.2.0",
          "state": {
            "_model_module": "@jupyter-widgets/base",
            "_model_module_version": "1.2.0",
            "_model_name": "LayoutModel",
            "_view_count": null,
            "_view_module": "@jupyter-widgets/base",
            "_view_module_version": "1.2.0",
            "_view_name": "LayoutView",
            "align_content": null,
            "align_items": null,
            "align_self": null,
            "border": null,
            "bottom": null,
            "display": null,
            "flex": null,
            "flex_flow": null,
            "grid_area": null,
            "grid_auto_columns": null,
            "grid_auto_flow": null,
            "grid_auto_rows": null,
            "grid_column": null,
            "grid_gap": null,
            "grid_row": null,
            "grid_template_areas": null,
            "grid_template_columns": null,
            "grid_template_rows": null,
            "height": null,
            "justify_content": null,
            "justify_items": null,
            "left": null,
            "margin": null,
            "max_height": null,
            "max_width": null,
            "min_height": null,
            "min_width": null,
            "object_fit": null,
            "object_position": null,
            "order": null,
            "overflow": null,
            "overflow_x": null,
            "overflow_y": null,
            "padding": null,
            "right": null,
            "top": null,
            "visibility": null,
            "width": null
          }
        },
        "6cfc0cd8ab6e4d78b59670ec992d91df": {
          "model_module": "@jupyter-widgets/controls",
          "model_name": "DescriptionStyleModel",
          "model_module_version": "1.5.0",
          "state": {
            "_model_module": "@jupyter-widgets/controls",
            "_model_module_version": "1.5.0",
            "_model_name": "DescriptionStyleModel",
            "_view_count": null,
            "_view_module": "@jupyter-widgets/base",
            "_view_module_version": "1.2.0",
            "_view_name": "StyleView",
            "description_width": ""
          }
        },
        "0d50534ffd4f434fab4518afa71f29ac": {
          "model_module": "@jupyter-widgets/base",
          "model_name": "LayoutModel",
          "model_module_version": "1.2.0",
          "state": {
            "_model_module": "@jupyter-widgets/base",
            "_model_module_version": "1.2.0",
            "_model_name": "LayoutModel",
            "_view_count": null,
            "_view_module": "@jupyter-widgets/base",
            "_view_module_version": "1.2.0",
            "_view_name": "LayoutView",
            "align_content": null,
            "align_items": null,
            "align_self": null,
            "border": null,
            "bottom": null,
            "display": null,
            "flex": null,
            "flex_flow": null,
            "grid_area": null,
            "grid_auto_columns": null,
            "grid_auto_flow": null,
            "grid_auto_rows": null,
            "grid_column": null,
            "grid_gap": null,
            "grid_row": null,
            "grid_template_areas": null,
            "grid_template_columns": null,
            "grid_template_rows": null,
            "height": null,
            "justify_content": null,
            "justify_items": null,
            "left": null,
            "margin": null,
            "max_height": null,
            "max_width": null,
            "min_height": null,
            "min_width": null,
            "object_fit": null,
            "object_position": null,
            "order": null,
            "overflow": null,
            "overflow_x": null,
            "overflow_y": null,
            "padding": null,
            "right": null,
            "top": null,
            "visibility": null,
            "width": null
          }
        },
        "8bfa65d0d42c45d2a7dc7ef0d02b435b": {
          "model_module": "@jupyter-widgets/controls",
          "model_name": "ProgressStyleModel",
          "model_module_version": "1.5.0",
          "state": {
            "_model_module": "@jupyter-widgets/controls",
            "_model_module_version": "1.5.0",
            "_model_name": "ProgressStyleModel",
            "_view_count": null,
            "_view_module": "@jupyter-widgets/base",
            "_view_module_version": "1.2.0",
            "_view_name": "StyleView",
            "bar_color": null,
            "description_width": ""
          }
        },
        "b5f4a8ebaeb24cd692836c3424b847c1": {
          "model_module": "@jupyter-widgets/controls",
          "model_name": "VBoxModel",
          "model_module_version": "1.5.0",
          "state": {
            "_dom_classes": [],
            "_model_module": "@jupyter-widgets/controls",
            "_model_module_version": "1.5.0",
            "_model_name": "VBoxModel",
            "_view_count": null,
            "_view_module": "@jupyter-widgets/controls",
            "_view_module_version": "1.5.0",
            "_view_name": "VBoxView",
            "box_style": "",
            "children": [
              "IPY_MODEL_86489acc67614c7f96b60704e5449111",
              "IPY_MODEL_fe0bf293f73a4c6f812e0fe38d664694"
            ],
            "layout": "IPY_MODEL_e6f36a908f104316b6b5167f8b67d210"
          }
        },
        "86489acc67614c7f96b60704e5449111": {
          "model_module": "@jupyter-widgets/controls",
          "model_name": "LabelModel",
          "model_module_version": "1.5.0",
          "state": {
            "_dom_classes": [],
            "_model_module": "@jupyter-widgets/controls",
            "_model_module_version": "1.5.0",
            "_model_name": "LabelModel",
            "_view_count": null,
            "_view_module": "@jupyter-widgets/controls",
            "_view_module_version": "1.5.0",
            "_view_name": "LabelView",
            "description": "",
            "description_tooltip": null,
            "layout": "IPY_MODEL_e46b8aedc5f948968182e35ccff0ed7b",
            "placeholder": "​",
            "style": "IPY_MODEL_1822ece77de043d2a2e80a16167b193d",
            "value": "2.279 MB of 2.279 MB uploaded (0.000 MB deduped)\r"
          }
        },
        "fe0bf293f73a4c6f812e0fe38d664694": {
          "model_module": "@jupyter-widgets/controls",
          "model_name": "FloatProgressModel",
          "model_module_version": "1.5.0",
          "state": {
            "_dom_classes": [],
            "_model_module": "@jupyter-widgets/controls",
            "_model_module_version": "1.5.0",
            "_model_name": "FloatProgressModel",
            "_view_count": null,
            "_view_module": "@jupyter-widgets/controls",
            "_view_module_version": "1.5.0",
            "_view_name": "ProgressView",
            "bar_style": "",
            "description": "",
            "description_tooltip": null,
            "layout": "IPY_MODEL_4e3b3ef57fe94f57850dd785158ab30e",
            "max": 1,
            "min": 0,
            "orientation": "horizontal",
            "style": "IPY_MODEL_27b74bda08d248b484b1f697e8a0f1bc",
            "value": 1
          }
        },
        "e6f36a908f104316b6b5167f8b67d210": {
          "model_module": "@jupyter-widgets/base",
          "model_name": "LayoutModel",
          "model_module_version": "1.2.0",
          "state": {
            "_model_module": "@jupyter-widgets/base",
            "_model_module_version": "1.2.0",
            "_model_name": "LayoutModel",
            "_view_count": null,
            "_view_module": "@jupyter-widgets/base",
            "_view_module_version": "1.2.0",
            "_view_name": "LayoutView",
            "align_content": null,
            "align_items": null,
            "align_self": null,
            "border": null,
            "bottom": null,
            "display": null,
            "flex": null,
            "flex_flow": null,
            "grid_area": null,
            "grid_auto_columns": null,
            "grid_auto_flow": null,
            "grid_auto_rows": null,
            "grid_column": null,
            "grid_gap": null,
            "grid_row": null,
            "grid_template_areas": null,
            "grid_template_columns": null,
            "grid_template_rows": null,
            "height": null,
            "justify_content": null,
            "justify_items": null,
            "left": null,
            "margin": null,
            "max_height": null,
            "max_width": null,
            "min_height": null,
            "min_width": null,
            "object_fit": null,
            "object_position": null,
            "order": null,
            "overflow": null,
            "overflow_x": null,
            "overflow_y": null,
            "padding": null,
            "right": null,
            "top": null,
            "visibility": null,
            "width": null
          }
        },
        "e46b8aedc5f948968182e35ccff0ed7b": {
          "model_module": "@jupyter-widgets/base",
          "model_name": "LayoutModel",
          "model_module_version": "1.2.0",
          "state": {
            "_model_module": "@jupyter-widgets/base",
            "_model_module_version": "1.2.0",
            "_model_name": "LayoutModel",
            "_view_count": null,
            "_view_module": "@jupyter-widgets/base",
            "_view_module_version": "1.2.0",
            "_view_name": "LayoutView",
            "align_content": null,
            "align_items": null,
            "align_self": null,
            "border": null,
            "bottom": null,
            "display": null,
            "flex": null,
            "flex_flow": null,
            "grid_area": null,
            "grid_auto_columns": null,
            "grid_auto_flow": null,
            "grid_auto_rows": null,
            "grid_column": null,
            "grid_gap": null,
            "grid_row": null,
            "grid_template_areas": null,
            "grid_template_columns": null,
            "grid_template_rows": null,
            "height": null,
            "justify_content": null,
            "justify_items": null,
            "left": null,
            "margin": null,
            "max_height": null,
            "max_width": null,
            "min_height": null,
            "min_width": null,
            "object_fit": null,
            "object_position": null,
            "order": null,
            "overflow": null,
            "overflow_x": null,
            "overflow_y": null,
            "padding": null,
            "right": null,
            "top": null,
            "visibility": null,
            "width": null
          }
        },
        "1822ece77de043d2a2e80a16167b193d": {
          "model_module": "@jupyter-widgets/controls",
          "model_name": "DescriptionStyleModel",
          "model_module_version": "1.5.0",
          "state": {
            "_model_module": "@jupyter-widgets/controls",
            "_model_module_version": "1.5.0",
            "_model_name": "DescriptionStyleModel",
            "_view_count": null,
            "_view_module": "@jupyter-widgets/base",
            "_view_module_version": "1.2.0",
            "_view_name": "StyleView",
            "description_width": ""
          }
        },
        "4e3b3ef57fe94f57850dd785158ab30e": {
          "model_module": "@jupyter-widgets/base",
          "model_name": "LayoutModel",
          "model_module_version": "1.2.0",
          "state": {
            "_model_module": "@jupyter-widgets/base",
            "_model_module_version": "1.2.0",
            "_model_name": "LayoutModel",
            "_view_count": null,
            "_view_module": "@jupyter-widgets/base",
            "_view_module_version": "1.2.0",
            "_view_name": "LayoutView",
            "align_content": null,
            "align_items": null,
            "align_self": null,
            "border": null,
            "bottom": null,
            "display": null,
            "flex": null,
            "flex_flow": null,
            "grid_area": null,
            "grid_auto_columns": null,
            "grid_auto_flow": null,
            "grid_auto_rows": null,
            "grid_column": null,
            "grid_gap": null,
            "grid_row": null,
            "grid_template_areas": null,
            "grid_template_columns": null,
            "grid_template_rows": null,
            "height": null,
            "justify_content": null,
            "justify_items": null,
            "left": null,
            "margin": null,
            "max_height": null,
            "max_width": null,
            "min_height": null,
            "min_width": null,
            "object_fit": null,
            "object_position": null,
            "order": null,
            "overflow": null,
            "overflow_x": null,
            "overflow_y": null,
            "padding": null,
            "right": null,
            "top": null,
            "visibility": null,
            "width": null
          }
        },
        "27b74bda08d248b484b1f697e8a0f1bc": {
          "model_module": "@jupyter-widgets/controls",
          "model_name": "ProgressStyleModel",
          "model_module_version": "1.5.0",
          "state": {
            "_model_module": "@jupyter-widgets/controls",
            "_model_module_version": "1.5.0",
            "_model_name": "ProgressStyleModel",
            "_view_count": null,
            "_view_module": "@jupyter-widgets/base",
            "_view_module_version": "1.2.0",
            "_view_name": "StyleView",
            "bar_color": null,
            "description_width": ""
          }
        },
        "bdbfc799b9264c6f9e2c8e14658fa0e7": {
          "model_module": "@jupyter-widgets/controls",
          "model_name": "VBoxModel",
          "model_module_version": "1.5.0",
          "state": {
            "_dom_classes": [],
            "_model_module": "@jupyter-widgets/controls",
            "_model_module_version": "1.5.0",
            "_model_name": "VBoxModel",
            "_view_count": null,
            "_view_module": "@jupyter-widgets/controls",
            "_view_module_version": "1.5.0",
            "_view_name": "VBoxView",
            "box_style": "",
            "children": [
              "IPY_MODEL_39e0f283de4b400083427f5b2416c870",
              "IPY_MODEL_1293464f2fa043ef98a3dc2a56a90c61"
            ],
            "layout": "IPY_MODEL_aa75d8220d9d40ffbce5d602b1b1995c"
          }
        },
        "39e0f283de4b400083427f5b2416c870": {
          "model_module": "@jupyter-widgets/controls",
          "model_name": "LabelModel",
          "model_module_version": "1.5.0",
          "state": {
            "_dom_classes": [],
            "_model_module": "@jupyter-widgets/controls",
            "_model_module_version": "1.5.0",
            "_model_name": "LabelModel",
            "_view_count": null,
            "_view_module": "@jupyter-widgets/controls",
            "_view_module_version": "1.5.0",
            "_view_name": "LabelView",
            "description": "",
            "description_tooltip": null,
            "layout": "IPY_MODEL_95b55ad449bf45ccb133bd985b2ad4bd",
            "placeholder": "​",
            "style": "IPY_MODEL_fc50ca0116064b25890ecbc116f415b3",
            "value": "5.853 MB of 5.853 MB uploaded (0.000 MB deduped)\r"
          }
        },
        "1293464f2fa043ef98a3dc2a56a90c61": {
          "model_module": "@jupyter-widgets/controls",
          "model_name": "FloatProgressModel",
          "model_module_version": "1.5.0",
          "state": {
            "_dom_classes": [],
            "_model_module": "@jupyter-widgets/controls",
            "_model_module_version": "1.5.0",
            "_model_name": "FloatProgressModel",
            "_view_count": null,
            "_view_module": "@jupyter-widgets/controls",
            "_view_module_version": "1.5.0",
            "_view_name": "ProgressView",
            "bar_style": "",
            "description": "",
            "description_tooltip": null,
            "layout": "IPY_MODEL_3f2d9e76a6f1473982d33c5e06838c98",
            "max": 1,
            "min": 0,
            "orientation": "horizontal",
            "style": "IPY_MODEL_8495fc118a2f40a2a7a69bf75f29c680",
            "value": 1
          }
        },
        "aa75d8220d9d40ffbce5d602b1b1995c": {
          "model_module": "@jupyter-widgets/base",
          "model_name": "LayoutModel",
          "model_module_version": "1.2.0",
          "state": {
            "_model_module": "@jupyter-widgets/base",
            "_model_module_version": "1.2.0",
            "_model_name": "LayoutModel",
            "_view_count": null,
            "_view_module": "@jupyter-widgets/base",
            "_view_module_version": "1.2.0",
            "_view_name": "LayoutView",
            "align_content": null,
            "align_items": null,
            "align_self": null,
            "border": null,
            "bottom": null,
            "display": null,
            "flex": null,
            "flex_flow": null,
            "grid_area": null,
            "grid_auto_columns": null,
            "grid_auto_flow": null,
            "grid_auto_rows": null,
            "grid_column": null,
            "grid_gap": null,
            "grid_row": null,
            "grid_template_areas": null,
            "grid_template_columns": null,
            "grid_template_rows": null,
            "height": null,
            "justify_content": null,
            "justify_items": null,
            "left": null,
            "margin": null,
            "max_height": null,
            "max_width": null,
            "min_height": null,
            "min_width": null,
            "object_fit": null,
            "object_position": null,
            "order": null,
            "overflow": null,
            "overflow_x": null,
            "overflow_y": null,
            "padding": null,
            "right": null,
            "top": null,
            "visibility": null,
            "width": null
          }
        },
        "95b55ad449bf45ccb133bd985b2ad4bd": {
          "model_module": "@jupyter-widgets/base",
          "model_name": "LayoutModel",
          "model_module_version": "1.2.0",
          "state": {
            "_model_module": "@jupyter-widgets/base",
            "_model_module_version": "1.2.0",
            "_model_name": "LayoutModel",
            "_view_count": null,
            "_view_module": "@jupyter-widgets/base",
            "_view_module_version": "1.2.0",
            "_view_name": "LayoutView",
            "align_content": null,
            "align_items": null,
            "align_self": null,
            "border": null,
            "bottom": null,
            "display": null,
            "flex": null,
            "flex_flow": null,
            "grid_area": null,
            "grid_auto_columns": null,
            "grid_auto_flow": null,
            "grid_auto_rows": null,
            "grid_column": null,
            "grid_gap": null,
            "grid_row": null,
            "grid_template_areas": null,
            "grid_template_columns": null,
            "grid_template_rows": null,
            "height": null,
            "justify_content": null,
            "justify_items": null,
            "left": null,
            "margin": null,
            "max_height": null,
            "max_width": null,
            "min_height": null,
            "min_width": null,
            "object_fit": null,
            "object_position": null,
            "order": null,
            "overflow": null,
            "overflow_x": null,
            "overflow_y": null,
            "padding": null,
            "right": null,
            "top": null,
            "visibility": null,
            "width": null
          }
        },
        "fc50ca0116064b25890ecbc116f415b3": {
          "model_module": "@jupyter-widgets/controls",
          "model_name": "DescriptionStyleModel",
          "model_module_version": "1.5.0",
          "state": {
            "_model_module": "@jupyter-widgets/controls",
            "_model_module_version": "1.5.0",
            "_model_name": "DescriptionStyleModel",
            "_view_count": null,
            "_view_module": "@jupyter-widgets/base",
            "_view_module_version": "1.2.0",
            "_view_name": "StyleView",
            "description_width": ""
          }
        },
        "3f2d9e76a6f1473982d33c5e06838c98": {
          "model_module": "@jupyter-widgets/base",
          "model_name": "LayoutModel",
          "model_module_version": "1.2.0",
          "state": {
            "_model_module": "@jupyter-widgets/base",
            "_model_module_version": "1.2.0",
            "_model_name": "LayoutModel",
            "_view_count": null,
            "_view_module": "@jupyter-widgets/base",
            "_view_module_version": "1.2.0",
            "_view_name": "LayoutView",
            "align_content": null,
            "align_items": null,
            "align_self": null,
            "border": null,
            "bottom": null,
            "display": null,
            "flex": null,
            "flex_flow": null,
            "grid_area": null,
            "grid_auto_columns": null,
            "grid_auto_flow": null,
            "grid_auto_rows": null,
            "grid_column": null,
            "grid_gap": null,
            "grid_row": null,
            "grid_template_areas": null,
            "grid_template_columns": null,
            "grid_template_rows": null,
            "height": null,
            "justify_content": null,
            "justify_items": null,
            "left": null,
            "margin": null,
            "max_height": null,
            "max_width": null,
            "min_height": null,
            "min_width": null,
            "object_fit": null,
            "object_position": null,
            "order": null,
            "overflow": null,
            "overflow_x": null,
            "overflow_y": null,
            "padding": null,
            "right": null,
            "top": null,
            "visibility": null,
            "width": null
          }
        },
        "8495fc118a2f40a2a7a69bf75f29c680": {
          "model_module": "@jupyter-widgets/controls",
          "model_name": "ProgressStyleModel",
          "model_module_version": "1.5.0",
          "state": {
            "_model_module": "@jupyter-widgets/controls",
            "_model_module_version": "1.5.0",
            "_model_name": "ProgressStyleModel",
            "_view_count": null,
            "_view_module": "@jupyter-widgets/base",
            "_view_module_version": "1.2.0",
            "_view_name": "StyleView",
            "bar_color": null,
            "description_width": ""
          }
        },
        "a5cf9c6bdfbd4dfb9abda1e6aef7293d": {
          "model_module": "@jupyter-widgets/controls",
          "model_name": "VBoxModel",
          "model_module_version": "1.5.0",
          "state": {
            "_dom_classes": [],
            "_model_module": "@jupyter-widgets/controls",
            "_model_module_version": "1.5.0",
            "_model_name": "VBoxModel",
            "_view_count": null,
            "_view_module": "@jupyter-widgets/controls",
            "_view_module_version": "1.5.0",
            "_view_name": "VBoxView",
            "box_style": "",
            "children": [
              "IPY_MODEL_68970030bd6e42babf9e1a9a59a90014",
              "IPY_MODEL_cfa4b5b227cf422e866dd2581d42d1eb"
            ],
            "layout": "IPY_MODEL_e303c19a5d6948489d56103eadb22fb9"
          }
        },
        "68970030bd6e42babf9e1a9a59a90014": {
          "model_module": "@jupyter-widgets/controls",
          "model_name": "LabelModel",
          "model_module_version": "1.5.0",
          "state": {
            "_dom_classes": [],
            "_model_module": "@jupyter-widgets/controls",
            "_model_module_version": "1.5.0",
            "_model_name": "LabelModel",
            "_view_count": null,
            "_view_module": "@jupyter-widgets/controls",
            "_view_module_version": "1.5.0",
            "_view_name": "LabelView",
            "description": "",
            "description_tooltip": null,
            "layout": "IPY_MODEL_7f460522c530468b8986dfb67b2e99dd",
            "placeholder": "​",
            "style": "IPY_MODEL_d5e69c6fa75647dbb03de98931de4b94",
            "value": "2.278 MB of 2.278 MB uploaded (0.000 MB deduped)\r"
          }
        },
        "cfa4b5b227cf422e866dd2581d42d1eb": {
          "model_module": "@jupyter-widgets/controls",
          "model_name": "FloatProgressModel",
          "model_module_version": "1.5.0",
          "state": {
            "_dom_classes": [],
            "_model_module": "@jupyter-widgets/controls",
            "_model_module_version": "1.5.0",
            "_model_name": "FloatProgressModel",
            "_view_count": null,
            "_view_module": "@jupyter-widgets/controls",
            "_view_module_version": "1.5.0",
            "_view_name": "ProgressView",
            "bar_style": "",
            "description": "",
            "description_tooltip": null,
            "layout": "IPY_MODEL_f1d57958ca8f44e6996b2ea9fbb43953",
            "max": 1,
            "min": 0,
            "orientation": "horizontal",
            "style": "IPY_MODEL_83fc0c9045184315aab0d5e5bde5edf5",
            "value": 1
          }
        },
        "e303c19a5d6948489d56103eadb22fb9": {
          "model_module": "@jupyter-widgets/base",
          "model_name": "LayoutModel",
          "model_module_version": "1.2.0",
          "state": {
            "_model_module": "@jupyter-widgets/base",
            "_model_module_version": "1.2.0",
            "_model_name": "LayoutModel",
            "_view_count": null,
            "_view_module": "@jupyter-widgets/base",
            "_view_module_version": "1.2.0",
            "_view_name": "LayoutView",
            "align_content": null,
            "align_items": null,
            "align_self": null,
            "border": null,
            "bottom": null,
            "display": null,
            "flex": null,
            "flex_flow": null,
            "grid_area": null,
            "grid_auto_columns": null,
            "grid_auto_flow": null,
            "grid_auto_rows": null,
            "grid_column": null,
            "grid_gap": null,
            "grid_row": null,
            "grid_template_areas": null,
            "grid_template_columns": null,
            "grid_template_rows": null,
            "height": null,
            "justify_content": null,
            "justify_items": null,
            "left": null,
            "margin": null,
            "max_height": null,
            "max_width": null,
            "min_height": null,
            "min_width": null,
            "object_fit": null,
            "object_position": null,
            "order": null,
            "overflow": null,
            "overflow_x": null,
            "overflow_y": null,
            "padding": null,
            "right": null,
            "top": null,
            "visibility": null,
            "width": null
          }
        },
        "7f460522c530468b8986dfb67b2e99dd": {
          "model_module": "@jupyter-widgets/base",
          "model_name": "LayoutModel",
          "model_module_version": "1.2.0",
          "state": {
            "_model_module": "@jupyter-widgets/base",
            "_model_module_version": "1.2.0",
            "_model_name": "LayoutModel",
            "_view_count": null,
            "_view_module": "@jupyter-widgets/base",
            "_view_module_version": "1.2.0",
            "_view_name": "LayoutView",
            "align_content": null,
            "align_items": null,
            "align_self": null,
            "border": null,
            "bottom": null,
            "display": null,
            "flex": null,
            "flex_flow": null,
            "grid_area": null,
            "grid_auto_columns": null,
            "grid_auto_flow": null,
            "grid_auto_rows": null,
            "grid_column": null,
            "grid_gap": null,
            "grid_row": null,
            "grid_template_areas": null,
            "grid_template_columns": null,
            "grid_template_rows": null,
            "height": null,
            "justify_content": null,
            "justify_items": null,
            "left": null,
            "margin": null,
            "max_height": null,
            "max_width": null,
            "min_height": null,
            "min_width": null,
            "object_fit": null,
            "object_position": null,
            "order": null,
            "overflow": null,
            "overflow_x": null,
            "overflow_y": null,
            "padding": null,
            "right": null,
            "top": null,
            "visibility": null,
            "width": null
          }
        },
        "d5e69c6fa75647dbb03de98931de4b94": {
          "model_module": "@jupyter-widgets/controls",
          "model_name": "DescriptionStyleModel",
          "model_module_version": "1.5.0",
          "state": {
            "_model_module": "@jupyter-widgets/controls",
            "_model_module_version": "1.5.0",
            "_model_name": "DescriptionStyleModel",
            "_view_count": null,
            "_view_module": "@jupyter-widgets/base",
            "_view_module_version": "1.2.0",
            "_view_name": "StyleView",
            "description_width": ""
          }
        },
        "f1d57958ca8f44e6996b2ea9fbb43953": {
          "model_module": "@jupyter-widgets/base",
          "model_name": "LayoutModel",
          "model_module_version": "1.2.0",
          "state": {
            "_model_module": "@jupyter-widgets/base",
            "_model_module_version": "1.2.0",
            "_model_name": "LayoutModel",
            "_view_count": null,
            "_view_module": "@jupyter-widgets/base",
            "_view_module_version": "1.2.0",
            "_view_name": "LayoutView",
            "align_content": null,
            "align_items": null,
            "align_self": null,
            "border": null,
            "bottom": null,
            "display": null,
            "flex": null,
            "flex_flow": null,
            "grid_area": null,
            "grid_auto_columns": null,
            "grid_auto_flow": null,
            "grid_auto_rows": null,
            "grid_column": null,
            "grid_gap": null,
            "grid_row": null,
            "grid_template_areas": null,
            "grid_template_columns": null,
            "grid_template_rows": null,
            "height": null,
            "justify_content": null,
            "justify_items": null,
            "left": null,
            "margin": null,
            "max_height": null,
            "max_width": null,
            "min_height": null,
            "min_width": null,
            "object_fit": null,
            "object_position": null,
            "order": null,
            "overflow": null,
            "overflow_x": null,
            "overflow_y": null,
            "padding": null,
            "right": null,
            "top": null,
            "visibility": null,
            "width": null
          }
        },
        "83fc0c9045184315aab0d5e5bde5edf5": {
          "model_module": "@jupyter-widgets/controls",
          "model_name": "ProgressStyleModel",
          "model_module_version": "1.5.0",
          "state": {
            "_model_module": "@jupyter-widgets/controls",
            "_model_module_version": "1.5.0",
            "_model_name": "ProgressStyleModel",
            "_view_count": null,
            "_view_module": "@jupyter-widgets/base",
            "_view_module_version": "1.2.0",
            "_view_name": "StyleView",
            "bar_color": null,
            "description_width": ""
          }
        },
        "665f684c02344044b4a30df2f043a3af": {
          "model_module": "@jupyter-widgets/controls",
          "model_name": "VBoxModel",
          "model_module_version": "1.5.0",
          "state": {
            "_dom_classes": [],
            "_model_module": "@jupyter-widgets/controls",
            "_model_module_version": "1.5.0",
            "_model_name": "VBoxModel",
            "_view_count": null,
            "_view_module": "@jupyter-widgets/controls",
            "_view_module_version": "1.5.0",
            "_view_name": "VBoxView",
            "box_style": "",
            "children": [
              "IPY_MODEL_f1afcad847824e92b89a03b903acce12",
              "IPY_MODEL_20d83c5b04f6490ea88226fe26ca93f3"
            ],
            "layout": "IPY_MODEL_da470467fc134dfd9a312896d3b2b526"
          }
        },
        "f1afcad847824e92b89a03b903acce12": {
          "model_module": "@jupyter-widgets/controls",
          "model_name": "LabelModel",
          "model_module_version": "1.5.0",
          "state": {
            "_dom_classes": [],
            "_model_module": "@jupyter-widgets/controls",
            "_model_module_version": "1.5.0",
            "_model_name": "LabelModel",
            "_view_count": null,
            "_view_module": "@jupyter-widgets/controls",
            "_view_module_version": "1.5.0",
            "_view_name": "LabelView",
            "description": "",
            "description_tooltip": null,
            "layout": "IPY_MODEL_40b10b43888c46b48603d9b14a754c8e",
            "placeholder": "​",
            "style": "IPY_MODEL_217d2728570744daa0e135964f88f96b",
            "value": "2.279 MB of 2.279 MB uploaded (0.000 MB deduped)\r"
          }
        },
        "20d83c5b04f6490ea88226fe26ca93f3": {
          "model_module": "@jupyter-widgets/controls",
          "model_name": "FloatProgressModel",
          "model_module_version": "1.5.0",
          "state": {
            "_dom_classes": [],
            "_model_module": "@jupyter-widgets/controls",
            "_model_module_version": "1.5.0",
            "_model_name": "FloatProgressModel",
            "_view_count": null,
            "_view_module": "@jupyter-widgets/controls",
            "_view_module_version": "1.5.0",
            "_view_name": "ProgressView",
            "bar_style": "",
            "description": "",
            "description_tooltip": null,
            "layout": "IPY_MODEL_7624485778ab48d5b0014bdeda58d917",
            "max": 1,
            "min": 0,
            "orientation": "horizontal",
            "style": "IPY_MODEL_3891c9f14cb1424290be82279d5e9b69",
            "value": 1
          }
        },
        "da470467fc134dfd9a312896d3b2b526": {
          "model_module": "@jupyter-widgets/base",
          "model_name": "LayoutModel",
          "model_module_version": "1.2.0",
          "state": {
            "_model_module": "@jupyter-widgets/base",
            "_model_module_version": "1.2.0",
            "_model_name": "LayoutModel",
            "_view_count": null,
            "_view_module": "@jupyter-widgets/base",
            "_view_module_version": "1.2.0",
            "_view_name": "LayoutView",
            "align_content": null,
            "align_items": null,
            "align_self": null,
            "border": null,
            "bottom": null,
            "display": null,
            "flex": null,
            "flex_flow": null,
            "grid_area": null,
            "grid_auto_columns": null,
            "grid_auto_flow": null,
            "grid_auto_rows": null,
            "grid_column": null,
            "grid_gap": null,
            "grid_row": null,
            "grid_template_areas": null,
            "grid_template_columns": null,
            "grid_template_rows": null,
            "height": null,
            "justify_content": null,
            "justify_items": null,
            "left": null,
            "margin": null,
            "max_height": null,
            "max_width": null,
            "min_height": null,
            "min_width": null,
            "object_fit": null,
            "object_position": null,
            "order": null,
            "overflow": null,
            "overflow_x": null,
            "overflow_y": null,
            "padding": null,
            "right": null,
            "top": null,
            "visibility": null,
            "width": null
          }
        },
        "40b10b43888c46b48603d9b14a754c8e": {
          "model_module": "@jupyter-widgets/base",
          "model_name": "LayoutModel",
          "model_module_version": "1.2.0",
          "state": {
            "_model_module": "@jupyter-widgets/base",
            "_model_module_version": "1.2.0",
            "_model_name": "LayoutModel",
            "_view_count": null,
            "_view_module": "@jupyter-widgets/base",
            "_view_module_version": "1.2.0",
            "_view_name": "LayoutView",
            "align_content": null,
            "align_items": null,
            "align_self": null,
            "border": null,
            "bottom": null,
            "display": null,
            "flex": null,
            "flex_flow": null,
            "grid_area": null,
            "grid_auto_columns": null,
            "grid_auto_flow": null,
            "grid_auto_rows": null,
            "grid_column": null,
            "grid_gap": null,
            "grid_row": null,
            "grid_template_areas": null,
            "grid_template_columns": null,
            "grid_template_rows": null,
            "height": null,
            "justify_content": null,
            "justify_items": null,
            "left": null,
            "margin": null,
            "max_height": null,
            "max_width": null,
            "min_height": null,
            "min_width": null,
            "object_fit": null,
            "object_position": null,
            "order": null,
            "overflow": null,
            "overflow_x": null,
            "overflow_y": null,
            "padding": null,
            "right": null,
            "top": null,
            "visibility": null,
            "width": null
          }
        },
        "217d2728570744daa0e135964f88f96b": {
          "model_module": "@jupyter-widgets/controls",
          "model_name": "DescriptionStyleModel",
          "model_module_version": "1.5.0",
          "state": {
            "_model_module": "@jupyter-widgets/controls",
            "_model_module_version": "1.5.0",
            "_model_name": "DescriptionStyleModel",
            "_view_count": null,
            "_view_module": "@jupyter-widgets/base",
            "_view_module_version": "1.2.0",
            "_view_name": "StyleView",
            "description_width": ""
          }
        },
        "7624485778ab48d5b0014bdeda58d917": {
          "model_module": "@jupyter-widgets/base",
          "model_name": "LayoutModel",
          "model_module_version": "1.2.0",
          "state": {
            "_model_module": "@jupyter-widgets/base",
            "_model_module_version": "1.2.0",
            "_model_name": "LayoutModel",
            "_view_count": null,
            "_view_module": "@jupyter-widgets/base",
            "_view_module_version": "1.2.0",
            "_view_name": "LayoutView",
            "align_content": null,
            "align_items": null,
            "align_self": null,
            "border": null,
            "bottom": null,
            "display": null,
            "flex": null,
            "flex_flow": null,
            "grid_area": null,
            "grid_auto_columns": null,
            "grid_auto_flow": null,
            "grid_auto_rows": null,
            "grid_column": null,
            "grid_gap": null,
            "grid_row": null,
            "grid_template_areas": null,
            "grid_template_columns": null,
            "grid_template_rows": null,
            "height": null,
            "justify_content": null,
            "justify_items": null,
            "left": null,
            "margin": null,
            "max_height": null,
            "max_width": null,
            "min_height": null,
            "min_width": null,
            "object_fit": null,
            "object_position": null,
            "order": null,
            "overflow": null,
            "overflow_x": null,
            "overflow_y": null,
            "padding": null,
            "right": null,
            "top": null,
            "visibility": null,
            "width": null
          }
        },
        "3891c9f14cb1424290be82279d5e9b69": {
          "model_module": "@jupyter-widgets/controls",
          "model_name": "ProgressStyleModel",
          "model_module_version": "1.5.0",
          "state": {
            "_model_module": "@jupyter-widgets/controls",
            "_model_module_version": "1.5.0",
            "_model_name": "ProgressStyleModel",
            "_view_count": null,
            "_view_module": "@jupyter-widgets/base",
            "_view_module_version": "1.2.0",
            "_view_name": "StyleView",
            "bar_color": null,
            "description_width": ""
          }
        },
        "8e386ed2c38f47a68481d31d655743fd": {
          "model_module": "@jupyter-widgets/controls",
          "model_name": "VBoxModel",
          "model_module_version": "1.5.0",
          "state": {
            "_dom_classes": [],
            "_model_module": "@jupyter-widgets/controls",
            "_model_module_version": "1.5.0",
            "_model_name": "VBoxModel",
            "_view_count": null,
            "_view_module": "@jupyter-widgets/controls",
            "_view_module_version": "1.5.0",
            "_view_name": "VBoxView",
            "box_style": "",
            "children": [
              "IPY_MODEL_e3158a5bf7284ff083c05f7ebfa6a09e",
              "IPY_MODEL_789ba0c80f344f1687fff78f9d3232f9"
            ],
            "layout": "IPY_MODEL_6293e3f5e0f746a68ae8b9a395af9ef8"
          }
        },
        "e3158a5bf7284ff083c05f7ebfa6a09e": {
          "model_module": "@jupyter-widgets/controls",
          "model_name": "LabelModel",
          "model_module_version": "1.5.0",
          "state": {
            "_dom_classes": [],
            "_model_module": "@jupyter-widgets/controls",
            "_model_module_version": "1.5.0",
            "_model_name": "LabelModel",
            "_view_count": null,
            "_view_module": "@jupyter-widgets/controls",
            "_view_module_version": "1.5.0",
            "_view_name": "LabelView",
            "description": "",
            "description_tooltip": null,
            "layout": "IPY_MODEL_9b2a51acba7a4fbb9a1791550acb00d9",
            "placeholder": "​",
            "style": "IPY_MODEL_69e2a9eef41a487baeb88df234625d98",
            "value": "2.279 MB of 2.279 MB uploaded (0.000 MB deduped)\r"
          }
        },
        "789ba0c80f344f1687fff78f9d3232f9": {
          "model_module": "@jupyter-widgets/controls",
          "model_name": "FloatProgressModel",
          "model_module_version": "1.5.0",
          "state": {
            "_dom_classes": [],
            "_model_module": "@jupyter-widgets/controls",
            "_model_module_version": "1.5.0",
            "_model_name": "FloatProgressModel",
            "_view_count": null,
            "_view_module": "@jupyter-widgets/controls",
            "_view_module_version": "1.5.0",
            "_view_name": "ProgressView",
            "bar_style": "",
            "description": "",
            "description_tooltip": null,
            "layout": "IPY_MODEL_0a55039f56b143038b859224410b4bc9",
            "max": 1,
            "min": 0,
            "orientation": "horizontal",
            "style": "IPY_MODEL_b50400d5e9834d9c9b6a62a6de923776",
            "value": 1
          }
        },
        "6293e3f5e0f746a68ae8b9a395af9ef8": {
          "model_module": "@jupyter-widgets/base",
          "model_name": "LayoutModel",
          "model_module_version": "1.2.0",
          "state": {
            "_model_module": "@jupyter-widgets/base",
            "_model_module_version": "1.2.0",
            "_model_name": "LayoutModel",
            "_view_count": null,
            "_view_module": "@jupyter-widgets/base",
            "_view_module_version": "1.2.0",
            "_view_name": "LayoutView",
            "align_content": null,
            "align_items": null,
            "align_self": null,
            "border": null,
            "bottom": null,
            "display": null,
            "flex": null,
            "flex_flow": null,
            "grid_area": null,
            "grid_auto_columns": null,
            "grid_auto_flow": null,
            "grid_auto_rows": null,
            "grid_column": null,
            "grid_gap": null,
            "grid_row": null,
            "grid_template_areas": null,
            "grid_template_columns": null,
            "grid_template_rows": null,
            "height": null,
            "justify_content": null,
            "justify_items": null,
            "left": null,
            "margin": null,
            "max_height": null,
            "max_width": null,
            "min_height": null,
            "min_width": null,
            "object_fit": null,
            "object_position": null,
            "order": null,
            "overflow": null,
            "overflow_x": null,
            "overflow_y": null,
            "padding": null,
            "right": null,
            "top": null,
            "visibility": null,
            "width": null
          }
        },
        "9b2a51acba7a4fbb9a1791550acb00d9": {
          "model_module": "@jupyter-widgets/base",
          "model_name": "LayoutModel",
          "model_module_version": "1.2.0",
          "state": {
            "_model_module": "@jupyter-widgets/base",
            "_model_module_version": "1.2.0",
            "_model_name": "LayoutModel",
            "_view_count": null,
            "_view_module": "@jupyter-widgets/base",
            "_view_module_version": "1.2.0",
            "_view_name": "LayoutView",
            "align_content": null,
            "align_items": null,
            "align_self": null,
            "border": null,
            "bottom": null,
            "display": null,
            "flex": null,
            "flex_flow": null,
            "grid_area": null,
            "grid_auto_columns": null,
            "grid_auto_flow": null,
            "grid_auto_rows": null,
            "grid_column": null,
            "grid_gap": null,
            "grid_row": null,
            "grid_template_areas": null,
            "grid_template_columns": null,
            "grid_template_rows": null,
            "height": null,
            "justify_content": null,
            "justify_items": null,
            "left": null,
            "margin": null,
            "max_height": null,
            "max_width": null,
            "min_height": null,
            "min_width": null,
            "object_fit": null,
            "object_position": null,
            "order": null,
            "overflow": null,
            "overflow_x": null,
            "overflow_y": null,
            "padding": null,
            "right": null,
            "top": null,
            "visibility": null,
            "width": null
          }
        },
        "69e2a9eef41a487baeb88df234625d98": {
          "model_module": "@jupyter-widgets/controls",
          "model_name": "DescriptionStyleModel",
          "model_module_version": "1.5.0",
          "state": {
            "_model_module": "@jupyter-widgets/controls",
            "_model_module_version": "1.5.0",
            "_model_name": "DescriptionStyleModel",
            "_view_count": null,
            "_view_module": "@jupyter-widgets/base",
            "_view_module_version": "1.2.0",
            "_view_name": "StyleView",
            "description_width": ""
          }
        },
        "0a55039f56b143038b859224410b4bc9": {
          "model_module": "@jupyter-widgets/base",
          "model_name": "LayoutModel",
          "model_module_version": "1.2.0",
          "state": {
            "_model_module": "@jupyter-widgets/base",
            "_model_module_version": "1.2.0",
            "_model_name": "LayoutModel",
            "_view_count": null,
            "_view_module": "@jupyter-widgets/base",
            "_view_module_version": "1.2.0",
            "_view_name": "LayoutView",
            "align_content": null,
            "align_items": null,
            "align_self": null,
            "border": null,
            "bottom": null,
            "display": null,
            "flex": null,
            "flex_flow": null,
            "grid_area": null,
            "grid_auto_columns": null,
            "grid_auto_flow": null,
            "grid_auto_rows": null,
            "grid_column": null,
            "grid_gap": null,
            "grid_row": null,
            "grid_template_areas": null,
            "grid_template_columns": null,
            "grid_template_rows": null,
            "height": null,
            "justify_content": null,
            "justify_items": null,
            "left": null,
            "margin": null,
            "max_height": null,
            "max_width": null,
            "min_height": null,
            "min_width": null,
            "object_fit": null,
            "object_position": null,
            "order": null,
            "overflow": null,
            "overflow_x": null,
            "overflow_y": null,
            "padding": null,
            "right": null,
            "top": null,
            "visibility": null,
            "width": null
          }
        },
        "b50400d5e9834d9c9b6a62a6de923776": {
          "model_module": "@jupyter-widgets/controls",
          "model_name": "ProgressStyleModel",
          "model_module_version": "1.5.0",
          "state": {
            "_model_module": "@jupyter-widgets/controls",
            "_model_module_version": "1.5.0",
            "_model_name": "ProgressStyleModel",
            "_view_count": null,
            "_view_module": "@jupyter-widgets/base",
            "_view_module_version": "1.2.0",
            "_view_name": "StyleView",
            "bar_color": null,
            "description_width": ""
          }
        },
        "13367915ca4b484a9c9422bd80f99779": {
          "model_module": "@jupyter-widgets/controls",
          "model_name": "VBoxModel",
          "model_module_version": "1.5.0",
          "state": {
            "_dom_classes": [],
            "_model_module": "@jupyter-widgets/controls",
            "_model_module_version": "1.5.0",
            "_model_name": "VBoxModel",
            "_view_count": null,
            "_view_module": "@jupyter-widgets/controls",
            "_view_module_version": "1.5.0",
            "_view_name": "VBoxView",
            "box_style": "",
            "children": [
              "IPY_MODEL_de8c7e35e72c431f9e33f2136970fdc7",
              "IPY_MODEL_8ba6aa58ff5e4c5ea98dfaf801ea7d12"
            ],
            "layout": "IPY_MODEL_5fa90bd804b4497e87352017f222dd76"
          }
        },
        "de8c7e35e72c431f9e33f2136970fdc7": {
          "model_module": "@jupyter-widgets/controls",
          "model_name": "LabelModel",
          "model_module_version": "1.5.0",
          "state": {
            "_dom_classes": [],
            "_model_module": "@jupyter-widgets/controls",
            "_model_module_version": "1.5.0",
            "_model_name": "LabelModel",
            "_view_count": null,
            "_view_module": "@jupyter-widgets/controls",
            "_view_module_version": "1.5.0",
            "_view_name": "LabelView",
            "description": "",
            "description_tooltip": null,
            "layout": "IPY_MODEL_1ab6033212514ee683f67ebd8db900b2",
            "placeholder": "​",
            "style": "IPY_MODEL_4455ec67d5544d4499ab909b74c3f8e1",
            "value": "6.277 MB of 6.277 MB uploaded (0.000 MB deduped)\r"
          }
        },
        "8ba6aa58ff5e4c5ea98dfaf801ea7d12": {
          "model_module": "@jupyter-widgets/controls",
          "model_name": "FloatProgressModel",
          "model_module_version": "1.5.0",
          "state": {
            "_dom_classes": [],
            "_model_module": "@jupyter-widgets/controls",
            "_model_module_version": "1.5.0",
            "_model_name": "FloatProgressModel",
            "_view_count": null,
            "_view_module": "@jupyter-widgets/controls",
            "_view_module_version": "1.5.0",
            "_view_name": "ProgressView",
            "bar_style": "",
            "description": "",
            "description_tooltip": null,
            "layout": "IPY_MODEL_f81b6b5e4e0b4647963779661702adf0",
            "max": 1,
            "min": 0,
            "orientation": "horizontal",
            "style": "IPY_MODEL_e9a6716aab0a4d19859d8ddcaebf6a09",
            "value": 1
          }
        },
        "5fa90bd804b4497e87352017f222dd76": {
          "model_module": "@jupyter-widgets/base",
          "model_name": "LayoutModel",
          "model_module_version": "1.2.0",
          "state": {
            "_model_module": "@jupyter-widgets/base",
            "_model_module_version": "1.2.0",
            "_model_name": "LayoutModel",
            "_view_count": null,
            "_view_module": "@jupyter-widgets/base",
            "_view_module_version": "1.2.0",
            "_view_name": "LayoutView",
            "align_content": null,
            "align_items": null,
            "align_self": null,
            "border": null,
            "bottom": null,
            "display": null,
            "flex": null,
            "flex_flow": null,
            "grid_area": null,
            "grid_auto_columns": null,
            "grid_auto_flow": null,
            "grid_auto_rows": null,
            "grid_column": null,
            "grid_gap": null,
            "grid_row": null,
            "grid_template_areas": null,
            "grid_template_columns": null,
            "grid_template_rows": null,
            "height": null,
            "justify_content": null,
            "justify_items": null,
            "left": null,
            "margin": null,
            "max_height": null,
            "max_width": null,
            "min_height": null,
            "min_width": null,
            "object_fit": null,
            "object_position": null,
            "order": null,
            "overflow": null,
            "overflow_x": null,
            "overflow_y": null,
            "padding": null,
            "right": null,
            "top": null,
            "visibility": null,
            "width": null
          }
        },
        "1ab6033212514ee683f67ebd8db900b2": {
          "model_module": "@jupyter-widgets/base",
          "model_name": "LayoutModel",
          "model_module_version": "1.2.0",
          "state": {
            "_model_module": "@jupyter-widgets/base",
            "_model_module_version": "1.2.0",
            "_model_name": "LayoutModel",
            "_view_count": null,
            "_view_module": "@jupyter-widgets/base",
            "_view_module_version": "1.2.0",
            "_view_name": "LayoutView",
            "align_content": null,
            "align_items": null,
            "align_self": null,
            "border": null,
            "bottom": null,
            "display": null,
            "flex": null,
            "flex_flow": null,
            "grid_area": null,
            "grid_auto_columns": null,
            "grid_auto_flow": null,
            "grid_auto_rows": null,
            "grid_column": null,
            "grid_gap": null,
            "grid_row": null,
            "grid_template_areas": null,
            "grid_template_columns": null,
            "grid_template_rows": null,
            "height": null,
            "justify_content": null,
            "justify_items": null,
            "left": null,
            "margin": null,
            "max_height": null,
            "max_width": null,
            "min_height": null,
            "min_width": null,
            "object_fit": null,
            "object_position": null,
            "order": null,
            "overflow": null,
            "overflow_x": null,
            "overflow_y": null,
            "padding": null,
            "right": null,
            "top": null,
            "visibility": null,
            "width": null
          }
        },
        "4455ec67d5544d4499ab909b74c3f8e1": {
          "model_module": "@jupyter-widgets/controls",
          "model_name": "DescriptionStyleModel",
          "model_module_version": "1.5.0",
          "state": {
            "_model_module": "@jupyter-widgets/controls",
            "_model_module_version": "1.5.0",
            "_model_name": "DescriptionStyleModel",
            "_view_count": null,
            "_view_module": "@jupyter-widgets/base",
            "_view_module_version": "1.2.0",
            "_view_name": "StyleView",
            "description_width": ""
          }
        },
        "f81b6b5e4e0b4647963779661702adf0": {
          "model_module": "@jupyter-widgets/base",
          "model_name": "LayoutModel",
          "model_module_version": "1.2.0",
          "state": {
            "_model_module": "@jupyter-widgets/base",
            "_model_module_version": "1.2.0",
            "_model_name": "LayoutModel",
            "_view_count": null,
            "_view_module": "@jupyter-widgets/base",
            "_view_module_version": "1.2.0",
            "_view_name": "LayoutView",
            "align_content": null,
            "align_items": null,
            "align_self": null,
            "border": null,
            "bottom": null,
            "display": null,
            "flex": null,
            "flex_flow": null,
            "grid_area": null,
            "grid_auto_columns": null,
            "grid_auto_flow": null,
            "grid_auto_rows": null,
            "grid_column": null,
            "grid_gap": null,
            "grid_row": null,
            "grid_template_areas": null,
            "grid_template_columns": null,
            "grid_template_rows": null,
            "height": null,
            "justify_content": null,
            "justify_items": null,
            "left": null,
            "margin": null,
            "max_height": null,
            "max_width": null,
            "min_height": null,
            "min_width": null,
            "object_fit": null,
            "object_position": null,
            "order": null,
            "overflow": null,
            "overflow_x": null,
            "overflow_y": null,
            "padding": null,
            "right": null,
            "top": null,
            "visibility": null,
            "width": null
          }
        },
        "e9a6716aab0a4d19859d8ddcaebf6a09": {
          "model_module": "@jupyter-widgets/controls",
          "model_name": "ProgressStyleModel",
          "model_module_version": "1.5.0",
          "state": {
            "_model_module": "@jupyter-widgets/controls",
            "_model_module_version": "1.5.0",
            "_model_name": "ProgressStyleModel",
            "_view_count": null,
            "_view_module": "@jupyter-widgets/base",
            "_view_module_version": "1.2.0",
            "_view_name": "StyleView",
            "bar_color": null,
            "description_width": ""
          }
        },
        "db3d76bb28c54d329287a35b5ca3f5c3": {
          "model_module": "@jupyter-widgets/controls",
          "model_name": "VBoxModel",
          "model_module_version": "1.5.0",
          "state": {
            "_dom_classes": [],
            "_model_module": "@jupyter-widgets/controls",
            "_model_module_version": "1.5.0",
            "_model_name": "VBoxModel",
            "_view_count": null,
            "_view_module": "@jupyter-widgets/controls",
            "_view_module_version": "1.5.0",
            "_view_name": "VBoxView",
            "box_style": "",
            "children": [
              "IPY_MODEL_ea98b6f1a1d8484682ea70b299d6c08d",
              "IPY_MODEL_f5a1ab20630246c4bf9745f8bc241c3f"
            ],
            "layout": "IPY_MODEL_7973125985564d6b88b02f9abd7d4e75"
          }
        },
        "ea98b6f1a1d8484682ea70b299d6c08d": {
          "model_module": "@jupyter-widgets/controls",
          "model_name": "LabelModel",
          "model_module_version": "1.5.0",
          "state": {
            "_dom_classes": [],
            "_model_module": "@jupyter-widgets/controls",
            "_model_module_version": "1.5.0",
            "_model_name": "LabelModel",
            "_view_count": null,
            "_view_module": "@jupyter-widgets/controls",
            "_view_module_version": "1.5.0",
            "_view_name": "LabelView",
            "description": "",
            "description_tooltip": null,
            "layout": "IPY_MODEL_8ea419d5a0244cea9f94a8ad03d3bbec",
            "placeholder": "​",
            "style": "IPY_MODEL_10f2796495d74f3cb0f7f83cd08ee2cf",
            "value": "3.121 MB of 3.121 MB uploaded (0.000 MB deduped)\r"
          }
        },
        "f5a1ab20630246c4bf9745f8bc241c3f": {
          "model_module": "@jupyter-widgets/controls",
          "model_name": "FloatProgressModel",
          "model_module_version": "1.5.0",
          "state": {
            "_dom_classes": [],
            "_model_module": "@jupyter-widgets/controls",
            "_model_module_version": "1.5.0",
            "_model_name": "FloatProgressModel",
            "_view_count": null,
            "_view_module": "@jupyter-widgets/controls",
            "_view_module_version": "1.5.0",
            "_view_name": "ProgressView",
            "bar_style": "",
            "description": "",
            "description_tooltip": null,
            "layout": "IPY_MODEL_88c2e0c3ddb84d488399da3e273e1e21",
            "max": 1,
            "min": 0,
            "orientation": "horizontal",
            "style": "IPY_MODEL_3561eb74bf2f4928bbfd6cace0bcf25b",
            "value": 1
          }
        },
        "7973125985564d6b88b02f9abd7d4e75": {
          "model_module": "@jupyter-widgets/base",
          "model_name": "LayoutModel",
          "model_module_version": "1.2.0",
          "state": {
            "_model_module": "@jupyter-widgets/base",
            "_model_module_version": "1.2.0",
            "_model_name": "LayoutModel",
            "_view_count": null,
            "_view_module": "@jupyter-widgets/base",
            "_view_module_version": "1.2.0",
            "_view_name": "LayoutView",
            "align_content": null,
            "align_items": null,
            "align_self": null,
            "border": null,
            "bottom": null,
            "display": null,
            "flex": null,
            "flex_flow": null,
            "grid_area": null,
            "grid_auto_columns": null,
            "grid_auto_flow": null,
            "grid_auto_rows": null,
            "grid_column": null,
            "grid_gap": null,
            "grid_row": null,
            "grid_template_areas": null,
            "grid_template_columns": null,
            "grid_template_rows": null,
            "height": null,
            "justify_content": null,
            "justify_items": null,
            "left": null,
            "margin": null,
            "max_height": null,
            "max_width": null,
            "min_height": null,
            "min_width": null,
            "object_fit": null,
            "object_position": null,
            "order": null,
            "overflow": null,
            "overflow_x": null,
            "overflow_y": null,
            "padding": null,
            "right": null,
            "top": null,
            "visibility": null,
            "width": null
          }
        },
        "8ea419d5a0244cea9f94a8ad03d3bbec": {
          "model_module": "@jupyter-widgets/base",
          "model_name": "LayoutModel",
          "model_module_version": "1.2.0",
          "state": {
            "_model_module": "@jupyter-widgets/base",
            "_model_module_version": "1.2.0",
            "_model_name": "LayoutModel",
            "_view_count": null,
            "_view_module": "@jupyter-widgets/base",
            "_view_module_version": "1.2.0",
            "_view_name": "LayoutView",
            "align_content": null,
            "align_items": null,
            "align_self": null,
            "border": null,
            "bottom": null,
            "display": null,
            "flex": null,
            "flex_flow": null,
            "grid_area": null,
            "grid_auto_columns": null,
            "grid_auto_flow": null,
            "grid_auto_rows": null,
            "grid_column": null,
            "grid_gap": null,
            "grid_row": null,
            "grid_template_areas": null,
            "grid_template_columns": null,
            "grid_template_rows": null,
            "height": null,
            "justify_content": null,
            "justify_items": null,
            "left": null,
            "margin": null,
            "max_height": null,
            "max_width": null,
            "min_height": null,
            "min_width": null,
            "object_fit": null,
            "object_position": null,
            "order": null,
            "overflow": null,
            "overflow_x": null,
            "overflow_y": null,
            "padding": null,
            "right": null,
            "top": null,
            "visibility": null,
            "width": null
          }
        },
        "10f2796495d74f3cb0f7f83cd08ee2cf": {
          "model_module": "@jupyter-widgets/controls",
          "model_name": "DescriptionStyleModel",
          "model_module_version": "1.5.0",
          "state": {
            "_model_module": "@jupyter-widgets/controls",
            "_model_module_version": "1.5.0",
            "_model_name": "DescriptionStyleModel",
            "_view_count": null,
            "_view_module": "@jupyter-widgets/base",
            "_view_module_version": "1.2.0",
            "_view_name": "StyleView",
            "description_width": ""
          }
        },
        "88c2e0c3ddb84d488399da3e273e1e21": {
          "model_module": "@jupyter-widgets/base",
          "model_name": "LayoutModel",
          "model_module_version": "1.2.0",
          "state": {
            "_model_module": "@jupyter-widgets/base",
            "_model_module_version": "1.2.0",
            "_model_name": "LayoutModel",
            "_view_count": null,
            "_view_module": "@jupyter-widgets/base",
            "_view_module_version": "1.2.0",
            "_view_name": "LayoutView",
            "align_content": null,
            "align_items": null,
            "align_self": null,
            "border": null,
            "bottom": null,
            "display": null,
            "flex": null,
            "flex_flow": null,
            "grid_area": null,
            "grid_auto_columns": null,
            "grid_auto_flow": null,
            "grid_auto_rows": null,
            "grid_column": null,
            "grid_gap": null,
            "grid_row": null,
            "grid_template_areas": null,
            "grid_template_columns": null,
            "grid_template_rows": null,
            "height": null,
            "justify_content": null,
            "justify_items": null,
            "left": null,
            "margin": null,
            "max_height": null,
            "max_width": null,
            "min_height": null,
            "min_width": null,
            "object_fit": null,
            "object_position": null,
            "order": null,
            "overflow": null,
            "overflow_x": null,
            "overflow_y": null,
            "padding": null,
            "right": null,
            "top": null,
            "visibility": null,
            "width": null
          }
        },
        "3561eb74bf2f4928bbfd6cace0bcf25b": {
          "model_module": "@jupyter-widgets/controls",
          "model_name": "ProgressStyleModel",
          "model_module_version": "1.5.0",
          "state": {
            "_model_module": "@jupyter-widgets/controls",
            "_model_module_version": "1.5.0",
            "_model_name": "ProgressStyleModel",
            "_view_count": null,
            "_view_module": "@jupyter-widgets/base",
            "_view_module_version": "1.2.0",
            "_view_name": "StyleView",
            "bar_color": null,
            "description_width": ""
          }
        },
        "5c4f03e54379481ea658da201e9aee83": {
          "model_module": "@jupyter-widgets/controls",
          "model_name": "VBoxModel",
          "model_module_version": "1.5.0",
          "state": {
            "_dom_classes": [],
            "_model_module": "@jupyter-widgets/controls",
            "_model_module_version": "1.5.0",
            "_model_name": "VBoxModel",
            "_view_count": null,
            "_view_module": "@jupyter-widgets/controls",
            "_view_module_version": "1.5.0",
            "_view_name": "VBoxView",
            "box_style": "",
            "children": [
              "IPY_MODEL_933093333f634ae69ecf6c7c8f8912e9",
              "IPY_MODEL_cb240aa780f544cabfe9056063a5d8d0"
            ],
            "layout": "IPY_MODEL_172a6415045444768705932f8fca4c58"
          }
        },
        "933093333f634ae69ecf6c7c8f8912e9": {
          "model_module": "@jupyter-widgets/controls",
          "model_name": "LabelModel",
          "model_module_version": "1.5.0",
          "state": {
            "_dom_classes": [],
            "_model_module": "@jupyter-widgets/controls",
            "_model_module_version": "1.5.0",
            "_model_name": "LabelModel",
            "_view_count": null,
            "_view_module": "@jupyter-widgets/controls",
            "_view_module_version": "1.5.0",
            "_view_name": "LabelView",
            "description": "",
            "description_tooltip": null,
            "layout": "IPY_MODEL_41a8dcd4fb384a7e9626cf1ef7c4e02e",
            "placeholder": "​",
            "style": "IPY_MODEL_5272932eee68476f80b312d40e714cb1",
            "value": "3.121 MB of 3.121 MB uploaded (0.000 MB deduped)\r"
          }
        },
        "cb240aa780f544cabfe9056063a5d8d0": {
          "model_module": "@jupyter-widgets/controls",
          "model_name": "FloatProgressModel",
          "model_module_version": "1.5.0",
          "state": {
            "_dom_classes": [],
            "_model_module": "@jupyter-widgets/controls",
            "_model_module_version": "1.5.0",
            "_model_name": "FloatProgressModel",
            "_view_count": null,
            "_view_module": "@jupyter-widgets/controls",
            "_view_module_version": "1.5.0",
            "_view_name": "ProgressView",
            "bar_style": "",
            "description": "",
            "description_tooltip": null,
            "layout": "IPY_MODEL_678cc67a0f3945d18c933f9e98937233",
            "max": 1,
            "min": 0,
            "orientation": "horizontal",
            "style": "IPY_MODEL_64076c31d17f4e10911b289810bdce60",
            "value": 1
          }
        },
        "172a6415045444768705932f8fca4c58": {
          "model_module": "@jupyter-widgets/base",
          "model_name": "LayoutModel",
          "model_module_version": "1.2.0",
          "state": {
            "_model_module": "@jupyter-widgets/base",
            "_model_module_version": "1.2.0",
            "_model_name": "LayoutModel",
            "_view_count": null,
            "_view_module": "@jupyter-widgets/base",
            "_view_module_version": "1.2.0",
            "_view_name": "LayoutView",
            "align_content": null,
            "align_items": null,
            "align_self": null,
            "border": null,
            "bottom": null,
            "display": null,
            "flex": null,
            "flex_flow": null,
            "grid_area": null,
            "grid_auto_columns": null,
            "grid_auto_flow": null,
            "grid_auto_rows": null,
            "grid_column": null,
            "grid_gap": null,
            "grid_row": null,
            "grid_template_areas": null,
            "grid_template_columns": null,
            "grid_template_rows": null,
            "height": null,
            "justify_content": null,
            "justify_items": null,
            "left": null,
            "margin": null,
            "max_height": null,
            "max_width": null,
            "min_height": null,
            "min_width": null,
            "object_fit": null,
            "object_position": null,
            "order": null,
            "overflow": null,
            "overflow_x": null,
            "overflow_y": null,
            "padding": null,
            "right": null,
            "top": null,
            "visibility": null,
            "width": null
          }
        },
        "41a8dcd4fb384a7e9626cf1ef7c4e02e": {
          "model_module": "@jupyter-widgets/base",
          "model_name": "LayoutModel",
          "model_module_version": "1.2.0",
          "state": {
            "_model_module": "@jupyter-widgets/base",
            "_model_module_version": "1.2.0",
            "_model_name": "LayoutModel",
            "_view_count": null,
            "_view_module": "@jupyter-widgets/base",
            "_view_module_version": "1.2.0",
            "_view_name": "LayoutView",
            "align_content": null,
            "align_items": null,
            "align_self": null,
            "border": null,
            "bottom": null,
            "display": null,
            "flex": null,
            "flex_flow": null,
            "grid_area": null,
            "grid_auto_columns": null,
            "grid_auto_flow": null,
            "grid_auto_rows": null,
            "grid_column": null,
            "grid_gap": null,
            "grid_row": null,
            "grid_template_areas": null,
            "grid_template_columns": null,
            "grid_template_rows": null,
            "height": null,
            "justify_content": null,
            "justify_items": null,
            "left": null,
            "margin": null,
            "max_height": null,
            "max_width": null,
            "min_height": null,
            "min_width": null,
            "object_fit": null,
            "object_position": null,
            "order": null,
            "overflow": null,
            "overflow_x": null,
            "overflow_y": null,
            "padding": null,
            "right": null,
            "top": null,
            "visibility": null,
            "width": null
          }
        },
        "5272932eee68476f80b312d40e714cb1": {
          "model_module": "@jupyter-widgets/controls",
          "model_name": "DescriptionStyleModel",
          "model_module_version": "1.5.0",
          "state": {
            "_model_module": "@jupyter-widgets/controls",
            "_model_module_version": "1.5.0",
            "_model_name": "DescriptionStyleModel",
            "_view_count": null,
            "_view_module": "@jupyter-widgets/base",
            "_view_module_version": "1.2.0",
            "_view_name": "StyleView",
            "description_width": ""
          }
        },
        "678cc67a0f3945d18c933f9e98937233": {
          "model_module": "@jupyter-widgets/base",
          "model_name": "LayoutModel",
          "model_module_version": "1.2.0",
          "state": {
            "_model_module": "@jupyter-widgets/base",
            "_model_module_version": "1.2.0",
            "_model_name": "LayoutModel",
            "_view_count": null,
            "_view_module": "@jupyter-widgets/base",
            "_view_module_version": "1.2.0",
            "_view_name": "LayoutView",
            "align_content": null,
            "align_items": null,
            "align_self": null,
            "border": null,
            "bottom": null,
            "display": null,
            "flex": null,
            "flex_flow": null,
            "grid_area": null,
            "grid_auto_columns": null,
            "grid_auto_flow": null,
            "grid_auto_rows": null,
            "grid_column": null,
            "grid_gap": null,
            "grid_row": null,
            "grid_template_areas": null,
            "grid_template_columns": null,
            "grid_template_rows": null,
            "height": null,
            "justify_content": null,
            "justify_items": null,
            "left": null,
            "margin": null,
            "max_height": null,
            "max_width": null,
            "min_height": null,
            "min_width": null,
            "object_fit": null,
            "object_position": null,
            "order": null,
            "overflow": null,
            "overflow_x": null,
            "overflow_y": null,
            "padding": null,
            "right": null,
            "top": null,
            "visibility": null,
            "width": null
          }
        },
        "64076c31d17f4e10911b289810bdce60": {
          "model_module": "@jupyter-widgets/controls",
          "model_name": "ProgressStyleModel",
          "model_module_version": "1.5.0",
          "state": {
            "_model_module": "@jupyter-widgets/controls",
            "_model_module_version": "1.5.0",
            "_model_name": "ProgressStyleModel",
            "_view_count": null,
            "_view_module": "@jupyter-widgets/base",
            "_view_module_version": "1.2.0",
            "_view_name": "StyleView",
            "bar_color": null,
            "description_width": ""
          }
        },
        "6785c394240b4cd88f19cb9ffa121257": {
          "model_module": "@jupyter-widgets/controls",
          "model_name": "VBoxModel",
          "model_module_version": "1.5.0",
          "state": {
            "_dom_classes": [],
            "_model_module": "@jupyter-widgets/controls",
            "_model_module_version": "1.5.0",
            "_model_name": "VBoxModel",
            "_view_count": null,
            "_view_module": "@jupyter-widgets/controls",
            "_view_module_version": "1.5.0",
            "_view_name": "VBoxView",
            "box_style": "",
            "children": [
              "IPY_MODEL_72105d695bb04f19ad8fe1f57ec14756",
              "IPY_MODEL_fdc8bb9076d44191be02148c97375033"
            ],
            "layout": "IPY_MODEL_3193795ffa6c4f9bb906532f0ca7ec5b"
          }
        },
        "72105d695bb04f19ad8fe1f57ec14756": {
          "model_module": "@jupyter-widgets/controls",
          "model_name": "LabelModel",
          "model_module_version": "1.5.0",
          "state": {
            "_dom_classes": [],
            "_model_module": "@jupyter-widgets/controls",
            "_model_module_version": "1.5.0",
            "_model_name": "LabelModel",
            "_view_count": null,
            "_view_module": "@jupyter-widgets/controls",
            "_view_module_version": "1.5.0",
            "_view_name": "LabelView",
            "description": "",
            "description_tooltip": null,
            "layout": "IPY_MODEL_57a1f8500bae4eb88b45382eae1e17d0",
            "placeholder": "​",
            "style": "IPY_MODEL_ef17a96570d245b2b9a3b624e66d2ec5",
            "value": "2.278 MB of 2.278 MB uploaded (0.000 MB deduped)\r"
          }
        },
        "fdc8bb9076d44191be02148c97375033": {
          "model_module": "@jupyter-widgets/controls",
          "model_name": "FloatProgressModel",
          "model_module_version": "1.5.0",
          "state": {
            "_dom_classes": [],
            "_model_module": "@jupyter-widgets/controls",
            "_model_module_version": "1.5.0",
            "_model_name": "FloatProgressModel",
            "_view_count": null,
            "_view_module": "@jupyter-widgets/controls",
            "_view_module_version": "1.5.0",
            "_view_name": "ProgressView",
            "bar_style": "",
            "description": "",
            "description_tooltip": null,
            "layout": "IPY_MODEL_19f406654772441b9c59ca914feb3332",
            "max": 1,
            "min": 0,
            "orientation": "horizontal",
            "style": "IPY_MODEL_761bf27a1b054988a90c1e374aecad48",
            "value": 1
          }
        },
        "3193795ffa6c4f9bb906532f0ca7ec5b": {
          "model_module": "@jupyter-widgets/base",
          "model_name": "LayoutModel",
          "model_module_version": "1.2.0",
          "state": {
            "_model_module": "@jupyter-widgets/base",
            "_model_module_version": "1.2.0",
            "_model_name": "LayoutModel",
            "_view_count": null,
            "_view_module": "@jupyter-widgets/base",
            "_view_module_version": "1.2.0",
            "_view_name": "LayoutView",
            "align_content": null,
            "align_items": null,
            "align_self": null,
            "border": null,
            "bottom": null,
            "display": null,
            "flex": null,
            "flex_flow": null,
            "grid_area": null,
            "grid_auto_columns": null,
            "grid_auto_flow": null,
            "grid_auto_rows": null,
            "grid_column": null,
            "grid_gap": null,
            "grid_row": null,
            "grid_template_areas": null,
            "grid_template_columns": null,
            "grid_template_rows": null,
            "height": null,
            "justify_content": null,
            "justify_items": null,
            "left": null,
            "margin": null,
            "max_height": null,
            "max_width": null,
            "min_height": null,
            "min_width": null,
            "object_fit": null,
            "object_position": null,
            "order": null,
            "overflow": null,
            "overflow_x": null,
            "overflow_y": null,
            "padding": null,
            "right": null,
            "top": null,
            "visibility": null,
            "width": null
          }
        },
        "57a1f8500bae4eb88b45382eae1e17d0": {
          "model_module": "@jupyter-widgets/base",
          "model_name": "LayoutModel",
          "model_module_version": "1.2.0",
          "state": {
            "_model_module": "@jupyter-widgets/base",
            "_model_module_version": "1.2.0",
            "_model_name": "LayoutModel",
            "_view_count": null,
            "_view_module": "@jupyter-widgets/base",
            "_view_module_version": "1.2.0",
            "_view_name": "LayoutView",
            "align_content": null,
            "align_items": null,
            "align_self": null,
            "border": null,
            "bottom": null,
            "display": null,
            "flex": null,
            "flex_flow": null,
            "grid_area": null,
            "grid_auto_columns": null,
            "grid_auto_flow": null,
            "grid_auto_rows": null,
            "grid_column": null,
            "grid_gap": null,
            "grid_row": null,
            "grid_template_areas": null,
            "grid_template_columns": null,
            "grid_template_rows": null,
            "height": null,
            "justify_content": null,
            "justify_items": null,
            "left": null,
            "margin": null,
            "max_height": null,
            "max_width": null,
            "min_height": null,
            "min_width": null,
            "object_fit": null,
            "object_position": null,
            "order": null,
            "overflow": null,
            "overflow_x": null,
            "overflow_y": null,
            "padding": null,
            "right": null,
            "top": null,
            "visibility": null,
            "width": null
          }
        },
        "ef17a96570d245b2b9a3b624e66d2ec5": {
          "model_module": "@jupyter-widgets/controls",
          "model_name": "DescriptionStyleModel",
          "model_module_version": "1.5.0",
          "state": {
            "_model_module": "@jupyter-widgets/controls",
            "_model_module_version": "1.5.0",
            "_model_name": "DescriptionStyleModel",
            "_view_count": null,
            "_view_module": "@jupyter-widgets/base",
            "_view_module_version": "1.2.0",
            "_view_name": "StyleView",
            "description_width": ""
          }
        },
        "19f406654772441b9c59ca914feb3332": {
          "model_module": "@jupyter-widgets/base",
          "model_name": "LayoutModel",
          "model_module_version": "1.2.0",
          "state": {
            "_model_module": "@jupyter-widgets/base",
            "_model_module_version": "1.2.0",
            "_model_name": "LayoutModel",
            "_view_count": null,
            "_view_module": "@jupyter-widgets/base",
            "_view_module_version": "1.2.0",
            "_view_name": "LayoutView",
            "align_content": null,
            "align_items": null,
            "align_self": null,
            "border": null,
            "bottom": null,
            "display": null,
            "flex": null,
            "flex_flow": null,
            "grid_area": null,
            "grid_auto_columns": null,
            "grid_auto_flow": null,
            "grid_auto_rows": null,
            "grid_column": null,
            "grid_gap": null,
            "grid_row": null,
            "grid_template_areas": null,
            "grid_template_columns": null,
            "grid_template_rows": null,
            "height": null,
            "justify_content": null,
            "justify_items": null,
            "left": null,
            "margin": null,
            "max_height": null,
            "max_width": null,
            "min_height": null,
            "min_width": null,
            "object_fit": null,
            "object_position": null,
            "order": null,
            "overflow": null,
            "overflow_x": null,
            "overflow_y": null,
            "padding": null,
            "right": null,
            "top": null,
            "visibility": null,
            "width": null
          }
        },
        "761bf27a1b054988a90c1e374aecad48": {
          "model_module": "@jupyter-widgets/controls",
          "model_name": "ProgressStyleModel",
          "model_module_version": "1.5.0",
          "state": {
            "_model_module": "@jupyter-widgets/controls",
            "_model_module_version": "1.5.0",
            "_model_name": "ProgressStyleModel",
            "_view_count": null,
            "_view_module": "@jupyter-widgets/base",
            "_view_module_version": "1.2.0",
            "_view_name": "StyleView",
            "bar_color": null,
            "description_width": ""
          }
        },
        "9c86657d802748239c4aad0d4d50227f": {
          "model_module": "@jupyter-widgets/controls",
          "model_name": "VBoxModel",
          "model_module_version": "1.5.0",
          "state": {
            "_dom_classes": [],
            "_model_module": "@jupyter-widgets/controls",
            "_model_module_version": "1.5.0",
            "_model_name": "VBoxModel",
            "_view_count": null,
            "_view_module": "@jupyter-widgets/controls",
            "_view_module_version": "1.5.0",
            "_view_name": "VBoxView",
            "box_style": "",
            "children": [
              "IPY_MODEL_cf63471fbc014a2bae7c8c553c49ba13",
              "IPY_MODEL_d5d01e9dec3c47cea94d3f2967b05020"
            ],
            "layout": "IPY_MODEL_37d773d1314e4a7bb6f47f3e796e1d69"
          }
        },
        "cf63471fbc014a2bae7c8c553c49ba13": {
          "model_module": "@jupyter-widgets/controls",
          "model_name": "LabelModel",
          "model_module_version": "1.5.0",
          "state": {
            "_dom_classes": [],
            "_model_module": "@jupyter-widgets/controls",
            "_model_module_version": "1.5.0",
            "_model_name": "LabelModel",
            "_view_count": null,
            "_view_module": "@jupyter-widgets/controls",
            "_view_module_version": "1.5.0",
            "_view_name": "LabelView",
            "description": "",
            "description_tooltip": null,
            "layout": "IPY_MODEL_b1e5bdb072f148708e98f4de9aea1cdb",
            "placeholder": "​",
            "style": "IPY_MODEL_010e866e87dd494bb2f9acc6bc938784",
            "value": "5.853 MB of 5.853 MB uploaded (0.000 MB deduped)\r"
          }
        },
        "d5d01e9dec3c47cea94d3f2967b05020": {
          "model_module": "@jupyter-widgets/controls",
          "model_name": "FloatProgressModel",
          "model_module_version": "1.5.0",
          "state": {
            "_dom_classes": [],
            "_model_module": "@jupyter-widgets/controls",
            "_model_module_version": "1.5.0",
            "_model_name": "FloatProgressModel",
            "_view_count": null,
            "_view_module": "@jupyter-widgets/controls",
            "_view_module_version": "1.5.0",
            "_view_name": "ProgressView",
            "bar_style": "",
            "description": "",
            "description_tooltip": null,
            "layout": "IPY_MODEL_940c5359935d43ffb077de37ffee87e3",
            "max": 1,
            "min": 0,
            "orientation": "horizontal",
            "style": "IPY_MODEL_b424b0f559594f94907f6ea06a788830",
            "value": 1
          }
        },
        "37d773d1314e4a7bb6f47f3e796e1d69": {
          "model_module": "@jupyter-widgets/base",
          "model_name": "LayoutModel",
          "model_module_version": "1.2.0",
          "state": {
            "_model_module": "@jupyter-widgets/base",
            "_model_module_version": "1.2.0",
            "_model_name": "LayoutModel",
            "_view_count": null,
            "_view_module": "@jupyter-widgets/base",
            "_view_module_version": "1.2.0",
            "_view_name": "LayoutView",
            "align_content": null,
            "align_items": null,
            "align_self": null,
            "border": null,
            "bottom": null,
            "display": null,
            "flex": null,
            "flex_flow": null,
            "grid_area": null,
            "grid_auto_columns": null,
            "grid_auto_flow": null,
            "grid_auto_rows": null,
            "grid_column": null,
            "grid_gap": null,
            "grid_row": null,
            "grid_template_areas": null,
            "grid_template_columns": null,
            "grid_template_rows": null,
            "height": null,
            "justify_content": null,
            "justify_items": null,
            "left": null,
            "margin": null,
            "max_height": null,
            "max_width": null,
            "min_height": null,
            "min_width": null,
            "object_fit": null,
            "object_position": null,
            "order": null,
            "overflow": null,
            "overflow_x": null,
            "overflow_y": null,
            "padding": null,
            "right": null,
            "top": null,
            "visibility": null,
            "width": null
          }
        },
        "b1e5bdb072f148708e98f4de9aea1cdb": {
          "model_module": "@jupyter-widgets/base",
          "model_name": "LayoutModel",
          "model_module_version": "1.2.0",
          "state": {
            "_model_module": "@jupyter-widgets/base",
            "_model_module_version": "1.2.0",
            "_model_name": "LayoutModel",
            "_view_count": null,
            "_view_module": "@jupyter-widgets/base",
            "_view_module_version": "1.2.0",
            "_view_name": "LayoutView",
            "align_content": null,
            "align_items": null,
            "align_self": null,
            "border": null,
            "bottom": null,
            "display": null,
            "flex": null,
            "flex_flow": null,
            "grid_area": null,
            "grid_auto_columns": null,
            "grid_auto_flow": null,
            "grid_auto_rows": null,
            "grid_column": null,
            "grid_gap": null,
            "grid_row": null,
            "grid_template_areas": null,
            "grid_template_columns": null,
            "grid_template_rows": null,
            "height": null,
            "justify_content": null,
            "justify_items": null,
            "left": null,
            "margin": null,
            "max_height": null,
            "max_width": null,
            "min_height": null,
            "min_width": null,
            "object_fit": null,
            "object_position": null,
            "order": null,
            "overflow": null,
            "overflow_x": null,
            "overflow_y": null,
            "padding": null,
            "right": null,
            "top": null,
            "visibility": null,
            "width": null
          }
        },
        "010e866e87dd494bb2f9acc6bc938784": {
          "model_module": "@jupyter-widgets/controls",
          "model_name": "DescriptionStyleModel",
          "model_module_version": "1.5.0",
          "state": {
            "_model_module": "@jupyter-widgets/controls",
            "_model_module_version": "1.5.0",
            "_model_name": "DescriptionStyleModel",
            "_view_count": null,
            "_view_module": "@jupyter-widgets/base",
            "_view_module_version": "1.2.0",
            "_view_name": "StyleView",
            "description_width": ""
          }
        },
        "940c5359935d43ffb077de37ffee87e3": {
          "model_module": "@jupyter-widgets/base",
          "model_name": "LayoutModel",
          "model_module_version": "1.2.0",
          "state": {
            "_model_module": "@jupyter-widgets/base",
            "_model_module_version": "1.2.0",
            "_model_name": "LayoutModel",
            "_view_count": null,
            "_view_module": "@jupyter-widgets/base",
            "_view_module_version": "1.2.0",
            "_view_name": "LayoutView",
            "align_content": null,
            "align_items": null,
            "align_self": null,
            "border": null,
            "bottom": null,
            "display": null,
            "flex": null,
            "flex_flow": null,
            "grid_area": null,
            "grid_auto_columns": null,
            "grid_auto_flow": null,
            "grid_auto_rows": null,
            "grid_column": null,
            "grid_gap": null,
            "grid_row": null,
            "grid_template_areas": null,
            "grid_template_columns": null,
            "grid_template_rows": null,
            "height": null,
            "justify_content": null,
            "justify_items": null,
            "left": null,
            "margin": null,
            "max_height": null,
            "max_width": null,
            "min_height": null,
            "min_width": null,
            "object_fit": null,
            "object_position": null,
            "order": null,
            "overflow": null,
            "overflow_x": null,
            "overflow_y": null,
            "padding": null,
            "right": null,
            "top": null,
            "visibility": null,
            "width": null
          }
        },
        "b424b0f559594f94907f6ea06a788830": {
          "model_module": "@jupyter-widgets/controls",
          "model_name": "ProgressStyleModel",
          "model_module_version": "1.5.0",
          "state": {
            "_model_module": "@jupyter-widgets/controls",
            "_model_module_version": "1.5.0",
            "_model_name": "ProgressStyleModel",
            "_view_count": null,
            "_view_module": "@jupyter-widgets/base",
            "_view_module_version": "1.2.0",
            "_view_name": "StyleView",
            "bar_color": null,
            "description_width": ""
          }
        }
      }
    }
  },
  "cells": [
    {
      "cell_type": "code",
      "execution_count": null,
      "metadata": {
        "colab": {
          "base_uri": "https://localhost:8080/"
        },
        "id": "OqDb0c5bnGFY",
        "outputId": "ed892755-8f6f-478a-85a3-e192d3df63e3"
      },
      "outputs": [
        {
          "output_type": "stream",
          "name": "stdout",
          "text": [
            "Collecting wandb\n",
            "  Downloading wandb-0.12.16-py2.py3-none-any.whl (1.8 MB)\n",
            "\u001b[K     |████████████████████████████████| 1.8 MB 5.2 MB/s \n",
            "\u001b[?25hRequirement already satisfied: setuptools in /usr/local/lib/python3.7/dist-packages (from wandb) (57.4.0)\n",
            "Collecting sentry-sdk>=1.0.0\n",
            "  Downloading sentry_sdk-1.5.12-py2.py3-none-any.whl (145 kB)\n",
            "\u001b[K     |████████████████████████████████| 145 kB 45.2 MB/s \n",
            "\u001b[?25hRequirement already satisfied: promise<3,>=2.0 in /usr/local/lib/python3.7/dist-packages (from wandb) (2.3)\n",
            "Requirement already satisfied: requests<3,>=2.0.0 in /usr/local/lib/python3.7/dist-packages (from wandb) (2.23.0)\n",
            "Requirement already satisfied: psutil>=5.0.0 in /usr/local/lib/python3.7/dist-packages (from wandb) (5.4.8)\n",
            "Collecting setproctitle\n",
            "  Downloading setproctitle-1.2.3-cp37-cp37m-manylinux_2_5_x86_64.manylinux1_x86_64.manylinux_2_17_x86_64.manylinux2014_x86_64.whl (29 kB)\n",
            "Requirement already satisfied: python-dateutil>=2.6.1 in /usr/local/lib/python3.7/dist-packages (from wandb) (2.8.2)\n",
            "Requirement already satisfied: six>=1.13.0 in /usr/local/lib/python3.7/dist-packages (from wandb) (1.15.0)\n",
            "Collecting docker-pycreds>=0.4.0\n",
            "  Downloading docker_pycreds-0.4.0-py2.py3-none-any.whl (9.0 kB)\n",
            "Collecting pathtools\n",
            "  Downloading pathtools-0.1.2.tar.gz (11 kB)\n",
            "Collecting shortuuid>=0.5.0\n",
            "  Downloading shortuuid-1.0.9-py3-none-any.whl (9.4 kB)\n",
            "Requirement already satisfied: Click!=8.0.0,>=7.0 in /usr/local/lib/python3.7/dist-packages (from wandb) (7.1.2)\n",
            "Requirement already satisfied: protobuf>=3.12.0 in /usr/local/lib/python3.7/dist-packages (from wandb) (3.17.3)\n",
            "Requirement already satisfied: PyYAML in /usr/local/lib/python3.7/dist-packages (from wandb) (3.13)\n",
            "Collecting GitPython>=1.0.0\n",
            "  Downloading GitPython-3.1.27-py3-none-any.whl (181 kB)\n",
            "\u001b[K     |████████████████████████████████| 181 kB 41.4 MB/s \n",
            "\u001b[?25hRequirement already satisfied: typing-extensions>=3.7.4.3 in /usr/local/lib/python3.7/dist-packages (from GitPython>=1.0.0->wandb) (4.2.0)\n",
            "Collecting gitdb<5,>=4.0.1\n",
            "  Downloading gitdb-4.0.9-py3-none-any.whl (63 kB)\n",
            "\u001b[K     |████████████████████████████████| 63 kB 1.8 MB/s \n",
            "\u001b[?25hCollecting smmap<6,>=3.0.1\n",
            "  Downloading smmap-5.0.0-py3-none-any.whl (24 kB)\n",
            "Requirement already satisfied: chardet<4,>=3.0.2 in /usr/local/lib/python3.7/dist-packages (from requests<3,>=2.0.0->wandb) (3.0.4)\n",
            "Requirement already satisfied: urllib3!=1.25.0,!=1.25.1,<1.26,>=1.21.1 in /usr/local/lib/python3.7/dist-packages (from requests<3,>=2.0.0->wandb) (1.24.3)\n",
            "Requirement already satisfied: idna<3,>=2.5 in /usr/local/lib/python3.7/dist-packages (from requests<3,>=2.0.0->wandb) (2.10)\n",
            "Requirement already satisfied: certifi>=2017.4.17 in /usr/local/lib/python3.7/dist-packages (from requests<3,>=2.0.0->wandb) (2021.10.8)\n",
            "Building wheels for collected packages: pathtools\n",
            "  Building wheel for pathtools (setup.py) ... \u001b[?25l\u001b[?25hdone\n",
            "  Created wheel for pathtools: filename=pathtools-0.1.2-py3-none-any.whl size=8806 sha256=a8e0ce5435c03c5f05a2539987e4109f44e2bf2cade66ada4512d91d588f6128\n",
            "  Stored in directory: /root/.cache/pip/wheels/3e/31/09/fa59cef12cdcfecc627b3d24273699f390e71828921b2cbba2\n",
            "Successfully built pathtools\n",
            "Installing collected packages: smmap, gitdb, shortuuid, setproctitle, sentry-sdk, pathtools, GitPython, docker-pycreds, wandb\n",
            "Successfully installed GitPython-3.1.27 docker-pycreds-0.4.0 gitdb-4.0.9 pathtools-0.1.2 sentry-sdk-1.5.12 setproctitle-1.2.3 shortuuid-1.0.9 smmap-5.0.0 wandb-0.12.16\n",
            "--2022-05-14 11:28:40--  https://storage.googleapis.com/gresearch/dakshina/dakshina_dataset_v1.0.tar\n",
            "Resolving storage.googleapis.com (storage.googleapis.com)... 142.250.125.128, 142.250.136.128, 142.250.148.128, ...\n",
            "Connecting to storage.googleapis.com (storage.googleapis.com)|142.250.125.128|:443... connected.\n",
            "HTTP request sent, awaiting response... 200 OK\n",
            "Length: 2008340480 (1.9G) [application/x-tar]\n",
            "Saving to: ‘dakshina_dataset_v1.0.tar’\n",
            "\n",
            "dakshina_dataset_v1 100%[===================>]   1.87G  92.5MB/s    in 18s     \n",
            "\n",
            "2022-05-14 11:28:58 (105 MB/s) - ‘dakshina_dataset_v1.0.tar’ saved [2008340480/2008340480]\n",
            "\n"
          ]
        }
      ],
      "source": [
        "!pip install wandb\n",
        "\n",
        "!wget https://storage.googleapis.com/gresearch/dakshina/dakshina_dataset_v1.0.tar\n",
        "\n",
        "!tar -xf dakshina_dataset_v1.0.tar"
      ]
    },
    {
      "cell_type": "code",
      "source": [
        "import numpy as np\n",
        "import matplotlib.pyplot as plt\n",
        "import pandas as pd\n",
        "import os\n",
        "import cv2\n",
        "import pathlib\n",
        "\n",
        "DATAPATH = \"./dakshina_dataset_v1.0\"\n",
        "\n",
        "trainpath = os.path.join(DATAPATH, \"hi\", \"lexicons\", \"hi\"+\".translit.sampled.train.tsv\")\n",
        "valpath = os.path.join(DATAPATH, \"hi\", \"lexicons\", \"hi\"+\".translit.sampled.dev.tsv\")\n",
        "testpath = os.path.join(DATAPATH, \"hi\", \"lexicons\", \"hi\"+\".translit.sampled.test.tsv\")\n",
        "train = pd.read_csv(\n",
        "    trainpath,\n",
        "    sep=\"\\t\",\n",
        "    names=[\"tgt\", \"src\", \"count\"],\n",
        ")\n",
        "val = pd.read_csv(\n",
        "    valpath,\n",
        "    sep=\"\\t\",\n",
        "    names=[\"tgt\", \"src\", \"count\"],\n",
        ")\n",
        "test = pd.read_csv(\n",
        "    testpath,\n",
        "    sep=\"\\t\",\n",
        "    names=[\"tgt\", \"src\", \"count\"],\n",
        ")\n",
        "\n",
        "\n",
        "\n",
        "# create train data\n",
        "#train_data = preprocess(list(train[\"src\"]), list(train[\"tgt\"]))"
      ],
      "metadata": {
        "id": "D-pfjLd_nHAW"
      },
      "execution_count": null,
      "outputs": []
    },
    {
      "cell_type": "code",
      "source": [
        "source=list(train[\"src\"])\n",
        "target=list(train[\"tgt\"])\n",
        "\n",
        "source_chars = set()\n",
        "target_chars = set()\n",
        "\n",
        "#removing non str nan types\n",
        "source = [str(x) for x in source]\n",
        "target = [str(x) for x in target]\n",
        "\n",
        "source_words = []\n",
        "target_words = []\n",
        "\n",
        "for src, tgt in zip(source, target):\n",
        "    tgt = \"\\t\" + tgt + \"\\n\"\n",
        "    source_words.append(src)\n",
        "    target_words.append(tgt)\n",
        "    for char in src:\n",
        "        if char not in source_chars:\n",
        "            source_chars.add(char)\n",
        "    for char in tgt:\n",
        "        if char not in target_chars:\n",
        "            target_chars.add(char)\n",
        "\n",
        "source_chars = sorted(list(source_chars))\n",
        "target_chars = sorted(list(target_chars))\n",
        "\n",
        "#The space needs to be appended so that the encode function doesn't throw errors\n",
        "source_chars.append(\" \")\n",
        "target_chars.append(\" \")\n",
        "\n",
        "num_encoder_tokens = len(source_chars)\n",
        "num_decoder_tokens = len(target_chars)\n",
        "max_source_length = max([len(txt) for txt in source_words])\n",
        "max_target_length = max([len(txt) for txt in target_words])\n",
        "\n",
        "print(\"Number of samples:\", len(source))\n",
        "print(\"Source Vocab length:\", num_encoder_tokens)\n",
        "print(\"Target Vocab length:\", num_decoder_tokens)\n",
        "print(\"Max sequence length for inputs:\", max_source_length)\n",
        "print(\"Max sequence length for outputs:\", max_target_length)\n"
      ],
      "metadata": {
        "colab": {
          "base_uri": "https://localhost:8080/"
        },
        "id": "jidGuclVn-WC",
        "outputId": "266bbcd4-ec9d-43f8-d80e-0b82158f3949"
      },
      "execution_count": null,
      "outputs": [
        {
          "output_type": "stream",
          "name": "stdout",
          "text": [
            "Number of samples: 44204\n",
            "Source Vocab length: 27\n",
            "Target Vocab length: 66\n",
            "Max sequence length for inputs: 20\n",
            "Max sequence length for outputs: 21\n"
          ]
        }
      ]
    },
    {
      "cell_type": "code",
      "source": [
        "def dictionary_lookup( vocab):\n",
        "  char2int = dict([(char, i) for i, char in enumerate(vocab)])\n",
        "  int2char = dict((i, char) for char, i in char2int.items())\n",
        "  return char2int, int2char\n"
      ],
      "metadata": {
        "id": "wmI7Csy3r-Nx"
      },
      "execution_count": null,
      "outputs": []
    },
    {
      "cell_type": "code",
      "source": [
        "def encode(source, target, source_chars, target_chars, source_char2int=None, target_char2int=None):\n",
        "        num_encoder_tokens = len(source_chars)\n",
        "        num_decoder_tokens = len(target_chars)\n",
        "        max_source_length = max([len(txt) for txt in source])\n",
        "        max_target_length = max([len(txt) for txt in target])\n",
        "\n",
        "        source_vocab, target_vocab = None, None\n",
        "        if source_char2int == None and target_char2int == None:\n",
        "            print(\"Generating the dictionary lookups for character to integer mapping and back\")\n",
        "            source_char2int, source_int2char = dictionary_lookup(source_chars)\n",
        "            target_char2int, target_int2char = dictionary_lookup(target_chars)\n",
        "\n",
        "            source_vocab = (source_char2int, source_int2char)\n",
        "            target_vocab = (target_char2int, target_int2char)\n",
        "\n",
        "        encoder_input_data = np.zeros(\n",
        "            (len(source), max_source_length, num_encoder_tokens), dtype=\"float32\"\n",
        "        )\n",
        "        decoder_input_data = np.zeros(\n",
        "            (len(source), max_target_length, num_decoder_tokens), dtype=\"float32\"\n",
        "        )\n",
        "        decoder_target_data = np.zeros(\n",
        "            (len(source), max_target_length, num_decoder_tokens), dtype=\"float32\"\n",
        "        )\n",
        "\n",
        "        for i, (input_text, target_text) in enumerate(zip(source, target)):\n",
        "            for t, char in enumerate(input_text):\n",
        "                encoder_input_data[i, t, source_char2int[char]] = 1.0\n",
        "            encoder_input_data[i, t + 1 :, source_char2int[\" \"]] = 1.0\n",
        "            for t, char in enumerate(target_text):\n",
        "                # decoder_target_data is ahead of decoder_input_data by one timestep\n",
        "                decoder_input_data[i, t, target_char2int[char]] = 1.0\n",
        "                if t > 0:\n",
        "                    # decoder_target_data will be ahead by one timestep\n",
        "                    # and will not include the start character.\n",
        "                    decoder_target_data[i, t - 1, target_char2int[char]] = 1.0\n",
        "            decoder_input_data[i, t + 1 :, target_char2int[\" \"]] = 1.0\n",
        "            decoder_target_data[i, t:, target_char2int[\" \"]] = 1.0\n",
        "        if source_vocab != None and target_vocab != None:\n",
        "            return (\n",
        "                encoder_input_data,\n",
        "                decoder_input_data,\n",
        "                decoder_target_data,\n",
        "                source_vocab,\n",
        "                target_vocab,\n",
        "            )\n",
        "        else:\n",
        "            return encoder_input_data, decoder_input_data, decoder_target_data"
      ],
      "metadata": {
        "id": "2ARqKzI4nr4b"
      },
      "execution_count": null,
      "outputs": []
    },
    {
      "cell_type": "code",
      "source": [
        "train_data=encode(source_words, target_words, source_chars, target_chars)"
      ],
      "metadata": {
        "colab": {
          "base_uri": "https://localhost:8080/"
        },
        "id": "u3udhx6qs1E9",
        "outputId": "68a3514b-b266-4ce0-be4c-a1ef30c57ee8"
      },
      "execution_count": null,
      "outputs": [
        {
          "output_type": "stream",
          "name": "stdout",
          "text": [
            "Generating the dictionary lookups for character to integer mapping and back\n"
          ]
        }
      ]
    },
    {
      "cell_type": "code",
      "source": [
        " # create train data\n",
        "(train_encoder_input,\n",
        "    train_decoder_input,\n",
        "    train_decoder_target,\n",
        "    source_vocab,\n",
        "    target_vocab,\n",
        ") = train_data\n",
        "source_char2int, source_int2char = source_vocab\n",
        "target_char2int, target_int2char = target_vocab\n"
      ],
      "metadata": {
        "id": "Jzjik-8fro25"
      },
      "execution_count": null,
      "outputs": []
    },
    {
      "cell_type": "code",
      "source": [
        " # create val data (only encode function suffices as the dictionary lookup should be kep the same.\n",
        "val_data = encode(\n",
        "    val[\"src\"].to_list(),\n",
        "    val[\"tgt\"].to_list(),\n",
        "    list(source_char2int.keys()),\n",
        "    list(target_char2int.keys()),\n",
        "    source_char2int=source_char2int,\n",
        "    target_char2int=target_char2int,\n",
        ")\n",
        "val_encoder_input, val_decoder_input, val_decoder_target = val_data\n",
        "source_char2int, source_int2char = source_vocab\n",
        "target_char2int, target_int2char = target_vocab\n",
        "\n",
        "# create test data\n",
        "test_data = encode(\n",
        "    test[\"src\"].to_list(),\n",
        "    test[\"tgt\"].to_list(),\n",
        "    list(source_char2int.keys()),\n",
        "    list(target_char2int.keys()),\n",
        "    source_char2int=source_char2int,\n",
        "    target_char2int=target_char2int,\n",
        ")\n",
        "test_encoder_input, test_decoder_input, test_decoder_target = test_data\n",
        "source_char2int, source_int2char = source_vocab\n",
        "target_char2int, target_int2char = target_vocab\n"
      ],
      "metadata": {
        "id": "HKofhjMFtOyP"
      },
      "execution_count": null,
      "outputs": []
    },
    {
      "cell_type": "code",
      "source": [
        "#call attention using:\n",
        "from tensorflow.keras.layers import AdditiveAttention"
      ],
      "metadata": {
        "id": "ThB6W4a-1IEa"
      },
      "execution_count": null,
      "outputs": []
    },
    {
      "cell_type": "code",
      "source": [
        "import os\n",
        "\n",
        "import tensorflow as tf\n",
        "import numpy as np\n",
        "import matplotlib.pyplot as plt\n",
        "\n",
        "from tensorflow.keras import layers\n",
        " \n",
        "\n",
        "#from tensorflow.keras import Input, Model\n",
        "from tensorflow.keras.layers import Dense, Input, InputLayer, Flatten, Activation, LSTM, SimpleRNN, GRU, TimeDistributed,Concatenate\n",
        "from tensorflow.keras.utils import plot_model\n",
        "from tensorflow.keras.models import load_model, Sequential,  Model\n",
        "from tensorflow.keras.callbacks import EarlyStopping\n",
        "\n",
        "\n",
        "import wandb\n",
        "\n",
        "\n",
        "class Sq2Sq_attention():\n",
        "\n",
        "    def __init__(self, numEncoders,cell_type,latentDim,dropout,numDecoders,hidden,srcChar2Int, tgtChar2Int):\n",
        "        \n",
        "        self.numEncoders = numEncoders\n",
        "        self.cell_type = cell_type\n",
        "        self.latentDim = latentDim\n",
        "        self.dropout =dropout\n",
        "        self.numDecoders = numDecoders\n",
        "        self.hidden = hidden\n",
        "        self.tgtChar2Int = tgtChar2Int\n",
        "        self.srcChar2Int = srcChar2Int\n",
        "    \n",
        "    def build_attention_model(self):       \n",
        "        \n",
        "        if self.cell_type == \"RNN\":\n",
        "            # encoder\n",
        "            encoder_inputs = Input(shape=(None, len(self.srcChar2Int)))\n",
        "            encoder_outputs = encoder_inputs\n",
        "            for i in range(1, self.numEncoders + 1):\n",
        "                encoder = SimpleRNN(\n",
        "                    self.latentDim,\n",
        "                    return_state=True,\n",
        "                    return_sequences=True,\n",
        "                    dropout=self.dropout,\n",
        "                )\n",
        "                encoder_outputs, state = encoder(encoder_inputs) \n",
        "                \n",
        "                if i == 1:\n",
        "                    encoder_first_outputs= encoder_outputs                  \n",
        "            encoder_states = [state]\n",
        "            \n",
        "\n",
        "            # decoder\n",
        "            decoder_inputs = Input(shape=(None, len(self.tgtChar2Int)))\n",
        "            decoder_outputs = decoder_inputs\n",
        "            for i in range(1, self.numDecoders + 1):\n",
        "                decoder = SimpleRNN(\n",
        "                    self.latentDim,\n",
        "                    return_sequences=True,\n",
        "                    return_state=True,\n",
        "                    dropout=self.dropout,\n",
        "                )\n",
        "                decoder_outputs, _ = decoder(decoder_inputs, initial_state=encoder_states)\n",
        "                \n",
        "                if i == self.numDecoders:\n",
        "                    decoder_first_outputs = decoder_outputs\n",
        "\n",
        "\n",
        "            attention_out = AdditiveAttention(use_scale=True)([decoder_first_outputs, encoder_first_outputs])\n",
        "\n",
        "\n",
        "            decoder_concat_input = Concatenate(axis=-1, name='concat_layer')([decoder_outputs, attention_out])\n",
        "\n",
        "            # dense\n",
        "            hidden = Dense(self.hidden, activation=\"relu\")\n",
        "            hidden_time = TimeDistributed(hidden, name='time_distributed_layer')\n",
        "            hidden_outputs = hidden(decoder_concat_input)\n",
        "            decoder_dense = Dense(len(self.tgtChar2Int), activation=\"softmax\")\n",
        "            decoder_outputs = decoder_dense(hidden_outputs)\n",
        "            model = Model([encoder_inputs, decoder_inputs], decoder_outputs)\n",
        "            \n",
        "            return model\n",
        "        \n",
        "        elif self.cell_type == \"LSTM\":\n",
        "            # encoder\n",
        "            encoder_inputs = Input(shape=(None, len(self.srcChar2Int)))\n",
        "            encoder_outputs = encoder_inputs\n",
        "            for i in range(1, self.numEncoders + 1):\n",
        "                encoder = LSTM(\n",
        "                    self.latentDim,\n",
        "                    return_state=True,\n",
        "                    return_sequences=True,\n",
        "                    dropout=self.dropout,\n",
        "                )\n",
        "                encoder_outputs, state_h, state_c = encoder(encoder_outputs)\n",
        "                if i == 1:\n",
        "                    encoder_first_outputs= encoder_outputs                  \n",
        "         \n",
        "            encoder_states = [state_h, state_c]\n",
        "\n",
        "            # decoder\n",
        "            decoder_inputs = Input(shape=(None, len(self.tgtChar2Int)))\n",
        "            decoder_outputs = decoder_inputs\n",
        "            for i in range(1, self.numDecoders + 1):\n",
        "                decoder = LSTM(\n",
        "                    self.latentDim,\n",
        "                    return_state=True,\n",
        "                    return_sequences=True,\n",
        "                    dropout=self.dropout,\n",
        "                )\n",
        "                decoder_outputs, _, _ = decoder(\n",
        "                    decoder_outputs, initial_state=encoder_states\n",
        "                )\n",
        "                if i == self.numDecoders:\n",
        "                    decoder_first_outputs = decoder_outputs\n",
        "\n",
        "\n",
        "\n",
        "            attention_out = AdditiveAttention(use_scale=True)([decoder_first_outputs, encoder_first_outputs])\n",
        "\n",
        "            decoder_concat_input = Concatenate(axis=-1, name='concat_layer')([decoder_outputs, attention_out])\n",
        "\n",
        "            # dense\n",
        "            hidden = Dense(self.hidden, activation=\"relu\")\n",
        "            hidden_time = TimeDistributed(hidden, name='time_distributed_layer')\n",
        "            hidden_outputs = hidden(decoder_concat_input)\n",
        "            decoder_dense = Dense(len(self.tgtChar2Int), activation=\"softmax\")\n",
        "            decoder_outputs = decoder_dense(hidden_outputs)\n",
        "            model = Model([encoder_inputs, decoder_inputs], decoder_outputs)\n",
        "            \n",
        "            return model\n",
        "        \n",
        "        elif self.cell_type == \"GRU\":\n",
        "            # encoder\n",
        "            encoder_inputs = Input(shape=(None, len(self.srcChar2Int)))\n",
        "            encoder_outputs = encoder_inputs\n",
        "            for i in range(1, self.numEncoders + 1):\n",
        "                encoder = GRU(\n",
        "                    self.latentDim,\n",
        "                    return_state=True,\n",
        "                    return_sequences=True,\n",
        "                    dropout=self.dropout,\n",
        "                )\n",
        "                encoder_outputs, state = encoder(encoder_inputs)\n",
        "\n",
        "                if i == 1:\n",
        "                    encoder_first_outputs= encoder_outputs                  \n",
        "         \n",
        "            encoder_states = [state]\n",
        "\n",
        "            # decoder\n",
        "            decoder_inputs = Input(shape=(None, len(self.tgtChar2Int)))\n",
        "            decoder_outputs = decoder_inputs\n",
        "            for i in range(1, self.numDecoders + 1):\n",
        "                decoder = GRU(\n",
        "                    self.latentDim,\n",
        "                    return_sequences=True,\n",
        "                    return_state=True,\n",
        "                    dropout=self.dropout,\n",
        "                )\n",
        "                decoder_outputs, _ = decoder(decoder_inputs, initial_state=encoder_states)\n",
        "                if i == self.numDecoders:\n",
        "                    decoder_first_outputs = decoder_outputs\n",
        "\n",
        "\n",
        "\n",
        "\n",
        "            attention_out = AdditiveAttention(use_scale=True)([decoder_first_outputs, encoder_first_outputs])\n",
        "\n",
        "            decoder_concat_input = Concatenate(axis=-1, name='concat_layer')([decoder_outputs, attention_out])\n",
        "\n",
        "            # dense\n",
        "            hidden = Dense(self.hidden, activation=\"relu\")\n",
        "            hidden_time = TimeDistributed(hidden, name='time_distributed_layer')\n",
        "            hidden_outputs = hidden(decoder_concat_input)\n",
        "            decoder_dense = Dense(len(self.tgtChar2Int), activation=\"softmax\")\n",
        "            decoder_outputs = decoder_dense(hidden_outputs)\n",
        "            model = Model([encoder_inputs, decoder_inputs], decoder_outputs)\n",
        "            \n",
        "            return model"
      ],
      "metadata": {
        "id": "tx2viffdt77o"
      },
      "execution_count": null,
      "outputs": []
    },
    {
      "cell_type": "code",
      "source": [
        "#sweep config\n",
        "sweep_config = {\n",
        "  \"name\": \"Bayesian Sweep_attention\",\n",
        "  \"method\": \"bayes\"\n",
        "  }\n",
        "metric_dict={\n",
        "  \"name\": \"val_accuracy\",\n",
        "  \"goal\": \"maximize\"\n",
        "  }\n",
        "sweep_config['metric']=metric_dict\n",
        "parameters_dict= {\n",
        "        \n",
        "        \"cell_type\": {\"values\": [\"LSTM\",\"RNN\",\"GRU\"]},\n",
        "        \n",
        "        \"latentDim\": {\"values\": [256]},\n",
        "        \n",
        "        \"hidden\": {\"values\": [128, 64]},\n",
        "        \n",
        "        \"optimiser\": {\"values\": [\"adam\"]},\n",
        "        \n",
        "        \"numEncoders\": {\"values\": [1, 2, 3]},\n",
        "        \n",
        "        \"numDecoders\": {\"values\": [1, 2, 3]},\n",
        "        \n",
        "        \"dropout\": {\"values\": [0.2, 0.3]},\n",
        "        \n",
        "        \"epochs\": {\"values\": [5,10,15, 20]},\n",
        "        \n",
        "        \"batch_size\": {\"values\": [32, 64]},\n",
        "    }\n",
        "\n",
        "sweep_config['parameters'] = parameters_dict\n"
      ],
      "metadata": {
        "id": "N0VFbzG643jJ"
      },
      "execution_count": null,
      "outputs": []
    },
    {
      "cell_type": "code",
      "source": [
        "sweep_id = wandb.sweep(sweep_config, project=\"CS6910-Assignment-3_attn\")"
      ],
      "metadata": {
        "colab": {
          "base_uri": "https://localhost:8080/",
          "height": 86
        },
        "id": "HYYrVFYd5NOr",
        "outputId": "3dc9d533-1de4-4039-8483-f071742a870f"
      },
      "execution_count": null,
      "outputs": [
        {
          "output_type": "display_data",
          "data": {
            "text/plain": [
              "<IPython.core.display.Javascript object>"
            ],
            "application/javascript": [
              "\n",
              "        window._wandbApiKey = new Promise((resolve, reject) => {\n",
              "            function loadScript(url) {\n",
              "            return new Promise(function(resolve, reject) {\n",
              "                let newScript = document.createElement(\"script\");\n",
              "                newScript.onerror = reject;\n",
              "                newScript.onload = resolve;\n",
              "                document.body.appendChild(newScript);\n",
              "                newScript.src = url;\n",
              "            });\n",
              "            }\n",
              "            loadScript(\"https://cdn.jsdelivr.net/npm/postmate/build/postmate.min.js\").then(() => {\n",
              "            const iframe = document.createElement('iframe')\n",
              "            iframe.style.cssText = \"width:0;height:0;border:none\"\n",
              "            document.body.appendChild(iframe)\n",
              "            const handshake = new Postmate({\n",
              "                container: iframe,\n",
              "                url: 'https://wandb.ai/authorize'\n",
              "            });\n",
              "            const timeout = setTimeout(() => reject(\"Couldn't auto authenticate\"), 5000)\n",
              "            handshake.then(function(child) {\n",
              "                child.on('authorize', data => {\n",
              "                    clearTimeout(timeout)\n",
              "                    resolve(data)\n",
              "                });\n",
              "            });\n",
              "            })\n",
              "        });\n",
              "    "
            ]
          },
          "metadata": {}
        },
        {
          "output_type": "stream",
          "name": "stderr",
          "text": [
            "\u001b[34m\u001b[1mwandb\u001b[0m: Appending key for api.wandb.ai to your netrc file: /root/.netrc\n"
          ]
        },
        {
          "output_type": "stream",
          "name": "stdout",
          "text": [
            "Create sweep with ID: bs3zoay5\n",
            "Sweep URL: https://wandb.ai/muk465/CS6910-Assignment-3_attn/sweeps/bs3zoay5\n"
          ]
        }
      ]
    },
    {
      "cell_type": "code",
      "source": [
        "import numpy as np\n",
        "import pandas as pd\n",
        "import os\n",
        "\n",
        "from tensorflow.keras import Input, Model\n",
        "from tensorflow.keras.layers import RNN, LSTM, GRU, Dense\n",
        "from tensorflow.keras.utils import plot_model\n",
        "from tensorflow.keras.models import load_model\n",
        "from tensorflow.keras.callbacks import EarlyStopping\n",
        "\n",
        "import wandb\n",
        "from wandb.keras import WandbCallback\n",
        "\n",
        "\n",
        "import tensorflow as tf\n",
        "\n",
        "\n",
        "def train():\n",
        "\n",
        "  config_defaults = {\n",
        "      \"cell_type\": \"RNN\",\n",
        "      \"latentDim\": 256,\n",
        "      \"hidden\": 128,\n",
        "      \"optimiser\": \"adam\",\n",
        "      \"numEncoders\": 1,\n",
        "      \"numDecoders\": 1,\n",
        "      \"dropout\": 0.2,\n",
        "      \"epochs\": 1,\n",
        "      \"batch_size\": 64,\n",
        "  }\n",
        "\n",
        "\n",
        "  wandb.init(config=config_defaults,  project=\"CS6910-Assignment-3_att\")\n",
        "  config = wandb.config\n",
        "  wandb.run.name = (\n",
        "      str(config.cell_type)\n",
        "      + \"eng\"\n",
        "      + str(config.numEncoders)\n",
        "      + \"_\"\n",
        "      + \"hi\"\n",
        "      + \"_\"\n",
        "      + str(config.numDecoders)\n",
        "      + \"_\"\n",
        "      + config.optimiser\n",
        "      + \"_\"\n",
        "      + str(config.epochs)\n",
        "      + \"_\"\n",
        "      + str(config.dropout) \n",
        "      + \"_\"\n",
        "      + str(config.batch_size)\n",
        "      + \"_\"\n",
        "      + str(config.latentDim)\n",
        "  )\n",
        "  wandb.run.save()\n",
        "\n",
        "  modelInit = Sq2Sq_attention(\n",
        "    config.numEncoders, \n",
        "    config.cell_type, \n",
        "    config.latentDim, \n",
        "    config.dropout, \n",
        "    config.numDecoders, \n",
        "    config.hidden ,\n",
        "    srcChar2Int=source_char2int, \n",
        "    tgtChar2Int=target_char2int\n",
        "    )\n",
        "\n",
        "  model = modelInit.build_attention_model()\n",
        "\n",
        "  model.summary()\n",
        "\n",
        "  model.compile(\n",
        "      optimizer=config.optimiser,\n",
        "      loss=\"categorical_crossentropy\",\n",
        "      metrics=[\"accuracy\"],\n",
        "  )\n",
        "\n",
        "  earlystopping = EarlyStopping(\n",
        "      monitor=\"val_accuracy\", min_delta=0.01, patience=5, verbose=2, mode=\"auto\"\n",
        "  )\n",
        "\n",
        "  model.fit(\n",
        "      [train_encoder_input, train_decoder_input],\n",
        "      train_decoder_target,\n",
        "      batch_size=config.batch_size,\n",
        "      epochs=config.epochs,\n",
        "      validation_data=([val_encoder_input, val_decoder_input], val_decoder_target),\n",
        "      callbacks=[earlystopping, WandbCallback()],\n",
        "  )\n",
        "\n",
        "  model.save(os.path.join(\"./TrainedModels\", wandb.run.name))    \n",
        "  wandb.finish()\n",
        "\n",
        "\n",
        "\n",
        "\n"
      ],
      "metadata": {
        "id": "g3iktXKTuBmI"
      },
      "execution_count": null,
      "outputs": []
    },
    {
      "cell_type": "code",
      "source": [
        "wandb.agent(sweep_id, train, count = 200)"
      ],
      "metadata": {
        "colab": {
          "base_uri": "https://localhost:8080/",
          "height": 1000,
          "referenced_widgets": [
            "788c33e24fee4c9dae029c5019e63283",
            "88aa32df1d0047ec91d6647657df1d85",
            "71ff32c85e094b309392d66cd81d9a6c",
            "d18078bf2159420bae821333c71c827e",
            "882a18a12bfe41ba810dafd3c1ba2791",
            "8ddf30dbc846499087af0dfee610c104",
            "8b3475c386ab46b8a80e27ed344d2815",
            "1b2c8d1a5db44bb49b125431cb454896",
            "462b2b0eb1434d1d9b508a4a7154c6b0",
            "97d5618b868e455691459c43725e6bf4",
            "97b2466b5cb34c03a393ae0d75aa9750",
            "b437a55546444640aad1987da9608f23",
            "ae550b14a36d4173928505a3672831b5",
            "0608b175ba3849d29c36d38d1f356bfe",
            "634074670a9041018559e5db7b0d6f29",
            "e0f8a054e26c4692b4a512a781809fc9",
            "876612ff93e94d6bbda50bdea48797bf",
            "e7269fd0514b4ad39216794ff59c25da",
            "aefe2ec0388447e287527391105cc2b9",
            "266a210171a24de7ba25b5149e1aa527",
            "54f704acb1f94abfa5f199cea223e1b4",
            "33c09f970a1f42b78352f68b2e8fee22",
            "9e4a4710b4f1446dadfd78021b1e47d7",
            "8af851bd6bda41298c1c4c91bac438fd",
            "7d77344dc91a428d9f6a75a5fa4715bf",
            "f7868bb9bb764f5abaf46d80fd6a1bb5",
            "5c62edb127ed44fdad743497d9123099",
            "6b22fc92fc874e4fabc54c890bc4b500",
            "92dadf08fb9f45d19a69a346d141df5e",
            "c86480a9681e4dc5af04cea46b1fd964",
            "74dcbfba68db486da8793e24ec1b7b38",
            "5a6c9e46e6534b13b10ce30708c4c701",
            "62d64ff5dc8e4828812f09c9d690baff",
            "cccb410a752f48d7a38c90c08d02c7ae",
            "8afa5d99f04e4de1b5f28e530e738871",
            "0a796d52146b497eb14c538767b9beba",
            "082e3fdab56e4b71bab9999d514b2570",
            "b8c0dca8e3274ea2bd8aa70171cc7053",
            "6a6e4159b3ac4372ab6ca3953e0146e4",
            "5008586caa3a4112af295ed3aaf9bcfe",
            "18ce25d18a004452802d1c86befc6c5b",
            "37503e97398e473ab9af8a6d50afeb07",
            "f46884c3a31547b9ab6453a925f0ee3b",
            "0b7f369bc59843439ff53a31e383ef38",
            "da3d9aa1422f459985daa059be47077d",
            "59788f62205f4460bddab20947d02ae4",
            "ca7c58bbad8c498f84357c7ff3917c73",
            "ea30b3e57e9b4f72a394fd353f32ff5b",
            "c5de100a359a4bf884cba667322b6f9e",
            "70010d39426c4e93893c661f9e869845",
            "e0860f4466c84a1caba76f9c32b39598",
            "4a5b5ac6904442828e7ac73cc9ad61bb",
            "44ec09025f34464c9dc749a90a0eb53e",
            "c84edbf099f24767aa945856c55df8e2",
            "5ee1aaa47c444d4cb45bd5a306cff0e0",
            "0d85156796ad424083dca0c85759f923",
            "a52b20da44f94bd69b2acf32e11ad073",
            "c3df4ff99734485db93edff293221d71",
            "26ae93c055654eea8d2adfb7721e6cc6",
            "d82b25dd10964fe29c50b5dcc1f23dec",
            "a06bce7b4c2c493fbd2c2380c8f5297b",
            "99236d3883f94a89b3c0c8d8eface58c",
            "02b2f1e5d34f486e89b62baedf03b9df",
            "0e7ffe8f1cb24f14823dbc2a7f9108a7",
            "6a9ee95be4b74a289034e5efdbf8d4b8",
            "08f3f122379149649781fec27512768b",
            "e971e22f17f147c19556193ab897bbc9",
            "1b7ff42e019f42b09ef2fb1fc32b3c49",
            "0131466cd2714a3caf65beeba0cd7ad5",
            "d73f341ba144422bada61eacf512b088",
            "e81ea73fc0194a28a29baa2d647f6e6c",
            "f53420349bd44e29a79c85275eb21545",
            "883581db572e463393af307495f9fdbc",
            "02291fb692e94d12a5ca4085af72655b",
            "820cf0c69f9d4230936efe73598ca52c",
            "500435709dd64e299a85e89fc2700237",
            "bd1c4d0c4833426683e4bd0b2bf8ce18",
            "cc62e30f5b814d3a9d627129fb45c55a",
            "c2a06bbbeb004e428eb19e2badd331ad",
            "6b9d9fdfd3ee42e0849ba23db50819c4",
            "9b2f93c2c660417aad0ed0a06b2ad0bc",
            "25d95245aa374a6eb0bc40585baeca18",
            "c8b78af7e28e41b3b88ed3a44c6f17c9",
            "734bac74076342879bf124252e0d4c54",
            "5184144aeac24b16ab8ab31751f704d6",
            "ed665cdab04e45e3a5c34cc570c250fe",
            "d4acb8ec793843a298fe9ce19b04261f",
            "2bba323c61a046529c212ac02f54590b",
            "fe06fb81f64f450b9d568cd43719d132",
            "295a1a7ac4ee423eb35427125d03ea00",
            "00f42ef86ed8420090337ea8cb3ed8cb",
            "37ddf0a412764f909a786a7d2183bd1e",
            "9de900a59f3a480abcd21168ac21222f",
            "dd68aa2de53b412eb1367bd7713b0bd8",
            "972f0811e9154165b2b097fca10abb6e",
            "3045b966ccc4424098cb43865fb886d7",
            "8a157d84ae1549de8fa32ebdb2ddc519",
            "4fe79a810af54abba1c8982284399036",
            "bbc2fada33994eb48828e233ff0ff288",
            "d72af1839aa2471aa4d11dab3ba42376",
            "9958109935d34c7082683c0e97f74c3f",
            "8cca23239e72476685f2172811e1949a",
            "6b127f36c9ba4491b9c6ce4628db1203",
            "718ae5121c3145ef84dd65ef9de52f22",
            "0e6433b2a6ac481e8bbe6b9991fedf66",
            "2bd264cc7a9b4d64bff0e64e2f30ab4c",
            "1723fae7965a44e785b85e6acfb0c37a",
            "dfa82112c4bc4958af6a1eef639fa601",
            "925f8304ca7c4a9fba567127709092cd",
            "74e3b0fef8c64a69a96a8b7867bd3517",
            "9ad573ae5da9410889a6b508bb2c7bcb",
            "803660780b4d4442be39c5c1a1467c4e",
            "b5045f42568347da8abd055afa9e952b",
            "072006a243cd4500b08d006c2a1e0440",
            "c6fad50ab9e84172bc25b943a5de8af5",
            "7c38cdcd258446f8b1cb04491b0b08fb",
            "03b73371709d497a90812fbca4f45bf0",
            "275dad8539a74f44a2bab8f95d4acc28",
            "a84a59bd92624b7487d7fef08ac68bad",
            "2dbf34ac45f94427a1b42fe5d8d9f645",
            "7725e8fa190c499f8dfc79160f2e538b",
            "7f85b7374688471683153d4487d347a6",
            "2bb8ac106115426b9b665d36d19864dc",
            "6c8dc7ec9dbb4a76b4e7e0b2f765ab7d",
            "a0add36745e74051aade43f135c8add3",
            "87eac0d5018140a5874f9a3979ff5575",
            "56d1a9cc40b54375874fd12b8a4479ee",
            "8dfc8ac42a8e4008803efd964d790c87",
            "b69a5d547c40498b8135c06506371f50",
            "fd8dda0a68314a10b7d0c378c0f85729",
            "afe1e485316645eaade4270a82ae0652",
            "5e3e893f43694b9b8ddc7311a10495d2",
            "05032d45cfb04ac3b935c2e2f06c8635",
            "d78a9544c2c04761aa9099f67127524e",
            "e91488db730e409a89ef24d105dc393b",
            "f498cb89559a45cea2402519e33412bb",
            "17c7487259d64b909ed63de0c89cd028",
            "a940b3665e794c659cb27f3bb9ba6307",
            "8675a2bdd2f54d389940423b456f7a05",
            "1d945d74afe54bb2a8234005f986db56",
            "ab0bfae37a504bd19990c59265074b03",
            "e0a685077ee245cd93aee19fbf532e69",
            "9e5326f8b90c44e9a0567f6c5345178c",
            "8ee84adc218341fa9faa9d30f6ee1e8f",
            "7276c1ec9b4042e8b4aacfa0740a4e55",
            "1fda6e1d1e2b4274a3f6ea4ac0c9adff",
            "ea9f1039b5424a6c8f2cce083deacdb1",
            "23c37953173b495496570bc50bcad4c1",
            "43c2c27299ea452691a489621e6364e8",
            "6cfc0cd8ab6e4d78b59670ec992d91df",
            "0d50534ffd4f434fab4518afa71f29ac",
            "8bfa65d0d42c45d2a7dc7ef0d02b435b",
            "b5f4a8ebaeb24cd692836c3424b847c1",
            "86489acc67614c7f96b60704e5449111",
            "fe0bf293f73a4c6f812e0fe38d664694",
            "e6f36a908f104316b6b5167f8b67d210",
            "e46b8aedc5f948968182e35ccff0ed7b",
            "1822ece77de043d2a2e80a16167b193d",
            "4e3b3ef57fe94f57850dd785158ab30e",
            "27b74bda08d248b484b1f697e8a0f1bc",
            "bdbfc799b9264c6f9e2c8e14658fa0e7",
            "39e0f283de4b400083427f5b2416c870",
            "1293464f2fa043ef98a3dc2a56a90c61",
            "aa75d8220d9d40ffbce5d602b1b1995c",
            "95b55ad449bf45ccb133bd985b2ad4bd",
            "fc50ca0116064b25890ecbc116f415b3",
            "3f2d9e76a6f1473982d33c5e06838c98",
            "8495fc118a2f40a2a7a69bf75f29c680",
            "a5cf9c6bdfbd4dfb9abda1e6aef7293d",
            "68970030bd6e42babf9e1a9a59a90014",
            "cfa4b5b227cf422e866dd2581d42d1eb",
            "e303c19a5d6948489d56103eadb22fb9",
            "7f460522c530468b8986dfb67b2e99dd",
            "d5e69c6fa75647dbb03de98931de4b94",
            "f1d57958ca8f44e6996b2ea9fbb43953",
            "83fc0c9045184315aab0d5e5bde5edf5",
            "665f684c02344044b4a30df2f043a3af",
            "f1afcad847824e92b89a03b903acce12",
            "20d83c5b04f6490ea88226fe26ca93f3",
            "da470467fc134dfd9a312896d3b2b526",
            "40b10b43888c46b48603d9b14a754c8e",
            "217d2728570744daa0e135964f88f96b",
            "7624485778ab48d5b0014bdeda58d917",
            "3891c9f14cb1424290be82279d5e9b69",
            "8e386ed2c38f47a68481d31d655743fd",
            "e3158a5bf7284ff083c05f7ebfa6a09e",
            "789ba0c80f344f1687fff78f9d3232f9",
            "6293e3f5e0f746a68ae8b9a395af9ef8",
            "9b2a51acba7a4fbb9a1791550acb00d9",
            "69e2a9eef41a487baeb88df234625d98",
            "0a55039f56b143038b859224410b4bc9",
            "b50400d5e9834d9c9b6a62a6de923776",
            "13367915ca4b484a9c9422bd80f99779",
            "de8c7e35e72c431f9e33f2136970fdc7",
            "8ba6aa58ff5e4c5ea98dfaf801ea7d12",
            "5fa90bd804b4497e87352017f222dd76",
            "1ab6033212514ee683f67ebd8db900b2",
            "4455ec67d5544d4499ab909b74c3f8e1",
            "f81b6b5e4e0b4647963779661702adf0",
            "e9a6716aab0a4d19859d8ddcaebf6a09",
            "db3d76bb28c54d329287a35b5ca3f5c3",
            "ea98b6f1a1d8484682ea70b299d6c08d",
            "f5a1ab20630246c4bf9745f8bc241c3f",
            "7973125985564d6b88b02f9abd7d4e75",
            "8ea419d5a0244cea9f94a8ad03d3bbec",
            "10f2796495d74f3cb0f7f83cd08ee2cf",
            "88c2e0c3ddb84d488399da3e273e1e21",
            "3561eb74bf2f4928bbfd6cace0bcf25b",
            "5c4f03e54379481ea658da201e9aee83",
            "933093333f634ae69ecf6c7c8f8912e9",
            "cb240aa780f544cabfe9056063a5d8d0",
            "172a6415045444768705932f8fca4c58",
            "41a8dcd4fb384a7e9626cf1ef7c4e02e",
            "5272932eee68476f80b312d40e714cb1",
            "678cc67a0f3945d18c933f9e98937233",
            "64076c31d17f4e10911b289810bdce60",
            "6785c394240b4cd88f19cb9ffa121257",
            "72105d695bb04f19ad8fe1f57ec14756",
            "fdc8bb9076d44191be02148c97375033",
            "3193795ffa6c4f9bb906532f0ca7ec5b",
            "57a1f8500bae4eb88b45382eae1e17d0",
            "ef17a96570d245b2b9a3b624e66d2ec5",
            "19f406654772441b9c59ca914feb3332",
            "761bf27a1b054988a90c1e374aecad48",
            "9c86657d802748239c4aad0d4d50227f",
            "cf63471fbc014a2bae7c8c553c49ba13",
            "d5d01e9dec3c47cea94d3f2967b05020",
            "37d773d1314e4a7bb6f47f3e796e1d69",
            "b1e5bdb072f148708e98f4de9aea1cdb",
            "010e866e87dd494bb2f9acc6bc938784",
            "940c5359935d43ffb077de37ffee87e3",
            "b424b0f559594f94907f6ea06a788830"
          ]
        },
        "id": "JkNdEYz-2WtO",
        "outputId": "4768a3c2-c75b-4f27-c15e-4ea4fcc61b28"
      },
      "execution_count": null,
      "outputs": [
        {
          "output_type": "stream",
          "name": "stderr",
          "text": [
            "\u001b[34m\u001b[1mwandb\u001b[0m: Agent Starting Run: zp2bq4jl with config:\n",
            "\u001b[34m\u001b[1mwandb\u001b[0m: \tbatch_size: 32\n",
            "\u001b[34m\u001b[1mwandb\u001b[0m: \tcell_type: RNN\n",
            "\u001b[34m\u001b[1mwandb\u001b[0m: \tdropout: 0.2\n",
            "\u001b[34m\u001b[1mwandb\u001b[0m: \tepochs: 5\n",
            "\u001b[34m\u001b[1mwandb\u001b[0m: \thidden: 64\n",
            "\u001b[34m\u001b[1mwandb\u001b[0m: \tlatentDim: 256\n",
            "\u001b[34m\u001b[1mwandb\u001b[0m: \tnumDecoders: 3\n",
            "\u001b[34m\u001b[1mwandb\u001b[0m: \tnumEncoders: 2\n",
            "\u001b[34m\u001b[1mwandb\u001b[0m: \toptimiser: adam\n",
            "\u001b[34m\u001b[1mwandb\u001b[0m: Currently logged in as: \u001b[33mmuk465\u001b[0m. Use \u001b[1m`wandb login --relogin`\u001b[0m to force relogin\n",
            "\u001b[34m\u001b[1mwandb\u001b[0m: \u001b[33mWARNING\u001b[0m Ignored wandb.init() arg project when running a sweep.\n"
          ]
        },
        {
          "output_type": "display_data",
          "data": {
            "text/plain": [
              "<IPython.core.display.HTML object>"
            ],
            "text/html": [
              "Tracking run with wandb version 0.12.16"
            ]
          },
          "metadata": {}
        },
        {
          "output_type": "display_data",
          "data": {
            "text/plain": [
              "<IPython.core.display.HTML object>"
            ],
            "text/html": [
              "Run data is saved locally in <code>/content/wandb/run-20220513_114520-zp2bq4jl</code>"
            ]
          },
          "metadata": {}
        },
        {
          "output_type": "display_data",
          "data": {
            "text/plain": [
              "<IPython.core.display.HTML object>"
            ],
            "text/html": [
              "Syncing run <strong><a href=\"https://wandb.ai/muk465/CS6910-Assignment-3_attn/runs/zp2bq4jl\" target=\"_blank\">eternal-sweep-1</a></strong> to <a href=\"https://wandb.ai/muk465/CS6910-Assignment-3_attn\" target=\"_blank\">Weights & Biases</a> (<a href=\"https://wandb.me/run\" target=\"_blank\">docs</a>)<br/>Sweep page:  <a href=\"https://wandb.ai/muk465/CS6910-Assignment-3_attn/sweeps/wo9l1m7l\" target=\"_blank\">https://wandb.ai/muk465/CS6910-Assignment-3_attn/sweeps/wo9l1m7l</a>"
            ]
          },
          "metadata": {}
        },
        {
          "output_type": "stream",
          "name": "stderr",
          "text": [
            "\u001b[34m\u001b[1mwandb\u001b[0m: \u001b[33mWARNING\u001b[0m Calling wandb.run.save without any arguments is deprecated.Changes to attributes are automatically persisted.\n"
          ]
        },
        {
          "output_type": "stream",
          "name": "stdout",
          "text": [
            "Model: \"model\"\n",
            "__________________________________________________________________________________________________\n",
            " Layer (type)                   Output Shape         Param #     Connected to                     \n",
            "==================================================================================================\n",
            " input_1 (InputLayer)           [(None, None, 27)]   0           []                               \n",
            "                                                                                                  \n",
            " input_2 (InputLayer)           [(None, None, 66)]   0           []                               \n",
            "                                                                                                  \n",
            " simple_rnn_1 (SimpleRNN)       [(None, None, 256),  72704       ['input_1[0][0]']                \n",
            "                                 (None, 256)]                                                     \n",
            "                                                                                                  \n",
            " simple_rnn_4 (SimpleRNN)       [(None, None, 256),  82688       ['input_2[0][0]',                \n",
            "                                 (None, 256)]                     'simple_rnn_1[0][1]']           \n",
            "                                                                                                  \n",
            " simple_rnn (SimpleRNN)         [(None, None, 256),  72704       ['input_1[0][0]']                \n",
            "                                 (None, 256)]                                                     \n",
            "                                                                                                  \n",
            " additive_attention (AdditiveAt  (None, None, 256)   256         ['simple_rnn_4[0][0]',           \n",
            " tention)                                                         'simple_rnn[0][0]']             \n",
            "                                                                                                  \n",
            " concat_layer (Concatenate)     (None, None, 512)    0           ['simple_rnn_4[0][0]',           \n",
            "                                                                  'additive_attention[0][0]']     \n",
            "                                                                                                  \n",
            " dense (Dense)                  (None, None, 64)     32832       ['concat_layer[0][0]']           \n",
            "                                                                                                  \n",
            " dense_1 (Dense)                (None, None, 66)     4290        ['dense[0][0]']                  \n",
            "                                                                                                  \n",
            "==================================================================================================\n",
            "Total params: 265,474\n",
            "Trainable params: 265,474\n",
            "Non-trainable params: 0\n",
            "__________________________________________________________________________________________________\n"
          ]
        },
        {
          "output_type": "stream",
          "name": "stderr",
          "text": [
            "\u001b[34m\u001b[1mwandb\u001b[0m: \u001b[33mWARNING\u001b[0m The save_model argument by default saves the model in the HDF5 format that cannot save custom objects like subclassed models and custom layers. This behavior will be deprecated in a future release in favor of the SavedModel format. Meanwhile, the HDF5 model is saved as W&B files and the SavedModel as W&B Artifacts.\n"
          ]
        },
        {
          "output_type": "stream",
          "name": "stdout",
          "text": [
            "Epoch 1/5\n",
            "1382/1382 [==============================] - 77s 52ms/step - loss: 0.8937 - accuracy: 0.7636 - val_loss: 1.5133 - val_accuracy: 0.6956 - _timestamp: 1652442406.0000 - _runtime: 86.0000\n",
            "Epoch 2/5\n",
            "1382/1382 [==============================] - 71s 51ms/step - loss: 0.5312 - accuracy: 0.8474 - val_loss: 1.6630 - val_accuracy: 0.7157 - _timestamp: 1652442477.0000 - _runtime: 157.0000\n",
            "Epoch 3/5\n",
            "1382/1382 [==============================] - 70s 51ms/step - loss: 0.4605 - accuracy: 0.8662 - val_loss: 1.7480 - val_accuracy: 0.7181 - _timestamp: 1652442547.0000 - _runtime: 227.0000\n",
            "Epoch 4/5\n",
            "1382/1382 [==============================] - 70s 51ms/step - loss: 0.4265 - accuracy: 0.8744 - val_loss: 1.7350 - val_accuracy: 0.7253 - _timestamp: 1652442617.0000 - _runtime: 297.0000\n",
            "Epoch 5/5\n",
            "1382/1382 [==============================] - 71s 51ms/step - loss: 0.4072 - accuracy: 0.8799 - val_loss: 1.2553 - val_accuracy: 0.7360 - _timestamp: 1652442688.0000 - _runtime: 368.0000\n",
            "INFO:tensorflow:Assets written to: ./TrainedModels/RNNeng2_hi_3_adam_5_0.2_32_256/assets\n"
          ]
        },
        {
          "output_type": "display_data",
          "data": {
            "text/plain": [
              "<IPython.core.display.HTML object>"
            ],
            "text/html": [
              "Waiting for W&B process to finish... <strong style=\"color:green\">(success).</strong>"
            ]
          },
          "metadata": {}
        },
        {
          "output_type": "display_data",
          "data": {
            "text/plain": [
              "VBox(children=(Label(value='3.108 MB of 3.108 MB uploaded (0.000 MB deduped)\\r'), FloatProgress(value=1.0, max…"
            ],
            "application/vnd.jupyter.widget-view+json": {
              "version_major": 2,
              "version_minor": 0,
              "model_id": "788c33e24fee4c9dae029c5019e63283"
            }
          },
          "metadata": {}
        },
        {
          "output_type": "display_data",
          "data": {
            "text/plain": [
              "<IPython.core.display.HTML object>"
            ],
            "text/html": [
              "<style>\n",
              "    table.wandb td:nth-child(1) { padding: 0 10px; text-align: left ; width: auto;} td:nth-child(2) {text-align: left ; width: 100%}\n",
              "    .wandb-row { display: flex; flex-direction: row; flex-wrap: wrap; justify-content: flex-start; width: 100% }\n",
              "    .wandb-col { display: flex; flex-direction: column; flex-basis: 100%; flex: 1; padding: 10px; }\n",
              "    </style>\n",
              "<div class=\"wandb-row\"><div class=\"wandb-col\"><h3>Run history:</h3><br/><table class=\"wandb\"><tr><td>accuracy</td><td>▁▆▇██</td></tr><tr><td>epoch</td><td>▁▃▅▆█</td></tr><tr><td>loss</td><td>█▃▂▁▁</td></tr><tr><td>val_accuracy</td><td>▁▄▅▆█</td></tr><tr><td>val_loss</td><td>▅▇██▁</td></tr></table><br/></div><div class=\"wandb-col\"><h3>Run summary:</h3><br/><table class=\"wandb\"><tr><td>accuracy</td><td>0.87985</td></tr><tr><td>best_epoch</td><td>4</td></tr><tr><td>best_val_loss</td><td>1.25525</td></tr><tr><td>epoch</td><td>4</td></tr><tr><td>loss</td><td>0.40715</td></tr><tr><td>val_accuracy</td><td>0.73595</td></tr><tr><td>val_loss</td><td>1.25525</td></tr></table><br/></div></div>"
            ]
          },
          "metadata": {}
        },
        {
          "output_type": "display_data",
          "data": {
            "text/plain": [
              "<IPython.core.display.HTML object>"
            ],
            "text/html": [
              "Synced <strong style=\"color:#cdcd00\">eternal-sweep-1</strong>: <a href=\"https://wandb.ai/muk465/CS6910-Assignment-3_attn/runs/zp2bq4jl\" target=\"_blank\">https://wandb.ai/muk465/CS6910-Assignment-3_attn/runs/zp2bq4jl</a><br/>Synced 5 W&B file(s), 1 media file(s), 0 artifact file(s) and 1 other file(s)"
            ]
          },
          "metadata": {}
        },
        {
          "output_type": "display_data",
          "data": {
            "text/plain": [
              "<IPython.core.display.HTML object>"
            ],
            "text/html": [
              "Find logs at: <code>./wandb/run-20220513_114520-zp2bq4jl/logs</code>"
            ]
          },
          "metadata": {}
        },
        {
          "output_type": "stream",
          "name": "stderr",
          "text": [
            "\u001b[34m\u001b[1mwandb\u001b[0m: Sweep Agent: Waiting for job.\n",
            "\u001b[34m\u001b[1mwandb\u001b[0m: Job received.\n",
            "\u001b[34m\u001b[1mwandb\u001b[0m: Agent Starting Run: dnhmyo5t with config:\n",
            "\u001b[34m\u001b[1mwandb\u001b[0m: \tbatch_size: 32\n",
            "\u001b[34m\u001b[1mwandb\u001b[0m: \tcell_type: GRU\n",
            "\u001b[34m\u001b[1mwandb\u001b[0m: \tdropout: 0.3\n",
            "\u001b[34m\u001b[1mwandb\u001b[0m: \tepochs: 20\n",
            "\u001b[34m\u001b[1mwandb\u001b[0m: \thidden: 128\n",
            "\u001b[34m\u001b[1mwandb\u001b[0m: \tlatentDim: 256\n",
            "\u001b[34m\u001b[1mwandb\u001b[0m: \tnumDecoders: 3\n",
            "\u001b[34m\u001b[1mwandb\u001b[0m: \tnumEncoders: 1\n",
            "\u001b[34m\u001b[1mwandb\u001b[0m: \toptimiser: adam\n",
            "\u001b[34m\u001b[1mwandb\u001b[0m: \u001b[33mWARNING\u001b[0m Ignored wandb.init() arg project when running a sweep.\n"
          ]
        },
        {
          "output_type": "display_data",
          "data": {
            "text/plain": [
              "<IPython.core.display.HTML object>"
            ],
            "text/html": [
              "Tracking run with wandb version 0.12.16"
            ]
          },
          "metadata": {}
        },
        {
          "output_type": "display_data",
          "data": {
            "text/plain": [
              "<IPython.core.display.HTML object>"
            ],
            "text/html": [
              "Run data is saved locally in <code>/content/wandb/run-20220513_115215-dnhmyo5t</code>"
            ]
          },
          "metadata": {}
        },
        {
          "output_type": "display_data",
          "data": {
            "text/plain": [
              "<IPython.core.display.HTML object>"
            ],
            "text/html": [
              "Syncing run <strong><a href=\"https://wandb.ai/muk465/CS6910-Assignment-3_attn/runs/dnhmyo5t\" target=\"_blank\">fluent-sweep-2</a></strong> to <a href=\"https://wandb.ai/muk465/CS6910-Assignment-3_attn\" target=\"_blank\">Weights & Biases</a> (<a href=\"https://wandb.me/run\" target=\"_blank\">docs</a>)<br/>Sweep page:  <a href=\"https://wandb.ai/muk465/CS6910-Assignment-3_attn/sweeps/wo9l1m7l\" target=\"_blank\">https://wandb.ai/muk465/CS6910-Assignment-3_attn/sweeps/wo9l1m7l</a>"
            ]
          },
          "metadata": {}
        },
        {
          "output_type": "stream",
          "name": "stdout",
          "text": [
            "Model: \"model\"\n",
            "__________________________________________________________________________________________________\n",
            " Layer (type)                   Output Shape         Param #     Connected to                     \n",
            "==================================================================================================\n",
            " input_1 (InputLayer)           [(None, None, 27)]   0           []                               \n",
            "                                                                                                  \n",
            " input_2 (InputLayer)           [(None, None, 66)]   0           []                               \n",
            "                                                                                                  \n",
            " gru (GRU)                      [(None, None, 256),  218880      ['input_1[0][0]']                \n",
            "                                 (None, 256)]                                                     \n",
            "                                                                                                  \n",
            " gru_3 (GRU)                    [(None, None, 256),  248832      ['input_2[0][0]',                \n",
            "                                 (None, 256)]                     'gru[0][1]']                    \n",
            "                                                                                                  \n",
            " additive_attention (AdditiveAt  (None, None, 256)   256         ['gru_3[0][0]',                  \n",
            " tention)                                                         'gru[0][0]']                    \n",
            "                                                                                                  \n",
            " concat_layer (Concatenate)     (None, None, 512)    0           ['gru_3[0][0]',                  \n",
            "                                                                  'additive_attention[0][0]']     \n",
            "                                                                                                  \n",
            " dense (Dense)                  (None, None, 128)    65664       ['concat_layer[0][0]']           \n",
            "                                                                                                  \n",
            " dense_1 (Dense)                (None, None, 66)     8514        ['dense[0][0]']                  \n",
            "                                                                                                  \n",
            "==================================================================================================\n",
            "Total params: 542,146\n",
            "Trainable params: 542,146\n",
            "Non-trainable params: 0\n",
            "__________________________________________________________________________________________________\n",
            "Epoch 1/20\n",
            "1382/1382 [==============================] - 19s 10ms/step - loss: 0.8843 - accuracy: 0.7626 - val_loss: 1.6080 - val_accuracy: 0.7126 - _timestamp: 1652442761.0000 - _runtime: 26.0000\n",
            "Epoch 2/20\n",
            "1382/1382 [==============================] - 13s 9ms/step - loss: 0.5780 - accuracy: 0.8330 - val_loss: 1.5301 - val_accuracy: 0.7227 - _timestamp: 1652442774.0000 - _runtime: 39.0000\n",
            "Epoch 3/20\n",
            "1382/1382 [==============================] - 13s 9ms/step - loss: 0.5032 - accuracy: 0.8517 - val_loss: 1.6266 - val_accuracy: 0.7221 - _timestamp: 1652442787.0000 - _runtime: 52.0000\n",
            "Epoch 4/20\n",
            "1382/1382 [==============================] - 13s 10ms/step - loss: 0.4681 - accuracy: 0.8610 - val_loss: 1.6261 - val_accuracy: 0.7248 - _timestamp: 1652442800.0000 - _runtime: 65.0000\n",
            "Epoch 5/20\n",
            "1382/1382 [==============================] - 14s 10ms/step - loss: 0.4444 - accuracy: 0.8670 - val_loss: 1.6841 - val_accuracy: 0.7292 - _timestamp: 1652442813.0000 - _runtime: 78.0000\n",
            "Epoch 6/20\n",
            "1382/1382 [==============================] - 13s 9ms/step - loss: 0.4267 - accuracy: 0.8717 - val_loss: 1.6335 - val_accuracy: 0.7366 - _timestamp: 1652442826.0000 - _runtime: 91.0000\n",
            "Epoch 7/20\n",
            "1382/1382 [==============================] - 13s 9ms/step - loss: 0.4145 - accuracy: 0.8746 - val_loss: 1.6422 - val_accuracy: 0.7382 - _timestamp: 1652442839.0000 - _runtime: 104.0000\n",
            "Epoch 8/20\n",
            "1382/1382 [==============================] - 13s 9ms/step - loss: 0.4066 - accuracy: 0.8770 - val_loss: 1.6548 - val_accuracy: 0.7379 - _timestamp: 1652442852.0000 - _runtime: 117.0000\n",
            "Epoch 9/20\n",
            "1382/1382 [==============================] - 13s 9ms/step - loss: 0.3962 - accuracy: 0.8796 - val_loss: 1.6199 - val_accuracy: 0.7466 - _timestamp: 1652442865.0000 - _runtime: 130.0000\n",
            "Epoch 10/20\n",
            "1382/1382 [==============================] - 13s 9ms/step - loss: 0.3893 - accuracy: 0.8816 - val_loss: 1.6109 - val_accuracy: 0.7418 - _timestamp: 1652442878.0000 - _runtime: 143.0000\n",
            "Epoch 11/20\n",
            "1382/1382 [==============================] - 13s 9ms/step - loss: 0.3848 - accuracy: 0.8829 - val_loss: 1.6751 - val_accuracy: 0.7433 - _timestamp: 1652442891.0000 - _runtime: 156.0000\n",
            "Epoch 11: early stopping\n"
          ]
        },
        {
          "output_type": "stream",
          "name": "stderr",
          "text": [
            "WARNING:absl:Found untraced functions such as gru_cell_layer_call_fn, gru_cell_layer_call_and_return_conditional_losses, gru_cell_3_layer_call_fn, gru_cell_3_layer_call_and_return_conditional_losses while saving (showing 4 of 4). These functions will not be directly callable after loading.\n"
          ]
        },
        {
          "output_type": "stream",
          "name": "stdout",
          "text": [
            "INFO:tensorflow:Assets written to: ./TrainedModels/GRUeng1_hi_3_adam_20_0.3_32_256/assets\n"
          ]
        },
        {
          "output_type": "stream",
          "name": "stderr",
          "text": [
            "INFO:tensorflow:Assets written to: ./TrainedModels/GRUeng1_hi_3_adam_20_0.3_32_256/assets\n",
            "WARNING:absl:<keras.layers.recurrent.GRUCell object at 0x7fe610a10c90> has the same name 'GRUCell' as a built-in Keras object. Consider renaming <class 'keras.layers.recurrent.GRUCell'> to avoid naming conflicts when loading with `tf.keras.models.load_model`. If renaming is not possible, pass the object in the `custom_objects` parameter of the load function.\n",
            "WARNING:absl:<keras.layers.recurrent.GRUCell object at 0x7fe5e4fbab90> has the same name 'GRUCell' as a built-in Keras object. Consider renaming <class 'keras.layers.recurrent.GRUCell'> to avoid naming conflicts when loading with `tf.keras.models.load_model`. If renaming is not possible, pass the object in the `custom_objects` parameter of the load function.\n"
          ]
        },
        {
          "output_type": "display_data",
          "data": {
            "text/plain": [
              "<IPython.core.display.HTML object>"
            ],
            "text/html": [
              "Waiting for W&B process to finish... <strong style=\"color:green\">(success).</strong>"
            ]
          },
          "metadata": {}
        },
        {
          "output_type": "display_data",
          "data": {
            "text/plain": [
              "VBox(children=(Label(value='6.264 MB of 6.264 MB uploaded (0.000 MB deduped)\\r'), FloatProgress(value=1.0, max…"
            ],
            "application/vnd.jupyter.widget-view+json": {
              "version_major": 2,
              "version_minor": 0,
              "model_id": "462b2b0eb1434d1d9b508a4a7154c6b0"
            }
          },
          "metadata": {}
        },
        {
          "output_type": "display_data",
          "data": {
            "text/plain": [
              "<IPython.core.display.HTML object>"
            ],
            "text/html": [
              "<style>\n",
              "    table.wandb td:nth-child(1) { padding: 0 10px; text-align: left ; width: auto;} td:nth-child(2) {text-align: left ; width: 100%}\n",
              "    .wandb-row { display: flex; flex-direction: row; flex-wrap: wrap; justify-content: flex-start; width: 100% }\n",
              "    .wandb-col { display: flex; flex-direction: column; flex-basis: 100%; flex: 1; padding: 10px; }\n",
              "    </style>\n",
              "<div class=\"wandb-row\"><div class=\"wandb-col\"><h3>Run history:</h3><br/><table class=\"wandb\"><tr><td>accuracy</td><td>▁▅▆▇▇▇█████</td></tr><tr><td>epoch</td><td>▁▂▂▃▄▅▅▆▇▇█</td></tr><tr><td>loss</td><td>█▄▃▂▂▂▁▁▁▁▁</td></tr><tr><td>val_accuracy</td><td>▁▃▃▄▄▆▆▆█▇▇</td></tr><tr><td>val_loss</td><td>▅▁▅▅█▆▆▇▅▅█</td></tr></table><br/></div><div class=\"wandb-col\"><h3>Run summary:</h3><br/><table class=\"wandb\"><tr><td>accuracy</td><td>0.8829</td></tr><tr><td>best_epoch</td><td>1</td></tr><tr><td>best_val_loss</td><td>1.53008</td></tr><tr><td>epoch</td><td>10</td></tr><tr><td>loss</td><td>0.38475</td></tr><tr><td>val_accuracy</td><td>0.7433</td></tr><tr><td>val_loss</td><td>1.67509</td></tr></table><br/></div></div>"
            ]
          },
          "metadata": {}
        },
        {
          "output_type": "display_data",
          "data": {
            "text/plain": [
              "<IPython.core.display.HTML object>"
            ],
            "text/html": [
              "Synced <strong style=\"color:#cdcd00\">fluent-sweep-2</strong>: <a href=\"https://wandb.ai/muk465/CS6910-Assignment-3_attn/runs/dnhmyo5t\" target=\"_blank\">https://wandb.ai/muk465/CS6910-Assignment-3_attn/runs/dnhmyo5t</a><br/>Synced 5 W&B file(s), 1 media file(s), 0 artifact file(s) and 1 other file(s)"
            ]
          },
          "metadata": {}
        },
        {
          "output_type": "display_data",
          "data": {
            "text/plain": [
              "<IPython.core.display.HTML object>"
            ],
            "text/html": [
              "Find logs at: <code>./wandb/run-20220513_115215-dnhmyo5t/logs</code>"
            ]
          },
          "metadata": {}
        },
        {
          "output_type": "stream",
          "name": "stderr",
          "text": [
            "\u001b[34m\u001b[1mwandb\u001b[0m: Agent Starting Run: nd4lnhu5 with config:\n",
            "\u001b[34m\u001b[1mwandb\u001b[0m: \tbatch_size: 32\n",
            "\u001b[34m\u001b[1mwandb\u001b[0m: \tcell_type: GRU\n",
            "\u001b[34m\u001b[1mwandb\u001b[0m: \tdropout: 0.3\n",
            "\u001b[34m\u001b[1mwandb\u001b[0m: \tepochs: 15\n",
            "\u001b[34m\u001b[1mwandb\u001b[0m: \thidden: 64\n",
            "\u001b[34m\u001b[1mwandb\u001b[0m: \tlatentDim: 256\n",
            "\u001b[34m\u001b[1mwandb\u001b[0m: \tnumDecoders: 1\n",
            "\u001b[34m\u001b[1mwandb\u001b[0m: \tnumEncoders: 3\n",
            "\u001b[34m\u001b[1mwandb\u001b[0m: \toptimiser: adam\n",
            "\u001b[34m\u001b[1mwandb\u001b[0m: \u001b[33mWARNING\u001b[0m Ignored wandb.init() arg project when running a sweep.\n"
          ]
        },
        {
          "output_type": "display_data",
          "data": {
            "text/plain": [
              "<IPython.core.display.HTML object>"
            ],
            "text/html": [
              "Tracking run with wandb version 0.12.16"
            ]
          },
          "metadata": {}
        },
        {
          "output_type": "display_data",
          "data": {
            "text/plain": [
              "<IPython.core.display.HTML object>"
            ],
            "text/html": [
              "Run data is saved locally in <code>/content/wandb/run-20220513_115608-nd4lnhu5</code>"
            ]
          },
          "metadata": {}
        },
        {
          "output_type": "display_data",
          "data": {
            "text/plain": [
              "<IPython.core.display.HTML object>"
            ],
            "text/html": [
              "Syncing run <strong><a href=\"https://wandb.ai/muk465/CS6910-Assignment-3_attn/runs/nd4lnhu5\" target=\"_blank\">warm-sweep-3</a></strong> to <a href=\"https://wandb.ai/muk465/CS6910-Assignment-3_attn\" target=\"_blank\">Weights & Biases</a> (<a href=\"https://wandb.me/run\" target=\"_blank\">docs</a>)<br/>Sweep page:  <a href=\"https://wandb.ai/muk465/CS6910-Assignment-3_attn/sweeps/wo9l1m7l\" target=\"_blank\">https://wandb.ai/muk465/CS6910-Assignment-3_attn/sweeps/wo9l1m7l</a>"
            ]
          },
          "metadata": {}
        },
        {
          "output_type": "stream",
          "name": "stdout",
          "text": [
            "Model: \"model\"\n",
            "__________________________________________________________________________________________________\n",
            " Layer (type)                   Output Shape         Param #     Connected to                     \n",
            "==================================================================================================\n",
            " input_1 (InputLayer)           [(None, None, 27)]   0           []                               \n",
            "                                                                                                  \n",
            " input_2 (InputLayer)           [(None, None, 66)]   0           []                               \n",
            "                                                                                                  \n",
            " gru_2 (GRU)                    [(None, None, 256),  218880      ['input_1[0][0]']                \n",
            "                                 (None, 256)]                                                     \n",
            "                                                                                                  \n",
            " gru_3 (GRU)                    [(None, None, 256),  248832      ['input_2[0][0]',                \n",
            "                                 (None, 256)]                     'gru_2[0][1]']                  \n",
            "                                                                                                  \n",
            " gru (GRU)                      [(None, None, 256),  218880      ['input_1[0][0]']                \n",
            "                                 (None, 256)]                                                     \n",
            "                                                                                                  \n",
            " additive_attention (AdditiveAt  (None, None, 256)   256         ['gru_3[0][0]',                  \n",
            " tention)                                                         'gru[0][0]']                    \n",
            "                                                                                                  \n",
            " concat_layer (Concatenate)     (None, None, 512)    0           ['gru_3[0][0]',                  \n",
            "                                                                  'additive_attention[0][0]']     \n",
            "                                                                                                  \n",
            " dense (Dense)                  (None, None, 64)     32832       ['concat_layer[0][0]']           \n",
            "                                                                                                  \n",
            " dense_1 (Dense)                (None, None, 66)     4290        ['dense[0][0]']                  \n",
            "                                                                                                  \n",
            "==================================================================================================\n",
            "Total params: 723,970\n",
            "Trainable params: 723,970\n",
            "Non-trainable params: 0\n",
            "__________________________________________________________________________________________________\n",
            "Epoch 1/15\n",
            "1382/1382 [==============================] - 21s 13ms/step - loss: 0.9329 - accuracy: 0.7532 - val_loss: 1.7969 - val_accuracy: 0.6652 - _timestamp: 1652442996.0000 - _runtime: 28.0000\n",
            "Epoch 2/15\n",
            "1382/1382 [==============================] - 16s 12ms/step - loss: 0.5750 - accuracy: 0.8334 - val_loss: 1.6473 - val_accuracy: 0.7164 - _timestamp: 1652443012.0000 - _runtime: 44.0000\n",
            "Epoch 3/15\n",
            "1382/1382 [==============================] - 16s 12ms/step - loss: 0.4919 - accuracy: 0.8542 - val_loss: 1.8194 - val_accuracy: 0.7170 - _timestamp: 1652443029.0000 - _runtime: 61.0000\n",
            "Epoch 4/15\n",
            "1382/1382 [==============================] - 16s 12ms/step - loss: 0.4347 - accuracy: 0.8701 - val_loss: 1.8983 - val_accuracy: 0.7274 - _timestamp: 1652443045.0000 - _runtime: 77.0000\n",
            "Epoch 5/15\n",
            "1382/1382 [==============================] - 16s 12ms/step - loss: 0.3955 - accuracy: 0.8807 - val_loss: 1.9990 - val_accuracy: 0.7161 - _timestamp: 1652443061.0000 - _runtime: 93.0000\n",
            "Epoch 6/15\n",
            "1382/1382 [==============================] - 16s 12ms/step - loss: 0.3663 - accuracy: 0.8881 - val_loss: 1.9872 - val_accuracy: 0.7249 - _timestamp: 1652443077.0000 - _runtime: 109.0000\n",
            "Epoch 7/15\n",
            "1382/1382 [==============================] - 16s 12ms/step - loss: 0.3461 - accuracy: 0.8944 - val_loss: 2.0576 - val_accuracy: 0.7207 - _timestamp: 1652443093.0000 - _runtime: 125.0000\n",
            "Epoch 8/15\n",
            "1382/1382 [==============================] - 16s 12ms/step - loss: 0.3311 - accuracy: 0.8985 - val_loss: 1.9657 - val_accuracy: 0.7326 - _timestamp: 1652443110.0000 - _runtime: 142.0000\n",
            "Epoch 9/15\n",
            "1382/1382 [==============================] - 16s 12ms/step - loss: 0.3170 - accuracy: 0.9021 - val_loss: 1.9731 - val_accuracy: 0.7296 - _timestamp: 1652443126.0000 - _runtime: 158.0000\n",
            "Epoch 9: early stopping\n"
          ]
        },
        {
          "output_type": "stream",
          "name": "stderr",
          "text": [
            "WARNING:absl:Found untraced functions such as gru_cell_2_layer_call_fn, gru_cell_2_layer_call_and_return_conditional_losses, gru_cell_3_layer_call_fn, gru_cell_3_layer_call_and_return_conditional_losses, gru_cell_layer_call_fn while saving (showing 5 of 6). These functions will not be directly callable after loading.\n"
          ]
        },
        {
          "output_type": "stream",
          "name": "stdout",
          "text": [
            "INFO:tensorflow:Assets written to: ./TrainedModels/GRUeng3_hi_1_adam_15_0.3_32_256/assets\n"
          ]
        },
        {
          "output_type": "stream",
          "name": "stderr",
          "text": [
            "INFO:tensorflow:Assets written to: ./TrainedModels/GRUeng3_hi_1_adam_15_0.3_32_256/assets\n",
            "WARNING:absl:<keras.layers.recurrent.GRUCell object at 0x7fe61f5f1750> has the same name 'GRUCell' as a built-in Keras object. Consider renaming <class 'keras.layers.recurrent.GRUCell'> to avoid naming conflicts when loading with `tf.keras.models.load_model`. If renaming is not possible, pass the object in the `custom_objects` parameter of the load function.\n",
            "WARNING:absl:<keras.layers.recurrent.GRUCell object at 0x7fe621f5c390> has the same name 'GRUCell' as a built-in Keras object. Consider renaming <class 'keras.layers.recurrent.GRUCell'> to avoid naming conflicts when loading with `tf.keras.models.load_model`. If renaming is not possible, pass the object in the `custom_objects` parameter of the load function.\n",
            "WARNING:absl:<keras.layers.recurrent.GRUCell object at 0x7fe61005d210> has the same name 'GRUCell' as a built-in Keras object. Consider renaming <class 'keras.layers.recurrent.GRUCell'> to avoid naming conflicts when loading with `tf.keras.models.load_model`. If renaming is not possible, pass the object in the `custom_objects` parameter of the load function.\n"
          ]
        },
        {
          "output_type": "display_data",
          "data": {
            "text/plain": [
              "<IPython.core.display.HTML object>"
            ],
            "text/html": [
              "Waiting for W&B process to finish... <strong style=\"color:green\">(success).</strong>"
            ]
          },
          "metadata": {}
        },
        {
          "output_type": "display_data",
          "data": {
            "text/plain": [
              "VBox(children=(Label(value='8.339 MB of 8.339 MB uploaded (0.000 MB deduped)\\r'), FloatProgress(value=1.0, max…"
            ],
            "application/vnd.jupyter.widget-view+json": {
              "version_major": 2,
              "version_minor": 0,
              "model_id": "876612ff93e94d6bbda50bdea48797bf"
            }
          },
          "metadata": {}
        },
        {
          "output_type": "display_data",
          "data": {
            "text/plain": [
              "<IPython.core.display.HTML object>"
            ],
            "text/html": [
              "<style>\n",
              "    table.wandb td:nth-child(1) { padding: 0 10px; text-align: left ; width: auto;} td:nth-child(2) {text-align: left ; width: 100%}\n",
              "    .wandb-row { display: flex; flex-direction: row; flex-wrap: wrap; justify-content: flex-start; width: 100% }\n",
              "    .wandb-col { display: flex; flex-direction: column; flex-basis: 100%; flex: 1; padding: 10px; }\n",
              "    </style>\n",
              "<div class=\"wandb-row\"><div class=\"wandb-col\"><h3>Run history:</h3><br/><table class=\"wandb\"><tr><td>accuracy</td><td>▁▅▆▆▇▇███</td></tr><tr><td>epoch</td><td>▁▂▃▄▅▅▆▇█</td></tr><tr><td>loss</td><td>█▄▃▂▂▂▁▁▁</td></tr><tr><td>val_accuracy</td><td>▁▆▆▇▆▇▇██</td></tr><tr><td>val_loss</td><td>▄▁▄▅▇▇█▆▇</td></tr></table><br/></div><div class=\"wandb-col\"><h3>Run summary:</h3><br/><table class=\"wandb\"><tr><td>accuracy</td><td>0.90213</td></tr><tr><td>best_epoch</td><td>1</td></tr><tr><td>best_val_loss</td><td>1.64728</td></tr><tr><td>epoch</td><td>8</td></tr><tr><td>loss</td><td>0.31704</td></tr><tr><td>val_accuracy</td><td>0.72961</td></tr><tr><td>val_loss</td><td>1.97312</td></tr></table><br/></div></div>"
            ]
          },
          "metadata": {}
        },
        {
          "output_type": "display_data",
          "data": {
            "text/plain": [
              "<IPython.core.display.HTML object>"
            ],
            "text/html": [
              "Synced <strong style=\"color:#cdcd00\">warm-sweep-3</strong>: <a href=\"https://wandb.ai/muk465/CS6910-Assignment-3_attn/runs/nd4lnhu5\" target=\"_blank\">https://wandb.ai/muk465/CS6910-Assignment-3_attn/runs/nd4lnhu5</a><br/>Synced 5 W&B file(s), 1 media file(s), 0 artifact file(s) and 1 other file(s)"
            ]
          },
          "metadata": {}
        },
        {
          "output_type": "display_data",
          "data": {
            "text/plain": [
              "<IPython.core.display.HTML object>"
            ],
            "text/html": [
              "Find logs at: <code>./wandb/run-20220513_115608-nd4lnhu5/logs</code>"
            ]
          },
          "metadata": {}
        },
        {
          "output_type": "stream",
          "name": "stderr",
          "text": [
            "\u001b[34m\u001b[1mwandb\u001b[0m: Agent Starting Run: wz8s971t with config:\n",
            "\u001b[34m\u001b[1mwandb\u001b[0m: \tbatch_size: 32\n",
            "\u001b[34m\u001b[1mwandb\u001b[0m: \tcell_type: RNN\n",
            "\u001b[34m\u001b[1mwandb\u001b[0m: \tdropout: 0.2\n",
            "\u001b[34m\u001b[1mwandb\u001b[0m: \tepochs: 10\n",
            "\u001b[34m\u001b[1mwandb\u001b[0m: \thidden: 128\n",
            "\u001b[34m\u001b[1mwandb\u001b[0m: \tlatentDim: 256\n",
            "\u001b[34m\u001b[1mwandb\u001b[0m: \tnumDecoders: 2\n",
            "\u001b[34m\u001b[1mwandb\u001b[0m: \tnumEncoders: 1\n",
            "\u001b[34m\u001b[1mwandb\u001b[0m: \toptimiser: adam\n",
            "\u001b[34m\u001b[1mwandb\u001b[0m: \u001b[33mWARNING\u001b[0m Ignored wandb.init() arg project when running a sweep.\n"
          ]
        },
        {
          "output_type": "display_data",
          "data": {
            "text/plain": [
              "<IPython.core.display.HTML object>"
            ],
            "text/html": [
              "Tracking run with wandb version 0.12.16"
            ]
          },
          "metadata": {}
        },
        {
          "output_type": "display_data",
          "data": {
            "text/plain": [
              "<IPython.core.display.HTML object>"
            ],
            "text/html": [
              "Run data is saved locally in <code>/content/wandb/run-20220513_120000-wz8s971t</code>"
            ]
          },
          "metadata": {}
        },
        {
          "output_type": "display_data",
          "data": {
            "text/plain": [
              "<IPython.core.display.HTML object>"
            ],
            "text/html": [
              "Syncing run <strong><a href=\"https://wandb.ai/muk465/CS6910-Assignment-3_attn/runs/wz8s971t\" target=\"_blank\">robust-sweep-4</a></strong> to <a href=\"https://wandb.ai/muk465/CS6910-Assignment-3_attn\" target=\"_blank\">Weights & Biases</a> (<a href=\"https://wandb.me/run\" target=\"_blank\">docs</a>)<br/>Sweep page:  <a href=\"https://wandb.ai/muk465/CS6910-Assignment-3_attn/sweeps/wo9l1m7l\" target=\"_blank\">https://wandb.ai/muk465/CS6910-Assignment-3_attn/sweeps/wo9l1m7l</a>"
            ]
          },
          "metadata": {}
        },
        {
          "output_type": "stream",
          "name": "stdout",
          "text": [
            "Model: \"model\"\n",
            "__________________________________________________________________________________________________\n",
            " Layer (type)                   Output Shape         Param #     Connected to                     \n",
            "==================================================================================================\n",
            " input_1 (InputLayer)           [(None, None, 27)]   0           []                               \n",
            "                                                                                                  \n",
            " input_2 (InputLayer)           [(None, None, 66)]   0           []                               \n",
            "                                                                                                  \n",
            " simple_rnn (SimpleRNN)         [(None, None, 256),  72704       ['input_1[0][0]']                \n",
            "                                 (None, 256)]                                                     \n",
            "                                                                                                  \n",
            " simple_rnn_2 (SimpleRNN)       [(None, None, 256),  82688       ['input_2[0][0]',                \n",
            "                                 (None, 256)]                     'simple_rnn[0][1]']             \n",
            "                                                                                                  \n",
            " additive_attention (AdditiveAt  (None, None, 256)   256         ['simple_rnn_2[0][0]',           \n",
            " tention)                                                         'simple_rnn[0][0]']             \n",
            "                                                                                                  \n",
            " concat_layer (Concatenate)     (None, None, 512)    0           ['simple_rnn_2[0][0]',           \n",
            "                                                                  'additive_attention[0][0]']     \n",
            "                                                                                                  \n",
            " dense (Dense)                  (None, None, 128)    65664       ['concat_layer[0][0]']           \n",
            "                                                                                                  \n",
            " dense_1 (Dense)                (None, None, 66)     8514        ['dense[0][0]']                  \n",
            "                                                                                                  \n",
            "==================================================================================================\n",
            "Total params: 229,826\n",
            "Trainable params: 229,826\n",
            "Non-trainable params: 0\n",
            "__________________________________________________________________________________________________\n",
            "Epoch 1/10\n",
            "1382/1382 [==============================] - 53s 37ms/step - loss: 0.7958 - accuracy: 0.7847 - val_loss: 1.6469 - val_accuracy: 0.6932 - _timestamp: 1652443258.0000 - _runtime: 58.0000\n",
            "Epoch 2/10\n",
            "1382/1382 [==============================] - 51s 37ms/step - loss: 0.4964 - accuracy: 0.8553 - val_loss: 1.5828 - val_accuracy: 0.7267 - _timestamp: 1652443309.0000 - _runtime: 109.0000\n",
            "Epoch 3/10\n",
            "1382/1382 [==============================] - 51s 37ms/step - loss: 0.4369 - accuracy: 0.8713 - val_loss: 1.5617 - val_accuracy: 0.7302 - _timestamp: 1652443360.0000 - _runtime: 160.0000\n",
            "Epoch 4/10\n",
            "1382/1382 [==============================] - 51s 37ms/step - loss: 0.4035 - accuracy: 0.8799 - val_loss: 1.7193 - val_accuracy: 0.7263 - _timestamp: 1652443411.0000 - _runtime: 211.0000\n",
            "Epoch 5/10\n",
            "1382/1382 [==============================] - 51s 37ms/step - loss: 0.3844 - accuracy: 0.8851 - val_loss: 1.6749 - val_accuracy: 0.7413 - _timestamp: 1652443462.0000 - _runtime: 262.0000\n",
            "Epoch 6/10\n",
            "1382/1382 [==============================] - 51s 37ms/step - loss: 0.3719 - accuracy: 0.8885 - val_loss: 1.7670 - val_accuracy: 0.7352 - _timestamp: 1652443513.0000 - _runtime: 313.0000\n",
            "Epoch 7/10\n",
            "1382/1382 [==============================] - 50s 37ms/step - loss: 0.3598 - accuracy: 0.8912 - val_loss: 1.8640 - val_accuracy: 0.7283 - _timestamp: 1652443563.0000 - _runtime: 363.0000\n",
            "Epoch 8/10\n",
            "1382/1382 [==============================] - 51s 37ms/step - loss: 0.3525 - accuracy: 0.8931 - val_loss: 1.7280 - val_accuracy: 0.7462 - _timestamp: 1652443614.0000 - _runtime: 414.0000\n",
            "Epoch 9/10\n",
            "1382/1382 [==============================] - 51s 37ms/step - loss: 0.3471 - accuracy: 0.8947 - val_loss: 1.8043 - val_accuracy: 0.7436 - _timestamp: 1652443664.0000 - _runtime: 464.0000\n",
            "Epoch 10/10\n",
            "1382/1382 [==============================] - 51s 37ms/step - loss: 0.3418 - accuracy: 0.8960 - val_loss: 1.6997 - val_accuracy: 0.7405 - _timestamp: 1652443715.0000 - _runtime: 515.0000\n",
            "Epoch 10: early stopping\n",
            "INFO:tensorflow:Assets written to: ./TrainedModels/RNNeng1_hi_2_adam_10_0.2_32_256/assets\n"
          ]
        },
        {
          "output_type": "stream",
          "name": "stderr",
          "text": [
            "INFO:tensorflow:Assets written to: ./TrainedModels/RNNeng1_hi_2_adam_10_0.2_32_256/assets\n"
          ]
        },
        {
          "output_type": "display_data",
          "data": {
            "text/plain": [
              "<IPython.core.display.HTML object>"
            ],
            "text/html": [
              "Waiting for W&B process to finish... <strong style=\"color:green\">(success).</strong>"
            ]
          },
          "metadata": {}
        },
        {
          "output_type": "display_data",
          "data": {
            "text/plain": [
              "VBox(children=(Label(value='2.690 MB of 2.690 MB uploaded (0.000 MB deduped)\\r'), FloatProgress(value=1.0, max…"
            ],
            "application/vnd.jupyter.widget-view+json": {
              "version_major": 2,
              "version_minor": 0,
              "model_id": "7d77344dc91a428d9f6a75a5fa4715bf"
            }
          },
          "metadata": {}
        },
        {
          "output_type": "display_data",
          "data": {
            "text/plain": [
              "<IPython.core.display.HTML object>"
            ],
            "text/html": [
              "<style>\n",
              "    table.wandb td:nth-child(1) { padding: 0 10px; text-align: left ; width: auto;} td:nth-child(2) {text-align: left ; width: 100%}\n",
              "    .wandb-row { display: flex; flex-direction: row; flex-wrap: wrap; justify-content: flex-start; width: 100% }\n",
              "    .wandb-col { display: flex; flex-direction: column; flex-basis: 100%; flex: 1; padding: 10px; }\n",
              "    </style>\n",
              "<div class=\"wandb-row\"><div class=\"wandb-col\"><h3>Run history:</h3><br/><table class=\"wandb\"><tr><td>accuracy</td><td>▁▅▆▇▇█████</td></tr><tr><td>epoch</td><td>▁▂▃▃▄▅▆▆▇█</td></tr><tr><td>loss</td><td>█▃▂▂▂▁▁▁▁▁</td></tr><tr><td>val_accuracy</td><td>▁▅▆▅▇▇▆██▇</td></tr><tr><td>val_loss</td><td>▃▁▁▅▄▆█▅▇▄</td></tr></table><br/></div><div class=\"wandb-col\"><h3>Run summary:</h3><br/><table class=\"wandb\"><tr><td>accuracy</td><td>0.89602</td></tr><tr><td>best_epoch</td><td>2</td></tr><tr><td>best_val_loss</td><td>1.56167</td></tr><tr><td>epoch</td><td>9</td></tr><tr><td>loss</td><td>0.34179</td></tr><tr><td>val_accuracy</td><td>0.74048</td></tr><tr><td>val_loss</td><td>1.6997</td></tr></table><br/></div></div>"
            ]
          },
          "metadata": {}
        },
        {
          "output_type": "display_data",
          "data": {
            "text/plain": [
              "<IPython.core.display.HTML object>"
            ],
            "text/html": [
              "Synced <strong style=\"color:#cdcd00\">robust-sweep-4</strong>: <a href=\"https://wandb.ai/muk465/CS6910-Assignment-3_attn/runs/wz8s971t\" target=\"_blank\">https://wandb.ai/muk465/CS6910-Assignment-3_attn/runs/wz8s971t</a><br/>Synced 5 W&B file(s), 1 media file(s), 0 artifact file(s) and 1 other file(s)"
            ]
          },
          "metadata": {}
        },
        {
          "output_type": "display_data",
          "data": {
            "text/plain": [
              "<IPython.core.display.HTML object>"
            ],
            "text/html": [
              "Find logs at: <code>./wandb/run-20220513_120000-wz8s971t/logs</code>"
            ]
          },
          "metadata": {}
        },
        {
          "output_type": "stream",
          "name": "stderr",
          "text": [
            "\u001b[34m\u001b[1mwandb\u001b[0m: Agent Starting Run: quscuw55 with config:\n",
            "\u001b[34m\u001b[1mwandb\u001b[0m: \tbatch_size: 64\n",
            "\u001b[34m\u001b[1mwandb\u001b[0m: \tcell_type: LSTM\n",
            "\u001b[34m\u001b[1mwandb\u001b[0m: \tdropout: 0.2\n",
            "\u001b[34m\u001b[1mwandb\u001b[0m: \tepochs: 5\n",
            "\u001b[34m\u001b[1mwandb\u001b[0m: \thidden: 128\n",
            "\u001b[34m\u001b[1mwandb\u001b[0m: \tlatentDim: 256\n",
            "\u001b[34m\u001b[1mwandb\u001b[0m: \tnumDecoders: 1\n",
            "\u001b[34m\u001b[1mwandb\u001b[0m: \tnumEncoders: 1\n",
            "\u001b[34m\u001b[1mwandb\u001b[0m: \toptimiser: adam\n",
            "\u001b[34m\u001b[1mwandb\u001b[0m: \u001b[33mWARNING\u001b[0m Ignored wandb.init() arg project when running a sweep.\n"
          ]
        },
        {
          "output_type": "display_data",
          "data": {
            "text/plain": [
              "<IPython.core.display.HTML object>"
            ],
            "text/html": [
              "Tracking run with wandb version 0.12.16"
            ]
          },
          "metadata": {}
        },
        {
          "output_type": "display_data",
          "data": {
            "text/plain": [
              "<IPython.core.display.HTML object>"
            ],
            "text/html": [
              "Run data is saved locally in <code>/content/wandb/run-20220513_120956-quscuw55</code>"
            ]
          },
          "metadata": {}
        },
        {
          "output_type": "display_data",
          "data": {
            "text/plain": [
              "<IPython.core.display.HTML object>"
            ],
            "text/html": [
              "Syncing run <strong><a href=\"https://wandb.ai/muk465/CS6910-Assignment-3_attn/runs/quscuw55\" target=\"_blank\">floral-sweep-5</a></strong> to <a href=\"https://wandb.ai/muk465/CS6910-Assignment-3_attn\" target=\"_blank\">Weights & Biases</a> (<a href=\"https://wandb.me/run\" target=\"_blank\">docs</a>)<br/>Sweep page:  <a href=\"https://wandb.ai/muk465/CS6910-Assignment-3_attn/sweeps/wo9l1m7l\" target=\"_blank\">https://wandb.ai/muk465/CS6910-Assignment-3_attn/sweeps/wo9l1m7l</a>"
            ]
          },
          "metadata": {}
        },
        {
          "output_type": "stream",
          "name": "stdout",
          "text": [
            "Model: \"model\"\n",
            "__________________________________________________________________________________________________\n",
            " Layer (type)                   Output Shape         Param #     Connected to                     \n",
            "==================================================================================================\n",
            " input_1 (InputLayer)           [(None, None, 27)]   0           []                               \n",
            "                                                                                                  \n",
            " input_2 (InputLayer)           [(None, None, 66)]   0           []                               \n",
            "                                                                                                  \n",
            " lstm (LSTM)                    [(None, None, 256),  290816      ['input_1[0][0]']                \n",
            "                                 (None, 256),                                                     \n",
            "                                 (None, 256)]                                                     \n",
            "                                                                                                  \n",
            " lstm_1 (LSTM)                  [(None, None, 256),  330752      ['input_2[0][0]',                \n",
            "                                 (None, 256),                     'lstm[0][1]',                   \n",
            "                                 (None, 256)]                     'lstm[0][2]']                   \n",
            "                                                                                                  \n",
            " additive_attention (AdditiveAt  (None, None, 256)   256         ['lstm_1[0][0]',                 \n",
            " tention)                                                         'lstm[0][0]']                   \n",
            "                                                                                                  \n",
            " concat_layer (Concatenate)     (None, None, 512)    0           ['lstm_1[0][0]',                 \n",
            "                                                                  'additive_attention[0][0]']     \n",
            "                                                                                                  \n",
            " dense (Dense)                  (None, None, 128)    65664       ['concat_layer[0][0]']           \n",
            "                                                                                                  \n",
            " dense_1 (Dense)                (None, None, 66)     8514        ['dense[0][0]']                  \n",
            "                                                                                                  \n",
            "==================================================================================================\n",
            "Total params: 696,002\n",
            "Trainable params: 696,002\n",
            "Non-trainable params: 0\n",
            "__________________________________________________________________________________________________\n",
            "Epoch 1/5\n",
            "691/691 [==============================] - 13s 13ms/step - loss: 1.0312 - accuracy: 0.7341 - val_loss: 1.7304 - val_accuracy: 0.6580 - _timestamp: 1652443815.0000 - _runtime: 19.0000\n",
            "Epoch 2/5\n",
            "691/691 [==============================] - 8s 12ms/step - loss: 0.7130 - accuracy: 0.7967 - val_loss: 1.6715 - val_accuracy: 0.6972 - _timestamp: 1652443823.0000 - _runtime: 27.0000\n",
            "Epoch 3/5\n",
            "691/691 [==============================] - 8s 12ms/step - loss: 0.5935 - accuracy: 0.8280 - val_loss: 1.7921 - val_accuracy: 0.6978 - _timestamp: 1652443831.0000 - _runtime: 35.0000\n",
            "Epoch 4/5\n",
            "691/691 [==============================] - 8s 12ms/step - loss: 0.5247 - accuracy: 0.8462 - val_loss: 1.8127 - val_accuracy: 0.7044 - _timestamp: 1652443839.0000 - _runtime: 43.0000\n",
            "Epoch 5/5\n",
            "691/691 [==============================] - 8s 12ms/step - loss: 0.4767 - accuracy: 0.8594 - val_loss: 1.7819 - val_accuracy: 0.7152 - _timestamp: 1652443847.0000 - _runtime: 51.0000\n"
          ]
        },
        {
          "output_type": "stream",
          "name": "stderr",
          "text": [
            "WARNING:absl:Found untraced functions such as lstm_cell_layer_call_fn, lstm_cell_layer_call_and_return_conditional_losses, lstm_cell_1_layer_call_fn, lstm_cell_1_layer_call_and_return_conditional_losses while saving (showing 4 of 4). These functions will not be directly callable after loading.\n"
          ]
        },
        {
          "output_type": "stream",
          "name": "stdout",
          "text": [
            "INFO:tensorflow:Assets written to: ./TrainedModels/LSTMeng1_hi_1_adam_5_0.2_64_256/assets\n"
          ]
        },
        {
          "output_type": "stream",
          "name": "stderr",
          "text": [
            "INFO:tensorflow:Assets written to: ./TrainedModels/LSTMeng1_hi_1_adam_5_0.2_64_256/assets\n",
            "WARNING:absl:<keras.layers.recurrent.LSTMCell object at 0x7fe5e7b8c610> has the same name 'LSTMCell' as a built-in Keras object. Consider renaming <class 'keras.layers.recurrent.LSTMCell'> to avoid naming conflicts when loading with `tf.keras.models.load_model`. If renaming is not possible, pass the object in the `custom_objects` parameter of the load function.\n",
            "WARNING:absl:<keras.layers.recurrent.LSTMCell object at 0x7fe61019a2d0> has the same name 'LSTMCell' as a built-in Keras object. Consider renaming <class 'keras.layers.recurrent.LSTMCell'> to avoid naming conflicts when loading with `tf.keras.models.load_model`. If renaming is not possible, pass the object in the `custom_objects` parameter of the load function.\n"
          ]
        },
        {
          "output_type": "display_data",
          "data": {
            "text/plain": [
              "<IPython.core.display.HTML object>"
            ],
            "text/html": [
              "Waiting for W&B process to finish... <strong style=\"color:green\">(success).</strong>"
            ]
          },
          "metadata": {}
        },
        {
          "output_type": "display_data",
          "data": {
            "text/plain": [
              "VBox(children=(Label(value='8.025 MB of 8.025 MB uploaded (0.000 MB deduped)\\r'), FloatProgress(value=1.0, max…"
            ],
            "application/vnd.jupyter.widget-view+json": {
              "version_major": 2,
              "version_minor": 0,
              "model_id": "62d64ff5dc8e4828812f09c9d690baff"
            }
          },
          "metadata": {}
        },
        {
          "output_type": "display_data",
          "data": {
            "text/plain": [
              "<IPython.core.display.HTML object>"
            ],
            "text/html": [
              "<style>\n",
              "    table.wandb td:nth-child(1) { padding: 0 10px; text-align: left ; width: auto;} td:nth-child(2) {text-align: left ; width: 100%}\n",
              "    .wandb-row { display: flex; flex-direction: row; flex-wrap: wrap; justify-content: flex-start; width: 100% }\n",
              "    .wandb-col { display: flex; flex-direction: column; flex-basis: 100%; flex: 1; padding: 10px; }\n",
              "    </style>\n",
              "<div class=\"wandb-row\"><div class=\"wandb-col\"><h3>Run history:</h3><br/><table class=\"wandb\"><tr><td>accuracy</td><td>▁▄▆▇█</td></tr><tr><td>epoch</td><td>▁▃▅▆█</td></tr><tr><td>loss</td><td>█▄▂▂▁</td></tr><tr><td>val_accuracy</td><td>▁▆▆▇█</td></tr><tr><td>val_loss</td><td>▄▁▇█▆</td></tr></table><br/></div><div class=\"wandb-col\"><h3>Run summary:</h3><br/><table class=\"wandb\"><tr><td>accuracy</td><td>0.85938</td></tr><tr><td>best_epoch</td><td>1</td></tr><tr><td>best_val_loss</td><td>1.67148</td></tr><tr><td>epoch</td><td>4</td></tr><tr><td>loss</td><td>0.47672</td></tr><tr><td>val_accuracy</td><td>0.71515</td></tr><tr><td>val_loss</td><td>1.78185</td></tr></table><br/></div></div>"
            ]
          },
          "metadata": {}
        },
        {
          "output_type": "display_data",
          "data": {
            "text/plain": [
              "<IPython.core.display.HTML object>"
            ],
            "text/html": [
              "Synced <strong style=\"color:#cdcd00\">floral-sweep-5</strong>: <a href=\"https://wandb.ai/muk465/CS6910-Assignment-3_attn/runs/quscuw55\" target=\"_blank\">https://wandb.ai/muk465/CS6910-Assignment-3_attn/runs/quscuw55</a><br/>Synced 5 W&B file(s), 1 media file(s), 0 artifact file(s) and 1 other file(s)"
            ]
          },
          "metadata": {}
        },
        {
          "output_type": "display_data",
          "data": {
            "text/plain": [
              "<IPython.core.display.HTML object>"
            ],
            "text/html": [
              "Find logs at: <code>./wandb/run-20220513_120956-quscuw55/logs</code>"
            ]
          },
          "metadata": {}
        },
        {
          "output_type": "stream",
          "name": "stderr",
          "text": [
            "\u001b[34m\u001b[1mwandb\u001b[0m: Sweep Agent: Waiting for job.\n",
            "\u001b[34m\u001b[1mwandb\u001b[0m: Job received.\n",
            "\u001b[34m\u001b[1mwandb\u001b[0m: Agent Starting Run: zdw7xpzx with config:\n",
            "\u001b[34m\u001b[1mwandb\u001b[0m: \tbatch_size: 32\n",
            "\u001b[34m\u001b[1mwandb\u001b[0m: \tcell_type: GRU\n",
            "\u001b[34m\u001b[1mwandb\u001b[0m: \tdropout: 0.3\n",
            "\u001b[34m\u001b[1mwandb\u001b[0m: \tepochs: 15\n",
            "\u001b[34m\u001b[1mwandb\u001b[0m: \thidden: 64\n",
            "\u001b[34m\u001b[1mwandb\u001b[0m: \tlatentDim: 256\n",
            "\u001b[34m\u001b[1mwandb\u001b[0m: \tnumDecoders: 2\n",
            "\u001b[34m\u001b[1mwandb\u001b[0m: \tnumEncoders: 1\n",
            "\u001b[34m\u001b[1mwandb\u001b[0m: \toptimiser: adam\n",
            "\u001b[34m\u001b[1mwandb\u001b[0m: \u001b[33mWARNING\u001b[0m Ignored wandb.init() arg project when running a sweep.\n"
          ]
        },
        {
          "output_type": "display_data",
          "data": {
            "text/plain": [
              "<IPython.core.display.HTML object>"
            ],
            "text/html": [
              "Tracking run with wandb version 0.12.16"
            ]
          },
          "metadata": {}
        },
        {
          "output_type": "display_data",
          "data": {
            "text/plain": [
              "<IPython.core.display.HTML object>"
            ],
            "text/html": [
              "Run data is saved locally in <code>/content/wandb/run-20220513_121114-zdw7xpzx</code>"
            ]
          },
          "metadata": {}
        },
        {
          "output_type": "display_data",
          "data": {
            "text/plain": [
              "<IPython.core.display.HTML object>"
            ],
            "text/html": [
              "Syncing run <strong><a href=\"https://wandb.ai/muk465/CS6910-Assignment-3_attn/runs/zdw7xpzx\" target=\"_blank\">treasured-sweep-6</a></strong> to <a href=\"https://wandb.ai/muk465/CS6910-Assignment-3_attn\" target=\"_blank\">Weights & Biases</a> (<a href=\"https://wandb.me/run\" target=\"_blank\">docs</a>)<br/>Sweep page:  <a href=\"https://wandb.ai/muk465/CS6910-Assignment-3_attn/sweeps/wo9l1m7l\" target=\"_blank\">https://wandb.ai/muk465/CS6910-Assignment-3_attn/sweeps/wo9l1m7l</a>"
            ]
          },
          "metadata": {}
        },
        {
          "output_type": "stream",
          "name": "stdout",
          "text": [
            "Model: \"model\"\n",
            "__________________________________________________________________________________________________\n",
            " Layer (type)                   Output Shape         Param #     Connected to                     \n",
            "==================================================================================================\n",
            " input_1 (InputLayer)           [(None, None, 27)]   0           []                               \n",
            "                                                                                                  \n",
            " input_2 (InputLayer)           [(None, None, 66)]   0           []                               \n",
            "                                                                                                  \n",
            " gru (GRU)                      [(None, None, 256),  218880      ['input_1[0][0]']                \n",
            "                                 (None, 256)]                                                     \n",
            "                                                                                                  \n",
            " gru_2 (GRU)                    [(None, None, 256),  248832      ['input_2[0][0]',                \n",
            "                                 (None, 256)]                     'gru[0][1]']                    \n",
            "                                                                                                  \n",
            " additive_attention (AdditiveAt  (None, None, 256)   256         ['gru_2[0][0]',                  \n",
            " tention)                                                         'gru[0][0]']                    \n",
            "                                                                                                  \n",
            " concat_layer (Concatenate)     (None, None, 512)    0           ['gru_2[0][0]',                  \n",
            "                                                                  'additive_attention[0][0]']     \n",
            "                                                                                                  \n",
            " dense (Dense)                  (None, None, 64)     32832       ['concat_layer[0][0]']           \n",
            "                                                                                                  \n",
            " dense_1 (Dense)                (None, None, 66)     4290        ['dense[0][0]']                  \n",
            "                                                                                                  \n",
            "==================================================================================================\n",
            "Total params: 505,090\n",
            "Trainable params: 505,090\n",
            "Non-trainable params: 0\n",
            "__________________________________________________________________________________________________\n",
            "Epoch 1/15\n",
            "1382/1382 [==============================] - 17s 10ms/step - loss: 0.9336 - accuracy: 0.7545 - val_loss: 1.6240 - val_accuracy: 0.7000 - _timestamp: 1652443898.0000 - _runtime: 24.0000\n",
            "Epoch 2/15\n",
            "1382/1382 [==============================] - 13s 9ms/step - loss: 0.5809 - accuracy: 0.8323 - val_loss: 1.7289 - val_accuracy: 0.7106 - _timestamp: 1652443911.0000 - _runtime: 37.0000\n",
            "Epoch 3/15\n",
            "1382/1382 [==============================] - 13s 9ms/step - loss: 0.5114 - accuracy: 0.8498 - val_loss: 1.6398 - val_accuracy: 0.7159 - _timestamp: 1652443924.0000 - _runtime: 50.0000\n",
            "Epoch 4/15\n",
            "1382/1382 [==============================] - 13s 9ms/step - loss: 0.4764 - accuracy: 0.8589 - val_loss: 1.5510 - val_accuracy: 0.7271 - _timestamp: 1652443937.0000 - _runtime: 63.0000\n",
            "Epoch 5/15\n",
            "1382/1382 [==============================] - 13s 9ms/step - loss: 0.4540 - accuracy: 0.8645 - val_loss: 1.5551 - val_accuracy: 0.7360 - _timestamp: 1652443950.0000 - _runtime: 76.0000\n",
            "Epoch 6/15\n",
            "1382/1382 [==============================] - 13s 10ms/step - loss: 0.4387 - accuracy: 0.8686 - val_loss: 1.5897 - val_accuracy: 0.7457 - _timestamp: 1652443963.0000 - _runtime: 89.0000\n",
            "Epoch 7/15\n",
            "1382/1382 [==============================] - 13s 9ms/step - loss: 0.4265 - accuracy: 0.8719 - val_loss: 1.5543 - val_accuracy: 0.7489 - _timestamp: 1652443976.0000 - _runtime: 102.0000\n",
            "Epoch 8/15\n",
            "1382/1382 [==============================] - 13s 9ms/step - loss: 0.4169 - accuracy: 0.8747 - val_loss: 1.5823 - val_accuracy: 0.7506 - _timestamp: 1652443989.0000 - _runtime: 115.0000\n",
            "Epoch 9/15\n",
            "1382/1382 [==============================] - 13s 10ms/step - loss: 0.4056 - accuracy: 0.8773 - val_loss: 1.5255 - val_accuracy: 0.7503 - _timestamp: 1652444002.0000 - _runtime: 128.0000\n",
            "Epoch 10/15\n",
            "1382/1382 [==============================] - 13s 9ms/step - loss: 0.3999 - accuracy: 0.8788 - val_loss: 1.6551 - val_accuracy: 0.7513 - _timestamp: 1652444015.0000 - _runtime: 141.0000\n",
            "Epoch 11/15\n",
            "1382/1382 [==============================] - 13s 10ms/step - loss: 0.3939 - accuracy: 0.8808 - val_loss: 1.6276 - val_accuracy: 0.7519 - _timestamp: 1652444028.0000 - _runtime: 154.0000\n",
            "Epoch 11: early stopping\n"
          ]
        },
        {
          "output_type": "stream",
          "name": "stderr",
          "text": [
            "WARNING:absl:Found untraced functions such as gru_cell_layer_call_fn, gru_cell_layer_call_and_return_conditional_losses, gru_cell_2_layer_call_fn, gru_cell_2_layer_call_and_return_conditional_losses while saving (showing 4 of 4). These functions will not be directly callable after loading.\n"
          ]
        },
        {
          "output_type": "stream",
          "name": "stdout",
          "text": [
            "INFO:tensorflow:Assets written to: ./TrainedModels/GRUeng1_hi_2_adam_15_0.3_32_256/assets\n"
          ]
        },
        {
          "output_type": "stream",
          "name": "stderr",
          "text": [
            "INFO:tensorflow:Assets written to: ./TrainedModels/GRUeng1_hi_2_adam_15_0.3_32_256/assets\n",
            "WARNING:absl:<keras.layers.recurrent.GRUCell object at 0x7fe5e5f35910> has the same name 'GRUCell' as a built-in Keras object. Consider renaming <class 'keras.layers.recurrent.GRUCell'> to avoid naming conflicts when loading with `tf.keras.models.load_model`. If renaming is not possible, pass the object in the `custom_objects` parameter of the load function.\n",
            "WARNING:absl:<keras.layers.recurrent.GRUCell object at 0x7fe61082d190> has the same name 'GRUCell' as a built-in Keras object. Consider renaming <class 'keras.layers.recurrent.GRUCell'> to avoid naming conflicts when loading with `tf.keras.models.load_model`. If renaming is not possible, pass the object in the `custom_objects` parameter of the load function.\n"
          ]
        },
        {
          "output_type": "display_data",
          "data": {
            "text/plain": [
              "<IPython.core.display.HTML object>"
            ],
            "text/html": [
              "Waiting for W&B process to finish... <strong style=\"color:green\">(success).</strong>"
            ]
          },
          "metadata": {}
        },
        {
          "output_type": "display_data",
          "data": {
            "text/plain": [
              "VBox(children=(Label(value='5.840 MB of 5.840 MB uploaded (0.000 MB deduped)\\r'), FloatProgress(value=1.0, max…"
            ],
            "application/vnd.jupyter.widget-view+json": {
              "version_major": 2,
              "version_minor": 0,
              "model_id": "18ce25d18a004452802d1c86befc6c5b"
            }
          },
          "metadata": {}
        },
        {
          "output_type": "display_data",
          "data": {
            "text/plain": [
              "<IPython.core.display.HTML object>"
            ],
            "text/html": [
              "<style>\n",
              "    table.wandb td:nth-child(1) { padding: 0 10px; text-align: left ; width: auto;} td:nth-child(2) {text-align: left ; width: 100%}\n",
              "    .wandb-row { display: flex; flex-direction: row; flex-wrap: wrap; justify-content: flex-start; width: 100% }\n",
              "    .wandb-col { display: flex; flex-direction: column; flex-basis: 100%; flex: 1; padding: 10px; }\n",
              "    </style>\n",
              "<div class=\"wandb-row\"><div class=\"wandb-col\"><h3>Run history:</h3><br/><table class=\"wandb\"><tr><td>accuracy</td><td>▁▅▆▇▇▇█████</td></tr><tr><td>epoch</td><td>▁▂▂▃▄▅▅▆▇▇█</td></tr><tr><td>loss</td><td>█▃▃▂▂▂▁▁▁▁▁</td></tr><tr><td>val_accuracy</td><td>▁▂▃▅▆▇█████</td></tr><tr><td>val_loss</td><td>▄█▅▂▂▃▂▃▁▅▅</td></tr></table><br/></div><div class=\"wandb-col\"><h3>Run summary:</h3><br/><table class=\"wandb\"><tr><td>accuracy</td><td>0.88081</td></tr><tr><td>best_epoch</td><td>8</td></tr><tr><td>best_val_loss</td><td>1.52552</td></tr><tr><td>epoch</td><td>10</td></tr><tr><td>loss</td><td>0.39394</td></tr><tr><td>val_accuracy</td><td>0.75193</td></tr><tr><td>val_loss</td><td>1.6276</td></tr></table><br/></div></div>"
            ]
          },
          "metadata": {}
        },
        {
          "output_type": "display_data",
          "data": {
            "text/plain": [
              "<IPython.core.display.HTML object>"
            ],
            "text/html": [
              "Synced <strong style=\"color:#cdcd00\">treasured-sweep-6</strong>: <a href=\"https://wandb.ai/muk465/CS6910-Assignment-3_attn/runs/zdw7xpzx\" target=\"_blank\">https://wandb.ai/muk465/CS6910-Assignment-3_attn/runs/zdw7xpzx</a><br/>Synced 5 W&B file(s), 1 media file(s), 0 artifact file(s) and 1 other file(s)"
            ]
          },
          "metadata": {}
        },
        {
          "output_type": "display_data",
          "data": {
            "text/plain": [
              "<IPython.core.display.HTML object>"
            ],
            "text/html": [
              "Find logs at: <code>./wandb/run-20220513_121114-zdw7xpzx/logs</code>"
            ]
          },
          "metadata": {}
        },
        {
          "output_type": "stream",
          "name": "stderr",
          "text": [
            "\u001b[34m\u001b[1mwandb\u001b[0m: Agent Starting Run: h06ifuul with config:\n",
            "\u001b[34m\u001b[1mwandb\u001b[0m: \tbatch_size: 64\n",
            "\u001b[34m\u001b[1mwandb\u001b[0m: \tcell_type: LSTM\n",
            "\u001b[34m\u001b[1mwandb\u001b[0m: \tdropout: 0.3\n",
            "\u001b[34m\u001b[1mwandb\u001b[0m: \tepochs: 10\n",
            "\u001b[34m\u001b[1mwandb\u001b[0m: \thidden: 64\n",
            "\u001b[34m\u001b[1mwandb\u001b[0m: \tlatentDim: 256\n",
            "\u001b[34m\u001b[1mwandb\u001b[0m: \tnumDecoders: 3\n",
            "\u001b[34m\u001b[1mwandb\u001b[0m: \tnumEncoders: 1\n",
            "\u001b[34m\u001b[1mwandb\u001b[0m: \toptimiser: adam\n",
            "\u001b[34m\u001b[1mwandb\u001b[0m: \u001b[33mWARNING\u001b[0m Ignored wandb.init() arg project when running a sweep.\n"
          ]
        },
        {
          "output_type": "display_data",
          "data": {
            "text/plain": [
              "<IPython.core.display.HTML object>"
            ],
            "text/html": [
              "Tracking run with wandb version 0.12.16"
            ]
          },
          "metadata": {}
        },
        {
          "output_type": "display_data",
          "data": {
            "text/plain": [
              "<IPython.core.display.HTML object>"
            ],
            "text/html": [
              "Run data is saved locally in <code>/content/wandb/run-20220513_121505-h06ifuul</code>"
            ]
          },
          "metadata": {}
        },
        {
          "output_type": "display_data",
          "data": {
            "text/plain": [
              "<IPython.core.display.HTML object>"
            ],
            "text/html": [
              "Syncing run <strong><a href=\"https://wandb.ai/muk465/CS6910-Assignment-3_attn/runs/h06ifuul\" target=\"_blank\">curious-sweep-7</a></strong> to <a href=\"https://wandb.ai/muk465/CS6910-Assignment-3_attn\" target=\"_blank\">Weights & Biases</a> (<a href=\"https://wandb.me/run\" target=\"_blank\">docs</a>)<br/>Sweep page:  <a href=\"https://wandb.ai/muk465/CS6910-Assignment-3_attn/sweeps/wo9l1m7l\" target=\"_blank\">https://wandb.ai/muk465/CS6910-Assignment-3_attn/sweeps/wo9l1m7l</a>"
            ]
          },
          "metadata": {}
        },
        {
          "output_type": "stream",
          "name": "stdout",
          "text": [
            "Model: \"model\"\n",
            "__________________________________________________________________________________________________\n",
            " Layer (type)                   Output Shape         Param #     Connected to                     \n",
            "==================================================================================================\n",
            " input_1 (InputLayer)           [(None, None, 27)]   0           []                               \n",
            "                                                                                                  \n",
            " input_2 (InputLayer)           [(None, None, 66)]   0           []                               \n",
            "                                                                                                  \n",
            " lstm (LSTM)                    [(None, None, 256),  290816      ['input_1[0][0]']                \n",
            "                                 (None, 256),                                                     \n",
            "                                 (None, 256)]                                                     \n",
            "                                                                                                  \n",
            " lstm_1 (LSTM)                  [(None, None, 256),  330752      ['input_2[0][0]',                \n",
            "                                 (None, 256),                     'lstm[0][1]',                   \n",
            "                                 (None, 256)]                     'lstm[0][2]']                   \n",
            "                                                                                                  \n",
            " lstm_2 (LSTM)                  [(None, None, 256),  525312      ['lstm_1[0][0]',                 \n",
            "                                 (None, 256),                     'lstm[0][1]',                   \n",
            "                                 (None, 256)]                     'lstm[0][2]']                   \n",
            "                                                                                                  \n",
            " lstm_3 (LSTM)                  [(None, None, 256),  525312      ['lstm_2[0][0]',                 \n",
            "                                 (None, 256),                     'lstm[0][1]',                   \n",
            "                                 (None, 256)]                     'lstm[0][2]']                   \n",
            "                                                                                                  \n",
            " additive_attention (AdditiveAt  (None, None, 256)   256         ['lstm_3[0][0]',                 \n",
            " tention)                                                         'lstm[0][0]']                   \n",
            "                                                                                                  \n",
            " concat_layer (Concatenate)     (None, None, 512)    0           ['lstm_3[0][0]',                 \n",
            "                                                                  'additive_attention[0][0]']     \n",
            "                                                                                                  \n",
            " dense (Dense)                  (None, None, 64)     32832       ['concat_layer[0][0]']           \n",
            "                                                                                                  \n",
            " dense_1 (Dense)                (None, None, 66)     4290        ['dense[0][0]']                  \n",
            "                                                                                                  \n",
            "==================================================================================================\n",
            "Total params: 1,709,570\n",
            "Trainable params: 1,709,570\n",
            "Non-trainable params: 0\n",
            "__________________________________________________________________________________________________\n",
            "Epoch 1/10\n",
            "691/691 [==============================] - 19s 20ms/step - loss: 1.1242 - accuracy: 0.7125 - val_loss: 1.8480 - val_accuracy: 0.6242 - _timestamp: 1652444131.0000 - _runtime: 26.0000\n",
            "Epoch 2/10\n",
            "691/691 [==============================] - 12s 18ms/step - loss: 0.8694 - accuracy: 0.7590 - val_loss: 1.8004 - val_accuracy: 0.6469 - _timestamp: 1652444144.0000 - _runtime: 39.0000\n",
            "Epoch 3/10\n",
            "691/691 [==============================] - 12s 18ms/step - loss: 0.7499 - accuracy: 0.7889 - val_loss: 1.8500 - val_accuracy: 0.6593 - _timestamp: 1652444156.0000 - _runtime: 51.0000\n",
            "Epoch 4/10\n",
            "691/691 [==============================] - 12s 18ms/step - loss: 0.6655 - accuracy: 0.8113 - val_loss: 1.8505 - val_accuracy: 0.6859 - _timestamp: 1652444168.0000 - _runtime: 63.0000\n",
            "Epoch 5/10\n",
            "691/691 [==============================] - 12s 17ms/step - loss: 0.6109 - accuracy: 0.8252 - val_loss: 1.9373 - val_accuracy: 0.6767 - _timestamp: 1652444180.0000 - _runtime: 75.0000\n",
            "Epoch 6/10\n",
            "691/691 [==============================] - 12s 17ms/step - loss: 0.5708 - accuracy: 0.8359 - val_loss: 1.9434 - val_accuracy: 0.6847 - _timestamp: 1652444192.0000 - _runtime: 87.0000\n",
            "Epoch 7/10\n",
            "691/691 [==============================] - 12s 17ms/step - loss: 0.5403 - accuracy: 0.8439 - val_loss: 1.9421 - val_accuracy: 0.6881 - _timestamp: 1652444204.0000 - _runtime: 99.0000\n",
            "Epoch 8/10\n",
            "691/691 [==============================] - 12s 17ms/step - loss: 0.5155 - accuracy: 0.8502 - val_loss: 1.9884 - val_accuracy: 0.6922 - _timestamp: 1652444216.0000 - _runtime: 111.0000\n",
            "Epoch 9/10\n",
            "691/691 [==============================] - 12s 17ms/step - loss: 0.4954 - accuracy: 0.8557 - val_loss: 2.0033 - val_accuracy: 0.7005 - _timestamp: 1652444228.0000 - _runtime: 123.0000\n",
            "Epoch 10/10\n",
            "691/691 [==============================] - 12s 17ms/step - loss: 0.4786 - accuracy: 0.8599 - val_loss: 2.0403 - val_accuracy: 0.6923 - _timestamp: 1652444240.0000 - _runtime: 135.0000\n"
          ]
        },
        {
          "output_type": "stream",
          "name": "stderr",
          "text": [
            "WARNING:absl:Found untraced functions such as lstm_cell_layer_call_fn, lstm_cell_layer_call_and_return_conditional_losses, lstm_cell_1_layer_call_fn, lstm_cell_1_layer_call_and_return_conditional_losses, lstm_cell_2_layer_call_fn while saving (showing 5 of 8). These functions will not be directly callable after loading.\n"
          ]
        },
        {
          "output_type": "stream",
          "name": "stdout",
          "text": [
            "INFO:tensorflow:Assets written to: ./TrainedModels/LSTMeng1_hi_3_adam_10_0.3_64_256/assets\n"
          ]
        },
        {
          "output_type": "stream",
          "name": "stderr",
          "text": [
            "INFO:tensorflow:Assets written to: ./TrainedModels/LSTMeng1_hi_3_adam_10_0.3_64_256/assets\n",
            "WARNING:absl:<keras.layers.recurrent.LSTMCell object at 0x7fe6102b8f90> has the same name 'LSTMCell' as a built-in Keras object. Consider renaming <class 'keras.layers.recurrent.LSTMCell'> to avoid naming conflicts when loading with `tf.keras.models.load_model`. If renaming is not possible, pass the object in the `custom_objects` parameter of the load function.\n",
            "WARNING:absl:<keras.layers.recurrent.LSTMCell object at 0x7fe620e18850> has the same name 'LSTMCell' as a built-in Keras object. Consider renaming <class 'keras.layers.recurrent.LSTMCell'> to avoid naming conflicts when loading with `tf.keras.models.load_model`. If renaming is not possible, pass the object in the `custom_objects` parameter of the load function.\n",
            "WARNING:absl:<keras.layers.recurrent.LSTMCell object at 0x7fe6261fb490> has the same name 'LSTMCell' as a built-in Keras object. Consider renaming <class 'keras.layers.recurrent.LSTMCell'> to avoid naming conflicts when loading with `tf.keras.models.load_model`. If renaming is not possible, pass the object in the `custom_objects` parameter of the load function.\n",
            "WARNING:absl:<keras.layers.recurrent.LSTMCell object at 0x7fe621e43950> has the same name 'LSTMCell' as a built-in Keras object. Consider renaming <class 'keras.layers.recurrent.LSTMCell'> to avoid naming conflicts when loading with `tf.keras.models.load_model`. If renaming is not possible, pass the object in the `custom_objects` parameter of the load function.\n"
          ]
        },
        {
          "output_type": "display_data",
          "data": {
            "text/plain": [
              "<IPython.core.display.HTML object>"
            ],
            "text/html": [
              "Waiting for W&B process to finish... <strong style=\"color:green\">(success).</strong>"
            ]
          },
          "metadata": {}
        },
        {
          "output_type": "display_data",
          "data": {
            "text/plain": [
              "VBox(children=(Label(value='19.649 MB of 19.649 MB uploaded (0.000 MB deduped)\\r'), FloatProgress(value=1.0, m…"
            ],
            "application/vnd.jupyter.widget-view+json": {
              "version_major": 2,
              "version_minor": 0,
              "model_id": "c5de100a359a4bf884cba667322b6f9e"
            }
          },
          "metadata": {}
        },
        {
          "output_type": "display_data",
          "data": {
            "text/plain": [
              "<IPython.core.display.HTML object>"
            ],
            "text/html": [
              "<style>\n",
              "    table.wandb td:nth-child(1) { padding: 0 10px; text-align: left ; width: auto;} td:nth-child(2) {text-align: left ; width: 100%}\n",
              "    .wandb-row { display: flex; flex-direction: row; flex-wrap: wrap; justify-content: flex-start; width: 100% }\n",
              "    .wandb-col { display: flex; flex-direction: column; flex-basis: 100%; flex: 1; padding: 10px; }\n",
              "    </style>\n",
              "<div class=\"wandb-row\"><div class=\"wandb-col\"><h3>Run history:</h3><br/><table class=\"wandb\"><tr><td>accuracy</td><td>▁▃▅▆▆▇▇███</td></tr><tr><td>epoch</td><td>▁▂▃▃▄▅▆▆▇█</td></tr><tr><td>loss</td><td>█▅▄▃▂▂▂▁▁▁</td></tr><tr><td>val_accuracy</td><td>▁▃▄▇▆▇▇▇█▇</td></tr><tr><td>val_loss</td><td>▂▁▂▂▅▅▅▆▇█</td></tr></table><br/></div><div class=\"wandb-col\"><h3>Run summary:</h3><br/><table class=\"wandb\"><tr><td>accuracy</td><td>0.85994</td></tr><tr><td>best_epoch</td><td>1</td></tr><tr><td>best_val_loss</td><td>1.80038</td></tr><tr><td>epoch</td><td>9</td></tr><tr><td>loss</td><td>0.47858</td></tr><tr><td>val_accuracy</td><td>0.69231</td></tr><tr><td>val_loss</td><td>2.04027</td></tr></table><br/></div></div>"
            ]
          },
          "metadata": {}
        },
        {
          "output_type": "display_data",
          "data": {
            "text/plain": [
              "<IPython.core.display.HTML object>"
            ],
            "text/html": [
              "Synced <strong style=\"color:#cdcd00\">curious-sweep-7</strong>: <a href=\"https://wandb.ai/muk465/CS6910-Assignment-3_attn/runs/h06ifuul\" target=\"_blank\">https://wandb.ai/muk465/CS6910-Assignment-3_attn/runs/h06ifuul</a><br/>Synced 5 W&B file(s), 1 media file(s), 0 artifact file(s) and 1 other file(s)"
            ]
          },
          "metadata": {}
        },
        {
          "output_type": "display_data",
          "data": {
            "text/plain": [
              "<IPython.core.display.HTML object>"
            ],
            "text/html": [
              "Find logs at: <code>./wandb/run-20220513_121505-h06ifuul/logs</code>"
            ]
          },
          "metadata": {}
        },
        {
          "output_type": "stream",
          "name": "stderr",
          "text": [
            "\u001b[34m\u001b[1mwandb\u001b[0m: Sweep Agent: Waiting for job.\n",
            "\u001b[34m\u001b[1mwandb\u001b[0m: Job received.\n",
            "\u001b[34m\u001b[1mwandb\u001b[0m: Agent Starting Run: 09knupyz with config:\n",
            "\u001b[34m\u001b[1mwandb\u001b[0m: \tbatch_size: 64\n",
            "\u001b[34m\u001b[1mwandb\u001b[0m: \tcell_type: LSTM\n",
            "\u001b[34m\u001b[1mwandb\u001b[0m: \tdropout: 0.3\n",
            "\u001b[34m\u001b[1mwandb\u001b[0m: \tepochs: 20\n",
            "\u001b[34m\u001b[1mwandb\u001b[0m: \thidden: 64\n",
            "\u001b[34m\u001b[1mwandb\u001b[0m: \tlatentDim: 256\n",
            "\u001b[34m\u001b[1mwandb\u001b[0m: \tnumDecoders: 3\n",
            "\u001b[34m\u001b[1mwandb\u001b[0m: \tnumEncoders: 1\n",
            "\u001b[34m\u001b[1mwandb\u001b[0m: \toptimiser: adam\n",
            "\u001b[34m\u001b[1mwandb\u001b[0m: \u001b[33mWARNING\u001b[0m Ignored wandb.init() arg project when running a sweep.\n"
          ]
        },
        {
          "output_type": "display_data",
          "data": {
            "text/plain": [
              "<IPython.core.display.HTML object>"
            ],
            "text/html": [
              "Tracking run with wandb version 0.12.16"
            ]
          },
          "metadata": {}
        },
        {
          "output_type": "display_data",
          "data": {
            "text/plain": [
              "<IPython.core.display.HTML object>"
            ],
            "text/html": [
              "Run data is saved locally in <code>/content/wandb/run-20220513_121755-09knupyz</code>"
            ]
          },
          "metadata": {}
        },
        {
          "output_type": "display_data",
          "data": {
            "text/plain": [
              "<IPython.core.display.HTML object>"
            ],
            "text/html": [
              "Syncing run <strong><a href=\"https://wandb.ai/muk465/CS6910-Assignment-3_attn/runs/09knupyz\" target=\"_blank\">youthful-sweep-8</a></strong> to <a href=\"https://wandb.ai/muk465/CS6910-Assignment-3_attn\" target=\"_blank\">Weights & Biases</a> (<a href=\"https://wandb.me/run\" target=\"_blank\">docs</a>)<br/>Sweep page:  <a href=\"https://wandb.ai/muk465/CS6910-Assignment-3_attn/sweeps/wo9l1m7l\" target=\"_blank\">https://wandb.ai/muk465/CS6910-Assignment-3_attn/sweeps/wo9l1m7l</a>"
            ]
          },
          "metadata": {}
        },
        {
          "output_type": "stream",
          "name": "stdout",
          "text": [
            "Model: \"model\"\n",
            "__________________________________________________________________________________________________\n",
            " Layer (type)                   Output Shape         Param #     Connected to                     \n",
            "==================================================================================================\n",
            " input_1 (InputLayer)           [(None, None, 27)]   0           []                               \n",
            "                                                                                                  \n",
            " input_2 (InputLayer)           [(None, None, 66)]   0           []                               \n",
            "                                                                                                  \n",
            " lstm (LSTM)                    [(None, None, 256),  290816      ['input_1[0][0]']                \n",
            "                                 (None, 256),                                                     \n",
            "                                 (None, 256)]                                                     \n",
            "                                                                                                  \n",
            " lstm_1 (LSTM)                  [(None, None, 256),  330752      ['input_2[0][0]',                \n",
            "                                 (None, 256),                     'lstm[0][1]',                   \n",
            "                                 (None, 256)]                     'lstm[0][2]']                   \n",
            "                                                                                                  \n",
            " lstm_2 (LSTM)                  [(None, None, 256),  525312      ['lstm_1[0][0]',                 \n",
            "                                 (None, 256),                     'lstm[0][1]',                   \n",
            "                                 (None, 256)]                     'lstm[0][2]']                   \n",
            "                                                                                                  \n",
            " lstm_3 (LSTM)                  [(None, None, 256),  525312      ['lstm_2[0][0]',                 \n",
            "                                 (None, 256),                     'lstm[0][1]',                   \n",
            "                                 (None, 256)]                     'lstm[0][2]']                   \n",
            "                                                                                                  \n",
            " additive_attention (AdditiveAt  (None, None, 256)   256         ['lstm_3[0][0]',                 \n",
            " tention)                                                         'lstm[0][0]']                   \n",
            "                                                                                                  \n",
            " concat_layer (Concatenate)     (None, None, 512)    0           ['lstm_3[0][0]',                 \n",
            "                                                                  'additive_attention[0][0]']     \n",
            "                                                                                                  \n",
            " dense (Dense)                  (None, None, 64)     32832       ['concat_layer[0][0]']           \n",
            "                                                                                                  \n",
            " dense_1 (Dense)                (None, None, 66)     4290        ['dense[0][0]']                  \n",
            "                                                                                                  \n",
            "==================================================================================================\n",
            "Total params: 1,709,570\n",
            "Trainable params: 1,709,570\n",
            "Non-trainable params: 0\n",
            "__________________________________________________________________________________________________\n",
            "Epoch 1/20\n",
            "691/691 [==============================] - 19s 20ms/step - loss: 1.1158 - accuracy: 0.7140 - val_loss: 1.7250 - val_accuracy: 0.6391 - _timestamp: 1652444301.0000 - _runtime: 26.0000\n",
            "Epoch 2/20\n",
            "691/691 [==============================] - 12s 18ms/step - loss: 0.8476 - accuracy: 0.7624 - val_loss: 1.8312 - val_accuracy: 0.6502 - _timestamp: 1652444314.0000 - _runtime: 39.0000\n",
            "Epoch 3/20\n",
            "691/691 [==============================] - 12s 18ms/step - loss: 0.7434 - accuracy: 0.7893 - val_loss: 1.7431 - val_accuracy: 0.6656 - _timestamp: 1652444326.0000 - _runtime: 51.0000\n",
            "Epoch 4/20\n",
            "691/691 [==============================] - 12s 17ms/step - loss: 0.6632 - accuracy: 0.8103 - val_loss: 1.8742 - val_accuracy: 0.6639 - _timestamp: 1652444338.0000 - _runtime: 63.0000\n",
            "Epoch 5/20\n",
            "691/691 [==============================] - 12s 17ms/step - loss: 0.6093 - accuracy: 0.8247 - val_loss: 1.8834 - val_accuracy: 0.6756 - _timestamp: 1652444350.0000 - _runtime: 75.0000\n",
            "Epoch 6/20\n",
            "691/691 [==============================] - 12s 17ms/step - loss: 0.5707 - accuracy: 0.8352 - val_loss: 1.8888 - val_accuracy: 0.6893 - _timestamp: 1652444362.0000 - _runtime: 87.0000\n",
            "Epoch 7/20\n",
            "691/691 [==============================] - 12s 17ms/step - loss: 0.5399 - accuracy: 0.8432 - val_loss: 1.9020 - val_accuracy: 0.6942 - _timestamp: 1652444374.0000 - _runtime: 99.0000\n",
            "Epoch 8/20\n",
            "691/691 [==============================] - 12s 17ms/step - loss: 0.5150 - accuracy: 0.8501 - val_loss: 2.0078 - val_accuracy: 0.6863 - _timestamp: 1652444386.0000 - _runtime: 111.0000\n",
            "Epoch 9/20\n",
            "691/691 [==============================] - 12s 17ms/step - loss: 0.4948 - accuracy: 0.8551 - val_loss: 2.0175 - val_accuracy: 0.6952 - _timestamp: 1652444398.0000 - _runtime: 123.0000\n",
            "Epoch 10/20\n",
            "691/691 [==============================] - 12s 17ms/step - loss: 0.4779 - accuracy: 0.8595 - val_loss: 2.0092 - val_accuracy: 0.6938 - _timestamp: 1652444410.0000 - _runtime: 135.0000\n",
            "Epoch 11/20\n",
            "691/691 [==============================] - 12s 17ms/step - loss: 0.4633 - accuracy: 0.8635 - val_loss: 2.0852 - val_accuracy: 0.6923 - _timestamp: 1652444422.0000 - _runtime: 147.0000\n",
            "Epoch 11: early stopping\n"
          ]
        },
        {
          "output_type": "stream",
          "name": "stderr",
          "text": [
            "WARNING:absl:Found untraced functions such as lstm_cell_layer_call_fn, lstm_cell_layer_call_and_return_conditional_losses, lstm_cell_1_layer_call_fn, lstm_cell_1_layer_call_and_return_conditional_losses, lstm_cell_2_layer_call_fn while saving (showing 5 of 8). These functions will not be directly callable after loading.\n"
          ]
        },
        {
          "output_type": "stream",
          "name": "stdout",
          "text": [
            "INFO:tensorflow:Assets written to: ./TrainedModels/LSTMeng1_hi_3_adam_20_0.3_64_256/assets\n"
          ]
        },
        {
          "output_type": "stream",
          "name": "stderr",
          "text": [
            "INFO:tensorflow:Assets written to: ./TrainedModels/LSTMeng1_hi_3_adam_20_0.3_64_256/assets\n",
            "WARNING:absl:<keras.layers.recurrent.LSTMCell object at 0x7fe62154d450> has the same name 'LSTMCell' as a built-in Keras object. Consider renaming <class 'keras.layers.recurrent.LSTMCell'> to avoid naming conflicts when loading with `tf.keras.models.load_model`. If renaming is not possible, pass the object in the `custom_objects` parameter of the load function.\n",
            "WARNING:absl:<keras.layers.recurrent.LSTMCell object at 0x7fe5e7c10210> has the same name 'LSTMCell' as a built-in Keras object. Consider renaming <class 'keras.layers.recurrent.LSTMCell'> to avoid naming conflicts when loading with `tf.keras.models.load_model`. If renaming is not possible, pass the object in the `custom_objects` parameter of the load function.\n",
            "WARNING:absl:<keras.layers.recurrent.LSTMCell object at 0x7fe621f8d250> has the same name 'LSTMCell' as a built-in Keras object. Consider renaming <class 'keras.layers.recurrent.LSTMCell'> to avoid naming conflicts when loading with `tf.keras.models.load_model`. If renaming is not possible, pass the object in the `custom_objects` parameter of the load function.\n",
            "WARNING:absl:<keras.layers.recurrent.LSTMCell object at 0x7fe6a4e6cb50> has the same name 'LSTMCell' as a built-in Keras object. Consider renaming <class 'keras.layers.recurrent.LSTMCell'> to avoid naming conflicts when loading with `tf.keras.models.load_model`. If renaming is not possible, pass the object in the `custom_objects` parameter of the load function.\n"
          ]
        },
        {
          "output_type": "display_data",
          "data": {
            "text/plain": [
              "<IPython.core.display.HTML object>"
            ],
            "text/html": [
              "Waiting for W&B process to finish... <strong style=\"color:green\">(success).</strong>"
            ]
          },
          "metadata": {}
        },
        {
          "output_type": "display_data",
          "data": {
            "text/plain": [
              "VBox(children=(Label(value='19.649 MB of 19.649 MB uploaded (0.000 MB deduped)\\r'), FloatProgress(value=1.0, m…"
            ],
            "application/vnd.jupyter.widget-view+json": {
              "version_major": 2,
              "version_minor": 0,
              "model_id": "a52b20da44f94bd69b2acf32e11ad073"
            }
          },
          "metadata": {}
        },
        {
          "output_type": "display_data",
          "data": {
            "text/plain": [
              "<IPython.core.display.HTML object>"
            ],
            "text/html": [
              "<style>\n",
              "    table.wandb td:nth-child(1) { padding: 0 10px; text-align: left ; width: auto;} td:nth-child(2) {text-align: left ; width: 100%}\n",
              "    .wandb-row { display: flex; flex-direction: row; flex-wrap: wrap; justify-content: flex-start; width: 100% }\n",
              "    .wandb-col { display: flex; flex-direction: column; flex-basis: 100%; flex: 1; padding: 10px; }\n",
              "    </style>\n",
              "<div class=\"wandb-row\"><div class=\"wandb-col\"><h3>Run history:</h3><br/><table class=\"wandb\"><tr><td>accuracy</td><td>▁▃▅▆▆▇▇▇███</td></tr><tr><td>epoch</td><td>▁▂▂▃▄▅▅▆▇▇█</td></tr><tr><td>loss</td><td>█▅▄▃▃▂▂▂▁▁▁</td></tr><tr><td>val_accuracy</td><td>▁▂▄▄▆▇█▇███</td></tr><tr><td>val_loss</td><td>▁▃▁▄▄▄▄▆▇▇█</td></tr></table><br/></div><div class=\"wandb-col\"><h3>Run summary:</h3><br/><table class=\"wandb\"><tr><td>accuracy</td><td>0.86353</td></tr><tr><td>best_epoch</td><td>0</td></tr><tr><td>best_val_loss</td><td>1.72501</td></tr><tr><td>epoch</td><td>10</td></tr><tr><td>loss</td><td>0.46334</td></tr><tr><td>val_accuracy</td><td>0.69229</td></tr><tr><td>val_loss</td><td>2.08524</td></tr></table><br/></div></div>"
            ]
          },
          "metadata": {}
        },
        {
          "output_type": "display_data",
          "data": {
            "text/plain": [
              "<IPython.core.display.HTML object>"
            ],
            "text/html": [
              "Synced <strong style=\"color:#cdcd00\">youthful-sweep-8</strong>: <a href=\"https://wandb.ai/muk465/CS6910-Assignment-3_attn/runs/09knupyz\" target=\"_blank\">https://wandb.ai/muk465/CS6910-Assignment-3_attn/runs/09knupyz</a><br/>Synced 5 W&B file(s), 1 media file(s), 0 artifact file(s) and 1 other file(s)"
            ]
          },
          "metadata": {}
        },
        {
          "output_type": "display_data",
          "data": {
            "text/plain": [
              "<IPython.core.display.HTML object>"
            ],
            "text/html": [
              "Find logs at: <code>./wandb/run-20220513_121755-09knupyz/logs</code>"
            ]
          },
          "metadata": {}
        },
        {
          "output_type": "stream",
          "name": "stderr",
          "text": [
            "\u001b[34m\u001b[1mwandb\u001b[0m: Agent Starting Run: qfh787ry with config:\n",
            "\u001b[34m\u001b[1mwandb\u001b[0m: \tbatch_size: 32\n",
            "\u001b[34m\u001b[1mwandb\u001b[0m: \tcell_type: LSTM\n",
            "\u001b[34m\u001b[1mwandb\u001b[0m: \tdropout: 0.3\n",
            "\u001b[34m\u001b[1mwandb\u001b[0m: \tepochs: 20\n",
            "\u001b[34m\u001b[1mwandb\u001b[0m: \thidden: 64\n",
            "\u001b[34m\u001b[1mwandb\u001b[0m: \tlatentDim: 256\n",
            "\u001b[34m\u001b[1mwandb\u001b[0m: \tnumDecoders: 2\n",
            "\u001b[34m\u001b[1mwandb\u001b[0m: \tnumEncoders: 2\n",
            "\u001b[34m\u001b[1mwandb\u001b[0m: \toptimiser: adam\n",
            "\u001b[34m\u001b[1mwandb\u001b[0m: \u001b[33mWARNING\u001b[0m Ignored wandb.init() arg project when running a sweep.\n"
          ]
        },
        {
          "output_type": "display_data",
          "data": {
            "text/plain": [
              "<IPython.core.display.HTML object>"
            ],
            "text/html": [
              "Tracking run with wandb version 0.12.16"
            ]
          },
          "metadata": {}
        },
        {
          "output_type": "display_data",
          "data": {
            "text/plain": [
              "<IPython.core.display.HTML object>"
            ],
            "text/html": [
              "Run data is saved locally in <code>/content/wandb/run-20220513_122055-qfh787ry</code>"
            ]
          },
          "metadata": {}
        },
        {
          "output_type": "display_data",
          "data": {
            "text/plain": [
              "<IPython.core.display.HTML object>"
            ],
            "text/html": [
              "Syncing run <strong><a href=\"https://wandb.ai/muk465/CS6910-Assignment-3_attn/runs/qfh787ry\" target=\"_blank\">fast-sweep-9</a></strong> to <a href=\"https://wandb.ai/muk465/CS6910-Assignment-3_attn\" target=\"_blank\">Weights & Biases</a> (<a href=\"https://wandb.me/run\" target=\"_blank\">docs</a>)<br/>Sweep page:  <a href=\"https://wandb.ai/muk465/CS6910-Assignment-3_attn/sweeps/wo9l1m7l\" target=\"_blank\">https://wandb.ai/muk465/CS6910-Assignment-3_attn/sweeps/wo9l1m7l</a>"
            ]
          },
          "metadata": {}
        },
        {
          "output_type": "stream",
          "name": "stdout",
          "text": [
            "Model: \"model\"\n",
            "__________________________________________________________________________________________________\n",
            " Layer (type)                   Output Shape         Param #     Connected to                     \n",
            "==================================================================================================\n",
            " input_1 (InputLayer)           [(None, None, 27)]   0           []                               \n",
            "                                                                                                  \n",
            " lstm (LSTM)                    [(None, None, 256),  290816      ['input_1[0][0]']                \n",
            "                                 (None, 256),                                                     \n",
            "                                 (None, 256)]                                                     \n",
            "                                                                                                  \n",
            " input_2 (InputLayer)           [(None, None, 66)]   0           []                               \n",
            "                                                                                                  \n",
            " lstm_1 (LSTM)                  [(None, None, 256),  525312      ['lstm[0][0]']                   \n",
            "                                 (None, 256),                                                     \n",
            "                                 (None, 256)]                                                     \n",
            "                                                                                                  \n",
            " lstm_2 (LSTM)                  [(None, None, 256),  330752      ['input_2[0][0]',                \n",
            "                                 (None, 256),                     'lstm_1[0][1]',                 \n",
            "                                 (None, 256)]                     'lstm_1[0][2]']                 \n",
            "                                                                                                  \n",
            " lstm_3 (LSTM)                  [(None, None, 256),  525312      ['lstm_2[0][0]',                 \n",
            "                                 (None, 256),                     'lstm_1[0][1]',                 \n",
            "                                 (None, 256)]                     'lstm_1[0][2]']                 \n",
            "                                                                                                  \n",
            " additive_attention (AdditiveAt  (None, None, 256)   256         ['lstm_3[0][0]',                 \n",
            " tention)                                                         'lstm[0][0]']                   \n",
            "                                                                                                  \n",
            " concat_layer (Concatenate)     (None, None, 512)    0           ['lstm_3[0][0]',                 \n",
            "                                                                  'additive_attention[0][0]']     \n",
            "                                                                                                  \n",
            " dense (Dense)                  (None, None, 64)     32832       ['concat_layer[0][0]']           \n",
            "                                                                                                  \n",
            " dense_1 (Dense)                (None, None, 66)     4290        ['dense[0][0]']                  \n",
            "                                                                                                  \n",
            "==================================================================================================\n",
            "Total params: 1,709,570\n",
            "Trainable params: 1,709,570\n",
            "Non-trainable params: 0\n",
            "__________________________________________________________________________________________________\n",
            "Epoch 1/20\n",
            "1382/1382 [==============================] - 29s 17ms/step - loss: 1.0071 - accuracy: 0.7345 - val_loss: 1.6471 - val_accuracy: 0.6589 - _timestamp: 1652444491.0000 - _runtime: 36.0000\n",
            "Epoch 2/20\n",
            "1382/1382 [==============================] - 21s 15ms/step - loss: 0.7319 - accuracy: 0.7938 - val_loss: 1.7138 - val_accuracy: 0.6828 - _timestamp: 1652444513.0000 - _runtime: 58.0000\n",
            "Epoch 3/20\n",
            "1382/1382 [==============================] - 21s 15ms/step - loss: 0.6245 - accuracy: 0.8207 - val_loss: 1.8027 - val_accuracy: 0.6901 - _timestamp: 1652444534.0000 - _runtime: 79.0000\n",
            "Epoch 4/20\n",
            "1382/1382 [==============================] - 21s 15ms/step - loss: 0.5669 - accuracy: 0.8362 - val_loss: 1.9541 - val_accuracy: 0.6915 - _timestamp: 1652444555.0000 - _runtime: 100.0000\n",
            "Epoch 5/20\n",
            "1382/1382 [==============================] - 21s 15ms/step - loss: 0.5276 - accuracy: 0.8467 - val_loss: 1.9542 - val_accuracy: 0.6990 - _timestamp: 1652444576.0000 - _runtime: 121.0000\n",
            "Epoch 6/20\n",
            "1382/1382 [==============================] - 22s 16ms/step - loss: 0.4982 - accuracy: 0.8544 - val_loss: 1.9942 - val_accuracy: 0.7034 - _timestamp: 1652444598.0000 - _runtime: 143.0000\n",
            "Epoch 7/20\n",
            "1382/1382 [==============================] - 22s 16ms/step - loss: 0.4739 - accuracy: 0.8606 - val_loss: 1.9281 - val_accuracy: 0.7090 - _timestamp: 1652444619.0000 - _runtime: 164.0000\n",
            "Epoch 8/20\n",
            "1382/1382 [==============================] - 21s 15ms/step - loss: 0.4574 - accuracy: 0.8650 - val_loss: 2.0009 - val_accuracy: 0.7032 - _timestamp: 1652444641.0000 - _runtime: 186.0000\n",
            "Epoch 9/20\n",
            "1382/1382 [==============================] - 21s 15ms/step - loss: 0.4408 - accuracy: 0.8697 - val_loss: 1.9423 - val_accuracy: 0.7173 - _timestamp: 1652444662.0000 - _runtime: 207.0000\n",
            "Epoch 10/20\n",
            "1382/1382 [==============================] - 21s 15ms/step - loss: 0.4289 - accuracy: 0.8724 - val_loss: 1.9776 - val_accuracy: 0.7146 - _timestamp: 1652444683.0000 - _runtime: 228.0000\n",
            "Epoch 11/20\n",
            "1382/1382 [==============================] - 21s 15ms/step - loss: 0.4176 - accuracy: 0.8753 - val_loss: 1.9812 - val_accuracy: 0.7107 - _timestamp: 1652444705.0000 - _runtime: 250.0000\n",
            "Epoch 12/20\n",
            "1382/1382 [==============================] - 22s 16ms/step - loss: 0.4054 - accuracy: 0.8787 - val_loss: 1.9475 - val_accuracy: 0.7146 - _timestamp: 1652444726.0000 - _runtime: 271.0000\n",
            "Epoch 13/20\n",
            "1382/1382 [==============================] - 22s 16ms/step - loss: 0.3982 - accuracy: 0.8806 - val_loss: 2.0347 - val_accuracy: 0.7153 - _timestamp: 1652444748.0000 - _runtime: 293.0000\n",
            "Epoch 14/20\n",
            "1382/1382 [==============================] - 21s 15ms/step - loss: 0.3899 - accuracy: 0.8830 - val_loss: 1.9860 - val_accuracy: 0.7177 - _timestamp: 1652444769.0000 - _runtime: 314.0000\n",
            "Epoch 14: early stopping\n"
          ]
        },
        {
          "output_type": "stream",
          "name": "stderr",
          "text": [
            "WARNING:absl:Found untraced functions such as lstm_cell_layer_call_fn, lstm_cell_layer_call_and_return_conditional_losses, lstm_cell_1_layer_call_fn, lstm_cell_1_layer_call_and_return_conditional_losses, lstm_cell_2_layer_call_fn while saving (showing 5 of 8). These functions will not be directly callable after loading.\n"
          ]
        },
        {
          "output_type": "stream",
          "name": "stdout",
          "text": [
            "INFO:tensorflow:Assets written to: ./TrainedModels/LSTMeng2_hi_2_adam_20_0.3_32_256/assets\n"
          ]
        },
        {
          "output_type": "stream",
          "name": "stderr",
          "text": [
            "INFO:tensorflow:Assets written to: ./TrainedModels/LSTMeng2_hi_2_adam_20_0.3_32_256/assets\n",
            "WARNING:absl:<keras.layers.recurrent.LSTMCell object at 0x7fe6a50dfb90> has the same name 'LSTMCell' as a built-in Keras object. Consider renaming <class 'keras.layers.recurrent.LSTMCell'> to avoid naming conflicts when loading with `tf.keras.models.load_model`. If renaming is not possible, pass the object in the `custom_objects` parameter of the load function.\n",
            "WARNING:absl:<keras.layers.recurrent.LSTMCell object at 0x7fe5e7a75150> has the same name 'LSTMCell' as a built-in Keras object. Consider renaming <class 'keras.layers.recurrent.LSTMCell'> to avoid naming conflicts when loading with `tf.keras.models.load_model`. If renaming is not possible, pass the object in the `custom_objects` parameter of the load function.\n",
            "WARNING:absl:<keras.layers.recurrent.LSTMCell object at 0x7fe61e184910> has the same name 'LSTMCell' as a built-in Keras object. Consider renaming <class 'keras.layers.recurrent.LSTMCell'> to avoid naming conflicts when loading with `tf.keras.models.load_model`. If renaming is not possible, pass the object in the `custom_objects` parameter of the load function.\n",
            "WARNING:absl:<keras.layers.recurrent.LSTMCell object at 0x7fe621f0d990> has the same name 'LSTMCell' as a built-in Keras object. Consider renaming <class 'keras.layers.recurrent.LSTMCell'> to avoid naming conflicts when loading with `tf.keras.models.load_model`. If renaming is not possible, pass the object in the `custom_objects` parameter of the load function.\n"
          ]
        },
        {
          "output_type": "display_data",
          "data": {
            "text/plain": [
              "<IPython.core.display.HTML object>"
            ],
            "text/html": [
              "Waiting for W&B process to finish... <strong style=\"color:green\">(success).</strong>"
            ]
          },
          "metadata": {}
        },
        {
          "output_type": "display_data",
          "data": {
            "text/plain": [
              "VBox(children=(Label(value='19.649 MB of 19.649 MB uploaded (0.000 MB deduped)\\r'), FloatProgress(value=1.0, m…"
            ],
            "application/vnd.jupyter.widget-view+json": {
              "version_major": 2,
              "version_minor": 0,
              "model_id": "6a9ee95be4b74a289034e5efdbf8d4b8"
            }
          },
          "metadata": {}
        },
        {
          "output_type": "display_data",
          "data": {
            "text/plain": [
              "<IPython.core.display.HTML object>"
            ],
            "text/html": [
              "<style>\n",
              "    table.wandb td:nth-child(1) { padding: 0 10px; text-align: left ; width: auto;} td:nth-child(2) {text-align: left ; width: 100%}\n",
              "    .wandb-row { display: flex; flex-direction: row; flex-wrap: wrap; justify-content: flex-start; width: 100% }\n",
              "    .wandb-col { display: flex; flex-direction: column; flex-basis: 100%; flex: 1; padding: 10px; }\n",
              "    </style>\n",
              "<div class=\"wandb-row\"><div class=\"wandb-col\"><h3>Run history:</h3><br/><table class=\"wandb\"><tr><td>accuracy</td><td>▁▄▅▆▆▇▇▇▇█████</td></tr><tr><td>epoch</td><td>▁▂▂▃▃▄▄▅▅▆▆▇▇█</td></tr><tr><td>loss</td><td>█▅▄▃▃▂▂▂▂▁▁▁▁▁</td></tr><tr><td>val_accuracy</td><td>▁▄▅▅▆▆▇▆██▇███</td></tr><tr><td>val_loss</td><td>▁▂▄▇▇▇▆▇▆▇▇▆█▇</td></tr></table><br/></div><div class=\"wandb-col\"><h3>Run summary:</h3><br/><table class=\"wandb\"><tr><td>accuracy</td><td>0.88302</td></tr><tr><td>best_epoch</td><td>0</td></tr><tr><td>best_val_loss</td><td>1.64712</td></tr><tr><td>epoch</td><td>13</td></tr><tr><td>loss</td><td>0.38993</td></tr><tr><td>val_accuracy</td><td>0.71769</td></tr><tr><td>val_loss</td><td>1.986</td></tr></table><br/></div></div>"
            ]
          },
          "metadata": {}
        },
        {
          "output_type": "display_data",
          "data": {
            "text/plain": [
              "<IPython.core.display.HTML object>"
            ],
            "text/html": [
              "Synced <strong style=\"color:#cdcd00\">fast-sweep-9</strong>: <a href=\"https://wandb.ai/muk465/CS6910-Assignment-3_attn/runs/qfh787ry\" target=\"_blank\">https://wandb.ai/muk465/CS6910-Assignment-3_attn/runs/qfh787ry</a><br/>Synced 5 W&B file(s), 1 media file(s), 0 artifact file(s) and 1 other file(s)"
            ]
          },
          "metadata": {}
        },
        {
          "output_type": "display_data",
          "data": {
            "text/plain": [
              "<IPython.core.display.HTML object>"
            ],
            "text/html": [
              "Find logs at: <code>./wandb/run-20220513_122055-qfh787ry/logs</code>"
            ]
          },
          "metadata": {}
        },
        {
          "output_type": "stream",
          "name": "stderr",
          "text": [
            "\u001b[34m\u001b[1mwandb\u001b[0m: Sweep Agent: Waiting for job.\n",
            "\u001b[34m\u001b[1mwandb\u001b[0m: Job received.\n",
            "\u001b[34m\u001b[1mwandb\u001b[0m: Agent Starting Run: mhu8btwp with config:\n",
            "\u001b[34m\u001b[1mwandb\u001b[0m: \tbatch_size: 32\n",
            "\u001b[34m\u001b[1mwandb\u001b[0m: \tcell_type: GRU\n",
            "\u001b[34m\u001b[1mwandb\u001b[0m: \tdropout: 0.3\n",
            "\u001b[34m\u001b[1mwandb\u001b[0m: \tepochs: 15\n",
            "\u001b[34m\u001b[1mwandb\u001b[0m: \thidden: 64\n",
            "\u001b[34m\u001b[1mwandb\u001b[0m: \tlatentDim: 256\n",
            "\u001b[34m\u001b[1mwandb\u001b[0m: \tnumDecoders: 2\n",
            "\u001b[34m\u001b[1mwandb\u001b[0m: \tnumEncoders: 1\n",
            "\u001b[34m\u001b[1mwandb\u001b[0m: \toptimiser: adam\n",
            "\u001b[34m\u001b[1mwandb\u001b[0m: \u001b[33mWARNING\u001b[0m Ignored wandb.init() arg project when running a sweep.\n"
          ]
        },
        {
          "output_type": "display_data",
          "data": {
            "text/plain": [
              "<IPython.core.display.HTML object>"
            ],
            "text/html": [
              "Tracking run with wandb version 0.12.16"
            ]
          },
          "metadata": {}
        },
        {
          "output_type": "display_data",
          "data": {
            "text/plain": [
              "<IPython.core.display.HTML object>"
            ],
            "text/html": [
              "Run data is saved locally in <code>/content/wandb/run-20220513_122643-mhu8btwp</code>"
            ]
          },
          "metadata": {}
        },
        {
          "output_type": "display_data",
          "data": {
            "text/plain": [
              "<IPython.core.display.HTML object>"
            ],
            "text/html": [
              "Syncing run <strong><a href=\"https://wandb.ai/muk465/CS6910-Assignment-3_attn/runs/mhu8btwp\" target=\"_blank\">vital-sweep-10</a></strong> to <a href=\"https://wandb.ai/muk465/CS6910-Assignment-3_attn\" target=\"_blank\">Weights & Biases</a> (<a href=\"https://wandb.me/run\" target=\"_blank\">docs</a>)<br/>Sweep page:  <a href=\"https://wandb.ai/muk465/CS6910-Assignment-3_attn/sweeps/wo9l1m7l\" target=\"_blank\">https://wandb.ai/muk465/CS6910-Assignment-3_attn/sweeps/wo9l1m7l</a>"
            ]
          },
          "metadata": {}
        },
        {
          "output_type": "stream",
          "name": "stdout",
          "text": [
            "Model: \"model\"\n",
            "__________________________________________________________________________________________________\n",
            " Layer (type)                   Output Shape         Param #     Connected to                     \n",
            "==================================================================================================\n",
            " input_1 (InputLayer)           [(None, None, 27)]   0           []                               \n",
            "                                                                                                  \n",
            " input_2 (InputLayer)           [(None, None, 66)]   0           []                               \n",
            "                                                                                                  \n",
            " gru (GRU)                      [(None, None, 256),  218880      ['input_1[0][0]']                \n",
            "                                 (None, 256)]                                                     \n",
            "                                                                                                  \n",
            " gru_2 (GRU)                    [(None, None, 256),  248832      ['input_2[0][0]',                \n",
            "                                 (None, 256)]                     'gru[0][1]']                    \n",
            "                                                                                                  \n",
            " additive_attention (AdditiveAt  (None, None, 256)   256         ['gru_2[0][0]',                  \n",
            " tention)                                                         'gru[0][0]']                    \n",
            "                                                                                                  \n",
            " concat_layer (Concatenate)     (None, None, 512)    0           ['gru_2[0][0]',                  \n",
            "                                                                  'additive_attention[0][0]']     \n",
            "                                                                                                  \n",
            " dense (Dense)                  (None, None, 64)     32832       ['concat_layer[0][0]']           \n",
            "                                                                                                  \n",
            " dense_1 (Dense)                (None, None, 66)     4290        ['dense[0][0]']                  \n",
            "                                                                                                  \n",
            "==================================================================================================\n",
            "Total params: 505,090\n",
            "Trainable params: 505,090\n",
            "Non-trainable params: 0\n",
            "__________________________________________________________________________________________________\n",
            "Epoch 1/15\n",
            "1382/1382 [==============================] - 17s 10ms/step - loss: 0.9518 - accuracy: 0.7489 - val_loss: 1.5117 - val_accuracy: 0.6884 - _timestamp: 1652444828.0000 - _runtime: 25.0000\n",
            "Epoch 2/15\n",
            "1382/1382 [==============================] - 13s 10ms/step - loss: 0.6220 - accuracy: 0.8230 - val_loss: 1.5807 - val_accuracy: 0.7160 - _timestamp: 1652444841.0000 - _runtime: 38.0000\n",
            "Epoch 3/15\n",
            "1382/1382 [==============================] - 13s 10ms/step - loss: 0.5339 - accuracy: 0.8447 - val_loss: 1.5801 - val_accuracy: 0.7188 - _timestamp: 1652444855.0000 - _runtime: 52.0000\n",
            "Epoch 4/15\n",
            "1382/1382 [==============================] - 13s 10ms/step - loss: 0.4909 - accuracy: 0.8551 - val_loss: 1.5485 - val_accuracy: 0.7279 - _timestamp: 1652444868.0000 - _runtime: 65.0000\n",
            "Epoch 5/15\n",
            "1382/1382 [==============================] - 13s 10ms/step - loss: 0.4646 - accuracy: 0.8622 - val_loss: 1.6189 - val_accuracy: 0.7237 - _timestamp: 1652444881.0000 - _runtime: 78.0000\n",
            "Epoch 6/15\n",
            "1382/1382 [==============================] - 13s 10ms/step - loss: 0.4478 - accuracy: 0.8665 - val_loss: 1.6320 - val_accuracy: 0.7266 - _timestamp: 1652444895.0000 - _runtime: 92.0000\n",
            "Epoch 7/15\n",
            "1382/1382 [==============================] - 13s 10ms/step - loss: 0.4307 - accuracy: 0.8710 - val_loss: 1.6188 - val_accuracy: 0.7286 - _timestamp: 1652444908.0000 - _runtime: 105.0000\n",
            "Epoch 8/15\n",
            "1382/1382 [==============================] - 14s 10ms/step - loss: 0.4200 - accuracy: 0.8740 - val_loss: 1.5141 - val_accuracy: 0.7412 - _timestamp: 1652444922.0000 - _runtime: 119.0000\n",
            "Epoch 9/15\n",
            "1382/1382 [==============================] - 13s 10ms/step - loss: 0.4102 - accuracy: 0.8762 - val_loss: 1.6009 - val_accuracy: 0.7396 - _timestamp: 1652444935.0000 - _runtime: 132.0000\n",
            "Epoch 10/15\n",
            "1382/1382 [==============================] - 13s 10ms/step - loss: 0.4044 - accuracy: 0.8780 - val_loss: 1.5833 - val_accuracy: 0.7418 - _timestamp: 1652444948.0000 - _runtime: 145.0000\n",
            "Epoch 11/15\n",
            "1382/1382 [==============================] - 13s 10ms/step - loss: 0.3977 - accuracy: 0.8799 - val_loss: 1.6174 - val_accuracy: 0.7427 - _timestamp: 1652444961.0000 - _runtime: 158.0000\n",
            "Epoch 12/15\n",
            "1382/1382 [==============================] - 13s 10ms/step - loss: 0.3909 - accuracy: 0.8816 - val_loss: 1.6002 - val_accuracy: 0.7403 - _timestamp: 1652444975.0000 - _runtime: 172.0000\n",
            "Epoch 13/15\n",
            "1382/1382 [==============================] - 13s 10ms/step - loss: 0.3870 - accuracy: 0.8823 - val_loss: 1.4512 - val_accuracy: 0.7524 - _timestamp: 1652444988.0000 - _runtime: 185.0000\n",
            "Epoch 14/15\n",
            "1382/1382 [==============================] - 13s 10ms/step - loss: 0.3831 - accuracy: 0.8837 - val_loss: 1.5978 - val_accuracy: 0.7409 - _timestamp: 1652445001.0000 - _runtime: 198.0000\n",
            "Epoch 15/15\n",
            "1382/1382 [==============================] - 13s 10ms/step - loss: 0.3778 - accuracy: 0.8852 - val_loss: 1.5578 - val_accuracy: 0.7456 - _timestamp: 1652445014.0000 - _runtime: 211.0000\n"
          ]
        },
        {
          "output_type": "stream",
          "name": "stderr",
          "text": [
            "WARNING:absl:Found untraced functions such as gru_cell_layer_call_fn, gru_cell_layer_call_and_return_conditional_losses, gru_cell_2_layer_call_fn, gru_cell_2_layer_call_and_return_conditional_losses while saving (showing 4 of 4). These functions will not be directly callable after loading.\n"
          ]
        },
        {
          "output_type": "stream",
          "name": "stdout",
          "text": [
            "INFO:tensorflow:Assets written to: ./TrainedModels/GRUeng1_hi_2_adam_15_0.3_32_256/assets\n"
          ]
        },
        {
          "output_type": "stream",
          "name": "stderr",
          "text": [
            "INFO:tensorflow:Assets written to: ./TrainedModels/GRUeng1_hi_2_adam_15_0.3_32_256/assets\n",
            "WARNING:absl:<keras.layers.recurrent.GRUCell object at 0x7fe6262cb3d0> has the same name 'GRUCell' as a built-in Keras object. Consider renaming <class 'keras.layers.recurrent.GRUCell'> to avoid naming conflicts when loading with `tf.keras.models.load_model`. If renaming is not possible, pass the object in the `custom_objects` parameter of the load function.\n",
            "WARNING:absl:<keras.layers.recurrent.GRUCell object at 0x7fe6204656d0> has the same name 'GRUCell' as a built-in Keras object. Consider renaming <class 'keras.layers.recurrent.GRUCell'> to avoid naming conflicts when loading with `tf.keras.models.load_model`. If renaming is not possible, pass the object in the `custom_objects` parameter of the load function.\n"
          ]
        },
        {
          "output_type": "display_data",
          "data": {
            "text/plain": [
              "<IPython.core.display.HTML object>"
            ],
            "text/html": [
              "Waiting for W&B process to finish... <strong style=\"color:green\">(success).</strong>"
            ]
          },
          "metadata": {}
        },
        {
          "output_type": "display_data",
          "data": {
            "text/plain": [
              "VBox(children=(Label(value='5.840 MB of 5.840 MB uploaded (0.000 MB deduped)\\r'), FloatProgress(value=1.0, max…"
            ],
            "application/vnd.jupyter.widget-view+json": {
              "version_major": 2,
              "version_minor": 0,
              "model_id": "883581db572e463393af307495f9fdbc"
            }
          },
          "metadata": {}
        },
        {
          "output_type": "display_data",
          "data": {
            "text/plain": [
              "<IPython.core.display.HTML object>"
            ],
            "text/html": [
              "<style>\n",
              "    table.wandb td:nth-child(1) { padding: 0 10px; text-align: left ; width: auto;} td:nth-child(2) {text-align: left ; width: 100%}\n",
              "    .wandb-row { display: flex; flex-direction: row; flex-wrap: wrap; justify-content: flex-start; width: 100% }\n",
              "    .wandb-col { display: flex; flex-direction: column; flex-basis: 100%; flex: 1; padding: 10px; }\n",
              "    </style>\n",
              "<div class=\"wandb-row\"><div class=\"wandb-col\"><h3>Run history:</h3><br/><table class=\"wandb\"><tr><td>accuracy</td><td>▁▅▆▆▇▇▇▇███████</td></tr><tr><td>epoch</td><td>▁▁▂▃▃▃▄▅▅▅▆▇▇▇█</td></tr><tr><td>loss</td><td>█▄▃▂▂▂▂▂▁▁▁▁▁▁▁</td></tr><tr><td>val_accuracy</td><td>▁▄▄▅▅▅▅▇▇▇▇▇█▇▇</td></tr><tr><td>val_loss</td><td>▃▆▆▅▇█▇▃▇▆▇▇▁▇▅</td></tr></table><br/></div><div class=\"wandb-col\"><h3>Run summary:</h3><br/><table class=\"wandb\"><tr><td>accuracy</td><td>0.88525</td></tr><tr><td>best_epoch</td><td>12</td></tr><tr><td>best_val_loss</td><td>1.45122</td></tr><tr><td>epoch</td><td>14</td></tr><tr><td>loss</td><td>0.37776</td></tr><tr><td>val_accuracy</td><td>0.74557</td></tr><tr><td>val_loss</td><td>1.5578</td></tr></table><br/></div></div>"
            ]
          },
          "metadata": {}
        },
        {
          "output_type": "display_data",
          "data": {
            "text/plain": [
              "<IPython.core.display.HTML object>"
            ],
            "text/html": [
              "Synced <strong style=\"color:#cdcd00\">vital-sweep-10</strong>: <a href=\"https://wandb.ai/muk465/CS6910-Assignment-3_attn/runs/mhu8btwp\" target=\"_blank\">https://wandb.ai/muk465/CS6910-Assignment-3_attn/runs/mhu8btwp</a><br/>Synced 5 W&B file(s), 1 media file(s), 0 artifact file(s) and 1 other file(s)"
            ]
          },
          "metadata": {}
        },
        {
          "output_type": "display_data",
          "data": {
            "text/plain": [
              "<IPython.core.display.HTML object>"
            ],
            "text/html": [
              "Find logs at: <code>./wandb/run-20220513_122643-mhu8btwp/logs</code>"
            ]
          },
          "metadata": {}
        },
        {
          "output_type": "stream",
          "name": "stderr",
          "text": [
            "\u001b[34m\u001b[1mwandb\u001b[0m: Agent Starting Run: kn1t3d3s with config:\n",
            "\u001b[34m\u001b[1mwandb\u001b[0m: \tbatch_size: 32\n",
            "\u001b[34m\u001b[1mwandb\u001b[0m: \tcell_type: RNN\n",
            "\u001b[34m\u001b[1mwandb\u001b[0m: \tdropout: 0.3\n",
            "\u001b[34m\u001b[1mwandb\u001b[0m: \tepochs: 15\n",
            "\u001b[34m\u001b[1mwandb\u001b[0m: \thidden: 64\n",
            "\u001b[34m\u001b[1mwandb\u001b[0m: \tlatentDim: 256\n",
            "\u001b[34m\u001b[1mwandb\u001b[0m: \tnumDecoders: 2\n",
            "\u001b[34m\u001b[1mwandb\u001b[0m: \tnumEncoders: 2\n",
            "\u001b[34m\u001b[1mwandb\u001b[0m: \toptimiser: adam\n",
            "\u001b[34m\u001b[1mwandb\u001b[0m: \u001b[33mWARNING\u001b[0m Ignored wandb.init() arg project when running a sweep.\n"
          ]
        },
        {
          "output_type": "display_data",
          "data": {
            "text/plain": [
              "<IPython.core.display.HTML object>"
            ],
            "text/html": [
              "Tracking run with wandb version 0.12.16"
            ]
          },
          "metadata": {}
        },
        {
          "output_type": "display_data",
          "data": {
            "text/plain": [
              "<IPython.core.display.HTML object>"
            ],
            "text/html": [
              "Run data is saved locally in <code>/content/wandb/run-20220513_123035-kn1t3d3s</code>"
            ]
          },
          "metadata": {}
        },
        {
          "output_type": "display_data",
          "data": {
            "text/plain": [
              "<IPython.core.display.HTML object>"
            ],
            "text/html": [
              "Syncing run <strong><a href=\"https://wandb.ai/muk465/CS6910-Assignment-3_attn/runs/kn1t3d3s\" target=\"_blank\">worldly-sweep-11</a></strong> to <a href=\"https://wandb.ai/muk465/CS6910-Assignment-3_attn\" target=\"_blank\">Weights & Biases</a> (<a href=\"https://wandb.me/run\" target=\"_blank\">docs</a>)<br/>Sweep page:  <a href=\"https://wandb.ai/muk465/CS6910-Assignment-3_attn/sweeps/wo9l1m7l\" target=\"_blank\">https://wandb.ai/muk465/CS6910-Assignment-3_attn/sweeps/wo9l1m7l</a>"
            ]
          },
          "metadata": {}
        },
        {
          "output_type": "stream",
          "name": "stdout",
          "text": [
            "Model: \"model\"\n",
            "__________________________________________________________________________________________________\n",
            " Layer (type)                   Output Shape         Param #     Connected to                     \n",
            "==================================================================================================\n",
            " input_1 (InputLayer)           [(None, None, 27)]   0           []                               \n",
            "                                                                                                  \n",
            " input_2 (InputLayer)           [(None, None, 66)]   0           []                               \n",
            "                                                                                                  \n",
            " simple_rnn_1 (SimpleRNN)       [(None, None, 256),  72704       ['input_1[0][0]']                \n",
            "                                 (None, 256)]                                                     \n",
            "                                                                                                  \n",
            " simple_rnn_3 (SimpleRNN)       [(None, None, 256),  82688       ['input_2[0][0]',                \n",
            "                                 (None, 256)]                     'simple_rnn_1[0][1]']           \n",
            "                                                                                                  \n",
            " simple_rnn (SimpleRNN)         [(None, None, 256),  72704       ['input_1[0][0]']                \n",
            "                                 (None, 256)]                                                     \n",
            "                                                                                                  \n",
            " additive_attention (AdditiveAt  (None, None, 256)   256         ['simple_rnn_3[0][0]',           \n",
            " tention)                                                         'simple_rnn[0][0]']             \n",
            "                                                                                                  \n",
            " concat_layer (Concatenate)     (None, None, 512)    0           ['simple_rnn_3[0][0]',           \n",
            "                                                                  'additive_attention[0][0]']     \n",
            "                                                                                                  \n",
            " dense (Dense)                  (None, None, 64)     32832       ['concat_layer[0][0]']           \n",
            "                                                                                                  \n",
            " dense_1 (Dense)                (None, None, 66)     4290        ['dense[0][0]']                  \n",
            "                                                                                                  \n",
            "==================================================================================================\n",
            "Total params: 265,474\n",
            "Trainable params: 265,474\n",
            "Non-trainable params: 0\n",
            "__________________________________________________________________________________________________\n",
            "Epoch 1/15\n",
            "1382/1382 [==============================] - 76s 54ms/step - loss: 0.9039 - accuracy: 0.7620 - val_loss: 1.5675 - val_accuracy: 0.6921 - _timestamp: 1652445118.0000 - _runtime: 83.0000\n",
            "Epoch 2/15\n",
            "1382/1382 [==============================] - 73s 53ms/step - loss: 0.6178 - accuracy: 0.8243 - val_loss: 1.7014 - val_accuracy: 0.7024 - _timestamp: 1652445191.0000 - _runtime: 156.0000\n",
            "Epoch 3/15\n",
            "1382/1382 [==============================] - 74s 53ms/step - loss: 0.5621 - accuracy: 0.8381 - val_loss: 1.7903 - val_accuracy: 0.6987 - _timestamp: 1652445265.0000 - _runtime: 230.0000\n",
            "Epoch 4/15\n",
            "1382/1382 [==============================] - 73s 53ms/step - loss: 0.5352 - accuracy: 0.8447 - val_loss: 1.6352 - val_accuracy: 0.7167 - _timestamp: 1652445338.0000 - _runtime: 303.0000\n",
            "Epoch 5/15\n",
            "1382/1382 [==============================] - 74s 54ms/step - loss: 0.5142 - accuracy: 0.8500 - val_loss: 1.6980 - val_accuracy: 0.7237 - _timestamp: 1652445412.0000 - _runtime: 377.0000\n",
            "Epoch 6/15\n",
            "1382/1382 [==============================] - 75s 55ms/step - loss: 0.5021 - accuracy: 0.8528 - val_loss: 1.7406 - val_accuracy: 0.7218 - _timestamp: 1652445488.0000 - _runtime: 453.0000\n",
            "Epoch 7/15\n",
            "1382/1382 [==============================] - 74s 53ms/step - loss: 0.4910 - accuracy: 0.8561 - val_loss: 1.7784 - val_accuracy: 0.7222 - _timestamp: 1652445561.0000 - _runtime: 526.0000\n",
            "Epoch 8/15\n",
            "1382/1382 [==============================] - 74s 53ms/step - loss: 0.4808 - accuracy: 0.8586 - val_loss: 1.6744 - val_accuracy: 0.7371 - _timestamp: 1652445635.0000 - _runtime: 600.0000\n",
            "Epoch 9/15\n",
            "1382/1382 [==============================] - 74s 54ms/step - loss: 0.4759 - accuracy: 0.8595 - val_loss: 1.6922 - val_accuracy: 0.7428 - _timestamp: 1652445709.0000 - _runtime: 674.0000\n",
            "Epoch 10/15\n",
            "1382/1382 [==============================] - 75s 54ms/step - loss: 0.4692 - accuracy: 0.8614 - val_loss: 1.6546 - val_accuracy: 0.7442 - _timestamp: 1652445784.0000 - _runtime: 749.0000\n",
            "Epoch 11/15\n",
            "1382/1382 [==============================] - 74s 54ms/step - loss: 0.4665 - accuracy: 0.8623 - val_loss: 1.6614 - val_accuracy: 0.7444 - _timestamp: 1652445858.0000 - _runtime: 823.0000\n",
            "Epoch 12/15\n",
            "1382/1382 [==============================] - 76s 55ms/step - loss: 0.4631 - accuracy: 0.8630 - val_loss: 1.6832 - val_accuracy: 0.7510 - _timestamp: 1652445934.0000 - _runtime: 899.0000\n",
            "Epoch 13/15\n",
            "1382/1382 [==============================] - 74s 54ms/step - loss: 0.4570 - accuracy: 0.8643 - val_loss: 1.6130 - val_accuracy: 0.7418 - _timestamp: 1652446009.0000 - _runtime: 974.0000\n",
            "Epoch 14/15\n",
            "1382/1382 [==============================] - 77s 55ms/step - loss: 0.4547 - accuracy: 0.8649 - val_loss: 1.6551 - val_accuracy: 0.7446 - _timestamp: 1652446085.0000 - _runtime: 1050.0000\n",
            "Epoch 15/15\n",
            "1382/1382 [==============================] - 75s 54ms/step - loss: 0.4523 - accuracy: 0.8657 - val_loss: 1.6331 - val_accuracy: 0.7480 - _timestamp: 1652446160.0000 - _runtime: 1125.0000\n",
            "INFO:tensorflow:Assets written to: ./TrainedModels/RNNeng2_hi_2_adam_15_0.3_32_256/assets\n"
          ]
        },
        {
          "output_type": "stream",
          "name": "stderr",
          "text": [
            "INFO:tensorflow:Assets written to: ./TrainedModels/RNNeng2_hi_2_adam_15_0.3_32_256/assets\n"
          ]
        },
        {
          "output_type": "display_data",
          "data": {
            "text/plain": [
              "<IPython.core.display.HTML object>"
            ],
            "text/html": [
              "Waiting for W&B process to finish... <strong style=\"color:green\">(success).</strong>"
            ]
          },
          "metadata": {}
        },
        {
          "output_type": "display_data",
          "data": {
            "text/plain": [
              "VBox(children=(Label(value='3.108 MB of 3.108 MB uploaded (0.000 MB deduped)\\r'), FloatProgress(value=1.0, max…"
            ],
            "application/vnd.jupyter.widget-view+json": {
              "version_major": 2,
              "version_minor": 0,
              "model_id": "9b2f93c2c660417aad0ed0a06b2ad0bc"
            }
          },
          "metadata": {}
        },
        {
          "output_type": "display_data",
          "data": {
            "text/plain": [
              "<IPython.core.display.HTML object>"
            ],
            "text/html": [
              "<style>\n",
              "    table.wandb td:nth-child(1) { padding: 0 10px; text-align: left ; width: auto;} td:nth-child(2) {text-align: left ; width: 100%}\n",
              "    .wandb-row { display: flex; flex-direction: row; flex-wrap: wrap; justify-content: flex-start; width: 100% }\n",
              "    .wandb-col { display: flex; flex-direction: column; flex-basis: 100%; flex: 1; padding: 10px; }\n",
              "    </style>\n",
              "<div class=\"wandb-row\"><div class=\"wandb-col\"><h3>Run history:</h3><br/><table class=\"wandb\"><tr><td>accuracy</td><td>▁▅▆▇▇▇▇████████</td></tr><tr><td>epoch</td><td>▁▁▂▃▃▃▄▅▅▅▆▇▇▇█</td></tr><tr><td>loss</td><td>█▄▃▂▂▂▂▁▁▁▁▁▁▁▁</td></tr><tr><td>val_accuracy</td><td>▁▂▂▄▅▅▅▆▇▇▇█▇▇█</td></tr><tr><td>val_loss</td><td>▁▅█▃▅▆█▄▅▄▄▅▂▄▃</td></tr></table><br/></div><div class=\"wandb-col\"><h3>Run summary:</h3><br/><table class=\"wandb\"><tr><td>accuracy</td><td>0.86573</td></tr><tr><td>best_epoch</td><td>0</td></tr><tr><td>best_val_loss</td><td>1.56751</td></tr><tr><td>epoch</td><td>14</td></tr><tr><td>loss</td><td>0.45225</td></tr><tr><td>val_accuracy</td><td>0.74797</td></tr><tr><td>val_loss</td><td>1.63314</td></tr></table><br/></div></div>"
            ]
          },
          "metadata": {}
        },
        {
          "output_type": "display_data",
          "data": {
            "text/plain": [
              "<IPython.core.display.HTML object>"
            ],
            "text/html": [
              "Synced <strong style=\"color:#cdcd00\">worldly-sweep-11</strong>: <a href=\"https://wandb.ai/muk465/CS6910-Assignment-3_attn/runs/kn1t3d3s\" target=\"_blank\">https://wandb.ai/muk465/CS6910-Assignment-3_attn/runs/kn1t3d3s</a><br/>Synced 5 W&B file(s), 1 media file(s), 0 artifact file(s) and 1 other file(s)"
            ]
          },
          "metadata": {}
        },
        {
          "output_type": "display_data",
          "data": {
            "text/plain": [
              "<IPython.core.display.HTML object>"
            ],
            "text/html": [
              "Find logs at: <code>./wandb/run-20220513_123035-kn1t3d3s/logs</code>"
            ]
          },
          "metadata": {}
        },
        {
          "output_type": "stream",
          "name": "stderr",
          "text": [
            "\u001b[34m\u001b[1mwandb\u001b[0m: Agent Starting Run: 4b1k2r75 with config:\n",
            "\u001b[34m\u001b[1mwandb\u001b[0m: \tbatch_size: 32\n",
            "\u001b[34m\u001b[1mwandb\u001b[0m: \tcell_type: GRU\n",
            "\u001b[34m\u001b[1mwandb\u001b[0m: \tdropout: 0.3\n",
            "\u001b[34m\u001b[1mwandb\u001b[0m: \tepochs: 20\n",
            "\u001b[34m\u001b[1mwandb\u001b[0m: \thidden: 64\n",
            "\u001b[34m\u001b[1mwandb\u001b[0m: \tlatentDim: 256\n",
            "\u001b[34m\u001b[1mwandb\u001b[0m: \tnumDecoders: 2\n",
            "\u001b[34m\u001b[1mwandb\u001b[0m: \tnumEncoders: 1\n",
            "\u001b[34m\u001b[1mwandb\u001b[0m: \toptimiser: adam\n",
            "\u001b[34m\u001b[1mwandb\u001b[0m: \u001b[33mWARNING\u001b[0m Ignored wandb.init() arg project when running a sweep.\n"
          ]
        },
        {
          "output_type": "display_data",
          "data": {
            "text/plain": [
              "<IPython.core.display.HTML object>"
            ],
            "text/html": [
              "Tracking run with wandb version 0.12.16"
            ]
          },
          "metadata": {}
        },
        {
          "output_type": "display_data",
          "data": {
            "text/plain": [
              "<IPython.core.display.HTML object>"
            ],
            "text/html": [
              "Run data is saved locally in <code>/content/wandb/run-20220513_125023-4b1k2r75</code>"
            ]
          },
          "metadata": {}
        },
        {
          "output_type": "display_data",
          "data": {
            "text/plain": [
              "<IPython.core.display.HTML object>"
            ],
            "text/html": [
              "Syncing run <strong><a href=\"https://wandb.ai/muk465/CS6910-Assignment-3_attn/runs/4b1k2r75\" target=\"_blank\">proud-sweep-12</a></strong> to <a href=\"https://wandb.ai/muk465/CS6910-Assignment-3_attn\" target=\"_blank\">Weights & Biases</a> (<a href=\"https://wandb.me/run\" target=\"_blank\">docs</a>)<br/>Sweep page:  <a href=\"https://wandb.ai/muk465/CS6910-Assignment-3_attn/sweeps/wo9l1m7l\" target=\"_blank\">https://wandb.ai/muk465/CS6910-Assignment-3_attn/sweeps/wo9l1m7l</a>"
            ]
          },
          "metadata": {}
        },
        {
          "output_type": "stream",
          "name": "stdout",
          "text": [
            "Model: \"model\"\n",
            "__________________________________________________________________________________________________\n",
            " Layer (type)                   Output Shape         Param #     Connected to                     \n",
            "==================================================================================================\n",
            " input_1 (InputLayer)           [(None, None, 27)]   0           []                               \n",
            "                                                                                                  \n",
            " input_2 (InputLayer)           [(None, None, 66)]   0           []                               \n",
            "                                                                                                  \n",
            " gru (GRU)                      [(None, None, 256),  218880      ['input_1[0][0]']                \n",
            "                                 (None, 256)]                                                     \n",
            "                                                                                                  \n",
            " gru_2 (GRU)                    [(None, None, 256),  248832      ['input_2[0][0]',                \n",
            "                                 (None, 256)]                     'gru[0][1]']                    \n",
            "                                                                                                  \n",
            " additive_attention (AdditiveAt  (None, None, 256)   256         ['gru_2[0][0]',                  \n",
            " tention)                                                         'gru[0][0]']                    \n",
            "                                                                                                  \n",
            " concat_layer (Concatenate)     (None, None, 512)    0           ['gru_2[0][0]',                  \n",
            "                                                                  'additive_attention[0][0]']     \n",
            "                                                                                                  \n",
            " dense (Dense)                  (None, None, 64)     32832       ['concat_layer[0][0]']           \n",
            "                                                                                                  \n",
            " dense_1 (Dense)                (None, None, 66)     4290        ['dense[0][0]']                  \n",
            "                                                                                                  \n",
            "==================================================================================================\n",
            "Total params: 505,090\n",
            "Trainable params: 505,090\n",
            "Non-trainable params: 0\n",
            "__________________________________________________________________________________________________\n",
            "Epoch 1/20\n",
            "1382/1382 [==============================] - 18s 10ms/step - loss: 0.9401 - accuracy: 0.7513 - val_loss: 1.5858 - val_accuracy: 0.6890 - _timestamp: 1652446248.0000 - _runtime: 25.0000\n",
            "Epoch 2/20\n",
            "1382/1382 [==============================] - 14s 10ms/step - loss: 0.5910 - accuracy: 0.8303 - val_loss: 1.5174 - val_accuracy: 0.7270 - _timestamp: 1652446262.0000 - _runtime: 39.0000\n",
            "Epoch 3/20\n",
            "1382/1382 [==============================] - 14s 10ms/step - loss: 0.5186 - accuracy: 0.8476 - val_loss: 1.5867 - val_accuracy: 0.7217 - _timestamp: 1652446275.0000 - _runtime: 52.0000\n",
            "Epoch 4/20\n",
            "1382/1382 [==============================] - 13s 10ms/step - loss: 0.4819 - accuracy: 0.8576 - val_loss: 1.5688 - val_accuracy: 0.7403 - _timestamp: 1652446289.0000 - _runtime: 66.0000\n",
            "Epoch 5/20\n",
            "1382/1382 [==============================] - 14s 10ms/step - loss: 0.4589 - accuracy: 0.8633 - val_loss: 1.5639 - val_accuracy: 0.7477 - _timestamp: 1652446303.0000 - _runtime: 80.0000\n",
            "Epoch 6/20\n",
            "1382/1382 [==============================] - 13s 10ms/step - loss: 0.4424 - accuracy: 0.8679 - val_loss: 1.5474 - val_accuracy: 0.7424 - _timestamp: 1652446316.0000 - _runtime: 93.0000\n",
            "Epoch 7/20\n",
            "1382/1382 [==============================] - 14s 10ms/step - loss: 0.4265 - accuracy: 0.8717 - val_loss: 1.5111 - val_accuracy: 0.7556 - _timestamp: 1652446330.0000 - _runtime: 107.0000\n",
            "Epoch 8/20\n",
            "1382/1382 [==============================] - 13s 10ms/step - loss: 0.4171 - accuracy: 0.8745 - val_loss: 1.5503 - val_accuracy: 0.7503 - _timestamp: 1652446343.0000 - _runtime: 120.0000\n",
            "Epoch 9/20\n",
            "1382/1382 [==============================] - 14s 10ms/step - loss: 0.4078 - accuracy: 0.8771 - val_loss: 1.6172 - val_accuracy: 0.7531 - _timestamp: 1652446357.0000 - _runtime: 134.0000\n",
            "Epoch 10/20\n",
            "1382/1382 [==============================] - 14s 10ms/step - loss: 0.4016 - accuracy: 0.8785 - val_loss: 1.5347 - val_accuracy: 0.7538 - _timestamp: 1652446370.0000 - _runtime: 147.0000\n",
            "Epoch 11/20\n",
            "1382/1382 [==============================] - 14s 10ms/step - loss: 0.3923 - accuracy: 0.8813 - val_loss: 1.5732 - val_accuracy: 0.7518 - _timestamp: 1652446384.0000 - _runtime: 161.0000\n",
            "Epoch 12/20\n",
            "1382/1382 [==============================] - 13s 10ms/step - loss: 0.3889 - accuracy: 0.8820 - val_loss: 1.5975 - val_accuracy: 0.7506 - _timestamp: 1652446397.0000 - _runtime: 174.0000\n",
            "Epoch 12: early stopping\n"
          ]
        },
        {
          "output_type": "stream",
          "name": "stderr",
          "text": [
            "WARNING:absl:Found untraced functions such as gru_cell_layer_call_fn, gru_cell_layer_call_and_return_conditional_losses, gru_cell_2_layer_call_fn, gru_cell_2_layer_call_and_return_conditional_losses while saving (showing 4 of 4). These functions will not be directly callable after loading.\n"
          ]
        },
        {
          "output_type": "stream",
          "name": "stdout",
          "text": [
            "INFO:tensorflow:Assets written to: ./TrainedModels/GRUeng1_hi_2_adam_20_0.3_32_256/assets\n"
          ]
        },
        {
          "output_type": "stream",
          "name": "stderr",
          "text": [
            "INFO:tensorflow:Assets written to: ./TrainedModels/GRUeng1_hi_2_adam_20_0.3_32_256/assets\n",
            "WARNING:absl:<keras.layers.recurrent.GRUCell object at 0x7fe610116ad0> has the same name 'GRUCell' as a built-in Keras object. Consider renaming <class 'keras.layers.recurrent.GRUCell'> to avoid naming conflicts when loading with `tf.keras.models.load_model`. If renaming is not possible, pass the object in the `custom_objects` parameter of the load function.\n",
            "WARNING:absl:<keras.layers.recurrent.GRUCell object at 0x7fe6263bc4d0> has the same name 'GRUCell' as a built-in Keras object. Consider renaming <class 'keras.layers.recurrent.GRUCell'> to avoid naming conflicts when loading with `tf.keras.models.load_model`. If renaming is not possible, pass the object in the `custom_objects` parameter of the load function.\n"
          ]
        },
        {
          "output_type": "display_data",
          "data": {
            "text/plain": [
              "<IPython.core.display.HTML object>"
            ],
            "text/html": [
              "Waiting for W&B process to finish... <strong style=\"color:green\">(success).</strong>"
            ]
          },
          "metadata": {}
        },
        {
          "output_type": "display_data",
          "data": {
            "text/plain": [
              "VBox(children=(Label(value='5.840 MB of 5.840 MB uploaded (0.000 MB deduped)\\r'), FloatProgress(value=1.0, max…"
            ],
            "application/vnd.jupyter.widget-view+json": {
              "version_major": 2,
              "version_minor": 0,
              "model_id": "fe06fb81f64f450b9d568cd43719d132"
            }
          },
          "metadata": {}
        },
        {
          "output_type": "display_data",
          "data": {
            "text/plain": [
              "<IPython.core.display.HTML object>"
            ],
            "text/html": [
              "<style>\n",
              "    table.wandb td:nth-child(1) { padding: 0 10px; text-align: left ; width: auto;} td:nth-child(2) {text-align: left ; width: 100%}\n",
              "    .wandb-row { display: flex; flex-direction: row; flex-wrap: wrap; justify-content: flex-start; width: 100% }\n",
              "    .wandb-col { display: flex; flex-direction: column; flex-basis: 100%; flex: 1; padding: 10px; }\n",
              "    </style>\n",
              "<div class=\"wandb-row\"><div class=\"wandb-col\"><h3>Run history:</h3><br/><table class=\"wandb\"><tr><td>accuracy</td><td>▁▅▆▇▇▇▇█████</td></tr><tr><td>epoch</td><td>▁▂▂▃▄▄▅▅▆▇▇█</td></tr><tr><td>loss</td><td>█▄▃▂▂▂▁▁▁▁▁▁</td></tr><tr><td>val_accuracy</td><td>▁▅▄▆▇▇█▇███▇</td></tr><tr><td>val_loss</td><td>▆▁▆▅▄▃▁▄█▃▅▇</td></tr></table><br/></div><div class=\"wandb-col\"><h3>Run summary:</h3><br/><table class=\"wandb\"><tr><td>accuracy</td><td>0.88204</td></tr><tr><td>best_epoch</td><td>6</td></tr><tr><td>best_val_loss</td><td>1.51108</td></tr><tr><td>epoch</td><td>11</td></tr><tr><td>loss</td><td>0.3889</td></tr><tr><td>val_accuracy</td><td>0.75064</td></tr><tr><td>val_loss</td><td>1.59754</td></tr></table><br/></div></div>"
            ]
          },
          "metadata": {}
        },
        {
          "output_type": "display_data",
          "data": {
            "text/plain": [
              "<IPython.core.display.HTML object>"
            ],
            "text/html": [
              "Synced <strong style=\"color:#cdcd00\">proud-sweep-12</strong>: <a href=\"https://wandb.ai/muk465/CS6910-Assignment-3_attn/runs/4b1k2r75\" target=\"_blank\">https://wandb.ai/muk465/CS6910-Assignment-3_attn/runs/4b1k2r75</a><br/>Synced 5 W&B file(s), 1 media file(s), 0 artifact file(s) and 1 other file(s)"
            ]
          },
          "metadata": {}
        },
        {
          "output_type": "display_data",
          "data": {
            "text/plain": [
              "<IPython.core.display.HTML object>"
            ],
            "text/html": [
              "Find logs at: <code>./wandb/run-20220513_125023-4b1k2r75/logs</code>"
            ]
          },
          "metadata": {}
        },
        {
          "output_type": "stream",
          "name": "stderr",
          "text": [
            "\u001b[34m\u001b[1mwandb\u001b[0m: Agent Starting Run: rsd27n27 with config:\n",
            "\u001b[34m\u001b[1mwandb\u001b[0m: \tbatch_size: 32\n",
            "\u001b[34m\u001b[1mwandb\u001b[0m: \tcell_type: RNN\n",
            "\u001b[34m\u001b[1mwandb\u001b[0m: \tdropout: 0.3\n",
            "\u001b[34m\u001b[1mwandb\u001b[0m: \tepochs: 15\n",
            "\u001b[34m\u001b[1mwandb\u001b[0m: \thidden: 64\n",
            "\u001b[34m\u001b[1mwandb\u001b[0m: \tlatentDim: 256\n",
            "\u001b[34m\u001b[1mwandb\u001b[0m: \tnumDecoders: 3\n",
            "\u001b[34m\u001b[1mwandb\u001b[0m: \tnumEncoders: 1\n",
            "\u001b[34m\u001b[1mwandb\u001b[0m: \toptimiser: adam\n",
            "\u001b[34m\u001b[1mwandb\u001b[0m: \u001b[33mWARNING\u001b[0m Ignored wandb.init() arg project when running a sweep.\n"
          ]
        },
        {
          "output_type": "display_data",
          "data": {
            "text/plain": [
              "<IPython.core.display.HTML object>"
            ],
            "text/html": [
              "Tracking run with wandb version 0.12.16"
            ]
          },
          "metadata": {}
        },
        {
          "output_type": "display_data",
          "data": {
            "text/plain": [
              "<IPython.core.display.HTML object>"
            ],
            "text/html": [
              "Run data is saved locally in <code>/content/wandb/run-20220513_125417-rsd27n27</code>"
            ]
          },
          "metadata": {}
        },
        {
          "output_type": "display_data",
          "data": {
            "text/plain": [
              "<IPython.core.display.HTML object>"
            ],
            "text/html": [
              "Syncing run <strong><a href=\"https://wandb.ai/muk465/CS6910-Assignment-3_attn/runs/rsd27n27\" target=\"_blank\">floral-sweep-13</a></strong> to <a href=\"https://wandb.ai/muk465/CS6910-Assignment-3_attn\" target=\"_blank\">Weights & Biases</a> (<a href=\"https://wandb.me/run\" target=\"_blank\">docs</a>)<br/>Sweep page:  <a href=\"https://wandb.ai/muk465/CS6910-Assignment-3_attn/sweeps/wo9l1m7l\" target=\"_blank\">https://wandb.ai/muk465/CS6910-Assignment-3_attn/sweeps/wo9l1m7l</a>"
            ]
          },
          "metadata": {}
        },
        {
          "output_type": "stream",
          "name": "stdout",
          "text": [
            "Model: \"model\"\n",
            "__________________________________________________________________________________________________\n",
            " Layer (type)                   Output Shape         Param #     Connected to                     \n",
            "==================================================================================================\n",
            " input_1 (InputLayer)           [(None, None, 27)]   0           []                               \n",
            "                                                                                                  \n",
            " input_2 (InputLayer)           [(None, None, 66)]   0           []                               \n",
            "                                                                                                  \n",
            " simple_rnn (SimpleRNN)         [(None, None, 256),  72704       ['input_1[0][0]']                \n",
            "                                 (None, 256)]                                                     \n",
            "                                                                                                  \n",
            " simple_rnn_3 (SimpleRNN)       [(None, None, 256),  82688       ['input_2[0][0]',                \n",
            "                                 (None, 256)]                     'simple_rnn[0][1]']             \n",
            "                                                                                                  \n",
            " additive_attention (AdditiveAt  (None, None, 256)   256         ['simple_rnn_3[0][0]',           \n",
            " tention)                                                         'simple_rnn[0][0]']             \n",
            "                                                                                                  \n",
            " concat_layer (Concatenate)     (None, None, 512)    0           ['simple_rnn_3[0][0]',           \n",
            "                                                                  'additive_attention[0][0]']     \n",
            "                                                                                                  \n",
            " dense (Dense)                  (None, None, 64)     32832       ['concat_layer[0][0]']           \n",
            "                                                                                                  \n",
            " dense_1 (Dense)                (None, None, 66)     4290        ['dense[0][0]']                  \n",
            "                                                                                                  \n",
            "==================================================================================================\n",
            "Total params: 192,770\n",
            "Trainable params: 192,770\n",
            "Non-trainable params: 0\n",
            "__________________________________________________________________________________________________\n",
            "Epoch 1/15\n",
            "1382/1382 [==============================] - 54s 38ms/step - loss: 0.9143 - accuracy: 0.7577 - val_loss: 1.7515 - val_accuracy: 0.6472 - _timestamp: 1652446518.0000 - _runtime: 61.0000\n",
            "Epoch 2/15\n",
            "1382/1382 [==============================] - 53s 38ms/step - loss: 0.6334 - accuracy: 0.8202 - val_loss: 1.6548 - val_accuracy: 0.6850 - _timestamp: 1652446571.0000 - _runtime: 114.0000\n",
            "Epoch 3/15\n",
            "1382/1382 [==============================] - 52s 38ms/step - loss: 0.5595 - accuracy: 0.8379 - val_loss: 1.5699 - val_accuracy: 0.7072 - _timestamp: 1652446623.0000 - _runtime: 166.0000\n",
            "Epoch 4/15\n",
            "1382/1382 [==============================] - 52s 38ms/step - loss: 0.5280 - accuracy: 0.8462 - val_loss: 1.5910 - val_accuracy: 0.7189 - _timestamp: 1652446675.0000 - _runtime: 218.0000\n",
            "Epoch 5/15\n",
            "1382/1382 [==============================] - 54s 39ms/step - loss: 0.5083 - accuracy: 0.8506 - val_loss: 1.5941 - val_accuracy: 0.7227 - _timestamp: 1652446729.0000 - _runtime: 272.0000\n",
            "Epoch 6/15\n",
            "1382/1382 [==============================] - 54s 39ms/step - loss: 0.4955 - accuracy: 0.8542 - val_loss: 1.5103 - val_accuracy: 0.7304 - _timestamp: 1652446783.0000 - _runtime: 326.0000\n",
            "Epoch 7/15\n",
            "1382/1382 [==============================] - 53s 38ms/step - loss: 0.4838 - accuracy: 0.8572 - val_loss: 1.5153 - val_accuracy: 0.7347 - _timestamp: 1652446836.0000 - _runtime: 379.0000\n",
            "Epoch 8/15\n",
            "1382/1382 [==============================] - 54s 39ms/step - loss: 0.4758 - accuracy: 0.8593 - val_loss: 1.5735 - val_accuracy: 0.7425 - _timestamp: 1652446890.0000 - _runtime: 433.0000\n",
            "Epoch 9/15\n",
            "1382/1382 [==============================] - 54s 39ms/step - loss: 0.4708 - accuracy: 0.8608 - val_loss: 1.5912 - val_accuracy: 0.7351 - _timestamp: 1652446944.0000 - _runtime: 487.0000\n",
            "Epoch 10/15\n",
            "1382/1382 [==============================] - 54s 39ms/step - loss: 0.4624 - accuracy: 0.8626 - val_loss: 1.4693 - val_accuracy: 0.7432 - _timestamp: 1652446998.0000 - _runtime: 541.0000\n",
            "Epoch 11/15\n",
            "1382/1382 [==============================] - 54s 39ms/step - loss: 0.4590 - accuracy: 0.8633 - val_loss: 1.5064 - val_accuracy: 0.7500 - _timestamp: 1652447051.0000 - _runtime: 594.0000\n",
            "Epoch 12/15\n",
            "1382/1382 [==============================] - 54s 39ms/step - loss: 0.4543 - accuracy: 0.8651 - val_loss: 1.5039 - val_accuracy: 0.7449 - _timestamp: 1652447105.0000 - _runtime: 648.0000\n",
            "Epoch 13/15\n",
            "1382/1382 [==============================] - 53s 39ms/step - loss: 0.4511 - accuracy: 0.8659 - val_loss: 1.6679 - val_accuracy: 0.7397 - _timestamp: 1652447159.0000 - _runtime: 702.0000\n",
            "Epoch 13: early stopping\n",
            "INFO:tensorflow:Assets written to: ./TrainedModels/RNNeng1_hi_3_adam_15_0.3_32_256/assets\n"
          ]
        },
        {
          "output_type": "stream",
          "name": "stderr",
          "text": [
            "INFO:tensorflow:Assets written to: ./TrainedModels/RNNeng1_hi_3_adam_15_0.3_32_256/assets\n"
          ]
        },
        {
          "output_type": "display_data",
          "data": {
            "text/plain": [
              "<IPython.core.display.HTML object>"
            ],
            "text/html": [
              "Waiting for W&B process to finish... <strong style=\"color:green\">(success).</strong>"
            ]
          },
          "metadata": {}
        },
        {
          "output_type": "display_data",
          "data": {
            "text/plain": [
              "VBox(children=(Label(value='2.266 MB of 2.266 MB uploaded (0.000 MB deduped)\\r'), FloatProgress(value=1.0, max…"
            ],
            "application/vnd.jupyter.widget-view+json": {
              "version_major": 2,
              "version_minor": 0,
              "model_id": "8a157d84ae1549de8fa32ebdb2ddc519"
            }
          },
          "metadata": {}
        },
        {
          "output_type": "display_data",
          "data": {
            "text/plain": [
              "<IPython.core.display.HTML object>"
            ],
            "text/html": [
              "<style>\n",
              "    table.wandb td:nth-child(1) { padding: 0 10px; text-align: left ; width: auto;} td:nth-child(2) {text-align: left ; width: 100%}\n",
              "    .wandb-row { display: flex; flex-direction: row; flex-wrap: wrap; justify-content: flex-start; width: 100% }\n",
              "    .wandb-col { display: flex; flex-direction: column; flex-basis: 100%; flex: 1; padding: 10px; }\n",
              "    </style>\n",
              "<div class=\"wandb-row\"><div class=\"wandb-col\"><h3>Run history:</h3><br/><table class=\"wandb\"><tr><td>accuracy</td><td>▁▅▆▇▇▇▇██████</td></tr><tr><td>epoch</td><td>▁▂▂▃▃▄▅▅▆▆▇▇█</td></tr><tr><td>loss</td><td>█▄▃▂▂▂▁▁▁▁▁▁▁</td></tr><tr><td>val_accuracy</td><td>▁▄▅▆▆▇▇▇▇███▇</td></tr><tr><td>val_loss</td><td>█▆▃▄▄▂▂▄▄▁▂▂▆</td></tr></table><br/></div><div class=\"wandb-col\"><h3>Run summary:</h3><br/><table class=\"wandb\"><tr><td>accuracy</td><td>0.86586</td></tr><tr><td>best_epoch</td><td>9</td></tr><tr><td>best_val_loss</td><td>1.46927</td></tr><tr><td>epoch</td><td>12</td></tr><tr><td>loss</td><td>0.45109</td></tr><tr><td>val_accuracy</td><td>0.73974</td></tr><tr><td>val_loss</td><td>1.66795</td></tr></table><br/></div></div>"
            ]
          },
          "metadata": {}
        },
        {
          "output_type": "display_data",
          "data": {
            "text/plain": [
              "<IPython.core.display.HTML object>"
            ],
            "text/html": [
              "Synced <strong style=\"color:#cdcd00\">floral-sweep-13</strong>: <a href=\"https://wandb.ai/muk465/CS6910-Assignment-3_attn/runs/rsd27n27\" target=\"_blank\">https://wandb.ai/muk465/CS6910-Assignment-3_attn/runs/rsd27n27</a><br/>Synced 5 W&B file(s), 1 media file(s), 0 artifact file(s) and 1 other file(s)"
            ]
          },
          "metadata": {}
        },
        {
          "output_type": "display_data",
          "data": {
            "text/plain": [
              "<IPython.core.display.HTML object>"
            ],
            "text/html": [
              "Find logs at: <code>./wandb/run-20220513_125417-rsd27n27/logs</code>"
            ]
          },
          "metadata": {}
        },
        {
          "output_type": "stream",
          "name": "stderr",
          "text": [
            "\u001b[34m\u001b[1mwandb\u001b[0m: Agent Starting Run: z9tdfkz6 with config:\n",
            "\u001b[34m\u001b[1mwandb\u001b[0m: \tbatch_size: 64\n",
            "\u001b[34m\u001b[1mwandb\u001b[0m: \tcell_type: GRU\n",
            "\u001b[34m\u001b[1mwandb\u001b[0m: \tdropout: 0.3\n",
            "\u001b[34m\u001b[1mwandb\u001b[0m: \tepochs: 20\n",
            "\u001b[34m\u001b[1mwandb\u001b[0m: \thidden: 64\n",
            "\u001b[34m\u001b[1mwandb\u001b[0m: \tlatentDim: 256\n",
            "\u001b[34m\u001b[1mwandb\u001b[0m: \tnumDecoders: 2\n",
            "\u001b[34m\u001b[1mwandb\u001b[0m: \tnumEncoders: 1\n",
            "\u001b[34m\u001b[1mwandb\u001b[0m: \toptimiser: adam\n",
            "\u001b[34m\u001b[1mwandb\u001b[0m: \u001b[33mWARNING\u001b[0m Ignored wandb.init() arg project when running a sweep.\n"
          ]
        },
        {
          "output_type": "display_data",
          "data": {
            "text/plain": [
              "<IPython.core.display.HTML object>"
            ],
            "text/html": [
              "Tracking run with wandb version 0.12.16"
            ]
          },
          "metadata": {}
        },
        {
          "output_type": "display_data",
          "data": {
            "text/plain": [
              "<IPython.core.display.HTML object>"
            ],
            "text/html": [
              "Run data is saved locally in <code>/content/wandb/run-20220513_130616-z9tdfkz6</code>"
            ]
          },
          "metadata": {}
        },
        {
          "output_type": "display_data",
          "data": {
            "text/plain": [
              "<IPython.core.display.HTML object>"
            ],
            "text/html": [
              "Syncing run <strong><a href=\"https://wandb.ai/muk465/CS6910-Assignment-3_attn/runs/z9tdfkz6\" target=\"_blank\">vague-sweep-14</a></strong> to <a href=\"https://wandb.ai/muk465/CS6910-Assignment-3_attn\" target=\"_blank\">Weights & Biases</a> (<a href=\"https://wandb.me/run\" target=\"_blank\">docs</a>)<br/>Sweep page:  <a href=\"https://wandb.ai/muk465/CS6910-Assignment-3_attn/sweeps/wo9l1m7l\" target=\"_blank\">https://wandb.ai/muk465/CS6910-Assignment-3_attn/sweeps/wo9l1m7l</a>"
            ]
          },
          "metadata": {}
        },
        {
          "output_type": "stream",
          "name": "stdout",
          "text": [
            "Model: \"model\"\n",
            "__________________________________________________________________________________________________\n",
            " Layer (type)                   Output Shape         Param #     Connected to                     \n",
            "==================================================================================================\n",
            " input_1 (InputLayer)           [(None, None, 27)]   0           []                               \n",
            "                                                                                                  \n",
            " input_2 (InputLayer)           [(None, None, 66)]   0           []                               \n",
            "                                                                                                  \n",
            " gru (GRU)                      [(None, None, 256),  218880      ['input_1[0][0]']                \n",
            "                                 (None, 256)]                                                     \n",
            "                                                                                                  \n",
            " gru_2 (GRU)                    [(None, None, 256),  248832      ['input_2[0][0]',                \n",
            "                                 (None, 256)]                     'gru[0][1]']                    \n",
            "                                                                                                  \n",
            " additive_attention (AdditiveAt  (None, None, 256)   256         ['gru_2[0][0]',                  \n",
            " tention)                                                         'gru[0][0]']                    \n",
            "                                                                                                  \n",
            " concat_layer (Concatenate)     (None, None, 512)    0           ['gru_2[0][0]',                  \n",
            "                                                                  'additive_attention[0][0]']     \n",
            "                                                                                                  \n",
            " dense (Dense)                  (None, None, 64)     32832       ['concat_layer[0][0]']           \n",
            "                                                                                                  \n",
            " dense_1 (Dense)                (None, None, 66)     4290        ['dense[0][0]']                  \n",
            "                                                                                                  \n",
            "==================================================================================================\n",
            "Total params: 505,090\n",
            "Trainable params: 505,090\n",
            "Non-trainable params: 0\n",
            "__________________________________________________________________________________________________\n",
            "Epoch 1/20\n",
            "691/691 [==============================] - 13s 13ms/step - loss: 1.0791 - accuracy: 0.7285 - val_loss: 1.8507 - val_accuracy: 0.6558 - _timestamp: 1652447198.0000 - _runtime: 22.0000\n",
            "Epoch 2/20\n",
            "691/691 [==============================] - 8s 12ms/step - loss: 0.7882 - accuracy: 0.7834 - val_loss: 1.8079 - val_accuracy: 0.6869 - _timestamp: 1652447206.0000 - _runtime: 30.0000\n",
            "Epoch 3/20\n",
            "691/691 [==============================] - 8s 12ms/step - loss: 0.6317 - accuracy: 0.8221 - val_loss: 1.7270 - val_accuracy: 0.7057 - _timestamp: 1652447214.0000 - _runtime: 38.0000\n",
            "Epoch 4/20\n",
            "691/691 [==============================] - 8s 12ms/step - loss: 0.5613 - accuracy: 0.8386 - val_loss: 1.7465 - val_accuracy: 0.7147 - _timestamp: 1652447222.0000 - _runtime: 46.0000\n",
            "Epoch 5/20\n",
            "691/691 [==============================] - 8s 12ms/step - loss: 0.5241 - accuracy: 0.8477 - val_loss: 1.7374 - val_accuracy: 0.7184 - _timestamp: 1652447230.0000 - _runtime: 54.0000\n",
            "Epoch 6/20\n",
            "691/691 [==============================] - 8s 12ms/step - loss: 0.4977 - accuracy: 0.8541 - val_loss: 1.7230 - val_accuracy: 0.7273 - _timestamp: 1652447239.0000 - _runtime: 63.0000\n",
            "Epoch 7/20\n",
            "691/691 [==============================] - 8s 12ms/step - loss: 0.4763 - accuracy: 0.8595 - val_loss: 1.7031 - val_accuracy: 0.7313 - _timestamp: 1652447247.0000 - _runtime: 71.0000\n",
            "Epoch 8/20\n",
            "691/691 [==============================] - 8s 12ms/step - loss: 0.4595 - accuracy: 0.8640 - val_loss: 1.7930 - val_accuracy: 0.7305 - _timestamp: 1652447255.0000 - _runtime: 79.0000\n",
            "Epoch 9/20\n",
            "691/691 [==============================] - 8s 12ms/step - loss: 0.4470 - accuracy: 0.8671 - val_loss: 1.7596 - val_accuracy: 0.7423 - _timestamp: 1652447263.0000 - _runtime: 87.0000\n",
            "Epoch 10/20\n",
            "691/691 [==============================] - 8s 12ms/step - loss: 0.4368 - accuracy: 0.8696 - val_loss: 1.7222 - val_accuracy: 0.7385 - _timestamp: 1652447271.0000 - _runtime: 95.0000\n",
            "Epoch 11/20\n",
            "691/691 [==============================] - 8s 12ms/step - loss: 0.4270 - accuracy: 0.8723 - val_loss: 1.7293 - val_accuracy: 0.7387 - _timestamp: 1652447280.0000 - _runtime: 104.0000\n",
            "Epoch 12/20\n",
            "691/691 [==============================] - 8s 12ms/step - loss: 0.4185 - accuracy: 0.8747 - val_loss: 1.7079 - val_accuracy: 0.7428 - _timestamp: 1652447288.0000 - _runtime: 112.0000\n",
            "Epoch 13/20\n",
            "691/691 [==============================] - 8s 12ms/step - loss: 0.4121 - accuracy: 0.8764 - val_loss: 1.7195 - val_accuracy: 0.7432 - _timestamp: 1652447296.0000 - _runtime: 120.0000\n",
            "Epoch 14/20\n",
            "691/691 [==============================] - 8s 12ms/step - loss: 0.4054 - accuracy: 0.8781 - val_loss: 1.7953 - val_accuracy: 0.7394 - _timestamp: 1652447304.0000 - _runtime: 128.0000\n",
            "Epoch 14: early stopping\n"
          ]
        },
        {
          "output_type": "stream",
          "name": "stderr",
          "text": [
            "WARNING:absl:Found untraced functions such as gru_cell_layer_call_fn, gru_cell_layer_call_and_return_conditional_losses, gru_cell_2_layer_call_fn, gru_cell_2_layer_call_and_return_conditional_losses while saving (showing 4 of 4). These functions will not be directly callable after loading.\n"
          ]
        },
        {
          "output_type": "stream",
          "name": "stdout",
          "text": [
            "INFO:tensorflow:Assets written to: ./TrainedModels/GRUeng1_hi_2_adam_20_0.3_64_256/assets\n"
          ]
        },
        {
          "output_type": "stream",
          "name": "stderr",
          "text": [
            "INFO:tensorflow:Assets written to: ./TrainedModels/GRUeng1_hi_2_adam_20_0.3_64_256/assets\n",
            "WARNING:absl:<keras.layers.recurrent.GRUCell object at 0x7fe61028c050> has the same name 'GRUCell' as a built-in Keras object. Consider renaming <class 'keras.layers.recurrent.GRUCell'> to avoid naming conflicts when loading with `tf.keras.models.load_model`. If renaming is not possible, pass the object in the `custom_objects` parameter of the load function.\n",
            "WARNING:absl:<keras.layers.recurrent.GRUCell object at 0x7fe6212014d0> has the same name 'GRUCell' as a built-in Keras object. Consider renaming <class 'keras.layers.recurrent.GRUCell'> to avoid naming conflicts when loading with `tf.keras.models.load_model`. If renaming is not possible, pass the object in the `custom_objects` parameter of the load function.\n"
          ]
        },
        {
          "output_type": "display_data",
          "data": {
            "text/plain": [
              "<IPython.core.display.HTML object>"
            ],
            "text/html": [
              "Waiting for W&B process to finish... <strong style=\"color:green\">(success).</strong>"
            ]
          },
          "metadata": {}
        },
        {
          "output_type": "display_data",
          "data": {
            "text/plain": [
              "VBox(children=(Label(value='5.840 MB of 5.840 MB uploaded (0.000 MB deduped)\\r'), FloatProgress(value=1.0, max…"
            ],
            "application/vnd.jupyter.widget-view+json": {
              "version_major": 2,
              "version_minor": 0,
              "model_id": "0e6433b2a6ac481e8bbe6b9991fedf66"
            }
          },
          "metadata": {}
        },
        {
          "output_type": "display_data",
          "data": {
            "text/plain": [
              "<IPython.core.display.HTML object>"
            ],
            "text/html": [
              "<style>\n",
              "    table.wandb td:nth-child(1) { padding: 0 10px; text-align: left ; width: auto;} td:nth-child(2) {text-align: left ; width: 100%}\n",
              "    .wandb-row { display: flex; flex-direction: row; flex-wrap: wrap; justify-content: flex-start; width: 100% }\n",
              "    .wandb-col { display: flex; flex-direction: column; flex-basis: 100%; flex: 1; padding: 10px; }\n",
              "    </style>\n",
              "<div class=\"wandb-row\"><div class=\"wandb-col\"><h3>Run history:</h3><br/><table class=\"wandb\"><tr><td>accuracy</td><td>▁▄▅▆▇▇▇▇▇█████</td></tr><tr><td>epoch</td><td>▁▂▂▃▃▄▄▅▅▆▆▇▇█</td></tr><tr><td>loss</td><td>█▅▃▃▂▂▂▂▁▁▁▁▁▁</td></tr><tr><td>val_accuracy</td><td>▁▃▅▆▆▇▇▇██████</td></tr><tr><td>val_loss</td><td>█▆▂▃▃▂▁▅▄▂▂▁▂▅</td></tr></table><br/></div><div class=\"wandb-col\"><h3>Run summary:</h3><br/><table class=\"wandb\"><tr><td>accuracy</td><td>0.87806</td></tr><tr><td>best_epoch</td><td>6</td></tr><tr><td>best_val_loss</td><td>1.7031</td></tr><tr><td>epoch</td><td>13</td></tr><tr><td>loss</td><td>0.40535</td></tr><tr><td>val_accuracy</td><td>0.73938</td></tr><tr><td>val_loss</td><td>1.79534</td></tr></table><br/></div></div>"
            ]
          },
          "metadata": {}
        },
        {
          "output_type": "display_data",
          "data": {
            "text/plain": [
              "<IPython.core.display.HTML object>"
            ],
            "text/html": [
              "Synced <strong style=\"color:#cdcd00\">vague-sweep-14</strong>: <a href=\"https://wandb.ai/muk465/CS6910-Assignment-3_attn/runs/z9tdfkz6\" target=\"_blank\">https://wandb.ai/muk465/CS6910-Assignment-3_attn/runs/z9tdfkz6</a><br/>Synced 5 W&B file(s), 1 media file(s), 0 artifact file(s) and 1 other file(s)"
            ]
          },
          "metadata": {}
        },
        {
          "output_type": "display_data",
          "data": {
            "text/plain": [
              "<IPython.core.display.HTML object>"
            ],
            "text/html": [
              "Find logs at: <code>./wandb/run-20220513_130616-z9tdfkz6/logs</code>"
            ]
          },
          "metadata": {}
        },
        {
          "output_type": "stream",
          "name": "stderr",
          "text": [
            "\u001b[34m\u001b[1mwandb\u001b[0m: Agent Starting Run: e23ucbes with config:\n",
            "\u001b[34m\u001b[1mwandb\u001b[0m: \tbatch_size: 64\n",
            "\u001b[34m\u001b[1mwandb\u001b[0m: \tcell_type: RNN\n",
            "\u001b[34m\u001b[1mwandb\u001b[0m: \tdropout: 0.3\n",
            "\u001b[34m\u001b[1mwandb\u001b[0m: \tepochs: 15\n",
            "\u001b[34m\u001b[1mwandb\u001b[0m: \thidden: 64\n",
            "\u001b[34m\u001b[1mwandb\u001b[0m: \tlatentDim: 256\n",
            "\u001b[34m\u001b[1mwandb\u001b[0m: \tnumDecoders: 1\n",
            "\u001b[34m\u001b[1mwandb\u001b[0m: \tnumEncoders: 1\n",
            "\u001b[34m\u001b[1mwandb\u001b[0m: \toptimiser: adam\n",
            "\u001b[34m\u001b[1mwandb\u001b[0m: \u001b[33mWARNING\u001b[0m Ignored wandb.init() arg project when running a sweep.\n"
          ]
        },
        {
          "output_type": "display_data",
          "data": {
            "text/plain": [
              "<IPython.core.display.HTML object>"
            ],
            "text/html": [
              "Tracking run with wandb version 0.12.16"
            ]
          },
          "metadata": {}
        },
        {
          "output_type": "display_data",
          "data": {
            "text/plain": [
              "<IPython.core.display.HTML object>"
            ],
            "text/html": [
              "Run data is saved locally in <code>/content/wandb/run-20220513_130844-e23ucbes</code>"
            ]
          },
          "metadata": {}
        },
        {
          "output_type": "display_data",
          "data": {
            "text/plain": [
              "<IPython.core.display.HTML object>"
            ],
            "text/html": [
              "Syncing run <strong><a href=\"https://wandb.ai/muk465/CS6910-Assignment-3_attn/runs/e23ucbes\" target=\"_blank\">gallant-sweep-15</a></strong> to <a href=\"https://wandb.ai/muk465/CS6910-Assignment-3_attn\" target=\"_blank\">Weights & Biases</a> (<a href=\"https://wandb.me/run\" target=\"_blank\">docs</a>)<br/>Sweep page:  <a href=\"https://wandb.ai/muk465/CS6910-Assignment-3_attn/sweeps/wo9l1m7l\" target=\"_blank\">https://wandb.ai/muk465/CS6910-Assignment-3_attn/sweeps/wo9l1m7l</a>"
            ]
          },
          "metadata": {}
        },
        {
          "output_type": "stream",
          "name": "stdout",
          "text": [
            "Model: \"model\"\n",
            "__________________________________________________________________________________________________\n",
            " Layer (type)                   Output Shape         Param #     Connected to                     \n",
            "==================================================================================================\n",
            " input_1 (InputLayer)           [(None, None, 27)]   0           []                               \n",
            "                                                                                                  \n",
            " input_2 (InputLayer)           [(None, None, 66)]   0           []                               \n",
            "                                                                                                  \n",
            " simple_rnn (SimpleRNN)         [(None, None, 256),  72704       ['input_1[0][0]']                \n",
            "                                 (None, 256)]                                                     \n",
            "                                                                                                  \n",
            " simple_rnn_1 (SimpleRNN)       [(None, None, 256),  82688       ['input_2[0][0]',                \n",
            "                                 (None, 256)]                     'simple_rnn[0][1]']             \n",
            "                                                                                                  \n",
            " additive_attention (AdditiveAt  (None, None, 256)   256         ['simple_rnn_1[0][0]',           \n",
            " tention)                                                         'simple_rnn[0][0]']             \n",
            "                                                                                                  \n",
            " concat_layer (Concatenate)     (None, None, 512)    0           ['simple_rnn_1[0][0]',           \n",
            "                                                                  'additive_attention[0][0]']     \n",
            "                                                                                                  \n",
            " dense (Dense)                  (None, None, 64)     32832       ['concat_layer[0][0]']           \n",
            "                                                                                                  \n",
            " dense_1 (Dense)                (None, None, 66)     4290        ['dense[0][0]']                  \n",
            "                                                                                                  \n",
            "==================================================================================================\n",
            "Total params: 192,770\n",
            "Trainable params: 192,770\n",
            "Non-trainable params: 0\n",
            "__________________________________________________________________________________________________\n",
            "Epoch 1/15\n",
            "691/691 [==============================] - 30s 41ms/step - loss: 1.0016 - accuracy: 0.7410 - val_loss: 1.5895 - val_accuracy: 0.6630 - _timestamp: 1652447361.0000 - _runtime: 37.0000\n",
            "Epoch 2/15\n",
            "691/691 [==============================] - 28s 40ms/step - loss: 0.7069 - accuracy: 0.8017 - val_loss: 1.6390 - val_accuracy: 0.6920 - _timestamp: 1652447389.0000 - _runtime: 65.0000\n",
            "Epoch 3/15\n",
            "691/691 [==============================] - 28s 41ms/step - loss: 0.5979 - accuracy: 0.8285 - val_loss: 1.6491 - val_accuracy: 0.7141 - _timestamp: 1652447417.0000 - _runtime: 93.0000\n",
            "Epoch 4/15\n",
            "691/691 [==============================] - 28s 41ms/step - loss: 0.5532 - accuracy: 0.8402 - val_loss: 1.6688 - val_accuracy: 0.7157 - _timestamp: 1652447445.0000 - _runtime: 121.0000\n",
            "Epoch 5/15\n",
            "691/691 [==============================] - 28s 40ms/step - loss: 0.5273 - accuracy: 0.8468 - val_loss: 1.7881 - val_accuracy: 0.7088 - _timestamp: 1652447473.0000 - _runtime: 149.0000\n",
            "Epoch 6/15\n",
            "691/691 [==============================] - 28s 41ms/step - loss: 0.5088 - accuracy: 0.8515 - val_loss: 1.7400 - val_accuracy: 0.7189 - _timestamp: 1652447501.0000 - _runtime: 177.0000\n",
            "Epoch 7/15\n",
            "691/691 [==============================] - 27s 40ms/step - loss: 0.4914 - accuracy: 0.8560 - val_loss: 1.6882 - val_accuracy: 0.7293 - _timestamp: 1652447528.0000 - _runtime: 204.0000\n",
            "Epoch 8/15\n",
            "691/691 [==============================] - 27s 40ms/step - loss: 0.4801 - accuracy: 0.8588 - val_loss: 1.6803 - val_accuracy: 0.7286 - _timestamp: 1652447556.0000 - _runtime: 232.0000\n",
            "Epoch 9/15\n",
            "691/691 [==============================] - 27s 40ms/step - loss: 0.4713 - accuracy: 0.8612 - val_loss: 1.6389 - val_accuracy: 0.7326 - _timestamp: 1652447583.0000 - _runtime: 259.0000\n",
            "Epoch 10/15\n",
            "691/691 [==============================] - 27s 40ms/step - loss: 0.4645 - accuracy: 0.8628 - val_loss: 1.7822 - val_accuracy: 0.7303 - _timestamp: 1652447611.0000 - _runtime: 287.0000\n",
            "Epoch 11/15\n",
            "691/691 [==============================] - 28s 40ms/step - loss: 0.4599 - accuracy: 0.8638 - val_loss: 1.6412 - val_accuracy: 0.7388 - _timestamp: 1652447638.0000 - _runtime: 314.0000\n",
            "Epoch 12/15\n",
            "691/691 [==============================] - 28s 40ms/step - loss: 0.4531 - accuracy: 0.8655 - val_loss: 1.5425 - val_accuracy: 0.7421 - _timestamp: 1652447666.0000 - _runtime: 342.0000\n",
            "Epoch 13/15\n",
            "691/691 [==============================] - 28s 40ms/step - loss: 0.4483 - accuracy: 0.8669 - val_loss: 1.6741 - val_accuracy: 0.7425 - _timestamp: 1652447694.0000 - _runtime: 370.0000\n",
            "Epoch 14/15\n",
            "691/691 [==============================] - 28s 40ms/step - loss: 0.4435 - accuracy: 0.8681 - val_loss: 1.5429 - val_accuracy: 0.7422 - _timestamp: 1652447722.0000 - _runtime: 398.0000\n",
            "Epoch 15/15\n",
            "691/691 [==============================] - 28s 40ms/step - loss: 0.4403 - accuracy: 0.8689 - val_loss: 1.5710 - val_accuracy: 0.7496 - _timestamp: 1652447749.0000 - _runtime: 425.0000\n",
            "INFO:tensorflow:Assets written to: ./TrainedModels/RNNeng1_hi_1_adam_15_0.3_64_256/assets\n"
          ]
        },
        {
          "output_type": "stream",
          "name": "stderr",
          "text": [
            "INFO:tensorflow:Assets written to: ./TrainedModels/RNNeng1_hi_1_adam_15_0.3_64_256/assets\n"
          ]
        },
        {
          "output_type": "display_data",
          "data": {
            "text/plain": [
              "<IPython.core.display.HTML object>"
            ],
            "text/html": [
              "Waiting for W&B process to finish... <strong style=\"color:green\">(success).</strong>"
            ]
          },
          "metadata": {}
        },
        {
          "output_type": "display_data",
          "data": {
            "text/plain": [
              "VBox(children=(Label(value='2.266 MB of 2.266 MB uploaded (0.000 MB deduped)\\r'), FloatProgress(value=1.0, max…"
            ],
            "application/vnd.jupyter.widget-view+json": {
              "version_major": 2,
              "version_minor": 0,
              "model_id": "b5045f42568347da8abd055afa9e952b"
            }
          },
          "metadata": {}
        },
        {
          "output_type": "display_data",
          "data": {
            "text/plain": [
              "<IPython.core.display.HTML object>"
            ],
            "text/html": [
              "<style>\n",
              "    table.wandb td:nth-child(1) { padding: 0 10px; text-align: left ; width: auto;} td:nth-child(2) {text-align: left ; width: 100%}\n",
              "    .wandb-row { display: flex; flex-direction: row; flex-wrap: wrap; justify-content: flex-start; width: 100% }\n",
              "    .wandb-col { display: flex; flex-direction: column; flex-basis: 100%; flex: 1; padding: 10px; }\n",
              "    </style>\n",
              "<div class=\"wandb-row\"><div class=\"wandb-col\"><h3>Run history:</h3><br/><table class=\"wandb\"><tr><td>accuracy</td><td>▁▄▆▆▇▇▇▇███████</td></tr><tr><td>epoch</td><td>▁▁▂▃▃▃▄▅▅▅▆▇▇▇█</td></tr><tr><td>loss</td><td>█▄▃▂▂▂▂▁▁▁▁▁▁▁▁</td></tr><tr><td>val_accuracy</td><td>▁▃▅▅▅▆▆▆▇▆▇▇▇▇█</td></tr><tr><td>val_loss</td><td>▂▄▄▅█▇▅▅▄█▄▁▅▁▂</td></tr></table><br/></div><div class=\"wandb-col\"><h3>Run summary:</h3><br/><table class=\"wandb\"><tr><td>accuracy</td><td>0.86894</td></tr><tr><td>best_epoch</td><td>11</td></tr><tr><td>best_val_loss</td><td>1.54251</td></tr><tr><td>epoch</td><td>14</td></tr><tr><td>loss</td><td>0.4403</td></tr><tr><td>val_accuracy</td><td>0.74957</td></tr><tr><td>val_loss</td><td>1.57097</td></tr></table><br/></div></div>"
            ]
          },
          "metadata": {}
        },
        {
          "output_type": "display_data",
          "data": {
            "text/plain": [
              "<IPython.core.display.HTML object>"
            ],
            "text/html": [
              "Synced <strong style=\"color:#cdcd00\">gallant-sweep-15</strong>: <a href=\"https://wandb.ai/muk465/CS6910-Assignment-3_attn/runs/e23ucbes\" target=\"_blank\">https://wandb.ai/muk465/CS6910-Assignment-3_attn/runs/e23ucbes</a><br/>Synced 5 W&B file(s), 1 media file(s), 0 artifact file(s) and 1 other file(s)"
            ]
          },
          "metadata": {}
        },
        {
          "output_type": "display_data",
          "data": {
            "text/plain": [
              "<IPython.core.display.HTML object>"
            ],
            "text/html": [
              "Find logs at: <code>./wandb/run-20220513_130844-e23ucbes/logs</code>"
            ]
          },
          "metadata": {}
        },
        {
          "output_type": "stream",
          "name": "stderr",
          "text": [
            "\u001b[34m\u001b[1mwandb\u001b[0m: Sweep Agent: Waiting for job.\n",
            "\u001b[34m\u001b[1mwandb\u001b[0m: Job received.\n",
            "\u001b[34m\u001b[1mwandb\u001b[0m: Agent Starting Run: xc6q823c with config:\n",
            "\u001b[34m\u001b[1mwandb\u001b[0m: \tbatch_size: 32\n",
            "\u001b[34m\u001b[1mwandb\u001b[0m: \tcell_type: RNN\n",
            "\u001b[34m\u001b[1mwandb\u001b[0m: \tdropout: 0.3\n",
            "\u001b[34m\u001b[1mwandb\u001b[0m: \tepochs: 15\n",
            "\u001b[34m\u001b[1mwandb\u001b[0m: \thidden: 64\n",
            "\u001b[34m\u001b[1mwandb\u001b[0m: \tlatentDim: 256\n",
            "\u001b[34m\u001b[1mwandb\u001b[0m: \tnumDecoders: 2\n",
            "\u001b[34m\u001b[1mwandb\u001b[0m: \tnumEncoders: 2\n",
            "\u001b[34m\u001b[1mwandb\u001b[0m: \toptimiser: adam\n",
            "\u001b[34m\u001b[1mwandb\u001b[0m: \u001b[33mWARNING\u001b[0m Ignored wandb.init() arg project when running a sweep.\n"
          ]
        },
        {
          "output_type": "display_data",
          "data": {
            "text/plain": [
              "<IPython.core.display.HTML object>"
            ],
            "text/html": [
              "Tracking run with wandb version 0.12.16"
            ]
          },
          "metadata": {}
        },
        {
          "output_type": "display_data",
          "data": {
            "text/plain": [
              "<IPython.core.display.HTML object>"
            ],
            "text/html": [
              "Run data is saved locally in <code>/content/wandb/run-20220513_131615-xc6q823c</code>"
            ]
          },
          "metadata": {}
        },
        {
          "output_type": "display_data",
          "data": {
            "text/plain": [
              "<IPython.core.display.HTML object>"
            ],
            "text/html": [
              "Syncing run <strong><a href=\"https://wandb.ai/muk465/CS6910-Assignment-3_attn/runs/xc6q823c\" target=\"_blank\">generous-sweep-16</a></strong> to <a href=\"https://wandb.ai/muk465/CS6910-Assignment-3_attn\" target=\"_blank\">Weights & Biases</a> (<a href=\"https://wandb.me/run\" target=\"_blank\">docs</a>)<br/>Sweep page:  <a href=\"https://wandb.ai/muk465/CS6910-Assignment-3_attn/sweeps/wo9l1m7l\" target=\"_blank\">https://wandb.ai/muk465/CS6910-Assignment-3_attn/sweeps/wo9l1m7l</a>"
            ]
          },
          "metadata": {}
        },
        {
          "output_type": "stream",
          "name": "stdout",
          "text": [
            "Model: \"model\"\n",
            "__________________________________________________________________________________________________\n",
            " Layer (type)                   Output Shape         Param #     Connected to                     \n",
            "==================================================================================================\n",
            " input_1 (InputLayer)           [(None, None, 27)]   0           []                               \n",
            "                                                                                                  \n",
            " input_2 (InputLayer)           [(None, None, 66)]   0           []                               \n",
            "                                                                                                  \n",
            " simple_rnn_1 (SimpleRNN)       [(None, None, 256),  72704       ['input_1[0][0]']                \n",
            "                                 (None, 256)]                                                     \n",
            "                                                                                                  \n",
            " simple_rnn_3 (SimpleRNN)       [(None, None, 256),  82688       ['input_2[0][0]',                \n",
            "                                 (None, 256)]                     'simple_rnn_1[0][1]']           \n",
            "                                                                                                  \n",
            " simple_rnn (SimpleRNN)         [(None, None, 256),  72704       ['input_1[0][0]']                \n",
            "                                 (None, 256)]                                                     \n",
            "                                                                                                  \n",
            " additive_attention (AdditiveAt  (None, None, 256)   256         ['simple_rnn_3[0][0]',           \n",
            " tention)                                                         'simple_rnn[0][0]']             \n",
            "                                                                                                  \n",
            " concat_layer (Concatenate)     (None, None, 512)    0           ['simple_rnn_3[0][0]',           \n",
            "                                                                  'additive_attention[0][0]']     \n",
            "                                                                                                  \n",
            " dense (Dense)                  (None, None, 64)     32832       ['concat_layer[0][0]']           \n",
            "                                                                                                  \n",
            " dense_1 (Dense)                (None, None, 66)     4290        ['dense[0][0]']                  \n",
            "                                                                                                  \n",
            "==================================================================================================\n",
            "Total params: 265,474\n",
            "Trainable params: 265,474\n",
            "Non-trainable params: 0\n",
            "__________________________________________________________________________________________________\n",
            "Epoch 1/15\n",
            "1382/1382 [==============================] - 81s 57ms/step - loss: 0.8333 - accuracy: 0.7774 - val_loss: 1.4939 - val_accuracy: 0.6843 - _timestamp: 1652447864.0000 - _runtime: 89.0000\n",
            "Epoch 2/15\n",
            "1382/1382 [==============================] - 77s 56ms/step - loss: 0.5560 - accuracy: 0.8404 - val_loss: 1.4701 - val_accuracy: 0.7075 - _timestamp: 1652447942.0000 - _runtime: 167.0000\n",
            "Epoch 3/15\n",
            "1382/1382 [==============================] - 77s 56ms/step - loss: 0.5073 - accuracy: 0.8531 - val_loss: 1.4579 - val_accuracy: 0.7240 - _timestamp: 1652448018.0000 - _runtime: 243.0000\n",
            "Epoch 4/15\n",
            "1382/1382 [==============================] - 77s 56ms/step - loss: 0.4796 - accuracy: 0.8604 - val_loss: 1.5725 - val_accuracy: 0.7162 - _timestamp: 1652448095.0000 - _runtime: 320.0000\n",
            "Epoch 5/15\n",
            "1382/1382 [==============================] - 77s 55ms/step - loss: 0.4627 - accuracy: 0.8648 - val_loss: 1.4451 - val_accuracy: 0.7307 - _timestamp: 1652448172.0000 - _runtime: 397.0000\n",
            "Epoch 6/15\n",
            "1382/1382 [==============================] - 77s 56ms/step - loss: 0.4554 - accuracy: 0.8665 - val_loss: 1.4005 - val_accuracy: 0.7321 - _timestamp: 1652448249.0000 - _runtime: 474.0000\n",
            "Epoch 7/15\n",
            "1382/1382 [==============================] - 78s 56ms/step - loss: 0.4459 - accuracy: 0.8690 - val_loss: 1.4702 - val_accuracy: 0.7368 - _timestamp: 1652448327.0000 - _runtime: 552.0000\n",
            "Epoch 8/15\n",
            "1382/1382 [==============================] - 78s 56ms/step - loss: 0.4365 - accuracy: 0.8714 - val_loss: 1.5533 - val_accuracy: 0.7291 - _timestamp: 1652448405.0000 - _runtime: 630.0000\n",
            "Epoch 9/15\n",
            "1382/1382 [==============================] - 77s 56ms/step - loss: 0.4330 - accuracy: 0.8722 - val_loss: 1.4771 - val_accuracy: 0.7411 - _timestamp: 1652448481.0000 - _runtime: 706.0000\n",
            "Epoch 10/15\n",
            "1382/1382 [==============================] - 77s 56ms/step - loss: 0.4287 - accuracy: 0.8734 - val_loss: 1.5633 - val_accuracy: 0.7381 - _timestamp: 1652448559.0000 - _runtime: 784.0000\n",
            "Epoch 11/15\n",
            "1382/1382 [==============================] - 77s 56ms/step - loss: 0.4232 - accuracy: 0.8745 - val_loss: 1.3651 - val_accuracy: 0.7505 - _timestamp: 1652448636.0000 - _runtime: 861.0000\n",
            "Epoch 12/15\n",
            "1382/1382 [==============================] - 78s 56ms/step - loss: 0.4229 - accuracy: 0.8750 - val_loss: 1.4420 - val_accuracy: 0.7472 - _timestamp: 1652448714.0000 - _runtime: 939.0000\n",
            "Epoch 13/15\n",
            "1382/1382 [==============================] - 78s 56ms/step - loss: 0.4195 - accuracy: 0.8754 - val_loss: 1.4973 - val_accuracy: 0.7495 - _timestamp: 1652448791.0000 - _runtime: 1016.0000\n",
            "Epoch 14/15\n",
            "1382/1382 [==============================] - 77s 55ms/step - loss: 0.4149 - accuracy: 0.8765 - val_loss: 1.4995 - val_accuracy: 0.7521 - _timestamp: 1652448868.0000 - _runtime: 1093.0000\n",
            "Epoch 15/15\n",
            "1382/1382 [==============================] - 77s 56ms/step - loss: 0.4165 - accuracy: 0.8759 - val_loss: 1.5230 - val_accuracy: 0.7511 - _timestamp: 1652448945.0000 - _runtime: 1170.0000\n",
            "INFO:tensorflow:Assets written to: ./TrainedModels/RNNeng2_hi_2_adam_15_0.3_32_256/assets\n"
          ]
        },
        {
          "output_type": "stream",
          "name": "stderr",
          "text": [
            "INFO:tensorflow:Assets written to: ./TrainedModels/RNNeng2_hi_2_adam_15_0.3_32_256/assets\n"
          ]
        },
        {
          "output_type": "display_data",
          "data": {
            "text/plain": [
              "<IPython.core.display.HTML object>"
            ],
            "text/html": [
              "Waiting for W&B process to finish... <strong style=\"color:green\">(success).</strong>"
            ]
          },
          "metadata": {}
        },
        {
          "output_type": "display_data",
          "data": {
            "text/plain": [
              "VBox(children=(Label(value='3.108 MB of 3.108 MB uploaded (0.000 MB deduped)\\r'), FloatProgress(value=1.0, max…"
            ],
            "application/vnd.jupyter.widget-view+json": {
              "version_major": 2,
              "version_minor": 0,
              "model_id": "7725e8fa190c499f8dfc79160f2e538b"
            }
          },
          "metadata": {}
        },
        {
          "output_type": "display_data",
          "data": {
            "text/plain": [
              "<IPython.core.display.HTML object>"
            ],
            "text/html": [
              "<style>\n",
              "    table.wandb td:nth-child(1) { padding: 0 10px; text-align: left ; width: auto;} td:nth-child(2) {text-align: left ; width: 100%}\n",
              "    .wandb-row { display: flex; flex-direction: row; flex-wrap: wrap; justify-content: flex-start; width: 100% }\n",
              "    .wandb-col { display: flex; flex-direction: column; flex-basis: 100%; flex: 1; padding: 10px; }\n",
              "    </style>\n",
              "<div class=\"wandb-row\"><div class=\"wandb-col\"><h3>Run history:</h3><br/><table class=\"wandb\"><tr><td>accuracy</td><td>▁▅▆▇▇▇▇████████</td></tr><tr><td>epoch</td><td>▁▁▂▃▃▃▄▅▅▅▆▇▇▇█</td></tr><tr><td>loss</td><td>█▃▃▂▂▂▂▁▁▁▁▁▁▁▁</td></tr><tr><td>val_accuracy</td><td>▁▃▅▄▆▆▆▆▇▇█▇███</td></tr><tr><td>val_loss</td><td>▅▅▄█▄▂▅▇▅█▁▄▅▆▆</td></tr></table><br/></div><div class=\"wandb-col\"><h3>Run summary:</h3><br/><table class=\"wandb\"><tr><td>accuracy</td><td>0.87592</td></tr><tr><td>best_epoch</td><td>10</td></tr><tr><td>best_val_loss</td><td>1.36515</td></tr><tr><td>epoch</td><td>14</td></tr><tr><td>loss</td><td>0.41647</td></tr><tr><td>val_accuracy</td><td>0.75107</td></tr><tr><td>val_loss</td><td>1.52305</td></tr></table><br/></div></div>"
            ]
          },
          "metadata": {}
        },
        {
          "output_type": "display_data",
          "data": {
            "text/plain": [
              "<IPython.core.display.HTML object>"
            ],
            "text/html": [
              "Synced <strong style=\"color:#cdcd00\">generous-sweep-16</strong>: <a href=\"https://wandb.ai/muk465/CS6910-Assignment-3_attn/runs/xc6q823c\" target=\"_blank\">https://wandb.ai/muk465/CS6910-Assignment-3_attn/runs/xc6q823c</a><br/>Synced 5 W&B file(s), 1 media file(s), 0 artifact file(s) and 1 other file(s)"
            ]
          },
          "metadata": {}
        },
        {
          "output_type": "display_data",
          "data": {
            "text/plain": [
              "<IPython.core.display.HTML object>"
            ],
            "text/html": [
              "Find logs at: <code>./wandb/run-20220513_131615-xc6q823c/logs</code>"
            ]
          },
          "metadata": {}
        },
        {
          "output_type": "stream",
          "name": "stderr",
          "text": [
            "\u001b[34m\u001b[1mwandb\u001b[0m: Agent Starting Run: gv74y789 with config:\n",
            "\u001b[34m\u001b[1mwandb\u001b[0m: \tbatch_size: 32\n",
            "\u001b[34m\u001b[1mwandb\u001b[0m: \tcell_type: RNN\n",
            "\u001b[34m\u001b[1mwandb\u001b[0m: \tdropout: 0.3\n",
            "\u001b[34m\u001b[1mwandb\u001b[0m: \tepochs: 20\n",
            "\u001b[34m\u001b[1mwandb\u001b[0m: \thidden: 64\n",
            "\u001b[34m\u001b[1mwandb\u001b[0m: \tlatentDim: 256\n",
            "\u001b[34m\u001b[1mwandb\u001b[0m: \tnumDecoders: 2\n",
            "\u001b[34m\u001b[1mwandb\u001b[0m: \tnumEncoders: 1\n",
            "\u001b[34m\u001b[1mwandb\u001b[0m: \toptimiser: adam\n",
            "\u001b[34m\u001b[1mwandb\u001b[0m: \u001b[33mWARNING\u001b[0m Ignored wandb.init() arg project when running a sweep.\n"
          ]
        },
        {
          "output_type": "display_data",
          "data": {
            "text/plain": [
              "<IPython.core.display.HTML object>"
            ],
            "text/html": [
              "Tracking run with wandb version 0.12.16"
            ]
          },
          "metadata": {}
        },
        {
          "output_type": "display_data",
          "data": {
            "text/plain": [
              "<IPython.core.display.HTML object>"
            ],
            "text/html": [
              "Run data is saved locally in <code>/content/wandb/run-20220513_133607-gv74y789</code>"
            ]
          },
          "metadata": {}
        },
        {
          "output_type": "display_data",
          "data": {
            "text/plain": [
              "<IPython.core.display.HTML object>"
            ],
            "text/html": [
              "Syncing run <strong><a href=\"https://wandb.ai/muk465/CS6910-Assignment-3_attn/runs/gv74y789\" target=\"_blank\">solar-sweep-17</a></strong> to <a href=\"https://wandb.ai/muk465/CS6910-Assignment-3_attn\" target=\"_blank\">Weights & Biases</a> (<a href=\"https://wandb.me/run\" target=\"_blank\">docs</a>)<br/>Sweep page:  <a href=\"https://wandb.ai/muk465/CS6910-Assignment-3_attn/sweeps/wo9l1m7l\" target=\"_blank\">https://wandb.ai/muk465/CS6910-Assignment-3_attn/sweeps/wo9l1m7l</a>"
            ]
          },
          "metadata": {}
        },
        {
          "output_type": "stream",
          "name": "stdout",
          "text": [
            "Model: \"model\"\n",
            "__________________________________________________________________________________________________\n",
            " Layer (type)                   Output Shape         Param #     Connected to                     \n",
            "==================================================================================================\n",
            " input_1 (InputLayer)           [(None, None, 27)]   0           []                               \n",
            "                                                                                                  \n",
            " input_2 (InputLayer)           [(None, None, 66)]   0           []                               \n",
            "                                                                                                  \n",
            " simple_rnn (SimpleRNN)         [(None, None, 256),  72704       ['input_1[0][0]']                \n",
            "                                 (None, 256)]                                                     \n",
            "                                                                                                  \n",
            " simple_rnn_2 (SimpleRNN)       [(None, None, 256),  82688       ['input_2[0][0]',                \n",
            "                                 (None, 256)]                     'simple_rnn[0][1]']             \n",
            "                                                                                                  \n",
            " additive_attention (AdditiveAt  (None, None, 256)   256         ['simple_rnn_2[0][0]',           \n",
            " tention)                                                         'simple_rnn[0][0]']             \n",
            "                                                                                                  \n",
            " concat_layer (Concatenate)     (None, None, 512)    0           ['simple_rnn_2[0][0]',           \n",
            "                                                                  'additive_attention[0][0]']     \n",
            "                                                                                                  \n",
            " dense (Dense)                  (None, None, 64)     32832       ['concat_layer[0][0]']           \n",
            "                                                                                                  \n",
            " dense_1 (Dense)                (None, None, 66)     4290        ['dense[0][0]']                  \n",
            "                                                                                                  \n",
            "==================================================================================================\n",
            "Total params: 192,770\n",
            "Trainable params: 192,770\n",
            "Non-trainable params: 0\n",
            "__________________________________________________________________________________________________\n",
            "Epoch 1/20\n",
            "1382/1382 [==============================] - 56s 39ms/step - loss: 0.9279 - accuracy: 0.7552 - val_loss: 1.8550 - val_accuracy: 0.6448 - _timestamp: 1652449031.0000 - _runtime: 64.0000\n",
            "Epoch 2/20\n",
            "1382/1382 [==============================] - 54s 39ms/step - loss: 0.6257 - accuracy: 0.8220 - val_loss: 1.7906 - val_accuracy: 0.6928 - _timestamp: 1652449085.0000 - _runtime: 118.0000\n",
            "Epoch 3/20\n",
            "1382/1382 [==============================] - 54s 39ms/step - loss: 0.5586 - accuracy: 0.8385 - val_loss: 1.5213 - val_accuracy: 0.7222 - _timestamp: 1652449139.0000 - _runtime: 172.0000\n",
            "Epoch 4/20\n",
            "1382/1382 [==============================] - 55s 40ms/step - loss: 0.5261 - accuracy: 0.8462 - val_loss: 1.3544 - val_accuracy: 0.7290 - _timestamp: 1652449193.0000 - _runtime: 226.0000\n",
            "Epoch 5/20\n",
            "1382/1382 [==============================] - 54s 39ms/step - loss: 0.5082 - accuracy: 0.8507 - val_loss: 1.3673 - val_accuracy: 0.7361 - _timestamp: 1652449247.0000 - _runtime: 280.0000\n",
            "Epoch 6/20\n",
            "1382/1382 [==============================] - 54s 39ms/step - loss: 0.4934 - accuracy: 0.8544 - val_loss: 1.3817 - val_accuracy: 0.7451 - _timestamp: 1652449302.0000 - _runtime: 335.0000\n",
            "Epoch 7/20\n",
            "1382/1382 [==============================] - 54s 39ms/step - loss: 0.4844 - accuracy: 0.8570 - val_loss: 1.4495 - val_accuracy: 0.7340 - _timestamp: 1652449356.0000 - _runtime: 389.0000\n",
            "Epoch 8/20\n",
            "1382/1382 [==============================] - 54s 39ms/step - loss: 0.4774 - accuracy: 0.8589 - val_loss: 1.5244 - val_accuracy: 0.7356 - _timestamp: 1652449410.0000 - _runtime: 443.0000\n",
            "Epoch 9/20\n",
            "1382/1382 [==============================] - 53s 39ms/step - loss: 0.4705 - accuracy: 0.8608 - val_loss: 1.5360 - val_accuracy: 0.7366 - _timestamp: 1652449463.0000 - _runtime: 496.0000\n",
            "Epoch 10/20\n",
            "1382/1382 [==============================] - 54s 39ms/step - loss: 0.4637 - accuracy: 0.8623 - val_loss: 1.4485 - val_accuracy: 0.7528 - _timestamp: 1652449517.0000 - _runtime: 550.0000\n",
            "Epoch 11/20\n",
            "1382/1382 [==============================] - 54s 39ms/step - loss: 0.4590 - accuracy: 0.8637 - val_loss: 1.5030 - val_accuracy: 0.7515 - _timestamp: 1652449570.0000 - _runtime: 603.0000\n",
            "Epoch 12/20\n",
            "1382/1382 [==============================] - 54s 39ms/step - loss: 0.4553 - accuracy: 0.8646 - val_loss: 1.4406 - val_accuracy: 0.7500 - _timestamp: 1652449624.0000 - _runtime: 657.0000\n",
            "Epoch 13/20\n",
            "1382/1382 [==============================] - 54s 39ms/step - loss: 0.4507 - accuracy: 0.8659 - val_loss: 1.5966 - val_accuracy: 0.7392 - _timestamp: 1652449678.0000 - _runtime: 711.0000\n",
            "Epoch 14/20\n",
            "1382/1382 [==============================] - 54s 39ms/step - loss: 0.4489 - accuracy: 0.8668 - val_loss: 1.4609 - val_accuracy: 0.7501 - _timestamp: 1652449732.0000 - _runtime: 765.0000\n",
            "Epoch 15/20\n",
            "1382/1382 [==============================] - 54s 39ms/step - loss: 0.4445 - accuracy: 0.8678 - val_loss: 1.4869 - val_accuracy: 0.7539 - _timestamp: 1652449786.0000 - _runtime: 819.0000\n",
            "Epoch 15: early stopping\n",
            "INFO:tensorflow:Assets written to: ./TrainedModels/RNNeng1_hi_2_adam_20_0.3_32_256/assets\n"
          ]
        },
        {
          "output_type": "stream",
          "name": "stderr",
          "text": [
            "INFO:tensorflow:Assets written to: ./TrainedModels/RNNeng1_hi_2_adam_20_0.3_32_256/assets\n"
          ]
        },
        {
          "output_type": "display_data",
          "data": {
            "text/plain": [
              "<IPython.core.display.HTML object>"
            ],
            "text/html": [
              "Waiting for W&B process to finish... <strong style=\"color:green\">(success).</strong>"
            ]
          },
          "metadata": {}
        },
        {
          "output_type": "display_data",
          "data": {
            "text/plain": [
              "VBox(children=(Label(value='2.266 MB of 2.266 MB uploaded (0.000 MB deduped)\\r'), FloatProgress(value=1.0, max…"
            ],
            "application/vnd.jupyter.widget-view+json": {
              "version_major": 2,
              "version_minor": 0,
              "model_id": "b69a5d547c40498b8135c06506371f50"
            }
          },
          "metadata": {}
        },
        {
          "output_type": "display_data",
          "data": {
            "text/plain": [
              "<IPython.core.display.HTML object>"
            ],
            "text/html": [
              "<style>\n",
              "    table.wandb td:nth-child(1) { padding: 0 10px; text-align: left ; width: auto;} td:nth-child(2) {text-align: left ; width: 100%}\n",
              "    .wandb-row { display: flex; flex-direction: row; flex-wrap: wrap; justify-content: flex-start; width: 100% }\n",
              "    .wandb-col { display: flex; flex-direction: column; flex-basis: 100%; flex: 1; padding: 10px; }\n",
              "    </style>\n",
              "<div class=\"wandb-row\"><div class=\"wandb-col\"><h3>Run history:</h3><br/><table class=\"wandb\"><tr><td>accuracy</td><td>▁▅▆▇▇▇▇▇███████</td></tr><tr><td>epoch</td><td>▁▁▂▃▃▃▄▅▅▅▆▇▇▇█</td></tr><tr><td>loss</td><td>█▄▃▂▂▂▂▁▁▁▁▁▁▁▁</td></tr><tr><td>val_accuracy</td><td>▁▄▆▆▇▇▇▇▇███▇██</td></tr><tr><td>val_loss</td><td>█▇▃▁▁▁▂▃▄▂▃▂▄▂▃</td></tr></table><br/></div><div class=\"wandb-col\"><h3>Run summary:</h3><br/><table class=\"wandb\"><tr><td>accuracy</td><td>0.86776</td></tr><tr><td>best_epoch</td><td>3</td></tr><tr><td>best_val_loss</td><td>1.3544</td></tr><tr><td>epoch</td><td>14</td></tr><tr><td>loss</td><td>0.44446</td></tr><tr><td>val_accuracy</td><td>0.7539</td></tr><tr><td>val_loss</td><td>1.48688</td></tr></table><br/></div></div>"
            ]
          },
          "metadata": {}
        },
        {
          "output_type": "display_data",
          "data": {
            "text/plain": [
              "<IPython.core.display.HTML object>"
            ],
            "text/html": [
              "Synced <strong style=\"color:#cdcd00\">solar-sweep-17</strong>: <a href=\"https://wandb.ai/muk465/CS6910-Assignment-3_attn/runs/gv74y789\" target=\"_blank\">https://wandb.ai/muk465/CS6910-Assignment-3_attn/runs/gv74y789</a><br/>Synced 5 W&B file(s), 1 media file(s), 0 artifact file(s) and 1 other file(s)"
            ]
          },
          "metadata": {}
        },
        {
          "output_type": "display_data",
          "data": {
            "text/plain": [
              "<IPython.core.display.HTML object>"
            ],
            "text/html": [
              "Find logs at: <code>./wandb/run-20220513_133607-gv74y789/logs</code>"
            ]
          },
          "metadata": {}
        },
        {
          "output_type": "stream",
          "name": "stderr",
          "text": [
            "\u001b[34m\u001b[1mwandb\u001b[0m: Agent Starting Run: m4m33c0y with config:\n",
            "\u001b[34m\u001b[1mwandb\u001b[0m: \tbatch_size: 32\n",
            "\u001b[34m\u001b[1mwandb\u001b[0m: \tcell_type: RNN\n",
            "\u001b[34m\u001b[1mwandb\u001b[0m: \tdropout: 0.3\n",
            "\u001b[34m\u001b[1mwandb\u001b[0m: \tepochs: 20\n",
            "\u001b[34m\u001b[1mwandb\u001b[0m: \thidden: 128\n",
            "\u001b[34m\u001b[1mwandb\u001b[0m: \tlatentDim: 256\n",
            "\u001b[34m\u001b[1mwandb\u001b[0m: \tnumDecoders: 3\n",
            "\u001b[34m\u001b[1mwandb\u001b[0m: \tnumEncoders: 2\n",
            "\u001b[34m\u001b[1mwandb\u001b[0m: \toptimiser: adam\n",
            "\u001b[34m\u001b[1mwandb\u001b[0m: \u001b[33mWARNING\u001b[0m Ignored wandb.init() arg project when running a sweep.\n"
          ]
        },
        {
          "output_type": "display_data",
          "data": {
            "text/plain": [
              "<IPython.core.display.HTML object>"
            ],
            "text/html": [
              "Tracking run with wandb version 0.12.16"
            ]
          },
          "metadata": {}
        },
        {
          "output_type": "display_data",
          "data": {
            "text/plain": [
              "<IPython.core.display.HTML object>"
            ],
            "text/html": [
              "Run data is saved locally in <code>/content/wandb/run-20220513_135000-m4m33c0y</code>"
            ]
          },
          "metadata": {}
        },
        {
          "output_type": "display_data",
          "data": {
            "text/plain": [
              "<IPython.core.display.HTML object>"
            ],
            "text/html": [
              "Syncing run <strong><a href=\"https://wandb.ai/muk465/CS6910-Assignment-3_attn/runs/m4m33c0y\" target=\"_blank\">comic-sweep-18</a></strong> to <a href=\"https://wandb.ai/muk465/CS6910-Assignment-3_attn\" target=\"_blank\">Weights & Biases</a> (<a href=\"https://wandb.me/run\" target=\"_blank\">docs</a>)<br/>Sweep page:  <a href=\"https://wandb.ai/muk465/CS6910-Assignment-3_attn/sweeps/wo9l1m7l\" target=\"_blank\">https://wandb.ai/muk465/CS6910-Assignment-3_attn/sweeps/wo9l1m7l</a>"
            ]
          },
          "metadata": {}
        },
        {
          "output_type": "stream",
          "name": "stdout",
          "text": [
            "Model: \"model\"\n",
            "__________________________________________________________________________________________________\n",
            " Layer (type)                   Output Shape         Param #     Connected to                     \n",
            "==================================================================================================\n",
            " input_1 (InputLayer)           [(None, None, 27)]   0           []                               \n",
            "                                                                                                  \n",
            " input_2 (InputLayer)           [(None, None, 66)]   0           []                               \n",
            "                                                                                                  \n",
            " simple_rnn_1 (SimpleRNN)       [(None, None, 256),  72704       ['input_1[0][0]']                \n",
            "                                 (None, 256)]                                                     \n",
            "                                                                                                  \n",
            " simple_rnn_4 (SimpleRNN)       [(None, None, 256),  82688       ['input_2[0][0]',                \n",
            "                                 (None, 256)]                     'simple_rnn_1[0][1]']           \n",
            "                                                                                                  \n",
            " simple_rnn (SimpleRNN)         [(None, None, 256),  72704       ['input_1[0][0]']                \n",
            "                                 (None, 256)]                                                     \n",
            "                                                                                                  \n",
            " additive_attention (AdditiveAt  (None, None, 256)   256         ['simple_rnn_4[0][0]',           \n",
            " tention)                                                         'simple_rnn[0][0]']             \n",
            "                                                                                                  \n",
            " concat_layer (Concatenate)     (None, None, 512)    0           ['simple_rnn_4[0][0]',           \n",
            "                                                                  'additive_attention[0][0]']     \n",
            "                                                                                                  \n",
            " dense (Dense)                  (None, None, 128)    65664       ['concat_layer[0][0]']           \n",
            "                                                                                                  \n",
            " dense_1 (Dense)                (None, None, 66)     8514        ['dense[0][0]']                  \n",
            "                                                                                                  \n",
            "==================================================================================================\n",
            "Total params: 302,530\n",
            "Trainable params: 302,530\n",
            "Non-trainable params: 0\n",
            "__________________________________________________________________________________________________\n",
            "Epoch 1/20\n",
            "1382/1382 [==============================] - 81s 57ms/step - loss: 0.7876 - accuracy: 0.7869 - val_loss: 1.5148 - val_accuracy: 0.6734 - _timestamp: 1652449890.0000 - _runtime: 90.0000\n",
            "Epoch 2/20\n",
            "1382/1382 [==============================] - 79s 57ms/step - loss: 0.5441 - accuracy: 0.8427 - val_loss: 1.5054 - val_accuracy: 0.6949 - _timestamp: 1652449969.0000 - _runtime: 169.0000\n",
            "Epoch 3/20\n",
            "1382/1382 [==============================] - 79s 57ms/step - loss: 0.4953 - accuracy: 0.8561 - val_loss: 1.3917 - val_accuracy: 0.7071 - _timestamp: 1652450047.0000 - _runtime: 247.0000\n",
            "Epoch 4/20\n",
            "1382/1382 [==============================] - 78s 57ms/step - loss: 0.4680 - accuracy: 0.8630 - val_loss: 1.3904 - val_accuracy: 0.7189 - _timestamp: 1652450126.0000 - _runtime: 326.0000\n",
            "Epoch 5/20\n",
            "1382/1382 [==============================] - 79s 57ms/step - loss: 0.4539 - accuracy: 0.8667 - val_loss: 1.3616 - val_accuracy: 0.7317 - _timestamp: 1652450205.0000 - _runtime: 405.0000\n",
            "Epoch 6/20\n",
            "1382/1382 [==============================] - 78s 56ms/step - loss: 0.4392 - accuracy: 0.8705 - val_loss: 1.3020 - val_accuracy: 0.7449 - _timestamp: 1652450283.0000 - _runtime: 483.0000\n",
            "Epoch 7/20\n",
            "1382/1382 [==============================] - 78s 56ms/step - loss: 0.4303 - accuracy: 0.8728 - val_loss: 1.5163 - val_accuracy: 0.7220 - _timestamp: 1652450361.0000 - _runtime: 561.0000\n",
            "Epoch 8/20\n",
            "1382/1382 [==============================] - 79s 57ms/step - loss: 0.4252 - accuracy: 0.8743 - val_loss: 1.3618 - val_accuracy: 0.7405 - _timestamp: 1652450440.0000 - _runtime: 640.0000\n",
            "Epoch 9/20\n",
            "1382/1382 [==============================] - 79s 57ms/step - loss: 0.4207 - accuracy: 0.8750 - val_loss: 1.4067 - val_accuracy: 0.7391 - _timestamp: 1652450518.0000 - _runtime: 718.0000\n",
            "Epoch 10/20\n",
            "1382/1382 [==============================] - 78s 57ms/step - loss: 0.4167 - accuracy: 0.8760 - val_loss: 1.4924 - val_accuracy: 0.7377 - _timestamp: 1652450597.0000 - _runtime: 797.0000\n",
            "Epoch 11/20\n",
            "1382/1382 [==============================] - 78s 57ms/step - loss: 0.4134 - accuracy: 0.8770 - val_loss: 1.4865 - val_accuracy: 0.7371 - _timestamp: 1652450675.0000 - _runtime: 875.0000\n",
            "Epoch 11: early stopping\n",
            "INFO:tensorflow:Assets written to: ./TrainedModels/RNNeng2_hi_3_adam_20_0.3_32_256/assets\n"
          ]
        },
        {
          "output_type": "stream",
          "name": "stderr",
          "text": [
            "INFO:tensorflow:Assets written to: ./TrainedModels/RNNeng2_hi_3_adam_20_0.3_32_256/assets\n"
          ]
        },
        {
          "output_type": "display_data",
          "data": {
            "text/plain": [
              "<IPython.core.display.HTML object>"
            ],
            "text/html": [
              "Waiting for W&B process to finish... <strong style=\"color:green\">(success).</strong>"
            ]
          },
          "metadata": {}
        },
        {
          "output_type": "display_data",
          "data": {
            "text/plain": [
              "VBox(children=(Label(value='3.532 MB of 3.532 MB uploaded (0.000 MB deduped)\\r'), FloatProgress(value=1.0, max…"
            ],
            "application/vnd.jupyter.widget-view+json": {
              "version_major": 2,
              "version_minor": 0,
              "model_id": "17c7487259d64b909ed63de0c89cd028"
            }
          },
          "metadata": {}
        },
        {
          "output_type": "display_data",
          "data": {
            "text/plain": [
              "<IPython.core.display.HTML object>"
            ],
            "text/html": [
              "<style>\n",
              "    table.wandb td:nth-child(1) { padding: 0 10px; text-align: left ; width: auto;} td:nth-child(2) {text-align: left ; width: 100%}\n",
              "    .wandb-row { display: flex; flex-direction: row; flex-wrap: wrap; justify-content: flex-start; width: 100% }\n",
              "    .wandb-col { display: flex; flex-direction: column; flex-basis: 100%; flex: 1; padding: 10px; }\n",
              "    </style>\n",
              "<div class=\"wandb-row\"><div class=\"wandb-col\"><h3>Run history:</h3><br/><table class=\"wandb\"><tr><td>accuracy</td><td>▁▅▆▇▇▇█████</td></tr><tr><td>epoch</td><td>▁▂▂▃▄▅▅▆▇▇█</td></tr><tr><td>loss</td><td>█▃▃▂▂▁▁▁▁▁▁</td></tr><tr><td>val_accuracy</td><td>▁▃▄▅▇█▆█▇▇▇</td></tr><tr><td>val_loss</td><td>██▄▄▃▁█▃▄▇▇</td></tr></table><br/></div><div class=\"wandb-col\"><h3>Run summary:</h3><br/><table class=\"wandb\"><tr><td>accuracy</td><td>0.87698</td></tr><tr><td>best_epoch</td><td>5</td></tr><tr><td>best_val_loss</td><td>1.30201</td></tr><tr><td>epoch</td><td>10</td></tr><tr><td>loss</td><td>0.41339</td></tr><tr><td>val_accuracy</td><td>0.7371</td></tr><tr><td>val_loss</td><td>1.48653</td></tr></table><br/></div></div>"
            ]
          },
          "metadata": {}
        },
        {
          "output_type": "display_data",
          "data": {
            "text/plain": [
              "<IPython.core.display.HTML object>"
            ],
            "text/html": [
              "Synced <strong style=\"color:#cdcd00\">comic-sweep-18</strong>: <a href=\"https://wandb.ai/muk465/CS6910-Assignment-3_attn/runs/m4m33c0y\" target=\"_blank\">https://wandb.ai/muk465/CS6910-Assignment-3_attn/runs/m4m33c0y</a><br/>Synced 5 W&B file(s), 1 media file(s), 0 artifact file(s) and 1 other file(s)"
            ]
          },
          "metadata": {}
        },
        {
          "output_type": "display_data",
          "data": {
            "text/plain": [
              "<IPython.core.display.HTML object>"
            ],
            "text/html": [
              "Find logs at: <code>./wandb/run-20220513_135000-m4m33c0y/logs</code>"
            ]
          },
          "metadata": {}
        },
        {
          "output_type": "stream",
          "name": "stderr",
          "text": [
            "\u001b[34m\u001b[1mwandb\u001b[0m: Agent Starting Run: l7il4har with config:\n",
            "\u001b[34m\u001b[1mwandb\u001b[0m: \tbatch_size: 64\n",
            "\u001b[34m\u001b[1mwandb\u001b[0m: \tcell_type: GRU\n",
            "\u001b[34m\u001b[1mwandb\u001b[0m: \tdropout: 0.3\n",
            "\u001b[34m\u001b[1mwandb\u001b[0m: \tepochs: 20\n",
            "\u001b[34m\u001b[1mwandb\u001b[0m: \thidden: 64\n",
            "\u001b[34m\u001b[1mwandb\u001b[0m: \tlatentDim: 256\n",
            "\u001b[34m\u001b[1mwandb\u001b[0m: \tnumDecoders: 2\n",
            "\u001b[34m\u001b[1mwandb\u001b[0m: \tnumEncoders: 1\n",
            "\u001b[34m\u001b[1mwandb\u001b[0m: \toptimiser: adam\n",
            "\u001b[34m\u001b[1mwandb\u001b[0m: \u001b[33mWARNING\u001b[0m Ignored wandb.init() arg project when running a sweep.\n"
          ]
        },
        {
          "output_type": "display_data",
          "data": {
            "text/plain": [
              "<IPython.core.display.HTML object>"
            ],
            "text/html": [
              "Tracking run with wandb version 0.12.16"
            ]
          },
          "metadata": {}
        },
        {
          "output_type": "display_data",
          "data": {
            "text/plain": [
              "<IPython.core.display.HTML object>"
            ],
            "text/html": [
              "Run data is saved locally in <code>/content/wandb/run-20220513_140505-l7il4har</code>"
            ]
          },
          "metadata": {}
        },
        {
          "output_type": "display_data",
          "data": {
            "text/plain": [
              "<IPython.core.display.HTML object>"
            ],
            "text/html": [
              "Syncing run <strong><a href=\"https://wandb.ai/muk465/CS6910-Assignment-3_attn/runs/l7il4har\" target=\"_blank\">generous-sweep-19</a></strong> to <a href=\"https://wandb.ai/muk465/CS6910-Assignment-3_attn\" target=\"_blank\">Weights & Biases</a> (<a href=\"https://wandb.me/run\" target=\"_blank\">docs</a>)<br/>Sweep page:  <a href=\"https://wandb.ai/muk465/CS6910-Assignment-3_attn/sweeps/wo9l1m7l\" target=\"_blank\">https://wandb.ai/muk465/CS6910-Assignment-3_attn/sweeps/wo9l1m7l</a>"
            ]
          },
          "metadata": {}
        },
        {
          "output_type": "stream",
          "name": "stdout",
          "text": [
            "Model: \"model\"\n",
            "__________________________________________________________________________________________________\n",
            " Layer (type)                   Output Shape         Param #     Connected to                     \n",
            "==================================================================================================\n",
            " input_1 (InputLayer)           [(None, None, 27)]   0           []                               \n",
            "                                                                                                  \n",
            " input_2 (InputLayer)           [(None, None, 66)]   0           []                               \n",
            "                                                                                                  \n",
            " gru (GRU)                      [(None, None, 256),  218880      ['input_1[0][0]']                \n",
            "                                 (None, 256)]                                                     \n",
            "                                                                                                  \n",
            " gru_2 (GRU)                    [(None, None, 256),  248832      ['input_2[0][0]',                \n",
            "                                 (None, 256)]                     'gru[0][1]']                    \n",
            "                                                                                                  \n",
            " additive_attention (AdditiveAt  (None, None, 256)   256         ['gru_2[0][0]',                  \n",
            " tention)                                                         'gru[0][0]']                    \n",
            "                                                                                                  \n",
            " concat_layer (Concatenate)     (None, None, 512)    0           ['gru_2[0][0]',                  \n",
            "                                                                  'additive_attention[0][0]']     \n",
            "                                                                                                  \n",
            " dense (Dense)                  (None, None, 64)     32832       ['concat_layer[0][0]']           \n",
            "                                                                                                  \n",
            " dense_1 (Dense)                (None, None, 66)     4290        ['dense[0][0]']                  \n",
            "                                                                                                  \n",
            "==================================================================================================\n",
            "Total params: 505,090\n",
            "Trainable params: 505,090\n",
            "Non-trainable params: 0\n",
            "__________________________________________________________________________________________________\n",
            "Epoch 1/20\n",
            "691/691 [==============================] - 12s 13ms/step - loss: 1.0708 - accuracy: 0.7277 - val_loss: 1.9203 - val_accuracy: 0.6606 - _timestamp: 1652450726.0000 - _runtime: 21.0000\n",
            "Epoch 2/20\n",
            "691/691 [==============================] - 8s 12ms/step - loss: 0.7665 - accuracy: 0.7873 - val_loss: 1.7243 - val_accuracy: 0.6953 - _timestamp: 1652450734.0000 - _runtime: 29.0000\n",
            "Epoch 3/20\n",
            "691/691 [==============================] - 8s 12ms/step - loss: 0.6110 - accuracy: 0.8264 - val_loss: 1.6652 - val_accuracy: 0.7189 - _timestamp: 1652450743.0000 - _runtime: 38.0000\n",
            "Epoch 4/20\n",
            "691/691 [==============================] - 8s 12ms/step - loss: 0.5485 - accuracy: 0.8415 - val_loss: 1.7878 - val_accuracy: 0.7112 - _timestamp: 1652450751.0000 - _runtime: 46.0000\n",
            "Epoch 5/20\n",
            "691/691 [==============================] - 8s 12ms/step - loss: 0.5144 - accuracy: 0.8496 - val_loss: 1.7345 - val_accuracy: 0.7191 - _timestamp: 1652450759.0000 - _runtime: 54.0000\n",
            "Epoch 6/20\n",
            "691/691 [==============================] - 8s 12ms/step - loss: 0.4898 - accuracy: 0.8562 - val_loss: 1.7008 - val_accuracy: 0.7230 - _timestamp: 1652450767.0000 - _runtime: 62.0000\n",
            "Epoch 7/20\n",
            "691/691 [==============================] - 8s 12ms/step - loss: 0.4691 - accuracy: 0.8615 - val_loss: 1.7460 - val_accuracy: 0.7259 - _timestamp: 1652450775.0000 - _runtime: 70.0000\n",
            "Epoch 8/20\n",
            "691/691 [==============================] - 8s 12ms/step - loss: 0.4541 - accuracy: 0.8654 - val_loss: 1.7287 - val_accuracy: 0.7270 - _timestamp: 1652450784.0000 - _runtime: 79.0000\n",
            "Epoch 8: early stopping\n"
          ]
        },
        {
          "output_type": "stream",
          "name": "stderr",
          "text": [
            "WARNING:absl:Found untraced functions such as gru_cell_layer_call_fn, gru_cell_layer_call_and_return_conditional_losses, gru_cell_2_layer_call_fn, gru_cell_2_layer_call_and_return_conditional_losses while saving (showing 4 of 4). These functions will not be directly callable after loading.\n"
          ]
        },
        {
          "output_type": "stream",
          "name": "stdout",
          "text": [
            "INFO:tensorflow:Assets written to: ./TrainedModels/GRUeng1_hi_2_adam_20_0.3_64_256/assets\n"
          ]
        },
        {
          "output_type": "stream",
          "name": "stderr",
          "text": [
            "INFO:tensorflow:Assets written to: ./TrainedModels/GRUeng1_hi_2_adam_20_0.3_64_256/assets\n",
            "WARNING:absl:<keras.layers.recurrent.GRUCell object at 0x7fe621f74ad0> has the same name 'GRUCell' as a built-in Keras object. Consider renaming <class 'keras.layers.recurrent.GRUCell'> to avoid naming conflicts when loading with `tf.keras.models.load_model`. If renaming is not possible, pass the object in the `custom_objects` parameter of the load function.\n",
            "WARNING:absl:<keras.layers.recurrent.GRUCell object at 0x7fe69008bd90> has the same name 'GRUCell' as a built-in Keras object. Consider renaming <class 'keras.layers.recurrent.GRUCell'> to avoid naming conflicts when loading with `tf.keras.models.load_model`. If renaming is not possible, pass the object in the `custom_objects` parameter of the load function.\n"
          ]
        },
        {
          "output_type": "display_data",
          "data": {
            "text/plain": [
              "<IPython.core.display.HTML object>"
            ],
            "text/html": [
              "Waiting for W&B process to finish... <strong style=\"color:green\">(success).</strong>"
            ]
          },
          "metadata": {}
        },
        {
          "output_type": "display_data",
          "data": {
            "text/plain": [
              "VBox(children=(Label(value='5.840 MB of 5.840 MB uploaded (0.000 MB deduped)\\r'), FloatProgress(value=1.0, max…"
            ],
            "application/vnd.jupyter.widget-view+json": {
              "version_major": 2,
              "version_minor": 0,
              "model_id": "7276c1ec9b4042e8b4aacfa0740a4e55"
            }
          },
          "metadata": {}
        },
        {
          "output_type": "display_data",
          "data": {
            "text/plain": [
              "<IPython.core.display.HTML object>"
            ],
            "text/html": [
              "<style>\n",
              "    table.wandb td:nth-child(1) { padding: 0 10px; text-align: left ; width: auto;} td:nth-child(2) {text-align: left ; width: 100%}\n",
              "    .wandb-row { display: flex; flex-direction: row; flex-wrap: wrap; justify-content: flex-start; width: 100% }\n",
              "    .wandb-col { display: flex; flex-direction: column; flex-basis: 100%; flex: 1; padding: 10px; }\n",
              "    </style>\n",
              "<div class=\"wandb-row\"><div class=\"wandb-col\"><h3>Run history:</h3><br/><table class=\"wandb\"><tr><td>accuracy</td><td>▁▄▆▇▇███</td></tr><tr><td>epoch</td><td>▁▂▃▄▅▆▇█</td></tr><tr><td>loss</td><td>█▅▃▂▂▁▁▁</td></tr><tr><td>val_accuracy</td><td>▁▅▇▆▇███</td></tr><tr><td>val_loss</td><td>█▃▁▄▃▂▃▃</td></tr></table><br/></div><div class=\"wandb-col\"><h3>Run summary:</h3><br/><table class=\"wandb\"><tr><td>accuracy</td><td>0.86537</td></tr><tr><td>best_epoch</td><td>2</td></tr><tr><td>best_val_loss</td><td>1.66525</td></tr><tr><td>epoch</td><td>7</td></tr><tr><td>loss</td><td>0.45411</td></tr><tr><td>val_accuracy</td><td>0.72697</td></tr><tr><td>val_loss</td><td>1.72868</td></tr></table><br/></div></div>"
            ]
          },
          "metadata": {}
        },
        {
          "output_type": "display_data",
          "data": {
            "text/plain": [
              "<IPython.core.display.HTML object>"
            ],
            "text/html": [
              "Synced <strong style=\"color:#cdcd00\">generous-sweep-19</strong>: <a href=\"https://wandb.ai/muk465/CS6910-Assignment-3_attn/runs/l7il4har\" target=\"_blank\">https://wandb.ai/muk465/CS6910-Assignment-3_attn/runs/l7il4har</a><br/>Synced 5 W&B file(s), 1 media file(s), 0 artifact file(s) and 1 other file(s)"
            ]
          },
          "metadata": {}
        },
        {
          "output_type": "display_data",
          "data": {
            "text/plain": [
              "<IPython.core.display.HTML object>"
            ],
            "text/html": [
              "Find logs at: <code>./wandb/run-20220513_140505-l7il4har/logs</code>"
            ]
          },
          "metadata": {}
        },
        {
          "output_type": "stream",
          "name": "stderr",
          "text": [
            "\u001b[34m\u001b[1mwandb\u001b[0m: Agent Starting Run: j6qz2erm with config:\n",
            "\u001b[34m\u001b[1mwandb\u001b[0m: \tbatch_size: 64\n",
            "\u001b[34m\u001b[1mwandb\u001b[0m: \tcell_type: RNN\n",
            "\u001b[34m\u001b[1mwandb\u001b[0m: \tdropout: 0.3\n",
            "\u001b[34m\u001b[1mwandb\u001b[0m: \tepochs: 20\n",
            "\u001b[34m\u001b[1mwandb\u001b[0m: \thidden: 64\n",
            "\u001b[34m\u001b[1mwandb\u001b[0m: \tlatentDim: 256\n",
            "\u001b[34m\u001b[1mwandb\u001b[0m: \tnumDecoders: 2\n",
            "\u001b[34m\u001b[1mwandb\u001b[0m: \tnumEncoders: 1\n",
            "\u001b[34m\u001b[1mwandb\u001b[0m: \toptimiser: adam\n",
            "\u001b[34m\u001b[1mwandb\u001b[0m: \u001b[33mWARNING\u001b[0m Ignored wandb.init() arg project when running a sweep.\n"
          ]
        },
        {
          "output_type": "display_data",
          "data": {
            "text/plain": [
              "<IPython.core.display.HTML object>"
            ],
            "text/html": [
              "Tracking run with wandb version 0.12.16"
            ]
          },
          "metadata": {}
        },
        {
          "output_type": "display_data",
          "data": {
            "text/plain": [
              "<IPython.core.display.HTML object>"
            ],
            "text/html": [
              "Run data is saved locally in <code>/content/wandb/run-20220513_140647-j6qz2erm</code>"
            ]
          },
          "metadata": {}
        },
        {
          "output_type": "display_data",
          "data": {
            "text/plain": [
              "<IPython.core.display.HTML object>"
            ],
            "text/html": [
              "Syncing run <strong><a href=\"https://wandb.ai/muk465/CS6910-Assignment-3_attn/runs/j6qz2erm\" target=\"_blank\">unique-sweep-20</a></strong> to <a href=\"https://wandb.ai/muk465/CS6910-Assignment-3_attn\" target=\"_blank\">Weights & Biases</a> (<a href=\"https://wandb.me/run\" target=\"_blank\">docs</a>)<br/>Sweep page:  <a href=\"https://wandb.ai/muk465/CS6910-Assignment-3_attn/sweeps/wo9l1m7l\" target=\"_blank\">https://wandb.ai/muk465/CS6910-Assignment-3_attn/sweeps/wo9l1m7l</a>"
            ]
          },
          "metadata": {}
        },
        {
          "output_type": "stream",
          "name": "stdout",
          "text": [
            "Model: \"model\"\n",
            "__________________________________________________________________________________________________\n",
            " Layer (type)                   Output Shape         Param #     Connected to                     \n",
            "==================================================================================================\n",
            " input_1 (InputLayer)           [(None, None, 27)]   0           []                               \n",
            "                                                                                                  \n",
            " input_2 (InputLayer)           [(None, None, 66)]   0           []                               \n",
            "                                                                                                  \n",
            " simple_rnn (SimpleRNN)         [(None, None, 256),  72704       ['input_1[0][0]']                \n",
            "                                 (None, 256)]                                                     \n",
            "                                                                                                  \n",
            " simple_rnn_2 (SimpleRNN)       [(None, None, 256),  82688       ['input_2[0][0]',                \n",
            "                                 (None, 256)]                     'simple_rnn[0][1]']             \n",
            "                                                                                                  \n",
            " additive_attention (AdditiveAt  (None, None, 256)   256         ['simple_rnn_2[0][0]',           \n",
            " tention)                                                         'simple_rnn[0][0]']             \n",
            "                                                                                                  \n",
            " concat_layer (Concatenate)     (None, None, 512)    0           ['simple_rnn_2[0][0]',           \n",
            "                                                                  'additive_attention[0][0]']     \n",
            "                                                                                                  \n",
            " dense (Dense)                  (None, None, 64)     32832       ['concat_layer[0][0]']           \n",
            "                                                                                                  \n",
            " dense_1 (Dense)                (None, None, 66)     4290        ['dense[0][0]']                  \n",
            "                                                                                                  \n",
            "==================================================================================================\n",
            "Total params: 192,770\n",
            "Trainable params: 192,770\n",
            "Non-trainable params: 0\n",
            "__________________________________________________________________________________________________\n",
            "Epoch 1/20\n",
            "691/691 [==============================] - 30s 41ms/step - loss: 0.9980 - accuracy: 0.7404 - val_loss: 1.6468 - val_accuracy: 0.6693 - _timestamp: 1652450846.0000 - _runtime: 39.0000\n",
            "Epoch 2/20\n",
            "691/691 [==============================] - 28s 40ms/step - loss: 0.6808 - accuracy: 0.8083 - val_loss: 1.8635 - val_accuracy: 0.6781 - _timestamp: 1652450873.0000 - _runtime: 66.0000\n",
            "Epoch 3/20\n",
            "691/691 [==============================] - 28s 40ms/step - loss: 0.5885 - accuracy: 0.8310 - val_loss: 1.9289 - val_accuracy: 0.6892 - _timestamp: 1652450901.0000 - _runtime: 94.0000\n",
            "Epoch 4/20\n",
            "691/691 [==============================] - 28s 40ms/step - loss: 0.5501 - accuracy: 0.8410 - val_loss: 1.7798 - val_accuracy: 0.7167 - _timestamp: 1652450929.0000 - _runtime: 122.0000\n",
            "Epoch 5/20\n",
            "691/691 [==============================] - 28s 40ms/step - loss: 0.5241 - accuracy: 0.8474 - val_loss: 1.7159 - val_accuracy: 0.7223 - _timestamp: 1652450956.0000 - _runtime: 149.0000\n",
            "Epoch 6/20\n",
            "691/691 [==============================] - 28s 41ms/step - loss: 0.5052 - accuracy: 0.8519 - val_loss: 1.7438 - val_accuracy: 0.7285 - _timestamp: 1652450984.0000 - _runtime: 177.0000\n",
            "Epoch 7/20\n",
            "691/691 [==============================] - 27s 40ms/step - loss: 0.4909 - accuracy: 0.8554 - val_loss: 1.7094 - val_accuracy: 0.7258 - _timestamp: 1652451012.0000 - _runtime: 205.0000\n",
            "Epoch 8/20\n",
            "691/691 [==============================] - 28s 41ms/step - loss: 0.4818 - accuracy: 0.8577 - val_loss: 1.6879 - val_accuracy: 0.7145 - _timestamp: 1652451040.0000 - _runtime: 233.0000\n",
            "Epoch 9/20\n",
            "691/691 [==============================] - 27s 40ms/step - loss: 0.4720 - accuracy: 0.8606 - val_loss: 1.7733 - val_accuracy: 0.7200 - _timestamp: 1652451068.0000 - _runtime: 261.0000\n",
            "Epoch 10/20\n",
            "691/691 [==============================] - 28s 40ms/step - loss: 0.4651 - accuracy: 0.8625 - val_loss: 1.7133 - val_accuracy: 0.7303 - _timestamp: 1652451095.0000 - _runtime: 288.0000\n",
            "Epoch 11/20\n",
            "691/691 [==============================] - 28s 40ms/step - loss: 0.4619 - accuracy: 0.8630 - val_loss: 1.5945 - val_accuracy: 0.7501 - _timestamp: 1652451123.0000 - _runtime: 316.0000\n",
            "Epoch 12/20\n",
            "691/691 [==============================] - 28s 40ms/step - loss: 0.4534 - accuracy: 0.8649 - val_loss: 1.6131 - val_accuracy: 0.7389 - _timestamp: 1652451151.0000 - _runtime: 344.0000\n",
            "Epoch 13/20\n",
            "691/691 [==============================] - 28s 40ms/step - loss: 0.4487 - accuracy: 0.8665 - val_loss: 1.6110 - val_accuracy: 0.7467 - _timestamp: 1652451178.0000 - _runtime: 371.0000\n",
            "Epoch 14/20\n",
            "691/691 [==============================] - 28s 40ms/step - loss: 0.4471 - accuracy: 0.8669 - val_loss: 1.7620 - val_accuracy: 0.7370 - _timestamp: 1652451206.0000 - _runtime: 399.0000\n",
            "Epoch 15/20\n",
            "691/691 [==============================] - 28s 40ms/step - loss: 0.4446 - accuracy: 0.8677 - val_loss: 1.5527 - val_accuracy: 0.7449 - _timestamp: 1652451234.0000 - _runtime: 427.0000\n",
            "Epoch 16/20\n",
            "691/691 [==============================] - 28s 40ms/step - loss: 0.4383 - accuracy: 0.8691 - val_loss: 1.5200 - val_accuracy: 0.7492 - _timestamp: 1652451262.0000 - _runtime: 455.0000\n",
            "Epoch 16: early stopping\n",
            "INFO:tensorflow:Assets written to: ./TrainedModels/RNNeng1_hi_2_adam_20_0.3_64_256/assets\n"
          ]
        },
        {
          "output_type": "stream",
          "name": "stderr",
          "text": [
            "INFO:tensorflow:Assets written to: ./TrainedModels/RNNeng1_hi_2_adam_20_0.3_64_256/assets\n"
          ]
        },
        {
          "output_type": "display_data",
          "data": {
            "text/plain": [
              "<IPython.core.display.HTML object>"
            ],
            "text/html": [
              "Waiting for W&B process to finish... <strong style=\"color:green\">(success).</strong>"
            ]
          },
          "metadata": {}
        },
        {
          "output_type": "display_data",
          "data": {
            "text/plain": [
              "VBox(children=(Label(value='2.266 MB of 2.266 MB uploaded (0.000 MB deduped)\\r'), FloatProgress(value=1.0, max…"
            ],
            "application/vnd.jupyter.widget-view+json": {
              "version_major": 2,
              "version_minor": 0,
              "model_id": "b5f4a8ebaeb24cd692836c3424b847c1"
            }
          },
          "metadata": {}
        },
        {
          "output_type": "display_data",
          "data": {
            "text/plain": [
              "<IPython.core.display.HTML object>"
            ],
            "text/html": [
              "<style>\n",
              "    table.wandb td:nth-child(1) { padding: 0 10px; text-align: left ; width: auto;} td:nth-child(2) {text-align: left ; width: 100%}\n",
              "    .wandb-row { display: flex; flex-direction: row; flex-wrap: wrap; justify-content: flex-start; width: 100% }\n",
              "    .wandb-col { display: flex; flex-direction: column; flex-basis: 100%; flex: 1; padding: 10px; }\n",
              "    </style>\n",
              "<div class=\"wandb-row\"><div class=\"wandb-col\"><h3>Run history:</h3><br/><table class=\"wandb\"><tr><td>accuracy</td><td>▁▅▆▆▇▇▇▇████████</td></tr><tr><td>epoch</td><td>▁▁▂▂▃▃▄▄▅▅▆▆▇▇██</td></tr><tr><td>loss</td><td>█▄▃▂▂▂▂▂▁▁▁▁▁▁▁▁</td></tr><tr><td>val_accuracy</td><td>▁▂▃▅▆▆▆▅▅▆█▇█▇██</td></tr><tr><td>val_loss</td><td>▃▇█▅▄▅▄▄▅▄▂▃▃▅▂▁</td></tr></table><br/></div><div class=\"wandb-col\"><h3>Run summary:</h3><br/><table class=\"wandb\"><tr><td>accuracy</td><td>0.86907</td></tr><tr><td>best_epoch</td><td>15</td></tr><tr><td>best_val_loss</td><td>1.51996</td></tr><tr><td>epoch</td><td>15</td></tr><tr><td>loss</td><td>0.4383</td></tr><tr><td>val_accuracy</td><td>0.74925</td></tr><tr><td>val_loss</td><td>1.51996</td></tr></table><br/></div></div>"
            ]
          },
          "metadata": {}
        },
        {
          "output_type": "display_data",
          "data": {
            "text/plain": [
              "<IPython.core.display.HTML object>"
            ],
            "text/html": [
              "Synced <strong style=\"color:#cdcd00\">unique-sweep-20</strong>: <a href=\"https://wandb.ai/muk465/CS6910-Assignment-3_attn/runs/j6qz2erm\" target=\"_blank\">https://wandb.ai/muk465/CS6910-Assignment-3_attn/runs/j6qz2erm</a><br/>Synced 5 W&B file(s), 1 media file(s), 0 artifact file(s) and 1 other file(s)"
            ]
          },
          "metadata": {}
        },
        {
          "output_type": "display_data",
          "data": {
            "text/plain": [
              "<IPython.core.display.HTML object>"
            ],
            "text/html": [
              "Find logs at: <code>./wandb/run-20220513_140647-j6qz2erm/logs</code>"
            ]
          },
          "metadata": {}
        },
        {
          "output_type": "stream",
          "name": "stderr",
          "text": [
            "\u001b[34m\u001b[1mwandb\u001b[0m: Sweep Agent: Waiting for job.\n",
            "\u001b[34m\u001b[1mwandb\u001b[0m: Job received.\n",
            "\u001b[34m\u001b[1mwandb\u001b[0m: Agent Starting Run: x83bn5x4 with config:\n",
            "\u001b[34m\u001b[1mwandb\u001b[0m: \tbatch_size: 32\n",
            "\u001b[34m\u001b[1mwandb\u001b[0m: \tcell_type: GRU\n",
            "\u001b[34m\u001b[1mwandb\u001b[0m: \tdropout: 0.3\n",
            "\u001b[34m\u001b[1mwandb\u001b[0m: \tepochs: 20\n",
            "\u001b[34m\u001b[1mwandb\u001b[0m: \thidden: 64\n",
            "\u001b[34m\u001b[1mwandb\u001b[0m: \tlatentDim: 256\n",
            "\u001b[34m\u001b[1mwandb\u001b[0m: \tnumDecoders: 2\n",
            "\u001b[34m\u001b[1mwandb\u001b[0m: \tnumEncoders: 1\n",
            "\u001b[34m\u001b[1mwandb\u001b[0m: \toptimiser: adam\n",
            "\u001b[34m\u001b[1mwandb\u001b[0m: \u001b[33mWARNING\u001b[0m Ignored wandb.init() arg project when running a sweep.\n"
          ]
        },
        {
          "output_type": "display_data",
          "data": {
            "text/plain": [
              "<IPython.core.display.HTML object>"
            ],
            "text/html": [
              "Tracking run with wandb version 0.12.16"
            ]
          },
          "metadata": {}
        },
        {
          "output_type": "display_data",
          "data": {
            "text/plain": [
              "<IPython.core.display.HTML object>"
            ],
            "text/html": [
              "Run data is saved locally in <code>/content/wandb/run-20220513_141446-x83bn5x4</code>"
            ]
          },
          "metadata": {}
        },
        {
          "output_type": "display_data",
          "data": {
            "text/plain": [
              "<IPython.core.display.HTML object>"
            ],
            "text/html": [
              "Syncing run <strong><a href=\"https://wandb.ai/muk465/CS6910-Assignment-3_attn/runs/x83bn5x4\" target=\"_blank\">different-sweep-21</a></strong> to <a href=\"https://wandb.ai/muk465/CS6910-Assignment-3_attn\" target=\"_blank\">Weights & Biases</a> (<a href=\"https://wandb.me/run\" target=\"_blank\">docs</a>)<br/>Sweep page:  <a href=\"https://wandb.ai/muk465/CS6910-Assignment-3_attn/sweeps/wo9l1m7l\" target=\"_blank\">https://wandb.ai/muk465/CS6910-Assignment-3_attn/sweeps/wo9l1m7l</a>"
            ]
          },
          "metadata": {}
        },
        {
          "output_type": "stream",
          "name": "stdout",
          "text": [
            "Model: \"model\"\n",
            "__________________________________________________________________________________________________\n",
            " Layer (type)                   Output Shape         Param #     Connected to                     \n",
            "==================================================================================================\n",
            " input_1 (InputLayer)           [(None, None, 27)]   0           []                               \n",
            "                                                                                                  \n",
            " input_2 (InputLayer)           [(None, None, 66)]   0           []                               \n",
            "                                                                                                  \n",
            " gru (GRU)                      [(None, None, 256),  218880      ['input_1[0][0]']                \n",
            "                                 (None, 256)]                                                     \n",
            "                                                                                                  \n",
            " gru_2 (GRU)                    [(None, None, 256),  248832      ['input_2[0][0]',                \n",
            "                                 (None, 256)]                     'gru[0][1]']                    \n",
            "                                                                                                  \n",
            " additive_attention (AdditiveAt  (None, None, 256)   256         ['gru_2[0][0]',                  \n",
            " tention)                                                         'gru[0][0]']                    \n",
            "                                                                                                  \n",
            " concat_layer (Concatenate)     (None, None, 512)    0           ['gru_2[0][0]',                  \n",
            "                                                                  'additive_attention[0][0]']     \n",
            "                                                                                                  \n",
            " dense (Dense)                  (None, None, 64)     32832       ['concat_layer[0][0]']           \n",
            "                                                                                                  \n",
            " dense_1 (Dense)                (None, None, 66)     4290        ['dense[0][0]']                  \n",
            "                                                                                                  \n",
            "==================================================================================================\n",
            "Total params: 505,090\n",
            "Trainable params: 505,090\n",
            "Non-trainable params: 0\n",
            "__________________________________________________________________________________________________\n",
            "Epoch 1/20\n",
            "1382/1382 [==============================] - 18s 11ms/step - loss: 0.9438 - accuracy: 0.7518 - val_loss: 1.6767 - val_accuracy: 0.6937 - _timestamp: 1652451313.0000 - _runtime: 27.0000\n",
            "Epoch 2/20\n",
            "1382/1382 [==============================] - 14s 10ms/step - loss: 0.6079 - accuracy: 0.8271 - val_loss: 1.7082 - val_accuracy: 0.7117 - _timestamp: 1652451327.0000 - _runtime: 41.0000\n",
            "Epoch 3/20\n",
            "1382/1382 [==============================] - 14s 10ms/step - loss: 0.5253 - accuracy: 0.8472 - val_loss: 1.6246 - val_accuracy: 0.7268 - _timestamp: 1652451342.0000 - _runtime: 56.0000\n",
            "Epoch 4/20\n",
            "1382/1382 [==============================] - 15s 11ms/step - loss: 0.4865 - accuracy: 0.8567 - val_loss: 1.5209 - val_accuracy: 0.7408 - _timestamp: 1652451357.0000 - _runtime: 71.0000\n",
            "Epoch 5/20\n",
            "1382/1382 [==============================] - 14s 10ms/step - loss: 0.4592 - accuracy: 0.8639 - val_loss: 1.6303 - val_accuracy: 0.7320 - _timestamp: 1652451371.0000 - _runtime: 85.0000\n",
            "Epoch 6/20\n",
            "1382/1382 [==============================] - 14s 10ms/step - loss: 0.4429 - accuracy: 0.8673 - val_loss: 1.6402 - val_accuracy: 0.7391 - _timestamp: 1652451385.0000 - _runtime: 99.0000\n",
            "Epoch 7/20\n",
            "1382/1382 [==============================] - 14s 10ms/step - loss: 0.4292 - accuracy: 0.8714 - val_loss: 1.6312 - val_accuracy: 0.7408 - _timestamp: 1652451399.0000 - _runtime: 113.0000\n",
            "Epoch 8/20\n",
            "1382/1382 [==============================] - 14s 10ms/step - loss: 0.4186 - accuracy: 0.8743 - val_loss: 1.6322 - val_accuracy: 0.7350 - _timestamp: 1652451413.0000 - _runtime: 127.0000\n",
            "Epoch 9/20\n",
            "1382/1382 [==============================] - 14s 10ms/step - loss: 0.4084 - accuracy: 0.8770 - val_loss: 1.6570 - val_accuracy: 0.7422 - _timestamp: 1652451428.0000 - _runtime: 142.0000\n",
            "Epoch 9: early stopping\n"
          ]
        },
        {
          "output_type": "stream",
          "name": "stderr",
          "text": [
            "WARNING:absl:Found untraced functions such as gru_cell_layer_call_fn, gru_cell_layer_call_and_return_conditional_losses, gru_cell_2_layer_call_fn, gru_cell_2_layer_call_and_return_conditional_losses while saving (showing 4 of 4). These functions will not be directly callable after loading.\n"
          ]
        },
        {
          "output_type": "stream",
          "name": "stdout",
          "text": [
            "INFO:tensorflow:Assets written to: ./TrainedModels/GRUeng1_hi_2_adam_20_0.3_32_256/assets\n"
          ]
        },
        {
          "output_type": "stream",
          "name": "stderr",
          "text": [
            "INFO:tensorflow:Assets written to: ./TrainedModels/GRUeng1_hi_2_adam_20_0.3_32_256/assets\n",
            "WARNING:absl:<keras.layers.recurrent.GRUCell object at 0x7fe6201c5ed0> has the same name 'GRUCell' as a built-in Keras object. Consider renaming <class 'keras.layers.recurrent.GRUCell'> to avoid naming conflicts when loading with `tf.keras.models.load_model`. If renaming is not possible, pass the object in the `custom_objects` parameter of the load function.\n",
            "WARNING:absl:<keras.layers.recurrent.GRUCell object at 0x7fe620fdd1d0> has the same name 'GRUCell' as a built-in Keras object. Consider renaming <class 'keras.layers.recurrent.GRUCell'> to avoid naming conflicts when loading with `tf.keras.models.load_model`. If renaming is not possible, pass the object in the `custom_objects` parameter of the load function.\n"
          ]
        },
        {
          "output_type": "display_data",
          "data": {
            "text/plain": [
              "<IPython.core.display.HTML object>"
            ],
            "text/html": [
              "Waiting for W&B process to finish... <strong style=\"color:green\">(success).</strong>"
            ]
          },
          "metadata": {}
        },
        {
          "output_type": "display_data",
          "data": {
            "text/plain": [
              "VBox(children=(Label(value='5.840 MB of 5.840 MB uploaded (0.000 MB deduped)\\r'), FloatProgress(value=1.0, max…"
            ],
            "application/vnd.jupyter.widget-view+json": {
              "version_major": 2,
              "version_minor": 0,
              "model_id": "bdbfc799b9264c6f9e2c8e14658fa0e7"
            }
          },
          "metadata": {}
        },
        {
          "output_type": "display_data",
          "data": {
            "text/plain": [
              "<IPython.core.display.HTML object>"
            ],
            "text/html": [
              "<style>\n",
              "    table.wandb td:nth-child(1) { padding: 0 10px; text-align: left ; width: auto;} td:nth-child(2) {text-align: left ; width: 100%}\n",
              "    .wandb-row { display: flex; flex-direction: row; flex-wrap: wrap; justify-content: flex-start; width: 100% }\n",
              "    .wandb-col { display: flex; flex-direction: column; flex-basis: 100%; flex: 1; padding: 10px; }\n",
              "    </style>\n",
              "<div class=\"wandb-row\"><div class=\"wandb-col\"><h3>Run history:</h3><br/><table class=\"wandb\"><tr><td>accuracy</td><td>▁▅▆▇▇▇███</td></tr><tr><td>epoch</td><td>▁▂▃▄▅▅▆▇█</td></tr><tr><td>loss</td><td>█▄▃▂▂▁▁▁▁</td></tr><tr><td>val_accuracy</td><td>▁▄▆█▇██▇█</td></tr><tr><td>val_loss</td><td>▇█▅▁▅▅▅▅▆</td></tr></table><br/></div><div class=\"wandb-col\"><h3>Run summary:</h3><br/><table class=\"wandb\"><tr><td>accuracy</td><td>0.87702</td></tr><tr><td>best_epoch</td><td>3</td></tr><tr><td>best_val_loss</td><td>1.52094</td></tr><tr><td>epoch</td><td>8</td></tr><tr><td>loss</td><td>0.4084</td></tr><tr><td>val_accuracy</td><td>0.7422</td></tr><tr><td>val_loss</td><td>1.65695</td></tr></table><br/></div></div>"
            ]
          },
          "metadata": {}
        },
        {
          "output_type": "display_data",
          "data": {
            "text/plain": [
              "<IPython.core.display.HTML object>"
            ],
            "text/html": [
              "Synced <strong style=\"color:#cdcd00\">different-sweep-21</strong>: <a href=\"https://wandb.ai/muk465/CS6910-Assignment-3_attn/runs/x83bn5x4\" target=\"_blank\">https://wandb.ai/muk465/CS6910-Assignment-3_attn/runs/x83bn5x4</a><br/>Synced 5 W&B file(s), 1 media file(s), 0 artifact file(s) and 1 other file(s)"
            ]
          },
          "metadata": {}
        },
        {
          "output_type": "display_data",
          "data": {
            "text/plain": [
              "<IPython.core.display.HTML object>"
            ],
            "text/html": [
              "Find logs at: <code>./wandb/run-20220513_141446-x83bn5x4/logs</code>"
            ]
          },
          "metadata": {}
        },
        {
          "output_type": "stream",
          "name": "stderr",
          "text": [
            "\u001b[34m\u001b[1mwandb\u001b[0m: Sweep Agent: Waiting for job.\n",
            "\u001b[34m\u001b[1mwandb\u001b[0m: Job received.\n",
            "\u001b[34m\u001b[1mwandb\u001b[0m: Agent Starting Run: ktatc54c with config:\n",
            "\u001b[34m\u001b[1mwandb\u001b[0m: \tbatch_size: 32\n",
            "\u001b[34m\u001b[1mwandb\u001b[0m: \tcell_type: RNN\n",
            "\u001b[34m\u001b[1mwandb\u001b[0m: \tdropout: 0.3\n",
            "\u001b[34m\u001b[1mwandb\u001b[0m: \tepochs: 15\n",
            "\u001b[34m\u001b[1mwandb\u001b[0m: \thidden: 64\n",
            "\u001b[34m\u001b[1mwandb\u001b[0m: \tlatentDim: 256\n",
            "\u001b[34m\u001b[1mwandb\u001b[0m: \tnumDecoders: 2\n",
            "\u001b[34m\u001b[1mwandb\u001b[0m: \tnumEncoders: 1\n",
            "\u001b[34m\u001b[1mwandb\u001b[0m: \toptimiser: adam\n",
            "\u001b[34m\u001b[1mwandb\u001b[0m: \u001b[33mWARNING\u001b[0m Ignored wandb.init() arg project when running a sweep.\n"
          ]
        },
        {
          "output_type": "display_data",
          "data": {
            "text/plain": [
              "<IPython.core.display.HTML object>"
            ],
            "text/html": [
              "Tracking run with wandb version 0.12.16"
            ]
          },
          "metadata": {}
        },
        {
          "output_type": "display_data",
          "data": {
            "text/plain": [
              "<IPython.core.display.HTML object>"
            ],
            "text/html": [
              "Run data is saved locally in <code>/content/wandb/run-20220513_141736-ktatc54c</code>"
            ]
          },
          "metadata": {}
        },
        {
          "output_type": "display_data",
          "data": {
            "text/plain": [
              "<IPython.core.display.HTML object>"
            ],
            "text/html": [
              "Syncing run <strong><a href=\"https://wandb.ai/muk465/CS6910-Assignment-3_attn/runs/ktatc54c\" target=\"_blank\">silver-sweep-22</a></strong> to <a href=\"https://wandb.ai/muk465/CS6910-Assignment-3_attn\" target=\"_blank\">Weights & Biases</a> (<a href=\"https://wandb.me/run\" target=\"_blank\">docs</a>)<br/>Sweep page:  <a href=\"https://wandb.ai/muk465/CS6910-Assignment-3_attn/sweeps/wo9l1m7l\" target=\"_blank\">https://wandb.ai/muk465/CS6910-Assignment-3_attn/sweeps/wo9l1m7l</a>"
            ]
          },
          "metadata": {}
        },
        {
          "output_type": "stream",
          "name": "stdout",
          "text": [
            "Model: \"model\"\n",
            "__________________________________________________________________________________________________\n",
            " Layer (type)                   Output Shape         Param #     Connected to                     \n",
            "==================================================================================================\n",
            " input_1 (InputLayer)           [(None, None, 27)]   0           []                               \n",
            "                                                                                                  \n",
            " input_2 (InputLayer)           [(None, None, 66)]   0           []                               \n",
            "                                                                                                  \n",
            " simple_rnn (SimpleRNN)         [(None, None, 256),  72704       ['input_1[0][0]']                \n",
            "                                 (None, 256)]                                                     \n",
            "                                                                                                  \n",
            " simple_rnn_2 (SimpleRNN)       [(None, None, 256),  82688       ['input_2[0][0]',                \n",
            "                                 (None, 256)]                     'simple_rnn[0][1]']             \n",
            "                                                                                                  \n",
            " additive_attention (AdditiveAt  (None, None, 256)   256         ['simple_rnn_2[0][0]',           \n",
            " tention)                                                         'simple_rnn[0][0]']             \n",
            "                                                                                                  \n",
            " concat_layer (Concatenate)     (None, None, 512)    0           ['simple_rnn_2[0][0]',           \n",
            "                                                                  'additive_attention[0][0]']     \n",
            "                                                                                                  \n",
            " dense (Dense)                  (None, None, 64)     32832       ['concat_layer[0][0]']           \n",
            "                                                                                                  \n",
            " dense_1 (Dense)                (None, None, 66)     4290        ['dense[0][0]']                  \n",
            "                                                                                                  \n",
            "==================================================================================================\n",
            "Total params: 192,770\n",
            "Trainable params: 192,770\n",
            "Non-trainable params: 0\n",
            "__________________________________________________________________________________________________\n",
            "Epoch 1/15\n",
            "1382/1382 [==============================] - 56s 39ms/step - loss: 0.9098 - accuracy: 0.7584 - val_loss: 1.4881 - val_accuracy: 0.6966 - _timestamp: 1652451521.0000 - _runtime: 65.0000\n",
            "Epoch 2/15\n",
            "1382/1382 [==============================] - 54s 39ms/step - loss: 0.6210 - accuracy: 0.8231 - val_loss: 1.7056 - val_accuracy: 0.7042 - _timestamp: 1652451575.0000 - _runtime: 119.0000\n",
            "Epoch 3/15\n",
            "1382/1382 [==============================] - 54s 39ms/step - loss: 0.5584 - accuracy: 0.8396 - val_loss: 1.8753 - val_accuracy: 0.7066 - _timestamp: 1652451629.0000 - _runtime: 173.0000\n",
            "Epoch 4/15\n",
            "1382/1382 [==============================] - 54s 39ms/step - loss: 0.5258 - accuracy: 0.8471 - val_loss: 1.7190 - val_accuracy: 0.7297 - _timestamp: 1652451683.0000 - _runtime: 227.0000\n",
            "Epoch 5/15\n",
            "1382/1382 [==============================] - 54s 39ms/step - loss: 0.5064 - accuracy: 0.8527 - val_loss: 1.9772 - val_accuracy: 0.7102 - _timestamp: 1652451736.0000 - _runtime: 280.0000\n",
            "Epoch 6/15\n",
            "1382/1382 [==============================] - 54s 39ms/step - loss: 0.4917 - accuracy: 0.8564 - val_loss: 1.7808 - val_accuracy: 0.7271 - _timestamp: 1652451790.0000 - _runtime: 334.0000\n",
            "Epoch 7/15\n",
            "1382/1382 [==============================] - 54s 39ms/step - loss: 0.4819 - accuracy: 0.8590 - val_loss: 1.7486 - val_accuracy: 0.7488 - _timestamp: 1652451844.0000 - _runtime: 388.0000\n",
            "Epoch 8/15\n",
            "1382/1382 [==============================] - 54s 39ms/step - loss: 0.4721 - accuracy: 0.8612 - val_loss: 2.0313 - val_accuracy: 0.7227 - _timestamp: 1652451898.0000 - _runtime: 442.0000\n",
            "Epoch 9/15\n",
            "1382/1382 [==============================] - 54s 39ms/step - loss: 0.4663 - accuracy: 0.8629 - val_loss: 1.9837 - val_accuracy: 0.7339 - _timestamp: 1652451953.0000 - _runtime: 497.0000\n",
            "Epoch 10/15\n",
            "1382/1382 [==============================] - 54s 39ms/step - loss: 0.4613 - accuracy: 0.8640 - val_loss: 1.9666 - val_accuracy: 0.7435 - _timestamp: 1652452007.0000 - _runtime: 551.0000\n",
            "Epoch 11/15\n",
            "1382/1382 [==============================] - 54s 39ms/step - loss: 0.4556 - accuracy: 0.8654 - val_loss: 2.0520 - val_accuracy: 0.7439 - _timestamp: 1652452061.0000 - _runtime: 605.0000\n",
            "Epoch 12/15\n",
            "1382/1382 [==============================] - 54s 39ms/step - loss: 0.4514 - accuracy: 0.8664 - val_loss: 1.9349 - val_accuracy: 0.7485 - _timestamp: 1652452115.0000 - _runtime: 659.0000\n",
            "Epoch 12: early stopping\n",
            "INFO:tensorflow:Assets written to: ./TrainedModels/RNNeng1_hi_2_adam_15_0.3_32_256/assets\n"
          ]
        },
        {
          "output_type": "stream",
          "name": "stderr",
          "text": [
            "INFO:tensorflow:Assets written to: ./TrainedModels/RNNeng1_hi_2_adam_15_0.3_32_256/assets\n"
          ]
        },
        {
          "output_type": "display_data",
          "data": {
            "text/plain": [
              "<IPython.core.display.HTML object>"
            ],
            "text/html": [
              "Waiting for W&B process to finish... <strong style=\"color:green\">(success).</strong>"
            ]
          },
          "metadata": {}
        },
        {
          "output_type": "display_data",
          "data": {
            "text/plain": [
              "VBox(children=(Label(value='2.266 MB of 2.266 MB uploaded (0.000 MB deduped)\\r'), FloatProgress(value=1.0, max…"
            ],
            "application/vnd.jupyter.widget-view+json": {
              "version_major": 2,
              "version_minor": 0,
              "model_id": "a5cf9c6bdfbd4dfb9abda1e6aef7293d"
            }
          },
          "metadata": {}
        },
        {
          "output_type": "display_data",
          "data": {
            "text/plain": [
              "<IPython.core.display.HTML object>"
            ],
            "text/html": [
              "<style>\n",
              "    table.wandb td:nth-child(1) { padding: 0 10px; text-align: left ; width: auto;} td:nth-child(2) {text-align: left ; width: 100%}\n",
              "    .wandb-row { display: flex; flex-direction: row; flex-wrap: wrap; justify-content: flex-start; width: 100% }\n",
              "    .wandb-col { display: flex; flex-direction: column; flex-basis: 100%; flex: 1; padding: 10px; }\n",
              "    </style>\n",
              "<div class=\"wandb-row\"><div class=\"wandb-col\"><h3>Run history:</h3><br/><table class=\"wandb\"><tr><td>accuracy</td><td>▁▅▆▇▇▇██████</td></tr><tr><td>epoch</td><td>▁▂▂▃▄▄▅▅▆▇▇█</td></tr><tr><td>loss</td><td>█▄▃▂▂▂▁▁▁▁▁▁</td></tr><tr><td>val_accuracy</td><td>▁▂▂▅▃▅█▄▆▇▇█</td></tr><tr><td>val_loss</td><td>▁▄▆▄▇▅▄█▇▇█▇</td></tr></table><br/></div><div class=\"wandb-col\"><h3>Run summary:</h3><br/><table class=\"wandb\"><tr><td>accuracy</td><td>0.86643</td></tr><tr><td>best_epoch</td><td>0</td></tr><tr><td>best_val_loss</td><td>1.48805</td></tr><tr><td>epoch</td><td>11</td></tr><tr><td>loss</td><td>0.45142</td></tr><tr><td>val_accuracy</td><td>0.74854</td></tr><tr><td>val_loss</td><td>1.93488</td></tr></table><br/></div></div>"
            ]
          },
          "metadata": {}
        },
        {
          "output_type": "display_data",
          "data": {
            "text/plain": [
              "<IPython.core.display.HTML object>"
            ],
            "text/html": [
              "Synced <strong style=\"color:#cdcd00\">silver-sweep-22</strong>: <a href=\"https://wandb.ai/muk465/CS6910-Assignment-3_attn/runs/ktatc54c\" target=\"_blank\">https://wandb.ai/muk465/CS6910-Assignment-3_attn/runs/ktatc54c</a><br/>Synced 5 W&B file(s), 1 media file(s), 0 artifact file(s) and 1 other file(s)"
            ]
          },
          "metadata": {}
        },
        {
          "output_type": "display_data",
          "data": {
            "text/plain": [
              "<IPython.core.display.HTML object>"
            ],
            "text/html": [
              "Find logs at: <code>./wandb/run-20220513_141736-ktatc54c/logs</code>"
            ]
          },
          "metadata": {}
        },
        {
          "output_type": "stream",
          "name": "stderr",
          "text": [
            "\u001b[34m\u001b[1mwandb\u001b[0m: Sweep Agent: Waiting for job.\n",
            "\u001b[34m\u001b[1mwandb\u001b[0m: Job received.\n",
            "\u001b[34m\u001b[1mwandb\u001b[0m: Agent Starting Run: q42dslmg with config:\n",
            "\u001b[34m\u001b[1mwandb\u001b[0m: \tbatch_size: 64\n",
            "\u001b[34m\u001b[1mwandb\u001b[0m: \tcell_type: RNN\n",
            "\u001b[34m\u001b[1mwandb\u001b[0m: \tdropout: 0.3\n",
            "\u001b[34m\u001b[1mwandb\u001b[0m: \tepochs: 20\n",
            "\u001b[34m\u001b[1mwandb\u001b[0m: \thidden: 64\n",
            "\u001b[34m\u001b[1mwandb\u001b[0m: \tlatentDim: 256\n",
            "\u001b[34m\u001b[1mwandb\u001b[0m: \tnumDecoders: 1\n",
            "\u001b[34m\u001b[1mwandb\u001b[0m: \tnumEncoders: 1\n",
            "\u001b[34m\u001b[1mwandb\u001b[0m: \toptimiser: adam\n",
            "\u001b[34m\u001b[1mwandb\u001b[0m: \u001b[33mWARNING\u001b[0m Ignored wandb.init() arg project when running a sweep.\n"
          ]
        },
        {
          "output_type": "display_data",
          "data": {
            "text/plain": [
              "<IPython.core.display.HTML object>"
            ],
            "text/html": [
              "Tracking run with wandb version 0.12.16"
            ]
          },
          "metadata": {}
        },
        {
          "output_type": "display_data",
          "data": {
            "text/plain": [
              "<IPython.core.display.HTML object>"
            ],
            "text/html": [
              "Run data is saved locally in <code>/content/wandb/run-20220513_142935-q42dslmg</code>"
            ]
          },
          "metadata": {}
        },
        {
          "output_type": "display_data",
          "data": {
            "text/plain": [
              "<IPython.core.display.HTML object>"
            ],
            "text/html": [
              "Syncing run <strong><a href=\"https://wandb.ai/muk465/CS6910-Assignment-3_attn/runs/q42dslmg\" target=\"_blank\">usual-sweep-23</a></strong> to <a href=\"https://wandb.ai/muk465/CS6910-Assignment-3_attn\" target=\"_blank\">Weights & Biases</a> (<a href=\"https://wandb.me/run\" target=\"_blank\">docs</a>)<br/>Sweep page:  <a href=\"https://wandb.ai/muk465/CS6910-Assignment-3_attn/sweeps/wo9l1m7l\" target=\"_blank\">https://wandb.ai/muk465/CS6910-Assignment-3_attn/sweeps/wo9l1m7l</a>"
            ]
          },
          "metadata": {}
        },
        {
          "output_type": "stream",
          "name": "stdout",
          "text": [
            "Model: \"model\"\n",
            "__________________________________________________________________________________________________\n",
            " Layer (type)                   Output Shape         Param #     Connected to                     \n",
            "==================================================================================================\n",
            " input_1 (InputLayer)           [(None, None, 27)]   0           []                               \n",
            "                                                                                                  \n",
            " input_2 (InputLayer)           [(None, None, 66)]   0           []                               \n",
            "                                                                                                  \n",
            " simple_rnn (SimpleRNN)         [(None, None, 256),  72704       ['input_1[0][0]']                \n",
            "                                 (None, 256)]                                                     \n",
            "                                                                                                  \n",
            " simple_rnn_1 (SimpleRNN)       [(None, None, 256),  82688       ['input_2[0][0]',                \n",
            "                                 (None, 256)]                     'simple_rnn[0][1]']             \n",
            "                                                                                                  \n",
            " additive_attention (AdditiveAt  (None, None, 256)   256         ['simple_rnn_1[0][0]',           \n",
            " tention)                                                         'simple_rnn[0][0]']             \n",
            "                                                                                                  \n",
            " concat_layer (Concatenate)     (None, None, 512)    0           ['simple_rnn_1[0][0]',           \n",
            "                                                                  'additive_attention[0][0]']     \n",
            "                                                                                                  \n",
            " dense (Dense)                  (None, None, 64)     32832       ['concat_layer[0][0]']           \n",
            "                                                                                                  \n",
            " dense_1 (Dense)                (None, None, 66)     4290        ['dense[0][0]']                  \n",
            "                                                                                                  \n",
            "==================================================================================================\n",
            "Total params: 192,770\n",
            "Trainable params: 192,770\n",
            "Non-trainable params: 0\n",
            "__________________________________________________________________________________________________\n",
            "Epoch 1/20\n",
            "691/691 [==============================] - 30s 41ms/step - loss: 1.0025 - accuracy: 0.7402 - val_loss: 1.5433 - val_accuracy: 0.6778 - _timestamp: 1652452213.0000 - _runtime: 38.0000\n",
            "Epoch 2/20\n",
            "691/691 [==============================] - 28s 41ms/step - loss: 0.6696 - accuracy: 0.8105 - val_loss: 1.6379 - val_accuracy: 0.7001 - _timestamp: 1652452241.0000 - _runtime: 66.0000\n",
            "Epoch 3/20\n",
            "691/691 [==============================] - 28s 41ms/step - loss: 0.5836 - accuracy: 0.8321 - val_loss: 1.7523 - val_accuracy: 0.7051 - _timestamp: 1652452270.0000 - _runtime: 95.0000\n",
            "Epoch 4/20\n",
            "691/691 [==============================] - 28s 41ms/step - loss: 0.5457 - accuracy: 0.8419 - val_loss: 1.7625 - val_accuracy: 0.7074 - _timestamp: 1652452298.0000 - _runtime: 123.0000\n",
            "Epoch 5/20\n",
            "691/691 [==============================] - 28s 41ms/step - loss: 0.5206 - accuracy: 0.8482 - val_loss: 1.7255 - val_accuracy: 0.7256 - _timestamp: 1652452326.0000 - _runtime: 151.0000\n",
            "Epoch 6/20\n",
            "691/691 [==============================] - 28s 41ms/step - loss: 0.5015 - accuracy: 0.8528 - val_loss: 1.6770 - val_accuracy: 0.7218 - _timestamp: 1652452354.0000 - _runtime: 179.0000\n",
            "Epoch 7/20\n",
            "691/691 [==============================] - 28s 40ms/step - loss: 0.4919 - accuracy: 0.8553 - val_loss: 1.8175 - val_accuracy: 0.7196 - _timestamp: 1652452382.0000 - _runtime: 207.0000\n",
            "Epoch 8/20\n",
            "691/691 [==============================] - 28s 41ms/step - loss: 0.4824 - accuracy: 0.8577 - val_loss: 1.7342 - val_accuracy: 0.7316 - _timestamp: 1652452410.0000 - _runtime: 235.0000\n",
            "Epoch 9/20\n",
            "691/691 [==============================] - 28s 41ms/step - loss: 0.4762 - accuracy: 0.8595 - val_loss: 1.7075 - val_accuracy: 0.7352 - _timestamp: 1652452438.0000 - _runtime: 263.0000\n",
            "Epoch 10/20\n",
            "691/691 [==============================] - 28s 40ms/step - loss: 0.4672 - accuracy: 0.8618 - val_loss: 1.6941 - val_accuracy: 0.7445 - _timestamp: 1652452466.0000 - _runtime: 291.0000\n",
            "Epoch 11/20\n",
            "691/691 [==============================] - 28s 40ms/step - loss: 0.4619 - accuracy: 0.8629 - val_loss: 1.7289 - val_accuracy: 0.7387 - _timestamp: 1652452494.0000 - _runtime: 319.0000\n",
            "Epoch 12/20\n",
            "691/691 [==============================] - 28s 41ms/step - loss: 0.4585 - accuracy: 0.8641 - val_loss: 1.7928 - val_accuracy: 0.7390 - _timestamp: 1652452522.0000 - _runtime: 347.0000\n",
            "Epoch 13/20\n",
            "691/691 [==============================] - 28s 40ms/step - loss: 0.4527 - accuracy: 0.8658 - val_loss: 1.7842 - val_accuracy: 0.7385 - _timestamp: 1652452550.0000 - _runtime: 375.0000\n",
            "Epoch 14/20\n",
            "691/691 [==============================] - 28s 40ms/step - loss: 0.4493 - accuracy: 0.8665 - val_loss: 1.7685 - val_accuracy: 0.7374 - _timestamp: 1652452578.0000 - _runtime: 403.0000\n",
            "Epoch 15/20\n",
            "691/691 [==============================] - 28s 40ms/step - loss: 0.4444 - accuracy: 0.8674 - val_loss: 1.6484 - val_accuracy: 0.7477 - _timestamp: 1652452606.0000 - _runtime: 431.0000\n",
            "Epoch 15: early stopping\n",
            "INFO:tensorflow:Assets written to: ./TrainedModels/RNNeng1_hi_1_adam_20_0.3_64_256/assets\n"
          ]
        },
        {
          "output_type": "stream",
          "name": "stderr",
          "text": [
            "INFO:tensorflow:Assets written to: ./TrainedModels/RNNeng1_hi_1_adam_20_0.3_64_256/assets\n"
          ]
        },
        {
          "output_type": "display_data",
          "data": {
            "text/plain": [
              "<IPython.core.display.HTML object>"
            ],
            "text/html": [
              "Waiting for W&B process to finish... <strong style=\"color:green\">(success).</strong>"
            ]
          },
          "metadata": {}
        },
        {
          "output_type": "display_data",
          "data": {
            "text/plain": [
              "VBox(children=(Label(value='2.266 MB of 2.266 MB uploaded (0.000 MB deduped)\\r'), FloatProgress(value=1.0, max…"
            ],
            "application/vnd.jupyter.widget-view+json": {
              "version_major": 2,
              "version_minor": 0,
              "model_id": "665f684c02344044b4a30df2f043a3af"
            }
          },
          "metadata": {}
        },
        {
          "output_type": "display_data",
          "data": {
            "text/plain": [
              "<IPython.core.display.HTML object>"
            ],
            "text/html": [
              "<style>\n",
              "    table.wandb td:nth-child(1) { padding: 0 10px; text-align: left ; width: auto;} td:nth-child(2) {text-align: left ; width: 100%}\n",
              "    .wandb-row { display: flex; flex-direction: row; flex-wrap: wrap; justify-content: flex-start; width: 100% }\n",
              "    .wandb-col { display: flex; flex-direction: column; flex-basis: 100%; flex: 1; padding: 10px; }\n",
              "    </style>\n",
              "<div class=\"wandb-row\"><div class=\"wandb-col\"><h3>Run history:</h3><br/><table class=\"wandb\"><tr><td>accuracy</td><td>▁▅▆▇▇▇▇▇███████</td></tr><tr><td>epoch</td><td>▁▁▂▃▃▃▄▅▅▅▆▇▇▇█</td></tr><tr><td>loss</td><td>█▄▃▂▂▂▂▁▁▁▁▁▁▁▁</td></tr><tr><td>val_accuracy</td><td>▁▃▄▄▆▅▅▆▇█▇▇▇▇█</td></tr><tr><td>val_loss</td><td>▁▃▆▇▆▄█▆▅▅▆▇▇▇▄</td></tr></table><br/></div><div class=\"wandb-col\"><h3>Run summary:</h3><br/><table class=\"wandb\"><tr><td>accuracy</td><td>0.86744</td></tr><tr><td>best_epoch</td><td>0</td></tr><tr><td>best_val_loss</td><td>1.54331</td></tr><tr><td>epoch</td><td>14</td></tr><tr><td>loss</td><td>0.44444</td></tr><tr><td>val_accuracy</td><td>0.74771</td></tr><tr><td>val_loss</td><td>1.6484</td></tr></table><br/></div></div>"
            ]
          },
          "metadata": {}
        },
        {
          "output_type": "display_data",
          "data": {
            "text/plain": [
              "<IPython.core.display.HTML object>"
            ],
            "text/html": [
              "Synced <strong style=\"color:#cdcd00\">usual-sweep-23</strong>: <a href=\"https://wandb.ai/muk465/CS6910-Assignment-3_attn/runs/q42dslmg\" target=\"_blank\">https://wandb.ai/muk465/CS6910-Assignment-3_attn/runs/q42dslmg</a><br/>Synced 5 W&B file(s), 1 media file(s), 0 artifact file(s) and 1 other file(s)"
            ]
          },
          "metadata": {}
        },
        {
          "output_type": "display_data",
          "data": {
            "text/plain": [
              "<IPython.core.display.HTML object>"
            ],
            "text/html": [
              "Find logs at: <code>./wandb/run-20220513_142935-q42dslmg/logs</code>"
            ]
          },
          "metadata": {}
        },
        {
          "output_type": "stream",
          "name": "stderr",
          "text": [
            "\u001b[34m\u001b[1mwandb\u001b[0m: Agent Starting Run: cksnq5rb with config:\n",
            "\u001b[34m\u001b[1mwandb\u001b[0m: \tbatch_size: 64\n",
            "\u001b[34m\u001b[1mwandb\u001b[0m: \tcell_type: RNN\n",
            "\u001b[34m\u001b[1mwandb\u001b[0m: \tdropout: 0.3\n",
            "\u001b[34m\u001b[1mwandb\u001b[0m: \tepochs: 15\n",
            "\u001b[34m\u001b[1mwandb\u001b[0m: \thidden: 64\n",
            "\u001b[34m\u001b[1mwandb\u001b[0m: \tlatentDim: 256\n",
            "\u001b[34m\u001b[1mwandb\u001b[0m: \tnumDecoders: 1\n",
            "\u001b[34m\u001b[1mwandb\u001b[0m: \tnumEncoders: 1\n",
            "\u001b[34m\u001b[1mwandb\u001b[0m: \toptimiser: adam\n",
            "\u001b[34m\u001b[1mwandb\u001b[0m: \u001b[33mWARNING\u001b[0m Ignored wandb.init() arg project when running a sweep.\n"
          ]
        },
        {
          "output_type": "display_data",
          "data": {
            "text/plain": [
              "<IPython.core.display.HTML object>"
            ],
            "text/html": [
              "Tracking run with wandb version 0.12.16"
            ]
          },
          "metadata": {}
        },
        {
          "output_type": "display_data",
          "data": {
            "text/plain": [
              "<IPython.core.display.HTML object>"
            ],
            "text/html": [
              "Run data is saved locally in <code>/content/wandb/run-20220513_143730-cksnq5rb</code>"
            ]
          },
          "metadata": {}
        },
        {
          "output_type": "display_data",
          "data": {
            "text/plain": [
              "<IPython.core.display.HTML object>"
            ],
            "text/html": [
              "Syncing run <strong><a href=\"https://wandb.ai/muk465/CS6910-Assignment-3_attn/runs/cksnq5rb\" target=\"_blank\">bright-sweep-24</a></strong> to <a href=\"https://wandb.ai/muk465/CS6910-Assignment-3_attn\" target=\"_blank\">Weights & Biases</a> (<a href=\"https://wandb.me/run\" target=\"_blank\">docs</a>)<br/>Sweep page:  <a href=\"https://wandb.ai/muk465/CS6910-Assignment-3_attn/sweeps/wo9l1m7l\" target=\"_blank\">https://wandb.ai/muk465/CS6910-Assignment-3_attn/sweeps/wo9l1m7l</a>"
            ]
          },
          "metadata": {}
        },
        {
          "output_type": "stream",
          "name": "stdout",
          "text": [
            "Model: \"model\"\n",
            "__________________________________________________________________________________________________\n",
            " Layer (type)                   Output Shape         Param #     Connected to                     \n",
            "==================================================================================================\n",
            " input_1 (InputLayer)           [(None, None, 27)]   0           []                               \n",
            "                                                                                                  \n",
            " input_2 (InputLayer)           [(None, None, 66)]   0           []                               \n",
            "                                                                                                  \n",
            " simple_rnn (SimpleRNN)         [(None, None, 256),  72704       ['input_1[0][0]']                \n",
            "                                 (None, 256)]                                                     \n",
            "                                                                                                  \n",
            " simple_rnn_1 (SimpleRNN)       [(None, None, 256),  82688       ['input_2[0][0]',                \n",
            "                                 (None, 256)]                     'simple_rnn[0][1]']             \n",
            "                                                                                                  \n",
            " additive_attention (AdditiveAt  (None, None, 256)   256         ['simple_rnn_1[0][0]',           \n",
            " tention)                                                         'simple_rnn[0][0]']             \n",
            "                                                                                                  \n",
            " concat_layer (Concatenate)     (None, None, 512)    0           ['simple_rnn_1[0][0]',           \n",
            "                                                                  'additive_attention[0][0]']     \n",
            "                                                                                                  \n",
            " dense (Dense)                  (None, None, 64)     32832       ['concat_layer[0][0]']           \n",
            "                                                                                                  \n",
            " dense_1 (Dense)                (None, None, 66)     4290        ['dense[0][0]']                  \n",
            "                                                                                                  \n",
            "==================================================================================================\n",
            "Total params: 192,770\n",
            "Trainable params: 192,770\n",
            "Non-trainable params: 0\n",
            "__________________________________________________________________________________________________\n",
            "Epoch 1/15\n",
            "691/691 [==============================] - 30s 41ms/step - loss: 1.0658 - accuracy: 0.7272 - val_loss: 1.5052 - val_accuracy: 0.6598 - _timestamp: 1652452690.0000 - _runtime: 40.0000\n",
            "Epoch 2/15\n",
            "691/691 [==============================] - 28s 41ms/step - loss: 0.7369 - accuracy: 0.7949 - val_loss: 1.6086 - val_accuracy: 0.6950 - _timestamp: 1652452718.0000 - _runtime: 68.0000\n",
            "Epoch 3/15\n",
            "691/691 [==============================] - 28s 40ms/step - loss: 0.6196 - accuracy: 0.8231 - val_loss: 1.7546 - val_accuracy: 0.6968 - _timestamp: 1652452746.0000 - _runtime: 96.0000\n",
            "Epoch 4/15\n",
            "691/691 [==============================] - 27s 40ms/step - loss: 0.5704 - accuracy: 0.8353 - val_loss: 1.6559 - val_accuracy: 0.7190 - _timestamp: 1652452773.0000 - _runtime: 123.0000\n",
            "Epoch 5/15\n",
            "691/691 [==============================] - 28s 40ms/step - loss: 0.5411 - accuracy: 0.8430 - val_loss: 1.6400 - val_accuracy: 0.7214 - _timestamp: 1652452801.0000 - _runtime: 151.0000\n",
            "Epoch 6/15\n",
            "691/691 [==============================] - 28s 40ms/step - loss: 0.5205 - accuracy: 0.8478 - val_loss: 1.7287 - val_accuracy: 0.7238 - _timestamp: 1652452829.0000 - _runtime: 179.0000\n",
            "Epoch 7/15\n",
            "691/691 [==============================] - 28s 40ms/step - loss: 0.5025 - accuracy: 0.8524 - val_loss: 1.6730 - val_accuracy: 0.7231 - _timestamp: 1652452857.0000 - _runtime: 207.0000\n",
            "Epoch 8/15\n",
            "691/691 [==============================] - 28s 41ms/step - loss: 0.4911 - accuracy: 0.8553 - val_loss: 1.6683 - val_accuracy: 0.7228 - _timestamp: 1652452885.0000 - _runtime: 235.0000\n",
            "Epoch 9/15\n",
            "691/691 [==============================] - 28s 40ms/step - loss: 0.4812 - accuracy: 0.8576 - val_loss: 1.6283 - val_accuracy: 0.7302 - _timestamp: 1652452913.0000 - _runtime: 263.0000\n",
            "Epoch 10/15\n",
            "691/691 [==============================] - 28s 40ms/step - loss: 0.4730 - accuracy: 0.8599 - val_loss: 1.6113 - val_accuracy: 0.7380 - _timestamp: 1652452941.0000 - _runtime: 291.0000\n",
            "Epoch 11/15\n",
            "691/691 [==============================] - 28s 40ms/step - loss: 0.4672 - accuracy: 0.8615 - val_loss: 1.5625 - val_accuracy: 0.7358 - _timestamp: 1652452969.0000 - _runtime: 319.0000\n",
            "Epoch 12/15\n",
            "691/691 [==============================] - 28s 41ms/step - loss: 0.4601 - accuracy: 0.8633 - val_loss: 1.5976 - val_accuracy: 0.7380 - _timestamp: 1652452997.0000 - _runtime: 347.0000\n",
            "Epoch 13/15\n",
            "691/691 [==============================] - 28s 40ms/step - loss: 0.4549 - accuracy: 0.8648 - val_loss: 1.4671 - val_accuracy: 0.7451 - _timestamp: 1652453025.0000 - _runtime: 375.0000\n",
            "Epoch 14/15\n",
            "691/691 [==============================] - 28s 40ms/step - loss: 0.4519 - accuracy: 0.8654 - val_loss: 1.5149 - val_accuracy: 0.7449 - _timestamp: 1652453053.0000 - _runtime: 403.0000\n",
            "Epoch 15/15\n",
            "691/691 [==============================] - 28s 40ms/step - loss: 0.4464 - accuracy: 0.8670 - val_loss: 1.6146 - val_accuracy: 0.7347 - _timestamp: 1652453080.0000 - _runtime: 430.0000\n",
            "INFO:tensorflow:Assets written to: ./TrainedModels/RNNeng1_hi_1_adam_15_0.3_64_256/assets\n"
          ]
        },
        {
          "output_type": "stream",
          "name": "stderr",
          "text": [
            "INFO:tensorflow:Assets written to: ./TrainedModels/RNNeng1_hi_1_adam_15_0.3_64_256/assets\n"
          ]
        },
        {
          "output_type": "display_data",
          "data": {
            "text/plain": [
              "<IPython.core.display.HTML object>"
            ],
            "text/html": [
              "Waiting for W&B process to finish... <strong style=\"color:green\">(success).</strong>"
            ]
          },
          "metadata": {}
        },
        {
          "output_type": "display_data",
          "data": {
            "text/plain": [
              "VBox(children=(Label(value='2.266 MB of 2.266 MB uploaded (0.000 MB deduped)\\r'), FloatProgress(value=1.0, max…"
            ],
            "application/vnd.jupyter.widget-view+json": {
              "version_major": 2,
              "version_minor": 0,
              "model_id": "8e386ed2c38f47a68481d31d655743fd"
            }
          },
          "metadata": {}
        },
        {
          "output_type": "display_data",
          "data": {
            "text/plain": [
              "<IPython.core.display.HTML object>"
            ],
            "text/html": [
              "<style>\n",
              "    table.wandb td:nth-child(1) { padding: 0 10px; text-align: left ; width: auto;} td:nth-child(2) {text-align: left ; width: 100%}\n",
              "    .wandb-row { display: flex; flex-direction: row; flex-wrap: wrap; justify-content: flex-start; width: 100% }\n",
              "    .wandb-col { display: flex; flex-direction: column; flex-basis: 100%; flex: 1; padding: 10px; }\n",
              "    </style>\n",
              "<div class=\"wandb-row\"><div class=\"wandb-col\"><h3>Run history:</h3><br/><table class=\"wandb\"><tr><td>accuracy</td><td>▁▄▆▆▇▇▇▇███████</td></tr><tr><td>epoch</td><td>▁▁▂▃▃▃▄▅▅▅▆▇▇▇█</td></tr><tr><td>loss</td><td>█▄▃▂▂▂▂▂▁▁▁▁▁▁▁</td></tr><tr><td>val_accuracy</td><td>▁▄▄▆▆▆▆▆▇▇▇▇██▇</td></tr><tr><td>val_loss</td><td>▂▄█▆▅▇▆▆▅▅▃▄▁▂▅</td></tr></table><br/></div><div class=\"wandb-col\"><h3>Run summary:</h3><br/><table class=\"wandb\"><tr><td>accuracy</td><td>0.86702</td></tr><tr><td>best_epoch</td><td>12</td></tr><tr><td>best_val_loss</td><td>1.46711</td></tr><tr><td>epoch</td><td>14</td></tr><tr><td>loss</td><td>0.44637</td></tr><tr><td>val_accuracy</td><td>0.73466</td></tr><tr><td>val_loss</td><td>1.61461</td></tr></table><br/></div></div>"
            ]
          },
          "metadata": {}
        },
        {
          "output_type": "display_data",
          "data": {
            "text/plain": [
              "<IPython.core.display.HTML object>"
            ],
            "text/html": [
              "Synced <strong style=\"color:#cdcd00\">bright-sweep-24</strong>: <a href=\"https://wandb.ai/muk465/CS6910-Assignment-3_attn/runs/cksnq5rb\" target=\"_blank\">https://wandb.ai/muk465/CS6910-Assignment-3_attn/runs/cksnq5rb</a><br/>Synced 5 W&B file(s), 1 media file(s), 0 artifact file(s) and 1 other file(s)"
            ]
          },
          "metadata": {}
        },
        {
          "output_type": "display_data",
          "data": {
            "text/plain": [
              "<IPython.core.display.HTML object>"
            ],
            "text/html": [
              "Find logs at: <code>./wandb/run-20220513_143730-cksnq5rb/logs</code>"
            ]
          },
          "metadata": {}
        },
        {
          "output_type": "stream",
          "name": "stderr",
          "text": [
            "\u001b[34m\u001b[1mwandb\u001b[0m: Sweep Agent: Waiting for job.\n",
            "\u001b[34m\u001b[1mwandb\u001b[0m: Job received.\n",
            "\u001b[34m\u001b[1mwandb\u001b[0m: Agent Starting Run: tyxac7zz with config:\n",
            "\u001b[34m\u001b[1mwandb\u001b[0m: \tbatch_size: 32\n",
            "\u001b[34m\u001b[1mwandb\u001b[0m: \tcell_type: GRU\n",
            "\u001b[34m\u001b[1mwandb\u001b[0m: \tdropout: 0.3\n",
            "\u001b[34m\u001b[1mwandb\u001b[0m: \tepochs: 20\n",
            "\u001b[34m\u001b[1mwandb\u001b[0m: \thidden: 128\n",
            "\u001b[34m\u001b[1mwandb\u001b[0m: \tlatentDim: 256\n",
            "\u001b[34m\u001b[1mwandb\u001b[0m: \tnumDecoders: 2\n",
            "\u001b[34m\u001b[1mwandb\u001b[0m: \tnumEncoders: 1\n",
            "\u001b[34m\u001b[1mwandb\u001b[0m: \toptimiser: adam\n",
            "\u001b[34m\u001b[1mwandb\u001b[0m: \u001b[33mWARNING\u001b[0m Ignored wandb.init() arg project when running a sweep.\n"
          ]
        },
        {
          "output_type": "display_data",
          "data": {
            "text/plain": [
              "<IPython.core.display.HTML object>"
            ],
            "text/html": [
              "Tracking run with wandb version 0.12.16"
            ]
          },
          "metadata": {}
        },
        {
          "output_type": "display_data",
          "data": {
            "text/plain": [
              "<IPython.core.display.HTML object>"
            ],
            "text/html": [
              "Run data is saved locally in <code>/content/wandb/run-20220513_144529-tyxac7zz</code>"
            ]
          },
          "metadata": {}
        },
        {
          "output_type": "display_data",
          "data": {
            "text/plain": [
              "<IPython.core.display.HTML object>"
            ],
            "text/html": [
              "Syncing run <strong><a href=\"https://wandb.ai/muk465/CS6910-Assignment-3_attn/runs/tyxac7zz\" target=\"_blank\">happy-sweep-25</a></strong> to <a href=\"https://wandb.ai/muk465/CS6910-Assignment-3_attn\" target=\"_blank\">Weights & Biases</a> (<a href=\"https://wandb.me/run\" target=\"_blank\">docs</a>)<br/>Sweep page:  <a href=\"https://wandb.ai/muk465/CS6910-Assignment-3_attn/sweeps/wo9l1m7l\" target=\"_blank\">https://wandb.ai/muk465/CS6910-Assignment-3_attn/sweeps/wo9l1m7l</a>"
            ]
          },
          "metadata": {}
        },
        {
          "output_type": "stream",
          "name": "stdout",
          "text": [
            "Model: \"model\"\n",
            "__________________________________________________________________________________________________\n",
            " Layer (type)                   Output Shape         Param #     Connected to                     \n",
            "==================================================================================================\n",
            " input_1 (InputLayer)           [(None, None, 27)]   0           []                               \n",
            "                                                                                                  \n",
            " input_2 (InputLayer)           [(None, None, 66)]   0           []                               \n",
            "                                                                                                  \n",
            " gru (GRU)                      [(None, None, 256),  218880      ['input_1[0][0]']                \n",
            "                                 (None, 256)]                                                     \n",
            "                                                                                                  \n",
            " gru_2 (GRU)                    [(None, None, 256),  248832      ['input_2[0][0]',                \n",
            "                                 (None, 256)]                     'gru[0][1]']                    \n",
            "                                                                                                  \n",
            " additive_attention (AdditiveAt  (None, None, 256)   256         ['gru_2[0][0]',                  \n",
            " tention)                                                         'gru[0][0]']                    \n",
            "                                                                                                  \n",
            " concat_layer (Concatenate)     (None, None, 512)    0           ['gru_2[0][0]',                  \n",
            "                                                                  'additive_attention[0][0]']     \n",
            "                                                                                                  \n",
            " dense (Dense)                  (None, None, 128)    65664       ['concat_layer[0][0]']           \n",
            "                                                                                                  \n",
            " dense_1 (Dense)                (None, None, 66)     8514        ['dense[0][0]']                  \n",
            "                                                                                                  \n",
            "==================================================================================================\n",
            "Total params: 542,146\n",
            "Trainable params: 542,146\n",
            "Non-trainable params: 0\n",
            "__________________________________________________________________________________________________\n",
            "Epoch 1/20\n",
            "1382/1382 [==============================] - 18s 11ms/step - loss: 0.9130 - accuracy: 0.7566 - val_loss: 1.7288 - val_accuracy: 0.6857 - _timestamp: 1652453156.0000 - _runtime: 27.0000\n",
            "Epoch 2/20\n",
            "1382/1382 [==============================] - 14s 10ms/step - loss: 0.6081 - accuracy: 0.8258 - val_loss: 1.4633 - val_accuracy: 0.7218 - _timestamp: 1652453170.0000 - _runtime: 41.0000\n",
            "Epoch 3/20\n",
            "1382/1382 [==============================] - 14s 10ms/step - loss: 0.5173 - accuracy: 0.8490 - val_loss: 1.7230 - val_accuracy: 0.7155 - _timestamp: 1652453184.0000 - _runtime: 55.0000\n",
            "Epoch 4/20\n",
            "1382/1382 [==============================] - 15s 11ms/step - loss: 0.4728 - accuracy: 0.8598 - val_loss: 1.5694 - val_accuracy: 0.7293 - _timestamp: 1652453199.0000 - _runtime: 70.0000\n",
            "Epoch 5/20\n",
            "1382/1382 [==============================] - 14s 10ms/step - loss: 0.4482 - accuracy: 0.8661 - val_loss: 1.5182 - val_accuracy: 0.7298 - _timestamp: 1652453213.0000 - _runtime: 84.0000\n",
            "Epoch 6/20\n",
            "1382/1382 [==============================] - 14s 10ms/step - loss: 0.4292 - accuracy: 0.8707 - val_loss: 1.5963 - val_accuracy: 0.7363 - _timestamp: 1652453228.0000 - _runtime: 99.0000\n",
            "Epoch 7/20\n",
            "1382/1382 [==============================] - 14s 10ms/step - loss: 0.4160 - accuracy: 0.8744 - val_loss: 1.6080 - val_accuracy: 0.7326 - _timestamp: 1652453242.0000 - _runtime: 113.0000\n",
            "Epoch 8/20\n",
            "1382/1382 [==============================] - 14s 10ms/step - loss: 0.4070 - accuracy: 0.8770 - val_loss: 1.6520 - val_accuracy: 0.7376 - _timestamp: 1652453256.0000 - _runtime: 127.0000\n",
            "Epoch 9/20\n",
            "1382/1382 [==============================] - 14s 10ms/step - loss: 0.3984 - accuracy: 0.8792 - val_loss: 1.6362 - val_accuracy: 0.7362 - _timestamp: 1652453270.0000 - _runtime: 141.0000\n",
            "Epoch 10/20\n",
            "1382/1382 [==============================] - 14s 10ms/step - loss: 0.3901 - accuracy: 0.8814 - val_loss: 1.6066 - val_accuracy: 0.7454 - _timestamp: 1652453284.0000 - _runtime: 155.0000\n",
            "Epoch 11/20\n",
            "1382/1382 [==============================] - 15s 10ms/step - loss: 0.3840 - accuracy: 0.8835 - val_loss: 1.6610 - val_accuracy: 0.7439 - _timestamp: 1652453299.0000 - _runtime: 170.0000\n",
            "Epoch 11: early stopping\n"
          ]
        },
        {
          "output_type": "stream",
          "name": "stderr",
          "text": [
            "WARNING:absl:Found untraced functions such as gru_cell_layer_call_fn, gru_cell_layer_call_and_return_conditional_losses, gru_cell_2_layer_call_fn, gru_cell_2_layer_call_and_return_conditional_losses while saving (showing 4 of 4). These functions will not be directly callable after loading.\n"
          ]
        },
        {
          "output_type": "stream",
          "name": "stdout",
          "text": [
            "INFO:tensorflow:Assets written to: ./TrainedModels/GRUeng1_hi_2_adam_20_0.3_32_256/assets\n"
          ]
        },
        {
          "output_type": "stream",
          "name": "stderr",
          "text": [
            "INFO:tensorflow:Assets written to: ./TrainedModels/GRUeng1_hi_2_adam_20_0.3_32_256/assets\n",
            "WARNING:absl:<keras.layers.recurrent.GRUCell object at 0x7fe61088d2d0> has the same name 'GRUCell' as a built-in Keras object. Consider renaming <class 'keras.layers.recurrent.GRUCell'> to avoid naming conflicts when loading with `tf.keras.models.load_model`. If renaming is not possible, pass the object in the `custom_objects` parameter of the load function.\n",
            "WARNING:absl:<keras.layers.recurrent.GRUCell object at 0x7fe610197e10> has the same name 'GRUCell' as a built-in Keras object. Consider renaming <class 'keras.layers.recurrent.GRUCell'> to avoid naming conflicts when loading with `tf.keras.models.load_model`. If renaming is not possible, pass the object in the `custom_objects` parameter of the load function.\n"
          ]
        },
        {
          "output_type": "display_data",
          "data": {
            "text/plain": [
              "<IPython.core.display.HTML object>"
            ],
            "text/html": [
              "Waiting for W&B process to finish... <strong style=\"color:green\">(success).</strong>"
            ]
          },
          "metadata": {}
        },
        {
          "output_type": "display_data",
          "data": {
            "text/plain": [
              "VBox(children=(Label(value='6.264 MB of 6.264 MB uploaded (0.000 MB deduped)\\r'), FloatProgress(value=1.0, max…"
            ],
            "application/vnd.jupyter.widget-view+json": {
              "version_major": 2,
              "version_minor": 0,
              "model_id": "13367915ca4b484a9c9422bd80f99779"
            }
          },
          "metadata": {}
        },
        {
          "output_type": "display_data",
          "data": {
            "text/plain": [
              "<IPython.core.display.HTML object>"
            ],
            "text/html": [
              "<style>\n",
              "    table.wandb td:nth-child(1) { padding: 0 10px; text-align: left ; width: auto;} td:nth-child(2) {text-align: left ; width: 100%}\n",
              "    .wandb-row { display: flex; flex-direction: row; flex-wrap: wrap; justify-content: flex-start; width: 100% }\n",
              "    .wandb-col { display: flex; flex-direction: column; flex-basis: 100%; flex: 1; padding: 10px; }\n",
              "    </style>\n",
              "<div class=\"wandb-row\"><div class=\"wandb-col\"><h3>Run history:</h3><br/><table class=\"wandb\"><tr><td>accuracy</td><td>▁▅▆▇▇▇█████</td></tr><tr><td>epoch</td><td>▁▂▂▃▄▅▅▆▇▇█</td></tr><tr><td>loss</td><td>█▄▃▂▂▂▁▁▁▁▁</td></tr><tr><td>val_accuracy</td><td>▁▅▄▆▆▇▆▇▇██</td></tr><tr><td>val_loss</td><td>█▁█▄▂▅▅▆▆▅▆</td></tr></table><br/></div><div class=\"wandb-col\"><h3>Run summary:</h3><br/><table class=\"wandb\"><tr><td>accuracy</td><td>0.88347</td></tr><tr><td>best_epoch</td><td>1</td></tr><tr><td>best_val_loss</td><td>1.46333</td></tr><tr><td>epoch</td><td>10</td></tr><tr><td>loss</td><td>0.38399</td></tr><tr><td>val_accuracy</td><td>0.74387</td></tr><tr><td>val_loss</td><td>1.66105</td></tr></table><br/></div></div>"
            ]
          },
          "metadata": {}
        },
        {
          "output_type": "display_data",
          "data": {
            "text/plain": [
              "<IPython.core.display.HTML object>"
            ],
            "text/html": [
              "Synced <strong style=\"color:#cdcd00\">happy-sweep-25</strong>: <a href=\"https://wandb.ai/muk465/CS6910-Assignment-3_attn/runs/tyxac7zz\" target=\"_blank\">https://wandb.ai/muk465/CS6910-Assignment-3_attn/runs/tyxac7zz</a><br/>Synced 5 W&B file(s), 1 media file(s), 0 artifact file(s) and 1 other file(s)"
            ]
          },
          "metadata": {}
        },
        {
          "output_type": "display_data",
          "data": {
            "text/plain": [
              "<IPython.core.display.HTML object>"
            ],
            "text/html": [
              "Find logs at: <code>./wandb/run-20220513_144529-tyxac7zz/logs</code>"
            ]
          },
          "metadata": {}
        },
        {
          "output_type": "stream",
          "name": "stderr",
          "text": [
            "\u001b[34m\u001b[1mwandb\u001b[0m: Agent Starting Run: gwliera0 with config:\n",
            "\u001b[34m\u001b[1mwandb\u001b[0m: \tbatch_size: 32\n",
            "\u001b[34m\u001b[1mwandb\u001b[0m: \tcell_type: RNN\n",
            "\u001b[34m\u001b[1mwandb\u001b[0m: \tdropout: 0.3\n",
            "\u001b[34m\u001b[1mwandb\u001b[0m: \tepochs: 20\n",
            "\u001b[34m\u001b[1mwandb\u001b[0m: \thidden: 64\n",
            "\u001b[34m\u001b[1mwandb\u001b[0m: \tlatentDim: 256\n",
            "\u001b[34m\u001b[1mwandb\u001b[0m: \tnumDecoders: 2\n",
            "\u001b[34m\u001b[1mwandb\u001b[0m: \tnumEncoders: 2\n",
            "\u001b[34m\u001b[1mwandb\u001b[0m: \toptimiser: adam\n",
            "\u001b[34m\u001b[1mwandb\u001b[0m: \u001b[33mWARNING\u001b[0m Ignored wandb.init() arg project when running a sweep.\n"
          ]
        },
        {
          "output_type": "display_data",
          "data": {
            "text/plain": [
              "<IPython.core.display.HTML object>"
            ],
            "text/html": [
              "Tracking run with wandb version 0.12.16"
            ]
          },
          "metadata": {}
        },
        {
          "output_type": "display_data",
          "data": {
            "text/plain": [
              "<IPython.core.display.HTML object>"
            ],
            "text/html": [
              "Run data is saved locally in <code>/content/wandb/run-20220513_144839-gwliera0</code>"
            ]
          },
          "metadata": {}
        },
        {
          "output_type": "display_data",
          "data": {
            "text/plain": [
              "<IPython.core.display.HTML object>"
            ],
            "text/html": [
              "Syncing run <strong><a href=\"https://wandb.ai/muk465/CS6910-Assignment-3_attn/runs/gwliera0\" target=\"_blank\">sweet-sweep-26</a></strong> to <a href=\"https://wandb.ai/muk465/CS6910-Assignment-3_attn\" target=\"_blank\">Weights & Biases</a> (<a href=\"https://wandb.me/run\" target=\"_blank\">docs</a>)<br/>Sweep page:  <a href=\"https://wandb.ai/muk465/CS6910-Assignment-3_attn/sweeps/wo9l1m7l\" target=\"_blank\">https://wandb.ai/muk465/CS6910-Assignment-3_attn/sweeps/wo9l1m7l</a>"
            ]
          },
          "metadata": {}
        },
        {
          "output_type": "stream",
          "name": "stdout",
          "text": [
            "Model: \"model\"\n",
            "__________________________________________________________________________________________________\n",
            " Layer (type)                   Output Shape         Param #     Connected to                     \n",
            "==================================================================================================\n",
            " input_1 (InputLayer)           [(None, None, 27)]   0           []                               \n",
            "                                                                                                  \n",
            " input_2 (InputLayer)           [(None, None, 66)]   0           []                               \n",
            "                                                                                                  \n",
            " simple_rnn_1 (SimpleRNN)       [(None, None, 256),  72704       ['input_1[0][0]']                \n",
            "                                 (None, 256)]                                                     \n",
            "                                                                                                  \n",
            " simple_rnn_3 (SimpleRNN)       [(None, None, 256),  82688       ['input_2[0][0]',                \n",
            "                                 (None, 256)]                     'simple_rnn_1[0][1]']           \n",
            "                                                                                                  \n",
            " simple_rnn (SimpleRNN)         [(None, None, 256),  72704       ['input_1[0][0]']                \n",
            "                                 (None, 256)]                                                     \n",
            "                                                                                                  \n",
            " additive_attention (AdditiveAt  (None, None, 256)   256         ['simple_rnn_3[0][0]',           \n",
            " tention)                                                         'simple_rnn[0][0]']             \n",
            "                                                                                                  \n",
            " concat_layer (Concatenate)     (None, None, 512)    0           ['simple_rnn_3[0][0]',           \n",
            "                                                                  'additive_attention[0][0]']     \n",
            "                                                                                                  \n",
            " dense (Dense)                  (None, None, 64)     32832       ['concat_layer[0][0]']           \n",
            "                                                                                                  \n",
            " dense_1 (Dense)                (None, None, 66)     4290        ['dense[0][0]']                  \n",
            "                                                                                                  \n",
            "==================================================================================================\n",
            "Total params: 265,474\n",
            "Trainable params: 265,474\n",
            "Non-trainable params: 0\n",
            "__________________________________________________________________________________________________\n",
            "Epoch 1/20\n",
            "1382/1382 [==============================] - 81s 57ms/step - loss: 0.8466 - accuracy: 0.7754 - val_loss: 1.5547 - val_accuracy: 0.6632 - _timestamp: 1652453409.0000 - _runtime: 90.0000\n",
            "Epoch 2/20\n",
            "1382/1382 [==============================] - 78s 57ms/step - loss: 0.5574 - accuracy: 0.8400 - val_loss: 1.4973 - val_accuracy: 0.6871 - _timestamp: 1652453487.0000 - _runtime: 168.0000\n",
            "Epoch 3/20\n",
            "1382/1382 [==============================] - 79s 57ms/step - loss: 0.5083 - accuracy: 0.8525 - val_loss: 1.5586 - val_accuracy: 0.7045 - _timestamp: 1652453566.0000 - _runtime: 247.0000\n",
            "Epoch 4/20\n",
            "1382/1382 [==============================] - 79s 57ms/step - loss: 0.4818 - accuracy: 0.8600 - val_loss: 1.5127 - val_accuracy: 0.7173 - _timestamp: 1652453645.0000 - _runtime: 326.0000\n",
            "Epoch 5/20\n",
            "1382/1382 [==============================] - 79s 57ms/step - loss: 0.4646 - accuracy: 0.8642 - val_loss: 1.5104 - val_accuracy: 0.7096 - _timestamp: 1652453725.0000 - _runtime: 406.0000\n",
            "Epoch 6/20\n",
            "1382/1382 [==============================] - 79s 57ms/step - loss: 0.4547 - accuracy: 0.8670 - val_loss: 1.4596 - val_accuracy: 0.7288 - _timestamp: 1652453804.0000 - _runtime: 485.0000\n",
            "Epoch 7/20\n",
            "1382/1382 [==============================] - 78s 56ms/step - loss: 0.4472 - accuracy: 0.8690 - val_loss: 1.3688 - val_accuracy: 0.7427 - _timestamp: 1652453881.0000 - _runtime: 562.0000\n",
            "Epoch 8/20\n",
            "1382/1382 [==============================] - 80s 58ms/step - loss: 0.4378 - accuracy: 0.8714 - val_loss: 1.4391 - val_accuracy: 0.7371 - _timestamp: 1652453961.0000 - _runtime: 642.0000\n",
            "Epoch 9/20\n",
            "1382/1382 [==============================] - 81s 58ms/step - loss: 0.4323 - accuracy: 0.8729 - val_loss: 1.4996 - val_accuracy: 0.7260 - _timestamp: 1652454042.0000 - _runtime: 723.0000\n",
            "Epoch 10/20\n",
            "1382/1382 [==============================] - 79s 57ms/step - loss: 0.4280 - accuracy: 0.8737 - val_loss: 1.4635 - val_accuracy: 0.7372 - _timestamp: 1652454120.0000 - _runtime: 801.0000\n",
            "Epoch 11/20\n",
            "1382/1382 [==============================] - 79s 57ms/step - loss: 0.4239 - accuracy: 0.8750 - val_loss: 1.4839 - val_accuracy: 0.7448 - _timestamp: 1652454199.0000 - _runtime: 880.0000\n",
            "Epoch 12/20\n",
            "1382/1382 [==============================] - 79s 57ms/step - loss: 0.4220 - accuracy: 0.8751 - val_loss: 1.4852 - val_accuracy: 0.7468 - _timestamp: 1652454278.0000 - _runtime: 959.0000\n",
            "Epoch 12: early stopping\n",
            "INFO:tensorflow:Assets written to: ./TrainedModels/RNNeng2_hi_2_adam_20_0.3_32_256/assets\n"
          ]
        },
        {
          "output_type": "stream",
          "name": "stderr",
          "text": [
            "INFO:tensorflow:Assets written to: ./TrainedModels/RNNeng2_hi_2_adam_20_0.3_32_256/assets\n"
          ]
        },
        {
          "output_type": "display_data",
          "data": {
            "text/plain": [
              "<IPython.core.display.HTML object>"
            ],
            "text/html": [
              "Waiting for W&B process to finish... <strong style=\"color:green\">(success).</strong>"
            ]
          },
          "metadata": {}
        },
        {
          "output_type": "display_data",
          "data": {
            "text/plain": [
              "VBox(children=(Label(value='3.108 MB of 3.108 MB uploaded (0.000 MB deduped)\\r'), FloatProgress(value=1.0, max…"
            ],
            "application/vnd.jupyter.widget-view+json": {
              "version_major": 2,
              "version_minor": 0,
              "model_id": "db3d76bb28c54d329287a35b5ca3f5c3"
            }
          },
          "metadata": {}
        },
        {
          "output_type": "display_data",
          "data": {
            "text/plain": [
              "<IPython.core.display.HTML object>"
            ],
            "text/html": [
              "<style>\n",
              "    table.wandb td:nth-child(1) { padding: 0 10px; text-align: left ; width: auto;} td:nth-child(2) {text-align: left ; width: 100%}\n",
              "    .wandb-row { display: flex; flex-direction: row; flex-wrap: wrap; justify-content: flex-start; width: 100% }\n",
              "    .wandb-col { display: flex; flex-direction: column; flex-basis: 100%; flex: 1; padding: 10px; }\n",
              "    </style>\n",
              "<div class=\"wandb-row\"><div class=\"wandb-col\"><h3>Run history:</h3><br/><table class=\"wandb\"><tr><td>accuracy</td><td>▁▆▆▇▇▇██████</td></tr><tr><td>epoch</td><td>▁▂▂▃▄▄▅▅▆▇▇█</td></tr><tr><td>loss</td><td>█▃▂▂▂▂▁▁▁▁▁▁</td></tr><tr><td>val_accuracy</td><td>▁▃▄▆▅▆█▇▆▇██</td></tr><tr><td>val_loss</td><td>█▆█▆▆▄▁▄▆▄▅▅</td></tr></table><br/></div><div class=\"wandb-col\"><h3>Run summary:</h3><br/><table class=\"wandb\"><tr><td>accuracy</td><td>0.87506</td></tr><tr><td>best_epoch</td><td>6</td></tr><tr><td>best_val_loss</td><td>1.3688</td></tr><tr><td>epoch</td><td>11</td></tr><tr><td>loss</td><td>0.42205</td></tr><tr><td>val_accuracy</td><td>0.74675</td></tr><tr><td>val_loss</td><td>1.48522</td></tr></table><br/></div></div>"
            ]
          },
          "metadata": {}
        },
        {
          "output_type": "display_data",
          "data": {
            "text/plain": [
              "<IPython.core.display.HTML object>"
            ],
            "text/html": [
              "Synced <strong style=\"color:#cdcd00\">sweet-sweep-26</strong>: <a href=\"https://wandb.ai/muk465/CS6910-Assignment-3_attn/runs/gwliera0\" target=\"_blank\">https://wandb.ai/muk465/CS6910-Assignment-3_attn/runs/gwliera0</a><br/>Synced 5 W&B file(s), 1 media file(s), 0 artifact file(s) and 1 other file(s)"
            ]
          },
          "metadata": {}
        },
        {
          "output_type": "display_data",
          "data": {
            "text/plain": [
              "<IPython.core.display.HTML object>"
            ],
            "text/html": [
              "Find logs at: <code>./wandb/run-20220513_144839-gwliera0/logs</code>"
            ]
          },
          "metadata": {}
        },
        {
          "output_type": "stream",
          "name": "stderr",
          "text": [
            "\u001b[34m\u001b[1mwandb\u001b[0m: Agent Starting Run: 5tuigspo with config:\n",
            "\u001b[34m\u001b[1mwandb\u001b[0m: \tbatch_size: 32\n",
            "\u001b[34m\u001b[1mwandb\u001b[0m: \tcell_type: RNN\n",
            "\u001b[34m\u001b[1mwandb\u001b[0m: \tdropout: 0.3\n",
            "\u001b[34m\u001b[1mwandb\u001b[0m: \tepochs: 20\n",
            "\u001b[34m\u001b[1mwandb\u001b[0m: \thidden: 64\n",
            "\u001b[34m\u001b[1mwandb\u001b[0m: \tlatentDim: 256\n",
            "\u001b[34m\u001b[1mwandb\u001b[0m: \tnumDecoders: 2\n",
            "\u001b[34m\u001b[1mwandb\u001b[0m: \tnumEncoders: 2\n",
            "\u001b[34m\u001b[1mwandb\u001b[0m: \toptimiser: adam\n",
            "\u001b[34m\u001b[1mwandb\u001b[0m: \u001b[33mWARNING\u001b[0m Ignored wandb.init() arg project when running a sweep.\n"
          ]
        },
        {
          "output_type": "display_data",
          "data": {
            "text/plain": [
              "<IPython.core.display.HTML object>"
            ],
            "text/html": [
              "Tracking run with wandb version 0.12.16"
            ]
          },
          "metadata": {}
        },
        {
          "output_type": "display_data",
          "data": {
            "text/plain": [
              "<IPython.core.display.HTML object>"
            ],
            "text/html": [
              "Run data is saved locally in <code>/content/wandb/run-20220513_150528-5tuigspo</code>"
            ]
          },
          "metadata": {}
        },
        {
          "output_type": "display_data",
          "data": {
            "text/plain": [
              "<IPython.core.display.HTML object>"
            ],
            "text/html": [
              "Syncing run <strong><a href=\"https://wandb.ai/muk465/CS6910-Assignment-3_attn/runs/5tuigspo\" target=\"_blank\">driven-sweep-27</a></strong> to <a href=\"https://wandb.ai/muk465/CS6910-Assignment-3_attn\" target=\"_blank\">Weights & Biases</a> (<a href=\"https://wandb.me/run\" target=\"_blank\">docs</a>)<br/>Sweep page:  <a href=\"https://wandb.ai/muk465/CS6910-Assignment-3_attn/sweeps/wo9l1m7l\" target=\"_blank\">https://wandb.ai/muk465/CS6910-Assignment-3_attn/sweeps/wo9l1m7l</a>"
            ]
          },
          "metadata": {}
        },
        {
          "output_type": "stream",
          "name": "stdout",
          "text": [
            "Model: \"model\"\n",
            "__________________________________________________________________________________________________\n",
            " Layer (type)                   Output Shape         Param #     Connected to                     \n",
            "==================================================================================================\n",
            " input_1 (InputLayer)           [(None, None, 27)]   0           []                               \n",
            "                                                                                                  \n",
            " input_2 (InputLayer)           [(None, None, 66)]   0           []                               \n",
            "                                                                                                  \n",
            " simple_rnn_1 (SimpleRNN)       [(None, None, 256),  72704       ['input_1[0][0]']                \n",
            "                                 (None, 256)]                                                     \n",
            "                                                                                                  \n",
            " simple_rnn_3 (SimpleRNN)       [(None, None, 256),  82688       ['input_2[0][0]',                \n",
            "                                 (None, 256)]                     'simple_rnn_1[0][1]']           \n",
            "                                                                                                  \n",
            " simple_rnn (SimpleRNN)         [(None, None, 256),  72704       ['input_1[0][0]']                \n",
            "                                 (None, 256)]                                                     \n",
            "                                                                                                  \n",
            " additive_attention (AdditiveAt  (None, None, 256)   256         ['simple_rnn_3[0][0]',           \n",
            " tention)                                                         'simple_rnn[0][0]']             \n",
            "                                                                                                  \n",
            " concat_layer (Concatenate)     (None, None, 512)    0           ['simple_rnn_3[0][0]',           \n",
            "                                                                  'additive_attention[0][0]']     \n",
            "                                                                                                  \n",
            " dense (Dense)                  (None, None, 64)     32832       ['concat_layer[0][0]']           \n",
            "                                                                                                  \n",
            " dense_1 (Dense)                (None, None, 66)     4290        ['dense[0][0]']                  \n",
            "                                                                                                  \n",
            "==================================================================================================\n",
            "Total params: 265,474\n",
            "Trainable params: 265,474\n",
            "Non-trainable params: 0\n",
            "__________________________________________________________________________________________________\n",
            "Epoch 1/20\n",
            "1382/1382 [==============================] - 80s 57ms/step - loss: 0.8969 - accuracy: 0.7623 - val_loss: 1.5990 - val_accuracy: 0.6755 - _timestamp: 1652454417.0000 - _runtime: 89.0000\n",
            "Epoch 2/20\n",
            "1382/1382 [==============================] - 78s 57ms/step - loss: 0.6082 - accuracy: 0.8265 - val_loss: 1.7504 - val_accuracy: 0.6975 - _timestamp: 1652454495.0000 - _runtime: 167.0000\n",
            "Epoch 3/20\n",
            "1382/1382 [==============================] - 77s 56ms/step - loss: 0.5544 - accuracy: 0.8399 - val_loss: 1.7211 - val_accuracy: 0.7062 - _timestamp: 1652454573.0000 - _runtime: 245.0000\n",
            "Epoch 4/20\n",
            "1382/1382 [==============================] - 78s 56ms/step - loss: 0.5241 - accuracy: 0.8477 - val_loss: 1.6584 - val_accuracy: 0.7260 - _timestamp: 1652454650.0000 - _runtime: 322.0000\n",
            "Epoch 5/20\n",
            "1382/1382 [==============================] - 77s 56ms/step - loss: 0.5089 - accuracy: 0.8513 - val_loss: 1.7632 - val_accuracy: 0.7158 - _timestamp: 1652454727.0000 - _runtime: 399.0000\n",
            "Epoch 6/20\n",
            "1382/1382 [==============================] - 78s 56ms/step - loss: 0.4947 - accuracy: 0.8552 - val_loss: 1.6618 - val_accuracy: 0.7307 - _timestamp: 1652454805.0000 - _runtime: 477.0000\n",
            "Epoch 7/20\n",
            "1382/1382 [==============================] - 78s 56ms/step - loss: 0.4863 - accuracy: 0.8573 - val_loss: 1.7528 - val_accuracy: 0.7243 - _timestamp: 1652454883.0000 - _runtime: 555.0000\n",
            "Epoch 8/20\n",
            "1382/1382 [==============================] - 77s 56ms/step - loss: 0.4802 - accuracy: 0.8587 - val_loss: 1.7298 - val_accuracy: 0.7227 - _timestamp: 1652454961.0000 - _runtime: 633.0000\n",
            "Epoch 9/20\n",
            "1382/1382 [==============================] - 79s 57ms/step - loss: 0.4732 - accuracy: 0.8604 - val_loss: 1.6899 - val_accuracy: 0.7383 - _timestamp: 1652455040.0000 - _runtime: 712.0000\n",
            "Epoch 10/20\n",
            "1382/1382 [==============================] - 79s 57ms/step - loss: 0.4668 - accuracy: 0.8618 - val_loss: 1.6756 - val_accuracy: 0.7414 - _timestamp: 1652455118.0000 - _runtime: 790.0000\n",
            "Epoch 11/20\n",
            "1382/1382 [==============================] - 79s 57ms/step - loss: 0.4611 - accuracy: 0.8634 - val_loss: 1.6918 - val_accuracy: 0.7379 - _timestamp: 1652455197.0000 - _runtime: 869.0000\n",
            "Epoch 12/20\n",
            "1382/1382 [==============================] - 81s 58ms/step - loss: 0.4580 - accuracy: 0.8642 - val_loss: 1.7039 - val_accuracy: 0.7392 - _timestamp: 1652455278.0000 - _runtime: 950.0000\n",
            "Epoch 13/20\n",
            "1382/1382 [==============================] - 79s 58ms/step - loss: 0.4545 - accuracy: 0.8653 - val_loss: 1.6848 - val_accuracy: 0.7419 - _timestamp: 1652455358.0000 - _runtime: 1030.0000\n",
            "Epoch 14/20\n",
            "1382/1382 [==============================] - 80s 58ms/step - loss: 0.4519 - accuracy: 0.8658 - val_loss: 1.6893 - val_accuracy: 0.7437 - _timestamp: 1652455437.0000 - _runtime: 1109.0000\n",
            "Epoch 14: early stopping\n",
            "INFO:tensorflow:Assets written to: ./TrainedModels/RNNeng2_hi_2_adam_20_0.3_32_256/assets\n"
          ]
        },
        {
          "output_type": "stream",
          "name": "stderr",
          "text": [
            "INFO:tensorflow:Assets written to: ./TrainedModels/RNNeng2_hi_2_adam_20_0.3_32_256/assets\n"
          ]
        },
        {
          "output_type": "display_data",
          "data": {
            "text/plain": [
              "<IPython.core.display.HTML object>"
            ],
            "text/html": [
              "Waiting for W&B process to finish... <strong style=\"color:green\">(success).</strong>"
            ]
          },
          "metadata": {}
        },
        {
          "output_type": "display_data",
          "data": {
            "text/plain": [
              "VBox(children=(Label(value='3.108 MB of 3.108 MB uploaded (0.000 MB deduped)\\r'), FloatProgress(value=1.0, max…"
            ],
            "application/vnd.jupyter.widget-view+json": {
              "version_major": 2,
              "version_minor": 0,
              "model_id": "5c4f03e54379481ea658da201e9aee83"
            }
          },
          "metadata": {}
        },
        {
          "output_type": "display_data",
          "data": {
            "text/plain": [
              "<IPython.core.display.HTML object>"
            ],
            "text/html": [
              "<style>\n",
              "    table.wandb td:nth-child(1) { padding: 0 10px; text-align: left ; width: auto;} td:nth-child(2) {text-align: left ; width: 100%}\n",
              "    .wandb-row { display: flex; flex-direction: row; flex-wrap: wrap; justify-content: flex-start; width: 100% }\n",
              "    .wandb-col { display: flex; flex-direction: column; flex-basis: 100%; flex: 1; padding: 10px; }\n",
              "    </style>\n",
              "<div class=\"wandb-row\"><div class=\"wandb-col\"><h3>Run history:</h3><br/><table class=\"wandb\"><tr><td>accuracy</td><td>▁▅▆▇▇▇▇███████</td></tr><tr><td>epoch</td><td>▁▂▂▃▃▄▄▅▅▆▆▇▇█</td></tr><tr><td>loss</td><td>█▃▃▂▂▂▂▁▁▁▁▁▁▁</td></tr><tr><td>val_accuracy</td><td>▁▃▄▆▅▇▆▆▇█▇███</td></tr><tr><td>val_loss</td><td>▁▇▆▄█▄█▇▅▄▅▅▅▅</td></tr></table><br/></div><div class=\"wandb-col\"><h3>Run summary:</h3><br/><table class=\"wandb\"><tr><td>accuracy</td><td>0.86582</td></tr><tr><td>best_epoch</td><td>0</td></tr><tr><td>best_val_loss</td><td>1.59898</td></tr><tr><td>epoch</td><td>13</td></tr><tr><td>loss</td><td>0.4519</td></tr><tr><td>val_accuracy</td><td>0.74371</td></tr><tr><td>val_loss</td><td>1.68926</td></tr></table><br/></div></div>"
            ]
          },
          "metadata": {}
        },
        {
          "output_type": "display_data",
          "data": {
            "text/plain": [
              "<IPython.core.display.HTML object>"
            ],
            "text/html": [
              "Synced <strong style=\"color:#cdcd00\">driven-sweep-27</strong>: <a href=\"https://wandb.ai/muk465/CS6910-Assignment-3_attn/runs/5tuigspo\" target=\"_blank\">https://wandb.ai/muk465/CS6910-Assignment-3_attn/runs/5tuigspo</a><br/>Synced 5 W&B file(s), 1 media file(s), 0 artifact file(s) and 1 other file(s)"
            ]
          },
          "metadata": {}
        },
        {
          "output_type": "display_data",
          "data": {
            "text/plain": [
              "<IPython.core.display.HTML object>"
            ],
            "text/html": [
              "Find logs at: <code>./wandb/run-20220513_150528-5tuigspo/logs</code>"
            ]
          },
          "metadata": {}
        },
        {
          "output_type": "stream",
          "name": "stderr",
          "text": [
            "\u001b[34m\u001b[1mwandb\u001b[0m: Agent Starting Run: fsq7vh0p with config:\n",
            "\u001b[34m\u001b[1mwandb\u001b[0m: \tbatch_size: 64\n",
            "\u001b[34m\u001b[1mwandb\u001b[0m: \tcell_type: RNN\n",
            "\u001b[34m\u001b[1mwandb\u001b[0m: \tdropout: 0.3\n",
            "\u001b[34m\u001b[1mwandb\u001b[0m: \tepochs: 20\n",
            "\u001b[34m\u001b[1mwandb\u001b[0m: \thidden: 64\n",
            "\u001b[34m\u001b[1mwandb\u001b[0m: \tlatentDim: 256\n",
            "\u001b[34m\u001b[1mwandb\u001b[0m: \tnumDecoders: 1\n",
            "\u001b[34m\u001b[1mwandb\u001b[0m: \tnumEncoders: 1\n",
            "\u001b[34m\u001b[1mwandb\u001b[0m: \toptimiser: adam\n",
            "\u001b[34m\u001b[1mwandb\u001b[0m: \u001b[33mWARNING\u001b[0m Ignored wandb.init() arg project when running a sweep.\n"
          ]
        },
        {
          "output_type": "display_data",
          "data": {
            "text/plain": [
              "<IPython.core.display.HTML object>"
            ],
            "text/html": [
              "Tracking run with wandb version 0.12.16"
            ]
          },
          "metadata": {}
        },
        {
          "output_type": "display_data",
          "data": {
            "text/plain": [
              "<IPython.core.display.HTML object>"
            ],
            "text/html": [
              "Run data is saved locally in <code>/content/wandb/run-20220513_152420-fsq7vh0p</code>"
            ]
          },
          "metadata": {}
        },
        {
          "output_type": "display_data",
          "data": {
            "text/plain": [
              "<IPython.core.display.HTML object>"
            ],
            "text/html": [
              "Syncing run <strong><a href=\"https://wandb.ai/muk465/CS6910-Assignment-3_attn/runs/fsq7vh0p\" target=\"_blank\">dark-sweep-28</a></strong> to <a href=\"https://wandb.ai/muk465/CS6910-Assignment-3_attn\" target=\"_blank\">Weights & Biases</a> (<a href=\"https://wandb.me/run\" target=\"_blank\">docs</a>)<br/>Sweep page:  <a href=\"https://wandb.ai/muk465/CS6910-Assignment-3_attn/sweeps/wo9l1m7l\" target=\"_blank\">https://wandb.ai/muk465/CS6910-Assignment-3_attn/sweeps/wo9l1m7l</a>"
            ]
          },
          "metadata": {}
        },
        {
          "output_type": "stream",
          "name": "stdout",
          "text": [
            "Model: \"model\"\n",
            "__________________________________________________________________________________________________\n",
            " Layer (type)                   Output Shape         Param #     Connected to                     \n",
            "==================================================================================================\n",
            " input_1 (InputLayer)           [(None, None, 27)]   0           []                               \n",
            "                                                                                                  \n",
            " input_2 (InputLayer)           [(None, None, 66)]   0           []                               \n",
            "                                                                                                  \n",
            " simple_rnn (SimpleRNN)         [(None, None, 256),  72704       ['input_1[0][0]']                \n",
            "                                 (None, 256)]                                                     \n",
            "                                                                                                  \n",
            " simple_rnn_1 (SimpleRNN)       [(None, None, 256),  82688       ['input_2[0][0]',                \n",
            "                                 (None, 256)]                     'simple_rnn[0][1]']             \n",
            "                                                                                                  \n",
            " additive_attention (AdditiveAt  (None, None, 256)   256         ['simple_rnn_1[0][0]',           \n",
            " tention)                                                         'simple_rnn[0][0]']             \n",
            "                                                                                                  \n",
            " concat_layer (Concatenate)     (None, None, 512)    0           ['simple_rnn_1[0][0]',           \n",
            "                                                                  'additive_attention[0][0]']     \n",
            "                                                                                                  \n",
            " dense (Dense)                  (None, None, 64)     32832       ['concat_layer[0][0]']           \n",
            "                                                                                                  \n",
            " dense_1 (Dense)                (None, None, 66)     4290        ['dense[0][0]']                  \n",
            "                                                                                                  \n",
            "==================================================================================================\n",
            "Total params: 192,770\n",
            "Trainable params: 192,770\n",
            "Non-trainable params: 0\n",
            "__________________________________________________________________________________________________\n",
            "Epoch 1/20\n",
            "691/691 [==============================] - 30s 42ms/step - loss: 1.0626 - accuracy: 0.7282 - val_loss: 1.5488 - val_accuracy: 0.6594 - _timestamp: 1652455499.0000 - _runtime: 39.0000\n",
            "Epoch 2/20\n",
            "691/691 [==============================] - 28s 40ms/step - loss: 0.7241 - accuracy: 0.7979 - val_loss: 1.7302 - val_accuracy: 0.6869 - _timestamp: 1652455526.0000 - _runtime: 66.0000\n",
            "Epoch 3/20\n",
            "691/691 [==============================] - 28s 40ms/step - loss: 0.6061 - accuracy: 0.8273 - val_loss: 1.7142 - val_accuracy: 0.7137 - _timestamp: 1652455554.0000 - _runtime: 94.0000\n",
            "Epoch 4/20\n",
            "691/691 [==============================] - 28s 41ms/step - loss: 0.5624 - accuracy: 0.8382 - val_loss: 1.6609 - val_accuracy: 0.7195 - _timestamp: 1652455582.0000 - _runtime: 122.0000\n",
            "Epoch 5/20\n",
            "691/691 [==============================] - 28s 40ms/step - loss: 0.5349 - accuracy: 0.8449 - val_loss: 1.8000 - val_accuracy: 0.7172 - _timestamp: 1652455610.0000 - _runtime: 150.0000\n",
            "Epoch 6/20\n",
            "691/691 [==============================] - 28s 40ms/step - loss: 0.5136 - accuracy: 0.8496 - val_loss: 1.7045 - val_accuracy: 0.7346 - _timestamp: 1652455638.0000 - _runtime: 178.0000\n",
            "Epoch 7/20\n",
            "691/691 [==============================] - 28s 40ms/step - loss: 0.4997 - accuracy: 0.8530 - val_loss: 1.7368 - val_accuracy: 0.7320 - _timestamp: 1652455665.0000 - _runtime: 205.0000\n",
            "Epoch 8/20\n",
            "691/691 [==============================] - 28s 40ms/step - loss: 0.4894 - accuracy: 0.8558 - val_loss: 1.6400 - val_accuracy: 0.7337 - _timestamp: 1652455693.0000 - _runtime: 233.0000\n",
            "Epoch 9/20\n",
            "691/691 [==============================] - 28s 40ms/step - loss: 0.4800 - accuracy: 0.8579 - val_loss: 1.6561 - val_accuracy: 0.7327 - _timestamp: 1652455721.0000 - _runtime: 261.0000\n",
            "Epoch 10/20\n",
            "691/691 [==============================] - 28s 40ms/step - loss: 0.4717 - accuracy: 0.8604 - val_loss: 1.6810 - val_accuracy: 0.7392 - _timestamp: 1652455749.0000 - _runtime: 289.0000\n",
            "Epoch 11/20\n",
            "691/691 [==============================] - 28s 40ms/step - loss: 0.4639 - accuracy: 0.8624 - val_loss: 1.6972 - val_accuracy: 0.7359 - _timestamp: 1652455777.0000 - _runtime: 317.0000\n",
            "Epoch 11: early stopping\n",
            "INFO:tensorflow:Assets written to: ./TrainedModels/RNNeng1_hi_1_adam_20_0.3_64_256/assets\n"
          ]
        },
        {
          "output_type": "stream",
          "name": "stderr",
          "text": [
            "INFO:tensorflow:Assets written to: ./TrainedModels/RNNeng1_hi_1_adam_20_0.3_64_256/assets\n"
          ]
        },
        {
          "output_type": "display_data",
          "data": {
            "text/plain": [
              "<IPython.core.display.HTML object>"
            ],
            "text/html": [
              "Waiting for W&B process to finish... <strong style=\"color:green\">(success).</strong>"
            ]
          },
          "metadata": {}
        },
        {
          "output_type": "display_data",
          "data": {
            "text/plain": [
              "VBox(children=(Label(value='2.266 MB of 2.266 MB uploaded (0.000 MB deduped)\\r'), FloatProgress(value=1.0, max…"
            ],
            "application/vnd.jupyter.widget-view+json": {
              "version_major": 2,
              "version_minor": 0,
              "model_id": "6785c394240b4cd88f19cb9ffa121257"
            }
          },
          "metadata": {}
        },
        {
          "output_type": "display_data",
          "data": {
            "text/plain": [
              "<IPython.core.display.HTML object>"
            ],
            "text/html": [
              "<style>\n",
              "    table.wandb td:nth-child(1) { padding: 0 10px; text-align: left ; width: auto;} td:nth-child(2) {text-align: left ; width: 100%}\n",
              "    .wandb-row { display: flex; flex-direction: row; flex-wrap: wrap; justify-content: flex-start; width: 100% }\n",
              "    .wandb-col { display: flex; flex-direction: column; flex-basis: 100%; flex: 1; padding: 10px; }\n",
              "    </style>\n",
              "<div class=\"wandb-row\"><div class=\"wandb-col\"><h3>Run history:</h3><br/><table class=\"wandb\"><tr><td>accuracy</td><td>▁▅▆▇▇▇█████</td></tr><tr><td>epoch</td><td>▁▂▂▃▄▅▅▆▇▇█</td></tr><tr><td>loss</td><td>█▄▃▂▂▂▁▁▁▁▁</td></tr><tr><td>val_accuracy</td><td>▁▃▆▆▆█▇█▇██</td></tr><tr><td>val_loss</td><td>▁▆▆▄█▅▆▄▄▅▅</td></tr></table><br/></div><div class=\"wandb-col\"><h3>Run summary:</h3><br/><table class=\"wandb\"><tr><td>accuracy</td><td>0.86245</td></tr><tr><td>best_epoch</td><td>0</td></tr><tr><td>best_val_loss</td><td>1.54878</td></tr><tr><td>epoch</td><td>10</td></tr><tr><td>loss</td><td>0.46392</td></tr><tr><td>val_accuracy</td><td>0.73592</td></tr><tr><td>val_loss</td><td>1.69723</td></tr></table><br/></div></div>"
            ]
          },
          "metadata": {}
        },
        {
          "output_type": "display_data",
          "data": {
            "text/plain": [
              "<IPython.core.display.HTML object>"
            ],
            "text/html": [
              "Synced <strong style=\"color:#cdcd00\">dark-sweep-28</strong>: <a href=\"https://wandb.ai/muk465/CS6910-Assignment-3_attn/runs/fsq7vh0p\" target=\"_blank\">https://wandb.ai/muk465/CS6910-Assignment-3_attn/runs/fsq7vh0p</a><br/>Synced 5 W&B file(s), 1 media file(s), 0 artifact file(s) and 1 other file(s)"
            ]
          },
          "metadata": {}
        },
        {
          "output_type": "display_data",
          "data": {
            "text/plain": [
              "<IPython.core.display.HTML object>"
            ],
            "text/html": [
              "Find logs at: <code>./wandb/run-20220513_152420-fsq7vh0p/logs</code>"
            ]
          },
          "metadata": {}
        },
        {
          "output_type": "stream",
          "name": "stderr",
          "text": [
            "\u001b[34m\u001b[1mwandb\u001b[0m: Agent Starting Run: w2aislso with config:\n",
            "\u001b[34m\u001b[1mwandb\u001b[0m: \tbatch_size: 32\n",
            "\u001b[34m\u001b[1mwandb\u001b[0m: \tcell_type: GRU\n",
            "\u001b[34m\u001b[1mwandb\u001b[0m: \tdropout: 0.3\n",
            "\u001b[34m\u001b[1mwandb\u001b[0m: \tepochs: 20\n",
            "\u001b[34m\u001b[1mwandb\u001b[0m: \thidden: 64\n",
            "\u001b[34m\u001b[1mwandb\u001b[0m: \tlatentDim: 256\n",
            "\u001b[34m\u001b[1mwandb\u001b[0m: \tnumDecoders: 2\n",
            "\u001b[34m\u001b[1mwandb\u001b[0m: \tnumEncoders: 1\n",
            "\u001b[34m\u001b[1mwandb\u001b[0m: \toptimiser: adam\n",
            "\u001b[34m\u001b[1mwandb\u001b[0m: \u001b[33mWARNING\u001b[0m Ignored wandb.init() arg project when running a sweep.\n"
          ]
        },
        {
          "output_type": "display_data",
          "data": {
            "text/plain": [
              "<IPython.core.display.HTML object>"
            ],
            "text/html": [
              "Tracking run with wandb version 0.12.16"
            ]
          },
          "metadata": {}
        },
        {
          "output_type": "display_data",
          "data": {
            "text/plain": [
              "<IPython.core.display.HTML object>"
            ],
            "text/html": [
              "Run data is saved locally in <code>/content/wandb/run-20220513_152953-w2aislso</code>"
            ]
          },
          "metadata": {}
        },
        {
          "output_type": "display_data",
          "data": {
            "text/plain": [
              "<IPython.core.display.HTML object>"
            ],
            "text/html": [
              "Syncing run <strong><a href=\"https://wandb.ai/muk465/CS6910-Assignment-3_attn/runs/w2aislso\" target=\"_blank\">fluent-sweep-29</a></strong> to <a href=\"https://wandb.ai/muk465/CS6910-Assignment-3_attn\" target=\"_blank\">Weights & Biases</a> (<a href=\"https://wandb.me/run\" target=\"_blank\">docs</a>)<br/>Sweep page:  <a href=\"https://wandb.ai/muk465/CS6910-Assignment-3_attn/sweeps/wo9l1m7l\" target=\"_blank\">https://wandb.ai/muk465/CS6910-Assignment-3_attn/sweeps/wo9l1m7l</a>"
            ]
          },
          "metadata": {}
        },
        {
          "output_type": "stream",
          "name": "stdout",
          "text": [
            "Model: \"model\"\n",
            "__________________________________________________________________________________________________\n",
            " Layer (type)                   Output Shape         Param #     Connected to                     \n",
            "==================================================================================================\n",
            " input_1 (InputLayer)           [(None, None, 27)]   0           []                               \n",
            "                                                                                                  \n",
            " input_2 (InputLayer)           [(None, None, 66)]   0           []                               \n",
            "                                                                                                  \n",
            " gru (GRU)                      [(None, None, 256),  218880      ['input_1[0][0]']                \n",
            "                                 (None, 256)]                                                     \n",
            "                                                                                                  \n",
            " gru_2 (GRU)                    [(None, None, 256),  248832      ['input_2[0][0]',                \n",
            "                                 (None, 256)]                     'gru[0][1]']                    \n",
            "                                                                                                  \n",
            " additive_attention (AdditiveAt  (None, None, 256)   256         ['gru_2[0][0]',                  \n",
            " tention)                                                         'gru[0][0]']                    \n",
            "                                                                                                  \n",
            " concat_layer (Concatenate)     (None, None, 512)    0           ['gru_2[0][0]',                  \n",
            "                                                                  'additive_attention[0][0]']     \n",
            "                                                                                                  \n",
            " dense (Dense)                  (None, None, 64)     32832       ['concat_layer[0][0]']           \n",
            "                                                                                                  \n",
            " dense_1 (Dense)                (None, None, 66)     4290        ['dense[0][0]']                  \n",
            "                                                                                                  \n",
            "==================================================================================================\n",
            "Total params: 505,090\n",
            "Trainable params: 505,090\n",
            "Non-trainable params: 0\n",
            "__________________________________________________________________________________________________\n",
            "Epoch 1/20\n",
            "1382/1382 [==============================] - 19s 11ms/step - loss: 0.9247 - accuracy: 0.7559 - val_loss: 1.8268 - val_accuracy: 0.6665 - _timestamp: 1652455821.0000 - _runtime: 28.0000\n",
            "Epoch 2/20\n",
            "1382/1382 [==============================] - 15s 11ms/step - loss: 0.5813 - accuracy: 0.8323 - val_loss: 1.5331 - val_accuracy: 0.7254 - _timestamp: 1652455836.0000 - _runtime: 43.0000\n",
            "Epoch 3/20\n",
            "1382/1382 [==============================] - 15s 11ms/step - loss: 0.5154 - accuracy: 0.8485 - val_loss: 1.5737 - val_accuracy: 0.7317 - _timestamp: 1652455851.0000 - _runtime: 58.0000\n",
            "Epoch 4/20\n",
            "1382/1382 [==============================] - 15s 11ms/step - loss: 0.4799 - accuracy: 0.8579 - val_loss: 1.6137 - val_accuracy: 0.7342 - _timestamp: 1652455866.0000 - _runtime: 73.0000\n",
            "Epoch 5/20\n",
            "1382/1382 [==============================] - 15s 11ms/step - loss: 0.4584 - accuracy: 0.8640 - val_loss: 1.5905 - val_accuracy: 0.7409 - _timestamp: 1652455881.0000 - _runtime: 88.0000\n",
            "Epoch 6/20\n",
            "1382/1382 [==============================] - 15s 11ms/step - loss: 0.4404 - accuracy: 0.8685 - val_loss: 1.6300 - val_accuracy: 0.7392 - _timestamp: 1652455896.0000 - _runtime: 103.0000\n",
            "Epoch 7/20\n",
            "1382/1382 [==============================] - 14s 10ms/step - loss: 0.4287 - accuracy: 0.8711 - val_loss: 1.5343 - val_accuracy: 0.7572 - _timestamp: 1652455911.0000 - _runtime: 118.0000\n",
            "Epoch 8/20\n",
            "1382/1382 [==============================] - 15s 10ms/step - loss: 0.4191 - accuracy: 0.8740 - val_loss: 1.6999 - val_accuracy: 0.7488 - _timestamp: 1652455925.0000 - _runtime: 132.0000\n",
            "Epoch 9/20\n",
            "1382/1382 [==============================] - 15s 11ms/step - loss: 0.4078 - accuracy: 0.8770 - val_loss: 1.6277 - val_accuracy: 0.7516 - _timestamp: 1652455940.0000 - _runtime: 147.0000\n",
            "Epoch 10/20\n",
            "1382/1382 [==============================] - 15s 11ms/step - loss: 0.4008 - accuracy: 0.8787 - val_loss: 1.5600 - val_accuracy: 0.7551 - _timestamp: 1652455955.0000 - _runtime: 162.0000\n",
            "Epoch 11/20\n",
            "1382/1382 [==============================] - 15s 11ms/step - loss: 0.3935 - accuracy: 0.8811 - val_loss: 1.6202 - val_accuracy: 0.7524 - _timestamp: 1652455969.0000 - _runtime: 176.0000\n",
            "Epoch 12/20\n",
            "1382/1382 [==============================] - 15s 11ms/step - loss: 0.3894 - accuracy: 0.8821 - val_loss: 1.6194 - val_accuracy: 0.7478 - _timestamp: 1652455984.0000 - _runtime: 191.0000\n",
            "Epoch 12: early stopping\n"
          ]
        },
        {
          "output_type": "stream",
          "name": "stderr",
          "text": [
            "WARNING:absl:Found untraced functions such as gru_cell_layer_call_fn, gru_cell_layer_call_and_return_conditional_losses, gru_cell_2_layer_call_fn, gru_cell_2_layer_call_and_return_conditional_losses while saving (showing 4 of 4). These functions will not be directly callable after loading.\n"
          ]
        },
        {
          "output_type": "stream",
          "name": "stdout",
          "text": [
            "INFO:tensorflow:Assets written to: ./TrainedModels/GRUeng1_hi_2_adam_20_0.3_32_256/assets\n"
          ]
        },
        {
          "output_type": "stream",
          "name": "stderr",
          "text": [
            "INFO:tensorflow:Assets written to: ./TrainedModels/GRUeng1_hi_2_adam_20_0.3_32_256/assets\n",
            "WARNING:absl:<keras.layers.recurrent.GRUCell object at 0x7fe620f10190> has the same name 'GRUCell' as a built-in Keras object. Consider renaming <class 'keras.layers.recurrent.GRUCell'> to avoid naming conflicts when loading with `tf.keras.models.load_model`. If renaming is not possible, pass the object in the `custom_objects` parameter of the load function.\n",
            "WARNING:absl:<keras.layers.recurrent.GRUCell object at 0x7fe6104d3d90> has the same name 'GRUCell' as a built-in Keras object. Consider renaming <class 'keras.layers.recurrent.GRUCell'> to avoid naming conflicts when loading with `tf.keras.models.load_model`. If renaming is not possible, pass the object in the `custom_objects` parameter of the load function.\n"
          ]
        },
        {
          "output_type": "display_data",
          "data": {
            "text/plain": [
              "<IPython.core.display.HTML object>"
            ],
            "text/html": [
              "Waiting for W&B process to finish... <strong style=\"color:green\">(success).</strong>"
            ]
          },
          "metadata": {}
        },
        {
          "output_type": "display_data",
          "data": {
            "text/plain": [
              "VBox(children=(Label(value='5.840 MB of 5.840 MB uploaded (0.000 MB deduped)\\r'), FloatProgress(value=1.0, max…"
            ],
            "application/vnd.jupyter.widget-view+json": {
              "version_major": 2,
              "version_minor": 0,
              "model_id": "9c86657d802748239c4aad0d4d50227f"
            }
          },
          "metadata": {}
        },
        {
          "output_type": "display_data",
          "data": {
            "text/plain": [
              "<IPython.core.display.HTML object>"
            ],
            "text/html": [
              "<style>\n",
              "    table.wandb td:nth-child(1) { padding: 0 10px; text-align: left ; width: auto;} td:nth-child(2) {text-align: left ; width: 100%}\n",
              "    .wandb-row { display: flex; flex-direction: row; flex-wrap: wrap; justify-content: flex-start; width: 100% }\n",
              "    .wandb-col { display: flex; flex-direction: column; flex-basis: 100%; flex: 1; padding: 10px; }\n",
              "    </style>\n",
              "<div class=\"wandb-row\"><div class=\"wandb-col\"><h3>Run history:</h3><br/><table class=\"wandb\"><tr><td>accuracy</td><td>▁▅▆▇▇▇▇█████</td></tr><tr><td>epoch</td><td>▁▂▂▃▄▄▅▅▆▇▇█</td></tr><tr><td>loss</td><td>█▄▃▂▂▂▂▁▁▁▁▁</td></tr><tr><td>val_accuracy</td><td>▁▆▆▆▇▇█▇███▇</td></tr><tr><td>val_loss</td><td>█▁▂▃▂▃▁▅▃▂▃▃</td></tr></table><br/></div><div class=\"wandb-col\"><h3>Run summary:</h3><br/><table class=\"wandb\"><tr><td>accuracy</td><td>0.88214</td></tr><tr><td>best_epoch</td><td>1</td></tr><tr><td>best_val_loss</td><td>1.53308</td></tr><tr><td>epoch</td><td>11</td></tr><tr><td>loss</td><td>0.3894</td></tr><tr><td>val_accuracy</td><td>0.74782</td></tr><tr><td>val_loss</td><td>1.61944</td></tr></table><br/></div></div>"
            ]
          },
          "metadata": {}
        },
        {
          "output_type": "display_data",
          "data": {
            "text/plain": [
              "<IPython.core.display.HTML object>"
            ],
            "text/html": [
              "Synced <strong style=\"color:#cdcd00\">fluent-sweep-29</strong>: <a href=\"https://wandb.ai/muk465/CS6910-Assignment-3_attn/runs/w2aislso\" target=\"_blank\">https://wandb.ai/muk465/CS6910-Assignment-3_attn/runs/w2aislso</a><br/>Synced 5 W&B file(s), 1 media file(s), 0 artifact file(s) and 1 other file(s)"
            ]
          },
          "metadata": {}
        },
        {
          "output_type": "display_data",
          "data": {
            "text/plain": [
              "<IPython.core.display.HTML object>"
            ],
            "text/html": [
              "Find logs at: <code>./wandb/run-20220513_152953-w2aislso/logs</code>"
            ]
          },
          "metadata": {}
        },
        {
          "output_type": "stream",
          "name": "stderr",
          "text": [
            "\u001b[34m\u001b[1mwandb\u001b[0m: Agent Starting Run: 6m7jhkmi with config:\n",
            "\u001b[34m\u001b[1mwandb\u001b[0m: \tbatch_size: 64\n",
            "\u001b[34m\u001b[1mwandb\u001b[0m: \tcell_type: RNN\n",
            "\u001b[34m\u001b[1mwandb\u001b[0m: \tdropout: 0.3\n",
            "\u001b[34m\u001b[1mwandb\u001b[0m: \tepochs: 20\n",
            "\u001b[34m\u001b[1mwandb\u001b[0m: \thidden: 64\n",
            "\u001b[34m\u001b[1mwandb\u001b[0m: \tlatentDim: 256\n",
            "\u001b[34m\u001b[1mwandb\u001b[0m: \tnumDecoders: 2\n",
            "\u001b[34m\u001b[1mwandb\u001b[0m: \tnumEncoders: 1\n",
            "\u001b[34m\u001b[1mwandb\u001b[0m: \toptimiser: adam\n",
            "\u001b[34m\u001b[1mwandb\u001b[0m: \u001b[33mWARNING\u001b[0m Ignored wandb.init() arg project when running a sweep.\n"
          ]
        },
        {
          "output_type": "display_data",
          "data": {
            "text/plain": [
              "<IPython.core.display.HTML object>"
            ],
            "text/html": [
              "Tracking run with wandb version 0.12.16"
            ]
          },
          "metadata": {}
        },
        {
          "output_type": "display_data",
          "data": {
            "text/plain": [
              "<IPython.core.display.HTML object>"
            ],
            "text/html": [
              "Run data is saved locally in <code>/content/wandb/run-20220513_153350-6m7jhkmi</code>"
            ]
          },
          "metadata": {}
        },
        {
          "output_type": "display_data",
          "data": {
            "text/plain": [
              "<IPython.core.display.HTML object>"
            ],
            "text/html": [
              "Syncing run <strong><a href=\"https://wandb.ai/muk465/CS6910-Assignment-3_attn/runs/6m7jhkmi\" target=\"_blank\">lilac-sweep-30</a></strong> to <a href=\"https://wandb.ai/muk465/CS6910-Assignment-3_attn\" target=\"_blank\">Weights & Biases</a> (<a href=\"https://wandb.me/run\" target=\"_blank\">docs</a>)<br/>Sweep page:  <a href=\"https://wandb.ai/muk465/CS6910-Assignment-3_attn/sweeps/wo9l1m7l\" target=\"_blank\">https://wandb.ai/muk465/CS6910-Assignment-3_attn/sweeps/wo9l1m7l</a>"
            ]
          },
          "metadata": {}
        },
        {
          "output_type": "stream",
          "name": "stdout",
          "text": [
            "Model: \"model\"\n",
            "__________________________________________________________________________________________________\n",
            " Layer (type)                   Output Shape         Param #     Connected to                     \n",
            "==================================================================================================\n",
            " input_1 (InputLayer)           [(None, None, 27)]   0           []                               \n",
            "                                                                                                  \n",
            " input_2 (InputLayer)           [(None, None, 66)]   0           []                               \n",
            "                                                                                                  \n",
            " simple_rnn (SimpleRNN)         [(None, None, 256),  72704       ['input_1[0][0]']                \n",
            "                                 (None, 256)]                                                     \n",
            "                                                                                                  \n",
            " simple_rnn_2 (SimpleRNN)       [(None, None, 256),  82688       ['input_2[0][0]',                \n",
            "                                 (None, 256)]                     'simple_rnn[0][1]']             \n",
            "                                                                                                  \n",
            " additive_attention (AdditiveAt  (None, None, 256)   256         ['simple_rnn_2[0][0]',           \n",
            " tention)                                                         'simple_rnn[0][0]']             \n",
            "                                                                                                  \n",
            " concat_layer (Concatenate)     (None, None, 512)    0           ['simple_rnn_2[0][0]',           \n",
            "                                                                  'additive_attention[0][0]']     \n",
            "                                                                                                  \n",
            " dense (Dense)                  (None, None, 64)     32832       ['concat_layer[0][0]']           \n",
            "                                                                                                  \n",
            " dense_1 (Dense)                (None, None, 66)     4290        ['dense[0][0]']                  \n",
            "                                                                                                  \n",
            "==================================================================================================\n",
            "Total params: 192,770\n",
            "Trainable params: 192,770\n",
            "Non-trainable params: 0\n",
            "__________________________________________________________________________________________________\n",
            "Epoch 1/20\n",
            "691/691 [==============================] - 30s 42ms/step - loss: 0.9813 - accuracy: 0.7441 - val_loss: 1.8501 - val_accuracy: 0.6409 - _timestamp: 1652456069.0000 - _runtime: 39.0000\n",
            "Epoch 2/20\n",
            "691/691 [==============================] - 28s 41ms/step - loss: 0.6860 - accuracy: 0.8065 - val_loss: 1.6586 - val_accuracy: 0.6907 - _timestamp: 1652456097.0000 - _runtime: 67.0000\n",
            "Epoch 3/20\n",
            "691/691 [==============================] - 28s 40ms/step - loss: 0.5938 - accuracy: 0.8296 - val_loss: 1.7657 - val_accuracy: 0.6844 - _timestamp: 1652456125.0000 - _runtime: 95.0000\n",
            "Epoch 4/20\n",
            "691/691 [==============================] - 28s 41ms/step - loss: 0.5514 - accuracy: 0.8404 - val_loss: 1.7959 - val_accuracy: 0.6965 - _timestamp: 1652456153.0000 - _runtime: 123.0000\n",
            "Epoch 5/20\n",
            "691/691 [==============================] - 28s 40ms/step - loss: 0.5237 - accuracy: 0.8475 - val_loss: 1.7192 - val_accuracy: 0.7169 - _timestamp: 1652456181.0000 - _runtime: 151.0000\n",
            "Epoch 6/20\n",
            "691/691 [==============================] - 28s 40ms/step - loss: 0.5026 - accuracy: 0.8526 - val_loss: 1.6911 - val_accuracy: 0.7178 - _timestamp: 1652456209.0000 - _runtime: 179.0000\n",
            "Epoch 7/20\n",
            "500/691 [====================>.........] - ETA: 7s - loss: 0.4901 - accuracy: 0.8561"
          ]
        }
      ]
    }
  ]
}