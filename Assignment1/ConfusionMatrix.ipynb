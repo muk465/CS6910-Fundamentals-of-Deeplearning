{
  "nbformat": 4,
  "nbformat_minor": 0,
  "metadata": {
    "colab": {
      "name": "ConfusionMatrix.ipynb",
      "provenance": [],
      "collapsed_sections": [],
      "include_colab_link": true
    },
    "kernelspec": {
      "name": "python3",
      "display_name": "Python 3"
    },
    "language_info": {
      "name": "python"
    },
    "accelerator": "GPU",
    "widgets": {
      "application/vnd.jupyter.widget-state+json": {
        "ffadee97689f4708bc8d873ded02c5ae": {
          "model_module": "@jupyter-widgets/controls",
          "model_name": "VBoxModel",
          "model_module_version": "1.5.0",
          "state": {
            "_view_name": "VBoxView",
            "_dom_classes": [],
            "_model_name": "VBoxModel",
            "_view_module": "@jupyter-widgets/controls",
            "_model_module_version": "1.5.0",
            "_view_count": null,
            "_view_module_version": "1.5.0",
            "box_style": "",
            "layout": "IPY_MODEL_1e7d36a973a049c6952cba51378a882a",
            "_model_module": "@jupyter-widgets/controls",
            "children": [
              "IPY_MODEL_06a67e98510946ce944380945fdc28e7",
              "IPY_MODEL_57cf1dfcd028403baedbbb14d4bcb125"
            ]
          }
        },
        "1e7d36a973a049c6952cba51378a882a": {
          "model_module": "@jupyter-widgets/base",
          "model_name": "LayoutModel",
          "model_module_version": "1.2.0",
          "state": {
            "_view_name": "LayoutView",
            "grid_template_rows": null,
            "right": null,
            "justify_content": null,
            "_view_module": "@jupyter-widgets/base",
            "overflow": null,
            "_model_module_version": "1.2.0",
            "_view_count": null,
            "flex_flow": null,
            "width": null,
            "min_width": null,
            "border": null,
            "align_items": null,
            "bottom": null,
            "_model_module": "@jupyter-widgets/base",
            "top": null,
            "grid_column": null,
            "overflow_y": null,
            "overflow_x": null,
            "grid_auto_flow": null,
            "grid_area": null,
            "grid_template_columns": null,
            "flex": null,
            "_model_name": "LayoutModel",
            "justify_items": null,
            "grid_row": null,
            "max_height": null,
            "align_content": null,
            "visibility": null,
            "align_self": null,
            "height": null,
            "min_height": null,
            "padding": null,
            "grid_auto_rows": null,
            "grid_gap": null,
            "max_width": null,
            "order": null,
            "_view_module_version": "1.2.0",
            "grid_template_areas": null,
            "object_position": null,
            "object_fit": null,
            "grid_auto_columns": null,
            "margin": null,
            "display": null,
            "left": null
          }
        },
        "06a67e98510946ce944380945fdc28e7": {
          "model_module": "@jupyter-widgets/controls",
          "model_name": "LabelModel",
          "model_module_version": "1.5.0",
          "state": {
            "_view_name": "LabelView",
            "style": "IPY_MODEL_60412b79f9174504a68f915529299ffd",
            "_dom_classes": [],
            "description": "",
            "_model_name": "LabelModel",
            "placeholder": "​",
            "_view_module": "@jupyter-widgets/controls",
            "_model_module_version": "1.5.0",
            "value": " 0.01MB of 0.01MB uploaded (0.00MB deduped)\r",
            "_view_count": null,
            "_view_module_version": "1.5.0",
            "description_tooltip": null,
            "_model_module": "@jupyter-widgets/controls",
            "layout": "IPY_MODEL_7b4657a5af644f95b21f76e75d6c0aaf"
          }
        },
        "57cf1dfcd028403baedbbb14d4bcb125": {
          "model_module": "@jupyter-widgets/controls",
          "model_name": "FloatProgressModel",
          "model_module_version": "1.5.0",
          "state": {
            "_view_name": "ProgressView",
            "style": "IPY_MODEL_ec0b8f3276ee446f90c5d41b2c232507",
            "_dom_classes": [],
            "description": "",
            "_model_name": "FloatProgressModel",
            "bar_style": "",
            "max": 1,
            "_view_module": "@jupyter-widgets/controls",
            "_model_module_version": "1.5.0",
            "value": 1,
            "_view_count": null,
            "_view_module_version": "1.5.0",
            "orientation": "horizontal",
            "min": 0,
            "description_tooltip": null,
            "_model_module": "@jupyter-widgets/controls",
            "layout": "IPY_MODEL_5ba6daeb037e40d5aaa4196634dbdb82"
          }
        },
        "60412b79f9174504a68f915529299ffd": {
          "model_module": "@jupyter-widgets/controls",
          "model_name": "DescriptionStyleModel",
          "model_module_version": "1.5.0",
          "state": {
            "_view_name": "StyleView",
            "_model_name": "DescriptionStyleModel",
            "description_width": "",
            "_view_module": "@jupyter-widgets/base",
            "_model_module_version": "1.5.0",
            "_view_count": null,
            "_view_module_version": "1.2.0",
            "_model_module": "@jupyter-widgets/controls"
          }
        },
        "7b4657a5af644f95b21f76e75d6c0aaf": {
          "model_module": "@jupyter-widgets/base",
          "model_name": "LayoutModel",
          "model_module_version": "1.2.0",
          "state": {
            "_view_name": "LayoutView",
            "grid_template_rows": null,
            "right": null,
            "justify_content": null,
            "_view_module": "@jupyter-widgets/base",
            "overflow": null,
            "_model_module_version": "1.2.0",
            "_view_count": null,
            "flex_flow": null,
            "width": null,
            "min_width": null,
            "border": null,
            "align_items": null,
            "bottom": null,
            "_model_module": "@jupyter-widgets/base",
            "top": null,
            "grid_column": null,
            "overflow_y": null,
            "overflow_x": null,
            "grid_auto_flow": null,
            "grid_area": null,
            "grid_template_columns": null,
            "flex": null,
            "_model_name": "LayoutModel",
            "justify_items": null,
            "grid_row": null,
            "max_height": null,
            "align_content": null,
            "visibility": null,
            "align_self": null,
            "height": null,
            "min_height": null,
            "padding": null,
            "grid_auto_rows": null,
            "grid_gap": null,
            "max_width": null,
            "order": null,
            "_view_module_version": "1.2.0",
            "grid_template_areas": null,
            "object_position": null,
            "object_fit": null,
            "grid_auto_columns": null,
            "margin": null,
            "display": null,
            "left": null
          }
        },
        "ec0b8f3276ee446f90c5d41b2c232507": {
          "model_module": "@jupyter-widgets/controls",
          "model_name": "ProgressStyleModel",
          "model_module_version": "1.5.0",
          "state": {
            "_view_name": "StyleView",
            "_model_name": "ProgressStyleModel",
            "description_width": "",
            "_view_module": "@jupyter-widgets/base",
            "_model_module_version": "1.5.0",
            "_view_count": null,
            "_view_module_version": "1.2.0",
            "bar_color": null,
            "_model_module": "@jupyter-widgets/controls"
          }
        },
        "5ba6daeb037e40d5aaa4196634dbdb82": {
          "model_module": "@jupyter-widgets/base",
          "model_name": "LayoutModel",
          "model_module_version": "1.2.0",
          "state": {
            "_view_name": "LayoutView",
            "grid_template_rows": null,
            "right": null,
            "justify_content": null,
            "_view_module": "@jupyter-widgets/base",
            "overflow": null,
            "_model_module_version": "1.2.0",
            "_view_count": null,
            "flex_flow": null,
            "width": null,
            "min_width": null,
            "border": null,
            "align_items": null,
            "bottom": null,
            "_model_module": "@jupyter-widgets/base",
            "top": null,
            "grid_column": null,
            "overflow_y": null,
            "overflow_x": null,
            "grid_auto_flow": null,
            "grid_area": null,
            "grid_template_columns": null,
            "flex": null,
            "_model_name": "LayoutModel",
            "justify_items": null,
            "grid_row": null,
            "max_height": null,
            "align_content": null,
            "visibility": null,
            "align_self": null,
            "height": null,
            "min_height": null,
            "padding": null,
            "grid_auto_rows": null,
            "grid_gap": null,
            "max_width": null,
            "order": null,
            "_view_module_version": "1.2.0",
            "grid_template_areas": null,
            "object_position": null,
            "object_fit": null,
            "grid_auto_columns": null,
            "margin": null,
            "display": null,
            "left": null
          }
        }
      }
    }
  },
  "cells": [
    {
      "cell_type": "markdown",
      "metadata": {
        "id": "view-in-github",
        "colab_type": "text"
      },
      "source": [
        "<a href=\"https://colab.research.google.com/github/muk465/CS6910-Fundamentals-of-Deeplearning/blob/main/Assignment1/ConfusionMatrix.ipynb\" target=\"_parent\"><img src=\"https://colab.research.google.com/assets/colab-badge.svg\" alt=\"Open In Colab\"/></a>"
      ]
    },
    {
      "cell_type": "code",
      "execution_count": null,
      "metadata": {
        "id": "4MK9K3ZkbhqG"
      },
      "outputs": [],
      "source": [
        "from keras.datasets import fashion_mnist\n",
        "import numpy as np\n",
        "from sklearn.model_selection import train_test_split"
      ]
    },
    {
      "cell_type": "code",
      "source": [
        "(trainx,trainy),(testx,testy)=fashion_mnist.load_data()"
      ],
      "metadata": {
        "colab": {
          "base_uri": "https://localhost:8080/"
        },
        "id": "s869nie-bmt9",
        "outputId": "46bcf88e-0781-439c-873c-7d6faee110b3"
      },
      "execution_count": null,
      "outputs": [
        {
          "output_type": "stream",
          "name": "stdout",
          "text": [
            "Downloading data from https://storage.googleapis.com/tensorflow/tf-keras-datasets/train-labels-idx1-ubyte.gz\n",
            "32768/29515 [=================================] - 0s 0us/step\n",
            "40960/29515 [=========================================] - 0s 0us/step\n",
            "Downloading data from https://storage.googleapis.com/tensorflow/tf-keras-datasets/train-images-idx3-ubyte.gz\n",
            "26427392/26421880 [==============================] - 0s 0us/step\n",
            "26435584/26421880 [==============================] - 0s 0us/step\n",
            "Downloading data from https://storage.googleapis.com/tensorflow/tf-keras-datasets/t10k-labels-idx1-ubyte.gz\n",
            "16384/5148 [===============================================================================================] - 0s 0us/step\n",
            "Downloading data from https://storage.googleapis.com/tensorflow/tf-keras-datasets/t10k-images-idx3-ubyte.gz\n",
            "4423680/4422102 [==============================] - 0s 0us/step\n",
            "4431872/4422102 [==============================] - 0s 0us/step\n"
          ]
        }
      ]
    },
    {
      "cell_type": "code",
      "source": [
        "#onehot encoder\n",
        "def onehot_encoder(Y):\n",
        "  Y_encoded = np.zeros((10, Y.shape[0]))\n",
        "  for train_point in range(Y.shape[0]):\n",
        "      class_label = Y[train_point]\n",
        "      Y_encoded[class_label,train_point] = 1.0\n",
        "  return Y_encoded"
      ],
      "metadata": {
        "id": "bASkreYXbmza"
      },
      "execution_count": null,
      "outputs": []
    },
    {
      "cell_type": "code",
      "source": [
        "num_examples_train=int(0.9*trainx.shape[0])\n",
        "num_examples_val=int(0.1*trainx.shape[0])\n",
        "num_examples_test=testx.shape[0]\n"
      ],
      "metadata": {
        "id": "cvzQDjZUbtpw"
      },
      "execution_count": null,
      "outputs": []
    },
    {
      "cell_type": "code",
      "source": [
        "x_train, x_val, y_train, y_val = train_test_split(trainx, trainy, test_size=0.1,shuffle=True)"
      ],
      "metadata": {
        "id": "TwURQdw0btsL"
      },
      "execution_count": null,
      "outputs": []
    },
    {
      "cell_type": "code",
      "source": [
        "X_train=x_train.reshape(x_train.shape[0],28*28).T\n",
        "X_val=x_val.reshape(x_val.shape[0],28*28).T\n",
        "X_test=testx.reshape(testx.shape[0],28*28).T\n",
        "X_train=X_train/255\n",
        "X_val=X_val/255\n",
        "X_test=X_test/255\n"
      ],
      "metadata": {
        "id": "PM5NG3bfbtuj"
      },
      "execution_count": null,
      "outputs": []
    },
    {
      "cell_type": "code",
      "source": [
        "Y_train=onehot_encoder(y_train)\n",
        "Y_val=onehot_encoder(y_val)\n",
        "Y_test=onehot_encoder(testy)\n"
      ],
      "metadata": {
        "id": "451EFOGBbm6k"
      },
      "execution_count": null,
      "outputs": []
    },
    {
      "cell_type": "code",
      "source": [
        "!pip install wandb\n"
      ],
      "metadata": {
        "colab": {
          "base_uri": "https://localhost:8080/"
        },
        "id": "rr4CtSVVbzrc",
        "outputId": "e8907393-3d82-4629-a3bd-0d4ede4a19ce"
      },
      "execution_count": null,
      "outputs": [
        {
          "output_type": "stream",
          "name": "stdout",
          "text": [
            "Collecting wandb\n",
            "  Downloading wandb-0.12.10-py2.py3-none-any.whl (1.7 MB)\n",
            "\u001b[K     |████████████████████████████████| 1.7 MB 5.4 MB/s \n",
            "\u001b[?25hRequirement already satisfied: psutil>=5.0.0 in /usr/local/lib/python3.7/dist-packages (from wandb) (5.4.8)\n",
            "Requirement already satisfied: PyYAML in /usr/local/lib/python3.7/dist-packages (from wandb) (3.13)\n",
            "Collecting GitPython>=1.0.0\n",
            "  Downloading GitPython-3.1.27-py3-none-any.whl (181 kB)\n",
            "\u001b[K     |████████████████████████████████| 181 kB 38.0 MB/s \n",
            "\u001b[?25hRequirement already satisfied: six>=1.13.0 in /usr/local/lib/python3.7/dist-packages (from wandb) (1.15.0)\n",
            "Collecting shortuuid>=0.5.0\n",
            "  Downloading shortuuid-1.0.8-py3-none-any.whl (9.5 kB)\n",
            "Collecting yaspin>=1.0.0\n",
            "  Downloading yaspin-2.1.0-py3-none-any.whl (18 kB)\n",
            "Requirement already satisfied: protobuf>=3.12.0 in /usr/local/lib/python3.7/dist-packages (from wandb) (3.17.3)\n",
            "Collecting sentry-sdk>=1.0.0\n",
            "  Downloading sentry_sdk-1.5.6-py2.py3-none-any.whl (144 kB)\n",
            "\u001b[K     |████████████████████████████████| 144 kB 11.4 MB/s \n",
            "\u001b[?25hRequirement already satisfied: requests<3,>=2.0.0 in /usr/local/lib/python3.7/dist-packages (from wandb) (2.23.0)\n",
            "Collecting pathtools\n",
            "  Downloading pathtools-0.1.2.tar.gz (11 kB)\n",
            "Collecting docker-pycreds>=0.4.0\n",
            "  Downloading docker_pycreds-0.4.0-py2.py3-none-any.whl (9.0 kB)\n",
            "Requirement already satisfied: promise<3,>=2.0 in /usr/local/lib/python3.7/dist-packages (from wandb) (2.3)\n",
            "Requirement already satisfied: python-dateutil>=2.6.1 in /usr/local/lib/python3.7/dist-packages (from wandb) (2.8.2)\n",
            "Requirement already satisfied: Click!=8.0.0,>=7.0 in /usr/local/lib/python3.7/dist-packages (from wandb) (7.1.2)\n",
            "Requirement already satisfied: typing-extensions>=3.7.4.3 in /usr/local/lib/python3.7/dist-packages (from GitPython>=1.0.0->wandb) (3.10.0.2)\n",
            "Collecting gitdb<5,>=4.0.1\n",
            "  Downloading gitdb-4.0.9-py3-none-any.whl (63 kB)\n",
            "\u001b[K     |████████████████████████████████| 63 kB 777 kB/s \n",
            "\u001b[?25hCollecting smmap<6,>=3.0.1\n",
            "  Downloading smmap-5.0.0-py3-none-any.whl (24 kB)\n",
            "Requirement already satisfied: idna<3,>=2.5 in /usr/local/lib/python3.7/dist-packages (from requests<3,>=2.0.0->wandb) (2.10)\n",
            "Requirement already satisfied: certifi>=2017.4.17 in /usr/local/lib/python3.7/dist-packages (from requests<3,>=2.0.0->wandb) (2021.10.8)\n",
            "Requirement already satisfied: urllib3!=1.25.0,!=1.25.1,<1.26,>=1.21.1 in /usr/local/lib/python3.7/dist-packages (from requests<3,>=2.0.0->wandb) (1.24.3)\n",
            "Requirement already satisfied: chardet<4,>=3.0.2 in /usr/local/lib/python3.7/dist-packages (from requests<3,>=2.0.0->wandb) (3.0.4)\n",
            "Requirement already satisfied: termcolor<2.0.0,>=1.1.0 in /usr/local/lib/python3.7/dist-packages (from yaspin>=1.0.0->wandb) (1.1.0)\n",
            "Building wheels for collected packages: pathtools\n",
            "  Building wheel for pathtools (setup.py) ... \u001b[?25l\u001b[?25hdone\n",
            "  Created wheel for pathtools: filename=pathtools-0.1.2-py3-none-any.whl size=8806 sha256=f9aec318ffcdd66bb2bf70bbedc35d1d47e498342e23bfebb5667eda60433a6c\n",
            "  Stored in directory: /root/.cache/pip/wheels/3e/31/09/fa59cef12cdcfecc627b3d24273699f390e71828921b2cbba2\n",
            "Successfully built pathtools\n",
            "Installing collected packages: smmap, gitdb, yaspin, shortuuid, sentry-sdk, pathtools, GitPython, docker-pycreds, wandb\n",
            "Successfully installed GitPython-3.1.27 docker-pycreds-0.4.0 gitdb-4.0.9 pathtools-0.1.2 sentry-sdk-1.5.6 shortuuid-1.0.8 smmap-5.0.0 wandb-0.12.10 yaspin-2.1.0\n"
          ]
        }
      ]
    },
    {
      "cell_type": "code",
      "source": [
        "import numpy as np\n",
        "import wandb"
      ],
      "metadata": {
        "id": "joYZ5Nmeb3o9"
      },
      "execution_count": null,
      "outputs": []
    },
    {
      "cell_type": "code",
      "source": [
        "def sigmoid(z):\n",
        "    return 1.0 / (1 + np.exp(-(z)))\n",
        "\n",
        "\n",
        "def tanh(z):\n",
        "    return np.tanh(z)\n",
        "\n",
        "\n",
        "def sin(z):\n",
        "    return np.sin(z)\n",
        "\n",
        "\n",
        "def relu(z):\n",
        "    return np.maximum(0, z) \n",
        "\n",
        "\n",
        "def softmax(Z):\n",
        "    return np.exp(Z) / np.sum(np.exp(Z))\n",
        "\n",
        "\n",
        "def grad_sigmoid(z):\n",
        "    return  (1.0 / (1 + np.exp(-(z))))*(1 -  1.0 / (1 + np.exp(-(z))))\n",
        "\n",
        "def grad_tanh(z):\n",
        "    return 1 - np.tanh(z) ** 2\n",
        "\n",
        "def grad_relu(z):\n",
        "    if z>0:\n",
        "      return 1\n",
        "    else:\n",
        "      return 0\n"
      ],
      "metadata": {
        "id": "wbtcwTQOb3rs"
      },
      "execution_count": null,
      "outputs": []
    },
    {
      "cell_type": "code",
      "source": [
        " #initializers\n",
        "def xavier_initializer(op,ip):\n",
        "  std = np.sqrt(2 / (ip + op))\n",
        "  return np.random.normal(0, std, size=(op, ip))\n",
        "\n",
        "def random_initializer(op,ip):\n",
        "  return np.random.normal(0, 1, size=(op, ip))"
      ],
      "metadata": {
        "id": "JUc1qFofb7UN"
      },
      "execution_count": null,
      "outputs": []
    },
    {
      "cell_type": "code",
      "source": [
        "class neural_network2:\n",
        "\n",
        "  def __init__(\n",
        "      self, \n",
        "      num_hidden_layers,\n",
        "      num_hidden_neurons, \n",
        "      X_train, \n",
        "      Y_train,  \n",
        "      num_examples_train, \n",
        "      X_val, \n",
        "      Y_val, \n",
        "      num_examples_val,    \n",
        "      optimizer,\n",
        "      batch_size,\n",
        "      lamda,\n",
        "      learning_rate,\n",
        "      max_epochs,\n",
        "      activation,\n",
        "      initializer,\n",
        "      loss):\n",
        "    #initalize neural nw layers\n",
        "    self.layers = [784]+num_hidden_layers*[num_hidden_neurons]+[10]\n",
        "\n",
        "    #initilialize num of examples\n",
        "    self.num_examples_train = num_examples_train\n",
        "    self.num_examples_val = num_examples_val\n",
        "        \n",
        "    #initlialize datset\n",
        "    self.X_train=X_train\n",
        "    self.X_val=X_val\n",
        "    self.Y_train=Y_train\n",
        "    self.Y_val=Y_val\n",
        "   \n",
        "\n",
        "    #loss fn\n",
        "    self.loss_function = loss\n",
        "    \n",
        "    \n",
        "    #setup initializer\n",
        "    if initializer==\"random\":\n",
        "      self.initializer = random_initializer\n",
        "    elif initializer==\"xavier\":\n",
        "      self.initializer=xavier_initializer\n",
        "    else:\n",
        "      raise Exception('this is wrong initializer')\n",
        "    \n",
        "    #setup activations\n",
        "    if activation==\"sigmoid\":\n",
        "      self.activation=sigmoid\n",
        "      self.grad_activation=grad_sigmoid\n",
        "    elif activation==\"tanh\":\n",
        "      self.activation=tanh\n",
        "      self.grad_activation=grad_tanh\n",
        "    elif activation==\"relu\":\n",
        "      self.activation=relu\n",
        "      self.grad_activation=grad_relu\n",
        "    else:\n",
        "      raise Exception('this is wrong activation')\n",
        "\n",
        "    #optimizers\n",
        "    if optimizer==\"sgd\":\n",
        "      self.optimizer=self.sgd\n",
        "    elif optimizer==\"mgd\":\n",
        "      self.optimizer=self.mgd\n",
        "    elif optimizer==\"nag\":\n",
        "      self.optimizer=self.nag\n",
        "    elif optimizer==\"rmsprop\":\n",
        "      self.optimizer=self.rmsprop\n",
        "    elif optimizer==\"adam\":\n",
        "      self.optimizer=self.adam\n",
        "    elif optimizer==\"nadam\":\n",
        "      self.optimizer=self.nadam\n",
        "    else:\n",
        "      raise Exception(\"wrong optimizer\")\n",
        "         \n",
        "\n",
        "    #hyperparameters\n",
        "    self.max_epochs = max_epochs\n",
        "    self.batch_size = batch_size\n",
        "    self.learning_rate = learning_rate\n",
        "    self.lamda=lamda\n",
        "    \n",
        "    #initialize weights\n",
        "    self.W, self.b = self.Neuralnet_init(self.layers)\n",
        "\n",
        "\n",
        "\n",
        "\n",
        "  # loss fn\n",
        "  def cross_entropy_loss(self, Y_true, Y_pred):\n",
        "      loss=np.sum(-(Y_true*np.log(Y_pred)))\n",
        "      return loss\n",
        "\n",
        "  def L2_loss(self, lamda):\n",
        "    return (lamda/2) * np.sum([np.linalg.norm((self.W[i + 1]**2))  for i in range(len(self.W))])\n",
        "\n",
        "  def mse_loss(self, Y_true, Y_pred):\n",
        "      loss = np.sum(0.5*(Y_true - Y_pred) ** 2)\n",
        "      return loss\n",
        "\n",
        "  #accuracy and predict\n",
        "  def accuracy(self, Y_true, Y_pred, num_examples):\n",
        "    acc = 0\n",
        "    for i in range(num_examples):\n",
        "      if (np.argmax(Y_true[:, i])==np.argmax(Y_pred[:, i])):\n",
        "        acc+=1\n",
        "    accuracy = acc / num_examples\n",
        "    return accuracy\n",
        "\n",
        "  def predict(self,X,num_examples):\n",
        "    Y_pred = []        \n",
        "    for i in range(num_examples):\n",
        "      Y, H, A = self.forwardPropagate(X[:, i].reshape(784, 1),self.W,self.b)\n",
        "      Y_pred.append(Y.reshape(10,))\n",
        "    Y_pred = np.array(Y_pred).transpose()\n",
        "    return Y_pred\n",
        " \n",
        "  #neural network weights and biases initializer\n",
        "  def Neuralnet_init(self,layer_neurons):\n",
        "      num_layers=len(self.layers)\n",
        "      W = {}\n",
        "      b = {}\n",
        "      for i in range(0, num_layers - 1):\n",
        "          W[i + 1] = self.initializer(layer_neurons[i + 1], layer_neurons[i])\n",
        "          b[i + 1] = np.zeros((layer_neurons[i + 1], 1))\n",
        "      return W,b\n",
        "  \n",
        "  def forwardPropagate(self,X, W, b):\n",
        "    num_layers=len(self.layers)\n",
        "    H={}\n",
        "    A = {}\n",
        "\n",
        "    H[0] = X\n",
        "    A[0] = X\n",
        "    for k in range(0, num_layers - 2):\n",
        "      A[k + 1] = np.dot(W[k + 1],H[k])+ b[k + 1]\n",
        "      H[k + 1] = self.activation(A[k + 1])\n",
        "\n",
        "    #op layer\n",
        "    A[num_layers - 1] = np.dot(W[num_layers-1],H[num_layers - 2])+ b[num_layers - 1]\n",
        "    y_pred = softmax(A[num_layers - 1])\n",
        "    H[num_layers - 1] = y_pred\n",
        "    return y_pred,H,A\n",
        "  \n",
        "  \n",
        "  \n",
        "  \n",
        "  def backPropagate(self,Ypred,H,A,Y_train,lamda=0):\n",
        "    \n",
        "    num_layers=len(self.layers)\n",
        "    grad_A={}\n",
        "    grad_H={}\n",
        "\n",
        "    grad_W={}\n",
        "    grad_b={}\n",
        "    \n",
        "\n",
        "    # Gradient of op layer(AL).\n",
        "    grad_A[num_layers - 1] = -(Y_train - Ypred)\n",
        "\n",
        "    for k in range(num_layers - 2, -1, -1):\n",
        "      grad_W[k + 1] = np.outer(grad_A[k + 1],H[k])+(lamda/2 )* self.W[k + 1]\n",
        "\n",
        "        \n",
        "      grad_b[k + 1]=grad_A[k + 1]\n",
        "      \n",
        "      if k == 0:\n",
        "        grad_H[k] = np.dot(self.W[k + 1].T,grad_A[k + 1])\n",
        "        grad_A[k] = grad_H[k]*A[k]\n",
        "      else:\n",
        "        grad_H[k] = np.dot(self.W[k + 1].T,grad_A[k + 1])\n",
        "          \n",
        "        grad_A[k] = grad_H[k]*self.grad_activation(A[k])\n",
        "\n",
        "\n",
        "          \n",
        "    return grad_W,grad_b\n",
        "    \n",
        "\n",
        "\n",
        "  def sgd(self,epochs,num_examples,batch_size,learning_rate, lamda):\n",
        "    loss_train = []\n",
        "    acc_train = []\n",
        "    acc_val = []\n",
        "    num_layers=len(self.layers)\n",
        "    for epoch in range(epochs):\n",
        "      loss_per_point=0\n",
        "      \n",
        "      for i in range(X_train.shape[1]):\n",
        "        Y,H,A = self.forwardPropagate(self.X_train[:,i].reshape(784,1), self.W, self.b) \n",
        "        grad_w, grad_b = self.backPropagate(Y,H,A,self.Y_train[:,i].reshape(10,1))\n",
        "      \n",
        "        loss_per_point= loss_per_point+ self.cross_entropy_loss(Y_train[:, i].reshape(10, 1), Y)+self.L2_loss(lamda)\n",
        "\n",
        "        for k in range(num_layers-1):\n",
        "          self.W[k+1]=self.W[k+1] - learning_rate * grad_w[k+1]\n",
        "          self.b[k+1]=self.b[k+1] - learning_rate * grad_b[k+1]\n",
        "            \n",
        "      \n",
        "         #loss    \n",
        "      loss_train.append(loss_per_point/X_train.shape[1])\n",
        "\n",
        "      #accuracy \n",
        "      Y_pred_final = self.predict(self.X_train,self.num_examples_train)\n",
        "      acc_train.append(self.accuracy(Y_train, Y_pred_final, num_examples))\n",
        "      acc_val.append(self.accuracy(self.Y_val, self.predict(self.X_val, self.num_examples_val), self.num_examples_val))\n",
        "\n",
        "      print(\"epoch:\",epoch,\"training loss:\",loss_train[epoch],\"training accuracy\",acc_train[epoch],\"validation accuracy\",acc_val[epoch])\n",
        "\n",
        "      wandb.log({'epoch':epoch,'training_loss':loss_train[epoch],'training_accuracy':acc_train[epoch], 'validation_accuracy':acc_val[epoch] })\n",
        "\n",
        "\n",
        "    return Y_pred_final,acc_val\n",
        "\n",
        "\n",
        "\n",
        "  def mgd(self,epochs,num_examples,batch_size,learning_rate, lamda):\n",
        "    #gamma = min(1 - 2 ** (-1 - np.log((epoch / 250.0) + 1, 2)), gamma)\n",
        "    gamma=0.9\n",
        "    eta=learning_rate\n",
        "    loss_train = []\n",
        "    acc_train = []\n",
        "    acc_val = []\n",
        "    del_w={}\n",
        "    del_b={}\n",
        "    prev_update_w={}\n",
        "    prev_update_b={}\n",
        "    update_w={}\n",
        "    update_b={}\n",
        "    \n",
        "    X_train = self.X_train[:, :num_examples]\n",
        "    Y_train = self.Y_train[:, :num_examples] \n",
        "    num_layers=len(self.layers)\n",
        "\n",
        "    for k in range(num_layers-1):\n",
        "      prev_update_w[k+1] = np.zeros((self.layers[k + 1], self.layers[k]))\n",
        "      prev_update_b[k+1] =np.zeros((self.layers[k + 1], 1))\n",
        "\n",
        "    for k in range(num_layers-1):\n",
        "      update_w[k+1] = np.zeros((self.layers[k + 1], self.layers[k]))\n",
        "      update_b[k+1] =np.zeros((self.layers[k + 1], 1))\n",
        "    num_points_seen = 0\n",
        "    for epoch in range(epochs):\n",
        "      \n",
        "      loss_per_point=0\n",
        "      #initializing del_w and del_b\n",
        "      \n",
        "      for k in range(num_layers-1):\n",
        "        del_w[k+1] = np.zeros((self.layers[k + 1], self.layers[k]))\n",
        "        del_b[k+1] =np.zeros((self.layers[k + 1], 1))\n",
        "      \n",
        "      \n",
        "\n",
        "      for i in range(X_train.shape[1]):\n",
        "        Y,H,A = self.forwardPropagate(self.X_train[:,i].reshape(784,1), self.W, self.b) \n",
        "        grad_w, grad_b = self.backPropagate(Y,H,A,self.Y_train[:,i].reshape(10,1))\n",
        "        \n",
        "        \n",
        "        #add grad of weights and biases to get del_w and del_b\n",
        "        for k in range(num_layers-1):\n",
        "          del_w[k+1]=del_w[k+1] + grad_w[k+1]\n",
        "          del_b[k+1]=del_b[k+1] + grad_b[k+1]\n",
        "\n",
        "        loss_per_point= loss_per_point+ self.cross_entropy_loss(Y_train[:, i].reshape(10, 1), Y )+self.L2_loss(lamda)\n",
        "      \n",
        "      \n",
        "        num_points_seen +=1\n",
        "      \n",
        "        if num_points_seen % batch_size == 0:\n",
        "          #updating history in batch\n",
        "          for k in range(num_layers-1):\n",
        "            update_w[k+1]=gamma*prev_update_w[k+1]+eta*del_w[k+1] \n",
        "            update_b[k+1]=gamma*prev_update_b[k+1]+eta*del_b[k+1]\n",
        "\n",
        "          for k in range(num_layers-1):\n",
        "            self.W[k+1]=self.W[k+1] - learning_rate * update_w[k+1]\n",
        "            self.b[k+1]=self.b[k+1] - learning_rate * update_b[k+1]\n",
        "\n",
        "          \n",
        "\n",
        "          prev_update_w = update_w\n",
        "          prev_update_b = update_b\n",
        "          \n",
        "          for k in range(num_layers-1):\n",
        "            del_w[k+1] = np.zeros((self.layers[k + 1],self.layers[k]))\n",
        "            del_b[k+1] =np.zeros((self.layers[k + 1], 1))\n",
        "      \n",
        "      #loss    \n",
        "      loss_train.append(loss_per_point/X_train.shape[1])\n",
        "\n",
        "      #accuracy \n",
        "      Y_pred_final = self.predict(self.X_train,self.num_examples_train)\n",
        "      acc_train.append(self.accuracy(Y_train, Y_pred_final, num_examples))\n",
        "      acc_val.append(self.accuracy(self.Y_val, self.predict(self.X_val, self.num_examples_val), self.num_examples_val))\n",
        "\n",
        "      print(\"epoch:\",epoch,\"training loss:\",loss_train[epoch],\"training accuracy\",acc_train[epoch],\"validation accuracy\",acc_val[epoch])\n",
        "\n",
        "      wandb.log({'epoch':epoch,'training_loss':loss_train[epoch],'training_accuracy':acc_train[epoch], 'validation_accuracy':acc_val[epoch] })\n",
        "\n",
        "\n",
        "    return Y_pred_final,acc_val\n",
        "\n",
        "\n",
        "\n",
        "  def nag(self,epochs,num_examples,batch_size,learning_rate,lamda):\n",
        "    \n",
        "    #gamma = min(1 - 2 ** (-1 - np.log((calls / 250.0) + 1, 2)), gamma)\n",
        "    \n",
        "    gamma=0.9\n",
        "    eta=learning_rate\n",
        "    loss_train = []\n",
        "    acc_train = []\n",
        "    acc_val = []\n",
        "    del_w={}\n",
        "    del_b={}\n",
        "    prev_update_w={}\n",
        "    prev_update_b={}\n",
        "    update_w={}\n",
        "    update_b={}\n",
        "    num_layers=len(self.layers)\n",
        "    \n",
        "    X_train = self.X_train[:, :num_examples]\n",
        "    Y_train = self.Y_train[:, :num_examples]        \n",
        "\n",
        "    #initalizing prev and latest update\n",
        "    for k in range(num_layers-1):\n",
        "      prev_update_w[k+1] = np.zeros((self.layers[k + 1], self.layers[k]))\n",
        "      prev_update_b[k+1] =np.zeros((self.layers[k + 1], 1))\n",
        "    \n",
        "    for k in range(num_layers-1):\n",
        "      update_w[k+1] = np.zeros((self.layers[k + 1], self.layers[k]))\n",
        "      update_b[k+1] =np.zeros((self.layers[k + 1], 1))\n",
        "    num_points_seen = 0\n",
        "    \n",
        "    #begin\n",
        "    for epoch in range(epochs):\n",
        "      \n",
        "      loss_per_point=0\n",
        "      #initializing del_w and del_b\n",
        "      \n",
        "      for k in range(num_layers-1):\n",
        "        del_w[k+1] = np.zeros((self.layers[k + 1], self.layers[k]))\n",
        "        del_b[k+1] =np.zeros((self.layers[k + 1], 1))\n",
        "      \n",
        "      #doing lookahead\n",
        "      for k in range(num_layers-1):\n",
        "        update_w[k+1] = gamma*prev_update_w[k+1]\n",
        "        update_b[k+1] =gamma*prev_update_b[k+1]\n",
        "\n",
        "      for i in range(X_train.shape[1]):\n",
        "        \n",
        "        #look ahead w,b\n",
        "        for k in range(num_layers-1):\n",
        "          self.W[k+1]=self.W[k+1]-update_w[k+1]\n",
        "          self.b[k+1]=self.b[k+1]-update_b[k+1]\n",
        "          \n",
        "        Y,H,A = self.forwardPropagate(self.X_train[:,i].reshape(784,1), self.W, self.b) \n",
        "        grad_w, grad_b = self.backPropagate(Y,H,A,self.Y_train[:,i].reshape(10,1))\n",
        "        \n",
        "        #add grad of weights and biases to get del_w and del_b\n",
        "        for k in range(num_layers-1):\n",
        "          del_w[k+1]=del_w[k+1] + grad_w[k+1]\n",
        "          del_b[k+1]=del_b[k+1] + grad_b[k+1]\n",
        "    \n",
        "        loss_per_point= loss_per_point+ self.cross_entropy_loss(Y_train[:, i].reshape(10, 1), Y )+self.L2_loss(lamda)\n",
        "      \n",
        "      \n",
        "        num_points_seen +=1\n",
        "      \n",
        "        if num_points_seen % batch_size == 0:\n",
        "          \n",
        "          #updating history in batch\n",
        "          for k in range(num_layers-1):\n",
        "            update_w[k+1]=gamma*prev_update_w[k+1]+eta*del_w[k+1] \n",
        "            update_b[k+1]=gamma*prev_update_b[k+1]+eta*del_b[k+1]\n",
        "\n",
        "          for k in range(num_layers-1):\n",
        "            self.W[k+1]=self.W[k+1] - eta * update_w[k+1]\n",
        "            self.b[k+1]=self.b[k+1] - eta * update_b[k+1]\n",
        "\n",
        "          \n",
        "\n",
        "          prev_update_w = update_w\n",
        "          prev_update_b = update_b\n",
        "          for k in range(num_layers-1):\n",
        "            del_w[k+1] = np.zeros((self.layers[k + 1], self.layers[k]))\n",
        "            del_b[k+1] =np.zeros((self.layers[k + 1], 1))\n",
        "      \n",
        "          \n",
        "      #loss    \n",
        "      loss_train.append(loss_per_point/X_train.shape[1])\n",
        "\n",
        "      #accuracy \n",
        "      Y_pred_final = self.predict(self.X_train,self.num_examples_train)\n",
        "      acc_train.append(self.accuracy(Y_train, Y_pred_final, num_examples))\n",
        "      acc_val.append(self.accuracy(self.Y_val, self.predict(self.X_val, self.num_examples_val), self.num_examples_val))\n",
        "\n",
        "      print(\"epoch:\",epoch,\"training loss:\",loss_train[epoch],\"training accuracy\",acc_train[epoch],\"validation accuracy\",acc_val[epoch])\n",
        "\n",
        "      wandb.log({'epoch':epoch,'training_loss':loss_train[epoch],'training_accuracy':acc_train[epoch], 'validation_accuracy':acc_val[epoch] })\n",
        "\n",
        "\n",
        "    return Y_pred_final,acc_val\n",
        "\n",
        "  def rmsprop(self,epochs,num_examples, batch_size, learning_rate, lamda):\n",
        "    \n",
        "    eta=learning_rate\n",
        "    loss_train = []\n",
        "    acc_train = []\n",
        "    acc_val = []\n",
        "    del_w={}\n",
        "    del_b={}\n",
        "    \n",
        "    update_w={}\n",
        "    update_b={}\n",
        "    eps=10**(-8)\n",
        "    beta=0.9\n",
        "\n",
        "    num_layers=len(self.layers)\n",
        "    X_train = self.X_train[:, :num_examples]\n",
        "    Y_train = self.Y_train[:, :num_examples]\n",
        "\n",
        "\n",
        "    #initialize update\n",
        "    for k in range(num_layers-1):\n",
        "      update_w[k+1] = np.zeros((self.layers[k + 1], self.layers[k]))\n",
        "      update_b[k+1] =np.zeros((self.layers[k + 1], 1))\n",
        "    \n",
        "    num_points_seen = 0\n",
        "    \n",
        "    for epoch in range(epochs):\n",
        "      \n",
        "      loss_per_point=0\n",
        "      #initializing del_w and del_b\n",
        "      \n",
        "      for k in range(num_layers-1):\n",
        "        del_w[k+1] = np.zeros((self.layers[k + 1], self.layers[k]))\n",
        "        del_b[k+1] =np.zeros((self.layers[k + 1], 1))\n",
        "      \n",
        "      \n",
        "\n",
        "      for i in range(X_train.shape[1]):\n",
        "        Y,H,A = self.forwardPropagate(self.X_train[:,i].reshape(784,1), self.W, self.b) \n",
        "        grad_w, grad_b = self.backPropagate(Y,H,A,self.Y_train[:,i].reshape(10,1))\n",
        "        \n",
        "        #add grad of weights and biases to get del_w and del_b\n",
        "        for k in range(num_layers-1):\n",
        "          del_w[k+1]=del_w[k+1] + grad_w[k+1]\n",
        "          del_b[k+1]=del_b[k+1] + grad_b[k+1]\n",
        "    \n",
        "        loss_per_point= loss_per_point+ self.cross_entropy_loss(Y_train[:, i].reshape(10, 1), Y )+self.L2_loss(lamda)\n",
        "      \n",
        "      \n",
        "        num_points_seen +=1\n",
        "      \n",
        "        if num_points_seen % batch_size == 0:\n",
        "          #updating history in batch\n",
        "          for k in range(num_layers-1):\n",
        "            update_w[k+1]=beta*update_w[k+1]+ (1-beta)*((del_w[k+1])**2) \n",
        "            update_b[k+1]=beta*update_b[k+1]+ (1-beta)*((del_b[k+1])**2)\n",
        "\n",
        "          for k in range(num_layers-1):\n",
        "            self.W[k+1]=self.W[k+1] - ((eta)/(np.sqrt(update_w[k+1]+eps)))*del_w[k+1]\n",
        "            self.b[k+1]=self.b[k+1] - ((eta)/(np.sqrt(update_b[k+1]+eps)))*del_b[k+1]\n",
        "\n",
        "        \n",
        "          for k in range(num_layers-1):\n",
        "            del_w[k+1] = np.zeros((self.layers[k + 1], self.layers[k]))\n",
        "            del_b[k+1] =np.zeros((self.layers[k + 1], 1))\n",
        "      \n",
        "          \n",
        "              \n",
        "      #loss    \n",
        "      loss_train.append(loss_per_point/X_train.shape[1])\n",
        "\n",
        "      #accuracy \n",
        "      Y_pred_final = self.predict(self.X_train,self.num_examples_train)\n",
        "      acc_train.append(self.accuracy(Y_train, Y_pred_final, num_examples))\n",
        "      acc_val.append(self.accuracy(self.Y_val, self.predict(self.X_val, self.num_examples_val), self.num_examples_val))\n",
        "\n",
        "      print(\"epoch:\",epoch,\"training loss:\",loss_train[epoch],\"training accuracy\",acc_train[epoch],\"validation accuracy\",acc_val[epoch])\n",
        "\n",
        "      wandb.log({'epoch':epoch,'training_loss':loss_train[epoch],'training_accuracy':acc_train[epoch], 'validation_accuracy':acc_val[epoch] })\n",
        "\n",
        "    return Y_pred_final,acc_val\n",
        "\n",
        "  \n",
        "  \n",
        "  def adam(self, epochs,num_examples, batch_size, learning_rate, lamda):\n",
        "        \n",
        "    \n",
        "    X_train = self.X_train[:, :num_examples]\n",
        "    Y_train = self.Y_train[:, :num_examples]        \n",
        "    num_layers=len(self.layers)\n",
        "    \n",
        "\n",
        "    eta=learning_rate\n",
        "    loss_train = []\n",
        "    acc_train = []\n",
        "    acc_val = []\n",
        "    del_w={}\n",
        "    del_b={}\n",
        "    \n",
        "    m_update_w={}\n",
        "    m_update_b={}\n",
        "\n",
        "    m_bias_corr_update_w={}\n",
        "    m_bias_corr_update_b={}\n",
        "    \n",
        "    v_update_w={}\n",
        "    v_update_b={}\n",
        "\n",
        "    v_bias_corr_update_w={}\n",
        "    v_bias_corr_update_b={}\n",
        "    \n",
        "    eps=10**(-8)\n",
        "    beta1=0.9\n",
        "    beta2=0.95\n",
        "\n",
        "    \n",
        "    #initialize update\n",
        "    for k in range(num_layers-1):\n",
        "      m_update_w[k+1] = np.zeros((self.layers[k + 1], self.layers[k]))\n",
        "      m_update_b[k+1] =np.zeros((self.layers[k + 1], 1))\n",
        "\n",
        "      m_bias_corr_update_w[k+1] = np.zeros((self.layers[k + 1], self.layers[k]))\n",
        "      m_bias_corr_update_b[k+1] =np.zeros((self.layers[k + 1], 1))\n",
        "\n",
        "      v_update_w[k+1] = np.zeros((self.layers[k + 1], self.layers[k]))\n",
        "      v_update_b[k+1] =np.zeros((self.layers[k + 1], 1))\n",
        "\n",
        "      v_bias_corr_update_w[k+1] = np.zeros((self.layers[k + 1], self.layers[k]))\n",
        "      v_bias_corr_update_b[k+1] =np.zeros((self.layers[k + 1], 1))\n",
        "\n",
        "    num_points_seen = 0\n",
        "    \n",
        "    for epoch in range(epochs):\n",
        "      \n",
        "      loss_per_point=0\n",
        "      #initializing del_w and del_b\n",
        "      \n",
        "      for k in range(num_layers-1):\n",
        "        del_w[k+1] = np.zeros((self.layers[k + 1], self.layers[k]))\n",
        "        del_b[k+1] =np.zeros((self.layers[k + 1], 1))\n",
        "      \n",
        "      \n",
        "\n",
        "      for i in range(X_train.shape[1]):\n",
        "        Y,H,A = self.forwardPropagate(self.X_train[:,i].reshape(784,1), self.W, self.b) \n",
        "        grad_w, grad_b = self.backPropagate(Y,H,A,self.Y_train[:,i].reshape(10,1))\n",
        "        \n",
        "        #add grad of weights and biases to get del_w and del_b\n",
        "        for k in range(num_layers-1):\n",
        "          del_w[k+1]=del_w[k+1] + grad_w[k+1]\n",
        "          del_b[k+1]=del_b[k+1] + grad_b[k+1]\n",
        "    \n",
        "        loss_per_point= loss_per_point+ self.cross_entropy_loss(Y_train[:, i].reshape(10, 1), Y )+self.L2_loss(lamda)\n",
        "      \n",
        "      \n",
        "        num_points_seen +=1\n",
        "      \n",
        "        if num_points_seen % batch_size == 0:\n",
        "          #updating history in batch\n",
        "          for k in range(num_layers-1):\n",
        "            \n",
        "            m_update_w[k+1]=beta1*m_update_w[k+1]+ (1-beta1)*(del_w[k+1]) \n",
        "            m_update_b[k+1]=beta1*v_update_b[k+1]+ (1-beta1)*(del_b[k+1])\n",
        "            \n",
        "            v_update_w[k+1]=beta2*v_update_w[k+1]+ (1-beta2)*((del_w[k+1])**2) \n",
        "            v_update_b[k+1]=beta2*v_update_b[k+1]+ (1-beta2)*((del_b[k+1])**2)\n",
        "\n",
        "            #beta**epoch+1 as epoch=0 it will be inf\n",
        "            m_bias_corr_update_w[k+1]=m_update_w[k+1]/(1-((beta1)**(epoch+1)))\n",
        "            m_bias_corr_update_b[k+1]=m_update_b[k+1]/(1-((beta1)**(epoch+1)))\n",
        "\n",
        "            v_bias_corr_update_w[k+1]=v_update_w[k+1]/(1-((beta2)**(epoch+1)))\n",
        "            v_bias_corr_update_b[k+1]=v_update_b[k+1]/(1-((beta2)**(epoch+1)))\n",
        "\n",
        "          for k in range(num_layers-1):\n",
        "            self.W[k+1]=self.W[k+1] - ((m_bias_corr_update_w[k+1])*(eta))/(np.sqrt(v_bias_corr_update_w[k+1]+eps))\n",
        "            self.b[k+1]=self.b[k+1] - ((m_bias_corr_update_b[k+1])*(eta))/(np.sqrt(v_bias_corr_update_b[k+1]+eps))\n",
        "\n",
        "        \n",
        "          for k in range(num_layers-1):\n",
        "            del_w[k+1] = np.zeros((self.layers[k + 1], self.layers[k]))\n",
        "            del_b[k+1] =np.zeros((self.layers[k + 1], 1))\n",
        "      \n",
        "\n",
        "      #loss    \n",
        "      loss_train.append(loss_per_point/X_train.shape[1])\n",
        "\n",
        "      #accuracy \n",
        "      Y_pred_final = self.predict(self.X_train,self.num_examples_train)\n",
        "      acc_train.append(self.accuracy(Y_train, Y_pred_final, num_examples))\n",
        "      acc_val.append(self.accuracy(self.Y_val, self.predict(self.X_val, self.num_examples_val), self.num_examples_val))\n",
        "\n",
        "      print(\"epoch:\",epoch,\"training loss:\",loss_train[epoch],\"training accuracy\",acc_train[epoch],\"validation accuracy\",acc_val[epoch])\n",
        "\n",
        "      wandb.log({'epoch':epoch,'training_loss':loss_train[epoch],'training_accuracy':acc_train[epoch], 'validation_accuracy':acc_val[epoch] })\n",
        "\n",
        "\n",
        "\n",
        "    return Y_pred_final,acc_val\n",
        "\n",
        "\n",
        "  def nadam(self, epochs,num_examples, batch_size, learning_rate, lamda ):\n",
        "        \n",
        "    \n",
        "    X_train = self.X_train[:, :num_examples]\n",
        "    Y_train = self.Y_train[:, :num_examples]        \n",
        "    num_layers=len(self.layers)\n",
        "    \n",
        "\n",
        "    eta=learning_rate\n",
        "    loss_train = []\n",
        "    acc_train = []\n",
        "    acc_val = []\n",
        "    del_w={}\n",
        "    del_b={}\n",
        "    \n",
        "    m_update_w={}\n",
        "    m_update_b={}\n",
        "\n",
        "    m_bias_corr_update_w={}\n",
        "    m_bias_corr_update_b={}\n",
        "    \n",
        "    v_update_w={}\n",
        "    v_update_b={}\n",
        "\n",
        "    v_bias_corr_update_w={}\n",
        "    v_bias_corr_update_b={}\n",
        "    \n",
        "    eps=10**(-8)\n",
        "    beta1=0.9\n",
        "    beta2=0.95\n",
        "\n",
        "    \n",
        "    #initialize update\n",
        "    for k in range(num_layers-1):\n",
        "      m_update_w[k+1] = np.zeros((self.layers[k + 1], self.layers[k]))\n",
        "      m_update_b[k+1] =np.zeros((self.layers[k + 1], 1))\n",
        "\n",
        "      m_bias_corr_update_w[k+1] = np.zeros((self.layers[k + 1], self.layers[k]))\n",
        "      m_bias_corr_update_b[k+1] =np.zeros((self.layers[k + 1], 1))\n",
        "\n",
        "      v_update_w[k+1] = np.zeros((self.layers[k + 1], self.layers[k]))\n",
        "      v_update_b[k+1] =np.zeros((self.layers[k + 1], 1))\n",
        "\n",
        "      v_bias_corr_update_w[k+1] = np.zeros((self.layers[k + 1], self.layers[k]))\n",
        "      v_bias_corr_update_b[k+1] =np.zeros((self.layers[k + 1], 1))\n",
        "\n",
        "    num_points_seen = 0\n",
        "    \n",
        "    for epoch in range(epochs):\n",
        "      \n",
        "      loss_per_point=0\n",
        "      #initializing del_w and del_b\n",
        "      \n",
        "      for k in range(num_layers-1):\n",
        "        del_w[k+1] = np.zeros((self.layers[k + 1], self.layers[k]))\n",
        "        del_b[k+1] =np.zeros((self.layers[k + 1], 1))\n",
        "      \n",
        "      \n",
        "\n",
        "      for i in range(X_train.shape[1]):\n",
        "        Y,H,A = self.forwardPropagate(self.X_train[:,i].reshape(784,1), self.W, self.b) \n",
        "        grad_w, grad_b = self.backPropagate(Y,H,A,self.Y_train[:,i].reshape(10,1))\n",
        "        \n",
        "        #add grad of weights and biases to get del_w and del_b\n",
        "        for k in range(num_layers-1):\n",
        "          del_w[k+1]=del_w[k+1] + grad_w[k+1]\n",
        "          del_b[k+1]=del_b[k+1] + grad_b[k+1]\n",
        "    \n",
        "        loss_per_point= loss_per_point+ self.cross_entropy_loss(Y_train[:, i].reshape(10, 1), Y )+self.L2_loss(lamda)\n",
        "      \n",
        "      \n",
        "        num_points_seen +=1\n",
        "      \n",
        "        if num_points_seen % batch_size == 0:\n",
        "          #updating history in batch\n",
        "          for k in range(num_layers-1):\n",
        "            \n",
        "            m_update_w[k+1]=beta1*m_update_w[k+1]+ (1-beta1)*(del_w[k+1]) \n",
        "            m_update_b[k+1]=beta1*v_update_b[k+1]+ (1-beta1)*(del_b[k+1])\n",
        "            \n",
        "            v_update_w[k+1]=beta2*v_update_w[k+1]+ (1-beta2)*((del_w[k+1])**2) \n",
        "            v_update_b[k+1]=beta2*v_update_b[k+1]+ (1-beta2)*((del_b[k+1])**2)\n",
        "\n",
        "            #beta**epoch+1 as epoch=0 it will be inf\n",
        "            m_bias_corr_update_w[k+1]=m_update_w[k+1]/(1-((beta1)**(epoch+1)))\n",
        "            m_bias_corr_update_b[k+1]=m_update_b[k+1]/(1-((beta1)**(epoch+1)))\n",
        "\n",
        "            v_bias_corr_update_w[k+1]=v_update_w[k+1]/(1-((beta2)**(epoch+1)))\n",
        "            v_bias_corr_update_b[k+1]=v_update_b[k+1]/(1-((beta2)**(epoch+1)))\n",
        "\n",
        "            \n",
        "          for k in range(num_layers-1):\n",
        "            self.W[k+1]=self.W[k+1] - ((beta1*m_bias_corr_update_w[k+1]+((1-beta1)/(1-(beta1)**(epoch+1)))*del_w[k+1])*(eta))/((np.sqrt(v_bias_corr_update_w[k+1]+eps)))\n",
        "            self.b[k+1]=self.b[k+1] - ((beta1*m_bias_corr_update_b[k+1]+((1-beta1)/(1-(beta1)**(epoch+1)))*del_b[k+1])*(eta)/(np.sqrt(v_bias_corr_update_b[k+1]+eps)))\n",
        "\n",
        "        \n",
        "          for k in range(num_layers-1):\n",
        "            del_w[k+1] = np.zeros((self.layers[k + 1], self.layers[k]))\n",
        "            del_b[k+1] =np.zeros((self.layers[k + 1], 1))\n",
        "      \n",
        "\n",
        "      #loss    \n",
        "      loss_train.append(loss_per_point/X_train.shape[1])\n",
        "\n",
        "      #accuracy \n",
        "      Y_pred_final = self.predict(self.X_train,self.num_examples_train)\n",
        "      acc_train.append(self.accuracy(Y_train, Y_pred_final, num_examples))\n",
        "      acc_val.append(self.accuracy(self.Y_val, self.predict(self.X_val, self.num_examples_val), self.num_examples_val))\n",
        "\n",
        "      print(\"epoch:\",epoch,\"training loss:\",loss_train[epoch],\"training accuracy\",acc_train[epoch],\"validation accuracy\",acc_val[epoch])\n",
        "\n",
        "      #wandb.log({'epoch':epoch,'training_loss':loss_train[epoch],'training_accuracy':acc_train[epoch], 'validation_accuracy':acc_val[epoch] })\n",
        "\n",
        "\n",
        "\n",
        "    return Y_pred_final,acc_val\n",
        "\n",
        "\n",
        "\n"
      ],
      "metadata": {
        "id": "ISAFbka8b9os"
      },
      "execution_count": null,
      "outputs": []
    },
    {
      "cell_type": "code",
      "source": [
        "#best configuration\n",
        "num_hidden_layers=5\n",
        "num_hidden_neurons=128\n",
        "learning_rate=0.0001\n",
        "optimizer='nadam'\n",
        "batch_size=16\n",
        "initializer='xavier'\n",
        "lamda=0.0005\n",
        "max_epochs=10\n",
        "activation='tanh'\n",
        "loss='cross'"
      ],
      "metadata": {
        "id": "MiDNlBVNcgvk"
      },
      "execution_count": null,
      "outputs": []
    },
    {
      "cell_type": "code",
      "source": [
        "\n",
        "nn =neural_network2(num_hidden_layers=num_hidden_layers,\n",
        "        num_hidden_neurons=num_hidden_neurons,\n",
        "        X_train=X_train,\n",
        "        Y_train=Y_train,\n",
        "        num_examples_train = num_examples_train,\n",
        "        X_val = X_val,\n",
        "        Y_val = Y_val,\n",
        "        num_examples_val = num_examples_val,\n",
        "        optimizer = optimizer,\n",
        "        batch_size = batch_size,\n",
        "        lamda = lamda,\n",
        "        learning_rate = learning_rate,\n",
        "        max_epochs = max_epochs,\n",
        "        activation = activation,\n",
        "        initializer = initializer,\n",
        "        loss = loss\n",
        "        )\n",
        "\n",
        "Y_pred_train,validation_accuracy = nn.optimizer(nn.max_epochs, nn.num_examples_train, nn.batch_size, nn.learning_rate,nn.lamda)"
      ],
      "metadata": {
        "id": "2f7QPqjab_46",
        "colab": {
          "base_uri": "https://localhost:8080/"
        },
        "outputId": "c7a0b4a8-e97f-4969-cbcc-6dd9848b4de5"
      },
      "execution_count": null,
      "outputs": [
        {
          "output_type": "stream",
          "name": "stdout",
          "text": [
            "epoch: 0 training loss: 0.4883832424726168 training accuracy 0.8662037037037037 validation accuracy 0.8581666666666666\n",
            "epoch: 1 training loss: 0.36914979625252475 training accuracy 0.880462962962963 validation accuracy 0.8693333333333333\n",
            "epoch: 2 training loss: 0.3370932191082053 training accuracy 0.888462962962963 validation accuracy 0.8741666666666666\n",
            "epoch: 3 training loss: 0.3170173963332027 training accuracy 0.8946666666666667 validation accuracy 0.8778333333333334\n",
            "epoch: 4 training loss: 0.30225906344222836 training accuracy 0.8985740740740741 validation accuracy 0.8791666666666667\n",
            "epoch: 5 training loss: 0.29045230608198996 training accuracy 0.9022962962962963 validation accuracy 0.8806666666666667\n",
            "epoch: 6 training loss: 0.28053859938280196 training accuracy 0.905425925925926 validation accuracy 0.8835\n",
            "epoch: 7 training loss: 0.27195439371047436 training accuracy 0.907537037037037 validation accuracy 0.884\n",
            "epoch: 8 training loss: 0.2643490495845239 training accuracy 0.9095925925925926 validation accuracy 0.8846666666666667\n",
            "epoch: 9 training loss: 0.2574972660324357 training accuracy 0.9113333333333333 validation accuracy 0.8855\n"
          ]
        }
      ]
    },
    {
      "cell_type": "code",
      "source": [
        "Y_pred_test=nn.predict(X_test,num_examples_test)"
      ],
      "metadata": {
        "id": "i1LaAHOkhf6P"
      },
      "execution_count": null,
      "outputs": []
    },
    {
      "cell_type": "code",
      "source": [
        "wandb.init(project=\"Confusion matrix for test data for best model\")"
      ],
      "metadata": {
        "colab": {
          "base_uri": "https://localhost:8080/",
          "height": 197,
          "referenced_widgets": [
            "ffadee97689f4708bc8d873ded02c5ae",
            "1e7d36a973a049c6952cba51378a882a",
            "06a67e98510946ce944380945fdc28e7",
            "57cf1dfcd028403baedbbb14d4bcb125",
            "60412b79f9174504a68f915529299ffd",
            "7b4657a5af644f95b21f76e75d6c0aaf",
            "ec0b8f3276ee446f90c5d41b2c232507",
            "5ba6daeb037e40d5aaa4196634dbdb82"
          ]
        },
        "id": "qQ3EDMekfChm",
        "outputId": "f435d5fc-efa5-42a5-fc88-a8712550bb81"
      },
      "execution_count": null,
      "outputs": [
        {
          "output_type": "display_data",
          "data": {
            "text/html": [
              "Finishing last run (ID:2n3e8fnj) before initializing another..."
            ],
            "text/plain": [
              "<IPython.core.display.HTML object>"
            ]
          },
          "metadata": {}
        },
        {
          "output_type": "display_data",
          "data": {
            "text/html": [
              "<br/>Waiting for W&B process to finish, PID 578... <strong style=\"color:green\">(success).</strong>"
            ],
            "text/plain": [
              "<IPython.core.display.HTML object>"
            ]
          },
          "metadata": {}
        },
        {
          "output_type": "display_data",
          "data": {
            "application/vnd.jupyter.widget-view+json": {
              "model_id": "ffadee97689f4708bc8d873ded02c5ae",
              "version_minor": 0,
              "version_major": 2
            },
            "text/plain": [
              "VBox(children=(Label(value=' 0.00MB of 0.00MB uploaded (0.00MB deduped)\\r'), FloatProgress(value=1.0, max=1.0)…"
            ]
          },
          "metadata": {}
        },
        {
          "output_type": "display_data",
          "data": {
            "text/html": [
              "<style>\n",
              "    table.wandb td:nth-child(1) { padding: 0 10px; text-align: right }\n",
              "    .wandb-row { display: flex; flex-direction: row; flex-wrap: wrap; width: 100% }\n",
              "    .wandb-col { display: flex; flex-direction: column; flex-basis: 100%; flex: 1; padding: 10px; }\n",
              "    </style>\n",
              "<div class=\"wandb-row\"><div class=\"wandb-col\">\n",
              "</div><div class=\"wandb-col\">\n",
              "</div></div>\n",
              "Synced 5 W&B file(s), 2 media file(s), 1 artifact file(s) and 0 other file(s)\n",
              "<br/>Synced <strong style=\"color:#cdcd00\">prime-darkness-1</strong>: <a href=\"https://wandb.ai/dl22/uncategorized/runs/2n3e8fnj\" target=\"_blank\">https://wandb.ai/dl22/uncategorized/runs/2n3e8fnj</a><br/>\n",
              "Find logs at: <code>./wandb/run-20220224_072320-2n3e8fnj/logs</code><br/>\n"
            ],
            "text/plain": [
              "<IPython.core.display.HTML object>"
            ]
          },
          "metadata": {}
        },
        {
          "output_type": "display_data",
          "data": {
            "text/html": [
              "Successfully finished last run (ID:2n3e8fnj). Initializing new run:<br/>"
            ],
            "text/plain": [
              "<IPython.core.display.HTML object>"
            ]
          },
          "metadata": {}
        },
        {
          "output_type": "display_data",
          "data": {
            "text/html": [
              "\n",
              "                    Syncing run <strong><a href=\"https://wandb.ai/dl22/Confusion%20matrix%20for%20test%20data%20for%20best%20model/runs/52m7m3qp\" target=\"_blank\">effortless-cosmos-1</a></strong> to <a href=\"https://wandb.ai/dl22/Confusion%20matrix%20for%20test%20data%20for%20best%20model\" target=\"_blank\">Weights & Biases</a> (<a href=\"https://docs.wandb.com/integrations/jupyter.html\" target=\"_blank\">docs</a>).<br/>\n",
              "\n",
              "                "
            ],
            "text/plain": [
              "<IPython.core.display.HTML object>"
            ]
          },
          "metadata": {}
        },
        {
          "output_type": "execute_result",
          "data": {
            "text/plain": [
              "<wandb.sdk.wandb_run.Run at 0x7f9b679c7810>"
            ],
            "text/html": [
              "<button onClick=\"this.nextSibling.style.display='block';this.style.display='none';\">Display W&B run</button><iframe src=\"https://wandb.ai/dl22/Confusion%20matrix%20for%20test%20data%20for%20best%20model/runs/52m7m3qp?jupyter=true\" style=\"border:none;width:100%;height:420px;display:none;\"></iframe>"
            ]
          },
          "metadata": {},
          "execution_count": 39
        }
      ]
    },
    {
      "cell_type": "code",
      "source": [
        "wandb.login()"
      ],
      "metadata": {
        "colab": {
          "base_uri": "https://localhost:8080/"
        },
        "id": "gYH1fv3-wrkG",
        "outputId": "b4d35c0b-1818-4f53-dc63-3c8bf62ad59d"
      },
      "execution_count": null,
      "outputs": [
        {
          "output_type": "stream",
          "name": "stderr",
          "text": [
            "\u001b[34m\u001b[1mwandb\u001b[0m: \u001b[33mWARNING\u001b[0m Calling wandb.login() after wandb.init() has no effect.\n"
          ]
        },
        {
          "output_type": "execute_result",
          "data": {
            "text/plain": [
              "True"
            ]
          },
          "metadata": {},
          "execution_count": 36
        }
      ]
    },
    {
      "cell_type": "code",
      "source": [
        "y_pred_test=[]\n",
        "for i in range(Y_pred_test.shape[1]):\n",
        "  max_prob_label=np.argmax(Y_pred_test[:,i])\n",
        "  y_pred_test.append(max_prob_label)\n",
        "y_pred_test_label=np.array(y_pred_test)"
      ],
      "metadata": {
        "id": "GkE-c2m3vEv9"
      },
      "execution_count": null,
      "outputs": []
    },
    {
      "cell_type": "code",
      "source": [
        "y_pred_test_label.shape"
      ],
      "metadata": {
        "colab": {
          "base_uri": "https://localhost:8080/"
        },
        "id": "xmBMC-Rov18A",
        "outputId": "98b7ba97-e537-48ec-e629-9fd45950efc2"
      },
      "execution_count": null,
      "outputs": [
        {
          "output_type": "execute_result",
          "data": {
            "text/plain": [
              "(10000,)"
            ]
          },
          "metadata": {},
          "execution_count": 32
        }
      ]
    },
    {
      "cell_type": "code",
      "source": [
        "testy.shape"
      ],
      "metadata": {
        "colab": {
          "base_uri": "https://localhost:8080/"
        },
        "id": "I40l9ATGv_Pf",
        "outputId": "ac6391c0-0693-4f8e-8c92-64dc55a198fb"
      },
      "execution_count": null,
      "outputs": [
        {
          "output_type": "execute_result",
          "data": {
            "text/plain": [
              "(10000,)"
            ]
          },
          "metadata": {},
          "execution_count": 33
        }
      ]
    },
    {
      "cell_type": "code",
      "source": [
        "Y_test"
      ],
      "metadata": {
        "colab": {
          "base_uri": "https://localhost:8080/"
        },
        "id": "TH5DY9_an7GJ",
        "outputId": "c89e8955-ff70-44bb-8221-78cd93246f04"
      },
      "execution_count": null,
      "outputs": [
        {
          "output_type": "execute_result",
          "data": {
            "text/plain": [
              "(10, 10000)"
            ]
          },
          "metadata": {},
          "execution_count": 24
        }
      ]
    },
    {
      "cell_type": "code",
      "source": [
        "wandb.sklearn.plot_confusion_matrix(testy,y_pred_test_label, labels =[0,1,2,3,4,5,6,7,8,9]) "
      ],
      "metadata": {
        "id": "0ybsdB7Ob3uT"
      },
      "execution_count": null,
      "outputs": []
    },
    {
      "cell_type": "code",
      "source": [
        "testing_accuracy=nn.accuracy(Y_test, Y_pred_test, num_examples_test)"
      ],
      "metadata": {
        "id": "9nL3oRRJyDyW"
      },
      "execution_count": null,
      "outputs": []
    },
    {
      "cell_type": "code",
      "source": [
        "print(testing_accuracy*100)"
      ],
      "metadata": {
        "colab": {
          "base_uri": "https://localhost:8080/"
        },
        "id": "Po4z_AmlyZvM",
        "outputId": "bc77d1d0-d25a-4bd4-dc5f-a5de0aff1432"
      },
      "execution_count": null,
      "outputs": [
        {
          "output_type": "stream",
          "name": "stdout",
          "text": [
            "88.27000000000001\n"
          ]
        }
      ]
    }
  ]
}