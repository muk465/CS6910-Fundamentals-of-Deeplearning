{
  "cells": [
    {
      "cell_type": "markdown",
      "metadata": {
        "id": "view-in-github",
        "colab_type": "text"
      },
      "source": [
        "<a href=\"https://colab.research.google.com/github/muk465/CS6910-Fundamentals-of-Deeplearning/blob/main/Assignment1/mse_loss_fmnist.ipynb\" target=\"_parent\"><img src=\"https://colab.research.google.com/assets/colab-badge.svg\" alt=\"Open In Colab\"/></a>"
      ]
    },
    {
      "cell_type": "code",
      "execution_count": null,
      "metadata": {
        "id": "-Cp_6NUA0wY0"
      },
      "outputs": [],
      "source": [
        "from keras.datasets import fashion_mnist\n",
        "import numpy as np\n",
        "from sklearn.model_selection import train_test_split"
      ]
    },
    {
      "cell_type": "code",
      "execution_count": null,
      "metadata": {
        "colab": {
          "base_uri": "https://localhost:8080/"
        },
        "id": "ywUKVGi704mr",
        "outputId": "1db7eb90-dd47-4f92-de7b-adc99da416c2"
      },
      "outputs": [
        {
          "name": "stdout",
          "output_type": "stream",
          "text": [
            "Downloading data from https://storage.googleapis.com/tensorflow/tf-keras-datasets/train-labels-idx1-ubyte.gz\n",
            "32768/29515 [=================================] - 0s 0us/step\n",
            "40960/29515 [=========================================] - 0s 0us/step\n",
            "Downloading data from https://storage.googleapis.com/tensorflow/tf-keras-datasets/train-images-idx3-ubyte.gz\n",
            "26427392/26421880 [==============================] - 0s 0us/step\n",
            "26435584/26421880 [==============================] - 0s 0us/step\n",
            "Downloading data from https://storage.googleapis.com/tensorflow/tf-keras-datasets/t10k-labels-idx1-ubyte.gz\n",
            "16384/5148 [===============================================================================================] - 0s 0us/step\n",
            "Downloading data from https://storage.googleapis.com/tensorflow/tf-keras-datasets/t10k-images-idx3-ubyte.gz\n",
            "4423680/4422102 [==============================] - 0s 0us/step\n",
            "4431872/4422102 [==============================] - 0s 0us/step\n"
          ]
        }
      ],
      "source": [
        "(trainx,trainy),(testx,testy)=fashion_mnist.load_data()"
      ]
    },
    {
      "cell_type": "code",
      "execution_count": null,
      "metadata": {
        "id": "Yw1FfvGK7W4X"
      },
      "outputs": [],
      "source": [
        "#onehot encoder\n",
        "def onehot_encoder(Y):\n",
        "  Y_encoded = np.zeros((10, Y.shape[0]))\n",
        "  for train_point in range(Y.shape[0]):\n",
        "      class_label = Y[train_point]\n",
        "      Y_encoded[class_label,train_point] = 1.0\n",
        "  return Y_encoded"
      ]
    },
    {
      "cell_type": "code",
      "execution_count": null,
      "metadata": {
        "id": "GewhC-_53hH-"
      },
      "outputs": [],
      "source": [
        "num_examples_train=int(0.9*trainx.shape[0])\n",
        "num_examples_val=int(0.1*trainx.shape[0])\n",
        "num_examples_test=testx.shape[0]\n"
      ]
    },
    {
      "cell_type": "code",
      "execution_count": null,
      "metadata": {
        "id": "n7s9HNxW6WO6"
      },
      "outputs": [],
      "source": [
        "x_train, x_val, y_train, y_val = train_test_split(trainx, trainy, test_size=0.1,shuffle=True)"
      ]
    },
    {
      "cell_type": "code",
      "execution_count": null,
      "metadata": {
        "id": "lONzDxmf6vLS"
      },
      "outputs": [],
      "source": [
        "X_train=x_train.reshape(x_train.shape[0],28*28).T\n",
        "X_val=x_val.reshape(x_val.shape[0],28*28).T\n",
        "X_test=testx.reshape(testx.shape[0],28*28).T\n",
        "X_train=X_train/255\n",
        "X_val=X_val/255\n",
        "X_test=X_test/255\n"
      ]
    },
    {
      "cell_type": "code",
      "execution_count": null,
      "metadata": {
        "id": "jrhJ5CsB7eKY"
      },
      "outputs": [],
      "source": [
        "Y_train=onehot_encoder(y_train)\n",
        "Y_val=onehot_encoder(y_val)\n",
        "Y_test=onehot_encoder(testy)\n"
      ]
    },
    {
      "cell_type": "code",
      "execution_count": null,
      "metadata": {
        "colab": {
          "base_uri": "https://localhost:8080/"
        },
        "id": "xcf6mIC8B2__",
        "outputId": "94a10cb6-ac1d-4be8-c908-81c87371a480"
      },
      "outputs": [
        {
          "name": "stdout",
          "output_type": "stream",
          "text": [
            "Collecting wandb\n",
            "  Downloading wandb-0.12.10-py2.py3-none-any.whl (1.7 MB)\n",
            "\u001b[K     |████████████████████████████████| 1.7 MB 7.4 MB/s \n",
            "\u001b[?25hCollecting GitPython>=1.0.0\n",
            "  Downloading GitPython-3.1.27-py3-none-any.whl (181 kB)\n",
            "\u001b[K     |████████████████████████████████| 181 kB 64.9 MB/s \n",
            "\u001b[?25hCollecting sentry-sdk>=1.0.0\n",
            "  Downloading sentry_sdk-1.5.6-py2.py3-none-any.whl (144 kB)\n",
            "\u001b[K     |████████████████████████████████| 144 kB 69.9 MB/s \n",
            "\u001b[?25hRequirement already satisfied: PyYAML in /usr/local/lib/python3.7/dist-packages (from wandb) (3.13)\n",
            "Requirement already satisfied: python-dateutil>=2.6.1 in /usr/local/lib/python3.7/dist-packages (from wandb) (2.8.2)\n",
            "Collecting shortuuid>=0.5.0\n",
            "  Downloading shortuuid-1.0.8-py3-none-any.whl (9.5 kB)\n",
            "Requirement already satisfied: six>=1.13.0 in /usr/local/lib/python3.7/dist-packages (from wandb) (1.15.0)\n",
            "Requirement already satisfied: protobuf>=3.12.0 in /usr/local/lib/python3.7/dist-packages (from wandb) (3.17.3)\n",
            "Collecting pathtools\n",
            "  Downloading pathtools-0.1.2.tar.gz (11 kB)\n",
            "Requirement already satisfied: requests<3,>=2.0.0 in /usr/local/lib/python3.7/dist-packages (from wandb) (2.23.0)\n",
            "Requirement already satisfied: promise<3,>=2.0 in /usr/local/lib/python3.7/dist-packages (from wandb) (2.3)\n",
            "Requirement already satisfied: psutil>=5.0.0 in /usr/local/lib/python3.7/dist-packages (from wandb) (5.4.8)\n",
            "Collecting yaspin>=1.0.0\n",
            "  Downloading yaspin-2.1.0-py3-none-any.whl (18 kB)\n",
            "Requirement already satisfied: Click!=8.0.0,>=7.0 in /usr/local/lib/python3.7/dist-packages (from wandb) (7.1.2)\n",
            "Collecting docker-pycreds>=0.4.0\n",
            "  Downloading docker_pycreds-0.4.0-py2.py3-none-any.whl (9.0 kB)\n",
            "Collecting gitdb<5,>=4.0.1\n",
            "  Downloading gitdb-4.0.9-py3-none-any.whl (63 kB)\n",
            "\u001b[K     |████████████████████████████████| 63 kB 2.0 MB/s \n",
            "\u001b[?25hRequirement already satisfied: typing-extensions>=3.7.4.3 in /usr/local/lib/python3.7/dist-packages (from GitPython>=1.0.0->wandb) (3.10.0.2)\n",
            "Collecting smmap<6,>=3.0.1\n",
            "  Downloading smmap-5.0.0-py3-none-any.whl (24 kB)\n",
            "Requirement already satisfied: urllib3!=1.25.0,!=1.25.1,<1.26,>=1.21.1 in /usr/local/lib/python3.7/dist-packages (from requests<3,>=2.0.0->wandb) (1.24.3)\n",
            "Requirement already satisfied: certifi>=2017.4.17 in /usr/local/lib/python3.7/dist-packages (from requests<3,>=2.0.0->wandb) (2021.10.8)\n",
            "Requirement already satisfied: chardet<4,>=3.0.2 in /usr/local/lib/python3.7/dist-packages (from requests<3,>=2.0.0->wandb) (3.0.4)\n",
            "Requirement already satisfied: idna<3,>=2.5 in /usr/local/lib/python3.7/dist-packages (from requests<3,>=2.0.0->wandb) (2.10)\n",
            "Requirement already satisfied: termcolor<2.0.0,>=1.1.0 in /usr/local/lib/python3.7/dist-packages (from yaspin>=1.0.0->wandb) (1.1.0)\n",
            "Building wheels for collected packages: pathtools\n",
            "  Building wheel for pathtools (setup.py) ... \u001b[?25l\u001b[?25hdone\n",
            "  Created wheel for pathtools: filename=pathtools-0.1.2-py3-none-any.whl size=8806 sha256=79525077a55c82ef4dcfd5a28f54fca143d996fcc3d6dea8e6809bdc22e21265\n",
            "  Stored in directory: /root/.cache/pip/wheels/3e/31/09/fa59cef12cdcfecc627b3d24273699f390e71828921b2cbba2\n",
            "Successfully built pathtools\n",
            "Installing collected packages: smmap, gitdb, yaspin, shortuuid, sentry-sdk, pathtools, GitPython, docker-pycreds, wandb\n",
            "Successfully installed GitPython-3.1.27 docker-pycreds-0.4.0 gitdb-4.0.9 pathtools-0.1.2 sentry-sdk-1.5.6 shortuuid-1.0.8 smmap-5.0.0 wandb-0.12.10 yaspin-2.1.0\n"
          ]
        }
      ],
      "source": [
        "!pip install wandb\n"
      ]
    },
    {
      "cell_type": "code",
      "execution_count": null,
      "metadata": {
        "id": "o1eVWgSSB9V8"
      },
      "outputs": [],
      "source": [
        "import numpy as np\n",
        "import wandb"
      ]
    },
    {
      "cell_type": "code",
      "execution_count": null,
      "metadata": {
        "id": "L4CzAoCa5aMH"
      },
      "outputs": [],
      "source": [
        "def sigmoid(z):\n",
        "    return 1.0 / (1 + np.exp(-(z)))\n",
        "\n",
        "\n",
        "def tanh(z):\n",
        "    return np.tanh(z)\n",
        "\n",
        "\n",
        "def sin(z):\n",
        "    return np.sin(z)\n",
        "\n",
        "\n",
        "def relu(z):\n",
        "    return np.maximum(0, z) \n",
        "\n",
        "\n",
        "def softmax(Z):\n",
        "    return np.exp(Z) / np.sum(np.exp(Z))\n",
        "\n",
        "\n",
        "def grad_sigmoid(z):\n",
        "    return  (1.0 / (1 + np.exp(-(z))))*(1 -  1.0 / (1 + np.exp(-(z))))\n",
        "\n",
        "def grad_tanh(z):\n",
        "    return 1 - np.tanh(z) ** 2\n",
        "\n",
        "def grad_relu(z):\n",
        "    if z>0:\n",
        "      return 1\n",
        "    else:\n",
        "      return 0\n"
      ]
    },
    {
      "cell_type": "code",
      "execution_count": null,
      "metadata": {
        "id": "83hMfZtIIdBS"
      },
      "outputs": [],
      "source": [
        " #initializers\n",
        "def xavier_initializer(op,ip):\n",
        "  std = np.sqrt(2 / (ip + op))\n",
        "  return np.random.normal(0, std, size=(op, ip))\n",
        "\n",
        "def random_initializer(op,ip):\n",
        "  return np.random.normal(0, 1, size=(op, ip))"
      ]
    },
    {
      "cell_type": "code",
      "execution_count": null,
      "metadata": {
        "id": "atY9hGCj4hJW"
      },
      "outputs": [],
      "source": [
        "class neural_network2:\n",
        "\n",
        "  def __init__(\n",
        "      self, \n",
        "      num_hidden_layers,\n",
        "      num_hidden_neurons, \n",
        "      X_train, \n",
        "      Y_train,  \n",
        "      num_examples_train, \n",
        "      X_val, \n",
        "      Y_val, \n",
        "      num_examples_val,    \n",
        "      optimizer,\n",
        "      batch_size,\n",
        "      lamda,\n",
        "      learning_rate,\n",
        "      max_epochs,\n",
        "      activation,\n",
        "      initializer,\n",
        "      loss):\n",
        "    #initalize neural nw layers\n",
        "    self.layers = [784]+num_hidden_layers*[num_hidden_neurons]+[10]\n",
        "\n",
        "    #initilialize num of examples\n",
        "    self.num_examples_train = num_examples_train\n",
        "    self.num_examples_val = num_examples_val\n",
        "        \n",
        "    #initlialize datset\n",
        "    self.X_train=X_train\n",
        "    self.X_val=X_val\n",
        "    self.Y_train=Y_train\n",
        "    self.Y_val=Y_val\n",
        "   \n",
        "\n",
        "    #loss fn\n",
        "    self.loss_function = loss\n",
        "    \n",
        "    \n",
        "    #setup initializer\n",
        "    if initializer==\"random\":\n",
        "      self.initializer = random_initializer\n",
        "    elif initializer==\"xavier\":\n",
        "      self.initializer=xavier_initializer\n",
        "    else:\n",
        "      raise Exception('this is wrong initializer')\n",
        "    \n",
        "    #setup activations\n",
        "    if activation==\"sigmoid\":\n",
        "      self.activation=sigmoid\n",
        "      self.grad_activation=grad_sigmoid\n",
        "    elif activation==\"tanh\":\n",
        "      self.activation=tanh\n",
        "      self.grad_activation=grad_tanh\n",
        "    elif activation==\"relu\":\n",
        "      self.activation=relu\n",
        "      self.grad_activation=grad_relu\n",
        "    else:\n",
        "      raise Exception('this is wrong activation')\n",
        "\n",
        "    #optimizers\n",
        "    if optimizer==\"sgd\":\n",
        "      self.optimizer=self.sgd\n",
        "    elif optimizer==\"mgd\":\n",
        "      self.optimizer=self.mgd\n",
        "    elif optimizer==\"nag\":\n",
        "      self.optimizer=self.nag\n",
        "    elif optimizer==\"rmsprop\":\n",
        "      self.optimizer=self.rmsprop\n",
        "    elif optimizer==\"adam\":\n",
        "      self.optimizer=self.adam\n",
        "    elif optimizer==\"nadam\":\n",
        "      self.optimizer=self.nadam\n",
        "    else:\n",
        "      raise Exception(\"wrong optimizer\")\n",
        "         \n",
        "\n",
        "    #hyperparameters\n",
        "    self.max_epochs = max_epochs\n",
        "    self.batch_size = batch_size\n",
        "    self.learning_rate = learning_rate\n",
        "    self.lamda=lamda\n",
        "    \n",
        "    #initialize weights\n",
        "    self.W, self.b = self.Neuralnet_init(self.layers)\n",
        "\n",
        "\n",
        "\n",
        "\n",
        "  # loss fn\n",
        "  def cross_entropy_loss(self, Y_true, Y_pred):\n",
        "      loss=np.sum(-(Y_true*np.log(Y_pred)))\n",
        "      return loss\n",
        "\n",
        "  def L2_loss(self, lamda):\n",
        "    return (lamda/2) * np.sum([np.linalg.norm((self.W[i + 1]**2))  for i in range(len(self.W))])\n",
        "\n",
        "  def mse_loss(self, Y_true, Y_pred):\n",
        "      loss = np.sum(0.5*(Y_true - Y_pred) ** 2)\n",
        "      return loss\n",
        "\n",
        "  #accuracy and predict\n",
        "  def accuracy(self, Y_true, Y_pred, num_examples):\n",
        "    acc = 0\n",
        "    for i in range(num_examples):\n",
        "      if (np.argmax(Y_true[:, i])==np.argmax(Y_pred[:, i])):\n",
        "        acc+=1\n",
        "    accuracy = acc / num_examples\n",
        "    return accuracy\n",
        "\n",
        "  def predict(self,X,num_examples):\n",
        "    Y_pred = []        \n",
        "    for i in range(num_examples):\n",
        "      Y, H, A = self.forwardPropagate(X[:, i].reshape(784, 1),self.W,self.b)\n",
        "      Y_pred.append(Y.reshape(10,))\n",
        "    Y_pred = np.array(Y_pred).transpose()\n",
        "    return Y_pred\n",
        " \n",
        "  #neural network weights and biases initializer\n",
        "  def Neuralnet_init(self,layer_neurons):\n",
        "      num_layers=len(self.layers)\n",
        "      W = {}\n",
        "      b = {}\n",
        "      for i in range(0, num_layers - 1):\n",
        "          W[i + 1] = self.initializer(layer_neurons[i + 1], layer_neurons[i])\n",
        "          b[i + 1] = np.zeros((layer_neurons[i + 1], 1))\n",
        "      return W,b\n",
        "  \n",
        "  def forwardPropagate(self,X, W, b):\n",
        "    num_layers=len(self.layers)\n",
        "    H={}\n",
        "    A = {}\n",
        "\n",
        "    H[0] = X\n",
        "    A[0] = X\n",
        "    for k in range(0, num_layers - 2):\n",
        "      A[k + 1] = np.dot(W[k + 1],H[k])+ b[k + 1]\n",
        "      H[k + 1] = self.activation(A[k + 1])\n",
        "\n",
        "    #op layer\n",
        "    A[num_layers - 1] = np.dot(W[num_layers-1],H[num_layers - 2])+ b[num_layers - 1]\n",
        "    y_pred = softmax(A[num_layers - 1])\n",
        "    H[num_layers - 1] = y_pred\n",
        "    return y_pred,H,A\n",
        "  \n",
        "  \n",
        "  \n",
        "  \n",
        "  def backPropagate(self,Ypred,H,A,Y_train,lamda=0):\n",
        "    \n",
        "    num_layers=len(self.layers)\n",
        "    grad_A={}\n",
        "    grad_H={}\n",
        "\n",
        "    grad_W={}\n",
        "    grad_b={}\n",
        "    \n",
        "\n",
        "    # Gradient of op layer(AL).\n",
        "    # for MSE assuming op activation as softmax\n",
        "    grad_A[num_layers - 1] = -(Y_train - Ypred)*(Ypred)*(1-Ypred)\n",
        "    #grad_A[num_layers - 1] = -(Y_train - Ypred)\n",
        "\n",
        "    for k in range(num_layers - 2, -1, -1):\n",
        "      grad_W[k + 1] = np.outer(grad_A[k + 1],H[k])+(lamda/2 )* self.W[k + 1]\n",
        "\n",
        "        \n",
        "      grad_b[k + 1]=grad_A[k + 1]\n",
        "      \n",
        "      if k == 0:\n",
        "        grad_H[k] = np.dot(self.W[k + 1].T,grad_A[k + 1])\n",
        "        grad_A[k] = grad_H[k]*A[k]\n",
        "      else:\n",
        "        grad_H[k] = np.dot(self.W[k + 1].T,grad_A[k + 1])\n",
        "          \n",
        "        grad_A[k] = grad_H[k]*self.grad_activation(A[k])\n",
        "\n",
        "\n",
        "          \n",
        "    return grad_W,grad_b\n",
        "    \n",
        "\n",
        "\n",
        "  def sgd(self,epochs,num_examples,batch_size,learning_rate, lamda):\n",
        "    loss_train = []\n",
        "    acc_train = []\n",
        "    acc_val = []\n",
        "    num_layers=len(self.layers)\n",
        "    for epoch in range(epochs):\n",
        "      loss_per_point=0\n",
        "      \n",
        "      for i in range(X_train.shape[1]):\n",
        "        Y,H,A = self.forwardPropagate(self.X_train[:,i].reshape(784,1), self.W, self.b) \n",
        "        grad_w, grad_b = self.backPropagate(Y,H,A,self.Y_train[:,i].reshape(10,1))\n",
        "      \n",
        "        loss_per_point= loss_per_point+ self.cross_entropy_loss(Y_train[:, i].reshape(10, 1), Y)+self.L2_loss(lamda)\n",
        "\n",
        "        for k in range(num_layers-1):\n",
        "          self.W[k+1]=self.W[k+1] - learning_rate * grad_w[k+1]\n",
        "          self.b[k+1]=self.b[k+1] - learning_rate * grad_b[k+1]\n",
        "            \n",
        "      \n",
        "         #loss    \n",
        "      loss_train.append(loss_per_point/X_train.shape[1])\n",
        "\n",
        "      #accuracy \n",
        "      Y_pred_final = self.predict(self.X_train,self.num_examples_train)\n",
        "      acc_train.append(self.accuracy(Y_train, Y_pred_final, num_examples))\n",
        "      acc_val.append(self.accuracy(self.Y_val, self.predict(self.X_val, self.num_examples_val), self.num_examples_val))\n",
        "\n",
        "      print(\"epoch:\",epoch,\"training loss:\",loss_train[epoch],\"training accuracy\",acc_train[epoch],\"validation accuracy\",acc_val[epoch])\n",
        "\n",
        "      wandb.log({'epoch':epoch,'training_loss':loss_train[epoch],'training_accuracy':acc_train[epoch], 'validation_accuracy':acc_val[epoch] })\n",
        "\n",
        "\n",
        "    return Y_pred_final,acc_val\n",
        "\n",
        "\n",
        "\n",
        "  def mgd(self,epochs,num_examples,batch_size,learning_rate, lamda):\n",
        "    #gamma = min(1 - 2 ** (-1 - np.log((epoch / 250.0) + 1, 2)), gamma)\n",
        "    gamma=0.9\n",
        "    eta=learning_rate\n",
        "    loss_train = []\n",
        "    acc_train = []\n",
        "    acc_val = []\n",
        "    del_w={}\n",
        "    del_b={}\n",
        "    prev_update_w={}\n",
        "    prev_update_b={}\n",
        "    update_w={}\n",
        "    update_b={}\n",
        "    \n",
        "    X_train = self.X_train[:, :num_examples]\n",
        "    Y_train = self.Y_train[:, :num_examples] \n",
        "    num_layers=len(self.layers)\n",
        "\n",
        "    for k in range(num_layers-1):\n",
        "      prev_update_w[k+1] = np.zeros((self.layers[k + 1], self.layers[k]))\n",
        "      prev_update_b[k+1] =np.zeros((self.layers[k + 1], 1))\n",
        "\n",
        "    for k in range(num_layers-1):\n",
        "      update_w[k+1] = np.zeros((self.layers[k + 1], self.layers[k]))\n",
        "      update_b[k+1] =np.zeros((self.layers[k + 1], 1))\n",
        "    num_points_seen = 0\n",
        "    for epoch in range(epochs):\n",
        "      \n",
        "      loss_per_point=0\n",
        "      #initializing del_w and del_b\n",
        "      \n",
        "      for k in range(num_layers-1):\n",
        "        del_w[k+1] = np.zeros((self.layers[k + 1], self.layers[k]))\n",
        "        del_b[k+1] =np.zeros((self.layers[k + 1], 1))\n",
        "      \n",
        "      \n",
        "\n",
        "      for i in range(X_train.shape[1]):\n",
        "        Y,H,A = self.forwardPropagate(self.X_train[:,i].reshape(784,1), self.W, self.b) \n",
        "        grad_w, grad_b = self.backPropagate(Y,H,A,self.Y_train[:,i].reshape(10,1))\n",
        "        \n",
        "        \n",
        "        #add grad of weights and biases to get del_w and del_b\n",
        "        for k in range(num_layers-1):\n",
        "          del_w[k+1]=del_w[k+1] + grad_w[k+1]\n",
        "          del_b[k+1]=del_b[k+1] + grad_b[k+1]\n",
        "\n",
        "        loss_per_point= loss_per_point+ self.cross_entropy_loss(Y_train[:, i].reshape(10, 1), Y )+self.L2_loss(lamda)\n",
        "      \n",
        "      \n",
        "        num_points_seen +=1\n",
        "      \n",
        "        if num_points_seen % batch_size == 0:\n",
        "          #updating history in batch\n",
        "          for k in range(num_layers-1):\n",
        "            update_w[k+1]=gamma*prev_update_w[k+1]+eta*del_w[k+1] \n",
        "            update_b[k+1]=gamma*prev_update_b[k+1]+eta*del_b[k+1]\n",
        "\n",
        "          for k in range(num_layers-1):\n",
        "            self.W[k+1]=self.W[k+1] - learning_rate * update_w[k+1]\n",
        "            self.b[k+1]=self.b[k+1] - learning_rate * update_b[k+1]\n",
        "\n",
        "          \n",
        "\n",
        "          prev_update_w = update_w\n",
        "          prev_update_b = update_b\n",
        "          \n",
        "          for k in range(num_layers-1):\n",
        "            del_w[k+1] = np.zeros((self.layers[k + 1],self.layers[k]))\n",
        "            del_b[k+1] =np.zeros((self.layers[k + 1], 1))\n",
        "      \n",
        "      #loss    \n",
        "      loss_train.append(loss_per_point/X_train.shape[1])\n",
        "\n",
        "      #accuracy \n",
        "      Y_pred_final = self.predict(self.X_train,self.num_examples_train)\n",
        "      acc_train.append(self.accuracy(Y_train, Y_pred_final, num_examples))\n",
        "      acc_val.append(self.accuracy(self.Y_val, self.predict(self.X_val, self.num_examples_val), self.num_examples_val))\n",
        "\n",
        "      print(\"epoch:\",epoch,\"training loss:\",loss_train[epoch],\"training accuracy\",acc_train[epoch],\"validation accuracy\",acc_val[epoch])\n",
        "\n",
        "      wandb.log({'epoch':epoch,'training_loss':loss_train[epoch],'training_accuracy':acc_train[epoch], 'validation_accuracy':acc_val[epoch] })\n",
        "\n",
        "\n",
        "    return Y_pred_final,acc_val\n",
        "\n",
        "\n",
        "\n",
        "  def nag(self,epochs,num_examples,batch_size,learning_rate,lamda):\n",
        "    \n",
        "    #gamma = min(1 - 2 ** (-1 - np.log((calls / 250.0) + 1, 2)), gamma)\n",
        "    \n",
        "    gamma=0.9\n",
        "    eta=learning_rate\n",
        "    loss_train = []\n",
        "    acc_train = []\n",
        "    acc_val = []\n",
        "    del_w={}\n",
        "    del_b={}\n",
        "    prev_update_w={}\n",
        "    prev_update_b={}\n",
        "    update_w={}\n",
        "    update_b={}\n",
        "    num_layers=len(self.layers)\n",
        "    \n",
        "    X_train = self.X_train[:, :num_examples]\n",
        "    Y_train = self.Y_train[:, :num_examples]        \n",
        "\n",
        "    #initalizing prev and latest update\n",
        "    for k in range(num_layers-1):\n",
        "      prev_update_w[k+1] = np.zeros((self.layers[k + 1], self.layers[k]))\n",
        "      prev_update_b[k+1] =np.zeros((self.layers[k + 1], 1))\n",
        "    \n",
        "    for k in range(num_layers-1):\n",
        "      update_w[k+1] = np.zeros((self.layers[k + 1], self.layers[k]))\n",
        "      update_b[k+1] =np.zeros((self.layers[k + 1], 1))\n",
        "    num_points_seen = 0\n",
        "    \n",
        "    #begin\n",
        "    for epoch in range(epochs):\n",
        "      \n",
        "      loss_per_point=0\n",
        "      #initializing del_w and del_b\n",
        "      \n",
        "      for k in range(num_layers-1):\n",
        "        del_w[k+1] = np.zeros((self.layers[k + 1], self.layers[k]))\n",
        "        del_b[k+1] =np.zeros((self.layers[k + 1], 1))\n",
        "      \n",
        "      #doing lookahead\n",
        "      for k in range(num_layers-1):\n",
        "        update_w[k+1] = gamma*prev_update_w[k+1]\n",
        "        update_b[k+1] =gamma*prev_update_b[k+1]\n",
        "\n",
        "      for i in range(X_train.shape[1]):\n",
        "        \n",
        "        #look ahead w,b\n",
        "        for k in range(num_layers-1):\n",
        "          self.W[k+1]=self.W[k+1]-update_w[k+1]\n",
        "          self.b[k+1]=self.b[k+1]-update_b[k+1]\n",
        "          \n",
        "        Y,H,A = self.forwardPropagate(self.X_train[:,i].reshape(784,1), self.W, self.b) \n",
        "        grad_w, grad_b = self.backPropagate(Y,H,A,self.Y_train[:,i].reshape(10,1))\n",
        "        \n",
        "        #add grad of weights and biases to get del_w and del_b\n",
        "        for k in range(num_layers-1):\n",
        "          del_w[k+1]=del_w[k+1] + grad_w[k+1]\n",
        "          del_b[k+1]=del_b[k+1] + grad_b[k+1]\n",
        "    \n",
        "        loss_per_point= loss_per_point+ self.cross_entropy_loss(Y_train[:, i].reshape(10, 1), Y )+self.L2_loss(lamda)\n",
        "      \n",
        "      \n",
        "        num_points_seen +=1\n",
        "      \n",
        "        if num_points_seen % batch_size == 0:\n",
        "          \n",
        "          #updating history in batch\n",
        "          for k in range(num_layers-1):\n",
        "            update_w[k+1]=gamma*prev_update_w[k+1]+eta*del_w[k+1] \n",
        "            update_b[k+1]=gamma*prev_update_b[k+1]+eta*del_b[k+1]\n",
        "\n",
        "          for k in range(num_layers-1):\n",
        "            self.W[k+1]=self.W[k+1] - eta * update_w[k+1]\n",
        "            self.b[k+1]=self.b[k+1] - eta * update_b[k+1]\n",
        "\n",
        "          \n",
        "\n",
        "          prev_update_w = update_w\n",
        "          prev_update_b = update_b\n",
        "          for k in range(num_layers-1):\n",
        "            del_w[k+1] = np.zeros((self.layers[k + 1], self.layers[k]))\n",
        "            del_b[k+1] =np.zeros((self.layers[k + 1], 1))\n",
        "      \n",
        "          \n",
        "      #loss    \n",
        "      loss_train.append(loss_per_point/X_train.shape[1])\n",
        "\n",
        "      #accuracy \n",
        "      Y_pred_final = self.predict(self.X_train,self.num_examples_train)\n",
        "      acc_train.append(self.accuracy(Y_train, Y_pred_final, num_examples))\n",
        "      acc_val.append(self.accuracy(self.Y_val, self.predict(self.X_val, self.num_examples_val), self.num_examples_val))\n",
        "\n",
        "      print(\"epoch:\",epoch,\"training loss:\",loss_train[epoch],\"training accuracy\",acc_train[epoch],\"validation accuracy\",acc_val[epoch])\n",
        "\n",
        "      wandb.log({'epoch':epoch,'training_loss':loss_train[epoch],'training_accuracy':acc_train[epoch], 'validation_accuracy':acc_val[epoch] })\n",
        "\n",
        "\n",
        "    return Y_pred_final,acc_val\n",
        "\n",
        "  def rmsprop(self,epochs,num_examples, batch_size, learning_rate, lamda):\n",
        "    \n",
        "    eta=learning_rate\n",
        "    loss_train = []\n",
        "    acc_train = []\n",
        "    acc_val = []\n",
        "    del_w={}\n",
        "    del_b={}\n",
        "    \n",
        "    update_w={}\n",
        "    update_b={}\n",
        "    eps=10**(-8)\n",
        "    beta=0.9\n",
        "\n",
        "    num_layers=len(self.layers)\n",
        "    X_train = self.X_train[:, :num_examples]\n",
        "    Y_train = self.Y_train[:, :num_examples]\n",
        "\n",
        "\n",
        "    #initialize update\n",
        "    for k in range(num_layers-1):\n",
        "      update_w[k+1] = np.zeros((self.layers[k + 1], self.layers[k]))\n",
        "      update_b[k+1] =np.zeros((self.layers[k + 1], 1))\n",
        "    \n",
        "    num_points_seen = 0\n",
        "    \n",
        "    for epoch in range(epochs):\n",
        "      \n",
        "      loss_per_point=0\n",
        "      #initializing del_w and del_b\n",
        "      \n",
        "      for k in range(num_layers-1):\n",
        "        del_w[k+1] = np.zeros((self.layers[k + 1], self.layers[k]))\n",
        "        del_b[k+1] =np.zeros((self.layers[k + 1], 1))\n",
        "      \n",
        "      \n",
        "\n",
        "      for i in range(X_train.shape[1]):\n",
        "        Y,H,A = self.forwardPropagate(self.X_train[:,i].reshape(784,1), self.W, self.b) \n",
        "        grad_w, grad_b = self.backPropagate(Y,H,A,self.Y_train[:,i].reshape(10,1))\n",
        "        \n",
        "        #add grad of weights and biases to get del_w and del_b\n",
        "        for k in range(num_layers-1):\n",
        "          del_w[k+1]=del_w[k+1] + grad_w[k+1]\n",
        "          del_b[k+1]=del_b[k+1] + grad_b[k+1]\n",
        "    \n",
        "        loss_per_point= loss_per_point+ self.cross_entropy_loss(Y_train[:, i].reshape(10, 1), Y )+self.L2_loss(lamda)\n",
        "      \n",
        "      \n",
        "        num_points_seen +=1\n",
        "      \n",
        "        if num_points_seen % batch_size == 0:\n",
        "          #updating history in batch\n",
        "          for k in range(num_layers-1):\n",
        "            update_w[k+1]=beta*update_w[k+1]+ (1-beta)*((del_w[k+1])**2) \n",
        "            update_b[k+1]=beta*update_b[k+1]+ (1-beta)*((del_b[k+1])**2)\n",
        "\n",
        "          for k in range(num_layers-1):\n",
        "            self.W[k+1]=self.W[k+1] - ((eta)/(np.sqrt(update_w[k+1]+eps)))*del_w[k+1]\n",
        "            self.b[k+1]=self.b[k+1] - ((eta)/(np.sqrt(update_b[k+1]+eps)))*del_b[k+1]\n",
        "\n",
        "        \n",
        "          for k in range(num_layers-1):\n",
        "            del_w[k+1] = np.zeros((self.layers[k + 1], self.layers[k]))\n",
        "            del_b[k+1] =np.zeros((self.layers[k + 1], 1))\n",
        "      \n",
        "          \n",
        "              \n",
        "      #loss    \n",
        "      loss_train.append(loss_per_point/X_train.shape[1])\n",
        "\n",
        "      #accuracy \n",
        "      Y_pred_final = self.predict(self.X_train,self.num_examples_train)\n",
        "      acc_train.append(self.accuracy(Y_train, Y_pred_final, num_examples))\n",
        "      acc_val.append(self.accuracy(self.Y_val, self.predict(self.X_val, self.num_examples_val), self.num_examples_val))\n",
        "\n",
        "      print(\"epoch:\",epoch,\"training loss:\",loss_train[epoch],\"training accuracy\",acc_train[epoch],\"validation accuracy\",acc_val[epoch])\n",
        "\n",
        "      wandb.log({'epoch':epoch,'training_loss':loss_train[epoch],'training_accuracy':acc_train[epoch], 'validation_accuracy':acc_val[epoch] })\n",
        "\n",
        "    return Y_pred_final,acc_val\n",
        "\n",
        "  \n",
        "  \n",
        "  def adam(self, epochs,num_examples, batch_size, learning_rate, lamda):\n",
        "        \n",
        "    \n",
        "    X_train = self.X_train[:, :num_examples]\n",
        "    Y_train = self.Y_train[:, :num_examples]        \n",
        "    num_layers=len(self.layers)\n",
        "    \n",
        "\n",
        "    eta=learning_rate\n",
        "    loss_train = []\n",
        "    acc_train = []\n",
        "    acc_val = []\n",
        "    del_w={}\n",
        "    del_b={}\n",
        "    \n",
        "    m_update_w={}\n",
        "    m_update_b={}\n",
        "\n",
        "    m_bias_corr_update_w={}\n",
        "    m_bias_corr_update_b={}\n",
        "    \n",
        "    v_update_w={}\n",
        "    v_update_b={}\n",
        "\n",
        "    v_bias_corr_update_w={}\n",
        "    v_bias_corr_update_b={}\n",
        "    \n",
        "    eps=10**(-8)\n",
        "    beta1=0.9\n",
        "    beta2=0.95\n",
        "\n",
        "    \n",
        "    #initialize update\n",
        "    for k in range(num_layers-1):\n",
        "      m_update_w[k+1] = np.zeros((self.layers[k + 1], self.layers[k]))\n",
        "      m_update_b[k+1] =np.zeros((self.layers[k + 1], 1))\n",
        "\n",
        "      m_bias_corr_update_w[k+1] = np.zeros((self.layers[k + 1], self.layers[k]))\n",
        "      m_bias_corr_update_b[k+1] =np.zeros((self.layers[k + 1], 1))\n",
        "\n",
        "      v_update_w[k+1] = np.zeros((self.layers[k + 1], self.layers[k]))\n",
        "      v_update_b[k+1] =np.zeros((self.layers[k + 1], 1))\n",
        "\n",
        "      v_bias_corr_update_w[k+1] = np.zeros((self.layers[k + 1], self.layers[k]))\n",
        "      v_bias_corr_update_b[k+1] =np.zeros((self.layers[k + 1], 1))\n",
        "\n",
        "    num_points_seen = 0\n",
        "    \n",
        "    for epoch in range(epochs):\n",
        "      \n",
        "      loss_per_point=0\n",
        "      #initializing del_w and del_b\n",
        "      \n",
        "      for k in range(num_layers-1):\n",
        "        del_w[k+1] = np.zeros((self.layers[k + 1], self.layers[k]))\n",
        "        del_b[k+1] =np.zeros((self.layers[k + 1], 1))\n",
        "      \n",
        "      \n",
        "\n",
        "      for i in range(X_train.shape[1]):\n",
        "        Y,H,A = self.forwardPropagate(self.X_train[:,i].reshape(784,1), self.W, self.b) \n",
        "        grad_w, grad_b = self.backPropagate(Y,H,A,self.Y_train[:,i].reshape(10,1))\n",
        "        \n",
        "        #add grad of weights and biases to get del_w and del_b\n",
        "        for k in range(num_layers-1):\n",
        "          del_w[k+1]=del_w[k+1] + grad_w[k+1]\n",
        "          del_b[k+1]=del_b[k+1] + grad_b[k+1]\n",
        "    \n",
        "        #loss_per_point= loss_per_point+ self.cross_entropy_loss(Y_train[:, i].reshape(10, 1), Y )+self.L2_loss(lamda)\n",
        "        loss_per_point= loss_per_point+ self.mse_loss(Y_train[:, i].reshape(10, 1), Y )+self.L2_loss(lamda)\n",
        "      \n",
        "      \n",
        "        num_points_seen +=1\n",
        "      \n",
        "        if num_points_seen % batch_size == 0:\n",
        "          #updating history in batch\n",
        "          for k in range(num_layers-1):\n",
        "            \n",
        "            m_update_w[k+1]=beta1*m_update_w[k+1]+ (1-beta1)*(del_w[k+1]) \n",
        "            m_update_b[k+1]=beta1*v_update_b[k+1]+ (1-beta1)*(del_b[k+1])\n",
        "            \n",
        "            v_update_w[k+1]=beta2*v_update_w[k+1]+ (1-beta2)*((del_w[k+1])**2) \n",
        "            v_update_b[k+1]=beta2*v_update_b[k+1]+ (1-beta2)*((del_b[k+1])**2)\n",
        "\n",
        "            #beta**epoch+1 as epoch=0 it will be inf\n",
        "            m_bias_corr_update_w[k+1]=m_update_w[k+1]/(1-((beta1)**(epoch+1)))\n",
        "            m_bias_corr_update_b[k+1]=m_update_b[k+1]/(1-((beta1)**(epoch+1)))\n",
        "\n",
        "            v_bias_corr_update_w[k+1]=v_update_w[k+1]/(1-((beta2)**(epoch+1)))\n",
        "            v_bias_corr_update_b[k+1]=v_update_b[k+1]/(1-((beta2)**(epoch+1)))\n",
        "\n",
        "          for k in range(num_layers-1):\n",
        "            self.W[k+1]=self.W[k+1] - ((m_bias_corr_update_w[k+1])*(eta))/(np.sqrt(v_bias_corr_update_w[k+1]+eps))\n",
        "            self.b[k+1]=self.b[k+1] - ((m_bias_corr_update_b[k+1])*(eta))/(np.sqrt(v_bias_corr_update_b[k+1]+eps))\n",
        "\n",
        "        \n",
        "          for k in range(num_layers-1):\n",
        "            del_w[k+1] = np.zeros((self.layers[k + 1], self.layers[k]))\n",
        "            del_b[k+1] =np.zeros((self.layers[k + 1], 1))\n",
        "      \n",
        "\n",
        "      #loss    \n",
        "      loss_train.append(loss_per_point/X_train.shape[1])\n",
        "\n",
        "      #accuracy \n",
        "      Y_pred_final = self.predict(self.X_train,self.num_examples_train)\n",
        "      acc_train.append(self.accuracy(Y_train, Y_pred_final, num_examples))\n",
        "      acc_val.append(self.accuracy(self.Y_val, self.predict(self.X_val, self.num_examples_val), self.num_examples_val))\n",
        "\n",
        "      print(\"epoch:\",epoch,\"training loss:\",loss_train[epoch],\"training accuracy\",acc_train[epoch],\"validation accuracy\",acc_val[epoch])\n",
        "\n",
        "      wandb.log({'epoch':epoch,'training_loss':loss_train[epoch],'training_accuracy':acc_train[epoch], 'validation_accuracy':acc_val[epoch] })\n",
        "\n",
        "\n",
        "\n",
        "    return Y_pred_final,acc_val\n",
        "\n",
        "\n",
        "  def nadam(self, epochs,num_examples, batch_size, learning_rate, lamda ):\n",
        "        \n",
        "    \n",
        "    X_train = self.X_train[:, :num_examples]\n",
        "    Y_train = self.Y_train[:, :num_examples]        \n",
        "    num_layers=len(self.layers)\n",
        "    \n",
        "\n",
        "    eta=learning_rate\n",
        "    loss_train = []\n",
        "    acc_train = []\n",
        "    acc_val = []\n",
        "    del_w={}\n",
        "    del_b={}\n",
        "    \n",
        "    m_update_w={}\n",
        "    m_update_b={}\n",
        "\n",
        "    m_bias_corr_update_w={}\n",
        "    m_bias_corr_update_b={}\n",
        "    \n",
        "    v_update_w={}\n",
        "    v_update_b={}\n",
        "\n",
        "    v_bias_corr_update_w={}\n",
        "    v_bias_corr_update_b={}\n",
        "    \n",
        "    eps=10**(-8)\n",
        "    beta1=0.9\n",
        "    beta2=0.95\n",
        "\n",
        "    \n",
        "    #initialize update\n",
        "    for k in range(num_layers-1):\n",
        "      m_update_w[k+1] = np.zeros((self.layers[k + 1], self.layers[k]))\n",
        "      m_update_b[k+1] =np.zeros((self.layers[k + 1], 1))\n",
        "\n",
        "      m_bias_corr_update_w[k+1] = np.zeros((self.layers[k + 1], self.layers[k]))\n",
        "      m_bias_corr_update_b[k+1] =np.zeros((self.layers[k + 1], 1))\n",
        "\n",
        "      v_update_w[k+1] = np.zeros((self.layers[k + 1], self.layers[k]))\n",
        "      v_update_b[k+1] =np.zeros((self.layers[k + 1], 1))\n",
        "\n",
        "      v_bias_corr_update_w[k+1] = np.zeros((self.layers[k + 1], self.layers[k]))\n",
        "      v_bias_corr_update_b[k+1] =np.zeros((self.layers[k + 1], 1))\n",
        "\n",
        "    num_points_seen = 0\n",
        "    \n",
        "    for epoch in range(epochs):\n",
        "      \n",
        "      loss_per_point=0\n",
        "      #initializing del_w and del_b\n",
        "      \n",
        "      for k in range(num_layers-1):\n",
        "        del_w[k+1] = np.zeros((self.layers[k + 1], self.layers[k]))\n",
        "        del_b[k+1] =np.zeros((self.layers[k + 1], 1))\n",
        "      \n",
        "      \n",
        "\n",
        "      for i in range(X_train.shape[1]):\n",
        "        Y,H,A = self.forwardPropagate(self.X_train[:,i].reshape(784,1), self.W, self.b) \n",
        "        grad_w, grad_b = self.backPropagate(Y,H,A,self.Y_train[:,i].reshape(10,1))\n",
        "        \n",
        "        #add grad of weights and biases to get del_w and del_b\n",
        "        for k in range(num_layers-1):\n",
        "          del_w[k+1]=del_w[k+1] + grad_w[k+1]\n",
        "          del_b[k+1]=del_b[k+1] + grad_b[k+1]\n",
        "    \n",
        "        #loss_per_point= loss_per_point+ self.cross_entropy_loss(Y_train[:, i].reshape(10, 1), Y )+self.L2_loss(lamda)\n",
        "        loss_per_point= loss_per_point+ self.mse_loss(Y_train[:, i].reshape(10, 1), Y )+self.L2_loss(lamda)\n",
        "      \n",
        "        num_points_seen +=1\n",
        "      \n",
        "        if num_points_seen % batch_size == 0:\n",
        "          #updating history in batch\n",
        "          for k in range(num_layers-1):\n",
        "            \n",
        "            m_update_w[k+1]=beta1*m_update_w[k+1]+ (1-beta1)*(del_w[k+1]) \n",
        "            m_update_b[k+1]=beta1*v_update_b[k+1]+ (1-beta1)*(del_b[k+1])\n",
        "            \n",
        "            v_update_w[k+1]=beta2*v_update_w[k+1]+ (1-beta2)*((del_w[k+1])**2) \n",
        "            v_update_b[k+1]=beta2*v_update_b[k+1]+ (1-beta2)*((del_b[k+1])**2)\n",
        "\n",
        "            #beta**epoch+1 as epoch=0 it will be inf\n",
        "            m_bias_corr_update_w[k+1]=m_update_w[k+1]/(1-((beta1)**(epoch+1)))\n",
        "            m_bias_corr_update_b[k+1]=m_update_b[k+1]/(1-((beta1)**(epoch+1)))\n",
        "\n",
        "            v_bias_corr_update_w[k+1]=v_update_w[k+1]/(1-((beta2)**(epoch+1)))\n",
        "            v_bias_corr_update_b[k+1]=v_update_b[k+1]/(1-((beta2)**(epoch+1)))\n",
        "\n",
        "            \n",
        "          for k in range(num_layers-1):\n",
        "            self.W[k+1]=self.W[k+1] - ((beta1*m_bias_corr_update_w[k+1]+((1-beta1)/(1-(beta1)**(epoch+1)))*del_w[k+1])*(eta))/((np.sqrt(v_bias_corr_update_w[k+1]+eps)))\n",
        "            self.b[k+1]=self.b[k+1] - ((beta1*m_bias_corr_update_b[k+1]+((1-beta1)/(1-(beta1)**(epoch+1)))*del_b[k+1])*(eta)/(np.sqrt(v_bias_corr_update_b[k+1]+eps)))\n",
        "\n",
        "        \n",
        "          for k in range(num_layers-1):\n",
        "            del_w[k+1] = np.zeros((self.layers[k + 1], self.layers[k]))\n",
        "            del_b[k+1] =np.zeros((self.layers[k + 1], 1))\n",
        "      \n",
        "\n",
        "      #loss    \n",
        "      loss_train.append(loss_per_point/X_train.shape[1])\n",
        "\n",
        "      #accuracy \n",
        "      Y_pred_final = self.predict(self.X_train,self.num_examples_train)\n",
        "      acc_train.append(self.accuracy(Y_train, Y_pred_final, num_examples))\n",
        "      acc_val.append(self.accuracy(self.Y_val, self.predict(self.X_val, self.num_examples_val), self.num_examples_val))\n",
        "\n",
        "      print(\"epoch:\",epoch,\"training loss:\",loss_train[epoch],\"training accuracy\",acc_train[epoch],\"validation accuracy\",acc_val[epoch])\n",
        "\n",
        "      wandb.log({'epoch':epoch,'training_loss':loss_train[epoch],'training_accuracy':acc_train[epoch], 'validation_accuracy':acc_val[epoch] })\n",
        "\n",
        "\n",
        "\n",
        "    return Y_pred_final,acc_val\n",
        "\n",
        "\n",
        "\n"
      ]
    },
    {
      "cell_type": "code",
      "execution_count": null,
      "metadata": {
        "colab": {
          "base_uri": "https://localhost:8080/",
          "height": 71
        },
        "id": "KlOPU1hF6SqX",
        "outputId": "512b6a5a-fc01-45f6-8f18-1fa3f4aa369b"
      },
      "outputs": [
        {
          "data": {
            "application/javascript": [
              "\n",
              "        window._wandbApiKey = new Promise((resolve, reject) => {\n",
              "            function loadScript(url) {\n",
              "            return new Promise(function(resolve, reject) {\n",
              "                let newScript = document.createElement(\"script\");\n",
              "                newScript.onerror = reject;\n",
              "                newScript.onload = resolve;\n",
              "                document.body.appendChild(newScript);\n",
              "                newScript.src = url;\n",
              "            });\n",
              "            }\n",
              "            loadScript(\"https://cdn.jsdelivr.net/npm/postmate/build/postmate.min.js\").then(() => {\n",
              "            const iframe = document.createElement('iframe')\n",
              "            iframe.style.cssText = \"width:0;height:0;border:none\"\n",
              "            document.body.appendChild(iframe)\n",
              "            const handshake = new Postmate({\n",
              "                container: iframe,\n",
              "                url: 'https://wandb.ai/authorize'\n",
              "            });\n",
              "            const timeout = setTimeout(() => reject(\"Couldn't auto authenticate\"), 5000)\n",
              "            handshake.then(function(child) {\n",
              "                child.on('authorize', data => {\n",
              "                    clearTimeout(timeout)\n",
              "                    resolve(data)\n",
              "                });\n",
              "            });\n",
              "            })\n",
              "        });\n",
              "    "
            ],
            "text/plain": [
              "<IPython.core.display.Javascript object>"
            ]
          },
          "metadata": {},
          "output_type": "display_data"
        },
        {
          "name": "stderr",
          "output_type": "stream",
          "text": [
            "\u001b[34m\u001b[1mwandb\u001b[0m: Appending key for api.wandb.ai to your netrc file: /root/.netrc\n"
          ]
        },
        {
          "data": {
            "text/plain": [
              "True"
            ]
          },
          "execution_count": 13,
          "metadata": {},
          "output_type": "execute_result"
        }
      ],
      "source": [
        "wandb.login()"
      ]
    },
    {
      "cell_type": "code",
      "execution_count": null,
      "metadata": {
        "id": "PpuAMLF6xsVn"
      },
      "outputs": [],
      "source": [
        "sweep_config = {\"name\":\"Bayesian Sweep\",\n",
        "    'method':'bayes'\n",
        "    }\n",
        "metric_dict={\"name\":\"validation_accuracy\",\"goal\":\"maximize\"}\n",
        "sweep_config['metric'] = metric_dict\n",
        "\n",
        "parameters_dict = {\n",
        "    'optimizer': {\n",
        "        'values': ['adam','nadam']\n",
        "        },\n",
        "    'batch_size': {\n",
        "        'values': [16, 32, 64]\n",
        "        },\n",
        "    'max_epochs': {\n",
        "          'values': [5, 10]\n",
        "        },\n",
        "    'initializer': {\n",
        "            'values': [\"random\", \"xavier\"]\n",
        "        },\n",
        "\n",
        "    'num_hidden_layers': {\n",
        "            'values': [3, 4, 5]\n",
        "        },\n",
        "    'num_hidden_neurons':{'values':[32,64,128]\n",
        "                          },\n",
        "\n",
        "    'learning_rate':{'values':[0.001,0.0001]\n",
        "                     },\n",
        "\n",
        "    'lamda':{'values':[0,0.5,0.0005]\n",
        "             },\n",
        "    \n",
        "    'activation': {\n",
        "            'values': ['tanh','sigmoid']\n",
        "        }\n",
        "        \n",
        "\n",
        "    }\n",
        "sweep_config['parameters'] = parameters_dict"
      ]
    },
    {
      "cell_type": "code",
      "execution_count": null,
      "metadata": {
        "colab": {
          "base_uri": "https://localhost:8080/"
        },
        "id": "BY0i0uiq01MI",
        "outputId": "179f9c9a-cf24-4c66-af10-6127e328e86f"
      },
      "outputs": [
        {
          "name": "stdout",
          "output_type": "stream",
          "text": [
            "Create sweep with ID: uhpmy0e2\n",
            "Sweep URL: https://wandb.ai/dl22/Mse_loss_assignment1/sweeps/uhpmy0e2\n"
          ]
        }
      ],
      "source": [
        "sweep_id = wandb.sweep(sweep_config,project='Mse_loss_assignment1')"
      ]
    },
    {
      "cell_type": "code",
      "execution_count": null,
      "metadata": {
        "id": "kl38IqULqYuy"
      },
      "outputs": [],
      "source": [
        "def train_nw():\n",
        "  config_dict ={\"max_epochs\":10,\n",
        "            \"num_hidden_layers\":3,\n",
        "            \"num_hidden_neurons\":32,\n",
        "            \"lamda\":0.0005,\n",
        "            \"learning_rate\":0.001,\n",
        "            \"optimizer\":\"rmsprop\",\n",
        "            \"batch_size\":32,\n",
        "            \"activation\":\"tanh\",\n",
        "            \"initializer\":\"random\",\n",
        "            \"loss\":\"mse\",\n",
        "           }\n",
        "\n",
        "\n",
        "  wandb.init(config = config_dict)\n",
        "\n",
        "  wandb.run.name=\"hl_\"+str(wandb.config.num_hidden_layers)+\"_hn_\"+str(wandb.config.num_hidden_neurons)+\"_lr_\"+str(wandb.config.learning_rate)+ \"_opt_\"+str(wandb.config.optimizer)+\"_act_\"+str(wandb.config.activation)+\"_in_\"+str(wandb.config.initializer)+\"_bs_\"+str(wandb.config.batch_size)\n",
        "  \n",
        "  nn =neural_network2(num_hidden_layers=wandb.config.num_hidden_layers,\n",
        "        num_hidden_neurons=wandb.config.num_hidden_neurons,\n",
        "        X_train=X_train,\n",
        "        Y_train=Y_train,\n",
        "        num_examples_train = num_examples_train,\n",
        "        X_val = X_val,\n",
        "        Y_val = Y_val,\n",
        "        num_examples_val = num_examples_val,\n",
        "        optimizer = wandb.config.optimizer,\n",
        "        batch_size = wandb.config.batch_size,\n",
        "        lamda = wandb.config.lamda,\n",
        "        learning_rate = wandb.config.learning_rate,\n",
        "        max_epochs = wandb.config.max_epochs,\n",
        "        activation = wandb.config.activation,\n",
        "        initializer = wandb.config.initializer,\n",
        "        loss = wandb.config.loss\n",
        "        )\n",
        "\n",
        "  Y_pred_train,validation_accuracy = nn.optimizer(nn.max_epochs, nn.num_examples_train, nn.batch_size, nn.learning_rate,nn.lamda)"
      ]
    },
    {
      "cell_type": "code",
      "execution_count": null,
      "metadata": {
        "colab": {
          "background_save": true,
          "base_uri": "https://localhost:8080/",
          "height": 1000,
          "referenced_widgets": [
            "7dd99b46dec84740a6014998d33d49d0",
            "5aa3798c315e4617ad44e443b5bb9bd8",
            "3d98100083c34ce185aadf5aaefedbad",
            "ee2817e1afd445558a1bcc1d95e02998",
            "ace0f5af5e874eefbdffe3641be46a5e",
            "b66a302c71bc45018694a65b998c8cd7",
            "7ed4aa9e5cdf4ef4ae9d12f3e4d12a2b",
            "cd6783e3d0544f53a1c0f19e40e29631",
            "f774aab9436f4106969570b3d6837579",
            "ba0443de9a8446bb8d2fe5f4e94f3822",
            "074d750bd1cb4571a8876604c08b1e9c",
            "3fe328b1103947898fc81166efcf7bd4",
            "1daf0218a3cd478795a1e39aecf0f8d4",
            "fe5895f64c144e3e8135240e90a701ae",
            "6bc7064c5b604edfb455f46277cb7ad8",
            "7fb3549d8ae8489498a649743f9339ea",
            "604d85e2b44b47389c1d14fd45235ebd",
            "ad6ef06441244ac9aab50d6ee3fe0481",
            "19cdfdb2af9f4ca581908d96dedab4b3",
            "57ad78cb67214c1ba560e3fe662f34f4",
            "387e16d99a074c20a7ccf7839af4f54a",
            "902766760c1e4e0d816534a781e13458",
            "e3ee5c1dbacf45cd99919a991bdc18bc",
            "222b74d844e34070a7d9fdc3241c5c31",
            "0f017e21701b49a28dd400f2d6abd08f",
            "0e108d11c7a9401d9f82fb8e8e9bd174",
            "0346b09ce5454d479de19e608857e2a1",
            "040c4543a01c4a17afa7febf7afafe3d",
            "f336002f118b4dfda4def3319056017f",
            "80124d0ef28c418b941c49ffccf8c466",
            "fe638d70c4af46a8813120b30b1208b6",
            "5d0190b9828446ae9ef2acdf0f798997",
            "38ca03449a6e47fa87ac6b761d19dc09",
            "05d2a4b59c354ea9a173760102e452fe",
            "f91e3dc106f3492aa4cda959e507daf4",
            "5a446bf6b79a4a6e922785a1d5bd1453",
            "09bd729640bc4c46a31ae9a4cd3a3e82",
            "9103ebbba67e49caa6b9dc60c22c14ec",
            "fe4e0c9a000f4d08ae93070e5ed7438c",
            "f2159242d97e47f28b960320bab34366",
            "07eeea3711694c79a65cb461ad960642",
            "4fe8aca355414919a8ccfabafea4ba05",
            "bdcbab295dd74f2dad3e2c9f26afe02d",
            "ee3259e9f7fe49d9a2918e27ceeb09ea",
            "9566d64e40334be985d0df7715ccd286",
            "f29d00f4c0e742e3815e919d2345922c",
            "ccdaee27a99e4b78b2e2f7e1916a1a04",
            "bad27237c40c4da29fdcd98a11da77c6",
            "d2a532a5bb4f4250b2cb509e0a0723c0",
            "2ba20d9875d146fd9d379aee985565fd",
            "de29405de03e4b838db3b7b475a08321",
            "f886d16fbce04c1487be5ac7dca1e9b9",
            "2c1f90a1854c4d9198ae8bbcd0696b74",
            "e18f6a0b9e394a5a9e3dbb2f8db699cd",
            "fc1128ebec354fd2bf0076ae54a66d01",
            "55cbaf68ba68484fbff050514af5194e",
            "5583764318104cdf909f7154989e1bc9",
            "50d682d3549d41168a06a2828c15b813",
            "b8237753ebc94e5096ba3d30c71f7f05",
            "ec374db94c754873b12fb2b2f0b77d87",
            "ffbb671f5925434580ac41217f1e3a00",
            "40b3af9dd0434079837ab37f74e291be",
            "90fae63fbcbc41f29592ce3812cef5e5",
            "32390f0a695e4b79b601725f62826aee",
            "646ffb4ffdae4f2e84d1bda295ac218c",
            "444cc2eb9ce949dfb5f6dd727a1eaf26",
            "7e75bb6e7a91458f99f85093f15f5926",
            "d87fbbfad60c41a6b0ffdfda5f4ef12b",
            "7ee292fdd6f14d91a82f90e958829144",
            "e2ac69530bae498abb536e59c93f6d4d",
            "732fbb49d7434581a547291a14a72263",
            "c5e9e2c66e414c3ea57864b0a24be9d5",
            "f1a8916d53e1415883b81f0990fd718f",
            "c3a090fd38954821b1d976adf5b33771",
            "91682812ba234cd7aa0c8d4d35e2317c",
            "3ad927a9b5154754b2e77629d9ec6744",
            "7f0f75026f0c402ebef5d5b02533805d",
            "1861f716b6584dfab2b6a23ca9b5ae89",
            "c959b344a40e45c2b4ee073cfe7bebb6",
            "49289ad2f7a642f5861bfcd8887bdd1a",
            "2e449d0b01f640cb9bb714a5d7dc59a7",
            "d7a655d4b89f4e3f98972ddd094d60a3",
            "1e23ab75ca914821b8da2279127fb9f9",
            "c422926308764ba8a1407272fce06549",
            "9aeb0c1ae1c3411b912e2bbc73713c3c",
            "80929385513a47a2bb34d4f2c3fa13b8",
            "7bc8cd912be141b689fecb21e20ded99",
            "3d116f71c161423ca8a100d3636be033",
            "fdfd13a8d09140a48217ec9db34b5fba",
            "052ef6fcdd3646a79f7e852e42ebdc91",
            "fa69a9da4f36462da21ccadaf7734d0d",
            "7b659f180aec4237be0119d6eb5a3121",
            "129fd310682b42c9bfbec12ead7c69d2",
            "85b33fa567a649949cfff68061e73aef",
            "0fa9bbd2dd01448cb8c13bc6e6ecc4df",
            "3d244faea4bb4af7b355b9a8df5bad79",
            "8e058e40c0d24b59b54c17d512e934f3",
            "5d8a57a49fd749ee9381676ffd4ffd33",
            "a54154098d47412eadd2b1cd9d4ad0c1",
            "c2f00ffb28764a60998d693f00a59707",
            "4a8946fe5b42483dbd7998a757db9aa0",
            "57d9249d594746bc8f06039b0a7c9258",
            "61e2dafb943d4e0b84f066c091c0893f",
            "7c7e7754a4c54286b84563c1a732a13a",
            "4c5b4e71f32a4457887dfd48c1847b82",
            "5e35e8a25b184b35ac641cecc0011103",
            "a62caf0627104d0b918d09d5258d8293",
            "22f829b492a747c58dc4aed1531904a7",
            "09bbe19038ed4ae59ab27f83b30d1523",
            "610d73d0c3ab46f4aad41ddd216a69e8"
          ]
        },
        "id": "h05Gff8j1Z2Q",
        "outputId": "291008cf-841a-4044-da6d-bd50563e6a94"
      },
      "outputs": [
        {
          "name": "stderr",
          "output_type": "stream",
          "text": [
            "\u001b[34m\u001b[1mwandb\u001b[0m: Agent Starting Run: 9yyab3kf with config:\n",
            "\u001b[34m\u001b[1mwandb\u001b[0m: \tactivation: tanh\n",
            "\u001b[34m\u001b[1mwandb\u001b[0m: \tbatch_size: 64\n",
            "\u001b[34m\u001b[1mwandb\u001b[0m: \tinitializer: xavier\n",
            "\u001b[34m\u001b[1mwandb\u001b[0m: \tlamda: 0.0005\n",
            "\u001b[34m\u001b[1mwandb\u001b[0m: \tlearning_rate: 0.001\n",
            "\u001b[34m\u001b[1mwandb\u001b[0m: \tmax_epochs: 5\n",
            "\u001b[34m\u001b[1mwandb\u001b[0m: \tnum_hidden_layers: 5\n",
            "\u001b[34m\u001b[1mwandb\u001b[0m: \tnum_hidden_neurons: 64\n",
            "\u001b[34m\u001b[1mwandb\u001b[0m: \toptimizer: adam\n",
            "\u001b[34m\u001b[1mwandb\u001b[0m: Currently logged in as: \u001b[33mdl22\u001b[0m (use `wandb login --relogin` to force relogin)\n"
          ]
        },
        {
          "data": {
            "text/html": [
              "\n",
              "                    Syncing run <strong><a href=\"https://wandb.ai/dl22/Mse_loss_assignment1/runs/9yyab3kf\" target=\"_blank\">misty-sweep-1</a></strong> to <a href=\"https://wandb.ai/dl22/Mse_loss_assignment1\" target=\"_blank\">Weights & Biases</a> (<a href=\"https://docs.wandb.com/integrations/jupyter.html\" target=\"_blank\">docs</a>).<br/>\n",
              "Sweep page: <a href=\"https://wandb.ai/dl22/Mse_loss_assignment1/sweeps/uhpmy0e2\" target=\"_blank\">https://wandb.ai/dl22/Mse_loss_assignment1/sweeps/uhpmy0e2</a><br/>\n",
              "\n",
              "                "
            ],
            "text/plain": [
              "<IPython.core.display.HTML object>"
            ]
          },
          "metadata": {},
          "output_type": "display_data"
        },
        {
          "name": "stdout",
          "output_type": "stream",
          "text": [
            "epoch: 0 training loss: 0.13890053132143823 training accuracy 0.8351296296296297 validation accuracy 0.829\n",
            "epoch: 1 training loss: 0.10710135497248852 training accuracy 0.8495370370370371 validation accuracy 0.8415\n",
            "epoch: 2 training loss: 0.09737177758166375 training accuracy 0.8777592592592592 validation accuracy 0.8611666666666666\n",
            "epoch: 3 training loss: 0.09157062689521855 training accuracy 0.8763518518518518 validation accuracy 0.864\n",
            "epoch: 4 training loss: 0.08803368915964634 training accuracy 0.8817592592592592 validation accuracy 0.8598333333333333\n"
          ]
        },
        {
          "data": {
            "text/html": [
              "<br/>Waiting for W&B process to finish, PID 248... <strong style=\"color:green\">(success).</strong>"
            ],
            "text/plain": [
              "<IPython.core.display.HTML object>"
            ]
          },
          "metadata": {},
          "output_type": "display_data"
        },
        {
          "data": {
            "application/vnd.jupyter.widget-view+json": {
              "model_id": "7dd99b46dec84740a6014998d33d49d0",
              "version_major": 2,
              "version_minor": 0
            },
            "text/plain": [
              "VBox(children=(Label(value=' 0.00MB of 0.00MB uploaded (0.00MB deduped)\\r'), FloatProgress(value=1.0, max=1.0)…"
            ]
          },
          "metadata": {},
          "output_type": "display_data"
        },
        {
          "data": {
            "text/html": [
              "<style>\n",
              "    table.wandb td:nth-child(1) { padding: 0 10px; text-align: right }\n",
              "    .wandb-row { display: flex; flex-direction: row; flex-wrap: wrap; width: 100% }\n",
              "    .wandb-col { display: flex; flex-direction: column; flex-basis: 100%; flex: 1; padding: 10px; }\n",
              "    </style>\n",
              "<div class=\"wandb-row\"><div class=\"wandb-col\">\n",
              "<h3>Run history:</h3><br/><table class=\"wandb\"><tr><td>epoch</td><td>▁▃▅▆█</td></tr><tr><td>training_accuracy</td><td>▁▃▇▇█</td></tr><tr><td>training_loss</td><td>█▄▂▁▁</td></tr><tr><td>validation_accuracy</td><td>▁▃▇█▇</td></tr></table><br/></div><div class=\"wandb-col\">\n",
              "<h3>Run summary:</h3><br/><table class=\"wandb\"><tr><td>epoch</td><td>4</td></tr><tr><td>training_accuracy</td><td>0.88176</td></tr><tr><td>training_loss</td><td>0.08803</td></tr><tr><td>validation_accuracy</td><td>0.85983</td></tr></table>\n",
              "</div></div>\n",
              "Synced 5 W&B file(s), 0 media file(s), 0 artifact file(s) and 0 other file(s)\n",
              "<br/>Synced <strong style=\"color:#cdcd00\">misty-sweep-1</strong>: <a href=\"https://wandb.ai/dl22/Mse_loss_assignment1/runs/9yyab3kf\" target=\"_blank\">https://wandb.ai/dl22/Mse_loss_assignment1/runs/9yyab3kf</a><br/>\n",
              "Find logs at: <code>./wandb/run-20220224_105836-9yyab3kf/logs</code><br/>\n"
            ],
            "text/plain": [
              "<IPython.core.display.HTML object>"
            ]
          },
          "metadata": {},
          "output_type": "display_data"
        },
        {
          "name": "stderr",
          "output_type": "stream",
          "text": [
            "\u001b[34m\u001b[1mwandb\u001b[0m: Agent Starting Run: 4leywg2g with config:\n",
            "\u001b[34m\u001b[1mwandb\u001b[0m: \tactivation: sigmoid\n",
            "\u001b[34m\u001b[1mwandb\u001b[0m: \tbatch_size: 16\n",
            "\u001b[34m\u001b[1mwandb\u001b[0m: \tinitializer: xavier\n",
            "\u001b[34m\u001b[1mwandb\u001b[0m: \tlamda: 0.0005\n",
            "\u001b[34m\u001b[1mwandb\u001b[0m: \tlearning_rate: 0.0001\n",
            "\u001b[34m\u001b[1mwandb\u001b[0m: \tmax_epochs: 10\n",
            "\u001b[34m\u001b[1mwandb\u001b[0m: \tnum_hidden_layers: 5\n",
            "\u001b[34m\u001b[1mwandb\u001b[0m: \tnum_hidden_neurons: 64\n",
            "\u001b[34m\u001b[1mwandb\u001b[0m: \toptimizer: nadam\n"
          ]
        },
        {
          "data": {
            "text/html": [
              "\n",
              "                    Syncing run <strong><a href=\"https://wandb.ai/dl22/Mse_loss_assignment1/runs/4leywg2g\" target=\"_blank\">generous-sweep-2</a></strong> to <a href=\"https://wandb.ai/dl22/Mse_loss_assignment1\" target=\"_blank\">Weights & Biases</a> (<a href=\"https://docs.wandb.com/integrations/jupyter.html\" target=\"_blank\">docs</a>).<br/>\n",
              "Sweep page: <a href=\"https://wandb.ai/dl22/Mse_loss_assignment1/sweeps/uhpmy0e2\" target=\"_blank\">https://wandb.ai/dl22/Mse_loss_assignment1/sweeps/uhpmy0e2</a><br/>\n",
              "\n",
              "                "
            ],
            "text/plain": [
              "<IPython.core.display.HTML object>"
            ]
          },
          "metadata": {},
          "output_type": "display_data"
        },
        {
          "name": "stdout",
          "output_type": "stream",
          "text": [
            "epoch: 0 training loss: 0.3687196690162817 training accuracy 0.6370925925925925 validation accuracy 0.6365\n",
            "epoch: 1 training loss: 0.22614578926499268 training accuracy 0.7174814814814815 validation accuracy 0.7111666666666666\n",
            "epoch: 2 training loss: 0.1887874898855703 training accuracy 0.7703518518518518 validation accuracy 0.7656666666666667\n",
            "epoch: 3 training loss: 0.1664253694723125 training accuracy 0.7885925925925926 validation accuracy 0.7831666666666667\n",
            "epoch: 4 training loss: 0.15483502318930917 training accuracy 0.8003703703703704 validation accuracy 0.7918333333333333\n",
            "epoch: 5 training loss: 0.1480106526227338 training accuracy 0.8086851851851852 validation accuracy 0.7978333333333333\n",
            "epoch: 6 training loss: 0.1432600206030369 training accuracy 0.8170185185185185 validation accuracy 0.8028333333333333\n",
            "epoch: 7 training loss: 0.1394344321850973 training accuracy 0.8255555555555556 validation accuracy 0.8123333333333334\n",
            "epoch: 8 training loss: 0.1361096435639762 training accuracy 0.8335185185185185 validation accuracy 0.8198333333333333\n",
            "epoch: 9 training loss: 0.13313499524157382 training accuracy 0.8417962962962963 validation accuracy 0.8245\n"
          ]
        },
        {
          "data": {
            "text/html": [
              "<br/>Waiting for W&B process to finish, PID 341... <strong style=\"color:green\">(success).</strong>"
            ],
            "text/plain": [
              "<IPython.core.display.HTML object>"
            ]
          },
          "metadata": {},
          "output_type": "display_data"
        },
        {
          "data": {
            "application/vnd.jupyter.widget-view+json": {
              "model_id": "f774aab9436f4106969570b3d6837579",
              "version_major": 2,
              "version_minor": 0
            },
            "text/plain": [
              "VBox(children=(Label(value=' 0.00MB of 0.00MB uploaded (0.00MB deduped)\\r'), FloatProgress(value=1.0, max=1.0)…"
            ]
          },
          "metadata": {},
          "output_type": "display_data"
        },
        {
          "data": {
            "text/html": [
              "<style>\n",
              "    table.wandb td:nth-child(1) { padding: 0 10px; text-align: right }\n",
              "    .wandb-row { display: flex; flex-direction: row; flex-wrap: wrap; width: 100% }\n",
              "    .wandb-col { display: flex; flex-direction: column; flex-basis: 100%; flex: 1; padding: 10px; }\n",
              "    </style>\n",
              "<div class=\"wandb-row\"><div class=\"wandb-col\">\n",
              "<h3>Run history:</h3><br/><table class=\"wandb\"><tr><td>epoch</td><td>▁▂▃▃▄▅▆▆▇█</td></tr><tr><td>training_accuracy</td><td>▁▄▆▆▇▇▇▇██</td></tr><tr><td>training_loss</td><td>█▄▃▂▂▁▁▁▁▁</td></tr><tr><td>validation_accuracy</td><td>▁▄▆▆▇▇▇███</td></tr></table><br/></div><div class=\"wandb-col\">\n",
              "<h3>Run summary:</h3><br/><table class=\"wandb\"><tr><td>epoch</td><td>9</td></tr><tr><td>training_accuracy</td><td>0.8418</td></tr><tr><td>training_loss</td><td>0.13313</td></tr><tr><td>validation_accuracy</td><td>0.8245</td></tr></table>\n",
              "</div></div>\n",
              "Synced 5 W&B file(s), 0 media file(s), 0 artifact file(s) and 0 other file(s)\n",
              "<br/>Synced <strong style=\"color:#cdcd00\">generous-sweep-2</strong>: <a href=\"https://wandb.ai/dl22/Mse_loss_assignment1/runs/4leywg2g\" target=\"_blank\">https://wandb.ai/dl22/Mse_loss_assignment1/runs/4leywg2g</a><br/>\n",
              "Find logs at: <code>./wandb/run-20220224_110411-4leywg2g/logs</code><br/>\n"
            ],
            "text/plain": [
              "<IPython.core.display.HTML object>"
            ]
          },
          "metadata": {},
          "output_type": "display_data"
        },
        {
          "name": "stderr",
          "output_type": "stream",
          "text": [
            "\u001b[34m\u001b[1mwandb\u001b[0m: Agent Starting Run: awhg8tes with config:\n",
            "\u001b[34m\u001b[1mwandb\u001b[0m: \tactivation: tanh\n",
            "\u001b[34m\u001b[1mwandb\u001b[0m: \tbatch_size: 16\n",
            "\u001b[34m\u001b[1mwandb\u001b[0m: \tinitializer: xavier\n",
            "\u001b[34m\u001b[1mwandb\u001b[0m: \tlamda: 0.0005\n",
            "\u001b[34m\u001b[1mwandb\u001b[0m: \tlearning_rate: 0.0001\n",
            "\u001b[34m\u001b[1mwandb\u001b[0m: \tmax_epochs: 5\n",
            "\u001b[34m\u001b[1mwandb\u001b[0m: \tnum_hidden_layers: 4\n",
            "\u001b[34m\u001b[1mwandb\u001b[0m: \tnum_hidden_neurons: 32\n",
            "\u001b[34m\u001b[1mwandb\u001b[0m: \toptimizer: adam\n"
          ]
        },
        {
          "data": {
            "text/html": [
              "\n",
              "                    Syncing run <strong><a href=\"https://wandb.ai/dl22/Mse_loss_assignment1/runs/awhg8tes\" target=\"_blank\">copper-sweep-3</a></strong> to <a href=\"https://wandb.ai/dl22/Mse_loss_assignment1\" target=\"_blank\">Weights & Biases</a> (<a href=\"https://docs.wandb.com/integrations/jupyter.html\" target=\"_blank\">docs</a>).<br/>\n",
              "Sweep page: <a href=\"https://wandb.ai/dl22/Mse_loss_assignment1/sweeps/uhpmy0e2\" target=\"_blank\">https://wandb.ai/dl22/Mse_loss_assignment1/sweeps/uhpmy0e2</a><br/>\n",
              "\n",
              "                "
            ],
            "text/plain": [
              "<IPython.core.display.HTML object>"
            ]
          },
          "metadata": {},
          "output_type": "display_data"
        },
        {
          "name": "stdout",
          "output_type": "stream",
          "text": [
            "epoch: 0 training loss: 0.16259065040681794 training accuracy 0.8462037037037037 validation accuracy 0.8373333333333334\n",
            "epoch: 1 training loss: 0.11107860778342919 training accuracy 0.8629074074074075 validation accuracy 0.8508333333333333\n",
            "epoch: 2 training loss: 0.10266134425110804 training accuracy 0.8697777777777778 validation accuracy 0.8576666666666667\n",
            "epoch: 3 training loss: 0.09787095325868973 training accuracy 0.8741666666666666 validation accuracy 0.8591666666666666\n",
            "epoch: 4 training loss: 0.09461548805259579 training accuracy 0.8778703703703704 validation accuracy 0.8625\n"
          ]
        },
        {
          "data": {
            "text/html": [
              "<br/>Waiting for W&B process to finish, PID 380... <strong style=\"color:green\">(success).</strong>"
            ],
            "text/plain": [
              "<IPython.core.display.HTML object>"
            ]
          },
          "metadata": {},
          "output_type": "display_data"
        },
        {
          "data": {
            "application/vnd.jupyter.widget-view+json": {
              "model_id": "604d85e2b44b47389c1d14fd45235ebd",
              "version_major": 2,
              "version_minor": 0
            },
            "text/plain": [
              "VBox(children=(Label(value=' 0.00MB of 0.00MB uploaded (0.00MB deduped)\\r'), FloatProgress(value=1.0, max=1.0)…"
            ]
          },
          "metadata": {},
          "output_type": "display_data"
        },
        {
          "data": {
            "text/html": [
              "<style>\n",
              "    table.wandb td:nth-child(1) { padding: 0 10px; text-align: right }\n",
              "    .wandb-row { display: flex; flex-direction: row; flex-wrap: wrap; width: 100% }\n",
              "    .wandb-col { display: flex; flex-direction: column; flex-basis: 100%; flex: 1; padding: 10px; }\n",
              "    </style>\n",
              "<div class=\"wandb-row\"><div class=\"wandb-col\">\n",
              "<h3>Run history:</h3><br/><table class=\"wandb\"><tr><td>epoch</td><td>▁▃▅▆█</td></tr><tr><td>training_accuracy</td><td>▁▅▆▇█</td></tr><tr><td>training_loss</td><td>█▃▂▁▁</td></tr><tr><td>validation_accuracy</td><td>▁▅▇▇█</td></tr></table><br/></div><div class=\"wandb-col\">\n",
              "<h3>Run summary:</h3><br/><table class=\"wandb\"><tr><td>epoch</td><td>4</td></tr><tr><td>training_accuracy</td><td>0.87787</td></tr><tr><td>training_loss</td><td>0.09462</td></tr><tr><td>validation_accuracy</td><td>0.8625</td></tr></table>\n",
              "</div></div>\n",
              "Synced 5 W&B file(s), 0 media file(s), 0 artifact file(s) and 0 other file(s)\n",
              "<br/>Synced <strong style=\"color:#cdcd00\">copper-sweep-3</strong>: <a href=\"https://wandb.ai/dl22/Mse_loss_assignment1/runs/awhg8tes\" target=\"_blank\">https://wandb.ai/dl22/Mse_loss_assignment1/runs/awhg8tes</a><br/>\n",
              "Find logs at: <code>./wandb/run-20220224_111718-awhg8tes/logs</code><br/>\n"
            ],
            "text/plain": [
              "<IPython.core.display.HTML object>"
            ]
          },
          "metadata": {},
          "output_type": "display_data"
        },
        {
          "name": "stderr",
          "output_type": "stream",
          "text": [
            "\u001b[34m\u001b[1mwandb\u001b[0m: Agent Starting Run: af44dwnm with config:\n",
            "\u001b[34m\u001b[1mwandb\u001b[0m: \tactivation: sigmoid\n",
            "\u001b[34m\u001b[1mwandb\u001b[0m: \tbatch_size: 64\n",
            "\u001b[34m\u001b[1mwandb\u001b[0m: \tinitializer: random\n",
            "\u001b[34m\u001b[1mwandb\u001b[0m: \tlamda: 0.5\n",
            "\u001b[34m\u001b[1mwandb\u001b[0m: \tlearning_rate: 0.0001\n",
            "\u001b[34m\u001b[1mwandb\u001b[0m: \tmax_epochs: 5\n",
            "\u001b[34m\u001b[1mwandb\u001b[0m: \tnum_hidden_layers: 3\n",
            "\u001b[34m\u001b[1mwandb\u001b[0m: \tnum_hidden_neurons: 128\n",
            "\u001b[34m\u001b[1mwandb\u001b[0m: \toptimizer: adam\n"
          ]
        },
        {
          "data": {
            "text/html": [
              "\n",
              "                    Syncing run <strong><a href=\"https://wandb.ai/dl22/Mse_loss_assignment1/runs/af44dwnm\" target=\"_blank\">sandy-sweep-4</a></strong> to <a href=\"https://wandb.ai/dl22/Mse_loss_assignment1\" target=\"_blank\">Weights & Biases</a> (<a href=\"https://docs.wandb.com/integrations/jupyter.html\" target=\"_blank\">docs</a>).<br/>\n",
              "Sweep page: <a href=\"https://wandb.ai/dl22/Mse_loss_assignment1/sweeps/uhpmy0e2\" target=\"_blank\">https://wandb.ai/dl22/Mse_loss_assignment1/sweeps/uhpmy0e2</a><br/>\n",
              "\n",
              "                "
            ],
            "text/plain": [
              "<IPython.core.display.HTML object>"
            ]
          },
          "metadata": {},
          "output_type": "display_data"
        },
        {
          "name": "stdout",
          "output_type": "stream",
          "text": [
            "epoch: 0 training loss: 264.5641437955353 training accuracy 0.6816851851851852 validation accuracy 0.6808333333333333\n",
            "epoch: 1 training loss: 264.42856620783766 training accuracy 0.7537777777777778 validation accuracy 0.7431666666666666\n",
            "epoch: 2 training loss: 264.43986716134566 training accuracy 0.7739814814814815 validation accuracy 0.7601666666666667\n",
            "epoch: 3 training loss: 264.4594020815381 training accuracy 0.7861111111111111 validation accuracy 0.769\n",
            "epoch: 4 training loss: 264.48150516261455 training accuracy 0.7943148148148148 validation accuracy 0.7763333333333333\n"
          ]
        },
        {
          "data": {
            "text/html": [
              "<br/>Waiting for W&B process to finish, PID 419... <strong style=\"color:green\">(success).</strong>"
            ],
            "text/plain": [
              "<IPython.core.display.HTML object>"
            ]
          },
          "metadata": {},
          "output_type": "display_data"
        },
        {
          "data": {
            "application/vnd.jupyter.widget-view+json": {
              "model_id": "0f017e21701b49a28dd400f2d6abd08f",
              "version_major": 2,
              "version_minor": 0
            },
            "text/plain": [
              "VBox(children=(Label(value=' 0.00MB of 0.00MB uploaded (0.00MB deduped)\\r'), FloatProgress(value=1.0, max=1.0)…"
            ]
          },
          "metadata": {},
          "output_type": "display_data"
        },
        {
          "data": {
            "text/html": [
              "<style>\n",
              "    table.wandb td:nth-child(1) { padding: 0 10px; text-align: right }\n",
              "    .wandb-row { display: flex; flex-direction: row; flex-wrap: wrap; width: 100% }\n",
              "    .wandb-col { display: flex; flex-direction: column; flex-basis: 100%; flex: 1; padding: 10px; }\n",
              "    </style>\n",
              "<div class=\"wandb-row\"><div class=\"wandb-col\">\n",
              "<h3>Run history:</h3><br/><table class=\"wandb\"><tr><td>epoch</td><td>▁▃▅▆█</td></tr><tr><td>training_accuracy</td><td>▁▅▇▇█</td></tr><tr><td>training_loss</td><td>█▁▂▃▄</td></tr><tr><td>validation_accuracy</td><td>▁▆▇▇█</td></tr></table><br/></div><div class=\"wandb-col\">\n",
              "<h3>Run summary:</h3><br/><table class=\"wandb\"><tr><td>epoch</td><td>4</td></tr><tr><td>training_accuracy</td><td>0.79431</td></tr><tr><td>training_loss</td><td>264.48151</td></tr><tr><td>validation_accuracy</td><td>0.77633</td></tr></table>\n",
              "</div></div>\n",
              "Synced 5 W&B file(s), 0 media file(s), 0 artifact file(s) and 0 other file(s)\n",
              "<br/>Synced <strong style=\"color:#cdcd00\">sandy-sweep-4</strong>: <a href=\"https://wandb.ai/dl22/Mse_loss_assignment1/runs/af44dwnm\" target=\"_blank\">https://wandb.ai/dl22/Mse_loss_assignment1/runs/af44dwnm</a><br/>\n",
              "Find logs at: <code>./wandb/run-20220224_112019-af44dwnm/logs</code><br/>\n"
            ],
            "text/plain": [
              "<IPython.core.display.HTML object>"
            ]
          },
          "metadata": {},
          "output_type": "display_data"
        },
        {
          "name": "stderr",
          "output_type": "stream",
          "text": [
            "\u001b[34m\u001b[1mwandb\u001b[0m: Agent Starting Run: 9hsrhpl7 with config:\n",
            "\u001b[34m\u001b[1mwandb\u001b[0m: \tactivation: tanh\n",
            "\u001b[34m\u001b[1mwandb\u001b[0m: \tbatch_size: 64\n",
            "\u001b[34m\u001b[1mwandb\u001b[0m: \tinitializer: xavier\n",
            "\u001b[34m\u001b[1mwandb\u001b[0m: \tlamda: 0.5\n",
            "\u001b[34m\u001b[1mwandb\u001b[0m: \tlearning_rate: 0.0001\n",
            "\u001b[34m\u001b[1mwandb\u001b[0m: \tmax_epochs: 5\n",
            "\u001b[34m\u001b[1mwandb\u001b[0m: \tnum_hidden_layers: 5\n",
            "\u001b[34m\u001b[1mwandb\u001b[0m: \tnum_hidden_neurons: 64\n",
            "\u001b[34m\u001b[1mwandb\u001b[0m: \toptimizer: adam\n"
          ]
        },
        {
          "data": {
            "text/html": [
              "\n",
              "                    Syncing run <strong><a href=\"https://wandb.ai/dl22/Mse_loss_assignment1/runs/9hsrhpl7\" target=\"_blank\">balmy-sweep-5</a></strong> to <a href=\"https://wandb.ai/dl22/Mse_loss_assignment1\" target=\"_blank\">Weights & Biases</a> (<a href=\"https://docs.wandb.com/integrations/jupyter.html\" target=\"_blank\">docs</a>).<br/>\n",
              "Sweep page: <a href=\"https://wandb.ai/dl22/Mse_loss_assignment1/sweeps/uhpmy0e2\" target=\"_blank\">https://wandb.ai/dl22/Mse_loss_assignment1/sweeps/uhpmy0e2</a><br/>\n",
              "\n",
              "                "
            ],
            "text/plain": [
              "<IPython.core.display.HTML object>"
            ]
          },
          "metadata": {},
          "output_type": "display_data"
        },
        {
          "name": "stdout",
          "output_type": "stream",
          "text": [
            "epoch: 0 training loss: 2.6283114607130815 training accuracy 0.8373333333333334 validation accuracy 0.8251666666666667\n",
            "epoch: 1 training loss: 2.723727913808431 training accuracy 0.8548518518518519 validation accuracy 0.8441666666666666\n",
            "epoch: 2 training loss: 2.7756906420894865 training accuracy 0.8645555555555555 validation accuracy 0.8528333333333333\n",
            "epoch: 3 training loss: 2.814137134673102 training accuracy 0.8705 validation accuracy 0.8576666666666667\n",
            "epoch: 4 training loss: 2.8471450839842327 training accuracy 0.875537037037037 validation accuracy 0.862\n"
          ]
        },
        {
          "data": {
            "text/html": [
              "<br/>Waiting for W&B process to finish, PID 458... <strong style=\"color:green\">(success).</strong>"
            ],
            "text/plain": [
              "<IPython.core.display.HTML object>"
            ]
          },
          "metadata": {},
          "output_type": "display_data"
        },
        {
          "data": {
            "application/vnd.jupyter.widget-view+json": {
              "model_id": "38ca03449a6e47fa87ac6b761d19dc09",
              "version_major": 2,
              "version_minor": 0
            },
            "text/plain": [
              "VBox(children=(Label(value=' 0.00MB of 0.00MB uploaded (0.00MB deduped)\\r'), FloatProgress(value=1.0, max=1.0)…"
            ]
          },
          "metadata": {},
          "output_type": "display_data"
        },
        {
          "data": {
            "text/html": [
              "<style>\n",
              "    table.wandb td:nth-child(1) { padding: 0 10px; text-align: right }\n",
              "    .wandb-row { display: flex; flex-direction: row; flex-wrap: wrap; width: 100% }\n",
              "    .wandb-col { display: flex; flex-direction: column; flex-basis: 100%; flex: 1; padding: 10px; }\n",
              "    </style>\n",
              "<div class=\"wandb-row\"><div class=\"wandb-col\">\n",
              "<h3>Run history:</h3><br/><table class=\"wandb\"><tr><td>epoch</td><td>▁▃▅▆█</td></tr><tr><td>training_accuracy</td><td>▁▄▆▇█</td></tr><tr><td>training_loss</td><td>▁▄▆▇█</td></tr><tr><td>validation_accuracy</td><td>▁▅▆▇█</td></tr></table><br/></div><div class=\"wandb-col\">\n",
              "<h3>Run summary:</h3><br/><table class=\"wandb\"><tr><td>epoch</td><td>4</td></tr><tr><td>training_accuracy</td><td>0.87554</td></tr><tr><td>training_loss</td><td>2.84715</td></tr><tr><td>validation_accuracy</td><td>0.862</td></tr></table>\n",
              "</div></div>\n",
              "Synced 5 W&B file(s), 0 media file(s), 0 artifact file(s) and 0 other file(s)\n",
              "<br/>Synced <strong style=\"color:#cdcd00\">balmy-sweep-5</strong>: <a href=\"https://wandb.ai/dl22/Mse_loss_assignment1/runs/9hsrhpl7\" target=\"_blank\">https://wandb.ai/dl22/Mse_loss_assignment1/runs/9hsrhpl7</a><br/>\n",
              "Find logs at: <code>./wandb/run-20220224_112833-9hsrhpl7/logs</code><br/>\n"
            ],
            "text/plain": [
              "<IPython.core.display.HTML object>"
            ]
          },
          "metadata": {},
          "output_type": "display_data"
        },
        {
          "name": "stderr",
          "output_type": "stream",
          "text": [
            "\u001b[34m\u001b[1mwandb\u001b[0m: Sweep Agent: Waiting for job.\n",
            "\u001b[34m\u001b[1mwandb\u001b[0m: Job received.\n",
            "\u001b[34m\u001b[1mwandb\u001b[0m: Agent Starting Run: or2909lz with config:\n",
            "\u001b[34m\u001b[1mwandb\u001b[0m: \tactivation: tanh\n",
            "\u001b[34m\u001b[1mwandb\u001b[0m: \tbatch_size: 32\n",
            "\u001b[34m\u001b[1mwandb\u001b[0m: \tinitializer: xavier\n",
            "\u001b[34m\u001b[1mwandb\u001b[0m: \tlamda: 0.0005\n",
            "\u001b[34m\u001b[1mwandb\u001b[0m: \tlearning_rate: 0.0001\n",
            "\u001b[34m\u001b[1mwandb\u001b[0m: \tmax_epochs: 5\n",
            "\u001b[34m\u001b[1mwandb\u001b[0m: \tnum_hidden_layers: 4\n",
            "\u001b[34m\u001b[1mwandb\u001b[0m: \tnum_hidden_neurons: 32\n",
            "\u001b[34m\u001b[1mwandb\u001b[0m: \toptimizer: adam\n"
          ]
        },
        {
          "data": {
            "text/html": [
              "\n",
              "                    Syncing run <strong><a href=\"https://wandb.ai/dl22/Mse_loss_assignment1/runs/or2909lz\" target=\"_blank\">silver-sweep-6</a></strong> to <a href=\"https://wandb.ai/dl22/Mse_loss_assignment1\" target=\"_blank\">Weights & Biases</a> (<a href=\"https://docs.wandb.com/integrations/jupyter.html\" target=\"_blank\">docs</a>).<br/>\n",
              "Sweep page: <a href=\"https://wandb.ai/dl22/Mse_loss_assignment1/sweeps/uhpmy0e2\" target=\"_blank\">https://wandb.ai/dl22/Mse_loss_assignment1/sweeps/uhpmy0e2</a><br/>\n",
              "\n",
              "                "
            ],
            "text/plain": [
              "<IPython.core.display.HTML object>"
            ]
          },
          "metadata": {},
          "output_type": "display_data"
        },
        {
          "name": "stdout",
          "output_type": "stream",
          "text": [
            "epoch: 0 training loss: 0.1815181929949226 training accuracy 0.8333518518518519 validation accuracy 0.821\n",
            "epoch: 1 training loss: 0.11657309346782306 training accuracy 0.8466851851851852 validation accuracy 0.8311666666666667\n",
            "epoch: 2 training loss: 0.10695916090995583 training accuracy 0.8559074074074075 validation accuracy 0.841\n",
            "epoch: 3 training loss: 0.10156873023617534 training accuracy 0.8625555555555555 validation accuracy 0.847\n",
            "epoch: 4 training loss: 0.09794321892777513 training accuracy 0.868 validation accuracy 0.8521666666666666\n"
          ]
        },
        {
          "data": {
            "text/html": [
              "<br/>Waiting for W&B process to finish, PID 497... <strong style=\"color:green\">(success).</strong>"
            ],
            "text/plain": [
              "<IPython.core.display.HTML object>"
            ]
          },
          "metadata": {},
          "output_type": "display_data"
        },
        {
          "data": {
            "application/vnd.jupyter.widget-view+json": {
              "model_id": "07eeea3711694c79a65cb461ad960642",
              "version_major": 2,
              "version_minor": 0
            },
            "text/plain": [
              "VBox(children=(Label(value=' 0.00MB of 0.00MB uploaded (0.00MB deduped)\\r'), FloatProgress(value=1.0, max=1.0)…"
            ]
          },
          "metadata": {},
          "output_type": "display_data"
        },
        {
          "data": {
            "text/html": [
              "<style>\n",
              "    table.wandb td:nth-child(1) { padding: 0 10px; text-align: right }\n",
              "    .wandb-row { display: flex; flex-direction: row; flex-wrap: wrap; width: 100% }\n",
              "    .wandb-col { display: flex; flex-direction: column; flex-basis: 100%; flex: 1; padding: 10px; }\n",
              "    </style>\n",
              "<div class=\"wandb-row\"><div class=\"wandb-col\">\n",
              "<h3>Run history:</h3><br/><table class=\"wandb\"><tr><td>epoch</td><td>▁▃▅▆█</td></tr><tr><td>training_accuracy</td><td>▁▄▆▇█</td></tr><tr><td>training_loss</td><td>█▃▂▁▁</td></tr><tr><td>validation_accuracy</td><td>▁▃▅▇█</td></tr></table><br/></div><div class=\"wandb-col\">\n",
              "<h3>Run summary:</h3><br/><table class=\"wandb\"><tr><td>epoch</td><td>4</td></tr><tr><td>training_accuracy</td><td>0.868</td></tr><tr><td>training_loss</td><td>0.09794</td></tr><tr><td>validation_accuracy</td><td>0.85217</td></tr></table>\n",
              "</div></div>\n",
              "Synced 5 W&B file(s), 0 media file(s), 0 artifact file(s) and 0 other file(s)\n",
              "<br/>Synced <strong style=\"color:#cdcd00\">silver-sweep-6</strong>: <a href=\"https://wandb.ai/dl22/Mse_loss_assignment1/runs/or2909lz\" target=\"_blank\">https://wandb.ai/dl22/Mse_loss_assignment1/runs/or2909lz</a><br/>\n",
              "Find logs at: <code>./wandb/run-20220224_113412-or2909lz/logs</code><br/>\n"
            ],
            "text/plain": [
              "<IPython.core.display.HTML object>"
            ]
          },
          "metadata": {},
          "output_type": "display_data"
        },
        {
          "name": "stderr",
          "output_type": "stream",
          "text": [
            "\u001b[34m\u001b[1mwandb\u001b[0m: Agent Starting Run: 47093wgh with config:\n",
            "\u001b[34m\u001b[1mwandb\u001b[0m: \tactivation: tanh\n",
            "\u001b[34m\u001b[1mwandb\u001b[0m: \tbatch_size: 16\n",
            "\u001b[34m\u001b[1mwandb\u001b[0m: \tinitializer: xavier\n",
            "\u001b[34m\u001b[1mwandb\u001b[0m: \tlamda: 0.0005\n",
            "\u001b[34m\u001b[1mwandb\u001b[0m: \tlearning_rate: 0.0001\n",
            "\u001b[34m\u001b[1mwandb\u001b[0m: \tmax_epochs: 5\n",
            "\u001b[34m\u001b[1mwandb\u001b[0m: \tnum_hidden_layers: 5\n",
            "\u001b[34m\u001b[1mwandb\u001b[0m: \tnum_hidden_neurons: 64\n",
            "\u001b[34m\u001b[1mwandb\u001b[0m: \toptimizer: adam\n"
          ]
        },
        {
          "data": {
            "text/html": [
              "\n",
              "                    Syncing run <strong><a href=\"https://wandb.ai/dl22/Mse_loss_assignment1/runs/47093wgh\" target=\"_blank\">smooth-sweep-7</a></strong> to <a href=\"https://wandb.ai/dl22/Mse_loss_assignment1\" target=\"_blank\">Weights & Biases</a> (<a href=\"https://docs.wandb.com/integrations/jupyter.html\" target=\"_blank\">docs</a>).<br/>\n",
              "Sweep page: <a href=\"https://wandb.ai/dl22/Mse_loss_assignment1/sweeps/uhpmy0e2\" target=\"_blank\">https://wandb.ai/dl22/Mse_loss_assignment1/sweeps/uhpmy0e2</a><br/>\n",
              "\n",
              "                "
            ],
            "text/plain": [
              "<IPython.core.display.HTML object>"
            ]
          },
          "metadata": {},
          "output_type": "display_data"
        },
        {
          "name": "stdout",
          "output_type": "stream",
          "text": [
            "epoch: 0 training loss: 0.14062044212049937 training accuracy 0.8581481481481481 validation accuracy 0.8455\n",
            "epoch: 1 training loss: 0.10456969987474535 training accuracy 0.8708518518518519 validation accuracy 0.8583333333333333\n",
            "epoch: 2 training loss: 0.09620044620930157 training accuracy 0.8774259259259259 validation accuracy 0.8606666666666667\n",
            "epoch: 3 training loss: 0.09130012412778898 training accuracy 0.8817777777777778 validation accuracy 0.8628333333333333\n",
            "epoch: 4 training loss: 0.08782988453803611 training accuracy 0.8850185185185185 validation accuracy 0.8648333333333333\n"
          ]
        },
        {
          "data": {
            "text/html": [
              "<br/>Waiting for W&B process to finish, PID 536... <strong style=\"color:green\">(success).</strong>"
            ],
            "text/plain": [
              "<IPython.core.display.HTML object>"
            ]
          },
          "metadata": {},
          "output_type": "display_data"
        },
        {
          "data": {
            "application/vnd.jupyter.widget-view+json": {
              "model_id": "d2a532a5bb4f4250b2cb509e0a0723c0",
              "version_major": 2,
              "version_minor": 0
            },
            "text/plain": [
              "VBox(children=(Label(value=' 0.00MB of 0.00MB uploaded (0.00MB deduped)\\r'), FloatProgress(value=1.0, max=1.0)…"
            ]
          },
          "metadata": {},
          "output_type": "display_data"
        },
        {
          "data": {
            "text/html": [
              "<style>\n",
              "    table.wandb td:nth-child(1) { padding: 0 10px; text-align: right }\n",
              "    .wandb-row { display: flex; flex-direction: row; flex-wrap: wrap; width: 100% }\n",
              "    .wandb-col { display: flex; flex-direction: column; flex-basis: 100%; flex: 1; padding: 10px; }\n",
              "    </style>\n",
              "<div class=\"wandb-row\"><div class=\"wandb-col\">\n",
              "<h3>Run history:</h3><br/><table class=\"wandb\"><tr><td>epoch</td><td>▁▃▅▆█</td></tr><tr><td>training_accuracy</td><td>▁▄▆▇█</td></tr><tr><td>training_loss</td><td>█▃▂▁▁</td></tr><tr><td>validation_accuracy</td><td>▁▆▆▇█</td></tr></table><br/></div><div class=\"wandb-col\">\n",
              "<h3>Run summary:</h3><br/><table class=\"wandb\"><tr><td>epoch</td><td>4</td></tr><tr><td>training_accuracy</td><td>0.88502</td></tr><tr><td>training_loss</td><td>0.08783</td></tr><tr><td>validation_accuracy</td><td>0.86483</td></tr></table>\n",
              "</div></div>\n",
              "Synced 5 W&B file(s), 0 media file(s), 0 artifact file(s) and 0 other file(s)\n",
              "<br/>Synced <strong style=\"color:#cdcd00\">smooth-sweep-7</strong>: <a href=\"https://wandb.ai/dl22/Mse_loss_assignment1/runs/47093wgh\" target=\"_blank\">https://wandb.ai/dl22/Mse_loss_assignment1/runs/47093wgh</a><br/>\n",
              "Find logs at: <code>./wandb/run-20220224_113709-47093wgh/logs</code><br/>\n"
            ],
            "text/plain": [
              "<IPython.core.display.HTML object>"
            ]
          },
          "metadata": {},
          "output_type": "display_data"
        },
        {
          "name": "stderr",
          "output_type": "stream",
          "text": [
            "\u001b[34m\u001b[1mwandb\u001b[0m: Sweep Agent: Waiting for job.\n",
            "\u001b[34m\u001b[1mwandb\u001b[0m: Job received.\n",
            "\u001b[34m\u001b[1mwandb\u001b[0m: Agent Starting Run: iknf6slq with config:\n",
            "\u001b[34m\u001b[1mwandb\u001b[0m: \tactivation: tanh\n",
            "\u001b[34m\u001b[1mwandb\u001b[0m: \tbatch_size: 16\n",
            "\u001b[34m\u001b[1mwandb\u001b[0m: \tinitializer: xavier\n",
            "\u001b[34m\u001b[1mwandb\u001b[0m: \tlamda: 0.0005\n",
            "\u001b[34m\u001b[1mwandb\u001b[0m: \tlearning_rate: 0.0001\n",
            "\u001b[34m\u001b[1mwandb\u001b[0m: \tmax_epochs: 5\n",
            "\u001b[34m\u001b[1mwandb\u001b[0m: \tnum_hidden_layers: 5\n",
            "\u001b[34m\u001b[1mwandb\u001b[0m: \tnum_hidden_neurons: 64\n",
            "\u001b[34m\u001b[1mwandb\u001b[0m: \toptimizer: adam\n"
          ]
        },
        {
          "data": {
            "text/html": [
              "\n",
              "                    Syncing run <strong><a href=\"https://wandb.ai/dl22/Mse_loss_assignment1/runs/iknf6slq\" target=\"_blank\">soft-sweep-8</a></strong> to <a href=\"https://wandb.ai/dl22/Mse_loss_assignment1\" target=\"_blank\">Weights & Biases</a> (<a href=\"https://docs.wandb.com/integrations/jupyter.html\" target=\"_blank\">docs</a>).<br/>\n",
              "Sweep page: <a href=\"https://wandb.ai/dl22/Mse_loss_assignment1/sweeps/uhpmy0e2\" target=\"_blank\">https://wandb.ai/dl22/Mse_loss_assignment1/sweeps/uhpmy0e2</a><br/>\n",
              "\n",
              "                "
            ],
            "text/plain": [
              "<IPython.core.display.HTML object>"
            ]
          },
          "metadata": {},
          "output_type": "display_data"
        },
        {
          "name": "stdout",
          "output_type": "stream",
          "text": [
            "epoch: 0 training loss: 0.13876203001920692 training accuracy 0.8585 validation accuracy 0.8446666666666667\n",
            "epoch: 1 training loss: 0.10356227130407324 training accuracy 0.8692962962962963 validation accuracy 0.8541666666666666\n",
            "epoch: 2 training loss: 0.0956125695452221 training accuracy 0.8758888888888889 validation accuracy 0.8588333333333333\n",
            "epoch: 3 training loss: 0.09078279415137704 training accuracy 0.8807407407407407 validation accuracy 0.8605\n",
            "epoch: 4 training loss: 0.08732014614120993 training accuracy 0.8847407407407407 validation accuracy 0.8645\n"
          ]
        },
        {
          "data": {
            "text/html": [
              "<br/>Waiting for W&B process to finish, PID 575... <strong style=\"color:green\">(success).</strong>"
            ],
            "text/plain": [
              "<IPython.core.display.HTML object>"
            ]
          },
          "metadata": {},
          "output_type": "display_data"
        },
        {
          "data": {
            "application/vnd.jupyter.widget-view+json": {
              "model_id": "5583764318104cdf909f7154989e1bc9",
              "version_major": 2,
              "version_minor": 0
            },
            "text/plain": [
              "VBox(children=(Label(value=' 0.00MB of 0.00MB uploaded (0.00MB deduped)\\r'), FloatProgress(value=1.0, max=1.0)…"
            ]
          },
          "metadata": {},
          "output_type": "display_data"
        },
        {
          "data": {
            "text/html": [
              "<style>\n",
              "    table.wandb td:nth-child(1) { padding: 0 10px; text-align: right }\n",
              "    .wandb-row { display: flex; flex-direction: row; flex-wrap: wrap; width: 100% }\n",
              "    .wandb-col { display: flex; flex-direction: column; flex-basis: 100%; flex: 1; padding: 10px; }\n",
              "    </style>\n",
              "<div class=\"wandb-row\"><div class=\"wandb-col\">\n",
              "<h3>Run history:</h3><br/><table class=\"wandb\"><tr><td>epoch</td><td>▁▃▅▆█</td></tr><tr><td>training_accuracy</td><td>▁▄▆▇█</td></tr><tr><td>training_loss</td><td>█▃▂▁▁</td></tr><tr><td>validation_accuracy</td><td>▁▄▆▇█</td></tr></table><br/></div><div class=\"wandb-col\">\n",
              "<h3>Run summary:</h3><br/><table class=\"wandb\"><tr><td>epoch</td><td>4</td></tr><tr><td>training_accuracy</td><td>0.88474</td></tr><tr><td>training_loss</td><td>0.08732</td></tr><tr><td>validation_accuracy</td><td>0.8645</td></tr></table>\n",
              "</div></div>\n",
              "Synced 5 W&B file(s), 0 media file(s), 0 artifact file(s) and 0 other file(s)\n",
              "<br/>Synced <strong style=\"color:#cdcd00\">soft-sweep-8</strong>: <a href=\"https://wandb.ai/dl22/Mse_loss_assignment1/runs/iknf6slq\" target=\"_blank\">https://wandb.ai/dl22/Mse_loss_assignment1/runs/iknf6slq</a><br/>\n",
              "Find logs at: <code>./wandb/run-20220224_114314-iknf6slq/logs</code><br/>\n"
            ],
            "text/plain": [
              "<IPython.core.display.HTML object>"
            ]
          },
          "metadata": {},
          "output_type": "display_data"
        },
        {
          "name": "stderr",
          "output_type": "stream",
          "text": [
            "\u001b[34m\u001b[1mwandb\u001b[0m: Agent Starting Run: gvzmvbly with config:\n",
            "\u001b[34m\u001b[1mwandb\u001b[0m: \tactivation: tanh\n",
            "\u001b[34m\u001b[1mwandb\u001b[0m: \tbatch_size: 32\n",
            "\u001b[34m\u001b[1mwandb\u001b[0m: \tinitializer: xavier\n",
            "\u001b[34m\u001b[1mwandb\u001b[0m: \tlamda: 0.0005\n",
            "\u001b[34m\u001b[1mwandb\u001b[0m: \tlearning_rate: 0.0001\n",
            "\u001b[34m\u001b[1mwandb\u001b[0m: \tmax_epochs: 5\n",
            "\u001b[34m\u001b[1mwandb\u001b[0m: \tnum_hidden_layers: 5\n",
            "\u001b[34m\u001b[1mwandb\u001b[0m: \tnum_hidden_neurons: 32\n",
            "\u001b[34m\u001b[1mwandb\u001b[0m: \toptimizer: nadam\n"
          ]
        },
        {
          "data": {
            "text/html": [
              "\n",
              "                    Syncing run <strong><a href=\"https://wandb.ai/dl22/Mse_loss_assignment1/runs/gvzmvbly\" target=\"_blank\">robust-sweep-9</a></strong> to <a href=\"https://wandb.ai/dl22/Mse_loss_assignment1\" target=\"_blank\">Weights & Biases</a> (<a href=\"https://docs.wandb.com/integrations/jupyter.html\" target=\"_blank\">docs</a>).<br/>\n",
              "Sweep page: <a href=\"https://wandb.ai/dl22/Mse_loss_assignment1/sweeps/uhpmy0e2\" target=\"_blank\">https://wandb.ai/dl22/Mse_loss_assignment1/sweeps/uhpmy0e2</a><br/>\n",
              "\n",
              "                "
            ],
            "text/plain": [
              "<IPython.core.display.HTML object>"
            ]
          },
          "metadata": {},
          "output_type": "display_data"
        },
        {
          "name": "stdout",
          "output_type": "stream",
          "text": [
            "epoch: 0 training loss: 0.17922802919798772 training accuracy 0.8335555555555556 validation accuracy 0.8288333333333333\n",
            "epoch: 1 training loss: 0.11576517262054498 training accuracy 0.8522777777777778 validation accuracy 0.8433333333333334\n",
            "epoch: 2 training loss: 0.1065960703717039 training accuracy 0.8637222222222222 validation accuracy 0.856\n",
            "epoch: 3 training loss: 0.10154112379248581 training accuracy 0.8701111111111111 validation accuracy 0.8608333333333333\n",
            "epoch: 4 training loss: 0.09812455319486113 training accuracy 0.8748888888888889 validation accuracy 0.8635\n"
          ]
        },
        {
          "data": {
            "text/html": [
              "<br/>Waiting for W&B process to finish, PID 614... <strong style=\"color:green\">(success).</strong>"
            ],
            "text/plain": [
              "<IPython.core.display.HTML object>"
            ]
          },
          "metadata": {},
          "output_type": "display_data"
        },
        {
          "data": {
            "application/vnd.jupyter.widget-view+json": {
              "model_id": "646ffb4ffdae4f2e84d1bda295ac218c",
              "version_major": 2,
              "version_minor": 0
            },
            "text/plain": [
              "VBox(children=(Label(value=' 0.00MB of 0.00MB uploaded (0.00MB deduped)\\r'), FloatProgress(value=1.0, max=1.0)…"
            ]
          },
          "metadata": {},
          "output_type": "display_data"
        },
        {
          "data": {
            "text/html": [
              "<style>\n",
              "    table.wandb td:nth-child(1) { padding: 0 10px; text-align: right }\n",
              "    .wandb-row { display: flex; flex-direction: row; flex-wrap: wrap; width: 100% }\n",
              "    .wandb-col { display: flex; flex-direction: column; flex-basis: 100%; flex: 1; padding: 10px; }\n",
              "    </style>\n",
              "<div class=\"wandb-row\"><div class=\"wandb-col\">\n",
              "<h3>Run history:</h3><br/><table class=\"wandb\"><tr><td>epoch</td><td>▁▃▅▆█</td></tr><tr><td>training_accuracy</td><td>▁▄▆▇█</td></tr><tr><td>training_loss</td><td>█▃▂▁▁</td></tr><tr><td>validation_accuracy</td><td>▁▄▆▇█</td></tr></table><br/></div><div class=\"wandb-col\">\n",
              "<h3>Run summary:</h3><br/><table class=\"wandb\"><tr><td>epoch</td><td>4</td></tr><tr><td>training_accuracy</td><td>0.87489</td></tr><tr><td>training_loss</td><td>0.09812</td></tr><tr><td>validation_accuracy</td><td>0.8635</td></tr></table>\n",
              "</div></div>\n",
              "Synced 5 W&B file(s), 0 media file(s), 0 artifact file(s) and 0 other file(s)\n",
              "<br/>Synced <strong style=\"color:#cdcd00\">robust-sweep-9</strong>: <a href=\"https://wandb.ai/dl22/Mse_loss_assignment1/runs/gvzmvbly\" target=\"_blank\">https://wandb.ai/dl22/Mse_loss_assignment1/runs/gvzmvbly</a><br/>\n",
              "Find logs at: <code>./wandb/run-20220224_114911-gvzmvbly/logs</code><br/>\n"
            ],
            "text/plain": [
              "<IPython.core.display.HTML object>"
            ]
          },
          "metadata": {},
          "output_type": "display_data"
        },
        {
          "name": "stderr",
          "output_type": "stream",
          "text": [
            "\u001b[34m\u001b[1mwandb\u001b[0m: Agent Starting Run: xjysdfs6 with config:\n",
            "\u001b[34m\u001b[1mwandb\u001b[0m: \tactivation: tanh\n",
            "\u001b[34m\u001b[1mwandb\u001b[0m: \tbatch_size: 16\n",
            "\u001b[34m\u001b[1mwandb\u001b[0m: \tinitializer: xavier\n",
            "\u001b[34m\u001b[1mwandb\u001b[0m: \tlamda: 0.0005\n",
            "\u001b[34m\u001b[1mwandb\u001b[0m: \tlearning_rate: 0.0001\n",
            "\u001b[34m\u001b[1mwandb\u001b[0m: \tmax_epochs: 10\n",
            "\u001b[34m\u001b[1mwandb\u001b[0m: \tnum_hidden_layers: 5\n",
            "\u001b[34m\u001b[1mwandb\u001b[0m: \tnum_hidden_neurons: 32\n",
            "\u001b[34m\u001b[1mwandb\u001b[0m: \toptimizer: nadam\n"
          ]
        },
        {
          "data": {
            "text/html": [
              "\n",
              "                    Syncing run <strong><a href=\"https://wandb.ai/dl22/Mse_loss_assignment1/runs/xjysdfs6\" target=\"_blank\">lucky-sweep-10</a></strong> to <a href=\"https://wandb.ai/dl22/Mse_loss_assignment1\" target=\"_blank\">Weights & Biases</a> (<a href=\"https://docs.wandb.com/integrations/jupyter.html\" target=\"_blank\">docs</a>).<br/>\n",
              "Sweep page: <a href=\"https://wandb.ai/dl22/Mse_loss_assignment1/sweeps/uhpmy0e2\" target=\"_blank\">https://wandb.ai/dl22/Mse_loss_assignment1/sweeps/uhpmy0e2</a><br/>\n",
              "\n",
              "                "
            ],
            "text/plain": [
              "<IPython.core.display.HTML object>"
            ]
          },
          "metadata": {},
          "output_type": "display_data"
        },
        {
          "name": "stdout",
          "output_type": "stream",
          "text": [
            "epoch: 0 training loss: 0.16161328176769263 training accuracy 0.8436296296296296 validation accuracy 0.8336666666666667\n",
            "epoch: 1 training loss: 0.11092970340877277 training accuracy 0.8602037037037037 validation accuracy 0.8498333333333333\n",
            "epoch: 2 training loss: 0.10214128481788651 training accuracy 0.8689444444444444 validation accuracy 0.8576666666666667\n",
            "epoch: 3 training loss: 0.09725521460704332 training accuracy 0.8745555555555555 validation accuracy 0.8616666666666667\n",
            "epoch: 4 training loss: 0.09396942419393738 training accuracy 0.8782222222222222 validation accuracy 0.8643333333333333\n",
            "epoch: 5 training loss: 0.0915119385567905 training accuracy 0.8816481481481482 validation accuracy 0.866\n",
            "epoch: 6 training loss: 0.08953898091404325 training accuracy 0.8842222222222222 validation accuracy 0.8688333333333333\n",
            "epoch: 7 training loss: 0.08788593242970279 training accuracy 0.8864074074074074 validation accuracy 0.8705\n",
            "epoch: 8 training loss: 0.08646433848824897 training accuracy 0.8887407407407407 validation accuracy 0.8713333333333333\n",
            "epoch: 9 training loss: 0.08521914336096459 training accuracy 0.890962962962963 validation accuracy 0.8725\n"
          ]
        },
        {
          "data": {
            "text/html": [
              "<br/>Waiting for W&B process to finish, PID 655... <strong style=\"color:green\">(success).</strong>"
            ],
            "text/plain": [
              "<IPython.core.display.HTML object>"
            ]
          },
          "metadata": {},
          "output_type": "display_data"
        },
        {
          "data": {
            "application/vnd.jupyter.widget-view+json": {
              "model_id": "f1a8916d53e1415883b81f0990fd718f",
              "version_major": 2,
              "version_minor": 0
            },
            "text/plain": [
              "VBox(children=(Label(value=' 0.00MB of 0.00MB uploaded (0.00MB deduped)\\r'), FloatProgress(value=1.0, max=1.0)…"
            ]
          },
          "metadata": {},
          "output_type": "display_data"
        },
        {
          "data": {
            "text/html": [
              "<style>\n",
              "    table.wandb td:nth-child(1) { padding: 0 10px; text-align: right }\n",
              "    .wandb-row { display: flex; flex-direction: row; flex-wrap: wrap; width: 100% }\n",
              "    .wandb-col { display: flex; flex-direction: column; flex-basis: 100%; flex: 1; padding: 10px; }\n",
              "    </style>\n",
              "<div class=\"wandb-row\"><div class=\"wandb-col\">\n",
              "<h3>Run history:</h3><br/><table class=\"wandb\"><tr><td>epoch</td><td>▁▂▃▃▄▅▆▆▇█</td></tr><tr><td>training_accuracy</td><td>▁▃▅▆▆▇▇▇██</td></tr><tr><td>training_loss</td><td>█▃▃▂▂▂▁▁▁▁</td></tr><tr><td>validation_accuracy</td><td>▁▄▅▆▇▇▇███</td></tr></table><br/></div><div class=\"wandb-col\">\n",
              "<h3>Run summary:</h3><br/><table class=\"wandb\"><tr><td>epoch</td><td>9</td></tr><tr><td>training_accuracy</td><td>0.89096</td></tr><tr><td>training_loss</td><td>0.08522</td></tr><tr><td>validation_accuracy</td><td>0.8725</td></tr></table>\n",
              "</div></div>\n",
              "Synced 5 W&B file(s), 0 media file(s), 0 artifact file(s) and 0 other file(s)\n",
              "<br/>Synced <strong style=\"color:#cdcd00\">lucky-sweep-10</strong>: <a href=\"https://wandb.ai/dl22/Mse_loss_assignment1/runs/xjysdfs6\" target=\"_blank\">https://wandb.ai/dl22/Mse_loss_assignment1/runs/xjysdfs6</a><br/>\n",
              "Find logs at: <code>./wandb/run-20220224_115224-xjysdfs6/logs</code><br/>\n"
            ],
            "text/plain": [
              "<IPython.core.display.HTML object>"
            ]
          },
          "metadata": {},
          "output_type": "display_data"
        },
        {
          "name": "stderr",
          "output_type": "stream",
          "text": [
            "\u001b[34m\u001b[1mwandb\u001b[0m: Agent Starting Run: elfc1axb with config:\n",
            "\u001b[34m\u001b[1mwandb\u001b[0m: \tactivation: tanh\n",
            "\u001b[34m\u001b[1mwandb\u001b[0m: \tbatch_size: 16\n",
            "\u001b[34m\u001b[1mwandb\u001b[0m: \tinitializer: xavier\n",
            "\u001b[34m\u001b[1mwandb\u001b[0m: \tlamda: 0.0005\n",
            "\u001b[34m\u001b[1mwandb\u001b[0m: \tlearning_rate: 0.0001\n",
            "\u001b[34m\u001b[1mwandb\u001b[0m: \tmax_epochs: 5\n",
            "\u001b[34m\u001b[1mwandb\u001b[0m: \tnum_hidden_layers: 5\n",
            "\u001b[34m\u001b[1mwandb\u001b[0m: \tnum_hidden_neurons: 64\n",
            "\u001b[34m\u001b[1mwandb\u001b[0m: \toptimizer: nadam\n"
          ]
        },
        {
          "data": {
            "text/html": [
              "\n",
              "                    Syncing run <strong><a href=\"https://wandb.ai/dl22/Mse_loss_assignment1/runs/elfc1axb\" target=\"_blank\">cerulean-sweep-11</a></strong> to <a href=\"https://wandb.ai/dl22/Mse_loss_assignment1\" target=\"_blank\">Weights & Biases</a> (<a href=\"https://docs.wandb.com/integrations/jupyter.html\" target=\"_blank\">docs</a>).<br/>\n",
              "Sweep page: <a href=\"https://wandb.ai/dl22/Mse_loss_assignment1/sweeps/uhpmy0e2\" target=\"_blank\">https://wandb.ai/dl22/Mse_loss_assignment1/sweeps/uhpmy0e2</a><br/>\n",
              "\n",
              "                "
            ],
            "text/plain": [
              "<IPython.core.display.HTML object>"
            ]
          },
          "metadata": {},
          "output_type": "display_data"
        },
        {
          "name": "stdout",
          "output_type": "stream",
          "text": [
            "epoch: 0 training loss: 0.13730245064232446 training accuracy 0.8558888888888889 validation accuracy 0.8421666666666666\n",
            "epoch: 1 training loss: 0.1021374818334572 training accuracy 0.8709259259259259 validation accuracy 0.8575\n",
            "epoch: 2 training loss: 0.09454603969601194 training accuracy 0.8797592592592592 validation accuracy 0.866\n",
            "epoch: 3 training loss: 0.09009574948431669 training accuracy 0.8855555555555555 validation accuracy 0.8685\n",
            "epoch: 4 training loss: 0.08689426835333863 training accuracy 0.8896666666666667 validation accuracy 0.871\n"
          ]
        },
        {
          "data": {
            "text/html": [
              "<br/>Waiting for W&B process to finish, PID 694... <strong style=\"color:green\">(success).</strong>"
            ],
            "text/plain": [
              "<IPython.core.display.HTML object>"
            ]
          },
          "metadata": {},
          "output_type": "display_data"
        },
        {
          "data": {
            "application/vnd.jupyter.widget-view+json": {
              "model_id": "2e449d0b01f640cb9bb714a5d7dc59a7",
              "version_major": 2,
              "version_minor": 0
            },
            "text/plain": [
              "VBox(children=(Label(value=' 0.00MB of 0.00MB uploaded (0.00MB deduped)\\r'), FloatProgress(value=1.0, max=1.0)…"
            ]
          },
          "metadata": {},
          "output_type": "display_data"
        },
        {
          "data": {
            "text/html": [
              "<style>\n",
              "    table.wandb td:nth-child(1) { padding: 0 10px; text-align: right }\n",
              "    .wandb-row { display: flex; flex-direction: row; flex-wrap: wrap; width: 100% }\n",
              "    .wandb-col { display: flex; flex-direction: column; flex-basis: 100%; flex: 1; padding: 10px; }\n",
              "    </style>\n",
              "<div class=\"wandb-row\"><div class=\"wandb-col\">\n",
              "<h3>Run history:</h3><br/><table class=\"wandb\"><tr><td>epoch</td><td>▁▃▅▆█</td></tr><tr><td>training_accuracy</td><td>▁▄▆▇█</td></tr><tr><td>training_loss</td><td>█▃▂▁▁</td></tr><tr><td>validation_accuracy</td><td>▁▅▇▇█</td></tr></table><br/></div><div class=\"wandb-col\">\n",
              "<h3>Run summary:</h3><br/><table class=\"wandb\"><tr><td>epoch</td><td>4</td></tr><tr><td>training_accuracy</td><td>0.88967</td></tr><tr><td>training_loss</td><td>0.08689</td></tr><tr><td>validation_accuracy</td><td>0.871</td></tr></table>\n",
              "</div></div>\n",
              "Synced 5 W&B file(s), 0 media file(s), 0 artifact file(s) and 0 other file(s)\n",
              "<br/>Synced <strong style=\"color:#cdcd00\">cerulean-sweep-11</strong>: <a href=\"https://wandb.ai/dl22/Mse_loss_assignment1/runs/elfc1axb\" target=\"_blank\">https://wandb.ai/dl22/Mse_loss_assignment1/runs/elfc1axb</a><br/>\n",
              "Find logs at: <code>./wandb/run-20220224_115852-elfc1axb/logs</code><br/>\n"
            ],
            "text/plain": [
              "<IPython.core.display.HTML object>"
            ]
          },
          "metadata": {},
          "output_type": "display_data"
        },
        {
          "name": "stderr",
          "output_type": "stream",
          "text": [
            "\u001b[34m\u001b[1mwandb\u001b[0m: Agent Starting Run: gkvrtar9 with config:\n",
            "\u001b[34m\u001b[1mwandb\u001b[0m: \tactivation: tanh\n",
            "\u001b[34m\u001b[1mwandb\u001b[0m: \tbatch_size: 16\n",
            "\u001b[34m\u001b[1mwandb\u001b[0m: \tinitializer: xavier\n",
            "\u001b[34m\u001b[1mwandb\u001b[0m: \tlamda: 0.0005\n",
            "\u001b[34m\u001b[1mwandb\u001b[0m: \tlearning_rate: 0.001\n",
            "\u001b[34m\u001b[1mwandb\u001b[0m: \tmax_epochs: 5\n",
            "\u001b[34m\u001b[1mwandb\u001b[0m: \tnum_hidden_layers: 5\n",
            "\u001b[34m\u001b[1mwandb\u001b[0m: \tnum_hidden_neurons: 32\n",
            "\u001b[34m\u001b[1mwandb\u001b[0m: \toptimizer: nadam\n"
          ]
        },
        {
          "data": {
            "text/html": [
              "\n",
              "                    Syncing run <strong><a href=\"https://wandb.ai/dl22/Mse_loss_assignment1/runs/gkvrtar9\" target=\"_blank\">lemon-sweep-12</a></strong> to <a href=\"https://wandb.ai/dl22/Mse_loss_assignment1\" target=\"_blank\">Weights & Biases</a> (<a href=\"https://docs.wandb.com/integrations/jupyter.html\" target=\"_blank\">docs</a>).<br/>\n",
              "Sweep page: <a href=\"https://wandb.ai/dl22/Mse_loss_assignment1/sweeps/uhpmy0e2\" target=\"_blank\">https://wandb.ai/dl22/Mse_loss_assignment1/sweeps/uhpmy0e2</a><br/>\n",
              "\n",
              "                "
            ],
            "text/plain": [
              "<IPython.core.display.HTML object>"
            ]
          },
          "metadata": {},
          "output_type": "display_data"
        },
        {
          "name": "stdout",
          "output_type": "stream",
          "text": [
            "epoch: 0 training loss: 0.14173673061522896 training accuracy 0.842462962962963 validation accuracy 0.8358333333333333\n",
            "epoch: 1 training loss: 0.11402492496701222 training accuracy 0.8671666666666666 validation accuracy 0.8556666666666667\n",
            "epoch: 2 training loss: 0.10622203343623682 training accuracy 0.8689814814814815 validation accuracy 0.8603333333333333\n",
            "epoch: 3 training loss: 0.10136350628482592 training accuracy 0.8629629629629629 validation accuracy 0.8476666666666667\n",
            "epoch: 4 training loss: 0.09886293970855314 training accuracy 0.876537037037037 validation accuracy 0.8588333333333333\n"
          ]
        },
        {
          "data": {
            "text/html": [
              "<br/>Waiting for W&B process to finish, PID 734... <strong style=\"color:green\">(success).</strong>"
            ],
            "text/plain": [
              "<IPython.core.display.HTML object>"
            ]
          },
          "metadata": {},
          "output_type": "display_data"
        },
        {
          "data": {
            "application/vnd.jupyter.widget-view+json": {
              "model_id": "fdfd13a8d09140a48217ec9db34b5fba",
              "version_major": 2,
              "version_minor": 0
            },
            "text/plain": [
              "VBox(children=(Label(value=' 0.00MB of 0.00MB uploaded (0.00MB deduped)\\r'), FloatProgress(value=1.0, max=1.0)…"
            ]
          },
          "metadata": {},
          "output_type": "display_data"
        },
        {
          "data": {
            "text/html": [
              "<style>\n",
              "    table.wandb td:nth-child(1) { padding: 0 10px; text-align: right }\n",
              "    .wandb-row { display: flex; flex-direction: row; flex-wrap: wrap; width: 100% }\n",
              "    .wandb-col { display: flex; flex-direction: column; flex-basis: 100%; flex: 1; padding: 10px; }\n",
              "    </style>\n",
              "<div class=\"wandb-row\"><div class=\"wandb-col\">\n",
              "<h3>Run history:</h3><br/><table class=\"wandb\"><tr><td>epoch</td><td>▁▃▅▆█</td></tr><tr><td>training_accuracy</td><td>▁▆▆▅█</td></tr><tr><td>training_loss</td><td>█▃▂▁▁</td></tr><tr><td>validation_accuracy</td><td>▁▇█▄█</td></tr></table><br/></div><div class=\"wandb-col\">\n",
              "<h3>Run summary:</h3><br/><table class=\"wandb\"><tr><td>epoch</td><td>4</td></tr><tr><td>training_accuracy</td><td>0.87654</td></tr><tr><td>training_loss</td><td>0.09886</td></tr><tr><td>validation_accuracy</td><td>0.85883</td></tr></table>\n",
              "</div></div>\n",
              "Synced 5 W&B file(s), 0 media file(s), 0 artifact file(s) and 0 other file(s)\n",
              "<br/>Synced <strong style=\"color:#cdcd00\">lemon-sweep-12</strong>: <a href=\"https://wandb.ai/dl22/Mse_loss_assignment1/runs/gkvrtar9\" target=\"_blank\">https://wandb.ai/dl22/Mse_loss_assignment1/runs/gkvrtar9</a><br/>\n",
              "Find logs at: <code>./wandb/run-20220224_120452-gkvrtar9/logs</code><br/>\n"
            ],
            "text/plain": [
              "<IPython.core.display.HTML object>"
            ]
          },
          "metadata": {},
          "output_type": "display_data"
        },
        {
          "name": "stderr",
          "output_type": "stream",
          "text": [
            "\u001b[34m\u001b[1mwandb\u001b[0m: Sweep Agent: Waiting for job.\n",
            "\u001b[34m\u001b[1mwandb\u001b[0m: Job received.\n",
            "\u001b[34m\u001b[1mwandb\u001b[0m: Agent Starting Run: yif7e1pt with config:\n",
            "\u001b[34m\u001b[1mwandb\u001b[0m: \tactivation: tanh\n",
            "\u001b[34m\u001b[1mwandb\u001b[0m: \tbatch_size: 32\n",
            "\u001b[34m\u001b[1mwandb\u001b[0m: \tinitializer: xavier\n",
            "\u001b[34m\u001b[1mwandb\u001b[0m: \tlamda: 0.5\n",
            "\u001b[34m\u001b[1mwandb\u001b[0m: \tlearning_rate: 0.0001\n",
            "\u001b[34m\u001b[1mwandb\u001b[0m: \tmax_epochs: 10\n",
            "\u001b[34m\u001b[1mwandb\u001b[0m: \tnum_hidden_layers: 5\n",
            "\u001b[34m\u001b[1mwandb\u001b[0m: \tnum_hidden_neurons: 64\n",
            "\u001b[34m\u001b[1mwandb\u001b[0m: \toptimizer: adam\n"
          ]
        },
        {
          "data": {
            "text/html": [
              "\n",
              "                    Syncing run <strong><a href=\"https://wandb.ai/dl22/Mse_loss_assignment1/runs/yif7e1pt\" target=\"_blank\">devout-sweep-13</a></strong> to <a href=\"https://wandb.ai/dl22/Mse_loss_assignment1\" target=\"_blank\">Weights & Biases</a> (<a href=\"https://docs.wandb.com/integrations/jupyter.html\" target=\"_blank\">docs</a>).<br/>\n",
              "Sweep page: <a href=\"https://wandb.ai/dl22/Mse_loss_assignment1/sweeps/uhpmy0e2\" target=\"_blank\">https://wandb.ai/dl22/Mse_loss_assignment1/sweeps/uhpmy0e2</a><br/>\n",
              "\n",
              "                "
            ],
            "text/plain": [
              "<IPython.core.display.HTML object>"
            ]
          },
          "metadata": {},
          "output_type": "display_data"
        },
        {
          "name": "stdout",
          "output_type": "stream",
          "text": [
            "epoch: 0 training loss: 2.679800264740703 training accuracy 0.8457037037037037 validation accuracy 0.8355\n",
            "epoch: 1 training loss: 2.796150797488574 training accuracy 0.8614259259259259 validation accuracy 0.8486666666666667\n",
            "epoch: 2 training loss: 2.861420554253064 training accuracy 0.8729814814814815 validation accuracy 0.8581666666666666\n",
            "epoch: 3 training loss: 2.911538569798604 training accuracy 0.8772037037037037 validation accuracy 0.8613333333333333\n",
            "epoch: 4 training loss: 2.9550783338582853 training accuracy 0.8821296296296296 validation accuracy 0.8666666666666667\n",
            "epoch: 5 training loss: 2.9947422028723913 training accuracy 0.8848148148148148 validation accuracy 0.8681666666666666\n",
            "epoch: 6 training loss: 3.032405570213008 training accuracy 0.8885555555555555 validation accuracy 0.8708333333333333\n",
            "epoch: 7 training loss: 3.0686483621683585 training accuracy 0.8906851851851851 validation accuracy 0.8728333333333333\n",
            "epoch: 8 training loss: 3.104234170939326 training accuracy 0.8938888888888888 validation accuracy 0.8748333333333334\n",
            "epoch: 9 training loss: 3.1390389515201953 training accuracy 0.8956296296296297 validation accuracy 0.8761666666666666\n"
          ]
        },
        {
          "data": {
            "text/html": [
              "<br/>Waiting for W&B process to finish, PID 775... <strong style=\"color:green\">(success).</strong>"
            ],
            "text/plain": [
              "<IPython.core.display.HTML object>"
            ]
          },
          "metadata": {},
          "output_type": "display_data"
        },
        {
          "data": {
            "application/vnd.jupyter.widget-view+json": {
              "model_id": "8e058e40c0d24b59b54c17d512e934f3",
              "version_major": 2,
              "version_minor": 0
            },
            "text/plain": [
              "VBox(children=(Label(value=' 0.00MB of 0.00MB uploaded (0.00MB deduped)\\r'), FloatProgress(value=1.0, max=1.0)…"
            ]
          },
          "metadata": {},
          "output_type": "display_data"
        },
        {
          "data": {
            "text/html": [
              "<style>\n",
              "    table.wandb td:nth-child(1) { padding: 0 10px; text-align: right }\n",
              "    .wandb-row { display: flex; flex-direction: row; flex-wrap: wrap; width: 100% }\n",
              "    .wandb-col { display: flex; flex-direction: column; flex-basis: 100%; flex: 1; padding: 10px; }\n",
              "    </style>\n",
              "<div class=\"wandb-row\"><div class=\"wandb-col\">\n",
              "<h3>Run history:</h3><br/><table class=\"wandb\"><tr><td>epoch</td><td>▁▂▃▃▄▅▆▆▇█</td></tr><tr><td>training_accuracy</td><td>▁▃▅▅▆▆▇▇██</td></tr><tr><td>training_loss</td><td>▁▃▄▅▅▆▆▇▇█</td></tr><tr><td>validation_accuracy</td><td>▁▃▅▅▆▇▇▇██</td></tr></table><br/></div><div class=\"wandb-col\">\n",
              "<h3>Run summary:</h3><br/><table class=\"wandb\"><tr><td>epoch</td><td>9</td></tr><tr><td>training_accuracy</td><td>0.89563</td></tr><tr><td>training_loss</td><td>3.13904</td></tr><tr><td>validation_accuracy</td><td>0.87617</td></tr></table>\n",
              "</div></div>\n",
              "Synced 5 W&B file(s), 0 media file(s), 0 artifact file(s) and 0 other file(s)\n",
              "<br/>Synced <strong style=\"color:#cdcd00\">devout-sweep-13</strong>: <a href=\"https://wandb.ai/dl22/Mse_loss_assignment1/runs/yif7e1pt\" target=\"_blank\">https://wandb.ai/dl22/Mse_loss_assignment1/runs/yif7e1pt</a><br/>\n",
              "Find logs at: <code>./wandb/run-20220224_120821-yif7e1pt/logs</code><br/>\n"
            ],
            "text/plain": [
              "<IPython.core.display.HTML object>"
            ]
          },
          "metadata": {},
          "output_type": "display_data"
        },
        {
          "name": "stderr",
          "output_type": "stream",
          "text": [
            "\u001b[34m\u001b[1mwandb\u001b[0m: Agent Starting Run: 8q193mp0 with config:\n",
            "\u001b[34m\u001b[1mwandb\u001b[0m: \tactivation: tanh\n",
            "\u001b[34m\u001b[1mwandb\u001b[0m: \tbatch_size: 32\n",
            "\u001b[34m\u001b[1mwandb\u001b[0m: \tinitializer: xavier\n",
            "\u001b[34m\u001b[1mwandb\u001b[0m: \tlamda: 0.0005\n",
            "\u001b[34m\u001b[1mwandb\u001b[0m: \tlearning_rate: 0.0001\n",
            "\u001b[34m\u001b[1mwandb\u001b[0m: \tmax_epochs: 10\n",
            "\u001b[34m\u001b[1mwandb\u001b[0m: \tnum_hidden_layers: 5\n",
            "\u001b[34m\u001b[1mwandb\u001b[0m: \tnum_hidden_neurons: 128\n",
            "\u001b[34m\u001b[1mwandb\u001b[0m: \toptimizer: nadam\n"
          ]
        },
        {
          "data": {
            "text/html": [
              "\n",
              "                    Syncing run <strong><a href=\"https://wandb.ai/dl22/Mse_loss_assignment1/runs/8q193mp0\" target=\"_blank\">jumping-sweep-14</a></strong> to <a href=\"https://wandb.ai/dl22/Mse_loss_assignment1\" target=\"_blank\">Weights & Biases</a> (<a href=\"https://docs.wandb.com/integrations/jupyter.html\" target=\"_blank\">docs</a>).<br/>\n",
              "Sweep page: <a href=\"https://wandb.ai/dl22/Mse_loss_assignment1/sweeps/uhpmy0e2\" target=\"_blank\">https://wandb.ai/dl22/Mse_loss_assignment1/sweeps/uhpmy0e2</a><br/>\n",
              "\n",
              "                "
            ],
            "text/plain": [
              "<IPython.core.display.HTML object>"
            ]
          },
          "metadata": {},
          "output_type": "display_data"
        },
        {
          "name": "stdout",
          "output_type": "stream",
          "text": [
            "epoch: 0 training loss: 0.1324958851605056 training accuracy 0.8622592592592593 validation accuracy 0.852\n",
            "epoch: 1 training loss: 0.10051169623688498 training accuracy 0.8722037037037037 validation accuracy 0.8578333333333333\n",
            "epoch: 2 training loss: 0.09262560763703571 training accuracy 0.8802777777777778 validation accuracy 0.8631666666666666\n",
            "epoch: 3 training loss: 0.08782468904431624 training accuracy 0.885462962962963 validation accuracy 0.8648333333333333\n",
            "epoch: 4 training loss: 0.08429651044216249 training accuracy 0.8904074074074074 validation accuracy 0.8678333333333333\n",
            "epoch: 5 training loss: 0.08149776423439102 training accuracy 0.8938888888888888 validation accuracy 0.869\n",
            "epoch: 6 training loss: 0.0791455925147049 training accuracy 0.896537037037037 validation accuracy 0.8706666666666667\n",
            "epoch: 7 training loss: 0.07710468575383525 training accuracy 0.8993333333333333 validation accuracy 0.8713333333333333\n",
            "epoch: 8 training loss: 0.07527881340932525 training accuracy 0.900962962962963 validation accuracy 0.8703333333333333\n",
            "epoch: 9 training loss: 0.0736139530644669 training accuracy 0.9032407407407408 validation accuracy 0.8725\n"
          ]
        },
        {
          "data": {
            "text/html": [
              "<br/>Waiting for W&B process to finish, PID 820... <strong style=\"color:green\">(success).</strong>"
            ],
            "text/plain": [
              "<IPython.core.display.HTML object>"
            ]
          },
          "metadata": {},
          "output_type": "display_data"
        },
        {
          "data": {
            "application/vnd.jupyter.widget-view+json": {
              "model_id": "4c5b4e71f32a4457887dfd48c1847b82",
              "version_major": 2,
              "version_minor": 0
            },
            "text/plain": [
              "VBox(children=(Label(value=' 0.00MB of 0.00MB uploaded (0.00MB deduped)\\r'), FloatProgress(value=1.0, max=1.0)…"
            ]
          },
          "metadata": {},
          "output_type": "display_data"
        },
        {
          "data": {
            "text/html": [
              "<style>\n",
              "    table.wandb td:nth-child(1) { padding: 0 10px; text-align: right }\n",
              "    .wandb-row { display: flex; flex-direction: row; flex-wrap: wrap; width: 100% }\n",
              "    .wandb-col { display: flex; flex-direction: column; flex-basis: 100%; flex: 1; padding: 10px; }\n",
              "    </style>\n",
              "<div class=\"wandb-row\"><div class=\"wandb-col\">\n",
              "<h3>Run history:</h3><br/><table class=\"wandb\"><tr><td>epoch</td><td>▁▂▃▃▄▅▆▆▇█</td></tr><tr><td>training_accuracy</td><td>▁▃▄▅▆▆▇▇██</td></tr><tr><td>training_loss</td><td>█▄▃▃▂▂▂▁▁▁</td></tr><tr><td>validation_accuracy</td><td>▁▃▅▅▆▇▇█▇█</td></tr></table><br/></div><div class=\"wandb-col\">\n",
              "<h3>Run summary:</h3><br/><table class=\"wandb\"><tr><td>epoch</td><td>9</td></tr><tr><td>training_accuracy</td><td>0.90324</td></tr><tr><td>training_loss</td><td>0.07361</td></tr><tr><td>validation_accuracy</td><td>0.8725</td></tr></table>\n",
              "</div></div>\n",
              "Synced 5 W&B file(s), 0 media file(s), 0 artifact file(s) and 0 other file(s)\n",
              "<br/>Synced <strong style=\"color:#cdcd00\">jumping-sweep-14</strong>: <a href=\"https://wandb.ai/dl22/Mse_loss_assignment1/runs/8q193mp0\" target=\"_blank\">https://wandb.ai/dl22/Mse_loss_assignment1/runs/8q193mp0</a><br/>\n",
              "Find logs at: <code>./wandb/run-20220224_121934-8q193mp0/logs</code><br/>\n"
            ],
            "text/plain": [
              "<IPython.core.display.HTML object>"
            ]
          },
          "metadata": {},
          "output_type": "display_data"
        },
        {
          "name": "stderr",
          "output_type": "stream",
          "text": [
            "\u001b[34m\u001b[1mwandb\u001b[0m: Agent Starting Run: huzrnytf with config:\n",
            "\u001b[34m\u001b[1mwandb\u001b[0m: \tactivation: tanh\n",
            "\u001b[34m\u001b[1mwandb\u001b[0m: \tbatch_size: 16\n",
            "\u001b[34m\u001b[1mwandb\u001b[0m: \tinitializer: xavier\n",
            "\u001b[34m\u001b[1mwandb\u001b[0m: \tlamda: 0.0005\n",
            "\u001b[34m\u001b[1mwandb\u001b[0m: \tlearning_rate: 0.0001\n",
            "\u001b[34m\u001b[1mwandb\u001b[0m: \tmax_epochs: 10\n",
            "\u001b[34m\u001b[1mwandb\u001b[0m: \tnum_hidden_layers: 5\n",
            "\u001b[34m\u001b[1mwandb\u001b[0m: \tnum_hidden_neurons: 32\n",
            "\u001b[34m\u001b[1mwandb\u001b[0m: \toptimizer: nadam\n"
          ]
        },
        {
          "data": {
            "text/html": [
              "\n",
              "                    Syncing run <strong><a href=\"https://wandb.ai/dl22/Mse_loss_assignment1/runs/huzrnytf\" target=\"_blank\">peach-sweep-15</a></strong> to <a href=\"https://wandb.ai/dl22/Mse_loss_assignment1\" target=\"_blank\">Weights & Biases</a> (<a href=\"https://docs.wandb.com/integrations/jupyter.html\" target=\"_blank\">docs</a>).<br/>\n",
              "Sweep page: <a href=\"https://wandb.ai/dl22/Mse_loss_assignment1/sweeps/uhpmy0e2\" target=\"_blank\">https://wandb.ai/dl22/Mse_loss_assignment1/sweeps/uhpmy0e2</a><br/>\n",
              "\n",
              "                "
            ],
            "text/plain": [
              "<IPython.core.display.HTML object>"
            ]
          },
          "metadata": {},
          "output_type": "display_data"
        },
        {
          "name": "stdout",
          "output_type": "stream",
          "text": [
            "epoch: 0 training loss: 0.16124982978245794 training accuracy 0.8469444444444445 validation accuracy 0.8345\n",
            "epoch: 1 training loss: 0.11055937059246179 training accuracy 0.8642962962962963 validation accuracy 0.8485\n",
            "epoch: 2 training loss: 0.10187440823379934 training accuracy 0.8707037037037038 validation accuracy 0.8541666666666666\n",
            "epoch: 3 training loss: 0.09722956066688473 training accuracy 0.8755925925925926 validation accuracy 0.8571666666666666\n",
            "epoch: 4 training loss: 0.09404602809121924 training accuracy 0.878537037037037 validation accuracy 0.8586666666666667\n",
            "epoch: 5 training loss: 0.09159940306895309 training accuracy 0.8802037037037037 validation accuracy 0.8601666666666666\n",
            "epoch: 6 training loss: 0.0896114553406234 training accuracy 0.8827407407407407 validation accuracy 0.863\n",
            "epoch: 7 training loss: 0.08794627899450758 training accuracy 0.8849444444444444 validation accuracy 0.8655\n",
            "epoch: 8 training loss: 0.08652313318450514 training accuracy 0.887462962962963 validation accuracy 0.8676666666666667\n",
            "epoch: 9 training loss: 0.08527957002914159 training accuracy 0.8894444444444445 validation accuracy 0.8686666666666667\n"
          ]
        },
        {
          "data": {
            "text/html": [
              "<br/>Waiting for W&B process to finish, PID 859... <strong style=\"color:green\">(success).</strong>"
            ],
            "text/plain": [
              "<IPython.core.display.HTML object>"
            ]
          },
          "metadata": {},
          "output_type": "display_data"
        },
        {
          "data": {
            "application/vnd.jupyter.widget-view+json": {
              "model_id": "5e35e8a25b184b35ac641cecc0011103",
              "version_major": 2,
              "version_minor": 0
            },
            "text/plain": [
              "VBox(children=(Label(value=' 0.00MB of 0.00MB uploaded (0.00MB deduped)\\r'), FloatProgress(value=1.0, max=1.0)…"
            ]
          },
          "metadata": {},
          "output_type": "display_data"
        },
        {
          "data": {
            "text/html": [
              "<style>\n",
              "    table.wandb td:nth-child(1) { padding: 0 10px; text-align: right }\n",
              "    .wandb-row { display: flex; flex-direction: row; flex-wrap: wrap; width: 100% }\n",
              "    .wandb-col { display: flex; flex-direction: column; flex-basis: 100%; flex: 1; padding: 10px; }\n",
              "    </style>\n",
              "<div class=\"wandb-row\"><div class=\"wandb-col\">\n",
              "<h3>Run history:</h3><br/><table class=\"wandb\"><tr><td>epoch</td><td>▁▂▃▃▄▅▆▆▇█</td></tr><tr><td>training_accuracy</td><td>▁▄▅▆▆▆▇▇██</td></tr><tr><td>training_loss</td><td>█▃▃▂▂▂▁▁▁▁</td></tr><tr><td>validation_accuracy</td><td>▁▄▅▆▆▆▇▇██</td></tr></table><br/></div><div class=\"wandb-col\">\n",
              "<h3>Run summary:</h3><br/><table class=\"wandb\"><tr><td>epoch</td><td>9</td></tr><tr><td>training_accuracy</td><td>0.88944</td></tr><tr><td>training_loss</td><td>0.08528</td></tr><tr><td>validation_accuracy</td><td>0.86867</td></tr></table>\n",
              "</div></div>\n",
              "Synced 5 W&B file(s), 0 media file(s), 0 artifact file(s) and 0 other file(s)\n",
              "<br/>Synced <strong style=\"color:#cdcd00\">peach-sweep-15</strong>: <a href=\"https://wandb.ai/dl22/Mse_loss_assignment1/runs/huzrnytf\" target=\"_blank\">https://wandb.ai/dl22/Mse_loss_assignment1/runs/huzrnytf</a><br/>\n",
              "Find logs at: <code>./wandb/run-20220224_123923-huzrnytf/logs</code><br/>\n"
            ],
            "text/plain": [
              "<IPython.core.display.HTML object>"
            ]
          },
          "metadata": {},
          "output_type": "display_data"
        },
        {
          "name": "stderr",
          "output_type": "stream",
          "text": [
            "\u001b[34m\u001b[1mwandb\u001b[0m: Sweep Agent: Waiting for job.\n",
            "\u001b[34m\u001b[1mwandb\u001b[0m: Job received.\n",
            "\u001b[34m\u001b[1mwandb\u001b[0m: Agent Starting Run: 4bc9f9kp with config:\n",
            "\u001b[34m\u001b[1mwandb\u001b[0m: \tactivation: tanh\n",
            "\u001b[34m\u001b[1mwandb\u001b[0m: \tbatch_size: 16\n",
            "\u001b[34m\u001b[1mwandb\u001b[0m: \tinitializer: xavier\n",
            "\u001b[34m\u001b[1mwandb\u001b[0m: \tlamda: 0.0005\n",
            "\u001b[34m\u001b[1mwandb\u001b[0m: \tlearning_rate: 0.0001\n",
            "\u001b[34m\u001b[1mwandb\u001b[0m: \tmax_epochs: 5\n",
            "\u001b[34m\u001b[1mwandb\u001b[0m: \tnum_hidden_layers: 5\n",
            "\u001b[34m\u001b[1mwandb\u001b[0m: \tnum_hidden_neurons: 64\n",
            "\u001b[34m\u001b[1mwandb\u001b[0m: \toptimizer: nadam\n"
          ]
        },
        {
          "data": {
            "text/html": [
              "\n",
              "                    Syncing run <strong><a href=\"https://wandb.ai/dl22/Mse_loss_assignment1/runs/4bc9f9kp\" target=\"_blank\">treasured-sweep-16</a></strong> to <a href=\"https://wandb.ai/dl22/Mse_loss_assignment1\" target=\"_blank\">Weights & Biases</a> (<a href=\"https://docs.wandb.com/integrations/jupyter.html\" target=\"_blank\">docs</a>).<br/>\n",
              "Sweep page: <a href=\"https://wandb.ai/dl22/Mse_loss_assignment1/sweeps/uhpmy0e2\" target=\"_blank\">https://wandb.ai/dl22/Mse_loss_assignment1/sweeps/uhpmy0e2</a><br/>\n",
              "\n",
              "                "
            ],
            "text/plain": [
              "<IPython.core.display.HTML object>"
            ]
          },
          "metadata": {},
          "output_type": "display_data"
        },
        {
          "name": "stdout",
          "output_type": "stream",
          "text": [
            "epoch: 0 training loss: 0.13660255577024646 training accuracy 0.8582962962962963 validation accuracy 0.8455\n",
            "epoch: 1 training loss: 0.10349393016124185 training accuracy 0.8714074074074074 validation accuracy 0.8571666666666666\n",
            "epoch: 2 training loss: 0.09564996837863675 training accuracy 0.8769629629629629 validation accuracy 0.8651666666666666\n",
            "epoch: 3 training loss: 0.0909393560381938 training accuracy 0.8809814814814815 validation accuracy 0.867\n",
            "epoch: 4 training loss: 0.08759433130135294 training accuracy 0.8842777777777778 validation accuracy 0.8676666666666667\n"
          ]
        },
        {
          "data": {
            "text/html": [
              "<br/>Waiting for W&B process to finish, PID 898... <strong style=\"color:green\">(success).</strong>"
            ],
            "text/plain": [
              "<IPython.core.display.HTML object>"
            ]
          },
          "metadata": {},
          "output_type": "display_data"
        },
        {
          "data": {
            "application/vnd.jupyter.widget-view+json": {
              "model_id": "a62caf0627104d0b918d09d5258d8293",
              "version_major": 2,
              "version_minor": 0
            },
            "text/plain": [
              "VBox(children=(Label(value=' 0.00MB of 0.00MB uploaded (0.00MB deduped)\\r'), FloatProgress(value=1.0, max=1.0)…"
            ]
          },
          "metadata": {},
          "output_type": "display_data"
        },
        {
          "data": {
            "text/html": [
              "<style>\n",
              "    table.wandb td:nth-child(1) { padding: 0 10px; text-align: right }\n",
              "    .wandb-row { display: flex; flex-direction: row; flex-wrap: wrap; width: 100% }\n",
              "    .wandb-col { display: flex; flex-direction: column; flex-basis: 100%; flex: 1; padding: 10px; }\n",
              "    </style>\n",
              "<div class=\"wandb-row\"><div class=\"wandb-col\">\n",
              "<h3>Run history:</h3><br/><table class=\"wandb\"><tr><td>epoch</td><td>▁▃▅▆█</td></tr><tr><td>training_accuracy</td><td>▁▅▆▇█</td></tr><tr><td>training_loss</td><td>█▃▂▁▁</td></tr><tr><td>validation_accuracy</td><td>▁▅▇██</td></tr></table><br/></div><div class=\"wandb-col\">\n",
              "<h3>Run summary:</h3><br/><table class=\"wandb\"><tr><td>epoch</td><td>4</td></tr><tr><td>training_accuracy</td><td>0.88428</td></tr><tr><td>training_loss</td><td>0.08759</td></tr><tr><td>validation_accuracy</td><td>0.86767</td></tr></table>\n",
              "</div></div>\n",
              "Synced 5 W&B file(s), 0 media file(s), 0 artifact file(s) and 0 other file(s)\n",
              "<br/>Synced <strong style=\"color:#cdcd00\">treasured-sweep-16</strong>: <a href=\"https://wandb.ai/dl22/Mse_loss_assignment1/runs/4bc9f9kp\" target=\"_blank\">https://wandb.ai/dl22/Mse_loss_assignment1/runs/4bc9f9kp</a><br/>\n",
              "Find logs at: <code>./wandb/run-20220224_124558-4bc9f9kp/logs</code><br/>\n"
            ],
            "text/plain": [
              "<IPython.core.display.HTML object>"
            ]
          },
          "metadata": {},
          "output_type": "display_data"
        },
        {
          "name": "stderr",
          "output_type": "stream",
          "text": [
            "\u001b[34m\u001b[1mwandb\u001b[0m: Agent Starting Run: f2x1f3t2 with config:\n",
            "\u001b[34m\u001b[1mwandb\u001b[0m: \tactivation: tanh\n",
            "\u001b[34m\u001b[1mwandb\u001b[0m: \tbatch_size: 64\n",
            "\u001b[34m\u001b[1mwandb\u001b[0m: \tinitializer: xavier\n",
            "\u001b[34m\u001b[1mwandb\u001b[0m: \tlamda: 0.5\n",
            "\u001b[34m\u001b[1mwandb\u001b[0m: \tlearning_rate: 0.0001\n",
            "\u001b[34m\u001b[1mwandb\u001b[0m: \tmax_epochs: 10\n",
            "\u001b[34m\u001b[1mwandb\u001b[0m: \tnum_hidden_layers: 5\n",
            "\u001b[34m\u001b[1mwandb\u001b[0m: \tnum_hidden_neurons: 64\n",
            "\u001b[34m\u001b[1mwandb\u001b[0m: \toptimizer: nadam\n"
          ]
        },
        {
          "data": {
            "text/html": [
              "\n",
              "                    Syncing run <strong><a href=\"https://wandb.ai/dl22/Mse_loss_assignment1/runs/f2x1f3t2\" target=\"_blank\">effortless-sweep-17</a></strong> to <a href=\"https://wandb.ai/dl22/Mse_loss_assignment1\" target=\"_blank\">Weights & Biases</a> (<a href=\"https://docs.wandb.com/integrations/jupyter.html\" target=\"_blank\">docs</a>).<br/>\n",
              "Sweep page: <a href=\"https://wandb.ai/dl22/Mse_loss_assignment1/sweeps/uhpmy0e2\" target=\"_blank\">https://wandb.ai/dl22/Mse_loss_assignment1/sweeps/uhpmy0e2</a><br/>\n",
              "\n",
              "                "
            ],
            "text/plain": [
              "<IPython.core.display.HTML object>"
            ]
          },
          "metadata": {},
          "output_type": "display_data"
        },
        {
          "name": "stdout",
          "output_type": "stream",
          "text": [
            "epoch: 0 training loss: 2.6092086834477115 training accuracy 0.842 validation accuracy 0.8313333333333334\n",
            "epoch: 1 training loss: 2.7112910591348873 training accuracy 0.8576851851851852 validation accuracy 0.8435\n",
            "epoch: 2 training loss: 2.7669154721238165 training accuracy 0.8667777777777778 validation accuracy 0.8493333333333334\n",
            "epoch: 3 training loss: 2.807899077139767 training accuracy 0.8732407407407408 validation accuracy 0.8561666666666666\n",
            "epoch: 4 training loss: 2.841544061885549 training accuracy 0.8780185185185185 validation accuracy 0.8623333333333333\n",
            "epoch: 5 training loss: 2.8711728674857318 training accuracy 0.8817592592592592 validation accuracy 0.8658333333333333\n",
            "epoch: 6 training loss: 2.898410501400981 training accuracy 0.8848888888888888 validation accuracy 0.8653333333333333\n",
            "epoch: 7 training loss: 2.923951103709397 training accuracy 0.8872962962962962 validation accuracy 0.8665\n",
            "epoch: 8 training loss: 2.9482091484442687 training accuracy 0.8907222222222222 validation accuracy 0.8696666666666667\n",
            "epoch: 9 training loss: 2.97166311945153 training accuracy 0.8923888888888889 validation accuracy 0.8713333333333333\n"
          ]
        },
        {
          "data": {
            "text/html": [
              "<br/>Waiting for W&B process to finish, PID 937... <strong style=\"color:green\">(success).</strong>"
            ],
            "text/plain": [
              "<IPython.core.display.HTML object>"
            ]
          },
          "metadata": {},
          "output_type": "display_data"
        },
        {
          "data": {
            "application/vnd.jupyter.widget-view+json": {
              "model_id": "22f829b492a747c58dc4aed1531904a7",
              "version_major": 2,
              "version_minor": 0
            },
            "text/plain": [
              "VBox(children=(Label(value=' 0.00MB of 0.00MB uploaded (0.00MB deduped)\\r'), FloatProgress(value=1.0, max=1.0)…"
            ]
          },
          "metadata": {},
          "output_type": "display_data"
        },
        {
          "data": {
            "text/html": [
              "<style>\n",
              "    table.wandb td:nth-child(1) { padding: 0 10px; text-align: right }\n",
              "    .wandb-row { display: flex; flex-direction: row; flex-wrap: wrap; width: 100% }\n",
              "    .wandb-col { display: flex; flex-direction: column; flex-basis: 100%; flex: 1; padding: 10px; }\n",
              "    </style>\n",
              "<div class=\"wandb-row\"><div class=\"wandb-col\">\n",
              "<h3>Run history:</h3><br/><table class=\"wandb\"><tr><td>epoch</td><td>▁▂▃▃▄▅▆▆▇█</td></tr><tr><td>training_accuracy</td><td>▁▃▄▅▆▇▇▇██</td></tr><tr><td>training_loss</td><td>▁▃▄▅▅▆▇▇██</td></tr><tr><td>validation_accuracy</td><td>▁▃▄▅▆▇▇▇██</td></tr></table><br/></div><div class=\"wandb-col\">\n",
              "<h3>Run summary:</h3><br/><table class=\"wandb\"><tr><td>epoch</td><td>9</td></tr><tr><td>training_accuracy</td><td>0.89239</td></tr><tr><td>training_loss</td><td>2.97166</td></tr><tr><td>validation_accuracy</td><td>0.87133</td></tr></table>\n",
              "</div></div>\n",
              "Synced 5 W&B file(s), 0 media file(s), 0 artifact file(s) and 0 other file(s)\n",
              "<br/>Synced <strong style=\"color:#cdcd00\">effortless-sweep-17</strong>: <a href=\"https://wandb.ai/dl22/Mse_loss_assignment1/runs/f2x1f3t2\" target=\"_blank\">https://wandb.ai/dl22/Mse_loss_assignment1/runs/f2x1f3t2</a><br/>\n",
              "Find logs at: <code>./wandb/run-20220224_125202-f2x1f3t2/logs</code><br/>\n"
            ],
            "text/plain": [
              "<IPython.core.display.HTML object>"
            ]
          },
          "metadata": {},
          "output_type": "display_data"
        },
        {
          "name": "stderr",
          "output_type": "stream",
          "text": [
            "\u001b[34m\u001b[1mwandb\u001b[0m: Agent Starting Run: ngrf79uk with config:\n",
            "\u001b[34m\u001b[1mwandb\u001b[0m: \tactivation: tanh\n",
            "\u001b[34m\u001b[1mwandb\u001b[0m: \tbatch_size: 16\n",
            "\u001b[34m\u001b[1mwandb\u001b[0m: \tinitializer: xavier\n",
            "\u001b[34m\u001b[1mwandb\u001b[0m: \tlamda: 0.5\n",
            "\u001b[34m\u001b[1mwandb\u001b[0m: \tlearning_rate: 0.0001\n",
            "\u001b[34m\u001b[1mwandb\u001b[0m: \tmax_epochs: 10\n",
            "\u001b[34m\u001b[1mwandb\u001b[0m: \tnum_hidden_layers: 5\n",
            "\u001b[34m\u001b[1mwandb\u001b[0m: \tnum_hidden_neurons: 32\n",
            "\u001b[34m\u001b[1mwandb\u001b[0m: \toptimizer: adam\n"
          ]
        },
        {
          "data": {
            "text/html": [
              "\n",
              "                    Syncing run <strong><a href=\"https://wandb.ai/dl22/Mse_loss_assignment1/runs/ngrf79uk\" target=\"_blank\">astral-sweep-18</a></strong> to <a href=\"https://wandb.ai/dl22/Mse_loss_assignment1\" target=\"_blank\">Weights & Biases</a> (<a href=\"https://docs.wandb.com/integrations/jupyter.html\" target=\"_blank\">docs</a>).<br/>\n",
              "Sweep page: <a href=\"https://wandb.ai/dl22/Mse_loss_assignment1/sweeps/uhpmy0e2\" target=\"_blank\">https://wandb.ai/dl22/Mse_loss_assignment1/sweeps/uhpmy0e2</a><br/>\n",
              "\n",
              "                "
            ],
            "text/plain": [
              "<IPython.core.display.HTML object>"
            ]
          },
          "metadata": {},
          "output_type": "display_data"
        },
        {
          "name": "stdout",
          "output_type": "stream",
          "text": [
            "epoch: 0 training loss: 3.0025436268062085 training accuracy 0.8472037037037037 validation accuracy 0.8343333333333334\n",
            "epoch: 1 training loss: 3.329873400358386 training accuracy 0.8613148148148149 validation accuracy 0.8445\n",
            "epoch: 2 training loss: 3.4790679162345963 training accuracy 0.8685185185185185 validation accuracy 0.849\n",
            "epoch: 3 training loss: 3.5889261405405133 training accuracy 0.8740925925925926 validation accuracy 0.8555\n",
            "epoch: 4 training loss: 3.6824708930307932 training accuracy 0.8772222222222222 validation accuracy 0.8578333333333333\n",
            "epoch: 5 training loss: 3.7663452554986763 training accuracy 0.8806111111111111 validation accuracy 0.8598333333333333\n",
            "epoch: 6 training loss: 3.843768514321578 training accuracy 0.8828518518518519 validation accuracy 0.8606666666666667\n",
            "epoch: 7 training loss: 3.917051828376132 training accuracy 0.8853333333333333 validation accuracy 0.8621666666666666\n",
            "epoch: 8 training loss: 3.9878146540162396 training accuracy 0.8874074074074074 validation accuracy 0.8643333333333333\n",
            "epoch: 9 training loss: 4.057159570368388 training accuracy 0.8893148148148148 validation accuracy 0.8658333333333333\n"
          ]
        },
        {
          "data": {
            "text/html": [
              "<br/>Waiting for W&B process to finish, PID 976... <strong style=\"color:green\">(success).</strong>"
            ],
            "text/plain": [
              "<IPython.core.display.HTML object>"
            ]
          },
          "metadata": {},
          "output_type": "display_data"
        },
        {
          "data": {
            "application/vnd.jupyter.widget-view+json": {
              "model_id": "09bbe19038ed4ae59ab27f83b30d1523",
              "version_major": 2,
              "version_minor": 0
            },
            "text/plain": [
              "VBox(children=(Label(value=' 0.00MB of 0.00MB uploaded (0.00MB deduped)\\r'), FloatProgress(value=1.0, max=1.0)…"
            ]
          },
          "metadata": {},
          "output_type": "display_data"
        },
        {
          "data": {
            "text/html": [
              "<style>\n",
              "    table.wandb td:nth-child(1) { padding: 0 10px; text-align: right }\n",
              "    .wandb-row { display: flex; flex-direction: row; flex-wrap: wrap; width: 100% }\n",
              "    .wandb-col { display: flex; flex-direction: column; flex-basis: 100%; flex: 1; padding: 10px; }\n",
              "    </style>\n",
              "<div class=\"wandb-row\"><div class=\"wandb-col\">\n",
              "<h3>Run history:</h3><br/><table class=\"wandb\"><tr><td>epoch</td><td>▁▂▃▃▄▅▆▆▇█</td></tr><tr><td>training_accuracy</td><td>▁▃▅▅▆▇▇▇██</td></tr><tr><td>training_loss</td><td>▁▃▄▅▆▆▇▇██</td></tr><tr><td>validation_accuracy</td><td>▁▃▄▆▆▇▇▇██</td></tr></table><br/></div><div class=\"wandb-col\">\n",
              "<h3>Run summary:</h3><br/><table class=\"wandb\"><tr><td>epoch</td><td>9</td></tr><tr><td>training_accuracy</td><td>0.88931</td></tr><tr><td>training_loss</td><td>4.05716</td></tr><tr><td>validation_accuracy</td><td>0.86583</td></tr></table>\n",
              "</div></div>\n",
              "Synced 5 W&B file(s), 0 media file(s), 0 artifact file(s) and 0 other file(s)\n",
              "<br/>Synced <strong style=\"color:#cdcd00\">astral-sweep-18</strong>: <a href=\"https://wandb.ai/dl22/Mse_loss_assignment1/runs/ngrf79uk\" target=\"_blank\">https://wandb.ai/dl22/Mse_loss_assignment1/runs/ngrf79uk</a><br/>\n",
              "Find logs at: <code>./wandb/run-20220224_130257-ngrf79uk/logs</code><br/>\n"
            ],
            "text/plain": [
              "<IPython.core.display.HTML object>"
            ]
          },
          "metadata": {},
          "output_type": "display_data"
        },
        {
          "name": "stderr",
          "output_type": "stream",
          "text": [
            "\u001b[34m\u001b[1mwandb\u001b[0m: Sweep Agent: Waiting for job.\n",
            "\u001b[34m\u001b[1mwandb\u001b[0m: Job received.\n",
            "\u001b[34m\u001b[1mwandb\u001b[0m: Agent Starting Run: 0j2fvrz5 with config:\n",
            "\u001b[34m\u001b[1mwandb\u001b[0m: \tactivation: tanh\n",
            "\u001b[34m\u001b[1mwandb\u001b[0m: \tbatch_size: 16\n",
            "\u001b[34m\u001b[1mwandb\u001b[0m: \tinitializer: xavier\n",
            "\u001b[34m\u001b[1mwandb\u001b[0m: \tlamda: 0\n",
            "\u001b[34m\u001b[1mwandb\u001b[0m: \tlearning_rate: 0.0001\n",
            "\u001b[34m\u001b[1mwandb\u001b[0m: \tmax_epochs: 10\n",
            "\u001b[34m\u001b[1mwandb\u001b[0m: \tnum_hidden_layers: 5\n",
            "\u001b[34m\u001b[1mwandb\u001b[0m: \tnum_hidden_neurons: 64\n",
            "\u001b[34m\u001b[1mwandb\u001b[0m: \toptimizer: nadam\n"
          ]
        },
        {
          "data": {
            "text/html": [
              "\n",
              "                    Syncing run <strong><a href=\"https://wandb.ai/dl22/Mse_loss_assignment1/runs/0j2fvrz5\" target=\"_blank\">jolly-sweep-19</a></strong> to <a href=\"https://wandb.ai/dl22/Mse_loss_assignment1\" target=\"_blank\">Weights & Biases</a> (<a href=\"https://docs.wandb.com/integrations/jupyter.html\" target=\"_blank\">docs</a>).<br/>\n",
              "Sweep page: <a href=\"https://wandb.ai/dl22/Mse_loss_assignment1/sweeps/uhpmy0e2\" target=\"_blank\">https://wandb.ai/dl22/Mse_loss_assignment1/sweeps/uhpmy0e2</a><br/>\n",
              "\n",
              "                "
            ],
            "text/plain": [
              "<IPython.core.display.HTML object>"
            ]
          },
          "metadata": {},
          "output_type": "display_data"
        },
        {
          "name": "stdout",
          "output_type": "stream",
          "text": [
            "epoch: 0 training loss: 0.1361204256620508 training accuracy 0.8626111111111111 validation accuracy 0.8521666666666666\n",
            "epoch: 1 training loss: 0.09951125135044 training accuracy 0.8747962962962963 validation accuracy 0.8641666666666666\n",
            "epoch: 2 training loss: 0.09171336031238778 training accuracy 0.8816111111111111 validation accuracy 0.8673333333333333\n",
            "epoch: 3 training loss: 0.08703094617340436 training accuracy 0.885425925925926 validation accuracy 0.8703333333333333\n",
            "epoch: 4 training loss: 0.08356517226289438 training accuracy 0.8883888888888889 validation accuracy 0.8705\n",
            "epoch: 5 training loss: 0.08079256686760837 training accuracy 0.8917592592592593 validation accuracy 0.871\n",
            "epoch: 6 training loss: 0.07847880613767282 training accuracy 0.8948703703703703 validation accuracy 0.8721666666666666\n",
            "epoch: 7 training loss: 0.07648778091964482 training accuracy 0.8973888888888889 validation accuracy 0.8743333333333333\n",
            "epoch: 8 training loss: 0.07474242189269699 training accuracy 0.8997777777777778 validation accuracy 0.8771666666666667\n",
            "epoch: 9 training loss: 0.07318555824308598 training accuracy 0.9017777777777778 validation accuracy 0.8771666666666667\n"
          ]
        },
        {
          "data": {
            "text/html": [
              "<br/>Waiting for W&B process to finish, PID 1015... <strong style=\"color:green\">(success).</strong>"
            ],
            "text/plain": [
              "<IPython.core.display.HTML object>"
            ]
          },
          "metadata": {},
          "output_type": "display_data"
        },
        {
          "data": {
            "application/vnd.jupyter.widget-view+json": {
              "model_id": "610d73d0c3ab46f4aad41ddd216a69e8",
              "version_major": 2,
              "version_minor": 0
            },
            "text/plain": [
              "VBox(children=(Label(value=' 0.00MB of 0.00MB uploaded (0.00MB deduped)\\r'), FloatProgress(value=1.0, max=1.0)…"
            ]
          },
          "metadata": {},
          "output_type": "display_data"
        },
        {
          "data": {
            "text/html": [
              "<style>\n",
              "    table.wandb td:nth-child(1) { padding: 0 10px; text-align: right }\n",
              "    .wandb-row { display: flex; flex-direction: row; flex-wrap: wrap; width: 100% }\n",
              "    .wandb-col { display: flex; flex-direction: column; flex-basis: 100%; flex: 1; padding: 10px; }\n",
              "    </style>\n",
              "<div class=\"wandb-row\"><div class=\"wandb-col\">\n",
              "<h3>Run history:</h3><br/><table class=\"wandb\"><tr><td>epoch</td><td>▁▂▃▃▄▅▆▆▇█</td></tr><tr><td>training_accuracy</td><td>▁▃▄▅▆▆▇▇██</td></tr><tr><td>training_loss</td><td>█▄▃▃▂▂▂▁▁▁</td></tr><tr><td>validation_accuracy</td><td>▁▄▅▆▆▆▇▇██</td></tr></table><br/></div><div class=\"wandb-col\">\n",
              "<h3>Run summary:</h3><br/><table class=\"wandb\"><tr><td>epoch</td><td>9</td></tr><tr><td>training_accuracy</td><td>0.90178</td></tr><tr><td>training_loss</td><td>0.07319</td></tr><tr><td>validation_accuracy</td><td>0.87717</td></tr></table>\n",
              "</div></div>\n",
              "Synced 5 W&B file(s), 0 media file(s), 0 artifact file(s) and 0 other file(s)\n",
              "<br/>Synced <strong style=\"color:#cdcd00\">jolly-sweep-19</strong>: <a href=\"https://wandb.ai/dl22/Mse_loss_assignment1/runs/0j2fvrz5\" target=\"_blank\">https://wandb.ai/dl22/Mse_loss_assignment1/runs/0j2fvrz5</a><br/>\n",
              "Find logs at: <code>./wandb/run-20220224_130930-0j2fvrz5/logs</code><br/>\n"
            ],
            "text/plain": [
              "<IPython.core.display.HTML object>"
            ]
          },
          "metadata": {},
          "output_type": "display_data"
        },
        {
          "name": "stderr",
          "output_type": "stream",
          "text": [
            "\u001b[34m\u001b[1mwandb\u001b[0m: Agent Starting Run: b975jghj with config:\n",
            "\u001b[34m\u001b[1mwandb\u001b[0m: \tactivation: tanh\n",
            "\u001b[34m\u001b[1mwandb\u001b[0m: \tbatch_size: 32\n",
            "\u001b[34m\u001b[1mwandb\u001b[0m: \tinitializer: xavier\n",
            "\u001b[34m\u001b[1mwandb\u001b[0m: \tlamda: 0\n",
            "\u001b[34m\u001b[1mwandb\u001b[0m: \tlearning_rate: 0.0001\n",
            "\u001b[34m\u001b[1mwandb\u001b[0m: \tmax_epochs: 10\n",
            "\u001b[34m\u001b[1mwandb\u001b[0m: \tnum_hidden_layers: 5\n",
            "\u001b[34m\u001b[1mwandb\u001b[0m: \tnum_hidden_neurons: 128\n",
            "\u001b[34m\u001b[1mwandb\u001b[0m: \toptimizer: nadam\n"
          ]
        },
        {
          "data": {
            "text/html": [
              "\n",
              "                    Syncing run <strong><a href=\"https://wandb.ai/dl22/Mse_loss_assignment1/runs/b975jghj\" target=\"_blank\">ethereal-sweep-20</a></strong> to <a href=\"https://wandb.ai/dl22/Mse_loss_assignment1\" target=\"_blank\">Weights & Biases</a> (<a href=\"https://docs.wandb.com/integrations/jupyter.html\" target=\"_blank\">docs</a>).<br/>\n",
              "Sweep page: <a href=\"https://wandb.ai/dl22/Mse_loss_assignment1/sweeps/uhpmy0e2\" target=\"_blank\">https://wandb.ai/dl22/Mse_loss_assignment1/sweeps/uhpmy0e2</a><br/>\n",
              "\n",
              "                "
            ],
            "text/plain": [
              "<IPython.core.display.HTML object>"
            ]
          },
          "metadata": {},
          "output_type": "display_data"
        },
        {
          "name": "stdout",
          "output_type": "stream",
          "text": [
            "epoch: 0 training loss: 0.12920621855840145 training accuracy 0.8609259259259259 validation accuracy 0.8463333333333334\n",
            "epoch: 1 training loss: 0.09789024275537066 training accuracy 0.8697222222222222 validation accuracy 0.8528333333333333\n",
            "epoch: 2 training loss: 0.09023735033176743 training accuracy 0.8763518518518518 validation accuracy 0.859\n"
          ]
        }
      ],
      "source": [
        "wandb.agent(sweep_id,train_nw, count = 30)"
      ]
    }
  ],
  "metadata": {
    "accelerator": "GPU",
    "colab": {
      "collapsed_sections": [],
      "name": "mse_loss_fmnist.ipynb",
      "provenance": [],
      "include_colab_link": true
    },
    "kernelspec": {
      "display_name": "Python 3",
      "name": "python3"
    },
    "language_info": {
      "name": "python"
    },
    "widgets": {
      "application/vnd.jupyter.widget-state+json": {
        "0346b09ce5454d479de19e608857e2a1": {
          "model_module": "@jupyter-widgets/controls",
          "model_module_version": "1.5.0",
          "model_name": "FloatProgressModel",
          "state": {
            "_dom_classes": [],
            "_model_module": "@jupyter-widgets/controls",
            "_model_module_version": "1.5.0",
            "_model_name": "FloatProgressModel",
            "_view_count": null,
            "_view_module": "@jupyter-widgets/controls",
            "_view_module_version": "1.5.0",
            "_view_name": "ProgressView",
            "bar_style": "",
            "description": "",
            "description_tooltip": null,
            "layout": "IPY_MODEL_fe638d70c4af46a8813120b30b1208b6",
            "max": 1,
            "min": 0,
            "orientation": "horizontal",
            "style": "IPY_MODEL_5d0190b9828446ae9ef2acdf0f798997",
            "value": 1
          }
        },
        "040c4543a01c4a17afa7febf7afafe3d": {
          "model_module": "@jupyter-widgets/base",
          "model_module_version": "1.2.0",
          "model_name": "LayoutModel",
          "state": {
            "_model_module": "@jupyter-widgets/base",
            "_model_module_version": "1.2.0",
            "_model_name": "LayoutModel",
            "_view_count": null,
            "_view_module": "@jupyter-widgets/base",
            "_view_module_version": "1.2.0",
            "_view_name": "LayoutView",
            "align_content": null,
            "align_items": null,
            "align_self": null,
            "border": null,
            "bottom": null,
            "display": null,
            "flex": null,
            "flex_flow": null,
            "grid_area": null,
            "grid_auto_columns": null,
            "grid_auto_flow": null,
            "grid_auto_rows": null,
            "grid_column": null,
            "grid_gap": null,
            "grid_row": null,
            "grid_template_areas": null,
            "grid_template_columns": null,
            "grid_template_rows": null,
            "height": null,
            "justify_content": null,
            "justify_items": null,
            "left": null,
            "margin": null,
            "max_height": null,
            "max_width": null,
            "min_height": null,
            "min_width": null,
            "object_fit": null,
            "object_position": null,
            "order": null,
            "overflow": null,
            "overflow_x": null,
            "overflow_y": null,
            "padding": null,
            "right": null,
            "top": null,
            "visibility": null,
            "width": null
          }
        },
        "052ef6fcdd3646a79f7e852e42ebdc91": {
          "model_module": "@jupyter-widgets/controls",
          "model_module_version": "1.5.0",
          "model_name": "LabelModel",
          "state": {
            "_dom_classes": [],
            "_model_module": "@jupyter-widgets/controls",
            "_model_module_version": "1.5.0",
            "_model_name": "LabelModel",
            "_view_count": null,
            "_view_module": "@jupyter-widgets/controls",
            "_view_module_version": "1.5.0",
            "_view_name": "LabelView",
            "description": "",
            "description_tooltip": null,
            "layout": "IPY_MODEL_129fd310682b42c9bfbec12ead7c69d2",
            "placeholder": "​",
            "style": "IPY_MODEL_85b33fa567a649949cfff68061e73aef",
            "value": " 0.01MB of 0.01MB uploaded (0.00MB deduped)\r"
          }
        },
        "05d2a4b59c354ea9a173760102e452fe": {
          "model_module": "@jupyter-widgets/controls",
          "model_module_version": "1.5.0",
          "model_name": "LabelModel",
          "state": {
            "_dom_classes": [],
            "_model_module": "@jupyter-widgets/controls",
            "_model_module_version": "1.5.0",
            "_model_name": "LabelModel",
            "_view_count": null,
            "_view_module": "@jupyter-widgets/controls",
            "_view_module_version": "1.5.0",
            "_view_name": "LabelView",
            "description": "",
            "description_tooltip": null,
            "layout": "IPY_MODEL_09bd729640bc4c46a31ae9a4cd3a3e82",
            "placeholder": "​",
            "style": "IPY_MODEL_9103ebbba67e49caa6b9dc60c22c14ec",
            "value": " 0.01MB of 0.01MB uploaded (0.00MB deduped)\r"
          }
        },
        "074d750bd1cb4571a8876604c08b1e9c": {
          "model_module": "@jupyter-widgets/controls",
          "model_module_version": "1.5.0",
          "model_name": "FloatProgressModel",
          "state": {
            "_dom_classes": [],
            "_model_module": "@jupyter-widgets/controls",
            "_model_module_version": "1.5.0",
            "_model_name": "FloatProgressModel",
            "_view_count": null,
            "_view_module": "@jupyter-widgets/controls",
            "_view_module_version": "1.5.0",
            "_view_name": "ProgressView",
            "bar_style": "",
            "description": "",
            "description_tooltip": null,
            "layout": "IPY_MODEL_6bc7064c5b604edfb455f46277cb7ad8",
            "max": 1,
            "min": 0,
            "orientation": "horizontal",
            "style": "IPY_MODEL_7fb3549d8ae8489498a649743f9339ea",
            "value": 1
          }
        },
        "07eeea3711694c79a65cb461ad960642": {
          "model_module": "@jupyter-widgets/controls",
          "model_module_version": "1.5.0",
          "model_name": "VBoxModel",
          "state": {
            "_dom_classes": [],
            "_model_module": "@jupyter-widgets/controls",
            "_model_module_version": "1.5.0",
            "_model_name": "VBoxModel",
            "_view_count": null,
            "_view_module": "@jupyter-widgets/controls",
            "_view_module_version": "1.5.0",
            "_view_name": "VBoxView",
            "box_style": "",
            "children": [
              "IPY_MODEL_4fe8aca355414919a8ccfabafea4ba05",
              "IPY_MODEL_bdcbab295dd74f2dad3e2c9f26afe02d"
            ],
            "layout": "IPY_MODEL_ee3259e9f7fe49d9a2918e27ceeb09ea"
          }
        },
        "09bd729640bc4c46a31ae9a4cd3a3e82": {
          "model_module": "@jupyter-widgets/base",
          "model_module_version": "1.2.0",
          "model_name": "LayoutModel",
          "state": {
            "_model_module": "@jupyter-widgets/base",
            "_model_module_version": "1.2.0",
            "_model_name": "LayoutModel",
            "_view_count": null,
            "_view_module": "@jupyter-widgets/base",
            "_view_module_version": "1.2.0",
            "_view_name": "LayoutView",
            "align_content": null,
            "align_items": null,
            "align_self": null,
            "border": null,
            "bottom": null,
            "display": null,
            "flex": null,
            "flex_flow": null,
            "grid_area": null,
            "grid_auto_columns": null,
            "grid_auto_flow": null,
            "grid_auto_rows": null,
            "grid_column": null,
            "grid_gap": null,
            "grid_row": null,
            "grid_template_areas": null,
            "grid_template_columns": null,
            "grid_template_rows": null,
            "height": null,
            "justify_content": null,
            "justify_items": null,
            "left": null,
            "margin": null,
            "max_height": null,
            "max_width": null,
            "min_height": null,
            "min_width": null,
            "object_fit": null,
            "object_position": null,
            "order": null,
            "overflow": null,
            "overflow_x": null,
            "overflow_y": null,
            "padding": null,
            "right": null,
            "top": null,
            "visibility": null,
            "width": null
          }
        },
        "0e108d11c7a9401d9f82fb8e8e9bd174": {
          "model_module": "@jupyter-widgets/controls",
          "model_module_version": "1.5.0",
          "model_name": "LabelModel",
          "state": {
            "_dom_classes": [],
            "_model_module": "@jupyter-widgets/controls",
            "_model_module_version": "1.5.0",
            "_model_name": "LabelModel",
            "_view_count": null,
            "_view_module": "@jupyter-widgets/controls",
            "_view_module_version": "1.5.0",
            "_view_name": "LabelView",
            "description": "",
            "description_tooltip": null,
            "layout": "IPY_MODEL_f336002f118b4dfda4def3319056017f",
            "placeholder": "​",
            "style": "IPY_MODEL_80124d0ef28c418b941c49ffccf8c466",
            "value": " 0.01MB of 0.01MB uploaded (0.00MB deduped)\r"
          }
        },
        "0f017e21701b49a28dd400f2d6abd08f": {
          "model_module": "@jupyter-widgets/controls",
          "model_module_version": "1.5.0",
          "model_name": "VBoxModel",
          "state": {
            "_dom_classes": [],
            "_model_module": "@jupyter-widgets/controls",
            "_model_module_version": "1.5.0",
            "_model_name": "VBoxModel",
            "_view_count": null,
            "_view_module": "@jupyter-widgets/controls",
            "_view_module_version": "1.5.0",
            "_view_name": "VBoxView",
            "box_style": "",
            "children": [
              "IPY_MODEL_0e108d11c7a9401d9f82fb8e8e9bd174",
              "IPY_MODEL_0346b09ce5454d479de19e608857e2a1"
            ],
            "layout": "IPY_MODEL_040c4543a01c4a17afa7febf7afafe3d"
          }
        },
        "0fa9bbd2dd01448cb8c13bc6e6ecc4df": {
          "model_module": "@jupyter-widgets/base",
          "model_module_version": "1.2.0",
          "model_name": "LayoutModel",
          "state": {
            "_model_module": "@jupyter-widgets/base",
            "_model_module_version": "1.2.0",
            "_model_name": "LayoutModel",
            "_view_count": null,
            "_view_module": "@jupyter-widgets/base",
            "_view_module_version": "1.2.0",
            "_view_name": "LayoutView",
            "align_content": null,
            "align_items": null,
            "align_self": null,
            "border": null,
            "bottom": null,
            "display": null,
            "flex": null,
            "flex_flow": null,
            "grid_area": null,
            "grid_auto_columns": null,
            "grid_auto_flow": null,
            "grid_auto_rows": null,
            "grid_column": null,
            "grid_gap": null,
            "grid_row": null,
            "grid_template_areas": null,
            "grid_template_columns": null,
            "grid_template_rows": null,
            "height": null,
            "justify_content": null,
            "justify_items": null,
            "left": null,
            "margin": null,
            "max_height": null,
            "max_width": null,
            "min_height": null,
            "min_width": null,
            "object_fit": null,
            "object_position": null,
            "order": null,
            "overflow": null,
            "overflow_x": null,
            "overflow_y": null,
            "padding": null,
            "right": null,
            "top": null,
            "visibility": null,
            "width": null
          }
        },
        "129fd310682b42c9bfbec12ead7c69d2": {
          "model_module": "@jupyter-widgets/base",
          "model_module_version": "1.2.0",
          "model_name": "LayoutModel",
          "state": {
            "_model_module": "@jupyter-widgets/base",
            "_model_module_version": "1.2.0",
            "_model_name": "LayoutModel",
            "_view_count": null,
            "_view_module": "@jupyter-widgets/base",
            "_view_module_version": "1.2.0",
            "_view_name": "LayoutView",
            "align_content": null,
            "align_items": null,
            "align_self": null,
            "border": null,
            "bottom": null,
            "display": null,
            "flex": null,
            "flex_flow": null,
            "grid_area": null,
            "grid_auto_columns": null,
            "grid_auto_flow": null,
            "grid_auto_rows": null,
            "grid_column": null,
            "grid_gap": null,
            "grid_row": null,
            "grid_template_areas": null,
            "grid_template_columns": null,
            "grid_template_rows": null,
            "height": null,
            "justify_content": null,
            "justify_items": null,
            "left": null,
            "margin": null,
            "max_height": null,
            "max_width": null,
            "min_height": null,
            "min_width": null,
            "object_fit": null,
            "object_position": null,
            "order": null,
            "overflow": null,
            "overflow_x": null,
            "overflow_y": null,
            "padding": null,
            "right": null,
            "top": null,
            "visibility": null,
            "width": null
          }
        },
        "1861f716b6584dfab2b6a23ca9b5ae89": {
          "model_module": "@jupyter-widgets/controls",
          "model_module_version": "1.5.0",
          "model_name": "DescriptionStyleModel",
          "state": {
            "_model_module": "@jupyter-widgets/controls",
            "_model_module_version": "1.5.0",
            "_model_name": "DescriptionStyleModel",
            "_view_count": null,
            "_view_module": "@jupyter-widgets/base",
            "_view_module_version": "1.2.0",
            "_view_name": "StyleView",
            "description_width": ""
          }
        },
        "19cdfdb2af9f4ca581908d96dedab4b3": {
          "model_module": "@jupyter-widgets/controls",
          "model_module_version": "1.5.0",
          "model_name": "FloatProgressModel",
          "state": {
            "_dom_classes": [],
            "_model_module": "@jupyter-widgets/controls",
            "_model_module_version": "1.5.0",
            "_model_name": "FloatProgressModel",
            "_view_count": null,
            "_view_module": "@jupyter-widgets/controls",
            "_view_module_version": "1.5.0",
            "_view_name": "ProgressView",
            "bar_style": "",
            "description": "",
            "description_tooltip": null,
            "layout": "IPY_MODEL_e3ee5c1dbacf45cd99919a991bdc18bc",
            "max": 1,
            "min": 0,
            "orientation": "horizontal",
            "style": "IPY_MODEL_222b74d844e34070a7d9fdc3241c5c31",
            "value": 1
          }
        },
        "1daf0218a3cd478795a1e39aecf0f8d4": {
          "model_module": "@jupyter-widgets/base",
          "model_module_version": "1.2.0",
          "model_name": "LayoutModel",
          "state": {
            "_model_module": "@jupyter-widgets/base",
            "_model_module_version": "1.2.0",
            "_model_name": "LayoutModel",
            "_view_count": null,
            "_view_module": "@jupyter-widgets/base",
            "_view_module_version": "1.2.0",
            "_view_name": "LayoutView",
            "align_content": null,
            "align_items": null,
            "align_self": null,
            "border": null,
            "bottom": null,
            "display": null,
            "flex": null,
            "flex_flow": null,
            "grid_area": null,
            "grid_auto_columns": null,
            "grid_auto_flow": null,
            "grid_auto_rows": null,
            "grid_column": null,
            "grid_gap": null,
            "grid_row": null,
            "grid_template_areas": null,
            "grid_template_columns": null,
            "grid_template_rows": null,
            "height": null,
            "justify_content": null,
            "justify_items": null,
            "left": null,
            "margin": null,
            "max_height": null,
            "max_width": null,
            "min_height": null,
            "min_width": null,
            "object_fit": null,
            "object_position": null,
            "order": null,
            "overflow": null,
            "overflow_x": null,
            "overflow_y": null,
            "padding": null,
            "right": null,
            "top": null,
            "visibility": null,
            "width": null
          }
        },
        "1e23ab75ca914821b8da2279127fb9f9": {
          "model_module": "@jupyter-widgets/controls",
          "model_module_version": "1.5.0",
          "model_name": "FloatProgressModel",
          "state": {
            "_dom_classes": [],
            "_model_module": "@jupyter-widgets/controls",
            "_model_module_version": "1.5.0",
            "_model_name": "FloatProgressModel",
            "_view_count": null,
            "_view_module": "@jupyter-widgets/controls",
            "_view_module_version": "1.5.0",
            "_view_name": "ProgressView",
            "bar_style": "",
            "description": "",
            "description_tooltip": null,
            "layout": "IPY_MODEL_7bc8cd912be141b689fecb21e20ded99",
            "max": 1,
            "min": 0,
            "orientation": "horizontal",
            "style": "IPY_MODEL_3d116f71c161423ca8a100d3636be033",
            "value": 1
          }
        },
        "222b74d844e34070a7d9fdc3241c5c31": {
          "model_module": "@jupyter-widgets/controls",
          "model_module_version": "1.5.0",
          "model_name": "ProgressStyleModel",
          "state": {
            "_model_module": "@jupyter-widgets/controls",
            "_model_module_version": "1.5.0",
            "_model_name": "ProgressStyleModel",
            "_view_count": null,
            "_view_module": "@jupyter-widgets/base",
            "_view_module_version": "1.2.0",
            "_view_name": "StyleView",
            "bar_color": null,
            "description_width": ""
          }
        },
        "2ba20d9875d146fd9d379aee985565fd": {
          "model_module": "@jupyter-widgets/controls",
          "model_module_version": "1.5.0",
          "model_name": "LabelModel",
          "state": {
            "_dom_classes": [],
            "_model_module": "@jupyter-widgets/controls",
            "_model_module_version": "1.5.0",
            "_model_name": "LabelModel",
            "_view_count": null,
            "_view_module": "@jupyter-widgets/controls",
            "_view_module_version": "1.5.0",
            "_view_name": "LabelView",
            "description": "",
            "description_tooltip": null,
            "layout": "IPY_MODEL_2c1f90a1854c4d9198ae8bbcd0696b74",
            "placeholder": "​",
            "style": "IPY_MODEL_e18f6a0b9e394a5a9e3dbb2f8db699cd",
            "value": " 0.01MB of 0.01MB uploaded (0.00MB deduped)\r"
          }
        },
        "2c1f90a1854c4d9198ae8bbcd0696b74": {
          "model_module": "@jupyter-widgets/base",
          "model_module_version": "1.2.0",
          "model_name": "LayoutModel",
          "state": {
            "_model_module": "@jupyter-widgets/base",
            "_model_module_version": "1.2.0",
            "_model_name": "LayoutModel",
            "_view_count": null,
            "_view_module": "@jupyter-widgets/base",
            "_view_module_version": "1.2.0",
            "_view_name": "LayoutView",
            "align_content": null,
            "align_items": null,
            "align_self": null,
            "border": null,
            "bottom": null,
            "display": null,
            "flex": null,
            "flex_flow": null,
            "grid_area": null,
            "grid_auto_columns": null,
            "grid_auto_flow": null,
            "grid_auto_rows": null,
            "grid_column": null,
            "grid_gap": null,
            "grid_row": null,
            "grid_template_areas": null,
            "grid_template_columns": null,
            "grid_template_rows": null,
            "height": null,
            "justify_content": null,
            "justify_items": null,
            "left": null,
            "margin": null,
            "max_height": null,
            "max_width": null,
            "min_height": null,
            "min_width": null,
            "object_fit": null,
            "object_position": null,
            "order": null,
            "overflow": null,
            "overflow_x": null,
            "overflow_y": null,
            "padding": null,
            "right": null,
            "top": null,
            "visibility": null,
            "width": null
          }
        },
        "2e449d0b01f640cb9bb714a5d7dc59a7": {
          "model_module": "@jupyter-widgets/controls",
          "model_module_version": "1.5.0",
          "model_name": "VBoxModel",
          "state": {
            "_dom_classes": [],
            "_model_module": "@jupyter-widgets/controls",
            "_model_module_version": "1.5.0",
            "_model_name": "VBoxModel",
            "_view_count": null,
            "_view_module": "@jupyter-widgets/controls",
            "_view_module_version": "1.5.0",
            "_view_name": "VBoxView",
            "box_style": "",
            "children": [
              "IPY_MODEL_d7a655d4b89f4e3f98972ddd094d60a3",
              "IPY_MODEL_1e23ab75ca914821b8da2279127fb9f9"
            ],
            "layout": "IPY_MODEL_c422926308764ba8a1407272fce06549"
          }
        },
        "32390f0a695e4b79b601725f62826aee": {
          "model_module": "@jupyter-widgets/controls",
          "model_module_version": "1.5.0",
          "model_name": "ProgressStyleModel",
          "state": {
            "_model_module": "@jupyter-widgets/controls",
            "_model_module_version": "1.5.0",
            "_model_name": "ProgressStyleModel",
            "_view_count": null,
            "_view_module": "@jupyter-widgets/base",
            "_view_module_version": "1.2.0",
            "_view_name": "StyleView",
            "bar_color": null,
            "description_width": ""
          }
        },
        "387e16d99a074c20a7ccf7839af4f54a": {
          "model_module": "@jupyter-widgets/base",
          "model_module_version": "1.2.0",
          "model_name": "LayoutModel",
          "state": {
            "_model_module": "@jupyter-widgets/base",
            "_model_module_version": "1.2.0",
            "_model_name": "LayoutModel",
            "_view_count": null,
            "_view_module": "@jupyter-widgets/base",
            "_view_module_version": "1.2.0",
            "_view_name": "LayoutView",
            "align_content": null,
            "align_items": null,
            "align_self": null,
            "border": null,
            "bottom": null,
            "display": null,
            "flex": null,
            "flex_flow": null,
            "grid_area": null,
            "grid_auto_columns": null,
            "grid_auto_flow": null,
            "grid_auto_rows": null,
            "grid_column": null,
            "grid_gap": null,
            "grid_row": null,
            "grid_template_areas": null,
            "grid_template_columns": null,
            "grid_template_rows": null,
            "height": null,
            "justify_content": null,
            "justify_items": null,
            "left": null,
            "margin": null,
            "max_height": null,
            "max_width": null,
            "min_height": null,
            "min_width": null,
            "object_fit": null,
            "object_position": null,
            "order": null,
            "overflow": null,
            "overflow_x": null,
            "overflow_y": null,
            "padding": null,
            "right": null,
            "top": null,
            "visibility": null,
            "width": null
          }
        },
        "38ca03449a6e47fa87ac6b761d19dc09": {
          "model_module": "@jupyter-widgets/controls",
          "model_module_version": "1.5.0",
          "model_name": "VBoxModel",
          "state": {
            "_dom_classes": [],
            "_model_module": "@jupyter-widgets/controls",
            "_model_module_version": "1.5.0",
            "_model_name": "VBoxModel",
            "_view_count": null,
            "_view_module": "@jupyter-widgets/controls",
            "_view_module_version": "1.5.0",
            "_view_name": "VBoxView",
            "box_style": "",
            "children": [
              "IPY_MODEL_05d2a4b59c354ea9a173760102e452fe",
              "IPY_MODEL_f91e3dc106f3492aa4cda959e507daf4"
            ],
            "layout": "IPY_MODEL_5a446bf6b79a4a6e922785a1d5bd1453"
          }
        },
        "3ad927a9b5154754b2e77629d9ec6744": {
          "model_module": "@jupyter-widgets/base",
          "model_module_version": "1.2.0",
          "model_name": "LayoutModel",
          "state": {
            "_model_module": "@jupyter-widgets/base",
            "_model_module_version": "1.2.0",
            "_model_name": "LayoutModel",
            "_view_count": null,
            "_view_module": "@jupyter-widgets/base",
            "_view_module_version": "1.2.0",
            "_view_name": "LayoutView",
            "align_content": null,
            "align_items": null,
            "align_self": null,
            "border": null,
            "bottom": null,
            "display": null,
            "flex": null,
            "flex_flow": null,
            "grid_area": null,
            "grid_auto_columns": null,
            "grid_auto_flow": null,
            "grid_auto_rows": null,
            "grid_column": null,
            "grid_gap": null,
            "grid_row": null,
            "grid_template_areas": null,
            "grid_template_columns": null,
            "grid_template_rows": null,
            "height": null,
            "justify_content": null,
            "justify_items": null,
            "left": null,
            "margin": null,
            "max_height": null,
            "max_width": null,
            "min_height": null,
            "min_width": null,
            "object_fit": null,
            "object_position": null,
            "order": null,
            "overflow": null,
            "overflow_x": null,
            "overflow_y": null,
            "padding": null,
            "right": null,
            "top": null,
            "visibility": null,
            "width": null
          }
        },
        "3d116f71c161423ca8a100d3636be033": {
          "model_module": "@jupyter-widgets/controls",
          "model_module_version": "1.5.0",
          "model_name": "ProgressStyleModel",
          "state": {
            "_model_module": "@jupyter-widgets/controls",
            "_model_module_version": "1.5.0",
            "_model_name": "ProgressStyleModel",
            "_view_count": null,
            "_view_module": "@jupyter-widgets/base",
            "_view_module_version": "1.2.0",
            "_view_name": "StyleView",
            "bar_color": null,
            "description_width": ""
          }
        },
        "3d244faea4bb4af7b355b9a8df5bad79": {
          "model_module": "@jupyter-widgets/controls",
          "model_module_version": "1.5.0",
          "model_name": "ProgressStyleModel",
          "state": {
            "_model_module": "@jupyter-widgets/controls",
            "_model_module_version": "1.5.0",
            "_model_name": "ProgressStyleModel",
            "_view_count": null,
            "_view_module": "@jupyter-widgets/base",
            "_view_module_version": "1.2.0",
            "_view_name": "StyleView",
            "bar_color": null,
            "description_width": ""
          }
        },
        "3d98100083c34ce185aadf5aaefedbad": {
          "model_module": "@jupyter-widgets/controls",
          "model_module_version": "1.5.0",
          "model_name": "FloatProgressModel",
          "state": {
            "_dom_classes": [],
            "_model_module": "@jupyter-widgets/controls",
            "_model_module_version": "1.5.0",
            "_model_name": "FloatProgressModel",
            "_view_count": null,
            "_view_module": "@jupyter-widgets/controls",
            "_view_module_version": "1.5.0",
            "_view_name": "ProgressView",
            "bar_style": "",
            "description": "",
            "description_tooltip": null,
            "layout": "IPY_MODEL_7ed4aa9e5cdf4ef4ae9d12f3e4d12a2b",
            "max": 1,
            "min": 0,
            "orientation": "horizontal",
            "style": "IPY_MODEL_cd6783e3d0544f53a1c0f19e40e29631",
            "value": 1
          }
        },
        "3fe328b1103947898fc81166efcf7bd4": {
          "model_module": "@jupyter-widgets/base",
          "model_module_version": "1.2.0",
          "model_name": "LayoutModel",
          "state": {
            "_model_module": "@jupyter-widgets/base",
            "_model_module_version": "1.2.0",
            "_model_name": "LayoutModel",
            "_view_count": null,
            "_view_module": "@jupyter-widgets/base",
            "_view_module_version": "1.2.0",
            "_view_name": "LayoutView",
            "align_content": null,
            "align_items": null,
            "align_self": null,
            "border": null,
            "bottom": null,
            "display": null,
            "flex": null,
            "flex_flow": null,
            "grid_area": null,
            "grid_auto_columns": null,
            "grid_auto_flow": null,
            "grid_auto_rows": null,
            "grid_column": null,
            "grid_gap": null,
            "grid_row": null,
            "grid_template_areas": null,
            "grid_template_columns": null,
            "grid_template_rows": null,
            "height": null,
            "justify_content": null,
            "justify_items": null,
            "left": null,
            "margin": null,
            "max_height": null,
            "max_width": null,
            "min_height": null,
            "min_width": null,
            "object_fit": null,
            "object_position": null,
            "order": null,
            "overflow": null,
            "overflow_x": null,
            "overflow_y": null,
            "padding": null,
            "right": null,
            "top": null,
            "visibility": null,
            "width": null
          }
        },
        "40b3af9dd0434079837ab37f74e291be": {
          "model_module": "@jupyter-widgets/controls",
          "model_module_version": "1.5.0",
          "model_name": "DescriptionStyleModel",
          "state": {
            "_model_module": "@jupyter-widgets/controls",
            "_model_module_version": "1.5.0",
            "_model_name": "DescriptionStyleModel",
            "_view_count": null,
            "_view_module": "@jupyter-widgets/base",
            "_view_module_version": "1.2.0",
            "_view_name": "StyleView",
            "description_width": ""
          }
        },
        "444cc2eb9ce949dfb5f6dd727a1eaf26": {
          "model_module": "@jupyter-widgets/controls",
          "model_module_version": "1.5.0",
          "model_name": "LabelModel",
          "state": {
            "_dom_classes": [],
            "_model_module": "@jupyter-widgets/controls",
            "_model_module_version": "1.5.0",
            "_model_name": "LabelModel",
            "_view_count": null,
            "_view_module": "@jupyter-widgets/controls",
            "_view_module_version": "1.5.0",
            "_view_name": "LabelView",
            "description": "",
            "description_tooltip": null,
            "layout": "IPY_MODEL_7ee292fdd6f14d91a82f90e958829144",
            "placeholder": "​",
            "style": "IPY_MODEL_e2ac69530bae498abb536e59c93f6d4d",
            "value": " 0.01MB of 0.01MB uploaded (0.00MB deduped)\r"
          }
        },
        "49289ad2f7a642f5861bfcd8887bdd1a": {
          "model_module": "@jupyter-widgets/controls",
          "model_module_version": "1.5.0",
          "model_name": "ProgressStyleModel",
          "state": {
            "_model_module": "@jupyter-widgets/controls",
            "_model_module_version": "1.5.0",
            "_model_name": "ProgressStyleModel",
            "_view_count": null,
            "_view_module": "@jupyter-widgets/base",
            "_view_module_version": "1.2.0",
            "_view_name": "StyleView",
            "bar_color": null,
            "description_width": ""
          }
        },
        "4a8946fe5b42483dbd7998a757db9aa0": {
          "model_module": "@jupyter-widgets/base",
          "model_module_version": "1.2.0",
          "model_name": "LayoutModel",
          "state": {
            "_model_module": "@jupyter-widgets/base",
            "_model_module_version": "1.2.0",
            "_model_name": "LayoutModel",
            "_view_count": null,
            "_view_module": "@jupyter-widgets/base",
            "_view_module_version": "1.2.0",
            "_view_name": "LayoutView",
            "align_content": null,
            "align_items": null,
            "align_self": null,
            "border": null,
            "bottom": null,
            "display": null,
            "flex": null,
            "flex_flow": null,
            "grid_area": null,
            "grid_auto_columns": null,
            "grid_auto_flow": null,
            "grid_auto_rows": null,
            "grid_column": null,
            "grid_gap": null,
            "grid_row": null,
            "grid_template_areas": null,
            "grid_template_columns": null,
            "grid_template_rows": null,
            "height": null,
            "justify_content": null,
            "justify_items": null,
            "left": null,
            "margin": null,
            "max_height": null,
            "max_width": null,
            "min_height": null,
            "min_width": null,
            "object_fit": null,
            "object_position": null,
            "order": null,
            "overflow": null,
            "overflow_x": null,
            "overflow_y": null,
            "padding": null,
            "right": null,
            "top": null,
            "visibility": null,
            "width": null
          }
        },
        "4fe8aca355414919a8ccfabafea4ba05": {
          "model_module": "@jupyter-widgets/controls",
          "model_module_version": "1.5.0",
          "model_name": "LabelModel",
          "state": {
            "_dom_classes": [],
            "_model_module": "@jupyter-widgets/controls",
            "_model_module_version": "1.5.0",
            "_model_name": "LabelModel",
            "_view_count": null,
            "_view_module": "@jupyter-widgets/controls",
            "_view_module_version": "1.5.0",
            "_view_name": "LabelView",
            "description": "",
            "description_tooltip": null,
            "layout": "IPY_MODEL_9566d64e40334be985d0df7715ccd286",
            "placeholder": "​",
            "style": "IPY_MODEL_f29d00f4c0e742e3815e919d2345922c",
            "value": " 0.01MB of 0.01MB uploaded (0.00MB deduped)\r"
          }
        },
        "50d682d3549d41168a06a2828c15b813": {
          "model_module": "@jupyter-widgets/controls",
          "model_module_version": "1.5.0",
          "model_name": "LabelModel",
          "state": {
            "_dom_classes": [],
            "_model_module": "@jupyter-widgets/controls",
            "_model_module_version": "1.5.0",
            "_model_name": "LabelModel",
            "_view_count": null,
            "_view_module": "@jupyter-widgets/controls",
            "_view_module_version": "1.5.0",
            "_view_name": "LabelView",
            "description": "",
            "description_tooltip": null,
            "layout": "IPY_MODEL_ffbb671f5925434580ac41217f1e3a00",
            "placeholder": "​",
            "style": "IPY_MODEL_40b3af9dd0434079837ab37f74e291be",
            "value": " 0.01MB of 0.01MB uploaded (0.00MB deduped)\r"
          }
        },
        "5583764318104cdf909f7154989e1bc9": {
          "model_module": "@jupyter-widgets/controls",
          "model_module_version": "1.5.0",
          "model_name": "VBoxModel",
          "state": {
            "_dom_classes": [],
            "_model_module": "@jupyter-widgets/controls",
            "_model_module_version": "1.5.0",
            "_model_name": "VBoxModel",
            "_view_count": null,
            "_view_module": "@jupyter-widgets/controls",
            "_view_module_version": "1.5.0",
            "_view_name": "VBoxView",
            "box_style": "",
            "children": [
              "IPY_MODEL_50d682d3549d41168a06a2828c15b813",
              "IPY_MODEL_b8237753ebc94e5096ba3d30c71f7f05"
            ],
            "layout": "IPY_MODEL_ec374db94c754873b12fb2b2f0b77d87"
          }
        },
        "55cbaf68ba68484fbff050514af5194e": {
          "model_module": "@jupyter-widgets/controls",
          "model_module_version": "1.5.0",
          "model_name": "ProgressStyleModel",
          "state": {
            "_model_module": "@jupyter-widgets/controls",
            "_model_module_version": "1.5.0",
            "_model_name": "ProgressStyleModel",
            "_view_count": null,
            "_view_module": "@jupyter-widgets/base",
            "_view_module_version": "1.2.0",
            "_view_name": "StyleView",
            "bar_color": null,
            "description_width": ""
          }
        },
        "57ad78cb67214c1ba560e3fe662f34f4": {
          "model_module": "@jupyter-widgets/base",
          "model_module_version": "1.2.0",
          "model_name": "LayoutModel",
          "state": {
            "_model_module": "@jupyter-widgets/base",
            "_model_module_version": "1.2.0",
            "_model_name": "LayoutModel",
            "_view_count": null,
            "_view_module": "@jupyter-widgets/base",
            "_view_module_version": "1.2.0",
            "_view_name": "LayoutView",
            "align_content": null,
            "align_items": null,
            "align_self": null,
            "border": null,
            "bottom": null,
            "display": null,
            "flex": null,
            "flex_flow": null,
            "grid_area": null,
            "grid_auto_columns": null,
            "grid_auto_flow": null,
            "grid_auto_rows": null,
            "grid_column": null,
            "grid_gap": null,
            "grid_row": null,
            "grid_template_areas": null,
            "grid_template_columns": null,
            "grid_template_rows": null,
            "height": null,
            "justify_content": null,
            "justify_items": null,
            "left": null,
            "margin": null,
            "max_height": null,
            "max_width": null,
            "min_height": null,
            "min_width": null,
            "object_fit": null,
            "object_position": null,
            "order": null,
            "overflow": null,
            "overflow_x": null,
            "overflow_y": null,
            "padding": null,
            "right": null,
            "top": null,
            "visibility": null,
            "width": null
          }
        },
        "57d9249d594746bc8f06039b0a7c9258": {
          "model_module": "@jupyter-widgets/controls",
          "model_module_version": "1.5.0",
          "model_name": "DescriptionStyleModel",
          "state": {
            "_model_module": "@jupyter-widgets/controls",
            "_model_module_version": "1.5.0",
            "_model_name": "DescriptionStyleModel",
            "_view_count": null,
            "_view_module": "@jupyter-widgets/base",
            "_view_module_version": "1.2.0",
            "_view_name": "StyleView",
            "description_width": ""
          }
        },
        "5a446bf6b79a4a6e922785a1d5bd1453": {
          "model_module": "@jupyter-widgets/base",
          "model_module_version": "1.2.0",
          "model_name": "LayoutModel",
          "state": {
            "_model_module": "@jupyter-widgets/base",
            "_model_module_version": "1.2.0",
            "_model_name": "LayoutModel",
            "_view_count": null,
            "_view_module": "@jupyter-widgets/base",
            "_view_module_version": "1.2.0",
            "_view_name": "LayoutView",
            "align_content": null,
            "align_items": null,
            "align_self": null,
            "border": null,
            "bottom": null,
            "display": null,
            "flex": null,
            "flex_flow": null,
            "grid_area": null,
            "grid_auto_columns": null,
            "grid_auto_flow": null,
            "grid_auto_rows": null,
            "grid_column": null,
            "grid_gap": null,
            "grid_row": null,
            "grid_template_areas": null,
            "grid_template_columns": null,
            "grid_template_rows": null,
            "height": null,
            "justify_content": null,
            "justify_items": null,
            "left": null,
            "margin": null,
            "max_height": null,
            "max_width": null,
            "min_height": null,
            "min_width": null,
            "object_fit": null,
            "object_position": null,
            "order": null,
            "overflow": null,
            "overflow_x": null,
            "overflow_y": null,
            "padding": null,
            "right": null,
            "top": null,
            "visibility": null,
            "width": null
          }
        },
        "5aa3798c315e4617ad44e443b5bb9bd8": {
          "model_module": "@jupyter-widgets/controls",
          "model_module_version": "1.5.0",
          "model_name": "LabelModel",
          "state": {
            "_dom_classes": [],
            "_model_module": "@jupyter-widgets/controls",
            "_model_module_version": "1.5.0",
            "_model_name": "LabelModel",
            "_view_count": null,
            "_view_module": "@jupyter-widgets/controls",
            "_view_module_version": "1.5.0",
            "_view_name": "LabelView",
            "description": "",
            "description_tooltip": null,
            "layout": "IPY_MODEL_ace0f5af5e874eefbdffe3641be46a5e",
            "placeholder": "​",
            "style": "IPY_MODEL_b66a302c71bc45018694a65b998c8cd7",
            "value": " 0.01MB of 0.01MB uploaded (0.00MB deduped)\r"
          }
        },
        "5d0190b9828446ae9ef2acdf0f798997": {
          "model_module": "@jupyter-widgets/controls",
          "model_module_version": "1.5.0",
          "model_name": "ProgressStyleModel",
          "state": {
            "_model_module": "@jupyter-widgets/controls",
            "_model_module_version": "1.5.0",
            "_model_name": "ProgressStyleModel",
            "_view_count": null,
            "_view_module": "@jupyter-widgets/base",
            "_view_module_version": "1.2.0",
            "_view_name": "StyleView",
            "bar_color": null,
            "description_width": ""
          }
        },
        "5d8a57a49fd749ee9381676ffd4ffd33": {
          "model_module": "@jupyter-widgets/controls",
          "model_module_version": "1.5.0",
          "model_name": "LabelModel",
          "state": {
            "_dom_classes": [],
            "_model_module": "@jupyter-widgets/controls",
            "_model_module_version": "1.5.0",
            "_model_name": "LabelModel",
            "_view_count": null,
            "_view_module": "@jupyter-widgets/controls",
            "_view_module_version": "1.5.0",
            "_view_name": "LabelView",
            "description": "",
            "description_tooltip": null,
            "layout": "IPY_MODEL_4a8946fe5b42483dbd7998a757db9aa0",
            "placeholder": "​",
            "style": "IPY_MODEL_57d9249d594746bc8f06039b0a7c9258",
            "value": " 0.01MB of 0.01MB uploaded (0.00MB deduped)\r"
          }
        },
        "604d85e2b44b47389c1d14fd45235ebd": {
          "model_module": "@jupyter-widgets/controls",
          "model_module_version": "1.5.0",
          "model_name": "VBoxModel",
          "state": {
            "_dom_classes": [],
            "_model_module": "@jupyter-widgets/controls",
            "_model_module_version": "1.5.0",
            "_model_name": "VBoxModel",
            "_view_count": null,
            "_view_module": "@jupyter-widgets/controls",
            "_view_module_version": "1.5.0",
            "_view_name": "VBoxView",
            "box_style": "",
            "children": [
              "IPY_MODEL_ad6ef06441244ac9aab50d6ee3fe0481",
              "IPY_MODEL_19cdfdb2af9f4ca581908d96dedab4b3"
            ],
            "layout": "IPY_MODEL_57ad78cb67214c1ba560e3fe662f34f4"
          }
        },
        "61e2dafb943d4e0b84f066c091c0893f": {
          "model_module": "@jupyter-widgets/base",
          "model_module_version": "1.2.0",
          "model_name": "LayoutModel",
          "state": {
            "_model_module": "@jupyter-widgets/base",
            "_model_module_version": "1.2.0",
            "_model_name": "LayoutModel",
            "_view_count": null,
            "_view_module": "@jupyter-widgets/base",
            "_view_module_version": "1.2.0",
            "_view_name": "LayoutView",
            "align_content": null,
            "align_items": null,
            "align_self": null,
            "border": null,
            "bottom": null,
            "display": null,
            "flex": null,
            "flex_flow": null,
            "grid_area": null,
            "grid_auto_columns": null,
            "grid_auto_flow": null,
            "grid_auto_rows": null,
            "grid_column": null,
            "grid_gap": null,
            "grid_row": null,
            "grid_template_areas": null,
            "grid_template_columns": null,
            "grid_template_rows": null,
            "height": null,
            "justify_content": null,
            "justify_items": null,
            "left": null,
            "margin": null,
            "max_height": null,
            "max_width": null,
            "min_height": null,
            "min_width": null,
            "object_fit": null,
            "object_position": null,
            "order": null,
            "overflow": null,
            "overflow_x": null,
            "overflow_y": null,
            "padding": null,
            "right": null,
            "top": null,
            "visibility": null,
            "width": null
          }
        },
        "646ffb4ffdae4f2e84d1bda295ac218c": {
          "model_module": "@jupyter-widgets/controls",
          "model_module_version": "1.5.0",
          "model_name": "VBoxModel",
          "state": {
            "_dom_classes": [],
            "_model_module": "@jupyter-widgets/controls",
            "_model_module_version": "1.5.0",
            "_model_name": "VBoxModel",
            "_view_count": null,
            "_view_module": "@jupyter-widgets/controls",
            "_view_module_version": "1.5.0",
            "_view_name": "VBoxView",
            "box_style": "",
            "children": [
              "IPY_MODEL_444cc2eb9ce949dfb5f6dd727a1eaf26",
              "IPY_MODEL_7e75bb6e7a91458f99f85093f15f5926"
            ],
            "layout": "IPY_MODEL_d87fbbfad60c41a6b0ffdfda5f4ef12b"
          }
        },
        "6bc7064c5b604edfb455f46277cb7ad8": {
          "model_module": "@jupyter-widgets/base",
          "model_module_version": "1.2.0",
          "model_name": "LayoutModel",
          "state": {
            "_model_module": "@jupyter-widgets/base",
            "_model_module_version": "1.2.0",
            "_model_name": "LayoutModel",
            "_view_count": null,
            "_view_module": "@jupyter-widgets/base",
            "_view_module_version": "1.2.0",
            "_view_name": "LayoutView",
            "align_content": null,
            "align_items": null,
            "align_self": null,
            "border": null,
            "bottom": null,
            "display": null,
            "flex": null,
            "flex_flow": null,
            "grid_area": null,
            "grid_auto_columns": null,
            "grid_auto_flow": null,
            "grid_auto_rows": null,
            "grid_column": null,
            "grid_gap": null,
            "grid_row": null,
            "grid_template_areas": null,
            "grid_template_columns": null,
            "grid_template_rows": null,
            "height": null,
            "justify_content": null,
            "justify_items": null,
            "left": null,
            "margin": null,
            "max_height": null,
            "max_width": null,
            "min_height": null,
            "min_width": null,
            "object_fit": null,
            "object_position": null,
            "order": null,
            "overflow": null,
            "overflow_x": null,
            "overflow_y": null,
            "padding": null,
            "right": null,
            "top": null,
            "visibility": null,
            "width": null
          }
        },
        "732fbb49d7434581a547291a14a72263": {
          "model_module": "@jupyter-widgets/base",
          "model_module_version": "1.2.0",
          "model_name": "LayoutModel",
          "state": {
            "_model_module": "@jupyter-widgets/base",
            "_model_module_version": "1.2.0",
            "_model_name": "LayoutModel",
            "_view_count": null,
            "_view_module": "@jupyter-widgets/base",
            "_view_module_version": "1.2.0",
            "_view_name": "LayoutView",
            "align_content": null,
            "align_items": null,
            "align_self": null,
            "border": null,
            "bottom": null,
            "display": null,
            "flex": null,
            "flex_flow": null,
            "grid_area": null,
            "grid_auto_columns": null,
            "grid_auto_flow": null,
            "grid_auto_rows": null,
            "grid_column": null,
            "grid_gap": null,
            "grid_row": null,
            "grid_template_areas": null,
            "grid_template_columns": null,
            "grid_template_rows": null,
            "height": null,
            "justify_content": null,
            "justify_items": null,
            "left": null,
            "margin": null,
            "max_height": null,
            "max_width": null,
            "min_height": null,
            "min_width": null,
            "object_fit": null,
            "object_position": null,
            "order": null,
            "overflow": null,
            "overflow_x": null,
            "overflow_y": null,
            "padding": null,
            "right": null,
            "top": null,
            "visibility": null,
            "width": null
          }
        },
        "7b659f180aec4237be0119d6eb5a3121": {
          "model_module": "@jupyter-widgets/base",
          "model_module_version": "1.2.0",
          "model_name": "LayoutModel",
          "state": {
            "_model_module": "@jupyter-widgets/base",
            "_model_module_version": "1.2.0",
            "_model_name": "LayoutModel",
            "_view_count": null,
            "_view_module": "@jupyter-widgets/base",
            "_view_module_version": "1.2.0",
            "_view_name": "LayoutView",
            "align_content": null,
            "align_items": null,
            "align_self": null,
            "border": null,
            "bottom": null,
            "display": null,
            "flex": null,
            "flex_flow": null,
            "grid_area": null,
            "grid_auto_columns": null,
            "grid_auto_flow": null,
            "grid_auto_rows": null,
            "grid_column": null,
            "grid_gap": null,
            "grid_row": null,
            "grid_template_areas": null,
            "grid_template_columns": null,
            "grid_template_rows": null,
            "height": null,
            "justify_content": null,
            "justify_items": null,
            "left": null,
            "margin": null,
            "max_height": null,
            "max_width": null,
            "min_height": null,
            "min_width": null,
            "object_fit": null,
            "object_position": null,
            "order": null,
            "overflow": null,
            "overflow_x": null,
            "overflow_y": null,
            "padding": null,
            "right": null,
            "top": null,
            "visibility": null,
            "width": null
          }
        },
        "7bc8cd912be141b689fecb21e20ded99": {
          "model_module": "@jupyter-widgets/base",
          "model_module_version": "1.2.0",
          "model_name": "LayoutModel",
          "state": {
            "_model_module": "@jupyter-widgets/base",
            "_model_module_version": "1.2.0",
            "_model_name": "LayoutModel",
            "_view_count": null,
            "_view_module": "@jupyter-widgets/base",
            "_view_module_version": "1.2.0",
            "_view_name": "LayoutView",
            "align_content": null,
            "align_items": null,
            "align_self": null,
            "border": null,
            "bottom": null,
            "display": null,
            "flex": null,
            "flex_flow": null,
            "grid_area": null,
            "grid_auto_columns": null,
            "grid_auto_flow": null,
            "grid_auto_rows": null,
            "grid_column": null,
            "grid_gap": null,
            "grid_row": null,
            "grid_template_areas": null,
            "grid_template_columns": null,
            "grid_template_rows": null,
            "height": null,
            "justify_content": null,
            "justify_items": null,
            "left": null,
            "margin": null,
            "max_height": null,
            "max_width": null,
            "min_height": null,
            "min_width": null,
            "object_fit": null,
            "object_position": null,
            "order": null,
            "overflow": null,
            "overflow_x": null,
            "overflow_y": null,
            "padding": null,
            "right": null,
            "top": null,
            "visibility": null,
            "width": null
          }
        },
        "7c7e7754a4c54286b84563c1a732a13a": {
          "model_module": "@jupyter-widgets/controls",
          "model_module_version": "1.5.0",
          "model_name": "ProgressStyleModel",
          "state": {
            "_model_module": "@jupyter-widgets/controls",
            "_model_module_version": "1.5.0",
            "_model_name": "ProgressStyleModel",
            "_view_count": null,
            "_view_module": "@jupyter-widgets/base",
            "_view_module_version": "1.2.0",
            "_view_name": "StyleView",
            "bar_color": null,
            "description_width": ""
          }
        },
        "7dd99b46dec84740a6014998d33d49d0": {
          "model_module": "@jupyter-widgets/controls",
          "model_module_version": "1.5.0",
          "model_name": "VBoxModel",
          "state": {
            "_dom_classes": [],
            "_model_module": "@jupyter-widgets/controls",
            "_model_module_version": "1.5.0",
            "_model_name": "VBoxModel",
            "_view_count": null,
            "_view_module": "@jupyter-widgets/controls",
            "_view_module_version": "1.5.0",
            "_view_name": "VBoxView",
            "box_style": "",
            "children": [
              "IPY_MODEL_5aa3798c315e4617ad44e443b5bb9bd8",
              "IPY_MODEL_3d98100083c34ce185aadf5aaefedbad"
            ],
            "layout": "IPY_MODEL_ee2817e1afd445558a1bcc1d95e02998"
          }
        },
        "7e75bb6e7a91458f99f85093f15f5926": {
          "model_module": "@jupyter-widgets/controls",
          "model_module_version": "1.5.0",
          "model_name": "FloatProgressModel",
          "state": {
            "_dom_classes": [],
            "_model_module": "@jupyter-widgets/controls",
            "_model_module_version": "1.5.0",
            "_model_name": "FloatProgressModel",
            "_view_count": null,
            "_view_module": "@jupyter-widgets/controls",
            "_view_module_version": "1.5.0",
            "_view_name": "ProgressView",
            "bar_style": "",
            "description": "",
            "description_tooltip": null,
            "layout": "IPY_MODEL_732fbb49d7434581a547291a14a72263",
            "max": 1,
            "min": 0,
            "orientation": "horizontal",
            "style": "IPY_MODEL_c5e9e2c66e414c3ea57864b0a24be9d5",
            "value": 1
          }
        },
        "7ed4aa9e5cdf4ef4ae9d12f3e4d12a2b": {
          "model_module": "@jupyter-widgets/base",
          "model_module_version": "1.2.0",
          "model_name": "LayoutModel",
          "state": {
            "_model_module": "@jupyter-widgets/base",
            "_model_module_version": "1.2.0",
            "_model_name": "LayoutModel",
            "_view_count": null,
            "_view_module": "@jupyter-widgets/base",
            "_view_module_version": "1.2.0",
            "_view_name": "LayoutView",
            "align_content": null,
            "align_items": null,
            "align_self": null,
            "border": null,
            "bottom": null,
            "display": null,
            "flex": null,
            "flex_flow": null,
            "grid_area": null,
            "grid_auto_columns": null,
            "grid_auto_flow": null,
            "grid_auto_rows": null,
            "grid_column": null,
            "grid_gap": null,
            "grid_row": null,
            "grid_template_areas": null,
            "grid_template_columns": null,
            "grid_template_rows": null,
            "height": null,
            "justify_content": null,
            "justify_items": null,
            "left": null,
            "margin": null,
            "max_height": null,
            "max_width": null,
            "min_height": null,
            "min_width": null,
            "object_fit": null,
            "object_position": null,
            "order": null,
            "overflow": null,
            "overflow_x": null,
            "overflow_y": null,
            "padding": null,
            "right": null,
            "top": null,
            "visibility": null,
            "width": null
          }
        },
        "7ee292fdd6f14d91a82f90e958829144": {
          "model_module": "@jupyter-widgets/base",
          "model_module_version": "1.2.0",
          "model_name": "LayoutModel",
          "state": {
            "_model_module": "@jupyter-widgets/base",
            "_model_module_version": "1.2.0",
            "_model_name": "LayoutModel",
            "_view_count": null,
            "_view_module": "@jupyter-widgets/base",
            "_view_module_version": "1.2.0",
            "_view_name": "LayoutView",
            "align_content": null,
            "align_items": null,
            "align_self": null,
            "border": null,
            "bottom": null,
            "display": null,
            "flex": null,
            "flex_flow": null,
            "grid_area": null,
            "grid_auto_columns": null,
            "grid_auto_flow": null,
            "grid_auto_rows": null,
            "grid_column": null,
            "grid_gap": null,
            "grid_row": null,
            "grid_template_areas": null,
            "grid_template_columns": null,
            "grid_template_rows": null,
            "height": null,
            "justify_content": null,
            "justify_items": null,
            "left": null,
            "margin": null,
            "max_height": null,
            "max_width": null,
            "min_height": null,
            "min_width": null,
            "object_fit": null,
            "object_position": null,
            "order": null,
            "overflow": null,
            "overflow_x": null,
            "overflow_y": null,
            "padding": null,
            "right": null,
            "top": null,
            "visibility": null,
            "width": null
          }
        },
        "7f0f75026f0c402ebef5d5b02533805d": {
          "model_module": "@jupyter-widgets/base",
          "model_module_version": "1.2.0",
          "model_name": "LayoutModel",
          "state": {
            "_model_module": "@jupyter-widgets/base",
            "_model_module_version": "1.2.0",
            "_model_name": "LayoutModel",
            "_view_count": null,
            "_view_module": "@jupyter-widgets/base",
            "_view_module_version": "1.2.0",
            "_view_name": "LayoutView",
            "align_content": null,
            "align_items": null,
            "align_self": null,
            "border": null,
            "bottom": null,
            "display": null,
            "flex": null,
            "flex_flow": null,
            "grid_area": null,
            "grid_auto_columns": null,
            "grid_auto_flow": null,
            "grid_auto_rows": null,
            "grid_column": null,
            "grid_gap": null,
            "grid_row": null,
            "grid_template_areas": null,
            "grid_template_columns": null,
            "grid_template_rows": null,
            "height": null,
            "justify_content": null,
            "justify_items": null,
            "left": null,
            "margin": null,
            "max_height": null,
            "max_width": null,
            "min_height": null,
            "min_width": null,
            "object_fit": null,
            "object_position": null,
            "order": null,
            "overflow": null,
            "overflow_x": null,
            "overflow_y": null,
            "padding": null,
            "right": null,
            "top": null,
            "visibility": null,
            "width": null
          }
        },
        "7fb3549d8ae8489498a649743f9339ea": {
          "model_module": "@jupyter-widgets/controls",
          "model_module_version": "1.5.0",
          "model_name": "ProgressStyleModel",
          "state": {
            "_model_module": "@jupyter-widgets/controls",
            "_model_module_version": "1.5.0",
            "_model_name": "ProgressStyleModel",
            "_view_count": null,
            "_view_module": "@jupyter-widgets/base",
            "_view_module_version": "1.2.0",
            "_view_name": "StyleView",
            "bar_color": null,
            "description_width": ""
          }
        },
        "80124d0ef28c418b941c49ffccf8c466": {
          "model_module": "@jupyter-widgets/controls",
          "model_module_version": "1.5.0",
          "model_name": "DescriptionStyleModel",
          "state": {
            "_model_module": "@jupyter-widgets/controls",
            "_model_module_version": "1.5.0",
            "_model_name": "DescriptionStyleModel",
            "_view_count": null,
            "_view_module": "@jupyter-widgets/base",
            "_view_module_version": "1.2.0",
            "_view_name": "StyleView",
            "description_width": ""
          }
        },
        "80929385513a47a2bb34d4f2c3fa13b8": {
          "model_module": "@jupyter-widgets/controls",
          "model_module_version": "1.5.0",
          "model_name": "DescriptionStyleModel",
          "state": {
            "_model_module": "@jupyter-widgets/controls",
            "_model_module_version": "1.5.0",
            "_model_name": "DescriptionStyleModel",
            "_view_count": null,
            "_view_module": "@jupyter-widgets/base",
            "_view_module_version": "1.2.0",
            "_view_name": "StyleView",
            "description_width": ""
          }
        },
        "85b33fa567a649949cfff68061e73aef": {
          "model_module": "@jupyter-widgets/controls",
          "model_module_version": "1.5.0",
          "model_name": "DescriptionStyleModel",
          "state": {
            "_model_module": "@jupyter-widgets/controls",
            "_model_module_version": "1.5.0",
            "_model_name": "DescriptionStyleModel",
            "_view_count": null,
            "_view_module": "@jupyter-widgets/base",
            "_view_module_version": "1.2.0",
            "_view_name": "StyleView",
            "description_width": ""
          }
        },
        "8e058e40c0d24b59b54c17d512e934f3": {
          "model_module": "@jupyter-widgets/controls",
          "model_module_version": "1.5.0",
          "model_name": "VBoxModel",
          "state": {
            "_dom_classes": [],
            "_model_module": "@jupyter-widgets/controls",
            "_model_module_version": "1.5.0",
            "_model_name": "VBoxModel",
            "_view_count": null,
            "_view_module": "@jupyter-widgets/controls",
            "_view_module_version": "1.5.0",
            "_view_name": "VBoxView",
            "box_style": "",
            "children": [
              "IPY_MODEL_5d8a57a49fd749ee9381676ffd4ffd33",
              "IPY_MODEL_a54154098d47412eadd2b1cd9d4ad0c1"
            ],
            "layout": "IPY_MODEL_c2f00ffb28764a60998d693f00a59707"
          }
        },
        "902766760c1e4e0d816534a781e13458": {
          "model_module": "@jupyter-widgets/controls",
          "model_module_version": "1.5.0",
          "model_name": "DescriptionStyleModel",
          "state": {
            "_model_module": "@jupyter-widgets/controls",
            "_model_module_version": "1.5.0",
            "_model_name": "DescriptionStyleModel",
            "_view_count": null,
            "_view_module": "@jupyter-widgets/base",
            "_view_module_version": "1.2.0",
            "_view_name": "StyleView",
            "description_width": ""
          }
        },
        "90fae63fbcbc41f29592ce3812cef5e5": {
          "model_module": "@jupyter-widgets/base",
          "model_module_version": "1.2.0",
          "model_name": "LayoutModel",
          "state": {
            "_model_module": "@jupyter-widgets/base",
            "_model_module_version": "1.2.0",
            "_model_name": "LayoutModel",
            "_view_count": null,
            "_view_module": "@jupyter-widgets/base",
            "_view_module_version": "1.2.0",
            "_view_name": "LayoutView",
            "align_content": null,
            "align_items": null,
            "align_self": null,
            "border": null,
            "bottom": null,
            "display": null,
            "flex": null,
            "flex_flow": null,
            "grid_area": null,
            "grid_auto_columns": null,
            "grid_auto_flow": null,
            "grid_auto_rows": null,
            "grid_column": null,
            "grid_gap": null,
            "grid_row": null,
            "grid_template_areas": null,
            "grid_template_columns": null,
            "grid_template_rows": null,
            "height": null,
            "justify_content": null,
            "justify_items": null,
            "left": null,
            "margin": null,
            "max_height": null,
            "max_width": null,
            "min_height": null,
            "min_width": null,
            "object_fit": null,
            "object_position": null,
            "order": null,
            "overflow": null,
            "overflow_x": null,
            "overflow_y": null,
            "padding": null,
            "right": null,
            "top": null,
            "visibility": null,
            "width": null
          }
        },
        "9103ebbba67e49caa6b9dc60c22c14ec": {
          "model_module": "@jupyter-widgets/controls",
          "model_module_version": "1.5.0",
          "model_name": "DescriptionStyleModel",
          "state": {
            "_model_module": "@jupyter-widgets/controls",
            "_model_module_version": "1.5.0",
            "_model_name": "DescriptionStyleModel",
            "_view_count": null,
            "_view_module": "@jupyter-widgets/base",
            "_view_module_version": "1.2.0",
            "_view_name": "StyleView",
            "description_width": ""
          }
        },
        "91682812ba234cd7aa0c8d4d35e2317c": {
          "model_module": "@jupyter-widgets/controls",
          "model_module_version": "1.5.0",
          "model_name": "FloatProgressModel",
          "state": {
            "_dom_classes": [],
            "_model_module": "@jupyter-widgets/controls",
            "_model_module_version": "1.5.0",
            "_model_name": "FloatProgressModel",
            "_view_count": null,
            "_view_module": "@jupyter-widgets/controls",
            "_view_module_version": "1.5.0",
            "_view_name": "ProgressView",
            "bar_style": "",
            "description": "",
            "description_tooltip": null,
            "layout": "IPY_MODEL_c959b344a40e45c2b4ee073cfe7bebb6",
            "max": 1,
            "min": 0,
            "orientation": "horizontal",
            "style": "IPY_MODEL_49289ad2f7a642f5861bfcd8887bdd1a",
            "value": 1
          }
        },
        "9566d64e40334be985d0df7715ccd286": {
          "model_module": "@jupyter-widgets/base",
          "model_module_version": "1.2.0",
          "model_name": "LayoutModel",
          "state": {
            "_model_module": "@jupyter-widgets/base",
            "_model_module_version": "1.2.0",
            "_model_name": "LayoutModel",
            "_view_count": null,
            "_view_module": "@jupyter-widgets/base",
            "_view_module_version": "1.2.0",
            "_view_name": "LayoutView",
            "align_content": null,
            "align_items": null,
            "align_self": null,
            "border": null,
            "bottom": null,
            "display": null,
            "flex": null,
            "flex_flow": null,
            "grid_area": null,
            "grid_auto_columns": null,
            "grid_auto_flow": null,
            "grid_auto_rows": null,
            "grid_column": null,
            "grid_gap": null,
            "grid_row": null,
            "grid_template_areas": null,
            "grid_template_columns": null,
            "grid_template_rows": null,
            "height": null,
            "justify_content": null,
            "justify_items": null,
            "left": null,
            "margin": null,
            "max_height": null,
            "max_width": null,
            "min_height": null,
            "min_width": null,
            "object_fit": null,
            "object_position": null,
            "order": null,
            "overflow": null,
            "overflow_x": null,
            "overflow_y": null,
            "padding": null,
            "right": null,
            "top": null,
            "visibility": null,
            "width": null
          }
        },
        "9aeb0c1ae1c3411b912e2bbc73713c3c": {
          "model_module": "@jupyter-widgets/base",
          "model_module_version": "1.2.0",
          "model_name": "LayoutModel",
          "state": {
            "_model_module": "@jupyter-widgets/base",
            "_model_module_version": "1.2.0",
            "_model_name": "LayoutModel",
            "_view_count": null,
            "_view_module": "@jupyter-widgets/base",
            "_view_module_version": "1.2.0",
            "_view_name": "LayoutView",
            "align_content": null,
            "align_items": null,
            "align_self": null,
            "border": null,
            "bottom": null,
            "display": null,
            "flex": null,
            "flex_flow": null,
            "grid_area": null,
            "grid_auto_columns": null,
            "grid_auto_flow": null,
            "grid_auto_rows": null,
            "grid_column": null,
            "grid_gap": null,
            "grid_row": null,
            "grid_template_areas": null,
            "grid_template_columns": null,
            "grid_template_rows": null,
            "height": null,
            "justify_content": null,
            "justify_items": null,
            "left": null,
            "margin": null,
            "max_height": null,
            "max_width": null,
            "min_height": null,
            "min_width": null,
            "object_fit": null,
            "object_position": null,
            "order": null,
            "overflow": null,
            "overflow_x": null,
            "overflow_y": null,
            "padding": null,
            "right": null,
            "top": null,
            "visibility": null,
            "width": null
          }
        },
        "a54154098d47412eadd2b1cd9d4ad0c1": {
          "model_module": "@jupyter-widgets/controls",
          "model_module_version": "1.5.0",
          "model_name": "FloatProgressModel",
          "state": {
            "_dom_classes": [],
            "_model_module": "@jupyter-widgets/controls",
            "_model_module_version": "1.5.0",
            "_model_name": "FloatProgressModel",
            "_view_count": null,
            "_view_module": "@jupyter-widgets/controls",
            "_view_module_version": "1.5.0",
            "_view_name": "ProgressView",
            "bar_style": "",
            "description": "",
            "description_tooltip": null,
            "layout": "IPY_MODEL_61e2dafb943d4e0b84f066c091c0893f",
            "max": 1,
            "min": 0,
            "orientation": "horizontal",
            "style": "IPY_MODEL_7c7e7754a4c54286b84563c1a732a13a",
            "value": 1
          }
        },
        "ace0f5af5e874eefbdffe3641be46a5e": {
          "model_module": "@jupyter-widgets/base",
          "model_module_version": "1.2.0",
          "model_name": "LayoutModel",
          "state": {
            "_model_module": "@jupyter-widgets/base",
            "_model_module_version": "1.2.0",
            "_model_name": "LayoutModel",
            "_view_count": null,
            "_view_module": "@jupyter-widgets/base",
            "_view_module_version": "1.2.0",
            "_view_name": "LayoutView",
            "align_content": null,
            "align_items": null,
            "align_self": null,
            "border": null,
            "bottom": null,
            "display": null,
            "flex": null,
            "flex_flow": null,
            "grid_area": null,
            "grid_auto_columns": null,
            "grid_auto_flow": null,
            "grid_auto_rows": null,
            "grid_column": null,
            "grid_gap": null,
            "grid_row": null,
            "grid_template_areas": null,
            "grid_template_columns": null,
            "grid_template_rows": null,
            "height": null,
            "justify_content": null,
            "justify_items": null,
            "left": null,
            "margin": null,
            "max_height": null,
            "max_width": null,
            "min_height": null,
            "min_width": null,
            "object_fit": null,
            "object_position": null,
            "order": null,
            "overflow": null,
            "overflow_x": null,
            "overflow_y": null,
            "padding": null,
            "right": null,
            "top": null,
            "visibility": null,
            "width": null
          }
        },
        "ad6ef06441244ac9aab50d6ee3fe0481": {
          "model_module": "@jupyter-widgets/controls",
          "model_module_version": "1.5.0",
          "model_name": "LabelModel",
          "state": {
            "_dom_classes": [],
            "_model_module": "@jupyter-widgets/controls",
            "_model_module_version": "1.5.0",
            "_model_name": "LabelModel",
            "_view_count": null,
            "_view_module": "@jupyter-widgets/controls",
            "_view_module_version": "1.5.0",
            "_view_name": "LabelView",
            "description": "",
            "description_tooltip": null,
            "layout": "IPY_MODEL_387e16d99a074c20a7ccf7839af4f54a",
            "placeholder": "​",
            "style": "IPY_MODEL_902766760c1e4e0d816534a781e13458",
            "value": " 0.01MB of 0.01MB uploaded (0.00MB deduped)\r"
          }
        },
        "b66a302c71bc45018694a65b998c8cd7": {
          "model_module": "@jupyter-widgets/controls",
          "model_module_version": "1.5.0",
          "model_name": "DescriptionStyleModel",
          "state": {
            "_model_module": "@jupyter-widgets/controls",
            "_model_module_version": "1.5.0",
            "_model_name": "DescriptionStyleModel",
            "_view_count": null,
            "_view_module": "@jupyter-widgets/base",
            "_view_module_version": "1.2.0",
            "_view_name": "StyleView",
            "description_width": ""
          }
        },
        "b8237753ebc94e5096ba3d30c71f7f05": {
          "model_module": "@jupyter-widgets/controls",
          "model_module_version": "1.5.0",
          "model_name": "FloatProgressModel",
          "state": {
            "_dom_classes": [],
            "_model_module": "@jupyter-widgets/controls",
            "_model_module_version": "1.5.0",
            "_model_name": "FloatProgressModel",
            "_view_count": null,
            "_view_module": "@jupyter-widgets/controls",
            "_view_module_version": "1.5.0",
            "_view_name": "ProgressView",
            "bar_style": "",
            "description": "",
            "description_tooltip": null,
            "layout": "IPY_MODEL_90fae63fbcbc41f29592ce3812cef5e5",
            "max": 1,
            "min": 0,
            "orientation": "horizontal",
            "style": "IPY_MODEL_32390f0a695e4b79b601725f62826aee",
            "value": 1
          }
        },
        "ba0443de9a8446bb8d2fe5f4e94f3822": {
          "model_module": "@jupyter-widgets/controls",
          "model_module_version": "1.5.0",
          "model_name": "LabelModel",
          "state": {
            "_dom_classes": [],
            "_model_module": "@jupyter-widgets/controls",
            "_model_module_version": "1.5.0",
            "_model_name": "LabelModel",
            "_view_count": null,
            "_view_module": "@jupyter-widgets/controls",
            "_view_module_version": "1.5.0",
            "_view_name": "LabelView",
            "description": "",
            "description_tooltip": null,
            "layout": "IPY_MODEL_1daf0218a3cd478795a1e39aecf0f8d4",
            "placeholder": "​",
            "style": "IPY_MODEL_fe5895f64c144e3e8135240e90a701ae",
            "value": " 0.01MB of 0.01MB uploaded (0.00MB deduped)\r"
          }
        },
        "bad27237c40c4da29fdcd98a11da77c6": {
          "model_module": "@jupyter-widgets/controls",
          "model_module_version": "1.5.0",
          "model_name": "ProgressStyleModel",
          "state": {
            "_model_module": "@jupyter-widgets/controls",
            "_model_module_version": "1.5.0",
            "_model_name": "ProgressStyleModel",
            "_view_count": null,
            "_view_module": "@jupyter-widgets/base",
            "_view_module_version": "1.2.0",
            "_view_name": "StyleView",
            "bar_color": null,
            "description_width": ""
          }
        },
        "bdcbab295dd74f2dad3e2c9f26afe02d": {
          "model_module": "@jupyter-widgets/controls",
          "model_module_version": "1.5.0",
          "model_name": "FloatProgressModel",
          "state": {
            "_dom_classes": [],
            "_model_module": "@jupyter-widgets/controls",
            "_model_module_version": "1.5.0",
            "_model_name": "FloatProgressModel",
            "_view_count": null,
            "_view_module": "@jupyter-widgets/controls",
            "_view_module_version": "1.5.0",
            "_view_name": "ProgressView",
            "bar_style": "",
            "description": "",
            "description_tooltip": null,
            "layout": "IPY_MODEL_ccdaee27a99e4b78b2e2f7e1916a1a04",
            "max": 1,
            "min": 0,
            "orientation": "horizontal",
            "style": "IPY_MODEL_bad27237c40c4da29fdcd98a11da77c6",
            "value": 1
          }
        },
        "c2f00ffb28764a60998d693f00a59707": {
          "model_module": "@jupyter-widgets/base",
          "model_module_version": "1.2.0",
          "model_name": "LayoutModel",
          "state": {
            "_model_module": "@jupyter-widgets/base",
            "_model_module_version": "1.2.0",
            "_model_name": "LayoutModel",
            "_view_count": null,
            "_view_module": "@jupyter-widgets/base",
            "_view_module_version": "1.2.0",
            "_view_name": "LayoutView",
            "align_content": null,
            "align_items": null,
            "align_self": null,
            "border": null,
            "bottom": null,
            "display": null,
            "flex": null,
            "flex_flow": null,
            "grid_area": null,
            "grid_auto_columns": null,
            "grid_auto_flow": null,
            "grid_auto_rows": null,
            "grid_column": null,
            "grid_gap": null,
            "grid_row": null,
            "grid_template_areas": null,
            "grid_template_columns": null,
            "grid_template_rows": null,
            "height": null,
            "justify_content": null,
            "justify_items": null,
            "left": null,
            "margin": null,
            "max_height": null,
            "max_width": null,
            "min_height": null,
            "min_width": null,
            "object_fit": null,
            "object_position": null,
            "order": null,
            "overflow": null,
            "overflow_x": null,
            "overflow_y": null,
            "padding": null,
            "right": null,
            "top": null,
            "visibility": null,
            "width": null
          }
        },
        "c3a090fd38954821b1d976adf5b33771": {
          "model_module": "@jupyter-widgets/controls",
          "model_module_version": "1.5.0",
          "model_name": "LabelModel",
          "state": {
            "_dom_classes": [],
            "_model_module": "@jupyter-widgets/controls",
            "_model_module_version": "1.5.0",
            "_model_name": "LabelModel",
            "_view_count": null,
            "_view_module": "@jupyter-widgets/controls",
            "_view_module_version": "1.5.0",
            "_view_name": "LabelView",
            "description": "",
            "description_tooltip": null,
            "layout": "IPY_MODEL_7f0f75026f0c402ebef5d5b02533805d",
            "placeholder": "​",
            "style": "IPY_MODEL_1861f716b6584dfab2b6a23ca9b5ae89",
            "value": " 0.01MB of 0.01MB uploaded (0.00MB deduped)\r"
          }
        },
        "c422926308764ba8a1407272fce06549": {
          "model_module": "@jupyter-widgets/base",
          "model_module_version": "1.2.0",
          "model_name": "LayoutModel",
          "state": {
            "_model_module": "@jupyter-widgets/base",
            "_model_module_version": "1.2.0",
            "_model_name": "LayoutModel",
            "_view_count": null,
            "_view_module": "@jupyter-widgets/base",
            "_view_module_version": "1.2.0",
            "_view_name": "LayoutView",
            "align_content": null,
            "align_items": null,
            "align_self": null,
            "border": null,
            "bottom": null,
            "display": null,
            "flex": null,
            "flex_flow": null,
            "grid_area": null,
            "grid_auto_columns": null,
            "grid_auto_flow": null,
            "grid_auto_rows": null,
            "grid_column": null,
            "grid_gap": null,
            "grid_row": null,
            "grid_template_areas": null,
            "grid_template_columns": null,
            "grid_template_rows": null,
            "height": null,
            "justify_content": null,
            "justify_items": null,
            "left": null,
            "margin": null,
            "max_height": null,
            "max_width": null,
            "min_height": null,
            "min_width": null,
            "object_fit": null,
            "object_position": null,
            "order": null,
            "overflow": null,
            "overflow_x": null,
            "overflow_y": null,
            "padding": null,
            "right": null,
            "top": null,
            "visibility": null,
            "width": null
          }
        },
        "c5e9e2c66e414c3ea57864b0a24be9d5": {
          "model_module": "@jupyter-widgets/controls",
          "model_module_version": "1.5.0",
          "model_name": "ProgressStyleModel",
          "state": {
            "_model_module": "@jupyter-widgets/controls",
            "_model_module_version": "1.5.0",
            "_model_name": "ProgressStyleModel",
            "_view_count": null,
            "_view_module": "@jupyter-widgets/base",
            "_view_module_version": "1.2.0",
            "_view_name": "StyleView",
            "bar_color": null,
            "description_width": ""
          }
        },
        "c959b344a40e45c2b4ee073cfe7bebb6": {
          "model_module": "@jupyter-widgets/base",
          "model_module_version": "1.2.0",
          "model_name": "LayoutModel",
          "state": {
            "_model_module": "@jupyter-widgets/base",
            "_model_module_version": "1.2.0",
            "_model_name": "LayoutModel",
            "_view_count": null,
            "_view_module": "@jupyter-widgets/base",
            "_view_module_version": "1.2.0",
            "_view_name": "LayoutView",
            "align_content": null,
            "align_items": null,
            "align_self": null,
            "border": null,
            "bottom": null,
            "display": null,
            "flex": null,
            "flex_flow": null,
            "grid_area": null,
            "grid_auto_columns": null,
            "grid_auto_flow": null,
            "grid_auto_rows": null,
            "grid_column": null,
            "grid_gap": null,
            "grid_row": null,
            "grid_template_areas": null,
            "grid_template_columns": null,
            "grid_template_rows": null,
            "height": null,
            "justify_content": null,
            "justify_items": null,
            "left": null,
            "margin": null,
            "max_height": null,
            "max_width": null,
            "min_height": null,
            "min_width": null,
            "object_fit": null,
            "object_position": null,
            "order": null,
            "overflow": null,
            "overflow_x": null,
            "overflow_y": null,
            "padding": null,
            "right": null,
            "top": null,
            "visibility": null,
            "width": null
          }
        },
        "ccdaee27a99e4b78b2e2f7e1916a1a04": {
          "model_module": "@jupyter-widgets/base",
          "model_module_version": "1.2.0",
          "model_name": "LayoutModel",
          "state": {
            "_model_module": "@jupyter-widgets/base",
            "_model_module_version": "1.2.0",
            "_model_name": "LayoutModel",
            "_view_count": null,
            "_view_module": "@jupyter-widgets/base",
            "_view_module_version": "1.2.0",
            "_view_name": "LayoutView",
            "align_content": null,
            "align_items": null,
            "align_self": null,
            "border": null,
            "bottom": null,
            "display": null,
            "flex": null,
            "flex_flow": null,
            "grid_area": null,
            "grid_auto_columns": null,
            "grid_auto_flow": null,
            "grid_auto_rows": null,
            "grid_column": null,
            "grid_gap": null,
            "grid_row": null,
            "grid_template_areas": null,
            "grid_template_columns": null,
            "grid_template_rows": null,
            "height": null,
            "justify_content": null,
            "justify_items": null,
            "left": null,
            "margin": null,
            "max_height": null,
            "max_width": null,
            "min_height": null,
            "min_width": null,
            "object_fit": null,
            "object_position": null,
            "order": null,
            "overflow": null,
            "overflow_x": null,
            "overflow_y": null,
            "padding": null,
            "right": null,
            "top": null,
            "visibility": null,
            "width": null
          }
        },
        "cd6783e3d0544f53a1c0f19e40e29631": {
          "model_module": "@jupyter-widgets/controls",
          "model_module_version": "1.5.0",
          "model_name": "ProgressStyleModel",
          "state": {
            "_model_module": "@jupyter-widgets/controls",
            "_model_module_version": "1.5.0",
            "_model_name": "ProgressStyleModel",
            "_view_count": null,
            "_view_module": "@jupyter-widgets/base",
            "_view_module_version": "1.2.0",
            "_view_name": "StyleView",
            "bar_color": null,
            "description_width": ""
          }
        },
        "d2a532a5bb4f4250b2cb509e0a0723c0": {
          "model_module": "@jupyter-widgets/controls",
          "model_module_version": "1.5.0",
          "model_name": "VBoxModel",
          "state": {
            "_dom_classes": [],
            "_model_module": "@jupyter-widgets/controls",
            "_model_module_version": "1.5.0",
            "_model_name": "VBoxModel",
            "_view_count": null,
            "_view_module": "@jupyter-widgets/controls",
            "_view_module_version": "1.5.0",
            "_view_name": "VBoxView",
            "box_style": "",
            "children": [
              "IPY_MODEL_2ba20d9875d146fd9d379aee985565fd",
              "IPY_MODEL_de29405de03e4b838db3b7b475a08321"
            ],
            "layout": "IPY_MODEL_f886d16fbce04c1487be5ac7dca1e9b9"
          }
        },
        "d7a655d4b89f4e3f98972ddd094d60a3": {
          "model_module": "@jupyter-widgets/controls",
          "model_module_version": "1.5.0",
          "model_name": "LabelModel",
          "state": {
            "_dom_classes": [],
            "_model_module": "@jupyter-widgets/controls",
            "_model_module_version": "1.5.0",
            "_model_name": "LabelModel",
            "_view_count": null,
            "_view_module": "@jupyter-widgets/controls",
            "_view_module_version": "1.5.0",
            "_view_name": "LabelView",
            "description": "",
            "description_tooltip": null,
            "layout": "IPY_MODEL_9aeb0c1ae1c3411b912e2bbc73713c3c",
            "placeholder": "​",
            "style": "IPY_MODEL_80929385513a47a2bb34d4f2c3fa13b8",
            "value": " 0.01MB of 0.01MB uploaded (0.00MB deduped)\r"
          }
        },
        "d87fbbfad60c41a6b0ffdfda5f4ef12b": {
          "model_module": "@jupyter-widgets/base",
          "model_module_version": "1.2.0",
          "model_name": "LayoutModel",
          "state": {
            "_model_module": "@jupyter-widgets/base",
            "_model_module_version": "1.2.0",
            "_model_name": "LayoutModel",
            "_view_count": null,
            "_view_module": "@jupyter-widgets/base",
            "_view_module_version": "1.2.0",
            "_view_name": "LayoutView",
            "align_content": null,
            "align_items": null,
            "align_self": null,
            "border": null,
            "bottom": null,
            "display": null,
            "flex": null,
            "flex_flow": null,
            "grid_area": null,
            "grid_auto_columns": null,
            "grid_auto_flow": null,
            "grid_auto_rows": null,
            "grid_column": null,
            "grid_gap": null,
            "grid_row": null,
            "grid_template_areas": null,
            "grid_template_columns": null,
            "grid_template_rows": null,
            "height": null,
            "justify_content": null,
            "justify_items": null,
            "left": null,
            "margin": null,
            "max_height": null,
            "max_width": null,
            "min_height": null,
            "min_width": null,
            "object_fit": null,
            "object_position": null,
            "order": null,
            "overflow": null,
            "overflow_x": null,
            "overflow_y": null,
            "padding": null,
            "right": null,
            "top": null,
            "visibility": null,
            "width": null
          }
        },
        "de29405de03e4b838db3b7b475a08321": {
          "model_module": "@jupyter-widgets/controls",
          "model_module_version": "1.5.0",
          "model_name": "FloatProgressModel",
          "state": {
            "_dom_classes": [],
            "_model_module": "@jupyter-widgets/controls",
            "_model_module_version": "1.5.0",
            "_model_name": "FloatProgressModel",
            "_view_count": null,
            "_view_module": "@jupyter-widgets/controls",
            "_view_module_version": "1.5.0",
            "_view_name": "ProgressView",
            "bar_style": "",
            "description": "",
            "description_tooltip": null,
            "layout": "IPY_MODEL_fc1128ebec354fd2bf0076ae54a66d01",
            "max": 1,
            "min": 0,
            "orientation": "horizontal",
            "style": "IPY_MODEL_55cbaf68ba68484fbff050514af5194e",
            "value": 1
          }
        },
        "e18f6a0b9e394a5a9e3dbb2f8db699cd": {
          "model_module": "@jupyter-widgets/controls",
          "model_module_version": "1.5.0",
          "model_name": "DescriptionStyleModel",
          "state": {
            "_model_module": "@jupyter-widgets/controls",
            "_model_module_version": "1.5.0",
            "_model_name": "DescriptionStyleModel",
            "_view_count": null,
            "_view_module": "@jupyter-widgets/base",
            "_view_module_version": "1.2.0",
            "_view_name": "StyleView",
            "description_width": ""
          }
        },
        "e2ac69530bae498abb536e59c93f6d4d": {
          "model_module": "@jupyter-widgets/controls",
          "model_module_version": "1.5.0",
          "model_name": "DescriptionStyleModel",
          "state": {
            "_model_module": "@jupyter-widgets/controls",
            "_model_module_version": "1.5.0",
            "_model_name": "DescriptionStyleModel",
            "_view_count": null,
            "_view_module": "@jupyter-widgets/base",
            "_view_module_version": "1.2.0",
            "_view_name": "StyleView",
            "description_width": ""
          }
        },
        "e3ee5c1dbacf45cd99919a991bdc18bc": {
          "model_module": "@jupyter-widgets/base",
          "model_module_version": "1.2.0",
          "model_name": "LayoutModel",
          "state": {
            "_model_module": "@jupyter-widgets/base",
            "_model_module_version": "1.2.0",
            "_model_name": "LayoutModel",
            "_view_count": null,
            "_view_module": "@jupyter-widgets/base",
            "_view_module_version": "1.2.0",
            "_view_name": "LayoutView",
            "align_content": null,
            "align_items": null,
            "align_self": null,
            "border": null,
            "bottom": null,
            "display": null,
            "flex": null,
            "flex_flow": null,
            "grid_area": null,
            "grid_auto_columns": null,
            "grid_auto_flow": null,
            "grid_auto_rows": null,
            "grid_column": null,
            "grid_gap": null,
            "grid_row": null,
            "grid_template_areas": null,
            "grid_template_columns": null,
            "grid_template_rows": null,
            "height": null,
            "justify_content": null,
            "justify_items": null,
            "left": null,
            "margin": null,
            "max_height": null,
            "max_width": null,
            "min_height": null,
            "min_width": null,
            "object_fit": null,
            "object_position": null,
            "order": null,
            "overflow": null,
            "overflow_x": null,
            "overflow_y": null,
            "padding": null,
            "right": null,
            "top": null,
            "visibility": null,
            "width": null
          }
        },
        "ec374db94c754873b12fb2b2f0b77d87": {
          "model_module": "@jupyter-widgets/base",
          "model_module_version": "1.2.0",
          "model_name": "LayoutModel",
          "state": {
            "_model_module": "@jupyter-widgets/base",
            "_model_module_version": "1.2.0",
            "_model_name": "LayoutModel",
            "_view_count": null,
            "_view_module": "@jupyter-widgets/base",
            "_view_module_version": "1.2.0",
            "_view_name": "LayoutView",
            "align_content": null,
            "align_items": null,
            "align_self": null,
            "border": null,
            "bottom": null,
            "display": null,
            "flex": null,
            "flex_flow": null,
            "grid_area": null,
            "grid_auto_columns": null,
            "grid_auto_flow": null,
            "grid_auto_rows": null,
            "grid_column": null,
            "grid_gap": null,
            "grid_row": null,
            "grid_template_areas": null,
            "grid_template_columns": null,
            "grid_template_rows": null,
            "height": null,
            "justify_content": null,
            "justify_items": null,
            "left": null,
            "margin": null,
            "max_height": null,
            "max_width": null,
            "min_height": null,
            "min_width": null,
            "object_fit": null,
            "object_position": null,
            "order": null,
            "overflow": null,
            "overflow_x": null,
            "overflow_y": null,
            "padding": null,
            "right": null,
            "top": null,
            "visibility": null,
            "width": null
          }
        },
        "ee2817e1afd445558a1bcc1d95e02998": {
          "model_module": "@jupyter-widgets/base",
          "model_module_version": "1.2.0",
          "model_name": "LayoutModel",
          "state": {
            "_model_module": "@jupyter-widgets/base",
            "_model_module_version": "1.2.0",
            "_model_name": "LayoutModel",
            "_view_count": null,
            "_view_module": "@jupyter-widgets/base",
            "_view_module_version": "1.2.0",
            "_view_name": "LayoutView",
            "align_content": null,
            "align_items": null,
            "align_self": null,
            "border": null,
            "bottom": null,
            "display": null,
            "flex": null,
            "flex_flow": null,
            "grid_area": null,
            "grid_auto_columns": null,
            "grid_auto_flow": null,
            "grid_auto_rows": null,
            "grid_column": null,
            "grid_gap": null,
            "grid_row": null,
            "grid_template_areas": null,
            "grid_template_columns": null,
            "grid_template_rows": null,
            "height": null,
            "justify_content": null,
            "justify_items": null,
            "left": null,
            "margin": null,
            "max_height": null,
            "max_width": null,
            "min_height": null,
            "min_width": null,
            "object_fit": null,
            "object_position": null,
            "order": null,
            "overflow": null,
            "overflow_x": null,
            "overflow_y": null,
            "padding": null,
            "right": null,
            "top": null,
            "visibility": null,
            "width": null
          }
        },
        "ee3259e9f7fe49d9a2918e27ceeb09ea": {
          "model_module": "@jupyter-widgets/base",
          "model_module_version": "1.2.0",
          "model_name": "LayoutModel",
          "state": {
            "_model_module": "@jupyter-widgets/base",
            "_model_module_version": "1.2.0",
            "_model_name": "LayoutModel",
            "_view_count": null,
            "_view_module": "@jupyter-widgets/base",
            "_view_module_version": "1.2.0",
            "_view_name": "LayoutView",
            "align_content": null,
            "align_items": null,
            "align_self": null,
            "border": null,
            "bottom": null,
            "display": null,
            "flex": null,
            "flex_flow": null,
            "grid_area": null,
            "grid_auto_columns": null,
            "grid_auto_flow": null,
            "grid_auto_rows": null,
            "grid_column": null,
            "grid_gap": null,
            "grid_row": null,
            "grid_template_areas": null,
            "grid_template_columns": null,
            "grid_template_rows": null,
            "height": null,
            "justify_content": null,
            "justify_items": null,
            "left": null,
            "margin": null,
            "max_height": null,
            "max_width": null,
            "min_height": null,
            "min_width": null,
            "object_fit": null,
            "object_position": null,
            "order": null,
            "overflow": null,
            "overflow_x": null,
            "overflow_y": null,
            "padding": null,
            "right": null,
            "top": null,
            "visibility": null,
            "width": null
          }
        },
        "f1a8916d53e1415883b81f0990fd718f": {
          "model_module": "@jupyter-widgets/controls",
          "model_module_version": "1.5.0",
          "model_name": "VBoxModel",
          "state": {
            "_dom_classes": [],
            "_model_module": "@jupyter-widgets/controls",
            "_model_module_version": "1.5.0",
            "_model_name": "VBoxModel",
            "_view_count": null,
            "_view_module": "@jupyter-widgets/controls",
            "_view_module_version": "1.5.0",
            "_view_name": "VBoxView",
            "box_style": "",
            "children": [
              "IPY_MODEL_c3a090fd38954821b1d976adf5b33771",
              "IPY_MODEL_91682812ba234cd7aa0c8d4d35e2317c"
            ],
            "layout": "IPY_MODEL_3ad927a9b5154754b2e77629d9ec6744"
          }
        },
        "f2159242d97e47f28b960320bab34366": {
          "model_module": "@jupyter-widgets/controls",
          "model_module_version": "1.5.0",
          "model_name": "ProgressStyleModel",
          "state": {
            "_model_module": "@jupyter-widgets/controls",
            "_model_module_version": "1.5.0",
            "_model_name": "ProgressStyleModel",
            "_view_count": null,
            "_view_module": "@jupyter-widgets/base",
            "_view_module_version": "1.2.0",
            "_view_name": "StyleView",
            "bar_color": null,
            "description_width": ""
          }
        },
        "f29d00f4c0e742e3815e919d2345922c": {
          "model_module": "@jupyter-widgets/controls",
          "model_module_version": "1.5.0",
          "model_name": "DescriptionStyleModel",
          "state": {
            "_model_module": "@jupyter-widgets/controls",
            "_model_module_version": "1.5.0",
            "_model_name": "DescriptionStyleModel",
            "_view_count": null,
            "_view_module": "@jupyter-widgets/base",
            "_view_module_version": "1.2.0",
            "_view_name": "StyleView",
            "description_width": ""
          }
        },
        "f336002f118b4dfda4def3319056017f": {
          "model_module": "@jupyter-widgets/base",
          "model_module_version": "1.2.0",
          "model_name": "LayoutModel",
          "state": {
            "_model_module": "@jupyter-widgets/base",
            "_model_module_version": "1.2.0",
            "_model_name": "LayoutModel",
            "_view_count": null,
            "_view_module": "@jupyter-widgets/base",
            "_view_module_version": "1.2.0",
            "_view_name": "LayoutView",
            "align_content": null,
            "align_items": null,
            "align_self": null,
            "border": null,
            "bottom": null,
            "display": null,
            "flex": null,
            "flex_flow": null,
            "grid_area": null,
            "grid_auto_columns": null,
            "grid_auto_flow": null,
            "grid_auto_rows": null,
            "grid_column": null,
            "grid_gap": null,
            "grid_row": null,
            "grid_template_areas": null,
            "grid_template_columns": null,
            "grid_template_rows": null,
            "height": null,
            "justify_content": null,
            "justify_items": null,
            "left": null,
            "margin": null,
            "max_height": null,
            "max_width": null,
            "min_height": null,
            "min_width": null,
            "object_fit": null,
            "object_position": null,
            "order": null,
            "overflow": null,
            "overflow_x": null,
            "overflow_y": null,
            "padding": null,
            "right": null,
            "top": null,
            "visibility": null,
            "width": null
          }
        },
        "f774aab9436f4106969570b3d6837579": {
          "model_module": "@jupyter-widgets/controls",
          "model_module_version": "1.5.0",
          "model_name": "VBoxModel",
          "state": {
            "_dom_classes": [],
            "_model_module": "@jupyter-widgets/controls",
            "_model_module_version": "1.5.0",
            "_model_name": "VBoxModel",
            "_view_count": null,
            "_view_module": "@jupyter-widgets/controls",
            "_view_module_version": "1.5.0",
            "_view_name": "VBoxView",
            "box_style": "",
            "children": [
              "IPY_MODEL_ba0443de9a8446bb8d2fe5f4e94f3822",
              "IPY_MODEL_074d750bd1cb4571a8876604c08b1e9c"
            ],
            "layout": "IPY_MODEL_3fe328b1103947898fc81166efcf7bd4"
          }
        },
        "f886d16fbce04c1487be5ac7dca1e9b9": {
          "model_module": "@jupyter-widgets/base",
          "model_module_version": "1.2.0",
          "model_name": "LayoutModel",
          "state": {
            "_model_module": "@jupyter-widgets/base",
            "_model_module_version": "1.2.0",
            "_model_name": "LayoutModel",
            "_view_count": null,
            "_view_module": "@jupyter-widgets/base",
            "_view_module_version": "1.2.0",
            "_view_name": "LayoutView",
            "align_content": null,
            "align_items": null,
            "align_self": null,
            "border": null,
            "bottom": null,
            "display": null,
            "flex": null,
            "flex_flow": null,
            "grid_area": null,
            "grid_auto_columns": null,
            "grid_auto_flow": null,
            "grid_auto_rows": null,
            "grid_column": null,
            "grid_gap": null,
            "grid_row": null,
            "grid_template_areas": null,
            "grid_template_columns": null,
            "grid_template_rows": null,
            "height": null,
            "justify_content": null,
            "justify_items": null,
            "left": null,
            "margin": null,
            "max_height": null,
            "max_width": null,
            "min_height": null,
            "min_width": null,
            "object_fit": null,
            "object_position": null,
            "order": null,
            "overflow": null,
            "overflow_x": null,
            "overflow_y": null,
            "padding": null,
            "right": null,
            "top": null,
            "visibility": null,
            "width": null
          }
        },
        "f91e3dc106f3492aa4cda959e507daf4": {
          "model_module": "@jupyter-widgets/controls",
          "model_module_version": "1.5.0",
          "model_name": "FloatProgressModel",
          "state": {
            "_dom_classes": [],
            "_model_module": "@jupyter-widgets/controls",
            "_model_module_version": "1.5.0",
            "_model_name": "FloatProgressModel",
            "_view_count": null,
            "_view_module": "@jupyter-widgets/controls",
            "_view_module_version": "1.5.0",
            "_view_name": "ProgressView",
            "bar_style": "",
            "description": "",
            "description_tooltip": null,
            "layout": "IPY_MODEL_fe4e0c9a000f4d08ae93070e5ed7438c",
            "max": 1,
            "min": 0,
            "orientation": "horizontal",
            "style": "IPY_MODEL_f2159242d97e47f28b960320bab34366",
            "value": 1
          }
        },
        "fa69a9da4f36462da21ccadaf7734d0d": {
          "model_module": "@jupyter-widgets/controls",
          "model_module_version": "1.5.0",
          "model_name": "FloatProgressModel",
          "state": {
            "_dom_classes": [],
            "_model_module": "@jupyter-widgets/controls",
            "_model_module_version": "1.5.0",
            "_model_name": "FloatProgressModel",
            "_view_count": null,
            "_view_module": "@jupyter-widgets/controls",
            "_view_module_version": "1.5.0",
            "_view_name": "ProgressView",
            "bar_style": "",
            "description": "",
            "description_tooltip": null,
            "layout": "IPY_MODEL_0fa9bbd2dd01448cb8c13bc6e6ecc4df",
            "max": 1,
            "min": 0,
            "orientation": "horizontal",
            "style": "IPY_MODEL_3d244faea4bb4af7b355b9a8df5bad79",
            "value": 1
          }
        },
        "fc1128ebec354fd2bf0076ae54a66d01": {
          "model_module": "@jupyter-widgets/base",
          "model_module_version": "1.2.0",
          "model_name": "LayoutModel",
          "state": {
            "_model_module": "@jupyter-widgets/base",
            "_model_module_version": "1.2.0",
            "_model_name": "LayoutModel",
            "_view_count": null,
            "_view_module": "@jupyter-widgets/base",
            "_view_module_version": "1.2.0",
            "_view_name": "LayoutView",
            "align_content": null,
            "align_items": null,
            "align_self": null,
            "border": null,
            "bottom": null,
            "display": null,
            "flex": null,
            "flex_flow": null,
            "grid_area": null,
            "grid_auto_columns": null,
            "grid_auto_flow": null,
            "grid_auto_rows": null,
            "grid_column": null,
            "grid_gap": null,
            "grid_row": null,
            "grid_template_areas": null,
            "grid_template_columns": null,
            "grid_template_rows": null,
            "height": null,
            "justify_content": null,
            "justify_items": null,
            "left": null,
            "margin": null,
            "max_height": null,
            "max_width": null,
            "min_height": null,
            "min_width": null,
            "object_fit": null,
            "object_position": null,
            "order": null,
            "overflow": null,
            "overflow_x": null,
            "overflow_y": null,
            "padding": null,
            "right": null,
            "top": null,
            "visibility": null,
            "width": null
          }
        },
        "fdfd13a8d09140a48217ec9db34b5fba": {
          "model_module": "@jupyter-widgets/controls",
          "model_module_version": "1.5.0",
          "model_name": "VBoxModel",
          "state": {
            "_dom_classes": [],
            "_model_module": "@jupyter-widgets/controls",
            "_model_module_version": "1.5.0",
            "_model_name": "VBoxModel",
            "_view_count": null,
            "_view_module": "@jupyter-widgets/controls",
            "_view_module_version": "1.5.0",
            "_view_name": "VBoxView",
            "box_style": "",
            "children": [
              "IPY_MODEL_052ef6fcdd3646a79f7e852e42ebdc91",
              "IPY_MODEL_fa69a9da4f36462da21ccadaf7734d0d"
            ],
            "layout": "IPY_MODEL_7b659f180aec4237be0119d6eb5a3121"
          }
        },
        "fe4e0c9a000f4d08ae93070e5ed7438c": {
          "model_module": "@jupyter-widgets/base",
          "model_module_version": "1.2.0",
          "model_name": "LayoutModel",
          "state": {
            "_model_module": "@jupyter-widgets/base",
            "_model_module_version": "1.2.0",
            "_model_name": "LayoutModel",
            "_view_count": null,
            "_view_module": "@jupyter-widgets/base",
            "_view_module_version": "1.2.0",
            "_view_name": "LayoutView",
            "align_content": null,
            "align_items": null,
            "align_self": null,
            "border": null,
            "bottom": null,
            "display": null,
            "flex": null,
            "flex_flow": null,
            "grid_area": null,
            "grid_auto_columns": null,
            "grid_auto_flow": null,
            "grid_auto_rows": null,
            "grid_column": null,
            "grid_gap": null,
            "grid_row": null,
            "grid_template_areas": null,
            "grid_template_columns": null,
            "grid_template_rows": null,
            "height": null,
            "justify_content": null,
            "justify_items": null,
            "left": null,
            "margin": null,
            "max_height": null,
            "max_width": null,
            "min_height": null,
            "min_width": null,
            "object_fit": null,
            "object_position": null,
            "order": null,
            "overflow": null,
            "overflow_x": null,
            "overflow_y": null,
            "padding": null,
            "right": null,
            "top": null,
            "visibility": null,
            "width": null
          }
        },
        "fe5895f64c144e3e8135240e90a701ae": {
          "model_module": "@jupyter-widgets/controls",
          "model_module_version": "1.5.0",
          "model_name": "DescriptionStyleModel",
          "state": {
            "_model_module": "@jupyter-widgets/controls",
            "_model_module_version": "1.5.0",
            "_model_name": "DescriptionStyleModel",
            "_view_count": null,
            "_view_module": "@jupyter-widgets/base",
            "_view_module_version": "1.2.0",
            "_view_name": "StyleView",
            "description_width": ""
          }
        },
        "fe638d70c4af46a8813120b30b1208b6": {
          "model_module": "@jupyter-widgets/base",
          "model_module_version": "1.2.0",
          "model_name": "LayoutModel",
          "state": {
            "_model_module": "@jupyter-widgets/base",
            "_model_module_version": "1.2.0",
            "_model_name": "LayoutModel",
            "_view_count": null,
            "_view_module": "@jupyter-widgets/base",
            "_view_module_version": "1.2.0",
            "_view_name": "LayoutView",
            "align_content": null,
            "align_items": null,
            "align_self": null,
            "border": null,
            "bottom": null,
            "display": null,
            "flex": null,
            "flex_flow": null,
            "grid_area": null,
            "grid_auto_columns": null,
            "grid_auto_flow": null,
            "grid_auto_rows": null,
            "grid_column": null,
            "grid_gap": null,
            "grid_row": null,
            "grid_template_areas": null,
            "grid_template_columns": null,
            "grid_template_rows": null,
            "height": null,
            "justify_content": null,
            "justify_items": null,
            "left": null,
            "margin": null,
            "max_height": null,
            "max_width": null,
            "min_height": null,
            "min_width": null,
            "object_fit": null,
            "object_position": null,
            "order": null,
            "overflow": null,
            "overflow_x": null,
            "overflow_y": null,
            "padding": null,
            "right": null,
            "top": null,
            "visibility": null,
            "width": null
          }
        },
        "ffbb671f5925434580ac41217f1e3a00": {
          "model_module": "@jupyter-widgets/base",
          "model_module_version": "1.2.0",
          "model_name": "LayoutModel",
          "state": {
            "_model_module": "@jupyter-widgets/base",
            "_model_module_version": "1.2.0",
            "_model_name": "LayoutModel",
            "_view_count": null,
            "_view_module": "@jupyter-widgets/base",
            "_view_module_version": "1.2.0",
            "_view_name": "LayoutView",
            "align_content": null,
            "align_items": null,
            "align_self": null,
            "border": null,
            "bottom": null,
            "display": null,
            "flex": null,
            "flex_flow": null,
            "grid_area": null,
            "grid_auto_columns": null,
            "grid_auto_flow": null,
            "grid_auto_rows": null,
            "grid_column": null,
            "grid_gap": null,
            "grid_row": null,
            "grid_template_areas": null,
            "grid_template_columns": null,
            "grid_template_rows": null,
            "height": null,
            "justify_content": null,
            "justify_items": null,
            "left": null,
            "margin": null,
            "max_height": null,
            "max_width": null,
            "min_height": null,
            "min_width": null,
            "object_fit": null,
            "object_position": null,
            "order": null,
            "overflow": null,
            "overflow_x": null,
            "overflow_y": null,
            "padding": null,
            "right": null,
            "top": null,
            "visibility": null,
            "width": null
          }
        }
      }
    }
  },
  "nbformat": 4,
  "nbformat_minor": 0
}